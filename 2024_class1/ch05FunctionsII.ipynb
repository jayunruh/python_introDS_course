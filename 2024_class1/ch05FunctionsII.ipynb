{
 "cells": [
  {
   "cell_type": "code",
   "execution_count": 1,
   "id": "48bc9d6b-de5a-48ec-bb36-8f53291dcf22",
   "metadata": {},
   "outputs": [],
   "source": [
    "from random import randint\n",
    "# Functions are a way to encapsulate parts of a program.\n",
    "# Here, you'll put together everything we've learned so far.\n",
    "\n",
    "# First, define a function that calculates the next number in the Collatz chain.\n",
    "def nextCollatzNumber(initialNum):\n",
    "    \"\"\"Calculates the next Collatz number after initialNum.\n",
    "\n",
    "    The Collatz numbers are given by\n",
    "\n",
    "    next = prev // 2      if prev is even\n",
    "           prev * 3 + 1   if prev is odd\n",
    "    \"\"\"\n",
    "    if (initialNum % 2 == 0):\n",
    "        return initialNum // 2\n",
    "    else:\n",
    "        return (initialNum * 3) + 1\n",
    "\n",
    "# We can now generate the collatz path for 9.\n",
    "def collatz9():\n",
    "    n = 9\n",
    "    pathLength = 0\n",
    "    print(pathLength , n)\n",
    "    while (n != 1):\n",
    "        n = nextCollatzNumber(n)\n",
    "        pathLength = pathLength + 1\n",
    "        print(pathLength, n)\n",
    "    \n",
    "# We could also make that loop a function itself.\n",
    "# This function will calculate the length of the collatz path of n.\n",
    "def collatzPath(n):\n",
    "    \"\"\"How many steps does it take for the Collatz path for n to reach 1?\n",
    "\n",
    "    :param n: The initial number, which must be positive.\n",
    "    :return: An integer giving the number of steps it takes for the Collatz\n",
    "        sequence to reach 1.\n",
    "    \"\"\"\n",
    "    if(n < 1): #A little safety feature: If it's called with n<1,\n",
    "               #safely return without hanging forever. \n",
    "        return -1\n",
    "    pathLength = 0\n",
    "    while (n != 1):\n",
    "        n = nextCollatzNumber(n)\n",
    "        pathLength = pathLength + 1\n",
    "    return pathLength\n"
   ]
  },
  {
   "cell_type": "code",
   "execution_count": 2,
   "id": "8d5ef113-2eed-42ea-9a4b-408b2a954c71",
   "metadata": {},
   "outputs": [
    {
     "name": "stdout",
     "output_type": "stream",
     "text": [
      "The path length of 10 is  6\n"
     ]
    }
   ],
   "source": [
    "print(\"The path length of 10 is \",collatzPath(10))"
   ]
  },
  {
   "cell_type": "code",
   "execution_count": 3,
   "id": "f1334ed5-c5bd-41e0-a147-6e84c12e198b",
   "metadata": {},
   "outputs": [],
   "source": [
    "# Say I want to find the largest number randint(1,10000)\n",
    "# returns when I run it n times.\n",
    "def largestRand(n):\n",
    "    \"\"\"Samples n random numbers from 1 to 10,000 and returns the largest.\"\"\"\n",
    "    largest = 0\n",
    "    for i in range(n):\n",
    "        a = randint(1,10000)\n",
    "        if(a > largest):\n",
    "            largest = a\n",
    "    return largest"
   ]
  },
  {
   "cell_type": "code",
   "execution_count": 4,
   "id": "f1a05a87-6c4a-40d4-aa6a-56eb6c439c47",
   "metadata": {},
   "outputs": [
    {
     "name": "stdout",
     "output_type": "stream",
     "text": [
      "after 100 passes, the largest number returned was  9955\n"
     ]
    }
   ],
   "source": [
    "print(\"after 100 passes, the largest number returned was \",largestRand(100))"
   ]
  },
  {
   "cell_type": "code",
   "execution_count": 5,
   "id": "40000f83-3f75-4ec0-bde7-5d81da77022b",
   "metadata": {},
   "outputs": [],
   "source": [
    "# Fundamentally, functions provide a way to encapsulate one logical chunk of\n",
    "# a program. Consider a function to perform Monte Carlo integration.\n",
    "# (see http://en.wikipedia.org/wiki/Monte_Carlo_integration, we're sampling\n",
    "# a function a bunch of times, and the area under that function is its\n",
    "# average value times the width of the interval.)\n",
    "# There are essentially three components to such a program:\n",
    "# 1. The main controller that operates the other bits and displays output\n",
    "# 2. The integrator that samples the function and determines the area under it.\n",
    "# 3. The function being sampled.\n",
    "# On the one hand, we can implement it as one big function.\n",
    "# This program takes as arguments the number of samples, the function being\n",
    "# integrated, and the bounds of the integration.\n",
    "def monteCarloSingle(numSamples, fname, start, stop):\n",
    "    \"\"\"Integrates the function given by fname from start to stop.\n",
    "\n",
    "    Uses random sampling to calculate\n",
    "\n",
    "    ⌠stop\n",
    "    |       f(x) dx\n",
    "    ⌡start\n",
    "\n",
    "    :param numSamples: How many random samples should be used?\n",
    "    :param fname: The function you want to integrate. Options are:\n",
    "         's', meaning sin(x)\n",
    "         'c', meaning cos(x)\n",
    "         'e', meaning e^x\n",
    "    :param start: The start point of the integral\n",
    "    :param stop: The end point of the integral\n",
    "    :return: Nothing, but does print its result.\n",
    "    \"\"\"\n",
    "    area=0\n",
    "    for i in range(numSamples):\n",
    "        #Get a random number between the start and stop range:\n",
    "        randomNum = randint(0,1000000) #get a random number\n",
    "        #and convert that integer to a number in our sample domain\n",
    "        x = randomNum/1000000 * (start-stop) + start\n",
    "        if(fname == 's'): #calculate the sine of the number with a taylor series\n",
    "            funVal = x - 1/6*x**3 + 1/120*x**5 - 1/5040*x**7 + 1/362880*x**9\n",
    "        if(fname == 'c'): #calculate the cosine.\n",
    "            funVal = 1-1/2*x**2 + 1/24*x**4 - 1/720*x**6+1/40320*x**8\n",
    "        if(fname == 'e'): #calculate e^x.\n",
    "            funVal = 1+x+1/2*x**2 + 1/6*x**3 + 1/24*x**4 + 1/120*x**5+1/720*x**6+1/5040*x**7\n",
    "        area = area + funVal/numSamples*(stop-start)\n",
    "    print(\"the area between \",start,\" and \", stop, \" is \",area)"
   ]
  },
  {
   "cell_type": "code",
   "execution_count": 6,
   "id": "60aea0cd-8367-4202-8ce7-a381d626a646",
   "metadata": {},
   "outputs": [
    {
     "name": "stdout",
     "output_type": "stream",
     "text": [
      "the area between  0  and  1  is  -0.45883671804246035\n"
     ]
    }
   ],
   "source": [
    "#Okay, now I can run it:\n",
    "monteCarloSingle(10000, 's', 0, 1)"
   ]
  },
  {
   "cell_type": "code",
   "execution_count": 7,
   "id": "959f38b0-e976-4a88-aaea-b0efb176b2fa",
   "metadata": {},
   "outputs": [],
   "source": [
    "#Uh-oh. It's negative. There must be a bug somewhere in the code.\n",
    "#But the integrator is one huge block of code;\n",
    "#I have to analyze the whole thing at once. The problem may be in the Taylor\n",
    "#series, it may be in the accumulation of the area, it could be anywhere."
   ]
  },
  {
   "cell_type": "code",
   "execution_count": 8,
   "id": "7ba18ed5-9c6d-47dc-b937-fba2dffce9dc",
   "metadata": {},
   "outputs": [],
   "source": [
    "#Now, we can decompose the program using functions:\n",
    "#First, the main controller:\n",
    "def monteCarloDecomposed(numSamples, fname, start, stop):\n",
    "    \"\"\"See monteCarloSingle\"\"\"\n",
    "    area = mcIntegrate(numSamples, fname, start, stop)\n",
    "    print(\"the area between \",start,\" and \", stop, \" is \",area)\n",
    "\n",
    "#Now, the integrator:\n",
    "def mcIntegrate(numSamples, fname, start, stop):\n",
    "    \"\"\"Actually runs the integration. Same as monteCarloSingle, but returns the area.\"\"\"\n",
    "    area = 0\n",
    "    for i in range(numSamples):\n",
    "        #First, get a random number in the desired range.\n",
    "        x = randomInRange(start, stop)\n",
    "        #then evaluate the function at that location\n",
    "        funVal = evaluateFunction(fname, x)\n",
    "        area = area + funVal/numSamples*(stop-start)\n",
    "    return area\n",
    "\n",
    "#Okay, so now I need to write randomInRange and evaluateFunction.\n",
    "def randomInRange(start, stop):\n",
    "    \"\"\"Returns a random number between start and stop.\"\"\"\n",
    "    randomNum = randint(0,1000000)\n",
    "    retVal = randomNum/1000000 * (start-stop) + start\n",
    "    return retVal\n",
    "\n",
    "def evaluateFunction(fname, x):\n",
    "    \"\"\"Uses a Taylor expansion to approximate f(x)\n",
    "\n",
    "    :param fname: A one-character code naming the function. Options are:\n",
    "         's', meaning sin(x)\n",
    "         'c', meaning cos(x)\n",
    "         'e', meaning e^x\n",
    "    :param x: The x coordinate you want to evaluate the function at.\n",
    "    :return: The value of f(x).\n",
    "    \"\"\"\n",
    "    if(fname == 's'): \n",
    "        funVal = x - 1/6*x**3 + 1/120*x**5 - 1/5040*x**7 + 1/362880*x**9\n",
    "    if(fname == 'c'): \n",
    "        funVal = 1-1/2*x**2 + 1/24*x**4 - 1/720*x**6+1/40320*x**8\n",
    "    if(fname == 'e'): \n",
    "        funVal = 1+x+1/2*x**2 + 1/6*x**3 + 1/24*x**4 + 1/120*x**5+1/720*x**6+1/5040*x**7\n",
    "    return funVal"
   ]
  },
  {
   "cell_type": "code",
   "execution_count": 9,
   "id": "266dc63f-fed6-4dba-8423-c22143f52eee",
   "metadata": {},
   "outputs": [
    {
     "name": "stdout",
     "output_type": "stream",
     "text": [
      "the area between  0  and  1  is  -0.4571883292866465\n"
     ]
    }
   ],
   "source": [
    "monteCarloDecomposed(10000, 's', 0,1)"
   ]
  },
  {
   "cell_type": "code",
   "execution_count": 10,
   "id": "1bc8d44c-995e-410f-9f22-c0d9e1b5f8a2",
   "metadata": {},
   "outputs": [],
   "source": [
    "#Okay, so the bug is still there. But I can play with the components to see\n",
    "#which one has a bug. I think it's the Taylor expansion. sin(0.5) = 0.479, so"
   ]
  },
  {
   "cell_type": "code",
   "execution_count": 11,
   "id": "4d7cafbf-9cc1-4e3d-ab42-55d15ab0f6c2",
   "metadata": {},
   "outputs": [
    {
     "data": {
      "text/plain": [
       "0.4794255386164159"
      ]
     },
     "execution_count": 11,
     "metadata": {},
     "output_type": "execute_result"
    }
   ],
   "source": [
    "evaluateFunction('s', 0.5)"
   ]
  },
  {
   "cell_type": "code",
   "execution_count": 12,
   "id": "59b4b922-dcc6-42f0-a835-acb574da41ae",
   "metadata": {},
   "outputs": [
    {
     "data": {
      "text/plain": [
       "-0.928689"
      ]
     },
     "execution_count": 12,
     "metadata": {},
     "output_type": "execute_result"
    }
   ],
   "source": [
    "#Okay, so the bug doesn't seem to be in evaluateFunction.\n",
    "#Perhaps it's in randomInRange?\n",
    "randomInRange(0,1)"
   ]
  },
  {
   "cell_type": "code",
   "execution_count": 13,
   "id": "8e2581b6-fbd9-4fb9-b514-fe7dd85e4df2",
   "metadata": {},
   "outputs": [],
   "source": [
    "#A-ha! I have now narrowed down the bug to one line of code. "
   ]
  },
  {
   "cell_type": "code",
   "execution_count": 14,
   "id": "7bc68b6e-df1b-4838-9747-90b36fd87423",
   "metadata": {},
   "outputs": [],
   "source": [
    "#Now: Recursion.\n",
    "#This is a case where a function calls itself. \n",
    "#Let me define the factorial thus:\n",
    "#factorial(1) = 1\n",
    "#factorial(n) = n*factorial(n-1)\n",
    "#So, for example, factorial(5) = 5*factorial(4)\n",
    "#Here's the factorial function, defined recursively.\n",
    "def factRec(n):\n",
    "    \"\"\"Calculates n factorial.\"\"\"\n",
    "    if (n <= 1):\n",
    "        return 1\n",
    "    else:\n",
    "        return n * factRec(n-1)\n",
    "#Why did I use the case n<=1, rather than n == 1? Consider the case where I call\n",
    "#factRec(0). It would never stop if the test was n==1, because n is never going to be 1.\n",
    "#So it's a safeguard.\n",
    "\n",
    "#Another example: Computing the summation of 1/i for i = 1 to N\n",
    "def sumInverse(n):\n",
    "    \"\"\"Calculates sum of 1/i for i = 1 to n\"\"\"\n",
    "    if n < 1:\n",
    "        print(\"WARNING! Argument was less than one\")\n",
    "        return 0\n",
    "    elif n == 1:\n",
    "        return 1\n",
    "    else:\n",
    "        return 1 / n + sumInverse(n - 1)"
   ]
  },
  {
   "cell_type": "code",
   "execution_count": 15,
   "id": "73e3abc8-2a8d-45f0-b59a-e25134bcf12e",
   "metadata": {},
   "outputs": [],
   "source": [
    "# With recursive functions on strings, we will often want to\n",
    "# chop off a character (or several characters) at the start.\n",
    "# We can do this with slicing.\n",
    "# The slice syntax is strName[start:end]\n",
    "# and this will give you a string containing\n",
    "# the characters from position start (inclusive) up to, but not including, end.\n",
    "# If you leave out start, the slice will start at the beginning of the string.\n",
    "# If you leave off end, the slice will go up to (and include) the last letter\n",
    "# in the string.\n",
    "# The half-open interval seems odd at first, but it means that\n",
    "# x[:5] + x[5:] contains all of the original string.\n",
    "def sliceDemo():\n",
    "    testStr = \"I am the very model of a modern major general!\"\n",
    "    firstFive = testStr[:5]\n",
    "    print(firstFive)\n",
    "    restOfStr = testStr[5:]\n",
    "    print(restOfStr)\n",
    "    # You can slice from the end of a string, too.\n",
    "    endOfStr = testStr[-21:]\n",
    "    print(firstFive + endOfStr)\n",
    "    # You can also slice both start and end coordinates.\n",
    "    middlePart = testStr[25:31]\n",
    "    print(firstFive + middlePart + \"!\")"
   ]
  },
  {
   "cell_type": "code",
   "execution_count": 16,
   "id": "bbdaea61-62d2-4eaa-a69e-37ea28d019a3",
   "metadata": {},
   "outputs": [
    {
     "name": "stdout",
     "output_type": "stream",
     "text": [
      "I am \n",
      "the very model of a modern major general!\n",
      "I am modern major general!\n",
      "I am modern!\n"
     ]
    }
   ],
   "source": [
    "sliceDemo()"
   ]
  },
  {
   "cell_type": "code",
   "execution_count": 17,
   "id": "7c720b92-c99f-4cb7-97d4-74773067e0a5",
   "metadata": {},
   "outputs": [],
   "source": [
    "# I can use this to build functions that operate on strings, like this:\n",
    "def removeSpaces(inStr):\n",
    "    \"\"\"Removes all spaces from inStr.\n",
    "\n",
    "    :param inStr: The string you want squeezed. This is not modified.\n",
    "    :return: A new string containing only the characters from inStr that\n",
    "        were not space.\n",
    "    \"\"\"\n",
    "    if len(inStr) == 0:\n",
    "        return \"\"\n",
    "    else:\n",
    "        if inStr[0] == \" \":\n",
    "            return removeSpaces(inStr[1:])\n",
    "        else:\n",
    "            return inStr[:1] + removeSpaces(inStr[1:])"
   ]
  },
  {
   "cell_type": "code",
   "execution_count": 18,
   "id": "5dfee5e8-4685-4090-ad49-22a837accf3d",
   "metadata": {},
   "outputs": [
    {
     "name": "stdout",
     "output_type": "stream",
     "text": [
      "I'veinformationvegetable,animal,andmineral!\n"
     ]
    }
   ],
   "source": [
    "print(removeSpaces(\"I've information vegetable, animal, and mineral!\"))"
   ]
  },
  {
   "cell_type": "code",
   "execution_count": null,
   "id": "30d8ec90-dc02-474c-aefc-8016f788675d",
   "metadata": {},
   "outputs": [],
   "source": []
  },
  {
   "cell_type": "code",
   "execution_count": 19,
   "id": "7ab33a26-2197-459f-a25e-955b34894135",
   "metadata": {},
   "outputs": [],
   "source": [
    "###################\n",
    "##   Exercises   ##\n",
    "###################\n",
    "# 1. Of the numbers 1 to 95 (including 95), which has the largest Collatz path?\n",
    "\n",
    "# 2. Fix the decomposed Monte-carlo integrator. \n",
    "\n",
    "# 3. A ball is dropped from an initial height H0.\n",
    "# Every time it bounces, it loses some energy. It bounces to 75% of its drop\n",
    "# height on each bounce. How many bounces will it take for the bounce to be\n",
    "# less than 1 mm if the ball is dropped from 2m?\n",
    "# a. Describe the problem recursively. \n",
    "# b. Implement your solution, using only recursion. \n",
    "\n",
    "# 4. Consider a bed file containing regions of interest in a genome.\n",
    "# An analysis requires that regions within N bases of the edge of a\n",
    "# chromosome be removed. You've been tasked with writing a function\n",
    "# that does this. It should take the name of the input bed file as\n",
    "# a string, the name of the output as a string, a name of a file containing\n",
    "# chromosome size information as a string, and a number N giving the padding\n",
    "# boundary.\n",
    "# Write documentation for such a function.\n",
    "# (You don't actually have to write the function, just the documentation.)\n",
    "\n",
    "# 5. Given two strings of dna,\n",
    "#  a. Make sure that both strings are valid DNA.\n",
    "#  b. Make sure they have the same length.\n",
    "#  c. Calculate the number of letters that are different between them.\n",
    "# The function should return the number of differences, or -1 if there was\n",
    "# a problem with a or b.\n",
    "# (Incidentally, this metric is called the Hamming Weight, and is used in\n",
    "# both bioinformatics and spell-checkers.)\n",
    "# You may use either recursion or iteration, but if you find this topic\n",
    "# interesting, I should warn you that all of the more advanced algorithms\n",
    "# are inherently recursive (there is no direct iterative equivalent),\n",
    "# so now's a great time to practice.\n",
    "# Include documentation.\n",
    "\n",
    "# 6. Write a function that takes a string of DNA and searches it for potential ORFs.\n",
    "# For this problem, an ORF is a string of DNA that starts with a start codon (ATG)\n",
    "# and ends with a stop codon (TAG, TGA, or TAA) in the same frame, and that does not\n",
    "# contain an in-frame stop codon other than at the end.\n",
    "# It should print out all possible ORFs based on their start and stop coordinates.\n",
    "# Include documentation with all of your functions.\n",
    "\n",
    "# For example, the sequence \n",
    "# CCGCCGATGCCGCCGCCGTGACCTGAGTGATGCCGCTGACGTAA\n",
    "# 01234567890123456789012345678901234567890123\n",
    "# has three possible frames. I've marked the start (S) and stop (X) codons\n",
    "# in these frames:\n",
    "#          S               X           X           X           \n",
    "# CCG CCG ATG CCG CCG CCG TGA CCT GAG TGA TGC CGC TGA CGT AA\n",
    "#                                 X       S               X\n",
    "# CC GCC GAT GCC GCC GCC GTG ACC TGA GTG ATG CCG CTG ACG TAA\n",
    "#                                                                                                                       \n",
    "# C CGC CGA TGC CGC CGC CGT GAC CTG AGT GAT GCC GCT GAC GTA A\n",
    "# The first two sequences contain possible ORFs. \n",
    "# Your program should print the start and stop codon positions\n",
    "# for these ORFs. For example,\n",
    "# locateORFs(\"CCGCCGATGCCGCCGCCGTGACCTGAGTGATGCCGCTGACGTAA\")\n",
    "# might print \n",
    "# 6 18\n",
    "# 29 41\n",
    "# Where those numbers are the indexes of the start and stop codons.\n",
    "# \n",
    "# This is a TOUGH problem! I recommend you break it up into chunks,\n",
    "# like maybe one function to break a string into codons, one to\n",
    "# check to see if a string is a start (or stop) codon, and so on."
   ]
  }
 ],
 "metadata": {
  "kernelspec": {
   "display_name": "Python 3 (ipykernel)",
   "language": "python",
   "name": "python3"
  },
  "language_info": {
   "codemirror_mode": {
    "name": "ipython",
    "version": 3
   },
   "file_extension": ".py",
   "mimetype": "text/x-python",
   "name": "python",
   "nbconvert_exporter": "python",
   "pygments_lexer": "ipython3",
   "version": "3.11.7"
  }
 },
 "nbformat": 4,
 "nbformat_minor": 5
}
