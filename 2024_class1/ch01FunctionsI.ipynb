{
 "cells": [
  {
   "cell_type": "code",
   "execution_count": 28,
   "id": "5d578c4f-bca7-415b-a554-ae5bc2df18a3",
   "metadata": {},
   "outputs": [],
   "source": [
    "# We will often need to perform a simple task many times. To help this,\n",
    "# Python lets us define functions. Functions are named bits of code\n",
    "# that we can call later on.\n",
    "# To do this, you use the def keyword, and then give the name of your\n",
    "# function, and then an open and close paren, and then a colon:\n",
    "def sampleFunction():\n",
    "    print(\"Running from inside function.\")\n",
    "\n",
    "# Note how the print statement is indented. This is not optional!\n",
    "# The code that the function represents must be indented.\n",
    "# When the code stops being indented, the function definition is over."
   ]
  },
  {
   "cell_type": "code",
   "execution_count": 29,
   "id": "d6d6ef60-e223-407c-95c3-a904f7d78cda",
   "metadata": {},
   "outputs": [
    {
     "name": "stdout",
     "output_type": "stream",
     "text": [
      "Running from inside function.\n"
     ]
    }
   ],
   "source": [
    "# If you run that cell, you'll notice that nothing happens.\n",
    "# That's not exactly true. Python reads the function definiton and\n",
    "# remembers it for later. It doesn't run the function yet, we need to\n",
    "# call it by writing the function name followed by parentheses:\n",
    "sampleFunction()"
   ]
  },
  {
   "cell_type": "code",
   "execution_count": 30,
   "id": "52c9ce79-5bc2-444b-b705-0718510bc56b",
   "metadata": {},
   "outputs": [],
   "source": [
    "# Now that we have a way to name bits of code, is there a way to name other\n",
    "# objects? There sure is! \n",
    "def variableSample():\n",
    "    x = 2 + 2\n",
    "    print(x)\n"
   ]
  },
  {
   "cell_type": "code",
   "execution_count": 31,
   "id": "5d020658-0b72-4625-83ce-107acbb2125d",
   "metadata": {},
   "outputs": [
    {
     "name": "stdout",
     "output_type": "stream",
     "text": [
      "4\n"
     ]
    }
   ],
   "source": [
    "variableSample()"
   ]
  },
  {
   "cell_type": "code",
   "execution_count": 32,
   "id": "d938723e-c760-4a09-b09a-f4adb012a04d",
   "metadata": {},
   "outputs": [],
   "source": [
    "# Variables are pretty simple. You type a name, then an equals sign, and\n",
    "# then an expression. An \"expression\" in Python is anything that evaluates to an object.\n",
    "# Here are some examples:\n",
    "def expressionsAssignments():\n",
    "    numericVal = 10\n",
    "    nextNumber = numericVal + 1\n",
    "    print(nextNumber)\n",
    "\n",
    "    numberIsLarge = nextNumber > 5\n",
    "    print(\"Is the number large? \", numberIsLarge)\n",
    "    \n",
    "    greeting = \"Who are you?!?! How did you get in my house?!\"\n",
    "    paulIsHappy = True\n",
    "    ruthIsHappy = False\n",
    "    bothAreHappy = paulIsHappy and ruthIsHappy\n",
    "    print(\"Are both people happy? \", bothAreHappy)\n",
    "    "
   ]
  },
  {
   "cell_type": "code",
   "execution_count": 33,
   "id": "94a4152e-88ac-4ebc-959d-0d661bac5610",
   "metadata": {},
   "outputs": [
    {
     "name": "stdout",
     "output_type": "stream",
     "text": [
      "11\n",
      "Is the number large?  True\n",
      "Are both people happy?  False\n"
     ]
    }
   ],
   "source": [
    "expressionsAssignments()"
   ]
  },
  {
   "cell_type": "code",
   "execution_count": 34,
   "id": "9bced780-e3f9-4d89-b07f-04d3e3c63358",
   "metadata": {},
   "outputs": [],
   "source": [
    "# There are quite a few built-in ways to construct expressions.\n",
    "def operators():\n",
    "    print(2 + 2)  # Addition\n",
    "    print(10 / 3)  # division\n",
    "    print(\"Hello, \" + \"world\")  # Concatenation\n",
    "    print(\"19^6 =\", 19**6)  # Exponentiation\n",
    "    print(10 > 11)  # Comparison\n",
    "    print(90 == 90.0)  # Equality check\n",
    "    # A couple unusual arithmetic operators: Modulus and integer division.\n",
    "    print(13 % 10)  # 13 (mod 10) is 3, because 13 divided by 10 is 1 with a remainder of 3.\n",
    "    print(139 // 16)  # is 8, because 135/16 is 8.6375.\n",
    "    # Integer division truncates toward zero. So 9 // 10 is zero.\n",
    "    # Python obeys the usual order of operations.\n",
    "    print(4 + 2 * 11)\n",
    "    # And you can make expressions as complex as you like\n",
    "    complexVal = ((4 + 2 * 3) // 2) == (1 / 0.2)\n",
    "    print(complexVal)"
   ]
  },
  {
   "cell_type": "code",
   "execution_count": 35,
   "id": "a8a89fd9-451e-4f47-bc96-dc50891bcb5e",
   "metadata": {},
   "outputs": [
    {
     "name": "stdout",
     "output_type": "stream",
     "text": [
      "4\n",
      "3.3333333333333335\n",
      "Hello, world\n",
      "19^6 = 47045881\n",
      "False\n",
      "True\n",
      "3\n",
      "8\n",
      "26\n",
      "True\n"
     ]
    }
   ],
   "source": [
    "operators()"
   ]
  },
  {
   "cell_type": "code",
   "execution_count": 36,
   "id": "9a90198b-8a6a-4c09-b393-baf3287b792b",
   "metadata": {},
   "outputs": [],
   "source": [
    "# It's probably worth pointing out that arithmetic on integers in python is exact,\n",
    "# but only approximate for numbers with decimals (known as floating-point numbers)\n",
    "def weirdArithmetic():\n",
    "    print(((((1 - 0.2) - 0.2) - 0.2) - 0.2) - 0.2)"
   ]
  },
  {
   "cell_type": "code",
   "execution_count": 37,
   "id": "c4f48f74-5528-4ffa-a84e-9ad9a0973845",
   "metadata": {},
   "outputs": [
    {
     "name": "stdout",
     "output_type": "stream",
     "text": [
      "5.551115123125783e-17\n"
     ]
    }
   ],
   "source": [
    "weirdArithmetic()"
   ]
  },
  {
   "cell_type": "code",
   "execution_count": 11,
   "id": "d51846da-cf4c-4c46-adec-992294ae8f4e",
   "metadata": {},
   "outputs": [],
   "source": [
    "# It's very nearly zero, but not exactly.\n",
    "# So you should almost never compare non-integer numbers "
   ]
  },
  {
   "cell_type": "code",
   "execution_count": 12,
   "id": "3f24017a-d78a-4568-93df-b5f706c9cef6",
   "metadata": {},
   "outputs": [],
   "source": [
    "# Here's a puzzle:\n",
    "def reassignment():\n",
    "    x = 5\n",
    "    y = x\n",
    "    x = 3\n",
    "    print(y)"
   ]
  },
  {
   "cell_type": "code",
   "execution_count": 13,
   "id": "8a691e29-4330-4d2b-8d0c-2d91a1e6b740",
   "metadata": {},
   "outputs": [
    {
     "name": "stdout",
     "output_type": "stream",
     "text": [
      "5\n"
     ]
    }
   ],
   "source": [
    "reassignment()"
   ]
  },
  {
   "cell_type": "code",
   "execution_count": 14,
   "id": "8a024c17-0424-440b-a706-6e4b40f43ca5",
   "metadata": {},
   "outputs": [],
   "source": [
    "# This prints 5, not 3. When python gets to the line y = x, it searches\n",
    "# for 'x' in the environment and finds that it points to an object in memory.\n",
    "# It binds the name 'y' to that object. \n",
    "# On the next line, x = 3, python creates a new object (representing the number 3)\n",
    "# and binds the name 'x' to it. The previous binding for 'x' is lost, but nothing\n",
    "# happens to y and nothing happened to the object it was bound to.\n",
    "# We can take this to the extreme:\n",
    "def increment():\n",
    "    x = 1\n",
    "    x = x + 1\n",
    "    print(x)"
   ]
  },
  {
   "cell_type": "code",
   "execution_count": 15,
   "id": "bf559c2a-4f1e-4143-9557-e79c75457b38",
   "metadata": {},
   "outputs": [
    {
     "name": "stdout",
     "output_type": "stream",
     "text": [
      "2\n"
     ]
    }
   ],
   "source": [
    "increment()"
   ]
  },
  {
   "cell_type": "code",
   "execution_count": 16,
   "id": "3927050b-81d7-49bf-9a28-a3cb4912abc5",
   "metadata": {},
   "outputs": [],
   "source": [
    "# What happened? The first line is simple. Python creates an object\n",
    "# representing the number 1 in memory and binds 'x' to it.\n",
    "# On the second line, Python starts by evaluating the expression on the right\n",
    "# and this creates a new object, this one representing the number 2.\n",
    "# Python then binds that new object to the name 'x'. \n",
    "# This is actually pretty common in programming, and so there is some shorthand:\n",
    "def assignmentOperators():\n",
    "    x = 5\n",
    "    x += 1  # Rewrites to x = x + 1\n",
    "    x -= 3  # Rewrites to x = x - 3\n",
    "    x *= 4  # Rewrites to x = x * 4\n",
    "    x /= 2  # Rewrites to x = x / 2\n",
    "    # There are some others (%=, //=, **=, &=, |=, ^=, >>=, and <<=)\n",
    "    # but they are very rare. "
   ]
  },
  {
   "cell_type": "code",
   "execution_count": null,
   "id": "4674a9d3-e083-4fb2-bd96-94aabcd252f8",
   "metadata": {},
   "outputs": [],
   "source": []
  },
  {
   "cell_type": "code",
   "execution_count": 17,
   "id": "4afce5c8-381c-4bdd-adcd-6f4962df0f5f",
   "metadata": {},
   "outputs": [],
   "source": [
    "# I should point out that you can use variables outside of functions, too! \n",
    "# I'm going to wrap all of my examples in functions so that my environment stays clean.\n",
    "# Here's an easy pitfall in Jupyter. Let's say I define a variable:\n",
    "index = 100\n",
    "# When I run this cell, the name index gets bound to an object representing\n",
    "# the number 100. "
   ]
  },
  {
   "cell_type": "code",
   "execution_count": 18,
   "id": "548630eb-b0b7-44f8-8da2-a4aa4c03e3ca",
   "metadata": {},
   "outputs": [
    {
     "name": "stdout",
     "output_type": "stream",
     "text": [
      "100\n"
     ]
    }
   ],
   "source": [
    "print(index)"
   ]
  },
  {
   "cell_type": "code",
   "execution_count": 19,
   "id": "4030dd89-7070-4dd8-86bd-f131e635e082",
   "metadata": {},
   "outputs": [],
   "source": [
    "# But \"index\" is a fairly common name.\n",
    "# I may use the name index again later in my notebook,\n",
    "index = \"column_10\""
   ]
  },
  {
   "cell_type": "code",
   "execution_count": 20,
   "id": "5429866d-7cad-42f2-bb57-c693fe0f4788",
   "metadata": {},
   "outputs": [],
   "source": [
    "# Once you've run that cell, go back and run the previous cell, the one\n",
    "# containing print(index). \n",
    "# It's overwritten the previous definition. This is an easy way to create a bug!"
   ]
  },
  {
   "cell_type": "code",
   "execution_count": null,
   "id": "095c67af-76c5-4cf0-90c8-eab9a5cc8b39",
   "metadata": {},
   "outputs": [],
   "source": []
  },
  {
   "cell_type": "code",
   "execution_count": 21,
   "id": "81900835-7f7f-45eb-b11e-e38b3a63e24f",
   "metadata": {},
   "outputs": [],
   "source": [
    "# Functions in python are akin to mathematical functions.\n",
    "# For example, the (mathematical) function called the logistic function is\n",
    "#                   1\n",
    "# logistic(x) = ---------\n",
    "#                     -x\n",
    "#                1 + e  \n",
    "\n",
    "# To write this in Python, we'd do this:\n",
    "def showLogistic(x):\n",
    "    print( 1 / (1 + 2.71828 ** (-x)))\n",
    "\n",
    "# The shape is exactly the same as the functions we've written so far, but\n",
    "# there is one difference: There's a parameter name inside the\n",
    "# parentheses in the function definition.\n",
    "# The parameter name tells Python that the user will need to provide some input\n",
    "# in order for the function to work.\n",
    "# When you call the function, python will bind the name 'x' to whatever object\n",
    "# you pass in, but that binding will only exist inside the function. \n"
   ]
  },
  {
   "cell_type": "code",
   "execution_count": 22,
   "id": "1c9c66cc-eca7-47da-ad6b-915667ae319b",
   "metadata": {},
   "outputs": [
    {
     "name": "stdout",
     "output_type": "stream",
     "text": [
      "0.9999546018259404\n"
     ]
    }
   ],
   "source": [
    "showLogistic(10)"
   ]
  },
  {
   "cell_type": "code",
   "execution_count": 23,
   "id": "822a56c1-0a9e-4ff8-8848-d2e26d9d3ff0",
   "metadata": {},
   "outputs": [],
   "source": [
    "# There's an oddity about how this function is written.\n",
    "# It calls print, which displays the result on the screen.\n",
    "# But what if you wanted to use that number in your code? \n",
    "# Like, how would you say\n",
    "# val = 1 + logistic(10)\n",
    "# ? If you said \n",
    "# val = 1 + showLogistic(10)\n",
    "# you would get an error, because showLogistic doesn't return a number,\n",
    "# it writes characters to the screen.\n",
    "\n",
    "# We do this with the return statement, like this:\n",
    "def logistic(x):\n",
    "    denominator = 1 + 2.71828 ** (-x)\n",
    "    return 1 / denominator\n",
    "# The return statement gives the value of the function.\n",
    "# Whenever a function call appears in an expression, \n",
    "# python will run the function and substitute in the value it returns.\n",
    "# For example, if you wrote\n",
    "# print(1 + logistic(10))\n",
    "# then python would see that you're calling something named logistic, and \n",
    "# would jump to the definition of the function. It would run the\n",
    "# code in the function, with 'x' being bound to the number 10.\n",
    "# Once the function has done its thing, it would return a value (like 0.999)\n",
    "# Python would substitute this value into the original expression, effectively\n",
    "# creating\n",
    "# print(1 + 0.999)\n",
    "# And execution would continue from there. \n"
   ]
  },
  {
   "cell_type": "code",
   "execution_count": 24,
   "id": "f9f21acf-2534-4a10-b4e5-d8065a978b94",
   "metadata": {},
   "outputs": [
    {
     "name": "stdout",
     "output_type": "stream",
     "text": [
      "0.006692873283488897\n"
     ]
    }
   ],
   "source": [
    "print(logistic(-5))"
   ]
  },
  {
   "cell_type": "code",
   "execution_count": 25,
   "id": "f5588807-9efa-4a8d-b3ea-76515daeb597",
   "metadata": {},
   "outputs": [],
   "source": [
    "#This is key, so let me reiterate:\n",
    "#==========================================================================\n",
    "#|If a function returns a number, you can use it in any place where       |\n",
    "#|your code expects a number. If your function returns a date, you can use|\n",
    "#|it anywhere you'd expect a date. Etc., etc.                             |\n",
    "#==========================================================================\n",
    "\n",
    "#To rephrase, sin is a function. It is a name that is associated with some \n",
    "#code in some python file that takes a number and calculates its sine.\n",
    "#When you say x = sin(0), python first evaluates the right-hand-side of \n",
    "#that statement and goes off and runs the code that is called \"sin\",\n",
    "#giving that code an argument of 0. When sin(0) returns, it is \n",
    "#*replaced by its return value*. So the statement becomes x = 0.\n",
    "#Python does not think of x in terms of the sine of a number. As far\n",
    "#as Python is concerned, x is just the number zero. "
   ]
  },
  {
   "cell_type": "code",
   "execution_count": null,
   "id": "60214619-1703-40b1-92bd-97b123b763e3",
   "metadata": {},
   "outputs": [],
   "source": []
  },
  {
   "cell_type": "code",
   "execution_count": 26,
   "id": "41fa5492-a33e-4f8b-95e2-b013fadc28a2",
   "metadata": {},
   "outputs": [],
   "source": [
    "# One last thing for variables.\n",
    "# Python has a syntax to access an individual character in a string. \n",
    "# It uses square brackets, and the count starts with 0 instead of 1.\n",
    "def checkString():\n",
    "    initialString = \"aoeu\"\n",
    "    print(\"the string starts with \", initialString[0])\n",
    "    #We could get the third character like this:\n",
    "    print(\"The third character is \", initialString[2])"
   ]
  },
  {
   "cell_type": "code",
   "execution_count": 27,
   "id": "7099a3d0-d4db-485b-bda7-105aa74feccd",
   "metadata": {},
   "outputs": [],
   "source": [
    "\n",
    "###################\n",
    "##   Exercises   ##\n",
    "###################\n",
    "# 1. Write a function that converts a temperature in Celsius to Fahrenheit.\n",
    "# It should take the celsius temperature as an argument and return the Fahrenheit temperature.\n",
    "\n",
    "\n",
    "# 2. write a function that takes two arguments, a and b, and returns a*b-a-b.\n",
    "\n",
    "\n",
    "# 3. Track the value of each of the following variables during this program.\n",
    "# Just fill out the table with the values as they change.\n",
    "# (don't run the code, do it by hand.)\n",
    "def exercise2():\n",
    "                    # a | b | c #\n",
    "    a = 1           # 1 | ? | ? #\n",
    "    b = 1           # 1 | 1 | ? #\n",
    "    c = 1           # 1 | 1 | 1 #\n",
    "    a = b + c       # 2 | 1 | 1 #\n",
    "    b = a + c       # 2 |   |   #\n",
    "    c = b + a       #   |   |   #\n",
    "    b = c           #   |   | 5 #\n",
    "    a = a + b       #   |   |   #\n",
    "    c = c * c       # 7 | 5 |   #\n"
   ]
  }
 ],
 "metadata": {
  "kernelspec": {
   "display_name": "Python 3 (ipykernel)",
   "language": "python",
   "name": "python3"
  },
  "language_info": {
   "codemirror_mode": {
    "name": "ipython",
    "version": 3
   },
   "file_extension": ".py",
   "mimetype": "text/x-python",
   "name": "python",
   "nbconvert_exporter": "python",
   "pygments_lexer": "ipython3",
   "version": "3.11.7"
  }
 },
 "nbformat": 4,
 "nbformat_minor": 5
}
