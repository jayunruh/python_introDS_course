{
 "cells": [
  {
   "cell_type": "code",
   "execution_count": 1,
   "metadata": {},
   "outputs": [],
   "source": [
    "import pandas as pd\n",
    "import numpy as np\n",
    "import matplotlib.pyplot as plt"
   ]
  },
  {
   "attachments": {},
   "cell_type": "markdown",
   "metadata": {},
   "source": [
    "# Section 1:  Creating new columns and parsing strings"
   ]
  },
  {
   "cell_type": "code",
   "execution_count": 4,
   "metadata": {},
   "outputs": [],
   "source": [
    "df = pd.read_csv('https://www.dropbox.com/s/0h3rmlri52s0enf/Results.csv?dl=1')"
   ]
  },
  {
   "cell_type": "code",
   "execution_count": 6,
   "metadata": {},
   "outputs": [
    {
     "data": {
      "text/html": [
       "<div>\n",
       "<style scoped>\n",
       "    .dataframe tbody tr th:only-of-type {\n",
       "        vertical-align: middle;\n",
       "    }\n",
       "\n",
       "    .dataframe tbody tr th {\n",
       "        vertical-align: top;\n",
       "    }\n",
       "\n",
       "    .dataframe thead th {\n",
       "        text-align: right;\n",
       "    }\n",
       "</style>\n",
       "<table border=\"1\" class=\"dataframe\">\n",
       "  <thead>\n",
       "    <tr style=\"text-align: right;\">\n",
       "      <th></th>\n",
       "      <th>Unnamed: 0</th>\n",
       "      <th>File</th>\n",
       "      <th>Area</th>\n",
       "      <th>Density1</th>\n",
       "      <th>Density2</th>\n",
       "      <th>Density3</th>\n",
       "    </tr>\n",
       "  </thead>\n",
       "  <tbody>\n",
       "    <tr>\n",
       "      <th>0</th>\n",
       "      <td>0</td>\n",
       "      <td>.\\20230104_150625_450\\Plate004_Well1_Object11.tif</td>\n",
       "      <td>642494</td>\n",
       "      <td>191</td>\n",
       "      <td>164</td>\n",
       "      <td>201</td>\n",
       "    </tr>\n",
       "    <tr>\n",
       "      <th>1</th>\n",
       "      <td>1</td>\n",
       "      <td>.\\20230104_150625_450\\Plate003_Well1_Object5.tif</td>\n",
       "      <td>3797429</td>\n",
       "      <td>610</td>\n",
       "      <td>467</td>\n",
       "      <td>361</td>\n",
       "    </tr>\n",
       "    <tr>\n",
       "      <th>2</th>\n",
       "      <td>2</td>\n",
       "      <td>.\\20230104_150625_450\\Plate000_Well4_Object7.tif</td>\n",
       "      <td>4098536</td>\n",
       "      <td>1124</td>\n",
       "      <td>963</td>\n",
       "      <td>662</td>\n",
       "    </tr>\n",
       "    <tr>\n",
       "      <th>3</th>\n",
       "      <td>3</td>\n",
       "      <td>.\\20230104_150625_450\\Plate005_Well3_Object6.tif</td>\n",
       "      <td>2770975</td>\n",
       "      <td>928</td>\n",
       "      <td>828</td>\n",
       "      <td>321</td>\n",
       "    </tr>\n",
       "    <tr>\n",
       "      <th>4</th>\n",
       "      <td>4</td>\n",
       "      <td>.\\20230104_150625_450\\Plate004_Well3_Object9.tif</td>\n",
       "      <td>2747875</td>\n",
       "      <td>516</td>\n",
       "      <td>472</td>\n",
       "      <td>345</td>\n",
       "    </tr>\n",
       "  </tbody>\n",
       "</table>\n",
       "</div>"
      ],
      "text/plain": [
       "   Unnamed: 0                                               File     Area  \\\n",
       "0           0  .\\20230104_150625_450\\Plate004_Well1_Object11.tif   642494   \n",
       "1           1   .\\20230104_150625_450\\Plate003_Well1_Object5.tif  3797429   \n",
       "2           2   .\\20230104_150625_450\\Plate000_Well4_Object7.tif  4098536   \n",
       "3           3   .\\20230104_150625_450\\Plate005_Well3_Object6.tif  2770975   \n",
       "4           4   .\\20230104_150625_450\\Plate004_Well3_Object9.tif  2747875   \n",
       "\n",
       "   Density1  Density2  Density3  \n",
       "0       191       164       201  \n",
       "1       610       467       361  \n",
       "2      1124       963       662  \n",
       "3       928       828       321  \n",
       "4       516       472       345  "
      ]
     },
     "execution_count": 6,
     "metadata": {},
     "output_type": "execute_result"
    }
   ],
   "source": [
    "df.head()"
   ]
  },
  {
   "attachments": {},
   "cell_type": "markdown",
   "metadata": {},
   "source": [
    "This data is from a simple experiment where we have the filename, an Area in pixels, and multiple columns of \"Density\".  These are images of flatworms that have had the total number of TUNEL positive cells counted (Density1) the total number of H3p positive cells counted (Density3) and the Area in pixels."
   ]
  },
  {
   "attachments": {},
   "cell_type": "markdown",
   "metadata": {},
   "source": [
    "### Question 1:  Get rid of the column \"Density2\", we will not need it"
   ]
  },
  {
   "cell_type": "code",
   "execution_count": null,
   "metadata": {},
   "outputs": [],
   "source": []
  },
  {
   "attachments": {},
   "cell_type": "markdown",
   "metadata": {},
   "source": [
    "### Question 2:  Rename the column \"Density1\" to \"TUNEL\" and \"Density3\" to \"H3p\""
   ]
  },
  {
   "cell_type": "code",
   "execution_count": null,
   "metadata": {},
   "outputs": [],
   "source": []
  },
  {
   "attachments": {},
   "cell_type": "markdown",
   "metadata": {},
   "source": [
    "### Question 3:  Find the ACTUAL density, and replace the \"TUNEL\" column to be the density (instead of the counts) and the \"H3p\" column to be the density (instead of the counts).  "
   ]
  },
  {
   "attachments": {},
   "cell_type": "markdown",
   "metadata": {},
   "source": [
    "The actual density is the number of cells divided by the area.  You will need to use the \"Area\" column to do this."
   ]
  },
  {
   "cell_type": "code",
   "execution_count": null,
   "metadata": {},
   "outputs": [],
   "source": []
  },
  {
   "attachments": {},
   "cell_type": "markdown",
   "metadata": {},
   "source": [
    "Once you have the density in terms of per pixels, convert it to per mm^2 by multiplying by 1643655"
   ]
  },
  {
   "cell_type": "code",
   "execution_count": null,
   "metadata": {},
   "outputs": [],
   "source": []
  },
  {
   "attachments": {},
   "cell_type": "markdown",
   "metadata": {},
   "source": [
    "### Question 4:  Create 4 new columns, \"Batch\", \"Plate\", \"Well\", \"Object\""
   ]
  },
  {
   "attachments": {},
   "cell_type": "markdown",
   "metadata": {},
   "source": [
    "Batch is the part of the file name between the two slashes.  "
   ]
  },
  {
   "cell_type": "code",
   "execution_count": null,
   "metadata": {},
   "outputs": [],
   "source": []
  },
  {
   "attachments": {},
   "cell_type": "markdown",
   "metadata": {},
   "source": [
    "You might find that your df['Plate'] contains some leading zeros.  That is because it converted it to a string and not an integer.   Look up .astype(...) to see how to convert it to an integer (do the same for Well and Object)"
   ]
  },
  {
   "cell_type": "code",
   "execution_count": null,
   "metadata": {},
   "outputs": [],
   "source": []
  },
  {
   "attachments": {},
   "cell_type": "markdown",
   "metadata": {},
   "source": [
    "# Section 2:  Merging and aggregating"
   ]
  },
  {
   "cell_type": "code",
   "execution_count": 9,
   "metadata": {},
   "outputs": [],
   "source": [
    "mapper_df = pd.read_csv('https://www.dropbox.com/s/pio1ju02fswineg/Map.csv?dl=1')"
   ]
  },
  {
   "cell_type": "code",
   "execution_count": 10,
   "metadata": {},
   "outputs": [
    {
     "data": {
      "text/html": [
       "<div>\n",
       "<style scoped>\n",
       "    .dataframe tbody tr th:only-of-type {\n",
       "        vertical-align: middle;\n",
       "    }\n",
       "\n",
       "    .dataframe tbody tr th {\n",
       "        vertical-align: top;\n",
       "    }\n",
       "\n",
       "    .dataframe thead th {\n",
       "        text-align: right;\n",
       "    }\n",
       "</style>\n",
       "<table border=\"1\" class=\"dataframe\">\n",
       "  <thead>\n",
       "    <tr style=\"text-align: right;\">\n",
       "      <th></th>\n",
       "      <th>Slide No.</th>\n",
       "      <th>Primary name</th>\n",
       "      <th>secondary name</th>\n",
       "      <th>Batch</th>\n",
       "      <th>Plate</th>\n",
       "      <th>Well</th>\n",
       "    </tr>\n",
       "  </thead>\n",
       "  <tbody>\n",
       "    <tr>\n",
       "      <th>0</th>\n",
       "      <td>Slide1</td>\n",
       "      <td>unc-22 RNAi 5dpf</td>\n",
       "      <td>TUNEL (CY3), H3P (Alexa-488), DAPI</td>\n",
       "      <td>20230104_150625_450</td>\n",
       "      <td>0</td>\n",
       "      <td>1</td>\n",
       "    </tr>\n",
       "    <tr>\n",
       "      <th>1</th>\n",
       "      <td>Slide2</td>\n",
       "      <td>Agat-1 RNAi 5dpf</td>\n",
       "      <td>TUNEL (CY3), H3P (Alexa-488), DAPI</td>\n",
       "      <td>20230104_150625_450</td>\n",
       "      <td>0</td>\n",
       "      <td>2</td>\n",
       "    </tr>\n",
       "    <tr>\n",
       "      <th>2</th>\n",
       "      <td>Slide3</td>\n",
       "      <td>Agat-2 RNAi 5dpf</td>\n",
       "      <td>TUNEL (CY3), H3P (Alexa-488), DAPI</td>\n",
       "      <td>20230104_150625_450</td>\n",
       "      <td>0</td>\n",
       "      <td>3</td>\n",
       "    </tr>\n",
       "    <tr>\n",
       "      <th>3</th>\n",
       "      <td>Slide4</td>\n",
       "      <td>Agat-3 RNAi 5dpf</td>\n",
       "      <td>TUNEL (CY3), H3P (Alexa-488), DAPI</td>\n",
       "      <td>20230104_150625_450</td>\n",
       "      <td>0</td>\n",
       "      <td>4</td>\n",
       "    </tr>\n",
       "    <tr>\n",
       "      <th>4</th>\n",
       "      <td>Slide5</td>\n",
       "      <td>unc-22 RNAi 7dpf</td>\n",
       "      <td>TUNEL (CY3), H3P (Alexa-488), DAPI</td>\n",
       "      <td>20230104_150625_450</td>\n",
       "      <td>1</td>\n",
       "      <td>1</td>\n",
       "    </tr>\n",
       "  </tbody>\n",
       "</table>\n",
       "</div>"
      ],
      "text/plain": [
       "  Slide No.      Primary name                     secondary name   \\\n",
       "0    Slide1  unc-22 RNAi 5dpf  TUNEL (CY3), H3P (Alexa-488), DAPI   \n",
       "1    Slide2  Agat-1 RNAi 5dpf  TUNEL (CY3), H3P (Alexa-488), DAPI   \n",
       "2    Slide3  Agat-2 RNAi 5dpf  TUNEL (CY3), H3P (Alexa-488), DAPI   \n",
       "3    Slide4  Agat-3 RNAi 5dpf  TUNEL (CY3), H3P (Alexa-488), DAPI   \n",
       "4    Slide5  unc-22 RNAi 7dpf  TUNEL (CY3), H3P (Alexa-488), DAPI   \n",
       "\n",
       "                 Batch  Plate  Well  \n",
       "0  20230104_150625_450      0     1  \n",
       "1  20230104_150625_450      0     2  \n",
       "2  20230104_150625_450      0     3  \n",
       "3  20230104_150625_450      0     4  \n",
       "4  20230104_150625_450      1     1  "
      ]
     },
     "execution_count": 10,
     "metadata": {},
     "output_type": "execute_result"
    }
   ],
   "source": [
    "mapper_df.head()"
   ]
  },
  {
   "attachments": {},
   "cell_type": "markdown",
   "metadata": {},
   "source": [
    "### Question 1:  Use the df.merge function to merge the two dataframes together.  Use the \"Batch\", \"Plate\", \"Well\", and \"Object\" columns to merge on.  "
   ]
  },
  {
   "attachments": {},
   "cell_type": "markdown",
   "metadata": {},
   "source": [
    "df.merge has a \"how\" argument, you will need to figure out what to put there (if anything) to make sure you keep all of the df dataframe and merely add \"Slide No.\", \"Primary name\", and \"secondary name\" columns to it."
   ]
  },
  {
   "cell_type": "code",
   "execution_count": 5,
   "metadata": {},
   "outputs": [
    {
     "data": {
      "text/html": [
       "<div>\n",
       "<style scoped>\n",
       "    .dataframe tbody tr th:only-of-type {\n",
       "        vertical-align: middle;\n",
       "    }\n",
       "\n",
       "    .dataframe tbody tr th {\n",
       "        vertical-align: top;\n",
       "    }\n",
       "\n",
       "    .dataframe thead th {\n",
       "        text-align: right;\n",
       "    }\n",
       "</style>\n",
       "<table border=\"1\" class=\"dataframe\">\n",
       "  <thead>\n",
       "    <tr style=\"text-align: right;\">\n",
       "      <th></th>\n",
       "      <th>Unnamed: 0</th>\n",
       "      <th>File</th>\n",
       "      <th>Area</th>\n",
       "      <th>Density1</th>\n",
       "      <th>Density2</th>\n",
       "      <th>Density3</th>\n",
       "    </tr>\n",
       "  </thead>\n",
       "  <tbody>\n",
       "    <tr>\n",
       "      <th>0</th>\n",
       "      <td>0</td>\n",
       "      <td>.\\20230104_150625_450\\Plate004_Well1_Object11.tif</td>\n",
       "      <td>642494</td>\n",
       "      <td>191</td>\n",
       "      <td>164</td>\n",
       "      <td>201</td>\n",
       "    </tr>\n",
       "    <tr>\n",
       "      <th>1</th>\n",
       "      <td>1</td>\n",
       "      <td>.\\20230104_150625_450\\Plate003_Well1_Object5.tif</td>\n",
       "      <td>3797429</td>\n",
       "      <td>610</td>\n",
       "      <td>467</td>\n",
       "      <td>361</td>\n",
       "    </tr>\n",
       "    <tr>\n",
       "      <th>2</th>\n",
       "      <td>2</td>\n",
       "      <td>.\\20230104_150625_450\\Plate000_Well4_Object7.tif</td>\n",
       "      <td>4098536</td>\n",
       "      <td>1124</td>\n",
       "      <td>963</td>\n",
       "      <td>662</td>\n",
       "    </tr>\n",
       "    <tr>\n",
       "      <th>3</th>\n",
       "      <td>3</td>\n",
       "      <td>.\\20230104_150625_450\\Plate005_Well3_Object6.tif</td>\n",
       "      <td>2770975</td>\n",
       "      <td>928</td>\n",
       "      <td>828</td>\n",
       "      <td>321</td>\n",
       "    </tr>\n",
       "    <tr>\n",
       "      <th>4</th>\n",
       "      <td>4</td>\n",
       "      <td>.\\20230104_150625_450\\Plate004_Well3_Object9.tif</td>\n",
       "      <td>2747875</td>\n",
       "      <td>516</td>\n",
       "      <td>472</td>\n",
       "      <td>345</td>\n",
       "    </tr>\n",
       "    <tr>\n",
       "      <th>...</th>\n",
       "      <td>...</td>\n",
       "      <td>...</td>\n",
       "      <td>...</td>\n",
       "      <td>...</td>\n",
       "      <td>...</td>\n",
       "      <td>...</td>\n",
       "    </tr>\n",
       "    <tr>\n",
       "      <th>342</th>\n",
       "      <td>342</td>\n",
       "      <td>.\\20230104_150625_450\\Plate003_Well1_Object14.tif</td>\n",
       "      <td>1228691</td>\n",
       "      <td>127</td>\n",
       "      <td>117</td>\n",
       "      <td>296</td>\n",
       "    </tr>\n",
       "    <tr>\n",
       "      <th>343</th>\n",
       "      <td>343</td>\n",
       "      <td>.\\20230104_150625_450\\Plate004_Well2_Object17.tif</td>\n",
       "      <td>1535163</td>\n",
       "      <td>228</td>\n",
       "      <td>195</td>\n",
       "      <td>639</td>\n",
       "    </tr>\n",
       "    <tr>\n",
       "      <th>344</th>\n",
       "      <td>344</td>\n",
       "      <td>.\\20230104_150625_450\\Plate001_Well1_Object7.tif</td>\n",
       "      <td>4628559</td>\n",
       "      <td>864</td>\n",
       "      <td>693</td>\n",
       "      <td>270</td>\n",
       "    </tr>\n",
       "    <tr>\n",
       "      <th>345</th>\n",
       "      <td>345</td>\n",
       "      <td>.\\20230104_150625_450\\Plate005_Well3_Object9.tif</td>\n",
       "      <td>1766980</td>\n",
       "      <td>978</td>\n",
       "      <td>885</td>\n",
       "      <td>218</td>\n",
       "    </tr>\n",
       "    <tr>\n",
       "      <th>346</th>\n",
       "      <td>346</td>\n",
       "      <td>.\\20230104_150625_450\\Plate003_Well1_Object4.tif</td>\n",
       "      <td>3721509</td>\n",
       "      <td>343</td>\n",
       "      <td>318</td>\n",
       "      <td>397</td>\n",
       "    </tr>\n",
       "  </tbody>\n",
       "</table>\n",
       "<p>347 rows × 6 columns</p>\n",
       "</div>"
      ],
      "text/plain": [
       "     Unnamed: 0                                               File     Area  \\\n",
       "0             0  .\\20230104_150625_450\\Plate004_Well1_Object11.tif   642494   \n",
       "1             1   .\\20230104_150625_450\\Plate003_Well1_Object5.tif  3797429   \n",
       "2             2   .\\20230104_150625_450\\Plate000_Well4_Object7.tif  4098536   \n",
       "3             3   .\\20230104_150625_450\\Plate005_Well3_Object6.tif  2770975   \n",
       "4             4   .\\20230104_150625_450\\Plate004_Well3_Object9.tif  2747875   \n",
       "..          ...                                                ...      ...   \n",
       "342         342  .\\20230104_150625_450\\Plate003_Well1_Object14.tif  1228691   \n",
       "343         343  .\\20230104_150625_450\\Plate004_Well2_Object17.tif  1535163   \n",
       "344         344   .\\20230104_150625_450\\Plate001_Well1_Object7.tif  4628559   \n",
       "345         345   .\\20230104_150625_450\\Plate005_Well3_Object9.tif  1766980   \n",
       "346         346   .\\20230104_150625_450\\Plate003_Well1_Object4.tif  3721509   \n",
       "\n",
       "     Density1  Density2  Density3  \n",
       "0         191       164       201  \n",
       "1         610       467       361  \n",
       "2        1124       963       662  \n",
       "3         928       828       321  \n",
       "4         516       472       345  \n",
       "..        ...       ...       ...  \n",
       "342       127       117       296  \n",
       "343       228       195       639  \n",
       "344       864       693       270  \n",
       "345       978       885       218  \n",
       "346       343       318       397  \n",
       "\n",
       "[347 rows x 6 columns]"
      ]
     },
     "execution_count": 5,
     "metadata": {},
     "output_type": "execute_result"
    }
   ],
   "source": [
    "df"
   ]
  },
  {
   "attachments": {},
   "cell_type": "markdown",
   "metadata": {},
   "source": [
    "### Question 2:  Use groupby and agg to find the count, median, and stdev for each \"Primary name\""
   ]
  },
  {
   "cell_type": "code",
   "execution_count": null,
   "metadata": {},
   "outputs": [],
   "source": []
  },
  {
   "attachments": {},
   "cell_type": "markdown",
   "metadata": {},
   "source": [
    "### Question 3:  Use .hist() on the \"TUNEL\" column to plot a histogram of the TUNEL density"
   ]
  },
  {
   "cell_type": "code",
   "execution_count": null,
   "metadata": {},
   "outputs": [],
   "source": []
  },
  {
   "attachments": {},
   "cell_type": "markdown",
   "metadata": {},
   "source": [
    "Some of the values are very low, because the image file was actually not of a worm but of a piece of junk.  Try to find a cutoff below which you suspect the TUNEL value must be junk."
   ]
  },
  {
   "attachments": {},
   "cell_type": "markdown",
   "metadata": {},
   "source": [
    "### Question 4:  Use a cutoff to make a new df called filtered_df that only includes rows where the TUNEL density is above the cutoff"
   ]
  },
  {
   "cell_type": "code",
   "execution_count": null,
   "metadata": {},
   "outputs": [],
   "source": []
  },
  {
   "attachments": {},
   "cell_type": "markdown",
   "metadata": {},
   "source": [
    "### Question 5:  Redo question 2 on filtered_df to see how much the standard deviations are impacted after filtering"
   ]
  },
  {
   "cell_type": "code",
   "execution_count": null,
   "metadata": {},
   "outputs": [],
   "source": []
  },
  {
   "attachments": {},
   "cell_type": "markdown",
   "metadata": {},
   "source": [
    "### Bonus question:  instead of simply filtering out the low values, try to find a way to replace them with the median value of the TUNEL density.  "
   ]
  },
  {
   "attachments": {},
   "cell_type": "markdown",
   "metadata": {},
   "source": [
    "This is a bit tricky, but it is possible to do it in one line of code.  Hint:  you will need to use .loc and a boolean mask"
   ]
  },
  {
   "attachments": {},
   "cell_type": "markdown",
   "metadata": {},
   "source": [
    "By the way, the previous block was generated entirely by GPT after \"Bonus question:  instead...\""
   ]
  },
  {
   "cell_type": "code",
   "execution_count": null,
   "metadata": {},
   "outputs": [],
   "source": []
  },
  {
   "cell_type": "code",
   "execution_count": null,
   "metadata": {},
   "outputs": [],
   "source": []
  },
  {
   "cell_type": "code",
   "execution_count": null,
   "metadata": {},
   "outputs": [],
   "source": []
  }
 ],
 "metadata": {
  "kernelspec": {
   "display_name": "napari",
   "language": "python",
   "name": "python3"
  },
  "language_info": {
   "codemirror_mode": {
    "name": "ipython",
    "version": 3
   },
   "file_extension": ".py",
   "mimetype": "text/x-python",
   "name": "python",
   "nbconvert_exporter": "python",
   "pygments_lexer": "ipython3",
   "version": "3.8.15"
  },
  "orig_nbformat": 4
 },
 "nbformat": 4,
 "nbformat_minor": 2
}
