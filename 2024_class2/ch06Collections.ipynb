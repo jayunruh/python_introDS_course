{
 "cells": [
  {
   "cell_type": "code",
   "execution_count": null,
   "id": "4f3ada9e",
   "metadata": {},
   "outputs": [],
   "source": [
    "from random import randint"
   ]
  },
  {
   "cell_type": "markdown",
   "id": "1001df4d",
   "metadata": {},
   "source": [
    "## Datatypes\n",
    "\n",
    "\n",
    "Python stores variables as specific datatypes, which tells Python what actions it's allowed to do with it. For example, multiplying two integers together works, but multiplying two strings together doesn't really make sense. Unlike some other languages, Python is a dynamically typed language, meaning that you don't need to explicitly declare the data type, Python will infer it for you. You are also sometimes able to change the type, either explicitly or implicitly.  \n",
    "\n",
    "Here are some datatypes that were introduced last week:  \n",
    "\n",
    "Strings  \n",
    "Integers  \n",
    "Float  \n",
    "Boolean  \n",
    "\n",
    "Here are some new ones we are going to introduce today:  \n",
    "Tuples  \n",
    "Lists  \n",
    "Dictionaries  \n",
    "\n",
    "Different `types` of variables have different methods (read: built-in functions) associated with them. We'll see some examples of those in a little bit. "
   ]
  },
  {
   "cell_type": "code",
   "execution_count": null,
   "id": "238fb86d",
   "metadata": {},
   "outputs": [],
   "source": [
    "#the function 'type' tells you what datatype a given variable is\n",
    "def testType(x):\n",
    "    print(type(x))"
   ]
  },
  {
   "cell_type": "code",
   "execution_count": null,
   "id": "2ede75b9",
   "metadata": {},
   "outputs": [],
   "source": [
    "testType(2)\n",
    "testType(2.0)\n",
    "testType(\"hello\")\n",
    "testType(False)"
   ]
  },
  {
   "cell_type": "code",
   "execution_count": null,
   "id": "e2cb01bb",
   "metadata": {},
   "outputs": [],
   "source": [
    "def testTypeSame(x,y):\n",
    "    print(type(x) == type(y))"
   ]
  },
  {
   "cell_type": "code",
   "execution_count": null,
   "id": "93bff405",
   "metadata": {},
   "outputs": [],
   "source": [
    "#NOTE 2, \"2\", and 2.0 are all stored differently\n",
    "testTypeSame(2,3)\n",
    "testTypeSame(2,'2')\n",
    "testTypeSame(2,2.0)"
   ]
  },
  {
   "cell_type": "code",
   "execution_count": null,
   "id": "385d752c",
   "metadata": {},
   "outputs": [],
   "source": [
    "#python let's you explicitly change the type of a variable\n",
    "def changeVariable(x, vtype):\n",
    "    print('Initial type: ',type(x))\n",
    "    print('New type: ' ,type(vtype(x)))"
   ]
  },
  {
   "cell_type": "code",
   "execution_count": null,
   "id": "4d86148a",
   "metadata": {},
   "outputs": [],
   "source": [
    "changeVariable(2,str)"
   ]
  },
  {
   "cell_type": "code",
   "execution_count": null,
   "id": "51111f4a",
   "metadata": {},
   "outputs": [],
   "source": [
    "changeVariable(\"2\",int)"
   ]
  },
  {
   "cell_type": "code",
   "execution_count": null,
   "id": "849437fd",
   "metadata": {},
   "outputs": [],
   "source": [
    "#but sometimes Python doesn't know how to accomplish what you're telling it to do\n",
    "##*will error*##\n",
    "changeVariable(\"hello world\",int)"
   ]
  },
  {
   "cell_type": "code",
   "execution_count": null,
   "id": "e01bdbed",
   "metadata": {},
   "outputs": [],
   "source": [
    "#Sometimes Python will change type for you\n",
    "def cutHalf(x):\n",
    "    print(x, \" is of type: \", type(x))\n",
    "    print(x/2, \" is of type: \", type(x/2))"
   ]
  },
  {
   "cell_type": "code",
   "execution_count": null,
   "id": "fa6846a7",
   "metadata": {},
   "outputs": [],
   "source": [
    "cutHalf(2)"
   ]
  },
  {
   "cell_type": "markdown",
   "id": "747d7625",
   "metadata": {},
   "source": [
    "## Strings"
   ]
  },
  {
   "cell_type": "code",
   "execution_count": null,
   "id": "28835077",
   "metadata": {},
   "outputs": [],
   "source": [
    "#Here are some examples of built-in methods that you can run on strings:\n",
    "def stringMethods(x):\n",
    "    #convert to uppercase\n",
    "    print(x.upper())\n",
    "    #convert to lowercase\n",
    "    print(x.lower())\n",
    "    #sometimes these methods can take additional arguments\n",
    "    print(x.startswith(\"hello\"))\n",
    "    #does the string contain this substring? If so return the first index of the substring\n",
    "    print(x.find(\"ello\"))\n",
    "    #can start the search further into the string. Let's say if we want to find the index of the second 'o'\n",
    "    print(x.find(\"o\",6))\n",
    "    #split the string into multiple segments based on character. Note this returns a list which we'll get to later\n",
    "    print(x.split(\" \"))"
   ]
  },
  {
   "cell_type": "code",
   "execution_count": null,
   "id": "f190cd12",
   "metadata": {},
   "outputs": [],
   "source": [
    "stringMethods(\"hello world\")"
   ]
  },
  {
   "cell_type": "code",
   "execution_count": null,
   "id": "8ad6c289",
   "metadata": {},
   "outputs": [],
   "source": [
    "#same with functions, you need to save the output of methods as a variable to make the changes take place\n",
    "def lowerCase(x):\n",
    "    print(x.lower())\n",
    "    print(x.islower())\n",
    "    x = x.lower()\n",
    "    print(x.islower())"
   ]
  },
  {
   "cell_type": "code",
   "execution_count": null,
   "id": "b7c4ea42",
   "metadata": {},
   "outputs": [],
   "source": [
    "lowerCase(\"Hello world\")"
   ]
  },
  {
   "cell_type": "code",
   "execution_count": null,
   "id": "5591780f",
   "metadata": {},
   "outputs": [],
   "source": [
    "#Reminder about string indexing/slicing\n",
    "def stringSlice(x, start,end):\n",
    "    print(x[start:end])"
   ]
  },
  {
   "cell_type": "code",
   "execution_count": null,
   "id": "f2165d96",
   "metadata": {},
   "outputs": [],
   "source": [
    "stringSlice(\"hello world\",0,2)\n",
    "stringSlice(\"hello world\",1,5)\n",
    "stringSlice(\"hello world\",0,len(\"hello world\"))"
   ]
  },
  {
   "cell_type": "code",
   "execution_count": null,
   "id": "858b5c09",
   "metadata": {},
   "outputs": [],
   "source": [
    "#introduction to negative indexing\n",
    "def singleIndex(x, index):\n",
    "    print(x[index])"
   ]
  },
  {
   "cell_type": "code",
   "execution_count": null,
   "id": "1040246b",
   "metadata": {},
   "outputs": [],
   "source": [
    "singleIndex(\"index\",1)\n",
    "singleIndex(\"index\",0)\n",
    "singleIndex(\"index\",-1)"
   ]
  },
  {
   "cell_type": "code",
   "execution_count": null,
   "id": "d7a8a490",
   "metadata": {},
   "outputs": [],
   "source": [
    "def StringMath(x,y,z):\n",
    "    #adding two strings together works as a concatenation\n",
    "    print(x + y)\n",
    "    #multiplying a string by an integer repeats the string multiple times\n",
    "    print(x*z)\n",
    "    "
   ]
  },
  {
   "cell_type": "code",
   "execution_count": null,
   "id": "23bb34aa",
   "metadata": {},
   "outputs": [],
   "source": [
    "StringMath(\"hello \", \"Andrew\",3)"
   ]
  },
  {
   "cell_type": "markdown",
   "id": "358b4215",
   "metadata": {},
   "source": [
    "## Tuples  \n",
    "\n",
    "A tuple is simply an ordered collection of things. A string is actually a special type of tuple, so you already have some experience working with them. Importantly, tuples are IMMUTABLE, meaning once created, their values CANNOT be altered."
   ]
  },
  {
   "cell_type": "code",
   "execution_count": null,
   "id": "6eebf6ed",
   "metadata": {},
   "outputs": [],
   "source": [
    "def makingTuples(a,b,c):\n",
    "    #make tuples by using parentheses\n",
    "    x = (a,b,c)\n",
    "    print('Tuple: ', x)\n",
    "    print(\"x is of type: \", type(x))\n",
    "    print(\" \")"
   ]
  },
  {
   "cell_type": "code",
   "execution_count": null,
   "id": "5e9eab51",
   "metadata": {},
   "outputs": [],
   "source": [
    "makingTuples(1,2,3)\n",
    "#members don't need to be of the same type\n",
    "makingTuples(\"yes\",2,False)\n",
    "#nested tuples\n",
    "makingTuples((1,2,3),\"yes\",17)"
   ]
  },
  {
   "cell_type": "code",
   "execution_count": null,
   "id": "838961ea",
   "metadata": {},
   "outputs": [],
   "source": [
    "def extractTuple(a,b,c,d):\n",
    "    x = (a,b,c,d)\n",
    "    print(x)\n",
    "    #we can extract values from tuples using indexing and slicing just like we did strings\n",
    "    print(x[0])\n",
    "    print(x[-2])\n",
    "    print(x[0:2])\n",
    "    \n",
    "    #we can utilize a loop to iterate through the tuple\n",
    "    for val in x:\n",
    "        print(val)\n",
    "        \n",
    "    #the power of in\n",
    "    print(\"dog\" in x)"
   ]
  },
  {
   "cell_type": "code",
   "execution_count": null,
   "id": "a480df36",
   "metadata": {},
   "outputs": [],
   "source": [
    "extractTuple(1,\"hello\",False, \"dog\")"
   ]
  },
  {
   "cell_type": "code",
   "execution_count": null,
   "id": "82f9186c",
   "metadata": {},
   "outputs": [],
   "source": [
    "def ChangeTuple(a,b,c,new):\n",
    "    x = (a,b,c)\n",
    "    print(x[1])\n",
    "    x[1] = new\n",
    "    print(x)"
   ]
  },
  {
   "cell_type": "code",
   "execution_count": null,
   "id": "e591f9e8",
   "metadata": {},
   "outputs": [],
   "source": [
    "#should error out, Tuples are immutable\n",
    "ChangeTuple(4,3,1,\"change\")"
   ]
  },
  {
   "cell_type": "code",
   "execution_count": null,
   "id": "a433d4a8",
   "metadata": {},
   "outputs": [],
   "source": [
    "def TupleTricks(a,b,c):\n",
    "    x = (a,b,c)\n",
    "    print(\"length of tuple is: \", len(x))\n",
    "    print(\"sum of tuple is: \", sum(x))\n",
    "    print(x + x)\n",
    "    "
   ]
  },
  {
   "cell_type": "code",
   "execution_count": null,
   "id": "fe7e79b6",
   "metadata": {},
   "outputs": [],
   "source": [
    "TupleTricks(1,2,3)"
   ]
  },
  {
   "cell_type": "code",
   "execution_count": null,
   "id": "dfeda638",
   "metadata": {},
   "outputs": [],
   "source": [
    "## Element-wise assignment of variables is a nifty thing tuples allow us to do\n",
    "x,y,z = (1,2,3)\n",
    "print(z)"
   ]
  },
  {
   "cell_type": "markdown",
   "id": "85d8a931",
   "metadata": {},
   "source": [
    "## Lists\n",
    "\n",
    "Lists are another one of Python's sequence collections, however they are mutable, which makes them both very powerful but also dangerous if proper care isn't taken"
   ]
  },
  {
   "cell_type": "code",
   "execution_count": null,
   "id": "2e0a4fa6",
   "metadata": {},
   "outputs": [],
   "source": [
    "#make list with []\n",
    "def MakeList(a,b,c):\n",
    "    x = [a,b,c]\n",
    "    print(x)\n",
    "    print(type(x))\n",
    "    \n",
    "    #can also convert some other sequences to a list\n",
    "    y = (a,b,c)\n",
    "    print(type(y))\n",
    "    y = list(y)\n",
    "    print(type(y))"
   ]
  },
  {
   "cell_type": "code",
   "execution_count": null,
   "id": "3ca96701",
   "metadata": {},
   "outputs": [],
   "source": [
    "MakeList(1,2,\"hello\")"
   ]
  },
  {
   "cell_type": "code",
   "execution_count": null,
   "id": "596b4006",
   "metadata": {},
   "outputs": [],
   "source": [
    "#lists work a lot like tuples\n",
    "def ListWork(a,b,c):\n",
    "    x = [a,b,c]\n",
    "    #take length\n",
    "    print(len(x))\n",
    "    #can repeat\n",
    "    print(x*3)\n",
    "    #can concatenate\n",
    "    print(x+[1,2])\n",
    "    #indexing\n",
    "    print(x[0])\n",
    "    print(x[-1])\n",
    "    #slicing\n",
    "    print(x[0:2])\n",
    "    print(x[-1::-1])\n",
    "    "
   ]
  },
  {
   "cell_type": "code",
   "execution_count": null,
   "id": "96631a11",
   "metadata": {},
   "outputs": [],
   "source": [
    "ListWork(6,7,\"hello\")"
   ]
  },
  {
   "cell_type": "code",
   "execution_count": null,
   "id": "b4c627d7",
   "metadata": {},
   "outputs": [],
   "source": [
    "def ListMethods(a,b,c):\n",
    "    x = [a,b,c]\n",
    "    #append adds a value to a list\n",
    "    x.append(4)\n",
    "    print(x)\n",
    "    \n",
    "    #what if we want to add multiple items?\n",
    "    y = [4,5,6]\n",
    "    for yi in y:\n",
    "        x.append(yi)\n",
    "    print(x)\n",
    "    \n",
    "    #alternatively,\n",
    "    z = [7,8,9]\n",
    "    z.extend([1,2,3])\n",
    "    print(z)\n",
    "    \n",
    "    #alternatively alternatively:\n",
    "    new = [1,2,3] + [4,5,6]\n",
    "    print(new)\n",
    "    \n",
    "    #ordering a list\n",
    "    z.sort()\n",
    "    print(z)\n",
    "    z.sort(reverse=True)\n",
    "    print(z)"
   ]
  },
  {
   "cell_type": "code",
   "execution_count": null,
   "id": "d8d97a6b",
   "metadata": {},
   "outputs": [],
   "source": [
    "ListMethods(1,2,3)"
   ]
  },
  {
   "cell_type": "code",
   "execution_count": null,
   "id": "2b6a2772",
   "metadata": {},
   "outputs": [],
   "source": [
    "#The big thing about lists is that you can change elements\n",
    "def ListMut(a,b,c):\n",
    "    x = [a,b,c]\n",
    "    print(x)\n",
    "    print(x[1])\n",
    "    #change by index\n",
    "    x[1] = \"how\"\n",
    "    print(x)\n",
    "    \n",
    "    #loop through change\n",
    "    for xi in range(len(x)):\n",
    "        x[xi] = randint(0,100)\n",
    "    print(x)\n",
    "    \n",
    "    #can do something to each value and replace it\n",
    "    for xi in range(len(x)):\n",
    "        x[xi] = x[xi] * 10\n",
    "    print(x)"
   ]
  },
  {
   "cell_type": "code",
   "execution_count": null,
   "id": "3b6d6633",
   "metadata": {},
   "outputs": [],
   "source": [
    "ListMut(1,2,3)"
   ]
  },
  {
   "cell_type": "code",
   "execution_count": null,
   "id": "3af83c63",
   "metadata": {},
   "outputs": [],
   "source": [
    "#Very important, both these lists end up pointing to the same object in memory, meaning if you change one, you change them both\n",
    "###THIS CAN CAUSE LOTS OF ISSUES###\n",
    "\n",
    "def listMem(a,b,c):\n",
    "    x = [a,b,c]\n",
    "    y = x\n",
    "    print(y)\n",
    "    x[1] = \"what\"\n",
    "    print(y)\n",
    "    \n",
    "    #this however will work\n",
    "    x2 = [a,b,c]\n",
    "    z = x2[:]\n",
    "    x2[1] = \"what\"\n",
    "    print(z)\n",
    "    "
   ]
  },
  {
   "cell_type": "code",
   "execution_count": null,
   "id": "70660c17",
   "metadata": {},
   "outputs": [],
   "source": [
    "listMem(1,2,3)"
   ]
  },
  {
   "cell_type": "code",
   "execution_count": null,
   "id": "d70fa61f",
   "metadata": {},
   "outputs": [],
   "source": [
    "#Lists can be nested to form some multidimensional structure\n",
    "def multiDimList(a,b,c):\n",
    "    x = [a,b,c]\n",
    "    x = [x] * 2\n",
    "    print(x)\n",
    "    \n",
    "    #multiDim Splicing\n",
    "    print(x[0])\n",
    "    print(x[0][1])\n",
    "    \n",
    "    #can loop through\n",
    "    x[1] = [4,5,6]\n",
    "    for xi in x:\n",
    "        print(xi)"
   ]
  },
  {
   "cell_type": "code",
   "execution_count": null,
   "id": "533f4f73",
   "metadata": {},
   "outputs": [],
   "source": [
    "multiDimList(\"happy\",2,\"world\")"
   ]
  },
  {
   "cell_type": "markdown",
   "id": "3fe61d80",
   "metadata": {},
   "source": [
    "### List Comprehension (if time)\n",
    "\n",
    "List comprehension allows us to generate a new list based on values of a previous list. It combines the list data structure, for loops, and if statements into a single helpful format.\n",
    "\n",
    "Let's say we have a list of genes and want to pull out all the mitochondrial genes (with the \"mt-\" pattern). If you were to achieve this without list comprehension it would look like this:"
   ]
  },
  {
   "cell_type": "code",
   "execution_count": null,
   "id": "f3a23f05",
   "metadata": {},
   "outputs": [],
   "source": [
    "def mtGenes(lst):\n",
    "    mt_gene_list = []\n",
    "\n",
    "    for gene in lst:\n",
    "        if \"mt-\" in gene:\n",
    "            mt_gene_list.append(gene)\n",
    "    print(mt_gene_list)"
   ]
  },
  {
   "cell_type": "code",
   "execution_count": null,
   "id": "84c46a8d",
   "metadata": {},
   "outputs": [],
   "source": [
    "mtGenes(['mt-gene1','SOX4','HOX4','mt-gene2','Sept7'])"
   ]
  },
  {
   "cell_type": "code",
   "execution_count": null,
   "id": "791a3e2f",
   "metadata": {},
   "outputs": [],
   "source": [
    "#now let's use list comprehension:\n",
    "def mtGenes_lc(lst):\n",
    "    mt_gene_list = [gene.upper() for gene in lst if \"mt\" in gene]\n",
    "    print(mt_gene_list)"
   ]
  },
  {
   "cell_type": "code",
   "execution_count": null,
   "id": "5c26a98c",
   "metadata": {},
   "outputs": [],
   "source": [
    "mtGenes_lc(['mt-gene1','SOX4','HOX4','mt-gene2','Sept7'])"
   ]
  },
  {
   "cell_type": "markdown",
   "id": "3fdeb797",
   "metadata": {},
   "source": [
    "So now that we see how using list comprehension can help make our code simplier and shorter. How are they constructed?\n",
    "\n",
    "The syntax follows this pattern:\n",
    "\n",
    "newlist = [**expression** for **item** in **iterable** if **condition**]  \n",
    "\n",
    "Let's break this down:  \n",
    "expression: gene.upper()  \n",
    "item in iterable: gene in gene_list  \n",
    "condition: if \"mt\" in gene  \n",
    "\n",
    "For each item (gene) in our iterable (gene_list), check the condition (see if it contains 'mt'). If so, run the expression (gene.upper) and place it in the newlist (mt_upper_gene_list)"
   ]
  },
  {
   "cell_type": "markdown",
   "id": "f116debd",
   "metadata": {},
   "source": [
    "## Dictionaries\n",
    "\n",
    "The final collection we're going to look is the dictionary. A dictionary is similar to a list, but instead of accessing the values by their position, we can assign them to arbitrary keys. These dictionaries are stored in key-value pairs where the key is what you give the dictionary to have it return the corresponding value. It might sound confusing but when you start using them it makes a lot more sense"
   ]
  },
  {
   "cell_type": "code",
   "execution_count": null,
   "id": "fe02c16d",
   "metadata": {},
   "outputs": [],
   "source": [
    "def makeDict():\n",
    "    #make dictionaries using the {} symbol\n",
    "    my_diction = {'key1':1,'b':2, 10:'ten'}\n",
    "    #instead of using position index, pull out using key name\n",
    "    print(my_diction['key1'])\n",
    "    #python knows you have a dictionary so it will search for the key labeled 10, not the 10th element. Dictionaries aren't ordered\n",
    "    print(my_diction[10])\n",
    "    #can access the keys and values\n",
    "    print('My keys are: ', my_diction.keys())\n",
    "    print('My values are: ',my_diction.values())\n",
    "    print('My pairs are: ', my_diction.items())\n",
    "    \n",
    "    #can add new values or change existing ones. can have multiple keys with the same values\n",
    "    my_diction['key1'] = \"new\"\n",
    "    my_diction['key2'] = \"new\"\n",
    "    print(my_diction)\n",
    "    \n",
    "    #in only checks the keys\n",
    "    print(\"key1\" in my_diction)\n",
    "    print(\"new\" in my_diction)\n",
    "    print(\"new\" in my_diction.values())"
   ]
  },
  {
   "cell_type": "code",
   "execution_count": null,
   "id": "02040654",
   "metadata": {},
   "outputs": [],
   "source": [
    "makeDict()"
   ]
  },
  {
   "cell_type": "code",
   "execution_count": null,
   "id": "2727bc7d",
   "metadata": {},
   "outputs": [],
   "source": [
    "def geneChrs():\n",
    "    gene_dict = {'g1' : \"chr1\", \"g2\" : \"chrM\", \"g3\":\"chr7\"}\n",
    "    #can loop through the items\n",
    "    for xi in gene_dict.items():\n",
    "        print(\"Gene\", xi[0], \"is on\", xi[1])\n",
    "    \n",
    "    print(\"-----\")\n",
    "    \n",
    "    #or loop through keys\n",
    "    for yi in gene_dict.keys():\n",
    "        print(\"Gene\", yi, \"is on\", gene_dict[yi])"
   ]
  },
  {
   "cell_type": "code",
   "execution_count": null,
   "id": "0be08537",
   "metadata": {},
   "outputs": [],
   "source": [
    "geneChrs()"
   ]
  },
  {
   "cell_type": "markdown",
   "id": "03e4aeb4",
   "metadata": {},
   "source": [
    "## Exercises\n"
   ]
  },
  {
   "cell_type": "code",
   "execution_count": null,
   "id": "a2b7d633",
   "metadata": {},
   "outputs": [],
   "source": [
    "#1. Given a small section of text, return how many sentences there are (only consider periods(.), ignore ? or !)\n",
    "#For example providing this as input \"My name is Inigo Montoya. You killed my father. Prepare to die.\" \n",
    "#should return 3\n",
    "def sentenceFinder(text):\n",
    "    pass\n",
    "\n",
    "#2. Given a string of bases, return whether the first 3 bases encode the 'ATG' start codon\n",
    "def startCodon(dna):\n",
    "    pass\n",
    "\n",
    "#3. Given a string of bases (A, G, T, and C), produce a list of the three-letter\n",
    "#codons that sequence gives you. If there are 1 or 2 letters at the\n",
    "#end of the sequence, ignore them.\n",
    "#mkCodons(\"AGATTAGCCATCGGACTTGATGC\") ->\n",
    "#  [\"AGA\", \"TTA\", \"GCC\", \"ATC\", \"GGA\", \"CTT\", \"GAT\"]\n",
    "def mkCodons(dna):\n",
    "    pass\n",
    "\n",
    "#4. Write a function that takes a tuple of numbers and prints their mean,\n",
    "# without using the sum() function for tuples. The printed response\n",
    "# should be formatted using this style:\n",
    "# >>>tupleAve((1, 3, 5))\n",
    "#  The average of (1, 3, 5) is 3.000000\n",
    "def tupleAve(tpl):\n",
    "    pass\n",
    "\n",
    "#5. Write a function that iterates through a list and prints whether each number is positive, negative, or zero\n",
    "def listSign(lst):\n",
    "    pass\n",
    "\n",
    "#6. Write a function that checks to see if a list of numbers is sorted.\n",
    "def isSorted(lst):\n",
    "    pass\n",
    "\n",
    "#7. Write a function that takes a list and two numbers and swaps the elements\n",
    "#at those positions. Note that the function may or may not return something, but\n",
    "#the original list should be mutated. (This is called an \"in-place\" change)\n",
    "#That is,\n",
    "#a=[1,4,6]\n",
    "#swap(a, 1, 2)\n",
    "#print (a) -> [1, 6, 4]\n",
    "def swap(lst, pos1, pos2):\n",
    "    pass\n",
    "\n",
    "#8. Write a function that takes a list and two numbers and returns a list with\n",
    "#the elements at those positions swapped. The original list should *not* be\n",
    "#mutated. (Functions that don't mutate their arguments or access any global\n",
    "#state are called pure.)\n",
    "#a = [1,4,6]\n",
    "#b = swapConst(a,1,2)\n",
    "#print (b) -> [1, 6, 4]\n",
    "#print (a) -> [1, 4, 6]\n",
    "def swapConst(lst, pos1, pos2):\n",
    "    pass\n",
    "\n",
    "#9. Use a dictionary to count the frequency of each nucleotide in this sequence:\n",
    "#AGTCTGCTCTGACAGATGCAATCAGATACGTTACGATCAGTCGTACTGACTACTGCTGACTACCTGATGC\n",
    "#You can just print your dictionary out as your answer\n",
    "def nucDict(dna):\n",
    "    pass\n",
    "\n",
    "#10. The relationship between codons and amino acids can be well-described by\n",
    "#a dictionary. If you were to construct such a dictionary, what would be the\n",
    "#keys? What would be the values?"
   ]
  }
 ],
 "metadata": {
  "kernelspec": {
   "display_name": "Python 3 (ipykernel)",
   "language": "python",
   "name": "python3"
  },
  "language_info": {
   "codemirror_mode": {
    "name": "ipython",
    "version": 3
   },
   "file_extension": ".py",
   "mimetype": "text/x-python",
   "name": "python",
   "nbconvert_exporter": "python",
   "pygments_lexer": "ipython3",
   "version": "3.12.2"
  }
 },
 "nbformat": 4,
 "nbformat_minor": 5
}
