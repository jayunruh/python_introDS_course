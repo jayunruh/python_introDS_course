{
 "cells": [
  {
   "cell_type": "code",
   "execution_count": null,
   "id": "6ce4cdbd",
   "metadata": {},
   "outputs": [],
   "source": [
    "from random import randint"
   ]
  },
  {
   "cell_type": "markdown",
   "id": "14fab4cf",
   "metadata": {},
   "source": [
    "## Datatypes\n",
    "\n",
    "\n",
    "Python stores variables as specific datatypes, which tells Python what actions it's allowed to do with it. For example, multiplying two integers together works, but multiplying two strings together doesn't really make sense. Unlike some other languages, Python is a dynamically typed language, meaning that you don't need to explicitly declare the data type, Python will infer it for you. You are also sometimes able to change the type, either explicitly or implicitly.  Different `types` of variables have different methods (read: built-in functions) associated with them. We'll see some examples of those in a little bit. \n",
    "\n",
    "Here are some datatypes that were introduced last week:  \n",
    "\n",
    "Strings  \n",
    "Integers  \n",
    "Float  \n",
    "Boolean  \n",
    "\n",
    "Here are some new ones we are going to introduce today:  \n",
    "Tuples  \n",
    "Lists  \n",
    "Dictionaries  "
   ]
  },
  {
   "cell_type": "code",
   "execution_count": null,
   "id": "e996d45c",
   "metadata": {},
   "outputs": [],
   "source": []
  },
  {
   "cell_type": "markdown",
   "id": "a3f49b25",
   "metadata": {},
   "source": [
    "## Tuples  \n",
    "\n",
    "A tuple is simply an ordered collection of things. A string is actually a special type of tuple, so you already have some experience working with them. Importantly, tuples are IMMUTABLE, meaning once created, their values CANNOT be altered."
   ]
  },
  {
   "cell_type": "code",
   "execution_count": null,
   "id": "1663885b",
   "metadata": {},
   "outputs": [],
   "source": []
  },
  {
   "cell_type": "markdown",
   "id": "610cb76f",
   "metadata": {},
   "source": [
    "## Lists\n",
    "\n",
    "Lists are another one of Python's sequence collections, however they are mutable, which makes them both very powerful but also dangerous if proper care isn't taken"
   ]
  },
  {
   "cell_type": "code",
   "execution_count": null,
   "id": "6438f4ae",
   "metadata": {},
   "outputs": [],
   "source": []
  },
  {
   "cell_type": "markdown",
   "id": "40461ca5",
   "metadata": {},
   "source": [
    "### List Comprehension (if time)\n",
    "\n",
    "List comprehension allows us to generate a new list based on values of a previous list. It combines the list data structure, for loops, and if statements into a single helpful format.\n",
    "\n",
    "Let's say we have a list of genes and want to pull out all the mitochondrial genes (with the \"mt-\" pattern). If you were to achieve this without list comprehension it would look like this:"
   ]
  },
  {
   "cell_type": "code",
   "execution_count": null,
   "id": "5247dcbc",
   "metadata": {},
   "outputs": [],
   "source": []
  },
  {
   "cell_type": "markdown",
   "id": "bac60486",
   "metadata": {},
   "source": [
    "So now that we see how using list comprehension can help make our code simplier and shorter. How are they constructed?\n",
    "\n",
    "The syntax follows this pattern:\n",
    "\n",
    "newlist = [**expression** for **item** in **iterable** if **condition**]  \n",
    "\n",
    "Let's break this down:  \n",
    "expression: gene.upper()  \n",
    "item in iterable: gene in gene_list  \n",
    "condition: if \"mt\" in gene  \n",
    "\n",
    "For each item (gene) in our iterable (gene_list), check the condition (see if it contains 'mt'). If so, run the expression (gene.upper) and place it in the newlist (mt_upper_gene_list)"
   ]
  },
  {
   "cell_type": "code",
   "execution_count": null,
   "id": "f31f6d68",
   "metadata": {},
   "outputs": [],
   "source": []
  },
  {
   "cell_type": "markdown",
   "id": "6353915a",
   "metadata": {},
   "source": [
    "## Dictionaries\n",
    "\n",
    "The final collection we're going to look is the dictionary. A dictionary is similar to a list, but instead of accessing the values by their position, we can assign them to arbitrary keys. These dictionaries are stored in key-value pairs where the key is what you give the dictionary to have it return the corresponding value. It might sound confusing but when you start using them it makes a lot more sense"
   ]
  },
  {
   "cell_type": "code",
   "execution_count": null,
   "id": "2e585440",
   "metadata": {},
   "outputs": [],
   "source": []
  },
  {
   "cell_type": "markdown",
   "id": "7e8c0a08",
   "metadata": {},
   "source": [
    "## Exercises"
   ]
  },
  {
   "cell_type": "code",
   "execution_count": null,
   "id": "5dfc28dc",
   "metadata": {},
   "outputs": [],
   "source": [
    "#1. Given a small section of text, return how many sentences there are (only consider periods(.), ignore ? or !)\n",
    "#For example providing this as input \"My name is Inigo Montoya. You killed my father. Prepare to die.\" \n",
    "#should return 3\n",
    "def sentenceFinder(text):\n",
    "    pass\n",
    "\n",
    "#2. Given a string of bases, return whether the first 3 bases encode the 'ATG' start codon\n",
    "def startCodon(dna):\n",
    "    pass\n",
    "\n",
    "#3. Given a string of bases (A, G, T, and C), produce a list of the three-letter\n",
    "#codons that sequence gives you. If there are 1 or 2 letters at the\n",
    "#end of the sequence, ignore them.\n",
    "#mkCodons(\"AGATTAGCCATCGGACTTGATGC\") ->\n",
    "#  [\"AGA\", \"TTA\", \"GCC\", \"ATC\", \"GGA\", \"CTT\", \"GAT\"]\n",
    "def mkCodons(dna):\n",
    "    pass\n",
    "\n",
    "#4. Write a function that takes a tuple of numbers and prints their mean,\n",
    "# without using the sum() function for tuples. The printed response\n",
    "# should be formatted using this style:\n",
    "# >>>tupleAve((1, 3, 5))\n",
    "#  The average of (1, 3, 5) is 3.000000\n",
    "def tupleAve(tpl):\n",
    "    pass\n",
    "\n",
    "#5. Write a function that iterates through a list and prints whether each number is positive, negative, or zero\n",
    "def listSign(lst):\n",
    "    pass\n",
    "\n",
    "#6. Write a function that checks to see if a list of numbers is sorted.\n",
    "def isSorted(lst):\n",
    "    pass\n",
    "\n",
    "#7. Write a function that takes a list and two numbers and swaps the elements\n",
    "#at those positions. Note that the function may or may not return something, but\n",
    "#the original list should be mutated. (This is called an \"in-place\" change)\n",
    "#That is,\n",
    "#a=[1,4,6]\n",
    "#swap(a, 1, 2)\n",
    "#print (a) -> [1, 6, 4]\n",
    "def swap(lst, pos1, pos2):\n",
    "    pass\n",
    "\n",
    "#8. Write a function that takes a list and two numbers and returns a list with\n",
    "#the elements at those positions swapped. The original list should *not* be\n",
    "#mutated. (Functions that don't mutate their arguments or access any global\n",
    "#state are called pure.)\n",
    "#a = [1,4,6]\n",
    "#b = swapConst(a,1,2)\n",
    "#print (b) -> [1, 6, 4]\n",
    "#print (a) -> [1, 4, 6]\n",
    "def swapConst(lst, pos1, pos2):\n",
    "    pass\n",
    "\n",
    "#9. Use a dictionary to count the frequency of each nucleotide in this sequence:\n",
    "#AGTCTGCTCTGACAGATGCAATCAGATACGTTACGATCAGTCGTACTGACTACTGCTGACTACCTGATGC\n",
    "#You can just print your dictionary out as your answer\n",
    "def nucDict(dna):\n",
    "    pass\n",
    "\n",
    "#10. The relationship between codons and amino acids can be well-described by\n",
    "#a dictionary. If you were to construct such a dictionary, what would be the\n",
    "#keys? What would be the values?"
   ]
  }
 ],
 "metadata": {
  "kernelspec": {
   "display_name": "Python 3 (ipykernel)",
   "language": "python",
   "name": "python3"
  },
  "language_info": {
   "codemirror_mode": {
    "name": "ipython",
    "version": 3
   },
   "file_extension": ".py",
   "mimetype": "text/x-python",
   "name": "python",
   "nbconvert_exporter": "python",
   "pygments_lexer": "ipython3",
   "version": "3.9.13"
  }
 },
 "nbformat": 4,
 "nbformat_minor": 5
}
