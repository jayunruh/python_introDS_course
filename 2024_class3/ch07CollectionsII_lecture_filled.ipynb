{
 "cells": [
  {
   "cell_type": "markdown",
   "id": "f5130062",
   "metadata": {},
   "source": [
    "## On lists, dictionaries, series and dataframes\n",
    "\n",
    "### List Comprehension\n",
    "\n",
    "- Or, how to apply some function to a bunch of elements in a list"
   ]
  },
  {
   "cell_type": "code",
   "execution_count": 1,
   "id": "f9289cf2",
   "metadata": {},
   "outputs": [
    {
     "name": "stdout",
     "output_type": "stream",
     "text": [
      "['ROYALS', 'TWINS', 'TIGERS', 'WHITE SOX']\n"
     ]
    }
   ],
   "source": [
    "\n",
    "baseball_teams = ['Royals', 'Twins', 'Tigers', 'White Sox']\n",
    "baseball_teams_upper = []\n",
    "for team in baseball_teams: \n",
    "  baseball_teams_upper.append(team.upper())\n",
    "\n",
    "print(baseball_teams_upper)"
   ]
  },
  {
   "cell_type": "markdown",
   "id": "5d7afbd0",
   "metadata": {},
   "source": [
    "- I'm really lazy and try to keep my typing to a minimum (after all, my time is worth a lot more than the computer's)\n",
    "- Is there a way for me to concisely write the loop above in a clear manner?\n",
    "  - Hint: yes"
   ]
  },
  {
   "cell_type": "code",
   "execution_count": 2,
   "id": "04eb3dea",
   "metadata": {},
   "outputs": [
    {
     "data": {
      "text/plain": [
       "['Royals', 'Twins', 'Tigers', 'White Sox']"
      ]
     },
     "execution_count": 2,
     "metadata": {},
     "output_type": "execute_result"
    }
   ],
   "source": [
    "[x for x in baseball_teams]"
   ]
  },
  {
   "cell_type": "code",
   "execution_count": 3,
   "id": "f9ca092d",
   "metadata": {
    "lines_to_next_cell": 2
   },
   "outputs": [
    {
     "data": {
      "text/plain": [
       "['ROYALS', 'TWINS', 'TIGERS', 'WHITE SOX']"
      ]
     },
     "execution_count": 3,
     "metadata": {},
     "output_type": "execute_result"
    }
   ],
   "source": [
    "[x.upper() for x in baseball_teams]"
   ]
  },
  {
   "cell_type": "markdown",
   "id": "213c8f0d",
   "metadata": {},
   "source": [
    "- Don't forget, just like in a loop, we can call our variable (NOT THE LIST!! Just the variable that acts as placeholder) whatever we want. But it's better to be clear about what you're manipulating!"
   ]
  },
  {
   "cell_type": "code",
   "execution_count": 4,
   "id": "c4762aeb",
   "metadata": {
    "lines_to_next_cell": 2
   },
   "outputs": [
    {
     "data": {
      "text/plain": [
       "['ROYALS', 'TWINS', 'TIGERS', 'WHITE SOX']"
      ]
     },
     "execution_count": 4,
     "metadata": {},
     "output_type": "execute_result"
    }
   ],
   "source": [
    "[team.upper() for team in baseball_teams]"
   ]
  },
  {
   "cell_type": "markdown",
   "id": "d613e430",
   "metadata": {},
   "source": [
    "- I only want to modify one list element, otherwise, return the element unchanged."
   ]
  },
  {
   "cell_type": "code",
   "execution_count": 5,
   "id": "924a6787",
   "metadata": {},
   "outputs": [
    {
     "name": "stdout",
     "output_type": "stream",
     "text": [
      "['ROYALS', 'Twins', 'Tigers', 'White Sox']\n"
     ]
    }
   ],
   "source": [
    "baseball_teams_upper = []\n",
    "for team in baseball_teams:\n",
    "  if team == \"Royals\":\n",
    "    baseball_teams_upper.append(team.upper())\n",
    "  else:\n",
    "    baseball_teams_upper.append(team)\n",
    "print(baseball_teams_upper)\n"
   ]
  },
  {
   "cell_type": "markdown",
   "id": "28d5735c",
   "metadata": {},
   "source": [
    "- You can do some complicated logic in a list comprehension"
   ]
  },
  {
   "cell_type": "code",
   "execution_count": 6,
   "id": "84361e0b",
   "metadata": {},
   "outputs": [
    {
     "data": {
      "text/plain": [
       "['ROYALS', 'Twins', 'Tigers', 'White Sox']"
      ]
     },
     "execution_count": 6,
     "metadata": {},
     "output_type": "execute_result"
    }
   ],
   "source": [
    "[team.upper() if team == \"Royals\" else team for team in baseball_teams]"
   ]
  },
  {
   "cell_type": "markdown",
   "id": "f98c3243",
   "metadata": {},
   "source": [
    "- Benefits of list comprehension: \n",
    "\n",
    "1. Faster to write (no seriously, that is a benefit sometimes)\n",
    "2. Always returns a list, so no need to mess around with append/extend etc.\n",
    "3. Great for quickly filtering elements out of a list, or modifying specific elements\n",
    "\n",
    "---\n",
    "\n",
    "### Dictionaries part II\n",
    "\n",
    "Recall that there are several ways to create a dictionary\n",
    "\n",
    "1. Init an empty dictionary and fill it with keys/values manually\n",
    "2. Set key value pairs when creating the dictionary"
   ]
  },
  {
   "cell_type": "markdown",
   "id": "98e475d0",
   "metadata": {},
   "source": [
    "#### A note on importing packages\n",
    "\n",
    "- The file `amino_acids.py` contains a bunch of defined lists that are `constants`, hence the ALL CAPS convention."
   ]
  },
  {
   "cell_type": "code",
   "execution_count": 7,
   "id": "76dfa43f",
   "metadata": {},
   "outputs": [],
   "source": [
    "%load_ext autoreload\n",
    "%autoreload 2\n",
    "from pprint import pprint\n",
    "from amino_acids import AMINO_ACID_NAMES, AMINO_ACID_CODONS, AMINO_ACID_CODES, AMINO_ACID_WEIGHTS"
   ]
  },
  {
   "cell_type": "markdown",
   "id": "8f7b95d2",
   "metadata": {},
   "source": [
    "- Like lists, there are a few pieces of syntactical-sugar we can use\n",
    "- First, let's refresh our memory on how to create a dictionary"
   ]
  },
  {
   "cell_type": "code",
   "execution_count": 8,
   "id": "eb96fe08",
   "metadata": {},
   "outputs": [
    {
     "name": "stdout",
     "output_type": "stream",
     "text": [
      "{'Ala': 'Alanine', 'Arg': 'Arginine', 'Asp': 'Asparagine'}\n",
      "Alanine\n",
      "Asparagine\n"
     ]
    }
   ],
   "source": [
    "\n",
    "amino_acids = {}\n",
    "amino_acids['Ala'] = 'Alanine'\n",
    "amino_acids['Arg'] = 'Arginine'\n",
    "amino_acids['Asp'] = 'Asparagine'\n",
    "\n",
    "pprint(amino_acids)\n",
    "print(amino_acids['Ala'])\n",
    "print(amino_acids['Asp'])\n",
    "# And so on..."
   ]
  },
  {
   "cell_type": "markdown",
   "id": "4804d8ee",
   "metadata": {},
   "source": [
    "- We can also create all of our key values ahead of time if we know them..."
   ]
  },
  {
   "cell_type": "code",
   "execution_count": 9,
   "id": "52e25020",
   "metadata": {},
   "outputs": [
    {
     "name": "stdout",
     "output_type": "stream",
     "text": [
      "True\n"
     ]
    }
   ],
   "source": [
    "amino_acids_all_at_once = {'Ala': 'Alanine', 'Arg': 'Arginine', 'Asp': 'Asparagine'}\n",
    "# By the way - you can see if two dictionaries are equal\n",
    "print(amino_acids == amino_acids_all_at_once)"
   ]
  },
  {
   "cell_type": "markdown",
   "id": "5a055ade",
   "metadata": {},
   "source": [
    "# Question 1: Note that in the cell below, I add the key/value pairs in a different order than I did originally. Do you expect the comparison to return _True_ or _False_?"
   ]
  },
  {
   "cell_type": "code",
   "execution_count": 10,
   "id": "025b3392",
   "metadata": {},
   "outputs": [
    {
     "name": "stdout",
     "output_type": "stream",
     "text": [
      "True\n"
     ]
    }
   ],
   "source": [
    "amino_acids_all_at_once = {'Asp': 'Asparagine', 'Arg': 'Arginine', 'Ala': 'Alanine'}\n",
    "print(amino_acids == amino_acids_all_at_once)"
   ]
  },
  {
   "cell_type": "markdown",
   "id": "0b338e73",
   "metadata": {},
   "source": [
    "- We're going to introduce a special function in python called `enumerate` that helps us manipulate lists and their elements. Previously, we've been iterating through lists using an arbitrary variable name, e.g."
   ]
  },
  {
   "cell_type": "code",
   "execution_count": 11,
   "id": "3be11eed",
   "metadata": {},
   "outputs": [
    {
     "name": "stdout",
     "output_type": "stream",
     "text": [
      "say\n",
      "this\n",
      "five\n",
      "times\n",
      "fast\n"
     ]
    }
   ],
   "source": [
    "muh_list = ['say', 'this', 'five', 'times', 'fast']\n",
    "for floopy_ba_boopy in muh_list:\n",
    "  print(floopy_ba_boopy)\n"
   ]
  },
  {
   "cell_type": "markdown",
   "id": "78ae0ce9",
   "metadata": {},
   "source": [
    "  - This works great when iterating through one list, but what if we want to iterate through multiple lists at once?"
   ]
  },
  {
   "cell_type": "code",
   "execution_count": 12,
   "id": "3d1c0cb1",
   "metadata": {},
   "outputs": [
    {
     "name": "stdout",
     "output_type": "stream",
     "text": [
      "0 say\n",
      "1 this\n",
      "2 five\n",
      "3 times\n",
      "4 fast\n"
     ]
    }
   ],
   "source": [
    "\n",
    "for i, k in enumerate(muh_list):\n",
    "  print(i, k)"
   ]
  },
  {
   "cell_type": "markdown",
   "id": "79327661",
   "metadata": {},
   "source": [
    "- The enumerate function returns a tuple with the index and the value of the list at that index"
   ]
  },
  {
   "cell_type": "markdown",
   "id": "2cab7080",
   "metadata": {},
   "source": [
    "\n",
    "\n",
    "\n"
   ]
  },
  {
   "cell_type": "markdown",
   "id": "5238977b",
   "metadata": {
    "lines_to_next_cell": 0
   },
   "source": [
    "# Question 2: Given a list of amino acid names, their short codes and their symbol, create a dictionary where the SYMBOL is the key, and the values are the symbol and their short code\n",
    "\n",
    "  - Example key/value pair: `amino_acids['K']` should return: ``'Lysine', ['AAA', 'AAG']``"
   ]
  },
  {
   "cell_type": "code",
   "execution_count": 14,
   "id": "8637e764",
   "metadata": {},
   "outputs": [
    {
     "name": "stdout",
     "output_type": "stream",
     "text": [
      "['Alanine', 'Arginine', 'Asparagine', 'Aspartic acid', 'Cysteine', 'Glutamic acid', 'Glutamine', 'Glycine', 'Histidine', 'Isoleucine', 'Leucine', 'Lysine', 'Methionine', 'Phenylalanine', 'Proline', 'Serine', 'Threonine', 'Tryptophan', 'Tyrosine', 'Valine']\n",
      "['A', 'R', 'N', 'D', 'C', 'E', 'Q', 'G', 'H', 'I', 'L', 'K', 'M', 'F', 'P', 'S', 'T', 'W', 'Y', 'V']\n",
      "[['GCT', 'GCC', 'GCA', 'GCG'], ['CGT', 'CGC', 'CGA', 'CGG', 'AGA', 'AGG'], ['AAT', 'AAC'], ['GAT', 'GAC'], ['TGT', 'TGC'], ['GAA', 'GAG'], ['CAA', 'CAG'], ['GGT', 'GGC', 'GGA', 'GGG'], ['CAT', 'CAC'], ['ATT', 'ATC', 'ATA'], ['TTA', 'TTG', 'CTT', 'CTC', 'CTA', 'CTG'], ['AAA', 'AAG'], ['ATG'], ['TTT', 'TTC'], ['CCT', 'CCC', 'CCA', 'CCG'], ['TCT', 'TCC', 'TCA', 'TCG', 'AGT', 'AGC'], ['ACT', 'ACC', 'ACA', 'ACG'], ['TGG'], ['TAT', 'TAC'], ['GTT', 'GTC', 'GTA', 'GTG']]\n"
     ]
    }
   ],
   "source": [
    "print(AMINO_ACID_NAMES)\n",
    "print(AMINO_ACID_CODES)\n",
    "print(AMINO_ACID_CODONS)\n"
   ]
  },
  {
   "cell_type": "code",
   "execution_count": 15,
   "id": "0593fff1",
   "metadata": {},
   "outputs": [
    {
     "name": "stdout",
     "output_type": "stream",
     "text": [
      "Alanine\n",
      "A\n",
      "Arginine\n",
      "R\n",
      "Asparagine\n",
      "N\n",
      "Aspartic acid\n",
      "D\n",
      "Cysteine\n",
      "C\n",
      "Glutamic acid\n",
      "E\n",
      "Glutamine\n",
      "Q\n",
      "Glycine\n",
      "G\n",
      "Histidine\n",
      "H\n",
      "Isoleucine\n",
      "I\n",
      "Leucine\n",
      "L\n",
      "Lysine\n",
      "K\n",
      "Methionine\n",
      "M\n",
      "Phenylalanine\n",
      "F\n",
      "Proline\n",
      "P\n",
      "Serine\n",
      "S\n",
      "Threonine\n",
      "T\n",
      "Tryptophan\n",
      "W\n",
      "Tyrosine\n",
      "Y\n",
      "Valine\n",
      "V\n"
     ]
    }
   ],
   "source": [
    "for i, k in enumerate(AMINO_ACID_NAMES):\n",
    "  # This is the same thing as printing k...\n",
    "  print(AMINO_ACID_NAMES[i])\n",
    "  # But we can also use i to access elements in a different list\n",
    "  print(AMINO_ACID_CODES[i])"
   ]
  },
  {
   "cell_type": "markdown",
   "id": "d6067b50",
   "metadata": {},
   "source": [
    "- We can also use the `zip` function to iterate through multiple lists at the same time"
   ]
  },
  {
   "cell_type": "code",
   "execution_count": 16,
   "id": "1f4ed967",
   "metadata": {},
   "outputs": [
    {
     "name": "stdout",
     "output_type": "stream",
     "text": [
      "Alanine A ['GCT', 'GCC', 'GCA', 'GCG']\n",
      "Arginine R ['CGT', 'CGC', 'CGA', 'CGG', 'AGA', 'AGG']\n",
      "Asparagine N ['AAT', 'AAC']\n",
      "Aspartic acid D ['GAT', 'GAC']\n",
      "Cysteine C ['TGT', 'TGC']\n",
      "Glutamic acid E ['GAA', 'GAG']\n",
      "Glutamine Q ['CAA', 'CAG']\n",
      "Glycine G ['GGT', 'GGC', 'GGA', 'GGG']\n",
      "Histidine H ['CAT', 'CAC']\n",
      "Isoleucine I ['ATT', 'ATC', 'ATA']\n",
      "Leucine L ['TTA', 'TTG', 'CTT', 'CTC', 'CTA', 'CTG']\n",
      "Lysine K ['AAA', 'AAG']\n",
      "Methionine M ['ATG']\n",
      "Phenylalanine F ['TTT', 'TTC']\n",
      "Proline P ['CCT', 'CCC', 'CCA', 'CCG']\n",
      "Serine S ['TCT', 'TCC', 'TCA', 'TCG', 'AGT', 'AGC']\n",
      "Threonine T ['ACT', 'ACC', 'ACA', 'ACG']\n",
      "Tryptophan W ['TGG']\n",
      "Tyrosine Y ['TAT', 'TAC']\n",
      "Valine V ['GTT', 'GTC', 'GTA', 'GTG']\n"
     ]
    }
   ],
   "source": [
    "for name, code, codon in zip(AMINO_ACID_NAMES, AMINO_ACID_CODES, AMINO_ACID_CODONS):\n",
    "  print(name, code, codon)"
   ]
  },
  {
   "cell_type": "code",
   "execution_count": 17,
   "id": "69d7ac83",
   "metadata": {},
   "outputs": [],
   "source": [
    "\n",
    "def create_aa_dict(amino_acid_names: list, amino_acid_codes: list, amino_acid_codons: list):\n",
    "  amino_acids = {}\n",
    "  for name, code, codon in zip(amino_acid_names, amino_acid_codes, amino_acid_codons):\n",
    "    amino_acids[code] = [name, codon]\n",
    "\n",
    "  return amino_acids\n"
   ]
  },
  {
   "cell_type": "code",
   "execution_count": 18,
   "id": "ac02e3ee",
   "metadata": {},
   "outputs": [
    {
     "name": "stdout",
     "output_type": "stream",
     "text": [
      "{'A': ['Alanine', ['GCT', 'GCC', 'GCA', 'GCG']],\n",
      " 'C': ['Cysteine', ['TGT', 'TGC']],\n",
      " 'D': ['Aspartic acid', ['GAT', 'GAC']],\n",
      " 'E': ['Glutamic acid', ['GAA', 'GAG']],\n",
      " 'F': ['Phenylalanine', ['TTT', 'TTC']],\n",
      " 'G': ['Glycine', ['GGT', 'GGC', 'GGA', 'GGG']],\n",
      " 'H': ['Histidine', ['CAT', 'CAC']],\n",
      " 'I': ['Isoleucine', ['ATT', 'ATC', 'ATA']],\n",
      " 'K': ['Lysine', ['AAA', 'AAG']],\n",
      " 'L': ['Leucine', ['TTA', 'TTG', 'CTT', 'CTC', 'CTA', 'CTG']],\n",
      " 'M': ['Methionine', ['ATG']],\n",
      " 'N': ['Asparagine', ['AAT', 'AAC']],\n",
      " 'P': ['Proline', ['CCT', 'CCC', 'CCA', 'CCG']],\n",
      " 'Q': ['Glutamine', ['CAA', 'CAG']],\n",
      " 'R': ['Arginine', ['CGT', 'CGC', 'CGA', 'CGG', 'AGA', 'AGG']],\n",
      " 'S': ['Serine', ['TCT', 'TCC', 'TCA', 'TCG', 'AGT', 'AGC']],\n",
      " 'T': ['Threonine', ['ACT', 'ACC', 'ACA', 'ACG']],\n",
      " 'V': ['Valine', ['GTT', 'GTC', 'GTA', 'GTG']],\n",
      " 'W': ['Tryptophan', ['TGG']],\n",
      " 'Y': ['Tyrosine', ['TAT', 'TAC']]}\n",
      "['Lysine', ['AAA', 'AAG']]\n",
      "Lysine\n",
      "['AAA', 'AAG']\n",
      "AAA\n"
     ]
    }
   ],
   "source": [
    "amino_acids = create_aa_dict(AMINO_ACID_NAMES, AMINO_ACID_CODES, AMINO_ACID_CODONS)\n",
    "pprint(amino_acids)\n",
    "print(amino_acids['K'])\n",
    "print(amino_acids['K'][0])\n",
    "print(amino_acids['K'][1])\n",
    "print(amino_acids['K'][1][0])"
   ]
  },
  {
   "cell_type": "markdown",
   "id": "058ebedb",
   "metadata": {},
   "source": [
    "# WARNING !!!!\n",
    "\n",
    "- You may have noticed that we made a _BIG_ assumption with creating our dictionary - all of the lists are ordered alphabetically (e.g. the first set of codons corresponds to the Alanine, and so on)"
   ]
  },
  {
   "cell_type": "code",
   "execution_count": 19,
   "id": "7bb4b55a",
   "metadata": {},
   "outputs": [
    {
     "name": "stdout",
     "output_type": "stream",
     "text": [
      "{'A': 89.1, 'R': 174.2, 'N': 132.1, 'D': 133.1, 'C': 121.2, 'E': 147.1, 'Q': 146.2, 'G': 75.1, 'H': 155.2, 'I': 131.2, 'L': 131.2, 'K': 146.2, 'M': 149.2, 'F': 165.2, 'P': 115.1, 'S': 105.1, 'T': 119.1, 'W': 204.2, 'Y': 181.2, 'V': 117.1}\n"
     ]
    }
   ],
   "source": [
    "from amino_acids import AMINO_ACID_WEIGHTS\n",
    "print(AMINO_ACID_WEIGHTS)\n",
    "\n",
    "# Fyi, the weights are in daltons, meaning Alanine weighs 89,100 grams per mole"
   ]
  },
  {
   "cell_type": "code",
   "execution_count": 20,
   "id": "0c04c207",
   "metadata": {},
   "outputs": [],
   "source": [
    "for key in amino_acids.keys():\n",
    "  # Always good to check for unexpected behavior\n",
    "  if key in AMINO_ACID_WEIGHTS.keys():\n",
    "    amino_acids[key].append(AMINO_ACID_WEIGHTS[key])\n",
    "  else: \n",
    "    print(\"What are we even doing here???\")"
   ]
  },
  {
   "cell_type": "code",
   "execution_count": 21,
   "id": "52bf2f56",
   "metadata": {},
   "outputs": [
    {
     "name": "stdout",
     "output_type": "stream",
     "text": [
      "{'A': ['Alanine', ['GCT', 'GCC', 'GCA', 'GCG'], 89.1],\n",
      " 'C': ['Cysteine', ['TGT', 'TGC'], 121.2],\n",
      " 'D': ['Aspartic acid', ['GAT', 'GAC'], 133.1],\n",
      " 'E': ['Glutamic acid', ['GAA', 'GAG'], 147.1],\n",
      " 'F': ['Phenylalanine', ['TTT', 'TTC'], 165.2],\n",
      " 'G': ['Glycine', ['GGT', 'GGC', 'GGA', 'GGG'], 75.1],\n",
      " 'H': ['Histidine', ['CAT', 'CAC'], 155.2],\n",
      " 'I': ['Isoleucine', ['ATT', 'ATC', 'ATA'], 131.2],\n",
      " 'K': ['Lysine', ['AAA', 'AAG'], 146.2],\n",
      " 'L': ['Leucine', ['TTA', 'TTG', 'CTT', 'CTC', 'CTA', 'CTG'], 131.2],\n",
      " 'M': ['Methionine', ['ATG'], 149.2],\n",
      " 'N': ['Asparagine', ['AAT', 'AAC'], 132.1],\n",
      " 'P': ['Proline', ['CCT', 'CCC', 'CCA', 'CCG'], 115.1],\n",
      " 'Q': ['Glutamine', ['CAA', 'CAG'], 146.2],\n",
      " 'R': ['Arginine', ['CGT', 'CGC', 'CGA', 'CGG', 'AGA', 'AGG'], 174.2],\n",
      " 'S': ['Serine', ['TCT', 'TCC', 'TCA', 'TCG', 'AGT', 'AGC'], 105.1],\n",
      " 'T': ['Threonine', ['ACT', 'ACC', 'ACA', 'ACG'], 119.1],\n",
      " 'V': ['Valine', ['GTT', 'GTC', 'GTA', 'GTG'], 117.1],\n",
      " 'W': ['Tryptophan', ['TGG'], 204.2],\n",
      " 'Y': ['Tyrosine', ['TAT', 'TAC'], 181.2]}\n"
     ]
    }
   ],
   "source": [
    "pprint(amino_acids)"
   ]
  },
  {
   "cell_type": "markdown",
   "id": "db856a08",
   "metadata": {},
   "source": [
    "# Question 3 - Using your newly made dictionary, calculate the weight of the protein with the following sequence: 'AAAAAAAAEKTWYV'"
   ]
  },
  {
   "cell_type": "code",
   "execution_count": 22,
   "id": "db7bdf69",
   "metadata": {
    "lines_to_next_cell": 2
   },
   "outputs": [],
   "source": [
    "def calculate_protein_weight(protein: str, amino_acid_dict: dict):\n",
    "  weight = 0\n",
    "  for aa in protein:\n",
    "    weight += amino_acid_dict[aa][2]\n",
    "  return weight"
   ]
  },
  {
   "cell_type": "code",
   "execution_count": 23,
   "id": "5cd53f10",
   "metadata": {},
   "outputs": [
    {
     "data": {
      "text/plain": [
       "1627.7"
      ]
     },
     "execution_count": 23,
     "metadata": {},
     "output_type": "execute_result"
    }
   ],
   "source": [
    "calculate_protein_weight('AAAAAAAAEKTWYV', amino_acids)"
   ]
  },
  {
   "cell_type": "markdown",
   "id": "690aad10",
   "metadata": {
    "lines_to_next_cell": 0
   },
   "source": [
    "- Wow. That's a complicated dictionary. It's also pretty annoying to dig around it, and have to remember what index corresponds to each value.\n",
    "  - What if we could make a dictionary (or dictionary like structure) that was easier to work with?\n",
    "  - Let's create a dictionary that let's us access values like amino_acids[\"key\"][\"Name\"] or amino_acids[\"key\"][\"Codons\"]\n",
    "\n",
    "- Introducing iterating on keys and values in dictionaries\n",
    "  - It turns out, it's not that different than using zip or enumerate!"
   ]
  },
  {
   "cell_type": "code",
   "execution_count": 24,
   "id": "65bf5f80",
   "metadata": {},
   "outputs": [
    {
     "name": "stdout",
     "output_type": "stream",
     "text": [
      "A ['Alanine', ['GCT', 'GCC', 'GCA', 'GCG'], 89.1]\n",
      "R ['Arginine', ['CGT', 'CGC', 'CGA', 'CGG', 'AGA', 'AGG'], 174.2]\n",
      "N ['Asparagine', ['AAT', 'AAC'], 132.1]\n",
      "D ['Aspartic acid', ['GAT', 'GAC'], 133.1]\n",
      "C ['Cysteine', ['TGT', 'TGC'], 121.2]\n",
      "E ['Glutamic acid', ['GAA', 'GAG'], 147.1]\n",
      "Q ['Glutamine', ['CAA', 'CAG'], 146.2]\n",
      "G ['Glycine', ['GGT', 'GGC', 'GGA', 'GGG'], 75.1]\n",
      "H ['Histidine', ['CAT', 'CAC'], 155.2]\n",
      "I ['Isoleucine', ['ATT', 'ATC', 'ATA'], 131.2]\n",
      "L ['Leucine', ['TTA', 'TTG', 'CTT', 'CTC', 'CTA', 'CTG'], 131.2]\n",
      "K ['Lysine', ['AAA', 'AAG'], 146.2]\n",
      "M ['Methionine', ['ATG'], 149.2]\n",
      "F ['Phenylalanine', ['TTT', 'TTC'], 165.2]\n",
      "P ['Proline', ['CCT', 'CCC', 'CCA', 'CCG'], 115.1]\n",
      "S ['Serine', ['TCT', 'TCC', 'TCA', 'TCG', 'AGT', 'AGC'], 105.1]\n",
      "T ['Threonine', ['ACT', 'ACC', 'ACA', 'ACG'], 119.1]\n",
      "W ['Tryptophan', ['TGG'], 204.2]\n",
      "Y ['Tyrosine', ['TAT', 'TAC'], 181.2]\n",
      "V ['Valine', ['GTT', 'GTC', 'GTA', 'GTG'], 117.1]\n"
     ]
    }
   ],
   "source": [
    "\n",
    "awesome_aa = {}\n",
    "for key, value in amino_acids.items():\n",
    "  print(key, value)\n",
    "  name = value[0]\n",
    "  codons = value[1]\n",
    "  weight = value[2]\n",
    "  summary = {f\"{name} is an amino acid with the following codons: {', '.join(codons)} that weighs {weight} grams per mole\"}\n",
    "  awesome_aa[key] = {'Name': name, 'Codons': codons, 'Weight': weight, 'Summary': summary}\n"
   ]
  },
  {
   "cell_type": "code",
   "execution_count": 25,
   "id": "dfd1558e",
   "metadata": {},
   "outputs": [
    {
     "name": "stdout",
     "output_type": "stream",
     "text": [
      "{'A': {'Name': 'Alanine', 'Codons': ['GCT', 'GCC', 'GCA', 'GCG'], 'Weight': 89.1, 'Summary': {'Alanine is an amino acid with the following codons: GCT, GCC, GCA, GCG that weighs 89.1 grams per mole'}}, 'R': {'Name': 'Arginine', 'Codons': ['CGT', 'CGC', 'CGA', 'CGG', 'AGA', 'AGG'], 'Weight': 174.2, 'Summary': {'Arginine is an amino acid with the following codons: CGT, CGC, CGA, CGG, AGA, AGG that weighs 174.2 grams per mole'}}, 'N': {'Name': 'Asparagine', 'Codons': ['AAT', 'AAC'], 'Weight': 132.1, 'Summary': {'Asparagine is an amino acid with the following codons: AAT, AAC that weighs 132.1 grams per mole'}}, 'D': {'Name': 'Aspartic acid', 'Codons': ['GAT', 'GAC'], 'Weight': 133.1, 'Summary': {'Aspartic acid is an amino acid with the following codons: GAT, GAC that weighs 133.1 grams per mole'}}, 'C': {'Name': 'Cysteine', 'Codons': ['TGT', 'TGC'], 'Weight': 121.2, 'Summary': {'Cysteine is an amino acid with the following codons: TGT, TGC that weighs 121.2 grams per mole'}}, 'E': {'Name': 'Glutamic acid', 'Codons': ['GAA', 'GAG'], 'Weight': 147.1, 'Summary': {'Glutamic acid is an amino acid with the following codons: GAA, GAG that weighs 147.1 grams per mole'}}, 'Q': {'Name': 'Glutamine', 'Codons': ['CAA', 'CAG'], 'Weight': 146.2, 'Summary': {'Glutamine is an amino acid with the following codons: CAA, CAG that weighs 146.2 grams per mole'}}, 'G': {'Name': 'Glycine', 'Codons': ['GGT', 'GGC', 'GGA', 'GGG'], 'Weight': 75.1, 'Summary': {'Glycine is an amino acid with the following codons: GGT, GGC, GGA, GGG that weighs 75.1 grams per mole'}}, 'H': {'Name': 'Histidine', 'Codons': ['CAT', 'CAC'], 'Weight': 155.2, 'Summary': {'Histidine is an amino acid with the following codons: CAT, CAC that weighs 155.2 grams per mole'}}, 'I': {'Name': 'Isoleucine', 'Codons': ['ATT', 'ATC', 'ATA'], 'Weight': 131.2, 'Summary': {'Isoleucine is an amino acid with the following codons: ATT, ATC, ATA that weighs 131.2 grams per mole'}}, 'L': {'Name': 'Leucine', 'Codons': ['TTA', 'TTG', 'CTT', 'CTC', 'CTA', 'CTG'], 'Weight': 131.2, 'Summary': {'Leucine is an amino acid with the following codons: TTA, TTG, CTT, CTC, CTA, CTG that weighs 131.2 grams per mole'}}, 'K': {'Name': 'Lysine', 'Codons': ['AAA', 'AAG'], 'Weight': 146.2, 'Summary': {'Lysine is an amino acid with the following codons: AAA, AAG that weighs 146.2 grams per mole'}}, 'M': {'Name': 'Methionine', 'Codons': ['ATG'], 'Weight': 149.2, 'Summary': {'Methionine is an amino acid with the following codons: ATG that weighs 149.2 grams per mole'}}, 'F': {'Name': 'Phenylalanine', 'Codons': ['TTT', 'TTC'], 'Weight': 165.2, 'Summary': {'Phenylalanine is an amino acid with the following codons: TTT, TTC that weighs 165.2 grams per mole'}}, 'P': {'Name': 'Proline', 'Codons': ['CCT', 'CCC', 'CCA', 'CCG'], 'Weight': 115.1, 'Summary': {'Proline is an amino acid with the following codons: CCT, CCC, CCA, CCG that weighs 115.1 grams per mole'}}, 'S': {'Name': 'Serine', 'Codons': ['TCT', 'TCC', 'TCA', 'TCG', 'AGT', 'AGC'], 'Weight': 105.1, 'Summary': {'Serine is an amino acid with the following codons: TCT, TCC, TCA, TCG, AGT, AGC that weighs 105.1 grams per mole'}}, 'T': {'Name': 'Threonine', 'Codons': ['ACT', 'ACC', 'ACA', 'ACG'], 'Weight': 119.1, 'Summary': {'Threonine is an amino acid with the following codons: ACT, ACC, ACA, ACG that weighs 119.1 grams per mole'}}, 'W': {'Name': 'Tryptophan', 'Codons': ['TGG'], 'Weight': 204.2, 'Summary': {'Tryptophan is an amino acid with the following codons: TGG that weighs 204.2 grams per mole'}}, 'Y': {'Name': 'Tyrosine', 'Codons': ['TAT', 'TAC'], 'Weight': 181.2, 'Summary': {'Tyrosine is an amino acid with the following codons: TAT, TAC that weighs 181.2 grams per mole'}}, 'V': {'Name': 'Valine', 'Codons': ['GTT', 'GTC', 'GTA', 'GTG'], 'Weight': 117.1, 'Summary': {'Valine is an amino acid with the following codons: GTT, GTC, GTA, GTG that weighs 117.1 grams per mole'}}}\n",
      "{'Lysine is an amino acid with the following codons: AAA, AAG that weighs '\n",
      " '146.2 grams per mole'}\n"
     ]
    }
   ],
   "source": [
    "\n",
    "print(awesome_aa)\n",
    "awesome_aa['K']['Name']\n",
    "awesome_aa['K']['Weight']\n",
    "pprint(awesome_aa['K']['Summary'])\n"
   ]
  },
  {
   "cell_type": "markdown",
   "id": "d62d8342",
   "metadata": {},
   "source": [
    "- That was a lot of work. Can I save the awesome_aa dictionary and use it later?\n",
    "- Great question Jonathon! You definitely can.\n",
    "- There's a bunch of different ways, but my personal favorite is it to save it as a .txt file to read in later."
   ]
  },
  {
   "cell_type": "code",
   "execution_count": 26,
   "id": "ed164c71",
   "metadata": {
    "lines_to_next_cell": 2
   },
   "outputs": [],
   "source": [
    "with open(\"awesome_aa.txt\", \"w\") as f:\n",
    "  f.write(str(awesome_aa))"
   ]
  },
  {
   "cell_type": "markdown",
   "id": "2c530ddc",
   "metadata": {},
   "source": [
    "# Dataframes! Wow we made it\n",
    "\n",
    "- Let's load in our awesome amino acid dictionary we made, and convert it to a dataframe"
   ]
  },
  {
   "cell_type": "code",
   "execution_count": 27,
   "id": "d990d4bd",
   "metadata": {},
   "outputs": [
    {
     "name": "stdout",
     "output_type": "stream",
     "text": [
      "{'A': {'Name': 'Alanine', 'Codons': ['GCT', 'GCC', 'GCA', 'GCG'], 'Weight': 89.1, 'Summary': {'Alanine is an amino acid with the following codons: GCT, GCC, GCA, GCG that weighs 89.1 grams per mole'}}, 'R': {'Name': 'Arginine', 'Codons': ['CGT', 'CGC', 'CGA', 'CGG', 'AGA', 'AGG'], 'Weight': 174.2, 'Summary': {'Arginine is an amino acid with the following codons: CGT, CGC, CGA, CGG, AGA, AGG that weighs 174.2 grams per mole'}}, 'N': {'Name': 'Asparagine', 'Codons': ['AAT', 'AAC'], 'Weight': 132.1, 'Summary': {'Asparagine is an amino acid with the following codons: AAT, AAC that weighs 132.1 grams per mole'}}, 'D': {'Name': 'Aspartic acid', 'Codons': ['GAT', 'GAC'], 'Weight': 133.1, 'Summary': {'Aspartic acid is an amino acid with the following codons: GAT, GAC that weighs 133.1 grams per mole'}}, 'C': {'Name': 'Cysteine', 'Codons': ['TGT', 'TGC'], 'Weight': 121.2, 'Summary': {'Cysteine is an amino acid with the following codons: TGT, TGC that weighs 121.2 grams per mole'}}, 'E': {'Name': 'Glutamic acid', 'Codons': ['GAA', 'GAG'], 'Weight': 147.1, 'Summary': {'Glutamic acid is an amino acid with the following codons: GAA, GAG that weighs 147.1 grams per mole'}}, 'Q': {'Name': 'Glutamine', 'Codons': ['CAA', 'CAG'], 'Weight': 146.2, 'Summary': {'Glutamine is an amino acid with the following codons: CAA, CAG that weighs 146.2 grams per mole'}}, 'G': {'Name': 'Glycine', 'Codons': ['GGT', 'GGC', 'GGA', 'GGG'], 'Weight': 75.1, 'Summary': {'Glycine is an amino acid with the following codons: GGT, GGC, GGA, GGG that weighs 75.1 grams per mole'}}, 'H': {'Name': 'Histidine', 'Codons': ['CAT', 'CAC'], 'Weight': 155.2, 'Summary': {'Histidine is an amino acid with the following codons: CAT, CAC that weighs 155.2 grams per mole'}}, 'I': {'Name': 'Isoleucine', 'Codons': ['ATT', 'ATC', 'ATA'], 'Weight': 131.2, 'Summary': {'Isoleucine is an amino acid with the following codons: ATT, ATC, ATA that weighs 131.2 grams per mole'}}, 'L': {'Name': 'Leucine', 'Codons': ['TTA', 'TTG', 'CTT', 'CTC', 'CTA', 'CTG'], 'Weight': 131.2, 'Summary': {'Leucine is an amino acid with the following codons: TTA, TTG, CTT, CTC, CTA, CTG that weighs 131.2 grams per mole'}}, 'K': {'Name': 'Lysine', 'Codons': ['AAA', 'AAG'], 'Weight': 146.2, 'Summary': {'Lysine is an amino acid with the following codons: AAA, AAG that weighs 146.2 grams per mole'}}, 'M': {'Name': 'Methionine', 'Codons': ['ATG'], 'Weight': 149.2, 'Summary': {'Methionine is an amino acid with the following codons: ATG that weighs 149.2 grams per mole'}}, 'F': {'Name': 'Phenylalanine', 'Codons': ['TTT', 'TTC'], 'Weight': 165.2, 'Summary': {'Phenylalanine is an amino acid with the following codons: TTT, TTC that weighs 165.2 grams per mole'}}, 'P': {'Name': 'Proline', 'Codons': ['CCT', 'CCC', 'CCA', 'CCG'], 'Weight': 115.1, 'Summary': {'Proline is an amino acid with the following codons: CCT, CCC, CCA, CCG that weighs 115.1 grams per mole'}}, 'S': {'Name': 'Serine', 'Codons': ['TCT', 'TCC', 'TCA', 'TCG', 'AGT', 'AGC'], 'Weight': 105.1, 'Summary': {'Serine is an amino acid with the following codons: TCT, TCC, TCA, TCG, AGT, AGC that weighs 105.1 grams per mole'}}, 'T': {'Name': 'Threonine', 'Codons': ['ACT', 'ACC', 'ACA', 'ACG'], 'Weight': 119.1, 'Summary': {'Threonine is an amino acid with the following codons: ACT, ACC, ACA, ACG that weighs 119.1 grams per mole'}}, 'W': {'Name': 'Tryptophan', 'Codons': ['TGG'], 'Weight': 204.2, 'Summary': {'Tryptophan is an amino acid with the following codons: TGG that weighs 204.2 grams per mole'}}, 'Y': {'Name': 'Tyrosine', 'Codons': ['TAT', 'TAC'], 'Weight': 181.2, 'Summary': {'Tyrosine is an amino acid with the following codons: TAT, TAC that weighs 181.2 grams per mole'}}, 'V': {'Name': 'Valine', 'Codons': ['GTT', 'GTC', 'GTA', 'GTG'], 'Weight': 117.1, 'Summary': {'Valine is an amino acid with the following codons: GTT, GTC, GTA, GTG that weighs 117.1 grams per mole'}}}\n"
     ]
    }
   ],
   "source": [
    "with open(\"./awesome_aa.txt\", \"r\") as f:\n",
    "  amino_acids = eval(f.read())\n",
    "\n",
    "print(amino_acids)\n"
   ]
  },
  {
   "cell_type": "code",
   "execution_count": 28,
   "id": "cd95cc99",
   "metadata": {},
   "outputs": [
    {
     "name": "stdout",
     "output_type": "stream",
     "text": [
      "            Name                          Codons Weight  \\\n",
      "A        Alanine            [GCT, GCC, GCA, GCG]   89.1   \n",
      "R       Arginine  [CGT, CGC, CGA, CGG, AGA, AGG]  174.2   \n",
      "N     Asparagine                      [AAT, AAC]  132.1   \n",
      "D  Aspartic acid                      [GAT, GAC]  133.1   \n",
      "C       Cysteine                      [TGT, TGC]  121.2   \n",
      "E  Glutamic acid                      [GAA, GAG]  147.1   \n",
      "Q      Glutamine                      [CAA, CAG]  146.2   \n",
      "G        Glycine            [GGT, GGC, GGA, GGG]   75.1   \n",
      "H      Histidine                      [CAT, CAC]  155.2   \n",
      "I     Isoleucine                 [ATT, ATC, ATA]  131.2   \n",
      "L        Leucine  [TTA, TTG, CTT, CTC, CTA, CTG]  131.2   \n",
      "K         Lysine                      [AAA, AAG]  146.2   \n",
      "M     Methionine                           [ATG]  149.2   \n",
      "F  Phenylalanine                      [TTT, TTC]  165.2   \n",
      "P        Proline            [CCT, CCC, CCA, CCG]  115.1   \n",
      "S         Serine  [TCT, TCC, TCA, TCG, AGT, AGC]  105.1   \n",
      "T      Threonine            [ACT, ACC, ACA, ACG]  119.1   \n",
      "W     Tryptophan                           [TGG]  204.2   \n",
      "Y       Tyrosine                      [TAT, TAC]  181.2   \n",
      "V         Valine            [GTT, GTC, GTA, GTG]  117.1   \n",
      "\n",
      "                                             Summary  \n",
      "A  {Alanine is an amino acid with the following c...  \n",
      "R  {Arginine is an amino acid with the following ...  \n",
      "N  {Asparagine is an amino acid with the followin...  \n",
      "D  {Aspartic acid is an amino acid with the follo...  \n",
      "C  {Cysteine is an amino acid with the following ...  \n",
      "E  {Glutamic acid is an amino acid with the follo...  \n",
      "Q  {Glutamine is an amino acid with the following...  \n",
      "G  {Glycine is an amino acid with the following c...  \n",
      "H  {Histidine is an amino acid with the following...  \n",
      "I  {Isoleucine is an amino acid with the followin...  \n",
      "L  {Leucine is an amino acid with the following c...  \n",
      "K  {Lysine is an amino acid with the following co...  \n",
      "M  {Methionine is an amino acid with the followin...  \n",
      "F  {Phenylalanine is an amino acid with the follo...  \n",
      "P  {Proline is an amino acid with the following c...  \n",
      "S  {Serine is an amino acid with the following co...  \n",
      "T  {Threonine is an amino acid with the following...  \n",
      "W  {Tryptophan is an amino acid with the followin...  \n",
      "Y  {Tyrosine is an amino acid with the following ...  \n",
      "V  {Valine is an amino acid with the following co...  \n"
     ]
    }
   ],
   "source": [
    "import pandas as pd\n",
    "\n",
    "df = pd.DataFrame(amino_acids).T\n",
    "print(df)\n"
   ]
  },
  {
   "cell_type": "markdown",
   "id": "5c553110",
   "metadata": {
    "lines_to_next_cell": 0
   },
   "source": [
    "- We don't need that summary column, let's drop it"
   ]
  },
  {
   "cell_type": "code",
   "execution_count": 29,
   "id": "d6cfe80b",
   "metadata": {},
   "outputs": [],
   "source": [
    "\n",
    "df = df.drop(columns=['Summary'])\n"
   ]
  },
  {
   "cell_type": "markdown",
   "id": "7470a868",
   "metadata": {},
   "source": [
    "- A few ways to show what's in a dataframe"
   ]
  },
  {
   "cell_type": "code",
   "execution_count": 30,
   "id": "690cdf26",
   "metadata": {},
   "outputs": [
    {
     "name": "stdout",
     "output_type": "stream",
     "text": [
      "            Name                          Codons Weight\n",
      "A        Alanine            [GCT, GCC, GCA, GCG]   89.1\n",
      "R       Arginine  [CGT, CGC, CGA, CGG, AGA, AGG]  174.2\n",
      "N     Asparagine                      [AAT, AAC]  132.1\n",
      "D  Aspartic acid                      [GAT, GAC]  133.1\n",
      "C       Cysteine                      [TGT, TGC]  121.2\n",
      "---------------------------------------------------------\n",
      "         Name                          Codons Weight\n",
      "S      Serine  [TCT, TCC, TCA, TCG, AGT, AGC]  105.1\n",
      "T   Threonine            [ACT, ACC, ACA, ACG]  119.1\n",
      "W  Tryptophan                           [TGG]  204.2\n",
      "Y    Tyrosine                      [TAT, TAC]  181.2\n",
      "V      Valine            [GTT, GTC, GTA, GTG]  117.1\n",
      "---------------------------------------------------------\n",
      "Index(['Name', 'Codons', 'Weight'], dtype='object')\n",
      "---------------------------------------------------------\n",
      "A          Alanine\n",
      "R         Arginine\n",
      "N       Asparagine\n",
      "D    Aspartic acid\n",
      "C         Cysteine\n",
      "E    Glutamic acid\n",
      "Q        Glutamine\n",
      "G          Glycine\n",
      "H        Histidine\n",
      "I       Isoleucine\n",
      "L          Leucine\n",
      "K           Lysine\n",
      "M       Methionine\n",
      "F    Phenylalanine\n",
      "P          Proline\n",
      "S           Serine\n",
      "T        Threonine\n",
      "W       Tryptophan\n",
      "Y         Tyrosine\n",
      "V           Valine\n",
      "Name: Name, dtype: object\n",
      "Name\n",
      "Alanine          1\n",
      "Arginine         1\n",
      "Asparagine       1\n",
      "Aspartic acid    1\n",
      "Cysteine         1\n",
      "Glutamic acid    1\n",
      "Glutamine        1\n",
      "Glycine          1\n",
      "Histidine        1\n",
      "Isoleucine       1\n",
      "Leucine          1\n",
      "Lysine           1\n",
      "Methionine       1\n",
      "Phenylalanine    1\n",
      "Proline          1\n",
      "Serine           1\n",
      "Threonine        1\n",
      "Tryptophan       1\n",
      "Tyrosine         1\n",
      "Valine           1\n",
      "Name: count, dtype: int64\n",
      "204.2\n",
      "75.1\n",
      "136.90499999999997\n"
     ]
    }
   ],
   "source": [
    "\n",
    "# See the first few rows\n",
    "print(df.head())\n",
    "\n",
    "print(\"---------------------------------------------------------\")\n",
    "\n",
    "# See the last few rows\n",
    "print(df.tail())\n",
    "\n",
    "print(\"---------------------------------------------------------\")\n",
    "\n",
    "# View the columns\n",
    "print(df.columns)\n",
    "\n",
    "print(\"---------------------------------------------------------\")\n",
    "\n",
    "# Print a specific column\n",
    "print(df[\"Name\"])\n",
    "\n",
    "# Check out the number of times values appear in each column\n",
    "print(df[\"Name\"].value_counts())\n",
    "\n",
    "# Show the max, min and mean values of a particular column\n",
    "print(df[\"Weight\"].max())\n",
    "print(df[\"Weight\"].min())\n",
    "print(df[\"Weight\"].mean())"
   ]
  },
  {
   "cell_type": "markdown",
   "id": "363419b8",
   "metadata": {
    "lines_to_next_cell": 0
   },
   "source": [
    "- Pandas dataframes are a two dimensional data structure that can hold multiple arrays (or series). \n",
    "    - A series is just a one dimensional array holding data of any type. You can think of them like fancy lists or tuples\n",
    "- Note that each column has a data type"
   ]
  },
  {
   "cell_type": "code",
   "execution_count": 31,
   "id": "949ae0a4",
   "metadata": {},
   "outputs": [
    {
     "name": "stdout",
     "output_type": "stream",
     "text": [
      "Name      object\n",
      "Codons    object\n",
      "Weight    object\n",
      "dtype: object\n"
     ]
    }
   ],
   "source": [
    "print(df.dtypes)"
   ]
  },
  {
   "cell_type": "code",
   "execution_count": 32,
   "id": "9758f441",
   "metadata": {},
   "outputs": [
    {
     "name": "stdout",
     "output_type": "stream",
     "text": [
      "0    1\n",
      "1    2\n",
      "2    3\n",
      "3    4\n",
      "4    5\n",
      "dtype: int64\n"
     ]
    }
   ],
   "source": [
    "my_basic_series = pd.Series([1, 2, 3, 4, 5])\n",
    "print(my_basic_series)"
   ]
  },
  {
   "cell_type": "markdown",
   "id": "3b33b8fc",
   "metadata": {
    "lines_to_next_cell": 0
   },
   "source": [
    "- Some, but not all, of that stuff we taught you about indexing applies here\n",
    "  - Note that we return a series when indexing"
   ]
  },
  {
   "cell_type": "code",
   "execution_count": 33,
   "id": "5a29cfa7",
   "metadata": {
    "lines_to_next_cell": 2
   },
   "outputs": [
    {
     "name": "stdout",
     "output_type": "stream",
     "text": [
      "3\n",
      "----------------\n",
      "2\n",
      "----------------\n",
      "1    2\n",
      "2    3\n",
      "dtype: int64\n",
      "----------------\n",
      "<class 'pandas.core.series.Series'>\n",
      "----------------\n",
      "4    5\n",
      "dtype: int64\n",
      "----------------\n",
      "0    1\n",
      "1    2\n",
      "2    3\n",
      "dtype: int64\n"
     ]
    }
   ],
   "source": [
    "print(my_basic_series[2])\n",
    "print(\"----------------\")\n",
    "print(my_basic_series[1])\n",
    "print(\"----------------\")\n",
    "print(my_basic_series[1:3])\n",
    "print(\"----------------\")\n",
    "print(type(my_basic_series[1:3]))\n",
    "print(\"----------------\")\n",
    "print(my_basic_series[-1:])\n",
    "print(\"----------------\")\n",
    "print(my_basic_series[:-2])"
   ]
  },
  {
   "cell_type": "markdown",
   "id": "2351bd8a",
   "metadata": {},
   "source": [
    "- You can filter a dataframe by a specific column value\n"
   ]
  },
  {
   "cell_type": "code",
   "execution_count": 34,
   "id": "726eacc4",
   "metadata": {},
   "outputs": [
    {
     "name": "stdout",
     "output_type": "stream",
     "text": [
      "A    False\n",
      "R     True\n",
      "N     True\n",
      "D     True\n",
      "C     True\n",
      "E     True\n",
      "Q     True\n",
      "G    False\n",
      "H     True\n",
      "I     True\n",
      "L     True\n",
      "K     True\n",
      "M     True\n",
      "F     True\n",
      "P     True\n",
      "S     True\n",
      "T     True\n",
      "W     True\n",
      "Y     True\n",
      "V     True\n",
      "Name: Weight, dtype: bool\n",
      "A    False\n",
      "R    False\n",
      "N    False\n",
      "D     True\n",
      "C    False\n",
      "E     True\n",
      "Q    False\n",
      "G    False\n",
      "H    False\n",
      "I    False\n",
      "L    False\n",
      "K    False\n",
      "M    False\n",
      "F    False\n",
      "P    False\n",
      "S    False\n",
      "T    False\n",
      "W    False\n",
      "Y    False\n",
      "V    False\n",
      "Name: Name, dtype: bool\n"
     ]
    }
   ],
   "source": [
    "\n",
    "# Using a number....\n",
    "print(df[\"Weight\"] > 100)\n",
    "\n",
    "# Or a string..\n",
    "print(df[\"Name\"].str.contains(\"acid\"))\n"
   ]
  },
  {
   "cell_type": "markdown",
   "id": "71b0df81",
   "metadata": {},
   "source": [
    "- Uh.. that's cool I guess. But now all my values are just booleans. How do I get the actual values back?"
   ]
  },
  {
   "cell_type": "code",
   "execution_count": 35,
   "id": "fe530d99",
   "metadata": {
    "lines_to_next_cell": 1
   },
   "outputs": [
    {
     "data": {
      "text/html": [
       "<div>\n",
       "<style scoped>\n",
       "    .dataframe tbody tr th:only-of-type {\n",
       "        vertical-align: middle;\n",
       "    }\n",
       "\n",
       "    .dataframe tbody tr th {\n",
       "        vertical-align: top;\n",
       "    }\n",
       "\n",
       "    .dataframe thead th {\n",
       "        text-align: right;\n",
       "    }\n",
       "</style>\n",
       "<table border=\"1\" class=\"dataframe\">\n",
       "  <thead>\n",
       "    <tr style=\"text-align: right;\">\n",
       "      <th></th>\n",
       "      <th>Name</th>\n",
       "      <th>Codons</th>\n",
       "      <th>Weight</th>\n",
       "    </tr>\n",
       "  </thead>\n",
       "  <tbody>\n",
       "    <tr>\n",
       "      <th>R</th>\n",
       "      <td>Arginine</td>\n",
       "      <td>[CGT, CGC, CGA, CGG, AGA, AGG]</td>\n",
       "      <td>174.2</td>\n",
       "    </tr>\n",
       "    <tr>\n",
       "      <th>N</th>\n",
       "      <td>Asparagine</td>\n",
       "      <td>[AAT, AAC]</td>\n",
       "      <td>132.1</td>\n",
       "    </tr>\n",
       "    <tr>\n",
       "      <th>D</th>\n",
       "      <td>Aspartic acid</td>\n",
       "      <td>[GAT, GAC]</td>\n",
       "      <td>133.1</td>\n",
       "    </tr>\n",
       "    <tr>\n",
       "      <th>C</th>\n",
       "      <td>Cysteine</td>\n",
       "      <td>[TGT, TGC]</td>\n",
       "      <td>121.2</td>\n",
       "    </tr>\n",
       "    <tr>\n",
       "      <th>E</th>\n",
       "      <td>Glutamic acid</td>\n",
       "      <td>[GAA, GAG]</td>\n",
       "      <td>147.1</td>\n",
       "    </tr>\n",
       "    <tr>\n",
       "      <th>Q</th>\n",
       "      <td>Glutamine</td>\n",
       "      <td>[CAA, CAG]</td>\n",
       "      <td>146.2</td>\n",
       "    </tr>\n",
       "    <tr>\n",
       "      <th>H</th>\n",
       "      <td>Histidine</td>\n",
       "      <td>[CAT, CAC]</td>\n",
       "      <td>155.2</td>\n",
       "    </tr>\n",
       "    <tr>\n",
       "      <th>I</th>\n",
       "      <td>Isoleucine</td>\n",
       "      <td>[ATT, ATC, ATA]</td>\n",
       "      <td>131.2</td>\n",
       "    </tr>\n",
       "    <tr>\n",
       "      <th>L</th>\n",
       "      <td>Leucine</td>\n",
       "      <td>[TTA, TTG, CTT, CTC, CTA, CTG]</td>\n",
       "      <td>131.2</td>\n",
       "    </tr>\n",
       "    <tr>\n",
       "      <th>K</th>\n",
       "      <td>Lysine</td>\n",
       "      <td>[AAA, AAG]</td>\n",
       "      <td>146.2</td>\n",
       "    </tr>\n",
       "    <tr>\n",
       "      <th>M</th>\n",
       "      <td>Methionine</td>\n",
       "      <td>[ATG]</td>\n",
       "      <td>149.2</td>\n",
       "    </tr>\n",
       "    <tr>\n",
       "      <th>F</th>\n",
       "      <td>Phenylalanine</td>\n",
       "      <td>[TTT, TTC]</td>\n",
       "      <td>165.2</td>\n",
       "    </tr>\n",
       "    <tr>\n",
       "      <th>P</th>\n",
       "      <td>Proline</td>\n",
       "      <td>[CCT, CCC, CCA, CCG]</td>\n",
       "      <td>115.1</td>\n",
       "    </tr>\n",
       "    <tr>\n",
       "      <th>S</th>\n",
       "      <td>Serine</td>\n",
       "      <td>[TCT, TCC, TCA, TCG, AGT, AGC]</td>\n",
       "      <td>105.1</td>\n",
       "    </tr>\n",
       "    <tr>\n",
       "      <th>T</th>\n",
       "      <td>Threonine</td>\n",
       "      <td>[ACT, ACC, ACA, ACG]</td>\n",
       "      <td>119.1</td>\n",
       "    </tr>\n",
       "    <tr>\n",
       "      <th>W</th>\n",
       "      <td>Tryptophan</td>\n",
       "      <td>[TGG]</td>\n",
       "      <td>204.2</td>\n",
       "    </tr>\n",
       "    <tr>\n",
       "      <th>Y</th>\n",
       "      <td>Tyrosine</td>\n",
       "      <td>[TAT, TAC]</td>\n",
       "      <td>181.2</td>\n",
       "    </tr>\n",
       "    <tr>\n",
       "      <th>V</th>\n",
       "      <td>Valine</td>\n",
       "      <td>[GTT, GTC, GTA, GTG]</td>\n",
       "      <td>117.1</td>\n",
       "    </tr>\n",
       "  </tbody>\n",
       "</table>\n",
       "</div>"
      ],
      "text/plain": [
       "            Name                          Codons Weight\n",
       "R       Arginine  [CGT, CGC, CGA, CGG, AGA, AGG]  174.2\n",
       "N     Asparagine                      [AAT, AAC]  132.1\n",
       "D  Aspartic acid                      [GAT, GAC]  133.1\n",
       "C       Cysteine                      [TGT, TGC]  121.2\n",
       "E  Glutamic acid                      [GAA, GAG]  147.1\n",
       "Q      Glutamine                      [CAA, CAG]  146.2\n",
       "H      Histidine                      [CAT, CAC]  155.2\n",
       "I     Isoleucine                 [ATT, ATC, ATA]  131.2\n",
       "L        Leucine  [TTA, TTG, CTT, CTC, CTA, CTG]  131.2\n",
       "K         Lysine                      [AAA, AAG]  146.2\n",
       "M     Methionine                           [ATG]  149.2\n",
       "F  Phenylalanine                      [TTT, TTC]  165.2\n",
       "P        Proline            [CCT, CCC, CCA, CCG]  115.1\n",
       "S         Serine  [TCT, TCC, TCA, TCG, AGT, AGC]  105.1\n",
       "T      Threonine            [ACT, ACC, ACA, ACG]  119.1\n",
       "W     Tryptophan                           [TGG]  204.2\n",
       "Y       Tyrosine                      [TAT, TAC]  181.2\n",
       "V         Valine            [GTT, GTC, GTA, GTG]  117.1"
      ]
     },
     "execution_count": 35,
     "metadata": {},
     "output_type": "execute_result"
    }
   ],
   "source": [
    "df[df[\"Weight\"] > 100]"
   ]
  },
  {
   "cell_type": "markdown",
   "id": "f74fe5cf",
   "metadata": {},
   "source": [
    "- You can also filter by multiple columns"
   ]
  },
  {
   "cell_type": "code",
   "execution_count": 36,
   "id": "1bd42e5f",
   "metadata": {},
   "outputs": [
    {
     "data": {
      "text/html": [
       "<div>\n",
       "<style scoped>\n",
       "    .dataframe tbody tr th:only-of-type {\n",
       "        vertical-align: middle;\n",
       "    }\n",
       "\n",
       "    .dataframe tbody tr th {\n",
       "        vertical-align: top;\n",
       "    }\n",
       "\n",
       "    .dataframe thead th {\n",
       "        text-align: right;\n",
       "    }\n",
       "</style>\n",
       "<table border=\"1\" class=\"dataframe\">\n",
       "  <thead>\n",
       "    <tr style=\"text-align: right;\">\n",
       "      <th></th>\n",
       "      <th>Name</th>\n",
       "      <th>Codons</th>\n",
       "      <th>Weight</th>\n",
       "    </tr>\n",
       "  </thead>\n",
       "  <tbody>\n",
       "    <tr>\n",
       "      <th>D</th>\n",
       "      <td>Aspartic acid</td>\n",
       "      <td>[GAT, GAC]</td>\n",
       "      <td>133.1</td>\n",
       "    </tr>\n",
       "    <tr>\n",
       "      <th>E</th>\n",
       "      <td>Glutamic acid</td>\n",
       "      <td>[GAA, GAG]</td>\n",
       "      <td>147.1</td>\n",
       "    </tr>\n",
       "  </tbody>\n",
       "</table>\n",
       "</div>"
      ],
      "text/plain": [
       "            Name      Codons Weight\n",
       "D  Aspartic acid  [GAT, GAC]  133.1\n",
       "E  Glutamic acid  [GAA, GAG]  147.1"
      ]
     },
     "execution_count": 36,
     "metadata": {},
     "output_type": "execute_result"
    }
   ],
   "source": [
    "df[(df[\"Weight\"] > 100) & (df[\"Name\"].str.contains('acid'))]\n",
    "# Weight > 100 and name contains the string 'acid'\n",
    "# Note the .str accessor to turn the column into a string\n"
   ]
  },
  {
   "cell_type": "markdown",
   "id": "ca76cfb9",
   "metadata": {},
   "source": [
    "- Alternative way to filter on a string value using \"isin\""
   ]
  },
  {
   "cell_type": "code",
   "execution_count": 37,
   "id": "e693ddff",
   "metadata": {},
   "outputs": [
    {
     "data": {
      "text/html": [
       "<div>\n",
       "<style scoped>\n",
       "    .dataframe tbody tr th:only-of-type {\n",
       "        vertical-align: middle;\n",
       "    }\n",
       "\n",
       "    .dataframe tbody tr th {\n",
       "        vertical-align: top;\n",
       "    }\n",
       "\n",
       "    .dataframe thead th {\n",
       "        text-align: right;\n",
       "    }\n",
       "</style>\n",
       "<table border=\"1\" class=\"dataframe\">\n",
       "  <thead>\n",
       "    <tr style=\"text-align: right;\">\n",
       "      <th></th>\n",
       "      <th>Name</th>\n",
       "      <th>Codons</th>\n",
       "      <th>Weight</th>\n",
       "    </tr>\n",
       "  </thead>\n",
       "  <tbody>\n",
       "    <tr>\n",
       "      <th>A</th>\n",
       "      <td>Alanine</td>\n",
       "      <td>[GCT, GCC, GCA, GCG]</td>\n",
       "      <td>89.1</td>\n",
       "    </tr>\n",
       "    <tr>\n",
       "      <th>R</th>\n",
       "      <td>Arginine</td>\n",
       "      <td>[CGT, CGC, CGA, CGG, AGA, AGG]</td>\n",
       "      <td>174.2</td>\n",
       "    </tr>\n",
       "  </tbody>\n",
       "</table>\n",
       "</div>"
      ],
      "text/plain": [
       "       Name                          Codons Weight\n",
       "A   Alanine            [GCT, GCC, GCA, GCG]   89.1\n",
       "R  Arginine  [CGT, CGC, CGA, CGG, AGA, AGG]  174.2"
      ]
     },
     "execution_count": 37,
     "metadata": {},
     "output_type": "execute_result"
    }
   ],
   "source": [
    "df[df[\"Name\"].isin(['Alanine', 'Arginine'])]"
   ]
  },
  {
   "cell_type": "markdown",
   "id": "340f3d24",
   "metadata": {},
   "source": [
    "- You don't have to return the whole column, you can also use one column to filter, then report the values of another"
   ]
  },
  {
   "cell_type": "code",
   "execution_count": 38,
   "id": "0cf3aac8",
   "metadata": {},
   "outputs": [
    {
     "data": {
      "text/plain": [
       "R         Arginine\n",
       "N       Asparagine\n",
       "D    Aspartic acid\n",
       "C         Cysteine\n",
       "E    Glutamic acid\n",
       "Q        Glutamine\n",
       "H        Histidine\n",
       "I       Isoleucine\n",
       "L          Leucine\n",
       "K           Lysine\n",
       "M       Methionine\n",
       "F    Phenylalanine\n",
       "P          Proline\n",
       "S           Serine\n",
       "T        Threonine\n",
       "W       Tryptophan\n",
       "Y         Tyrosine\n",
       "V           Valine\n",
       "Name: Name, dtype: object"
      ]
     },
     "execution_count": 38,
     "metadata": {},
     "output_type": "execute_result"
    }
   ],
   "source": [
    "df[df[\"Weight\"] > 100][\"Name\"]"
   ]
  },
  {
   "cell_type": "markdown",
   "id": "802468ee",
   "metadata": {},
   "source": [
    "- Adding a column to a dataframe is pretty easy. Luckily I have plenty of columns we can add."
   ]
  },
  {
   "cell_type": "code",
   "execution_count": 39,
   "id": "7eb45db0",
   "metadata": {},
   "outputs": [
    {
     "name": "stdout",
     "output_type": "stream",
     "text": [
      "            name 3_letter_code 1_letter_code     formula  formula_weight  \\\n",
      "0        Alanine           ALA             A    C3H7N1O2           89.09   \n",
      "1       Cysteine           CYS             C  C3H7N1O2S1          121.16   \n",
      "2  Aspartic Acid           ASP             D    C4H7N1O4          133.10   \n",
      "3  Glutamic Acid           GLU             E    C5H9N1O4          147.13   \n",
      "4  Phenylalanine           PHE             F   C9H11N1O2          165.19   \n",
      "\n",
      "   isoelectric_point           type  \n",
      "0               6.00      aliphatic  \n",
      "1               5.02  polar neutral  \n",
      "2               2.77   polar acidic  \n",
      "3               3.22   polar acidic  \n",
      "4               5.48       aromatic  \n"
     ]
    }
   ],
   "source": [
    "\n",
    "# Read in our protein metadata table!\n",
    "metadata = pd.read_csv(\"./protein_metadata.csv\")\n",
    "print(metadata.head())\n"
   ]
  },
  {
   "cell_type": "markdown",
   "id": "6464c848",
   "metadata": {
    "lines_to_next_cell": 0
   },
   "source": [
    "- Let's merge our metadata with our amino acid dataframe on the name columns"
   ]
  },
  {
   "cell_type": "code",
   "execution_count": 43,
   "id": "353253ff",
   "metadata": {},
   "outputs": [
    {
     "name": "stdout",
     "output_type": "stream",
     "text": [
      "             Name                          Codons Weight           name  \\\n",
      "0         Alanine            [GCT, GCC, GCA, GCG]   89.1        Alanine   \n",
      "1        Arginine  [CGT, CGC, CGA, CGG, AGA, AGG]  174.2       Arginine   \n",
      "2      Asparagine                      [AAT, AAC]  132.1     Asparagine   \n",
      "3        Cysteine                      [TGT, TGC]  121.2       Cysteine   \n",
      "4       Glutamine                      [CAA, CAG]  146.2      Glutamine   \n",
      "5         Glycine            [GGT, GGC, GGA, GGG]   75.1        Glycine   \n",
      "6       Histidine                      [CAT, CAC]  155.2      Histidine   \n",
      "7      Isoleucine                 [ATT, ATC, ATA]  131.2     Isoleucine   \n",
      "8         Leucine  [TTA, TTG, CTT, CTC, CTA, CTG]  131.2        Leucine   \n",
      "9          Lysine                      [AAA, AAG]  146.2         Lysine   \n",
      "10     Methionine                           [ATG]  149.2     Methionine   \n",
      "11  Phenylalanine                      [TTT, TTC]  165.2  Phenylalanine   \n",
      "12        Proline            [CCT, CCC, CCA, CCG]  115.1        Proline   \n",
      "13         Serine  [TCT, TCC, TCA, TCG, AGT, AGC]  105.1         Serine   \n",
      "14      Threonine            [ACT, ACC, ACA, ACG]  119.1      Threonine   \n",
      "15     Tryptophan                           [TGG]  204.2     Tryptophan   \n",
      "16       Tyrosine                      [TAT, TAC]  181.2       Tyrosine   \n",
      "17         Valine            [GTT, GTC, GTA, GTG]  117.1         Valine   \n",
      "\n",
      "   3_letter_code 1_letter_code      formula  formula_weight  \\\n",
      "0            ALA             A     C3H7N1O2           89.09   \n",
      "1            ARG             R    C6H14N4O2          174.20   \n",
      "2            ASN             N     C4H8N2O3          132.12   \n",
      "3            CYS             C   C3H7N1O2S1          121.16   \n",
      "4            GLN             Q    C5H10N2O3          146.15   \n",
      "5            GLY             G     C2H5N1O2           75.07   \n",
      "6            HIS             H     C6H9N3O2          155.16   \n",
      "7            ILE             I    C6H13N1O2          131.17   \n",
      "8            LEU             L    C6H13N1O2          131.17   \n",
      "9            LYS             K    C6H14N2O2          146.19   \n",
      "10           MET             M  C5H11N1O2S1          149.21   \n",
      "11           PHE             F    C9H11N1O2          165.19   \n",
      "12           PRO             P     C5H9N1O2          115.13   \n",
      "13           SER             S     C3H7N1O3          105.09   \n",
      "14           THR             T     C4H9N1O3          119.12   \n",
      "15           TRP             W   C11H12N2O2          204.23   \n",
      "16           TYR             Y    C9H11N1O3          181.19   \n",
      "17           VAL             V    C5H11N1O2          117.15   \n",
      "\n",
      "    isoelectric_point           type  \n",
      "0                6.00      aliphatic  \n",
      "1               11.15    polar basic  \n",
      "2                5.41  polar neutral  \n",
      "3                5.02  polar neutral  \n",
      "4                5.65  polar neutral  \n",
      "5                5.97         unique  \n",
      "6                7.47    polar basic  \n",
      "7                5.94      aliphatic  \n",
      "8                5.98      aliphatic  \n",
      "9                9.59    polar basic  \n",
      "10               5.74      aliphatic  \n",
      "11               5.48       aromatic  \n",
      "12               6.30         unique  \n",
      "13               5.68  polar neutral  \n",
      "14               5.64  polar neutral  \n",
      "15               5.89       aromatic  \n",
      "16               5.66       aromatic  \n",
      "17               5.96      aliphatic  \n",
      "             name                          codons weight 3_letter_code  \\\n",
      "0         Alanine            [GCT, GCC, GCA, GCG]   89.1           ALA   \n",
      "1        Arginine  [CGT, CGC, CGA, CGG, AGA, AGG]  174.2           ARG   \n",
      "2      Asparagine                      [AAT, AAC]  132.1           ASN   \n",
      "3        Cysteine                      [TGT, TGC]  121.2           CYS   \n",
      "4       Glutamine                      [CAA, CAG]  146.2           GLN   \n",
      "5         Glycine            [GGT, GGC, GGA, GGG]   75.1           GLY   \n",
      "6       Histidine                      [CAT, CAC]  155.2           HIS   \n",
      "7      Isoleucine                 [ATT, ATC, ATA]  131.2           ILE   \n",
      "8         Leucine  [TTA, TTG, CTT, CTC, CTA, CTG]  131.2           LEU   \n",
      "9          Lysine                      [AAA, AAG]  146.2           LYS   \n",
      "10     Methionine                           [ATG]  149.2           MET   \n",
      "11  Phenylalanine                      [TTT, TTC]  165.2           PHE   \n",
      "12        Proline            [CCT, CCC, CCA, CCG]  115.1           PRO   \n",
      "13         Serine  [TCT, TCC, TCA, TCG, AGT, AGC]  105.1           SER   \n",
      "14      Threonine            [ACT, ACC, ACA, ACG]  119.1           THR   \n",
      "15     Tryptophan                           [TGG]  204.2           TRP   \n",
      "16       Tyrosine                      [TAT, TAC]  181.2           TYR   \n",
      "17         Valine            [GTT, GTC, GTA, GTG]  117.1           VAL   \n",
      "\n",
      "   1_letter_code      formula  formula_weight  isoelectric_point  \\\n",
      "0              A     C3H7N1O2           89.09               6.00   \n",
      "1              R    C6H14N4O2          174.20              11.15   \n",
      "2              N     C4H8N2O3          132.12               5.41   \n",
      "3              C   C3H7N1O2S1          121.16               5.02   \n",
      "4              Q    C5H10N2O3          146.15               5.65   \n",
      "5              G     C2H5N1O2           75.07               5.97   \n",
      "6              H     C6H9N3O2          155.16               7.47   \n",
      "7              I    C6H13N1O2          131.17               5.94   \n",
      "8              L    C6H13N1O2          131.17               5.98   \n",
      "9              K    C6H14N2O2          146.19               9.59   \n",
      "10             M  C5H11N1O2S1          149.21               5.74   \n",
      "11             F    C9H11N1O2          165.19               5.48   \n",
      "12             P     C5H9N1O2          115.13               6.30   \n",
      "13             S     C3H7N1O3          105.09               5.68   \n",
      "14             T     C4H9N1O3          119.12               5.64   \n",
      "15             W   C11H12N2O2          204.23               5.89   \n",
      "16             Y    C9H11N1O3          181.19               5.66   \n",
      "17             V    C5H11N1O2          117.15               5.96   \n",
      "\n",
      "             type  \n",
      "0       aliphatic  \n",
      "1     polar basic  \n",
      "2   polar neutral  \n",
      "3   polar neutral  \n",
      "4   polar neutral  \n",
      "5          unique  \n",
      "6     polar basic  \n",
      "7       aliphatic  \n",
      "8       aliphatic  \n",
      "9     polar basic  \n",
      "10      aliphatic  \n",
      "11       aromatic  \n",
      "12         unique  \n",
      "13  polar neutral  \n",
      "14  polar neutral  \n",
      "15       aromatic  \n",
      "16       aromatic  \n",
      "17      aliphatic  \n"
     ]
    }
   ],
   "source": [
    "mega_awesome_df = pd.merge(df, metadata, left_on='Name', right_on='name')\n",
    "print(mega_awesome_df)\n",
    "# Looks like we got an extra column in 'name', so let's fix that\n",
    "\n",
    "mega_awesome_df = mega_awesome_df.drop(columns=['name'])\n",
    "\n",
    "# And one extra thing I like to do , let's make sure all the column names are lower cases with no spaces\n",
    "new_columns = []\n",
    "for column_name in mega_awesome_df.columns:\n",
    "    new_columns.append(column_name.lower().replace(\" \", \"_\"))\n",
    "mega_awesome_df.columns = new_columns\n",
    "    \n",
    "    \n",
    "# You can also use list comprehensions like below\n",
    "# mega_awesome_df.columns = [x.lower() for x in mega_awesome_df.columns]\n",
    "# mega_awesome_df.columns = [x.replace(\" \", \"_\") for x in mega_awesome_df.columns]\n",
    "print(mega_awesome_df)\n"
   ]
  },
  {
   "cell_type": "markdown",
   "id": "7274ca61",
   "metadata": {},
   "source": [
    "- Finally, let's save our work and come back to it for the homework!"
   ]
  },
  {
   "cell_type": "code",
   "execution_count": 41,
   "id": "3aea6597",
   "metadata": {
    "lines_to_next_cell": 1
   },
   "outputs": [],
   "source": [
    "mega_awesome_df.to_csv(\"mega_awesome_df.csv\", index=False)"
   ]
  },
  {
   "cell_type": "markdown",
   "id": "8c1c285a",
   "metadata": {},
   "source": [
    "\n"
   ]
  }
 ],
 "metadata": {
  "kernelspec": {
   "display_name": "Python 3 (ipykernel)",
   "language": "python",
   "name": "python3"
  },
  "language_info": {
   "codemirror_mode": {
    "name": "ipython",
    "version": 3
   },
   "file_extension": ".py",
   "mimetype": "text/x-python",
   "name": "python",
   "nbconvert_exporter": "python",
   "pygments_lexer": "ipython3",
   "version": "3.10.14"
  }
 },
 "nbformat": 4,
 "nbformat_minor": 5
}
