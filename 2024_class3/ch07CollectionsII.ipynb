{
 "cells": [
  {
   "cell_type": "markdown",
   "id": "944fb01b",
   "metadata": {
    "lines_to_next_cell": 0
   },
   "source": [
    "## On lists, dictionaries, series and dataframes\n",
    "\n",
    "### List Comprehension\n",
    "\n",
    "- Or, how to apply some function to a bunch of elements in a list"
   ]
  },
  {
   "cell_type": "code",
   "execution_count": null,
   "id": "ab30c644",
   "metadata": {},
   "outputs": [],
   "source": []
  },
  {
   "cell_type": "markdown",
   "id": "7051f9a7",
   "metadata": {
    "lines_to_next_cell": 0
   },
   "source": [
    "- I'm really lazy and try to keep my typing to a minimum (after all, my time is worth a lot more than the computer's)"
   ]
  },
  {
   "cell_type": "code",
   "execution_count": null,
   "id": "ea2cfcf7",
   "metadata": {},
   "outputs": [],
   "source": []
  },
  {
   "cell_type": "markdown",
   "id": "34cc1d14",
   "metadata": {
    "lines_to_next_cell": 0
   },
   "source": [
    "- Is there a way for me to concisely write the loop above in a clear manner?\n",
    "  - Hint: yes"
   ]
  },
  {
   "cell_type": "code",
   "execution_count": null,
   "id": "d01e1f51",
   "metadata": {
    "lines_to_next_cell": 0
   },
   "outputs": [],
   "source": []
  },
  {
   "cell_type": "markdown",
   "id": "7ff65d6c",
   "metadata": {
    "lines_to_next_cell": 0
   },
   "source": [
    "- Don't forget, just like in a loop, we can call our variable (NOT THE LIST!! Just the variable that acts as placeholder) whatever we want. But it's better to be clear about what you're manipulating!"
   ]
  },
  {
   "cell_type": "code",
   "execution_count": null,
   "id": "10b5708f",
   "metadata": {
    "lines_to_next_cell": 0
   },
   "outputs": [],
   "source": []
  },
  {
   "cell_type": "markdown",
   "id": "5de32c6e",
   "metadata": {
    "lines_to_next_cell": 0
   },
   "source": [
    "- I only want to modify one list element, otherwise, return the element unchanged."
   ]
  },
  {
   "cell_type": "code",
   "execution_count": null,
   "id": "6d7b0982",
   "metadata": {},
   "outputs": [],
   "source": []
  },
  {
   "cell_type": "markdown",
   "id": "51afefba",
   "metadata": {
    "lines_to_next_cell": 0
   },
   "source": [
    "- Benefits of list comprehension: "
   ]
  },
  {
   "cell_type": "code",
   "execution_count": null,
   "id": "22413c6e",
   "metadata": {
    "lines_to_next_cell": 0
   },
   "outputs": [],
   "source": []
  },
  {
   "cell_type": "markdown",
   "id": "a75e94d0",
   "metadata": {
    "lines_to_next_cell": 0
   },
   "source": [
    "1. Faster to write (no seriously, that is a benefit sometimes)\n",
    "2. Always returns a list, so no need to mess around with append/extend etc.\n",
    "3. Great for quickly filtering elements out of a list, or modifying specific elements\n",
    "\n",
    "---\n",
    "\n",
    "### Dictionaries part II\n",
    "\n",
    "Recall that there are several ways to create a dictionary\n",
    "\n",
    "1. Init an empty dictionary and fill it with keys/values manually"
   ]
  },
  {
   "cell_type": "code",
   "execution_count": null,
   "id": "de9698dd",
   "metadata": {},
   "outputs": [],
   "source": []
  },
  {
   "cell_type": "markdown",
   "id": "d4b36d3d",
   "metadata": {
    "lines_to_next_cell": 0
   },
   "source": [
    "2. Set key value pairs when creating the dictionary"
   ]
  },
  {
   "cell_type": "code",
   "execution_count": null,
   "id": "3e4aded9",
   "metadata": {},
   "outputs": [],
   "source": []
  },
  {
   "cell_type": "markdown",
   "id": "8268590e",
   "metadata": {},
   "source": [
    "#### A note on importing packages\n",
    "\n",
    "- The file `amino_acids.py` contains a bunch of defined lists that are `constants`, hence the ALL CAPS convention."
   ]
  },
  {
   "cell_type": "code",
   "execution_count": null,
   "id": "d6a05922",
   "metadata": {},
   "outputs": [],
   "source": [
    "%load_ext autoreload\n",
    "%autoreload 2\n",
    "from pprint import pprint\n",
    "from amino_acids import AMINO_ACID_NAMES, AMINO_ACID_CODONS, AMINO_ACID_CODES, AMINO_ACID_WEIGHTS"
   ]
  },
  {
   "cell_type": "markdown",
   "id": "ae631af5",
   "metadata": {
    "lines_to_next_cell": 0
   },
   "source": [
    "- First, let's refresh our memory on how to create a dictionary"
   ]
  },
  {
   "cell_type": "code",
   "execution_count": null,
   "id": "4d670952",
   "metadata": {},
   "outputs": [],
   "source": []
  },
  {
   "cell_type": "markdown",
   "id": "9294d6ca",
   "metadata": {
    "lines_to_next_cell": 0
   },
   "source": [
    "- We can also create all of our key values ahead of time if we know them..."
   ]
  },
  {
   "cell_type": "code",
   "execution_count": null,
   "id": "38a591c0",
   "metadata": {
    "lines_to_next_cell": 0
   },
   "outputs": [],
   "source": []
  },
  {
   "cell_type": "markdown",
   "id": "5a5362eb",
   "metadata": {
    "lines_to_next_cell": 0
   },
   "source": [
    "- Question! Note that in the cell below, I add the key/value pairs in a different order than I did originally. Do you expect the comparison to return _True_ or _False_?"
   ]
  },
  {
   "cell_type": "code",
   "execution_count": null,
   "id": "ac680e3c",
   "metadata": {
    "lines_to_next_cell": 0
   },
   "outputs": [],
   "source": []
  },
  {
   "cell_type": "markdown",
   "id": "6acd227d",
   "metadata": {
    "lines_to_next_cell": 0
   },
   "source": [
    "- We're going to introduce a special function in python called `enumerate` that helps us manipulate lists and their elements. Previously, we've been iterating through lists using an arbitrary variable name, e.g."
   ]
  },
  {
   "cell_type": "code",
   "execution_count": null,
   "id": "724243e5",
   "metadata": {
    "lines_to_next_cell": 0
   },
   "outputs": [],
   "source": []
  },
  {
   "cell_type": "markdown",
   "id": "9be99bd5",
   "metadata": {
    "lines_to_next_cell": 0
   },
   "source": [
    "- This works great when iterating through one list, but what if we want to iterate through multiple lists at once?"
   ]
  },
  {
   "cell_type": "code",
   "execution_count": null,
   "id": "baf4ae42",
   "metadata": {
    "lines_to_next_cell": 0
   },
   "outputs": [],
   "source": []
  },
  {
   "cell_type": "markdown",
   "id": "90f18588",
   "metadata": {
    "lines_to_next_cell": 0
   },
   "source": [
    "- The enumerate function returns a tuple with the index and the value of the list at that index"
   ]
  },
  {
   "cell_type": "code",
   "execution_count": null,
   "id": "5d865372",
   "metadata": {
    "lines_to_next_cell": 0
   },
   "outputs": [],
   "source": []
  },
  {
   "cell_type": "markdown",
   "id": "70b3fcf9",
   "metadata": {
    "lines_to_next_cell": 0
   },
   "source": [
    "- Given a list of amino acid names, their short codes and their symbol, create a dictionary where the SYMBOL is the key, and the values are the symbol and their short code"
   ]
  },
  {
   "cell_type": "code",
   "execution_count": null,
   "id": "f18d28aa",
   "metadata": {
    "lines_to_next_cell": 0
   },
   "outputs": [],
   "source": []
  },
  {
   "cell_type": "markdown",
   "id": "694628ad",
   "metadata": {
    "lines_to_next_cell": 0
   },
   "source": [
    "- Example key/value pair: `amino_acids['K']` should return: ``'Lysine', ['AAA', 'AAG']``"
   ]
  },
  {
   "cell_type": "code",
   "execution_count": null,
   "id": "ca4d31ef",
   "metadata": {
    "lines_to_next_cell": 0
   },
   "outputs": [],
   "source": []
  },
  {
   "cell_type": "markdown",
   "id": "bdd84eae",
   "metadata": {},
   "source": [
    "- We can also the `zip` function to iterate through multiple lists at the same time\n",
    "\n",
    "# WARNING !!!!\n",
    "\n",
    "- You may have noticed that we made a _BIG_ assumption with creating our dictionary - all of the lists are ordered alphabetically (e.g. the first set of codons corresponds to the Alanine, and so on)"
   ]
  },
  {
   "cell_type": "code",
   "execution_count": null,
   "id": "0e72dce0",
   "metadata": {
    "lines_to_next_cell": 2
   },
   "outputs": [],
   "source": [
    "from amino_acids import AMINO_ACID_WEIGHTS\n",
    "print(AMINO_ACID_WEIGHTS)\n",
    "\n",
    "# Fyi, the weights are in daltons, meaning Alanine weighs 89,100 grams per mole"
   ]
  },
  {
   "cell_type": "code",
   "execution_count": null,
   "id": "8742511f",
   "metadata": {},
   "outputs": [],
   "source": [
    "pprint(amino_acids)"
   ]
  },
  {
   "cell_type": "markdown",
   "id": "ccf1f8dc",
   "metadata": {},
   "source": [
    "- Question! Using your newly made dictionary, calculate the weight of the protein with the following sequence: 'AAAAAAAAEKTWYV'"
   ]
  },
  {
   "cell_type": "code",
   "execution_count": null,
   "id": "fa78d14d",
   "metadata": {},
   "outputs": [],
   "source": [
    "calculate_protein_weight('AAAAAAAAEKTWYV', amino_acids)"
   ]
  },
  {
   "cell_type": "markdown",
   "id": "32c7831b",
   "metadata": {
    "lines_to_next_cell": 0
   },
   "source": [
    "- Wow. That's a complicated dictionary. It's also pretty annoying to dig around it, and have to remember what index corresponds to each value.\n",
    "  - What if we could make a dictionary (or dictionary like structure) that was easier to work with?\n",
    "  - Let's create a dictionary that let's us access values like amino_acids[\"key\"][\"Name\"] or amino_acids[\"key\"][\"Codons\"]"
   ]
  },
  {
   "cell_type": "code",
   "execution_count": null,
   "id": "ccdc35ce",
   "metadata": {
    "lines_to_next_cell": 0
   },
   "outputs": [],
   "source": []
  },
  {
   "cell_type": "markdown",
   "id": "00f61e34",
   "metadata": {
    "lines_to_next_cell": 0
   },
   "source": [
    "- Introducing iterating on keys and values in dictionaries\n",
    "  - It turns out, it's not that different than using zip or enumerate!"
   ]
  },
  {
   "cell_type": "code",
   "execution_count": null,
   "id": "e4316500",
   "metadata": {
    "lines_to_next_cell": 0
   },
   "outputs": [],
   "source": []
  },
  {
   "cell_type": "markdown",
   "id": "4a416600",
   "metadata": {
    "lines_to_next_cell": 0
   },
   "source": [
    "- That was a lot of work. Can I save the awesome_aa dictionary and use it later?\n",
    "- Great question Jonathon! You definitely can.\n",
    "- There's a bunch of different ways, but my personal favorite is it to save it as a .txt file to read in later."
   ]
  },
  {
   "cell_type": "code",
   "execution_count": null,
   "id": "c48ddb79",
   "metadata": {
    "lines_to_next_cell": 2
   },
   "outputs": [],
   "source": [
    "with open(\"awesome_aa.txt\", \"w\") as f:\n",
    "  f.write(str(awesome_aa))"
   ]
  },
  {
   "cell_type": "markdown",
   "id": "48663e49",
   "metadata": {},
   "source": [
    "# Dataframes! Wow we made it\n",
    "\n",
    "- Let's load in our awesome amino acid dictionary we made, and convert it to a dataframe"
   ]
  },
  {
   "cell_type": "code",
   "execution_count": null,
   "id": "96fdd4ce",
   "metadata": {},
   "outputs": [],
   "source": [
    "with open(\"./awesome_aa.txt\", \"r\") as f:\n",
    "  amino_acids = eval(f.read())\n",
    "\n",
    "print(amino_acids)\n"
   ]
  },
  {
   "cell_type": "code",
   "execution_count": null,
   "id": "8a790032",
   "metadata": {},
   "outputs": [],
   "source": [
    "import pandas as pd\n"
   ]
  },
  {
   "cell_type": "markdown",
   "id": "b4e23e63",
   "metadata": {
    "lines_to_next_cell": 0
   },
   "source": [
    "- We don't need that summary column, let's drop it"
   ]
  },
  {
   "cell_type": "code",
   "execution_count": null,
   "id": "f26cbccd",
   "metadata": {},
   "outputs": [],
   "source": [
    "\n"
   ]
  },
  {
   "cell_type": "markdown",
   "id": "07d71095",
   "metadata": {},
   "source": [
    "- A few ways to show what's in a dataframe"
   ]
  },
  {
   "cell_type": "code",
   "execution_count": null,
   "id": "23306343",
   "metadata": {},
   "outputs": [],
   "source": []
  },
  {
   "cell_type": "markdown",
   "id": "93dacf15",
   "metadata": {
    "lines_to_next_cell": 0
   },
   "source": [
    "- Pandas dataframes are a two dimensional data structure that can hold multiple arrays (or series). \n",
    "    - A series is just a one dimensional array holding data of any type. You can think of them like fancy lists or tuples\n",
    "- Note that each column has a data type\n",
    "\n",
    "- Some, but not all, of that stuff we taught you about indexing applies here\n",
    "  - Note that we return a series when indexing"
   ]
  },
  {
   "cell_type": "code",
   "execution_count": null,
   "id": "fdd33602",
   "metadata": {
    "lines_to_next_cell": 2
   },
   "outputs": [],
   "source": [
    "print(my_basic_series[2])\n",
    "print(\"----------------\")\n",
    "print(my_basic_series[1])\n",
    "print(\"----------------\")\n",
    "print(my_basic_series[1:3])\n",
    "print(\"----------------\")\n",
    "print(type(my_basic_series[1:3]))\n",
    "print(\"----------------\")\n",
    "print(my_basic_series[-1:])\n",
    "print(\"----------------\")\n",
    "print(my_basic_series[:-2])"
   ]
  },
  {
   "cell_type": "markdown",
   "id": "a71064db",
   "metadata": {},
   "source": [
    "- You can filter a dataframe by a specific column value\n",
    "\n",
    "- You can also filter by multiple columns\n",
    "\n",
    "- Alternative way to filter on a string value using \"isin\"\n",
    "\n",
    "- You don't have to return the whole dataframe, you can also use one column to filter, then report the values of another\n",
    "\n",
    "- Adding a column to a dataframe is pretty easy. Luckily I have plenty of columns we can add.\n",
    "\n",
    "- Let's merge our metadata with our amino acid dataframe on the name columns"
   ]
  },
  {
   "cell_type": "markdown",
   "id": "aab17d54",
   "metadata": {},
   "source": [
    "- Finally, let's save our work and come back to it for the homework!\n"
   ]
  }
 ],
 "metadata": {
  "kernelspec": {
   "display_name": "Python 3 (ipykernel)",
   "language": "python",
   "name": "python3"
  }
 },
 "nbformat": 4,
 "nbformat_minor": 5
}
