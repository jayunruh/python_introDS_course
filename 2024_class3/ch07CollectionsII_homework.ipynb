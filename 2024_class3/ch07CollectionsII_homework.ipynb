{
 "cells": [
  {
   "cell_type": "markdown",
   "id": "a741172f",
   "metadata": {},
   "source": [
    "Lecture 3 Homework\n",
    "\n",
    "#### 1) Read in the `.csv` that you created at the end of the lecture (I called mine \"mega_awesome_df.csv\") and save it to the variable df"
   ]
  },
  {
   "cell_type": "code",
   "execution_count": null,
   "id": "8db8d258",
   "metadata": {},
   "outputs": [],
   "source": []
  },
  {
   "cell_type": "markdown",
   "id": "5ab88fc6",
   "metadata": {
    "lines_to_next_cell": 0
   },
   "source": [
    "#### 2) Write a function that prints the following: \n",
    "\n",
    "  1. The number of rows and columns in your df\n",
    "  2. The number of each protein 'type'\n",
    "  3. The amino acid with the highest weight and the amino acid with the lowest weight\n",
    "  4. The number of times each nucleotide appears in the codons column  \n",
    "  5. The max, minimum, and average of the isoelectric point. "
   ]
  },
  {
   "cell_type": "code",
   "execution_count": null,
   "id": "96f3ff38",
   "metadata": {
    "lines_to_next_cell": 0
   },
   "outputs": [],
   "source": []
  },
  {
   "cell_type": "markdown",
   "id": "a4555636",
   "metadata": {
    "lines_to_next_cell": 0
   },
   "source": [
    "---\n",
    "\n",
    "#### 3) Report the heaviest and smallest weights for each protein type, along with the amino acid\n",
    "\n",
    "- The `GTF` file format is a tab-delimited file that contains information about genomic feature. A typical GTF contains the following 'columns':\n",
    "  1. seqname - name of the chromosome or scaffold; chromosome names can be given with or without the 'chr' prefix.\n",
    "  2. source - name of the program that generated this feature, or the data source that the feature is drawn from.\n",
    "  3. feature - feature type name, e.g. Gene, Variation, Similarity\n",
    "  4. start - Start position of the feature, with sequence numbering starting at 1.\n",
    "  5. end - End position of the feature, with sequence numbering starting at 1.\n",
    "  6. score - A floating point value.\n",
    "  7. strand - defined as + (forward) or - (reverse).\n",
    "  8. frame - One of '0', '1' or '2'. '0' indicates that the first base of the feature is the first base of a codon, '1' that the second base is the first base of a codon, and so on.\n",
    "  9. attribute - A semicolon-separated list of tag-value pairs, providing additional information about each feature."
   ]
  },
  {
   "cell_type": "code",
   "execution_count": null,
   "id": "76de5b66",
   "metadata": {
    "lines_to_next_cell": 0
   },
   "outputs": [],
   "source": []
  },
  {
   "cell_type": "markdown",
   "id": "eaeb9ef5",
   "metadata": {
    "lines_to_next_cell": 0
   },
   "source": [
    "#### 4) Previously, we'd use `pd.read_csv()` to read in our data of interest. That won't work here, because GTFs aren't separated by commas. Using google, the pandas reference docs or a friend, find out how to use pd.read_csv() to read in a tab delimited file, and read in the file `./data/example.gtf`\n",
    "\n",
    "- Hint! Your file may or may not have a header. You can check by examining the first row after you read in your table."
   ]
  },
  {
   "cell_type": "code",
   "execution_count": null,
   "id": "9db13717",
   "metadata": {},
   "outputs": [],
   "source": []
  },
  {
   "cell_type": "markdown",
   "id": "20d4c9ef",
   "metadata": {
    "lines_to_next_cell": 0
   },
   "source": [
    "#### 5) Oh no! Our GTF columns don't have names... Add the column names from above to your dataframe"
   ]
  },
  {
   "cell_type": "code",
   "execution_count": null,
   "id": "8f402b93",
   "metadata": {},
   "outputs": [],
   "source": []
  },
  {
   "cell_type": "markdown",
   "id": "1e461810",
   "metadata": {
    "lines_to_next_cell": 0
   },
   "source": [
    "#### 6) Report the longest gene, transcript and CDS (no need to show the record, just the length for each feature type is fine!)"
   ]
  },
  {
   "cell_type": "code",
   "execution_count": null,
   "id": "388ae4e0",
   "metadata": {
    "lines_to_next_cell": 0
   },
   "outputs": [],
   "source": []
  },
  {
   "cell_type": "markdown",
   "id": "6492d179",
   "metadata": {
    "lines_to_next_cell": 0
   },
   "source": [
    "- Hint! You can always add a column (say... length...) to your dataframe and use that to do some math on!\n",
    "\n",
    "#### 7) Write a function that takes the following as arguments and returns all records which match user provided values\n",
    "  - a gtf table\n",
    "  - strand\n",
    "  - length\n",
    "  - feature_type\n",
    "  - e.g., find_record(gtf, \"-\", \"802\", \"exon\") should return any records that are on the positive strand,\n",
    "    have a length greater than or equal to 802 and a feature == exon.\n",
    "\n",
    " - Hint! Make sure your gtf has a length column! If it doesn't, create it by subtracting the end from the start!\n",
    " - Hint! Recall we can filter our df on multiple values like so:\n",
    " `df[(df[\"Weight\"] > 100) & (df[\"Name\"].str.contains('acid'))]`"
   ]
  },
  {
   "cell_type": "code",
   "execution_count": null,
   "id": "ef970cf0",
   "metadata": {
    "lines_to_next_cell": 0
   },
   "outputs": [],
   "source": []
  },
  {
   "cell_type": "markdown",
   "id": "aebf1054",
   "metadata": {
    "lines_to_next_cell": 0
   },
   "source": [
    "- Use your function to find the record(s) with a feature type of transcript on the positive strand and a length greater than or equal to 252."
   ]
  },
  {
   "cell_type": "code",
   "execution_count": null,
   "id": "05697603",
   "metadata": {},
   "outputs": [],
   "source": []
  }
 ],
 "metadata": {
  "kernelspec": {
   "display_name": "Python 3 (ipykernel)",
   "language": "python",
   "name": "python3"
  },
  "language_info": {
   "codemirror_mode": {
    "name": "ipython",
    "version": 3
   },
   "file_extension": ".py",
   "mimetype": "text/x-python",
   "name": "python",
   "nbconvert_exporter": "python",
   "pygments_lexer": "ipython3",
   "version": "3.10.8"
  }
 },
 "nbformat": 4,
 "nbformat_minor": 5
}
