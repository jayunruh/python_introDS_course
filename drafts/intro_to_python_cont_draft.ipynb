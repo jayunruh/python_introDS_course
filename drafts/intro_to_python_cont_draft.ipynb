{
 "cells": [
  {
   "cell_type": "markdown",
   "id": "0b18dc89",
   "metadata": {},
   "source": [
    "# Intro to Python Part 2\n",
    "\n",
    "This tutorial will cover the following topics:\n",
    "\n",
    "* text strings\n",
    "* control statements\n",
    "* functions\n",
    "* imports"
   ]
  },
  {
   "cell_type": "markdown",
   "id": "1552ad96",
   "metadata": {},
   "source": [
    "Text strings are a special kind of list in python.  They obey many of the same rules but have special functions."
   ]
  },
  {
   "cell_type": "code",
   "execution_count": 1,
   "id": "ec22392f",
   "metadata": {},
   "outputs": [],
   "source": [
    "my_string='Python is fun, fun, fun!'"
   ]
  },
  {
   "cell_type": "code",
   "execution_count": 2,
   "id": "d0ab81dc",
   "metadata": {},
   "outputs": [
    {
     "name": "stdout",
     "output_type": "stream",
     "text": [
      "24\n",
      "<class 'str'>\n",
      "n is fun, \n",
      " fun!\n",
      "Python is fun, fun, fun! (of course)\n"
     ]
    }
   ],
   "source": [
    "#try all of the list tricks (they all work)\n",
    "print(len(my_string))\n",
    "print(type(my_string))\n",
    "print(my_string[5:15])\n",
    "print(my_string[-5:])\n",
    "print(my_string+' (of course)')"
   ]
  },
  {
   "cell_type": "markdown",
   "id": "4fe5602d",
   "metadata": {},
   "source": [
    "One of the more powerful string functions is split.  It divides a string every place a substring is observed.  String functions are added after the variable name separated by a period.  The result is a list of strings:"
   ]
  },
  {
   "cell_type": "code",
   "execution_count": 3,
   "id": "d782a894",
   "metadata": {},
   "outputs": [
    {
     "name": "stdout",
     "output_type": "stream",
     "text": [
      "['Python', 'is', 'fun,', 'fun,', 'fun!']\n",
      "['Python is fun', ' fun', ' fun!']\n"
     ]
    }
   ],
   "source": [
    "#We could split on spaces:\n",
    "print(my_string.split(' '))\n",
    "#or on commas\n",
    "print(my_string.split(','))"
   ]
  },
  {
   "cell_type": "markdown",
   "id": "8ca12f68",
   "metadata": {},
   "source": [
    "Find searches for a substring in a string.  The first matching instance is reported:"
   ]
  },
  {
   "cell_type": "code",
   "execution_count": 4,
   "id": "17189e9d",
   "metadata": {},
   "outputs": [
    {
     "name": "stdout",
     "output_type": "stream",
     "text": [
      "10\n"
     ]
    }
   ],
   "source": [
    "print(my_string.find('fun'))"
   ]
  },
  {
   "cell_type": "markdown",
   "id": "1fb010bb",
   "metadata": {},
   "source": [
    "You can force find to look further on in the string by giving it at starting point:"
   ]
  },
  {
   "cell_type": "code",
   "execution_count": 5,
   "id": "f091caa5",
   "metadata": {},
   "outputs": [
    {
     "name": "stdout",
     "output_type": "stream",
     "text": [
      "15\n"
     ]
    }
   ],
   "source": [
    "print(my_string.find('fun',12))"
   ]
  },
  {
   "cell_type": "markdown",
   "id": "5dd3db8b",
   "metadata": {},
   "source": [
    "Startswith and endswith are great functions to check for prefixes and extensions on file names:"
   ]
  },
  {
   "cell_type": "code",
   "execution_count": 6,
   "id": "65236820",
   "metadata": {},
   "outputs": [
    {
     "name": "stdout",
     "output_type": "stream",
     "text": [
      "True\n",
      "False\n"
     ]
    }
   ],
   "source": [
    "print(my_string.startswith('Python'))\n",
    "print(my_string.startswith('python')) #see if it's case sensitive"
   ]
  },
  {
   "cell_type": "markdown",
   "id": "d793b3f8",
   "metadata": {},
   "source": [
    "There are lots of other special string functions.  Upper and lower convert case.  Strip gets rid of leading and trailing whitespace.  Isnumeric tells whether the string represents numeric characters."
   ]
  },
  {
   "cell_type": "markdown",
   "id": "d50358e1",
   "metadata": {},
   "source": [
    "Note that data types can be applied as functions to convert values to and from different data types.  This is important for finding numeric values in strings (again useful for file names)."
   ]
  },
  {
   "cell_type": "code",
   "execution_count": 7,
   "id": "17744d47",
   "metadata": {},
   "outputs": [
    {
     "name": "stdout",
     "output_type": "stream",
     "text": [
      "11\n",
      "<class 'str'>\n",
      "11\n",
      "<class 'int'>\n"
     ]
    }
   ],
   "source": [
    "print(str(11))\n",
    "print(type(str(11)))\n",
    "print(int('11'))\n",
    "print(type(int('11')))"
   ]
  },
  {
   "cell_type": "markdown",
   "id": "8a12cc9d",
   "metadata": {},
   "source": [
    "Every programming language has control statements.  In python, the most common are \"for x in y\", \"if then\", and \"while\".  The for statement is typically used to iterate through lists:"
   ]
  },
  {
   "cell_type": "code",
   "execution_count": 8,
   "id": "025f5e4d",
   "metadata": {},
   "outputs": [
    {
     "name": "stdout",
     "output_type": "stream",
     "text": [
      "[3, 4, 5, 6, 7]\n"
     ]
    }
   ],
   "source": [
    "my_list=[1,2,3,4,5]\n",
    "for i in range(len(my_list)):\n",
    "    my_list[i]+=2\n",
    "print(my_list)"
   ]
  },
  {
   "cell_type": "markdown",
   "id": "e2d6dbf0",
   "metadata": {},
   "source": [
    "Note that range is a special python function that goes from zero to it's value minus 1.  That makes it perfect for iterating through lists.  You can optionally give it the starting point as well:"
   ]
  },
  {
   "cell_type": "code",
   "execution_count": 9,
   "id": "3dce383f",
   "metadata": {},
   "outputs": [
    {
     "name": "stdout",
     "output_type": "stream",
     "text": [
      "[3, 4, 7, 8, 9]\n"
     ]
    }
   ],
   "source": [
    "for i in range(2,len(my_list)):\n",
    "    my_list[i]+=2\n",
    "print(my_list)"
   ]
  },
  {
   "cell_type": "code",
   "execution_count": 23,
   "id": "e91ba6c0",
   "metadata": {
    "scrolled": true
   },
   "outputs": [
    {
     "data": {
      "text/plain": [
       "[2, 3, 4]"
      ]
     },
     "execution_count": 23,
     "metadata": {},
     "output_type": "execute_result"
    }
   ],
   "source": [
    "#list(range) let's you see what the range function is providing\n",
    "list(range(2,len(my_list)))"
   ]
  },
  {
   "cell_type": "markdown",
   "id": "f327108a",
   "metadata": {},
   "source": [
    "You can also iterate through a list without indexes, but the value provided doesn't change the original list (it's a copy):"
   ]
  },
  {
   "cell_type": "code",
   "execution_count": 11,
   "id": "eec181e9",
   "metadata": {},
   "outputs": [
    {
     "name": "stdout",
     "output_type": "stream",
     "text": [
      "5\n",
      "6\n",
      "9\n",
      "10\n",
      "11\n",
      "[3, 4, 7, 8, 9]\n"
     ]
    }
   ],
   "source": [
    "for val in my_list:\n",
    "    val+=2\n",
    "    print(val)\n",
    "print(my_list)"
   ]
  },
  {
   "cell_type": "markdown",
   "id": "c19b0164",
   "metadata": {},
   "source": [
    "If elif else statements in python are relatively straightforward."
   ]
  },
  {
   "cell_type": "code",
   "execution_count": 12,
   "id": "490fb212",
   "metadata": {},
   "outputs": [
    {
     "name": "stdout",
     "output_type": "stream",
     "text": [
      "greater than 2, less than 3\n"
     ]
    }
   ],
   "source": [
    "if(my_list[0]>2):\n",
    "    print('greater than 2, less than 3')\n",
    "elif(my_list[0]>3):\n",
    "    print('greater than 3')\n",
    "else:\n",
    "    print('less than 3')"
   ]
  },
  {
   "cell_type": "markdown",
   "id": "37649092",
   "metadata": {},
   "source": [
    "While is straightforward as well:"
   ]
  },
  {
   "cell_type": "code",
   "execution_count": 13,
   "id": "f6c7a9c2",
   "metadata": {},
   "outputs": [
    {
     "name": "stdout",
     "output_type": "stream",
     "text": [
      "3\n",
      "4\n",
      "7\n",
      "8\n",
      "9\n"
     ]
    }
   ],
   "source": [
    "i=0\n",
    "while i < len(my_list):\n",
    "    print(my_list[i])\n",
    "    i+=1"
   ]
  },
  {
   "cell_type": "markdown",
   "id": "b819af9b",
   "metadata": {},
   "source": [
    "Functions form the basis for every modern programming language.  Writing good functions is the key to going from a novice programmer to one that can put together complex workflows.  If a software package is a house, functions are the bricks and well written functions can be layered together to build at a much larger scale."
   ]
  },
  {
   "cell_type": "code",
   "execution_count": 14,
   "id": "13d37b1b",
   "metadata": {},
   "outputs": [],
   "source": [
    "def my_function(val1,val2,val3):\n",
    "    return val1+val2+val3"
   ]
  },
  {
   "cell_type": "markdown",
   "id": "80706328",
   "metadata": {},
   "source": [
    "Now that our function is defined, we can run it as often as we want."
   ]
  },
  {
   "cell_type": "code",
   "execution_count": 15,
   "id": "ee08c1c2",
   "metadata": {},
   "outputs": [
    {
     "data": {
      "text/plain": [
       "6"
      ]
     },
     "execution_count": 15,
     "metadata": {},
     "output_type": "execute_result"
    }
   ],
   "source": [
    "my_function(1,2,3)"
   ]
  },
  {
   "cell_type": "code",
   "execution_count": 16,
   "id": "296fa658",
   "metadata": {},
   "outputs": [
    {
     "data": {
      "text/plain": [
       "600"
      ]
     },
     "execution_count": 16,
     "metadata": {},
     "output_type": "execute_result"
    }
   ],
   "source": [
    "my_function(100,200,300)"
   ]
  },
  {
   "cell_type": "markdown",
   "id": "ab64b7d0",
   "metadata": {},
   "source": [
    "Function variables can be given default values to make life easier on the function user.  Here we find the nth substring in a string but default the value to the 2nd.  Note that default value function arguments need to come after all of the arguments without default values."
   ]
  },
  {
   "cell_type": "code",
   "execution_count": 17,
   "id": "e1d8cf09",
   "metadata": {},
   "outputs": [],
   "source": [
    "def findnthsubstring(mystr,substr,n=2):\n",
    "    #it's a good idea to describe what your function does with comments\n",
    "    #this function finds the nth instance of substr in mystr\n",
    "    pos=0\n",
    "    i=0\n",
    "    while(i<n):\n",
    "        pos=mystr.find(substr,pos+1)\n",
    "        i+=1\n",
    "    return pos"
   ]
  },
  {
   "cell_type": "code",
   "execution_count": 18,
   "id": "c80dee4b",
   "metadata": {},
   "outputs": [
    {
     "data": {
      "text/plain": [
       "10"
      ]
     },
     "execution_count": 18,
     "metadata": {},
     "output_type": "execute_result"
    }
   ],
   "source": [
    "#run the function like normal\n",
    "findnthsubstring(my_string,'fun',1)"
   ]
  },
  {
   "cell_type": "code",
   "execution_count": 19,
   "id": "00ea39c9",
   "metadata": {},
   "outputs": [
    {
     "data": {
      "text/plain": [
       "15"
      ]
     },
     "execution_count": 19,
     "metadata": {},
     "output_type": "execute_result"
    }
   ],
   "source": [
    "#if we omit the last variable, the default value is used\n",
    "findnthsubstring(my_string,'fun')"
   ]
  },
  {
   "cell_type": "markdown",
   "id": "dc870e32",
   "metadata": {},
   "source": [
    "If functions are bricks in a house we are building, it's nice to be able to save them in a separate file and import them into our code.  Python will import any text file with extension .py in the same folder as your notebook.  Let's save our findnthsubstring function to a file called myimport.py."
   ]
  },
  {
   "cell_type": "code",
   "execution_count": 20,
   "id": "a299dab1",
   "metadata": {},
   "outputs": [],
   "source": [
    "import myimport #note that you can create text files and save them as .py from jupyter"
   ]
  },
  {
   "cell_type": "code",
   "execution_count": 21,
   "id": "403460fc",
   "metadata": {},
   "outputs": [
    {
     "data": {
      "text/plain": [
       "15"
      ]
     },
     "execution_count": 21,
     "metadata": {},
     "output_type": "execute_result"
    }
   ],
   "source": [
    "#now call it from our import\n",
    "myimport.findnthsubstring(my_string,'fun')"
   ]
  },
  {
   "cell_type": "markdown",
   "id": "fd0e8f30",
   "metadata": {},
   "source": [
    "As we move into more advanced python concepts, we will use imports to bring in coding tools like numpy, matplotlib, and pandas."
   ]
  },
  {
   "cell_type": "code",
   "execution_count": null,
   "id": "5cd49f8f",
   "metadata": {},
   "outputs": [],
   "source": []
  }
 ],
 "metadata": {
  "kernelspec": {
   "display_name": "startenv",
   "language": "python",
   "name": "startenv"
  },
  "language_info": {
   "codemirror_mode": {
    "name": "ipython",
    "version": 3
   },
   "file_extension": ".py",
   "mimetype": "text/x-python",
   "name": "python",
   "nbconvert_exporter": "python",
   "pygments_lexer": "ipython3",
   "version": "3.9.16"
  }
 },
 "nbformat": 4,
 "nbformat_minor": 5
}
