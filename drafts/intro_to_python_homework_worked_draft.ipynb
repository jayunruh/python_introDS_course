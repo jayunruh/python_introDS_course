{
 "cells": [
  {
   "cell_type": "markdown",
   "id": "ce681f16",
   "metadata": {},
   "source": [
    "To start, make a variable called \"myvar\" and set it equal to the boolean value \"True\" and another one called \"myfloat\" and set it equal to 5.0.  Print the variables and print their data types."
   ]
  },
  {
   "cell_type": "code",
   "execution_count": 1,
   "id": "ce218f19",
   "metadata": {},
   "outputs": [
    {
     "name": "stdout",
     "output_type": "stream",
     "text": [
      "True\n",
      "<class 'bool'>\n",
      "5.0\n",
      "<class 'float'>\n"
     ]
    }
   ],
   "source": [
    "myvar=True\n",
    "myfloat=5.0\n",
    "print(myvar)\n",
    "print(type(myvar))\n",
    "print(myfloat)\n",
    "print(type(myfloat))"
   ]
  },
  {
   "cell_type": "markdown",
   "id": "720c9c05",
   "metadata": {},
   "source": [
    "Now try adding those variables together and print the results."
   ]
  },
  {
   "cell_type": "code",
   "execution_count": 2,
   "id": "de472263",
   "metadata": {},
   "outputs": [
    {
     "name": "stdout",
     "output_type": "stream",
     "text": [
      "6.0\n"
     ]
    }
   ],
   "source": [
    "mysum=myvar+myfloat\n",
    "print(mysum)"
   ]
  },
  {
   "cell_type": "markdown",
   "id": "60245df7",
   "metadata": {},
   "source": [
    "So boolean variables are converted to 1 if true.  Make a false variable and see what it adds up to:"
   ]
  },
  {
   "cell_type": "code",
   "execution_count": 3,
   "id": "a253b0ba",
   "metadata": {},
   "outputs": [
    {
     "name": "stdout",
     "output_type": "stream",
     "text": [
      "5.0\n"
     ]
    }
   ],
   "source": [
    "myvar2=False\n",
    "print(myfloat+myvar2)"
   ]
  },
  {
   "cell_type": "markdown",
   "id": "bc63c43e",
   "metadata": {},
   "source": [
    "Unsurprisingly it's 0.  One handy operator we haven't talked about so far is the modulus operator (%).  Google that operator and try it out:"
   ]
  },
  {
   "cell_type": "code",
   "execution_count": 4,
   "id": "f328774c",
   "metadata": {},
   "outputs": [
    {
     "data": {
      "text/plain": [
       "1.5"
      ]
     },
     "execution_count": 4,
     "metadata": {},
     "output_type": "execute_result"
    }
   ],
   "source": [
    "mysum%4.5"
   ]
  },
  {
   "cell_type": "markdown",
   "id": "68ab5cfc",
   "metadata": {},
   "source": [
    "Now make a list of integers from 10 to 15 and assign it to a variable.  Print the third to last item with negative indexing."
   ]
  },
  {
   "cell_type": "code",
   "execution_count": 5,
   "id": "ea7d8b4b",
   "metadata": {},
   "outputs": [
    {
     "name": "stdout",
     "output_type": "stream",
     "text": [
      "13\n"
     ]
    }
   ],
   "source": [
    "alist=[10,11,12,13,14,15]\n",
    "print(alist[-3])"
   ]
  },
  {
   "cell_type": "markdown",
   "id": "50e0c9f5",
   "metadata": {},
   "source": [
    "Now use list addition (+) to add on a list going from 15 back down to 10."
   ]
  },
  {
   "cell_type": "code",
   "execution_count": 6,
   "id": "3ea1a679",
   "metadata": {},
   "outputs": [
    {
     "name": "stdout",
     "output_type": "stream",
     "text": [
      "[10, 11, 12, 13, 14, 15, 15, 14, 13, 12, 11, 10]\n"
     ]
    }
   ],
   "source": [
    "alist=alist+[15,14,13,12,11,10]\n",
    "print(alist)"
   ]
  },
  {
   "cell_type": "markdown",
   "id": "a538a7ea",
   "metadata": {},
   "source": [
    "Now print a slice of this list with the last 5 items.  Note that if you leave nothing to the right of the : slicing defaults to the end of the list."
   ]
  },
  {
   "cell_type": "code",
   "execution_count": 7,
   "id": "23fa7bf8",
   "metadata": {},
   "outputs": [
    {
     "name": "stdout",
     "output_type": "stream",
     "text": [
      "[14, 13, 12, 11, 10]\n"
     ]
    }
   ],
   "source": [
    "print(alist[-5:])"
   ]
  },
  {
   "cell_type": "markdown",
   "id": "dce0b46e",
   "metadata": {},
   "source": [
    "Now make a list of 10 repeats of the value 2.5 and print it."
   ]
  },
  {
   "cell_type": "code",
   "execution_count": 8,
   "id": "2c8b7406",
   "metadata": {},
   "outputs": [
    {
     "name": "stdout",
     "output_type": "stream",
     "text": [
      "[2.5, 2.5, 2.5, 2.5, 2.5, 2.5, 2.5, 2.5, 2.5, 2.5]\n"
     ]
    }
   ],
   "source": [
    "flist=[2.5]*10\n",
    "print(flist)"
   ]
  },
  {
   "cell_type": "markdown",
   "id": "87b7093b",
   "metadata": {},
   "source": [
    "Finally make a dictionary with last name keys and first name values for 5 of your freinds or acquaintances including yourself.  Print the value corresponding to someone's last name."
   ]
  },
  {
   "cell_type": "code",
   "execution_count": 9,
   "id": "ac929874",
   "metadata": {},
   "outputs": [],
   "source": [
    "friend_dict={'Unruh':'Jay','Schwarz':'Joel','Winn':'Chris','Horn':'Ryan','Lorenz':'Kathryn'}"
   ]
  },
  {
   "cell_type": "code",
   "execution_count": 10,
   "id": "8ddc5d16",
   "metadata": {},
   "outputs": [
    {
     "name": "stdout",
     "output_type": "stream",
     "text": [
      "Chris\n"
     ]
    }
   ],
   "source": [
    "print(friend_dict['Winn'])"
   ]
  },
  {
   "cell_type": "markdown",
   "id": "ba5968f9",
   "metadata": {},
   "source": [
    "Finally list all of the last names in that group."
   ]
  },
  {
   "cell_type": "code",
   "execution_count": 11,
   "id": "443f4f07",
   "metadata": {},
   "outputs": [
    {
     "name": "stdout",
     "output_type": "stream",
     "text": [
      "['Unruh', 'Schwarz', 'Winn', 'Horn', 'Lorenz']\n"
     ]
    }
   ],
   "source": [
    "print(list(friend_dict.keys()))"
   ]
  },
  {
   "cell_type": "markdown",
   "id": "7e201032",
   "metadata": {},
   "source": [
    "Now make a dictionary of ingredient amounts for a simple recipe.  Print a selected ingredient amount as well as the list of ingredients."
   ]
  },
  {
   "cell_type": "code",
   "execution_count": 12,
   "id": "61e8877b",
   "metadata": {},
   "outputs": [],
   "source": [
    "ingredient_dict={'Chicken':'1 lb','Chili_Sauce':'3 tbsp','Honey':'2 tbsp',\n",
    "                 'Rice':'2 cups','Scallions':'2','Baby_Carrots':'5'}"
   ]
  },
  {
   "cell_type": "code",
   "execution_count": 13,
   "id": "e76ca160",
   "metadata": {},
   "outputs": [
    {
     "name": "stdout",
     "output_type": "stream",
     "text": [
      "2 cups\n",
      "['Chicken', 'Chili_Sauce', 'Honey', 'Rice', 'Scallions', 'Baby_Carrots']\n"
     ]
    }
   ],
   "source": [
    "print(ingredient_dict['Rice'])\n",
    "print(list(ingredient_dict.keys()))"
   ]
  },
  {
   "cell_type": "code",
   "execution_count": null,
   "id": "b9f1306a",
   "metadata": {},
   "outputs": [],
   "source": []
  }
 ],
 "metadata": {
  "kernelspec": {
   "display_name": "startenv",
   "language": "python",
   "name": "startenv"
  },
  "language_info": {
   "codemirror_mode": {
    "name": "ipython",
    "version": 3
   },
   "file_extension": ".py",
   "mimetype": "text/x-python",
   "name": "python",
   "nbconvert_exporter": "python",
   "pygments_lexer": "ipython3",
   "version": "3.9.16"
  }
 },
 "nbformat": 4,
 "nbformat_minor": 5
}
