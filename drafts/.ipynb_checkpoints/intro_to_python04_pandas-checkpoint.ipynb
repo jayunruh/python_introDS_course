{
 "cells": [
  {
   "cell_type": "markdown",
   "id": "2683fc90",
   "metadata": {},
   "source": [
    "## Let's do some data science\n",
    "\n",
    "[![Open In Colab](https://colab.research.google.com/assets/colab-badge.svg)](http://colab.research.google.com/github/jayunruh/python_introDS_course/blob/master/intro_to_python04_pandas.ipynb)"
   ]
  },
  {
   "cell_type": "markdown",
   "id": "2881afe0",
   "metadata": {},
   "source": [
    "## Do the imports\n",
    "\n",
    "When doing data science things you are often reading many data files from\n",
    "nested directories. We will use the standard python packages `os` and `glob`\n",
    "to help with that.\n",
    "\n",
    "We will be using pandas for data analysis; it is typically imported with a nickname (like numpy is).\n",
    "```python\n",
    "import pandas as pd\n",
    "```\n",
    "\n",
    "We can also import `numpy` in case we need it.\n",
    "\n",
    "Remember, you can always add more packages to import later on by adding them to the cell and rerunning it."
   ]
  },
  {
   "cell_type": "code",
   "execution_count": null,
   "id": "f75b0196",
   "metadata": {},
   "outputs": [],
   "source": [
    "import os\n",
    "import glob\n",
    "\n",
    "import pandas as pd\n",
    "import numpy"
   ]
  },
  {
   "cell_type": "markdown",
   "id": "e76d33b3",
   "metadata": {},
   "source": [
    "## The Data\n",
    "\n",
    "### 2019 KC Corporate Challenge 5k\n",
    "\n",
    "#### Description\n",
    "This data set is the final results of the Corporate Challenge 5k race. Like most road races, runners are placed in divisions for mens/womens and age range. This dataset also has the company/organization the runner works for, and a division based on the size of the company.\n",
    "\n",
    "The data is in multiple csv files base on age and m/w in the foleder `Data`"
   ]
  },
  {
   "cell_type": "code",
   "execution_count": null,
   "id": "9216cbaa",
   "metadata": {},
   "outputs": [],
   "source": [
    "### Use os to list the files (notice they aren't sorted)\n",
    "\n",
    "files = os.listdir(\"Data\")\n",
    "files"
   ]
  },
  {
   "cell_type": "code",
   "execution_count": null,
   "id": "ce9e0fed",
   "metadata": {},
   "outputs": [],
   "source": [
    "### Us glob to list the files\n",
    "gfiles = glob.glob(\"Data/Results*.csv\")\n",
    "gfiles"
   ]
  },
  {
   "cell_type": "code",
   "execution_count": null,
   "id": "80cdce98",
   "metadata": {},
   "outputs": [],
   "source": [
    "### Us glob to list the files starting with W\n",
    "w_gfiles = glob.glob(\"Data/*W*.csv\")\n",
    "w_gfiles"
   ]
  },
  {
   "cell_type": "markdown",
   "id": "2ee9c28d",
   "metadata": {},
   "source": [
    "### Read some data\n",
    "The read one of the files from the glob list"
   ]
  },
  {
   "cell_type": "code",
   "execution_count": null,
   "id": "f866fd53",
   "metadata": {},
   "outputs": [],
   "source": [
    "print(gfiles[5])\n",
    "df5 = pd.read_csv(gfiles[5])"
   ]
  },
  {
   "cell_type": "code",
   "execution_count": null,
   "id": "cd3b0902",
   "metadata": {},
   "outputs": [],
   "source": [
    "'''\n",
    "Look at the dataframe\n",
    "what are the columns and rows, etc.\n",
    "'''\n",
    "df5"
   ]
  },
  {
   "cell_type": "code",
   "execution_count": null,
   "id": "bdee2894",
   "metadata": {},
   "outputs": [],
   "source": [
    "'''Look at the dataframe with head/tail/sample'''\n",
    "df5.sample(10)"
   ]
  },
  {
   "cell_type": "markdown",
   "id": "c44e54ec",
   "metadata": {},
   "source": [
    "### Accessing columns\n",
    "To access the data in columns, either a dot with column name or\n",
    "dictionary key type syntax can be used:\n",
    "\n",
    "```python\n",
    "xdiv1 = df.Div\n",
    "\n",
    "xdiv2 = df['Div']\n",
    "```\n",
    "\n",
    "This can't be done if the column name has as space, like `Last Name` (or other ridiculousness).\n",
    "\n",
    "I like using the the dot, and spaces have a way of messing things up."
   ]
  },
  {
   "cell_type": "code",
   "execution_count": null,
   "id": "6988d831",
   "metadata": {},
   "outputs": [],
   "source": [
    "df5[[\"First Name\", \"Last Name\"]]"
   ]
  },
  {
   "cell_type": "code",
   "execution_count": null,
   "id": "c1eca9fb",
   "metadata": {},
   "outputs": [],
   "source": [
    "### make new columns from existing columns\n",
    "\n",
    "df5[\"name\"] = df5[\"First Name\"] + \" \" + df5[\"Last Name\"]\n",
    "df5.sample(5)"
   ]
  },
  {
   "cell_type": "markdown",
   "id": "ee805706",
   "metadata": {},
   "source": [
    "### Read all of the data\n",
    "We want to read all of the csv files and combine them into one dataframe.\n",
    "\n",
    "Each row in the dataframe will need a label to identify what file it came from, so we can group by age, etc."
   ]
  },
  {
   "cell_type": "code",
   "execution_count": null,
   "id": "565b2010",
   "metadata": {},
   "outputs": [],
   "source": []
  },
  {
   "cell_type": "code",
   "execution_count": null,
   "id": "f587ed6a",
   "metadata": {},
   "outputs": [],
   "source": [
    "## write a function that returns the M or W and the the age group\n",
    "def extract_group(filename):\n",
    "    '''\n",
    "    Extract the group from the filename\n",
    "    \n",
    "    Parameters\n",
    "    ----------\n",
    "    filename : str\n",
    "        The name of the csv file for the group\n",
    "        \n",
    "    Returns\n",
    "    -------\n",
    "    m_or_w, age : tuple(str, int)\n",
    "    '''\n",
    "    basename = os.path.basename(filename)\n",
    "    base = basename[:-4]\n",
    "    base_split = base.split(\"_\")\n",
    "    m_or_w = base_split[1][0]\n",
    "    age = int(base_split[1][1:])  ## is this what we want?\n",
    "    return m_or_w, age"
   ]
  },
  {
   "cell_type": "code",
   "execution_count": null,
   "id": "fa07193b",
   "metadata": {},
   "outputs": [],
   "source": [
    "#extract_group?"
   ]
  },
  {
   "cell_type": "code",
   "execution_count": null,
   "id": "dbed4996",
   "metadata": {},
   "outputs": [],
   "source": [
    "gfiles[3]"
   ]
  },
  {
   "cell_type": "code",
   "execution_count": null,
   "id": "d9492e71",
   "metadata": {},
   "outputs": [],
   "source": [
    "extract_group(gfiles[3])"
   ]
  },
  {
   "cell_type": "code",
   "execution_count": null,
   "id": "8ec7dd5b",
   "metadata": {},
   "outputs": [],
   "source": [
    "df_list = list()\n",
    "\n",
    "for f in gfiles:\n",
    "    m_or_w, age = extract_group(f)\n",
    "    temp_df = pd.read_csv(f)\n",
    "    temp_df['m_or_w'] = m_or_w\n",
    "    temp_df['age'] = age\n",
    "    df_list.append(temp_df)\n",
    "    \n",
    "df = pd.concat(df_list)\n",
    "df "
   ]
  },
  {
   "cell_type": "code",
   "execution_count": null,
   "id": "0e8162ce",
   "metadata": {},
   "outputs": [],
   "source": [
    "## get rid of the columns that are not meaningful ('Unnamed: 0')\n",
    "df = df.drop(['Unnamed: 0'], axis=1)"
   ]
  },
  {
   "cell_type": "code",
   "execution_count": null,
   "id": "49e85154",
   "metadata": {},
   "outputs": [],
   "source": [
    "df.Company.unique().shape"
   ]
  },
  {
   "cell_type": "markdown",
   "id": "7a338b32",
   "metadata": {},
   "source": [
    "### Company Divisions\n",
    "\n",
    "Companies are placed in divisions based on there number of employees. The division for each company is\n",
    "listed in Data/divisions.csv.\n",
    "\n",
    "Read divisions.csv into a dataframe and merge that with the dataframe `df`"
   ]
  },
  {
   "cell_type": "code",
   "execution_count": null,
   "id": "7d2b00cb",
   "metadata": {},
   "outputs": [],
   "source": [
    "div_df = pd.read_csv(\"Data/divisions.csv\")\n",
    "div_df"
   ]
  },
  {
   "cell_type": "code",
   "execution_count": null,
   "id": "c5e25015",
   "metadata": {},
   "outputs": [],
   "source": [
    "### Use merge to combine the two dataset\n",
    "\n",
    "df = df.merge(div_df, left_on=['Company'], right_on=\"company_name\")"
   ]
  },
  {
   "cell_type": "code",
   "execution_count": null,
   "id": "2f33edf0",
   "metadata": {},
   "outputs": [],
   "source": [
    "### make new columns from existing columns\n",
    "### name from First Name and Last Name\n",
    "df[\"name\"] = df[\"First Name\"] + \" \" + df[\"Last Name\"]\n",
    "df.sample(5)"
   ]
  },
  {
   "cell_type": "markdown",
   "id": "de4713a5",
   "metadata": {},
   "source": [
    "### Column data dtype\n",
    "\n",
    "Look at the data type of each column to see if it makes sense"
   ]
  },
  {
   "cell_type": "code",
   "execution_count": null,
   "id": "fea2a287",
   "metadata": {},
   "outputs": [],
   "source": [
    "df.dtypes"
   ]
  },
  {
   "cell_type": "markdown",
   "id": "12cb0a6d",
   "metadata": {},
   "source": [
    "### The Time column is a str\n",
    "\n",
    "This will need to be converted to a float to do any ranking or math. This will involve String functions and type conversions. "
   ]
  },
  {
   "cell_type": "code",
   "execution_count": null,
   "id": "c34a320e",
   "metadata": {},
   "outputs": [],
   "source": [
    "## mess around with df str functions\n",
    "s = \"1:23:45.5\"\n",
    "s.split(\":\")"
   ]
  },
  {
   "cell_type": "code",
   "execution_count": null,
   "id": "84d28283",
   "metadata": {},
   "outputs": [],
   "source": [
    "## pandas str functions\n",
    "\n",
    "df[\"Company\"].str.split(\" \").str[1]"
   ]
  },
  {
   "cell_type": "markdown",
   "id": "92a1ced2",
   "metadata": {},
   "source": [
    "### work on the Time column\n",
    "\n",
    "What do you get when splitting with \":\"\n",
    "\n",
    "```python\n",
    "df.Time.str.split(\":\")\n",
    "df.Time.str.split(\":\").str.len()\n",
    "```"
   ]
  },
  {
   "cell_type": "code",
   "execution_count": null,
   "id": "a6138777",
   "metadata": {},
   "outputs": [],
   "source": [
    "### How to use split on a series\n",
    "df.Time.str.split(\":\")"
   ]
  },
  {
   "cell_type": "code",
   "execution_count": null,
   "id": "3e210ea9",
   "metadata": {},
   "outputs": [],
   "source": [
    "### How to use split on a series\n",
    "\n",
    "df.Time.str.split(\":\").str.len().unique()"
   ]
  },
  {
   "cell_type": "code",
   "execution_count": null,
   "id": "eb07c204",
   "metadata": {},
   "outputs": [],
   "source": [
    "### Use str indexing\n",
    "### be aware of NaNs\n",
    "\n",
    "df.Time.str.split(\":\").str[-3]"
   ]
  },
  {
   "cell_type": "code",
   "execution_count": null,
   "id": "35abc4bf",
   "metadata": {},
   "outputs": [],
   "source": [
    " '''\n",
    "Make a new column that is the time in minutes as a float\n",
    "\n",
    "Use the str split and str indexing.\n",
    "Make a new series for seconds, minutes and hours, then do some math\n",
    "to make a minutes column\n",
    "'''\n",
    "\n",
    "seconds = df.Time.str.split(\":\").str[-1].astype('float')\n",
    "minutes = df.Time.str.split(\":\").str[-2].astype('float')\n",
    "hours = df.Time.str.split(\":\").str[-3].astype('float').fillna(0)\n",
    "\n",
    "df['minutes'] = 60*hours + minutes + seconds/60\n",
    "df"
   ]
  },
  {
   "cell_type": "markdown",
   "id": "dcb3f4ea",
   "metadata": {},
   "source": [
    "### Column mapping\n",
    "\n",
    "Another way to do this is mapping the values in a column to a function. The function is run on every entry in the column"
   ]
  },
  {
   "cell_type": "code",
   "execution_count": null,
   "id": "f29d1621",
   "metadata": {},
   "outputs": [],
   "source": [
    "def time_to_minutes(x):\n",
    "    sp = x.split(\":\")\n",
    "    seconds = float(sp[-1])\n",
    "    minutes = float(sp[-2])\n",
    "    if len(sp) == 3:\n",
    "        hours = float(sp[0])\n",
    "    else:\n",
    "        hours = 0\n",
    "    \n",
    "    return 60*hours + minutes + seconds/60\n",
    "\n",
    "time_to_minutes('24:2.0')"
   ]
  },
  {
   "cell_type": "code",
   "execution_count": null,
   "id": "1e1fc4b6",
   "metadata": {},
   "outputs": [],
   "source": [
    "df['minutes2'] = df.Time.map(time_to_minutes)\n",
    "df"
   ]
  },
  {
   "cell_type": "code",
   "execution_count": null,
   "id": "d1c7e998",
   "metadata": {},
   "outputs": [],
   "source": [
    "### Runners like to know the pace they run in km/minute or miles/minute\n",
    "### columns can be added by doing some math\n",
    "\n",
    "race_length = 5\n",
    "df['k_pace'] = (df.minutes)/race_length\n",
    "df['mile_pace'] = (df.k_pace/0.621371)\n",
    "df"
   ]
  },
  {
   "cell_type": "code",
   "execution_count": null,
   "id": "1fd45c3a",
   "metadata": {},
   "outputs": [],
   "source": [
    "### look at the stats of the times\n",
    "\n",
    "df.minutes.describe()"
   ]
  },
  {
   "cell_type": "code",
   "execution_count": null,
   "id": "eb7aecdf",
   "metadata": {},
   "outputs": [],
   "source": [
    "## looks at some of the stats functions on the mintutes column\n",
    "\n",
    "df.minutes.min(), df.minutes.max(), df.minutes.median(), df.minutes.mean()"
   ]
  },
  {
   "cell_type": "code",
   "execution_count": null,
   "id": "7b77f555",
   "metadata": {},
   "outputs": [],
   "source": [
    "# show a histogram using the pandas ploting functions\n",
    "df.minutes.hist(bins=50)"
   ]
  },
  {
   "cell_type": "code",
   "execution_count": null,
   "id": "1c6e4d00",
   "metadata": {},
   "outputs": [],
   "source": [
    "### multiple selections with &\n",
    "### how is >= 50 years old and runs faster than 20 minutes?\n",
    "\n",
    "df[(df.minutes < 20) & (df.age > 50)]"
   ]
  },
  {
   "cell_type": "code",
   "execution_count": null,
   "id": "41185572",
   "metadata": {},
   "outputs": [],
   "source": [
    "df[(df.Div == 'D') & (df.age == 50) & (df.m_or_w == 'M')]"
   ]
  },
  {
   "cell_type": "code",
   "execution_count": null,
   "id": "7f7450a4",
   "metadata": {},
   "outputs": [],
   "source": [
    "### Use groupby to show stats for various groupings\n",
    "\n",
    "df.groupby(['Div', 'age', 'm_or_w']).minutes.agg(['min', 'mean', 'max', 'count'])"
   ]
  },
  {
   "cell_type": "code",
   "execution_count": null,
   "id": "ef746417",
   "metadata": {},
   "outputs": [],
   "source": [
    "### Use groupby to find the place of runners in their division\n",
    "\n",
    "df['div_place'] = df.groupby(['Div', 'age', 'm_or_w']).minutes.rank('min')\n",
    "df.sort_values(\"div_place\")"
   ]
  },
  {
   "cell_type": "code",
   "execution_count": null,
   "id": "20a73bdf",
   "metadata": {},
   "outputs": [],
   "source": [
    "### Score like a track meet, points for the top 8 finishers in each group\n",
    "### remember map put in an NaN if a map key doesn't exist\n",
    "\n",
    "points_map = {1:10, 2:8, 3:6, 4:5, 5:4, 6:3, 7:2, 8:1}\n",
    "\n",
    "df[\"div_points\"] = df[\"div_place\"].map(points_map)\n",
    "df[\"div_points\"] = df[\"div_points\"].fillna(0)\n",
    "df"
   ]
  },
  {
   "cell_type": "code",
   "execution_count": null,
   "id": "30d89928",
   "metadata": {},
   "outputs": [],
   "source": []
  },
  {
   "cell_type": "code",
   "execution_count": null,
   "id": "27c5054c",
   "metadata": {},
   "outputs": [],
   "source": [
    "### who are the winners of each division\n",
    "\n",
    "winners = df[df['div_points']==10].sort_values('minutes')\n",
    "winners"
   ]
  },
  {
   "cell_type": "code",
   "execution_count": null,
   "id": "ae31ec01",
   "metadata": {},
   "outputs": [],
   "source": [
    "winners.Company.value_counts()"
   ]
  },
  {
   "cell_type": "markdown",
   "id": "cea64481",
   "metadata": {},
   "source": [
    "### Selecting data"
   ]
  },
  {
   "cell_type": "code",
   "execution_count": null,
   "id": "4602b732",
   "metadata": {},
   "outputs": [],
   "source": [
    "### Select winners from one Div\n",
    "\n",
    "winners[winners.Div == 'D'][[\"name\", \"Company\", \"m_or_w\", \"age\", \"minutes\"]].sort_values(\"age\")"
   ]
  },
  {
   "cell_type": "code",
   "execution_count": null,
   "id": "51288474",
   "metadata": {},
   "outputs": [],
   "source": [
    "## How many points did each company score\n",
    "### Add up the points accumulated by each company using a groupby aggregation\n",
    "### use 'Div', and  'Company' in the groupby\n",
    "### store the result in a new dataframe\n",
    "score_df = df.groupby(['Div', 'Company'])['div_points'].sum().reset_index()\n",
    "score_df"
   ]
  },
  {
   "cell_type": "code",
   "execution_count": null,
   "id": "b7548de8",
   "metadata": {},
   "outputs": [],
   "source": [
    "### Calculate the place each company was in its division\n",
    "\n",
    "score_df[\"meet_place\"]= score_df.groupby(['Div'])['div_points'].rank(\"min\", ascending=False)\n",
    "score_df"
   ]
  },
  {
   "cell_type": "code",
   "execution_count": null,
   "id": "2c0dbb5a",
   "metadata": {},
   "outputs": [],
   "source": [
    "score_df[score_df['Div'] == 'D'].sort_values([\"meet_place\"])"
   ]
  },
  {
   "cell_type": "markdown",
   "id": "61a6aa5a",
   "metadata": {},
   "source": [
    "### using loc and iloc"
   ]
  },
  {
   "cell_type": "code",
   "execution_count": null,
   "id": "06c3c8bc",
   "metadata": {},
   "outputs": [],
   "source": [
    "### iloc uses numerical indices for slicing\n",
    "\n",
    "df.iloc[1000:1010, 1:5]"
   ]
  },
  {
   "cell_type": "code",
   "execution_count": null,
   "id": "e13e8143",
   "metadata": {},
   "outputs": [],
   "source": [
    "df.loc[df.Company.str.startswith('Stowers'), 'name']"
   ]
  },
  {
   "cell_type": "code",
   "execution_count": null,
   "id": "21f11c33",
   "metadata": {},
   "outputs": [],
   "source": [
    "df.loc[df['First Name']==\"Janet\"]"
   ]
  },
  {
   "cell_type": "markdown",
   "id": "1b46109f",
   "metadata": {},
   "source": [
    "### Change the names of Sprint and Cerner\n",
    "Sprint merged with T-Mobile and Cerner was bought be Oracle"
   ]
  },
  {
   "cell_type": "code",
   "execution_count": null,
   "id": "dfd709d3",
   "metadata": {},
   "outputs": [],
   "source": [
    "df[df.Company == 'Sprint']['Company'] = \"T-Mobile\""
   ]
  },
  {
   "cell_type": "code",
   "execution_count": null,
   "id": "04c77468",
   "metadata": {},
   "outputs": [],
   "source": [
    "rename_dict = {'Sprint':'T-Mobile', 'Cerner Corporation':'Oracle'}\n",
    "\n",
    "for k, v in rename_dict.items():\n",
    "    df.loc[df.Company == k, 'Company'] = v"
   ]
  },
  {
   "cell_type": "code",
   "execution_count": null,
   "id": "cfd9b594",
   "metadata": {},
   "outputs": [],
   "source": []
  }
 ],
 "metadata": {
  "kernelspec": {
   "display_name": "startenv",
   "language": "python",
   "name": "startenv"
  },
  "language_info": {
   "codemirror_mode": {
    "name": "ipython",
    "version": 3
   },
   "file_extension": ".py",
   "mimetype": "text/x-python",
   "name": "python",
   "nbconvert_exporter": "python",
   "pygments_lexer": "ipython3",
   "version": "3.9.16"
  }
 },
 "nbformat": 4,
 "nbformat_minor": 5
}
