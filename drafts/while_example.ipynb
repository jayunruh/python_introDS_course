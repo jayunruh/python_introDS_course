{
 "cells": [
  {
   "cell_type": "code",
   "execution_count": 1,
   "id": "ceea9bf5",
   "metadata": {},
   "outputs": [],
   "source": [
    "myseq='CATTCAGTTTGGCAAAAGCGAACGAGGTACAGTGTAAGAGATGTCTAGTGAAAGAGCCTGTATGCTGTGTGGCATAGTGCAGACCACAAATGAGTTTAATAGAGATGGTTGTCCCAACTGTCAGGGTATTTTTGAAGAGGCAGGTGTTTCTACAATGGAATGTACGTCGCCTTCTTTCGAGGGCCTCGTAGGAATGTGTAAGCCTACTAAGTCGTGGGTAGCAAAGTGGCTGAGCGTAGATCATAGTATAGCTGGTATGTACGCCATCAAGGTCGATGGTAGACTACCAGCTGAGGTTGTGGAGCTGTTGCCTCACTACAAACCGAGGGATGGCAGTCAAGTTGAGTAAAACCTTCCGTTCTGATATCACATGTATAATAGTAATGAATTTTTTTTACTTTTTTTTTTTTTT'"
   ]
  },
  {
   "cell_type": "code",
   "execution_count": 8,
   "id": "227a041d",
   "metadata": {},
   "outputs": [
    {
     "name": "stdout",
     "output_type": "stream",
     "text": [
      "40\n",
      "96\n",
      "False\n",
      "198\n",
      "False\n",
      "207\n",
      "False\n",
      "346\n",
      "True\n"
     ]
    }
   ],
   "source": [
    "startpos=myseq.find('ATG')\n",
    "print(startpos)\n",
    "endpos=myseq.find('TAA',startpos+1)\n",
    "print(endpos)\n",
    "isrealendpos=(endpos-startpos)%3==0\n",
    "print(isrealendpos)\n",
    "while(not isrealendpos):\n",
    "    endpos=myseq.find('TAA',endpos+1)\n",
    "    print(endpos)\n",
    "    isrealendpos=(endpos-startpos)%3==0\n",
    "    print(isrealendpos)"
   ]
  },
  {
   "cell_type": "code",
   "execution_count": null,
   "id": "62268039",
   "metadata": {},
   "outputs": [],
   "source": []
  }
 ],
 "metadata": {
  "kernelspec": {
   "display_name": "startenv",
   "language": "python",
   "name": "startenv"
  },
  "language_info": {
   "codemirror_mode": {
    "name": "ipython",
    "version": 3
   },
   "file_extension": ".py",
   "mimetype": "text/x-python",
   "name": "python",
   "nbconvert_exporter": "python",
   "pygments_lexer": "ipython3",
   "version": "3.9.16"
  }
 },
 "nbformat": 4,
 "nbformat_minor": 5
}
