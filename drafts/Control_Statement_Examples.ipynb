{
 "cells": [
  {
   "cell_type": "markdown",
   "id": "2316487f",
   "metadata": {},
   "source": [
    "If you want to:"
   ]
  },
  {
   "cell_type": "code",
   "execution_count": 2,
   "id": "386a4134",
   "metadata": {},
   "outputs": [
    {
     "name": "stdout",
     "output_type": "stream",
     "text": [
      "it's true!\n"
     ]
    }
   ],
   "source": [
    "#Test if a variable called \"my_variable\" is true or not:\n",
    "my_variable=True\n",
    "if(my_variable):\n",
    "    print(\"it's true!\")\n",
    "else:\n",
    "    print(\"it's not true!\")"
   ]
  },
  {
   "cell_type": "code",
   "execution_count": 4,
   "id": "7a0808d6",
   "metadata": {},
   "outputs": [
    {
     "name": "stdout",
     "output_type": "stream",
     "text": [
      "greater than or equal to zero\n"
     ]
    }
   ],
   "source": [
    "#Test if a variable called \"my_number\" is greater than or less than 0:\n",
    "my_number=10000\n",
    "if(my_number>=0):\n",
    "    print(\"greater than or equal to zero\")\n",
    "else:\n",
    "    print(\"less than zero\")"
   ]
  },
  {
   "cell_type": "code",
   "execution_count": 5,
   "id": "fb1dfdb0",
   "metadata": {},
   "outputs": [
    {
     "name": "stdout",
     "output_type": "stream",
     "text": [
      "greater than 100\n"
     ]
    }
   ],
   "source": [
    "#Test if a variable called \"my_number\" is less than 0, between 0 and 100, or more than 100:\n",
    "if(my_number>100):\n",
    "    print('greater than 100')\n",
    "elif(my_number<0):\n",
    "    print('less than 0')\n",
    "else:\n",
    "    #note this only runs if <0 and >100 are both false\n",
    "    print('between 0 and 100')"
   ]
  },
  {
   "cell_type": "code",
   "execution_count": 6,
   "id": "308e2225",
   "metadata": {},
   "outputs": [
    {
     "name": "stdout",
     "output_type": "stream",
     "text": [
      "10000\n"
     ]
    }
   ],
   "source": [
    "#add 1 to a variable called my_number only if it is less than 0\n",
    "if(my_number<0):\n",
    "    my_number+=1\n",
    "print(my_number)"
   ]
  },
  {
   "cell_type": "code",
   "execution_count": 8,
   "id": "38f508cb",
   "metadata": {},
   "outputs": [
    {
     "name": "stdout",
     "output_type": "stream",
     "text": [
      "[-200.5, 104.5, 110.5, 150.5, 195.5]\n"
     ]
    }
   ],
   "source": [
    "#loop through a list of numbers (variable called \"number_list\") and add 100 to them\n",
    "number_list=[-300.5,4.5,10.5,50.5,95.5]\n",
    "for i in range(len(number_list)):\n",
    "    number_list[i]+=100.0\n",
    "print(number_list)"
   ]
  },
  {
   "cell_type": "code",
   "execution_count": 9,
   "id": "a594b3d6",
   "metadata": {},
   "outputs": [
    {
     "name": "stdout",
     "output_type": "stream",
     "text": [
      "[799.5, 104.5, 110.5, 150.5, 195.5]\n"
     ]
    }
   ],
   "source": [
    "#loop through our (updated) list of numbers and add 1000 to the items less than 0\n",
    "for i in range(len(number_list)):\n",
    "    if(number_list[i]<0):\n",
    "        number_list[i]+=1000\n",
    "print(number_list)"
   ]
  },
  {
   "cell_type": "code",
   "execution_count": 10,
   "id": "5fc17f75",
   "metadata": {},
   "outputs": [],
   "source": [
    "#note that if you run the above code a second time it won't change because all of the numbers are now above 0"
   ]
  },
  {
   "cell_type": "code",
   "execution_count": 11,
   "id": "f2c73d10",
   "metadata": {},
   "outputs": [
    {
     "name": "stdout",
     "output_type": "stream",
     "text": [
      "[-200.5, -104.5, -110.5, -150.5, -195.5]\n"
     ]
    }
   ],
   "source": [
    "#loop through our (updated) list of numbers and subtract 1000 from the ones greater than 500 and make the others negative\n",
    "for i in range(len(number_list)):\n",
    "    if(number_list[i]>500):\n",
    "        number_list[i]-=1000\n",
    "    else:\n",
    "        number_list[i]=-number_list[i]\n",
    "print(number_list)"
   ]
  },
  {
   "cell_type": "code",
   "execution_count": 23,
   "id": "b13e9323",
   "metadata": {},
   "outputs": [],
   "source": [
    "#use a while loop to find how many times \"wood\" is repeated in this sentence\n",
    "a_string=\"How much wood would a wood chuck chuck if a wood chuck could chuck wood\"\n",
    "#count the first instance of wood and set it's position\n",
    "woodcount=1\n",
    "woodpos=a_string.find(\"wood\")\n",
    "#note that the last possible position is 4 letters before the end of the string\n",
    "while(woodpos<(len(a_string)-4)):\n",
    "    woodpos=a_string.find(\"wood\",woodpos+1)\n",
    "    woodcount+=1"
   ]
  },
  {
   "cell_type": "code",
   "execution_count": 24,
   "id": "afb25e89",
   "metadata": {},
   "outputs": [
    {
     "data": {
      "text/plain": [
       "4"
      ]
     },
     "execution_count": 24,
     "metadata": {},
     "output_type": "execute_result"
    }
   ],
   "source": [
    "woodcount"
   ]
  },
  {
   "cell_type": "code",
   "execution_count": null,
   "id": "659010d5",
   "metadata": {},
   "outputs": [],
   "source": []
  }
 ],
 "metadata": {
  "kernelspec": {
   "display_name": "startenv",
   "language": "python",
   "name": "startenv"
  },
  "language_info": {
   "codemirror_mode": {
    "name": "ipython",
    "version": 3
   },
   "file_extension": ".py",
   "mimetype": "text/x-python",
   "name": "python",
   "nbconvert_exporter": "python",
   "pygments_lexer": "ipython3",
   "version": "3.9.16"
  }
 },
 "nbformat": 4,
 "nbformat_minor": 5
}
