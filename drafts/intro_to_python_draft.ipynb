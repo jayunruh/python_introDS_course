{
 "cells": [
  {
   "cell_type": "markdown",
   "id": "5bcef31f",
   "metadata": {},
   "source": [
    "# Intro to Python\n",
    "\n",
    "This tutorial will cover the following topics:\n",
    "\n",
    "* variables\n",
    "* operators\n",
    "* lists\n",
    "* dictionaries"
   ]
  },
  {
   "cell_type": "markdown",
   "id": "54e5d8cd",
   "metadata": {},
   "source": [
    "Variables are the staple of any programming language.  They are simply names that act as placeholders for values.  Those values could be numbers or text strings.  There are few rules on naming them, but they cannot contain spaces or operators (e.g. + or -) or python keywords.  To create and assign a variable, simply enter it's name with = and the assignment value."
   ]
  },
  {
   "cell_type": "code",
   "execution_count": 1,
   "id": "ac5e7f96",
   "metadata": {},
   "outputs": [],
   "source": [
    "my_variable = 2"
   ]
  },
  {
   "cell_type": "markdown",
   "id": "4429977c",
   "metadata": {},
   "source": [
    "Python has a bunch of functions to explore variables.  Print outputs the representation of the variable and type tells us what data type the variable is.  Since we set \"my_variable\" equal to an integer it's type is \"int\"."
   ]
  },
  {
   "cell_type": "code",
   "execution_count": 2,
   "id": "112959de",
   "metadata": {},
   "outputs": [
    {
     "name": "stdout",
     "output_type": "stream",
     "text": [
      "2\n",
      "<class 'int'>\n"
     ]
    }
   ],
   "source": [
    "print(my_variable)\n",
    "print(type(my_variable))"
   ]
  },
  {
   "cell_type": "markdown",
   "id": "82145867",
   "metadata": {},
   "source": [
    "Once variables are defined, we can do things like math with them.  For that we use operators like +, -, \\*, and /."
   ]
  },
  {
   "cell_type": "code",
   "execution_count": 3,
   "id": "24870bac",
   "metadata": {},
   "outputs": [
    {
     "name": "stdout",
     "output_type": "stream",
     "text": [
      "1.0\n",
      "<class 'float'>\n"
     ]
    }
   ],
   "source": [
    "#anything coming after a # is a comment and isn't executed\n",
    "#create a new variable \"half_variable\" and set it to my_variable/2\n",
    "half_variable=my_variable/2\n",
    "#now report that value and it's type\n",
    "print(half_variable)\n",
    "print(type(half_variable))"
   ]
  },
  {
   "cell_type": "markdown",
   "id": "2284458b",
   "metadata": {},
   "source": [
    "Note that even though half_variable is an integer, python decided it should be a floating point number because it was the result of a division operation.  In addition to the operators you are familiar with, there are some weird ones, like == (is equal to), += (add a value to--same for other basic arithmetic), and % (modulus--gives the remainder).  Let's start with == to compare some variables.  Note that you can't use the single = because it would assign our variable to a new value."
   ]
  },
  {
   "cell_type": "code",
   "execution_count": 4,
   "id": "55aea7d1",
   "metadata": {},
   "outputs": [
    {
     "name": "stdout",
     "output_type": "stream",
     "text": [
      "True\n",
      "False\n"
     ]
    }
   ],
   "source": [
    "print(my_variable==2)\n",
    "#is python smart enough to compare floats and integers?\n",
    "print(half_variable==my_variable)\n",
    "#yes!"
   ]
  },
  {
   "cell_type": "code",
   "execution_count": 5,
   "id": "0e9a0fc0",
   "metadata": {},
   "outputs": [
    {
     "name": "stdout",
     "output_type": "stream",
     "text": [
      "2.0\n",
      "True\n"
     ]
    }
   ],
   "source": [
    "#try incrementing our half_variable\n",
    "half_variable+=1\n",
    "print(half_variable)\n",
    "#is it equal to the original now?\n",
    "print(half_variable==my_variable)"
   ]
  },
  {
   "cell_type": "markdown",
   "id": "89027b48",
   "metadata": {},
   "source": [
    "One of the interesting and powerful things about variables is that they can contain boolean (true or false) values:"
   ]
  },
  {
   "cell_type": "code",
   "execution_count": 6,
   "id": "b20e8c66",
   "metadata": {},
   "outputs": [
    {
     "name": "stdout",
     "output_type": "stream",
     "text": [
      "True\n"
     ]
    }
   ],
   "source": [
    "isequal=half_variable==my_variable\n",
    "print(isequal)"
   ]
  },
  {
   "cell_type": "markdown",
   "id": "0cead8d9",
   "metadata": {},
   "source": [
    "The real power of programming is doing large number of operations at once.  To collect variables together we use lists.  Those of course get assigned to variables.  Once you make a list you can access it's values through bracketed indexes."
   ]
  },
  {
   "cell_type": "code",
   "execution_count": 7,
   "id": "a25ff127",
   "metadata": {},
   "outputs": [
    {
     "name": "stdout",
     "output_type": "stream",
     "text": [
      "10.0\n",
      "25.0\n"
     ]
    }
   ],
   "source": [
    "my_array=[10.0,20.0,25.0]\n",
    "print(my_array[0])\n",
    "print(my_array[2])"
   ]
  },
  {
   "cell_type": "code",
   "execution_count": 8,
   "id": "f04689a5",
   "metadata": {},
   "outputs": [
    {
     "name": "stdout",
     "output_type": "stream",
     "text": [
      "3\n"
     ]
    },
    {
     "data": {
      "text/plain": [
       "list"
      ]
     },
     "execution_count": 8,
     "metadata": {},
     "output_type": "execute_result"
    }
   ],
   "source": [
    "#len gets the length of an array\n",
    "print(len(my_array))\n",
    "type(my_array)"
   ]
  },
  {
   "cell_type": "markdown",
   "id": "66b54825",
   "metadata": {},
   "source": [
    "One unique thing python does is allow for relative negative indexing."
   ]
  },
  {
   "cell_type": "code",
   "execution_count": 9,
   "id": "25ea1638",
   "metadata": {},
   "outputs": [
    {
     "name": "stdout",
     "output_type": "stream",
     "text": [
      "25.0\n",
      "20.0\n"
     ]
    }
   ],
   "source": [
    "print(my_array[-1]) #this is the last array value\n",
    "print(my_array[-2]) #this is the second to last value"
   ]
  },
  {
   "cell_type": "markdown",
   "id": "56e05a57",
   "metadata": {},
   "source": [
    "You can work with list values just like any other variables.  You can combine arrays using the + operator."
   ]
  },
  {
   "cell_type": "code",
   "execution_count": 10,
   "id": "549cac75",
   "metadata": {},
   "outputs": [
    {
     "name": "stdout",
     "output_type": "stream",
     "text": [
      "[10.0, 20.0, 25.0, 0, 1, 2]\n"
     ]
    }
   ],
   "source": [
    "long_array=my_array+[0,1,2]\n",
    "print(long_array)"
   ]
  },
  {
   "cell_type": "markdown",
   "id": "a714d97a",
   "metadata": {},
   "source": [
    "You may have noticed that python is ok with mixing data types in arrays.  You can add to an array with \"append\"."
   ]
  },
  {
   "cell_type": "code",
   "execution_count": 11,
   "id": "6e5731db",
   "metadata": {},
   "outputs": [
    {
     "name": "stdout",
     "output_type": "stream",
     "text": [
      "[10.0, 20.0, 25.0, 0, 1, 2, 5]\n"
     ]
    }
   ],
   "source": [
    "long_array.append(5)\n",
    "print(long_array)"
   ]
  },
  {
   "cell_type": "markdown",
   "id": "0b3cdf7e",
   "metadata": {},
   "source": [
    "You can get parts of an array with \"slicing\" with start:end+1 notation:"
   ]
  },
  {
   "cell_type": "code",
   "execution_count": 12,
   "id": "b7ec463b",
   "metadata": {},
   "outputs": [
    {
     "data": {
      "text/plain": [
       "[20.0, 25.0, 0]"
      ]
     },
     "execution_count": 12,
     "metadata": {},
     "output_type": "execute_result"
    }
   ],
   "source": [
    "long_array[1:4]"
   ]
  },
  {
   "cell_type": "markdown",
   "id": "0a88135c",
   "metadata": {},
   "source": [
    "If you want to create an array of repeated items, you can multiply it by the number of repeats:"
   ]
  },
  {
   "cell_type": "code",
   "execution_count": 13,
   "id": "4dd0bd72",
   "metadata": {},
   "outputs": [
    {
     "name": "stdout",
     "output_type": "stream",
     "text": [
      "[5, 5, 5, 5, 5]\n"
     ]
    }
   ],
   "source": [
    "my_repeats=[5]*5\n",
    "print(my_repeats)"
   ]
  },
  {
   "cell_type": "markdown",
   "id": "3c3f505e",
   "metadata": {},
   "source": [
    "If you want you can even make lists of lists--the repeat multiplication works for this too.  This is as close as python gets to multidimensional arrays outside of numpy."
   ]
  },
  {
   "cell_type": "code",
   "execution_count": 14,
   "id": "b57f9867",
   "metadata": {},
   "outputs": [
    {
     "name": "stdout",
     "output_type": "stream",
     "text": [
      "[[10.0, 20.0, 25.0, 0, 1, 2, 5], [10.0, 20.0, 25.0, 0, 1, 2, 5], [10.0, 20.0, 25.0, 0, 1, 2, 5]]\n"
     ]
    }
   ],
   "source": [
    "list_list=[long_array]*3\n",
    "print(list_list)"
   ]
  },
  {
   "cell_type": "markdown",
   "id": "11b1ad79",
   "metadata": {},
   "source": [
    "Lists are a special type of construct called a \"sequence\".  Note that text strings and dataframes are also sequences.  Dictionaries are a kind of construct that is not a sequence--values are assigned by name rather than index:"
   ]
  },
  {
   "cell_type": "code",
   "execution_count": 15,
   "id": "5d0094de",
   "metadata": {},
   "outputs": [],
   "source": [
    "my_dictionary={'value1':10.0,'value2':20.0,'another_value':1,10:3}"
   ]
  },
  {
   "cell_type": "code",
   "execution_count": 16,
   "id": "951040a5",
   "metadata": {},
   "outputs": [
    {
     "name": "stdout",
     "output_type": "stream",
     "text": [
      "{'value1': 10.0, 'value2': 20.0, 'another_value': 1, 10: 3}\n"
     ]
    }
   ],
   "source": [
    "print(my_dictionary)"
   ]
  },
  {
   "cell_type": "code",
   "execution_count": 17,
   "id": "51b676c0",
   "metadata": {},
   "outputs": [
    {
     "name": "stdout",
     "output_type": "stream",
     "text": [
      "20.0\n",
      "1\n",
      "3\n"
     ]
    }
   ],
   "source": [
    "print(my_dictionary['value2'])\n",
    "print(my_dictionary['another_value'])\n",
    "print(my_dictionary[10])"
   ]
  },
  {
   "cell_type": "markdown",
   "id": "baad3bd1",
   "metadata": {},
   "source": [
    "Dictionaries are great ways to store information by label rather than by numerical index.  You can add values to a dictionary through simple assignment."
   ]
  },
  {
   "cell_type": "code",
   "execution_count": 18,
   "id": "a9a9a443",
   "metadata": {},
   "outputs": [
    {
     "name": "stdout",
     "output_type": "stream",
     "text": [
      "{'value1': 10.0, 'value2': 20.0, 'another_value': 1, 10: 3, 'a_string': 'value'}\n"
     ]
    }
   ],
   "source": [
    "my_dictionary['a_string']='value'\n",
    "print(my_dictionary)"
   ]
  },
  {
   "cell_type": "markdown",
   "id": "37168760",
   "metadata": {},
   "source": [
    "The labels in a dictionary are called keys.  You can get a list of the keys as follows:"
   ]
  },
  {
   "cell_type": "code",
   "execution_count": 19,
   "id": "83923bee",
   "metadata": {},
   "outputs": [
    {
     "name": "stdout",
     "output_type": "stream",
     "text": [
      "['value1', 'value2', 'another_value', 10, 'a_string']\n"
     ]
    }
   ],
   "source": [
    "print(list(my_dictionary.keys()))"
   ]
  },
  {
   "cell_type": "code",
   "execution_count": null,
   "id": "fa10f3f1",
   "metadata": {},
   "outputs": [],
   "source": []
  }
 ],
 "metadata": {
  "kernelspec": {
   "display_name": "startenv",
   "language": "python",
   "name": "startenv"
  },
  "language_info": {
   "codemirror_mode": {
    "name": "ipython",
    "version": 3
   },
   "file_extension": ".py",
   "mimetype": "text/x-python",
   "name": "python",
   "nbconvert_exporter": "python",
   "pygments_lexer": "ipython3",
   "version": "3.9.16"
  }
 },
 "nbformat": 4,
 "nbformat_minor": 5
}
