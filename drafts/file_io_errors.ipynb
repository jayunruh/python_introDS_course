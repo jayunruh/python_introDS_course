{
 "cells": [
  {
   "cell_type": "markdown",
   "id": "e53711d5",
   "metadata": {},
   "source": [
    "## Working with Files and Handling Errors"
   ]
  },
  {
   "cell_type": "code",
   "execution_count": 4,
   "id": "9f6c6340",
   "metadata": {},
   "outputs": [],
   "source": [
    "import os #this gives us some functions to explore folders and files\n",
    "import glob #this lets us quickly search for files with wildcards"
   ]
  },
  {
   "cell_type": "code",
   "execution_count": 5,
   "id": "fe01512e",
   "metadata": {},
   "outputs": [],
   "source": [
    "#a file object allows us to read and write from a file\n",
    "#we have to check for read/write errors\n",
    "try:\n",
    "    #get our file object in write mode\n",
    "    f=open('test.txt','w')\n",
    "    #write something to it--note that \\n means new line\n",
    "    f.write('Test writing to a file.\\n')\n",
    "    f.write('The new line starts here!')\n",
    "    #close our file object\n",
    "    f.close()\n",
    "except IOError:\n",
    "    #this happens if something went wrong and we couldn't write to the file\n",
    "    #note that only IO errors are handled here--other errors will still halt our code\n",
    "    print(\"couldn't write to the file!\")"
   ]
  },
  {
   "cell_type": "markdown",
   "id": "d3243d48",
   "metadata": {},
   "source": [
    "Now that we have a file to work with, let's explore some of the tools for working with files.\n",
    "\n",
    "The os.path module gives us information about the file."
   ]
  },
  {
   "cell_type": "code",
   "execution_count": 8,
   "id": "0ca6f2d4",
   "metadata": {},
   "outputs": [
    {
     "name": "stdout",
     "output_type": "stream",
     "text": [
      "True\n",
      "test.txt\n",
      ".\n"
     ]
    }
   ],
   "source": [
    "print(os.path.exists('./test.txt'))\n",
    "print(os.path.basename('./test.txt'))\n",
    "print(os.path.dirname('./test.txt'))"
   ]
  },
  {
   "cell_type": "code",
   "execution_count": 10,
   "id": "6777abce",
   "metadata": {},
   "outputs": [
    {
     "ename": "AttributeError",
     "evalue": "module 'posixpath' has no attribute 'listdir'",
     "output_type": "error",
     "traceback": [
      "\u001b[0;31m---------------------------------------------------------------------------\u001b[0m",
      "\u001b[0;31mAttributeError\u001b[0m                            Traceback (most recent call last)",
      "Input \u001b[0;32mIn [10]\u001b[0m, in \u001b[0;36m<cell line: 1>\u001b[0;34m()\u001b[0m\n\u001b[0;32m----> 1\u001b[0m \u001b[43mos\u001b[49m\u001b[38;5;241;43m.\u001b[39;49m\u001b[43mpath\u001b[49m\u001b[38;5;241;43m.\u001b[39;49m\u001b[43mlistdir\u001b[49m(\u001b[38;5;124m'\u001b[39m\u001b[38;5;124m./\u001b[39m\u001b[38;5;124m'\u001b[39m)\n",
      "\u001b[0;31mAttributeError\u001b[0m: module 'posixpath' has no attribute 'listdir'"
     ]
    }
   ],
   "source": [
    "os.path.listdir('./')"
   ]
  },
  {
   "cell_type": "code",
   "execution_count": null,
   "id": "e67e18b9",
   "metadata": {},
   "outputs": [],
   "source": []
  }
 ],
 "metadata": {
  "kernelspec": {
   "display_name": "startenv",
   "language": "python",
   "name": "startenv"
  },
  "language_info": {
   "codemirror_mode": {
    "name": "ipython",
    "version": 3
   },
   "file_extension": ".py",
   "mimetype": "text/x-python",
   "name": "python",
   "nbconvert_exporter": "python",
   "pygments_lexer": "ipython3",
   "version": "3.9.16"
  }
 },
 "nbformat": 4,
 "nbformat_minor": 5
}
