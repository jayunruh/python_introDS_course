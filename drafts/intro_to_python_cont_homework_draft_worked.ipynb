{
 "cells": [
  {
   "cell_type": "markdown",
   "id": "195d108a",
   "metadata": {},
   "source": [
    "The yeast protein spt4 is in a region of the genome with this sequence: CATTCAGTTTGGCAAAAGCGAACGAGGTACAGTGTAAGAGATGTCTAGTGAAAGAGCCTGTATGCTGTGTGGCATAGTGCAGACCACAAAT\n",
    "GAGTTTAATAGAGATGGTTGTCCCAACTGTCAGGGTATTTTTGAAGAGGCAGGTGTTTCTACAATGGAATGTACGTCGCCTTCTTTCGAGG\n",
    "GCCTCGTAGGAATGTGTAAGCCTACTAAGTCGTGGGTAGCAAAGTGGCTGAGCGTAGATCATAGTATAGCTGGTATGTACGCCATCAAGGT\n",
    "CGATGGTAGACTACCAGCTGAGGTTGTGGAGCTGTTGCCTCACTACAAACCGAGGGATGGCAGTCAAGTTGAGTAAAACCTTCCGTTCTGA\n",
    "TATCACATGTATAATAGTAATGAATTTTTTTTACTTTTTTTTTTTTTT.  \n",
    "Protein sequences start with the letters \"ATG\".  Create a string with this sequencde and use the find command to get the starting point of the gene in this sequence."
   ]
  },
  {
   "cell_type": "code",
   "execution_count": 1,
   "id": "f3ee78e3",
   "metadata": {},
   "outputs": [],
   "source": [
    "myseq='CATTCAGTTTGGCAAAAGCGAACGAGGTACAGTGTAAGAGATGTCTAGTGAAAGAGCCTGTATGCTGTGTGGCATAGTGCAGACCACAAATGAGTTTAATAGAGATGGTTGTCCCAACTGTCAGGGTATTTTTGAAGAGGCAGGTGTTTCTACAATGGAATGTACGTCGCCTTCTTTCGAGGGCCTCGTAGGAATGTGTAAGCCTACTAAGTCGTGGGTAGCAAAGTGGCTGAGCGTAGATCATAGTATAGCTGGTATGTACGCCATCAAGGTCGATGGTAGACTACCAGCTGAGGTTGTGGAGCTGTTGCCTCACTACAAACCGAGGGATGGCAGTCAAGTTGAGTAAAACCTTCCGTTCTGATATCACATGTATAATAGTAATGAATTTTTTTTACTTTTTTTTTTTTTT'"
   ]
  },
  {
   "cell_type": "code",
   "execution_count": 2,
   "id": "32da6a95",
   "metadata": {},
   "outputs": [
    {
     "name": "stdout",
     "output_type": "stream",
     "text": [
      "40\n"
     ]
    }
   ],
   "source": [
    "startpos=myseq.find('ATG')\n",
    "print(startpos)"
   ]
  },
  {
   "cell_type": "markdown",
   "id": "e22581d7",
   "metadata": {},
   "source": [
    "Gene sequences often end with the \"stop codon\" sequence \"TAA\".  But there's a catch--that stop sequence needs to be a multiple of 3 letters away from the start sequence (each 3 letters indicates one protein amino acid).  Find a stop sequence after the start sequence from above and use modulus to check if it is a multiple of 3 letters away."
   ]
  },
  {
   "cell_type": "code",
   "execution_count": 3,
   "id": "3fd8e0d5",
   "metadata": {},
   "outputs": [
    {
     "name": "stdout",
     "output_type": "stream",
     "text": [
      "96\n",
      "2\n"
     ]
    }
   ],
   "source": [
    "endpos=myseq.find('TAA',41)\n",
    "print(endpos)\n",
    "print((endpos-startpos)%3)"
   ]
  },
  {
   "cell_type": "markdown",
   "id": "293eea73",
   "metadata": {},
   "source": [
    "Clearly the first end sequence is not a multiple of 3 away from the first.  Let's try the next few."
   ]
  },
  {
   "cell_type": "code",
   "execution_count": 4,
   "id": "7460729b",
   "metadata": {},
   "outputs": [
    {
     "name": "stdout",
     "output_type": "stream",
     "text": [
      "346\n",
      "0\n"
     ]
    }
   ],
   "source": [
    "endpos2=myseq.find('TAA',208)\n",
    "print(endpos2)\n",
    "print((endpos2-startpos)%3)"
   ]
  },
  {
   "cell_type": "markdown",
   "id": "9b0e06ec",
   "metadata": {},
   "source": [
    "Now use slicing to show only the protein coding sequence and get it's length and number of amino acids (multiples of 3)."
   ]
  },
  {
   "cell_type": "code",
   "execution_count": 5,
   "id": "ff59e113",
   "metadata": {},
   "outputs": [
    {
     "name": "stdout",
     "output_type": "stream",
     "text": [
      "ATGTCTAGTGAAAGAGCCTGTATGCTGTGTGGCATAGTGCAGACCACAAATGAGTTTAATAGAGATGGTTGTCCCAACTGTCAGGGTATTTTTGAAGAGGCAGGTGTTTCTACAATGGAATGTACGTCGCCTTCTTTCGAGGGCCTCGTAGGAATGTGTAAGCCTACTAAGTCGTGGGTAGCAAAGTGGCTGAGCGTAGATCATAGTATAGCTGGTATGTACGCCATCAAGGTCGATGGTAGACTACCAGCTGAGGTTGTGGAGCTGTTGCCTCACTACAAACCGAGGGATGGCAGTCAAGTTGAGTAA\n",
      "309\n",
      "103.0\n"
     ]
    }
   ],
   "source": [
    "print(myseq[startpos:endpos2+3])\n",
    "print(endpos2+3-startpos)\n",
    "print((endpos2+3-startpos)/3)"
   ]
  },
  {
   "cell_type": "markdown",
   "id": "655e5ce9",
   "metadata": {},
   "source": [
    "Now let's write a while loop to automate this search process."
   ]
  },
  {
   "cell_type": "code",
   "execution_count": 6,
   "id": "a7a7ada9",
   "metadata": {},
   "outputs": [],
   "source": [
    "endpos3=myseq.find('TAA',startpos+1)\n",
    "while((endpos3-startpos)%3!=0):\n",
    "    endpos3=myseq.find('TAA',endpos3+1)"
   ]
  },
  {
   "cell_type": "code",
   "execution_count": 7,
   "id": "25a81c9b",
   "metadata": {},
   "outputs": [
    {
     "name": "stdout",
     "output_type": "stream",
     "text": [
      "346\n"
     ]
    }
   ],
   "source": [
    "print(endpos3)"
   ]
  },
  {
   "cell_type": "markdown",
   "id": "d4fbd0a2",
   "metadata": {},
   "source": [
    "It would be cool if we could put this in a function and use it over and over again.  Make a function that takes our sequence and finds the start and end positions of the gene.  Note that you can return a list from a function."
   ]
  },
  {
   "cell_type": "code",
   "execution_count": 8,
   "id": "b6fe2086",
   "metadata": {},
   "outputs": [],
   "source": [
    "def findGene(seq):\n",
    "    startpos=seq.find('ATG')\n",
    "    endpos=seq.find('TAA',startpos+1)\n",
    "    while((endpos-startpos)%3!=0):\n",
    "        endpos=myseq.find('TAA',endpos+1)\n",
    "    return [startpos,endpos]"
   ]
  },
  {
   "cell_type": "code",
   "execution_count": 9,
   "id": "d3e11929",
   "metadata": {},
   "outputs": [
    {
     "name": "stdout",
     "output_type": "stream",
     "text": [
      "[40, 346]\n"
     ]
    }
   ],
   "source": [
    "print(findGene(myseq))"
   ]
  },
  {
   "cell_type": "markdown",
   "id": "66a4040e",
   "metadata": {},
   "source": [
    "Finally put your function in a text file called myseqanalysis.py and import and run it."
   ]
  },
  {
   "cell_type": "code",
   "execution_count": null,
   "id": "4e4ba3c0",
   "metadata": {},
   "outputs": [],
   "source": [
    "#put code here"
   ]
  }
 ],
 "metadata": {
  "kernelspec": {
   "display_name": "startenv",
   "language": "python",
   "name": "startenv"
  },
  "language_info": {
   "codemirror_mode": {
    "name": "ipython",
    "version": 3
   },
   "file_extension": ".py",
   "mimetype": "text/x-python",
   "name": "python",
   "nbconvert_exporter": "python",
   "pygments_lexer": "ipython3",
   "version": "3.9.16"
  }
 },
 "nbformat": 4,
 "nbformat_minor": 5
}
