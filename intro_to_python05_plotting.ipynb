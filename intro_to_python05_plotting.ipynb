{
 "cells": [
  {
   "cell_type": "markdown",
   "metadata": {},
   "source": [
    "[![Open In Colab](https://colab.research.google.com/assets/colab-badge.svg)](http://colab.research.google.com/github/jayunruh/python_introDS_course/blob/master/intro_to_python05_plotting.ipynb)"
   ]
  },
  {
   "cell_type": "code",
   "execution_count": 1,
   "metadata": {},
   "outputs": [],
   "source": [
    "import pandas as pd\n",
    "import numpy as np\n",
    "import matplotlib.pyplot as plt\n",
    "import seaborn as sns\n",
    "import plotly.express as px\n",
    "import scipy.stats as stats"
   ]
  },
  {
   "cell_type": "markdown",
   "metadata": {},
   "source": [
    "## Loading the dataframe"
   ]
  },
  {
   "cell_type": "code",
   "execution_count": 2,
   "metadata": {},
   "outputs": [
    {
     "data": {
      "text/html": [
       "<div>\n",
       "<style scoped>\n",
       "    .dataframe tbody tr th:only-of-type {\n",
       "        vertical-align: middle;\n",
       "    }\n",
       "\n",
       "    .dataframe tbody tr th {\n",
       "        vertical-align: top;\n",
       "    }\n",
       "\n",
       "    .dataframe thead th {\n",
       "        text-align: right;\n",
       "    }\n",
       "</style>\n",
       "<table border=\"1\" class=\"dataframe\">\n",
       "  <thead>\n",
       "    <tr style=\"text-align: right;\">\n",
       "      <th></th>\n",
       "      <th>Unnamed: 0.2</th>\n",
       "      <th>Unnamed: 0.1</th>\n",
       "      <th>Unnamed: 0</th>\n",
       "      <th>File</th>\n",
       "      <th>Area</th>\n",
       "      <th>Density1</th>\n",
       "      <th>Density2</th>\n",
       "      <th>Batch</th>\n",
       "      <th>Plate</th>\n",
       "      <th>Well</th>\n",
       "      <th>Object</th>\n",
       "      <th>PlateWell</th>\n",
       "      <th>Slide Number</th>\n",
       "      <th>Sample</th>\n",
       "      <th>Description1</th>\n",
       "      <th>Food</th>\n",
       "      <th>Time</th>\n",
       "      <th>Time (h)</th>\n",
       "    </tr>\n",
       "  </thead>\n",
       "  <tbody>\n",
       "    <tr>\n",
       "      <th>0</th>\n",
       "      <td>11</td>\n",
       "      <td>232</td>\n",
       "      <td>81</td>\n",
       "      <td>./20240321_140300_322/Plate000_Well2_Object0.t...</td>\n",
       "      <td>3.341158</td>\n",
       "      <td>51.179857</td>\n",
       "      <td>54.172832</td>\n",
       "      <td>20240321_140300_322</td>\n",
       "      <td>0</td>\n",
       "      <td>2</td>\n",
       "      <td>0</td>\n",
       "      <td>000_2</td>\n",
       "      <td>Slide2</td>\n",
       "      <td>Artemina 10min</td>\n",
       "      <td>20296/H3P (FAM/Alexa555)</td>\n",
       "      <td>Artemina</td>\n",
       "      <td>10min</td>\n",
       "      <td>0.166667</td>\n",
       "    </tr>\n",
       "    <tr>\n",
       "      <th>1</th>\n",
       "      <td>12</td>\n",
       "      <td>233</td>\n",
       "      <td>207</td>\n",
       "      <td>./20240321_140300_322/Plate000_Well2_Object1.t...</td>\n",
       "      <td>3.866314</td>\n",
       "      <td>30.520026</td>\n",
       "      <td>32.847825</td>\n",
       "      <td>20240321_140300_322</td>\n",
       "      <td>0</td>\n",
       "      <td>2</td>\n",
       "      <td>1</td>\n",
       "      <td>000_2</td>\n",
       "      <td>Slide2</td>\n",
       "      <td>Artemina 10min</td>\n",
       "      <td>20296/H3P (FAM/Alexa555)</td>\n",
       "      <td>Artemina</td>\n",
       "      <td>10min</td>\n",
       "      <td>0.166667</td>\n",
       "    </tr>\n",
       "    <tr>\n",
       "      <th>2</th>\n",
       "      <td>13</td>\n",
       "      <td>236</td>\n",
       "      <td>263</td>\n",
       "      <td>./20240321_140300_322/Plate000_Well2_Object2.t...</td>\n",
       "      <td>3.158134</td>\n",
       "      <td>54.462533</td>\n",
       "      <td>57.628959</td>\n",
       "      <td>20240321_140300_322</td>\n",
       "      <td>0</td>\n",
       "      <td>2</td>\n",
       "      <td>2</td>\n",
       "      <td>000_2</td>\n",
       "      <td>Slide2</td>\n",
       "      <td>Artemina 10min</td>\n",
       "      <td>20296/H3P (FAM/Alexa555)</td>\n",
       "      <td>Artemina</td>\n",
       "      <td>10min</td>\n",
       "      <td>0.166667</td>\n",
       "    </tr>\n",
       "    <tr>\n",
       "      <th>3</th>\n",
       "      <td>14</td>\n",
       "      <td>234</td>\n",
       "      <td>245</td>\n",
       "      <td>./20240321_140300_322/Plate000_Well2_Object3.t...</td>\n",
       "      <td>2.793080</td>\n",
       "      <td>31.864467</td>\n",
       "      <td>33.296578</td>\n",
       "      <td>20240321_140300_322</td>\n",
       "      <td>0</td>\n",
       "      <td>2</td>\n",
       "      <td>3</td>\n",
       "      <td>000_2</td>\n",
       "      <td>Slide2</td>\n",
       "      <td>Artemina 10min</td>\n",
       "      <td>20296/H3P (FAM/Alexa555)</td>\n",
       "      <td>Artemina</td>\n",
       "      <td>10min</td>\n",
       "      <td>0.166667</td>\n",
       "    </tr>\n",
       "    <tr>\n",
       "      <th>4</th>\n",
       "      <td>15</td>\n",
       "      <td>231</td>\n",
       "      <td>78</td>\n",
       "      <td>./20240321_140300_322/Plate000_Well2_Object4.t...</td>\n",
       "      <td>3.516568</td>\n",
       "      <td>51.755009</td>\n",
       "      <td>53.461218</td>\n",
       "      <td>20240321_140300_322</td>\n",
       "      <td>0</td>\n",
       "      <td>2</td>\n",
       "      <td>4</td>\n",
       "      <td>000_2</td>\n",
       "      <td>Slide2</td>\n",
       "      <td>Artemina 10min</td>\n",
       "      <td>20296/H3P (FAM/Alexa555)</td>\n",
       "      <td>Artemina</td>\n",
       "      <td>10min</td>\n",
       "      <td>0.166667</td>\n",
       "    </tr>\n",
       "    <tr>\n",
       "      <th>...</th>\n",
       "      <td>...</td>\n",
       "      <td>...</td>\n",
       "      <td>...</td>\n",
       "      <td>...</td>\n",
       "      <td>...</td>\n",
       "      <td>...</td>\n",
       "      <td>...</td>\n",
       "      <td>...</td>\n",
       "      <td>...</td>\n",
       "      <td>...</td>\n",
       "      <td>...</td>\n",
       "      <td>...</td>\n",
       "      <td>...</td>\n",
       "      <td>...</td>\n",
       "      <td>...</td>\n",
       "      <td>...</td>\n",
       "      <td>...</td>\n",
       "      <td>...</td>\n",
       "    </tr>\n",
       "    <tr>\n",
       "      <th>275</th>\n",
       "      <td>287</td>\n",
       "      <td>32</td>\n",
       "      <td>184</td>\n",
       "      <td>./20240321_140300_322/Plate008_Well2_Object5.t...</td>\n",
       "      <td>1.892041</td>\n",
       "      <td>68.708883</td>\n",
       "      <td>71.880062</td>\n",
       "      <td>20240321_140300_322</td>\n",
       "      <td>8</td>\n",
       "      <td>2</td>\n",
       "      <td>5</td>\n",
       "      <td>008_2</td>\n",
       "      <td>Slide34</td>\n",
       "      <td>Peptone 7d</td>\n",
       "      <td>20296/H3P (FAM/Alexa555)</td>\n",
       "      <td>Peptone</td>\n",
       "      <td>7d</td>\n",
       "      <td>168.000000</td>\n",
       "    </tr>\n",
       "    <tr>\n",
       "      <th>276</th>\n",
       "      <td>288</td>\n",
       "      <td>28</td>\n",
       "      <td>21</td>\n",
       "      <td>./20240321_140300_322/Plate008_Well2_Object6.t...</td>\n",
       "      <td>2.208097</td>\n",
       "      <td>97.821783</td>\n",
       "      <td>100.991933</td>\n",
       "      <td>20240321_140300_322</td>\n",
       "      <td>8</td>\n",
       "      <td>2</td>\n",
       "      <td>6</td>\n",
       "      <td>008_2</td>\n",
       "      <td>Slide34</td>\n",
       "      <td>Peptone 7d</td>\n",
       "      <td>20296/H3P (FAM/Alexa555)</td>\n",
       "      <td>Peptone</td>\n",
       "      <td>7d</td>\n",
       "      <td>168.000000</td>\n",
       "    </tr>\n",
       "    <tr>\n",
       "      <th>277</th>\n",
       "      <td>289</td>\n",
       "      <td>31</td>\n",
       "      <td>107</td>\n",
       "      <td>./20240321_140300_322/Plate008_Well2_Object7.t...</td>\n",
       "      <td>1.789276</td>\n",
       "      <td>72.096183</td>\n",
       "      <td>76.008379</td>\n",
       "      <td>20240321_140300_322</td>\n",
       "      <td>8</td>\n",
       "      <td>2</td>\n",
       "      <td>7</td>\n",
       "      <td>008_2</td>\n",
       "      <td>Slide34</td>\n",
       "      <td>Peptone 7d</td>\n",
       "      <td>20296/H3P (FAM/Alexa555)</td>\n",
       "      <td>Peptone</td>\n",
       "      <td>7d</td>\n",
       "      <td>168.000000</td>\n",
       "    </tr>\n",
       "    <tr>\n",
       "      <th>278</th>\n",
       "      <td>290</td>\n",
       "      <td>29</td>\n",
       "      <td>34</td>\n",
       "      <td>./20240321_140300_322/Plate008_Well2_Object8.t...</td>\n",
       "      <td>1.801154</td>\n",
       "      <td>62.737549</td>\n",
       "      <td>67.179145</td>\n",
       "      <td>20240321_140300_322</td>\n",
       "      <td>8</td>\n",
       "      <td>2</td>\n",
       "      <td>8</td>\n",
       "      <td>008_2</td>\n",
       "      <td>Slide34</td>\n",
       "      <td>Peptone 7d</td>\n",
       "      <td>20296/H3P (FAM/Alexa555)</td>\n",
       "      <td>Peptone</td>\n",
       "      <td>7d</td>\n",
       "      <td>168.000000</td>\n",
       "    </tr>\n",
       "    <tr>\n",
       "      <th>279</th>\n",
       "      <td>291</td>\n",
       "      <td>35</td>\n",
       "      <td>274</td>\n",
       "      <td>./20240321_140300_322/Plate008_Well2_Object9.t...</td>\n",
       "      <td>1.826209</td>\n",
       "      <td>79.399467</td>\n",
       "      <td>84.327710</td>\n",
       "      <td>20240321_140300_322</td>\n",
       "      <td>8</td>\n",
       "      <td>2</td>\n",
       "      <td>9</td>\n",
       "      <td>008_2</td>\n",
       "      <td>Slide34</td>\n",
       "      <td>Peptone 7d</td>\n",
       "      <td>20296/H3P (FAM/Alexa555)</td>\n",
       "      <td>Peptone</td>\n",
       "      <td>7d</td>\n",
       "      <td>168.000000</td>\n",
       "    </tr>\n",
       "  </tbody>\n",
       "</table>\n",
       "<p>280 rows × 18 columns</p>\n",
       "</div>"
      ],
      "text/plain": [
       "     Unnamed: 0.2  Unnamed: 0.1  Unnamed: 0  \\\n",
       "0              11           232          81   \n",
       "1              12           233         207   \n",
       "2              13           236         263   \n",
       "3              14           234         245   \n",
       "4              15           231          78   \n",
       "..            ...           ...         ...   \n",
       "275           287            32         184   \n",
       "276           288            28          21   \n",
       "277           289            31         107   \n",
       "278           290            29          34   \n",
       "279           291            35         274   \n",
       "\n",
       "                                                  File      Area   Density1  \\\n",
       "0    ./20240321_140300_322/Plate000_Well2_Object0.t...  3.341158  51.179857   \n",
       "1    ./20240321_140300_322/Plate000_Well2_Object1.t...  3.866314  30.520026   \n",
       "2    ./20240321_140300_322/Plate000_Well2_Object2.t...  3.158134  54.462533   \n",
       "3    ./20240321_140300_322/Plate000_Well2_Object3.t...  2.793080  31.864467   \n",
       "4    ./20240321_140300_322/Plate000_Well2_Object4.t...  3.516568  51.755009   \n",
       "..                                                 ...       ...        ...   \n",
       "275  ./20240321_140300_322/Plate008_Well2_Object5.t...  1.892041  68.708883   \n",
       "276  ./20240321_140300_322/Plate008_Well2_Object6.t...  2.208097  97.821783   \n",
       "277  ./20240321_140300_322/Plate008_Well2_Object7.t...  1.789276  72.096183   \n",
       "278  ./20240321_140300_322/Plate008_Well2_Object8.t...  1.801154  62.737549   \n",
       "279  ./20240321_140300_322/Plate008_Well2_Object9.t...  1.826209  79.399467   \n",
       "\n",
       "       Density2                Batch  Plate  Well  Object PlateWell  \\\n",
       "0     54.172832  20240321_140300_322      0     2       0     000_2   \n",
       "1     32.847825  20240321_140300_322      0     2       1     000_2   \n",
       "2     57.628959  20240321_140300_322      0     2       2     000_2   \n",
       "3     33.296578  20240321_140300_322      0     2       3     000_2   \n",
       "4     53.461218  20240321_140300_322      0     2       4     000_2   \n",
       "..          ...                  ...    ...   ...     ...       ...   \n",
       "275   71.880062  20240321_140300_322      8     2       5     008_2   \n",
       "276  100.991933  20240321_140300_322      8     2       6     008_2   \n",
       "277   76.008379  20240321_140300_322      8     2       7     008_2   \n",
       "278   67.179145  20240321_140300_322      8     2       8     008_2   \n",
       "279   84.327710  20240321_140300_322      8     2       9     008_2   \n",
       "\n",
       "    Slide Number          Sample              Description1      Food   Time  \\\n",
       "0         Slide2  Artemina 10min  20296/H3P (FAM/Alexa555)  Artemina  10min   \n",
       "1         Slide2  Artemina 10min  20296/H3P (FAM/Alexa555)  Artemina  10min   \n",
       "2         Slide2  Artemina 10min  20296/H3P (FAM/Alexa555)  Artemina  10min   \n",
       "3         Slide2  Artemina 10min  20296/H3P (FAM/Alexa555)  Artemina  10min   \n",
       "4         Slide2  Artemina 10min  20296/H3P (FAM/Alexa555)  Artemina  10min   \n",
       "..           ...             ...                       ...       ...    ...   \n",
       "275      Slide34      Peptone 7d  20296/H3P (FAM/Alexa555)   Peptone     7d   \n",
       "276      Slide34      Peptone 7d  20296/H3P (FAM/Alexa555)   Peptone     7d   \n",
       "277      Slide34      Peptone 7d  20296/H3P (FAM/Alexa555)   Peptone     7d   \n",
       "278      Slide34      Peptone 7d  20296/H3P (FAM/Alexa555)   Peptone     7d   \n",
       "279      Slide34      Peptone 7d  20296/H3P (FAM/Alexa555)   Peptone     7d   \n",
       "\n",
       "       Time (h)  \n",
       "0      0.166667  \n",
       "1      0.166667  \n",
       "2      0.166667  \n",
       "3      0.166667  \n",
       "4      0.166667  \n",
       "..          ...  \n",
       "275  168.000000  \n",
       "276  168.000000  \n",
       "277  168.000000  \n",
       "278  168.000000  \n",
       "279  168.000000  \n",
       "\n",
       "[280 rows x 18 columns]"
      ]
     },
     "execution_count": 2,
     "metadata": {},
     "output_type": "execute_result"
    }
   ],
   "source": [
    "df = pd.read_csv('https://www.dropbox.com/scl/fi/rirfgn0x25m32vtocvben/Lesson5b-B.csv?rlkey=ii8qcd914nbwbyy4u8r58tb1t&dl=1').dropna()\n",
    "df"
   ]
  },
  {
   "cell_type": "code",
   "execution_count": 3,
   "metadata": {},
   "outputs": [
    {
     "data": {
      "text/plain": [
       "array(['Artemina', 'Liver', 'Peptone'], dtype=object)"
      ]
     },
     "execution_count": 3,
     "metadata": {},
     "output_type": "execute_result"
    }
   ],
   "source": [
    "df['Food'].unique()"
   ]
  },
  {
   "cell_type": "code",
   "execution_count": 4,
   "metadata": {},
   "outputs": [],
   "source": [
    "df = df.replace({'Artemina':'Artemia'})"
   ]
  },
  {
   "cell_type": "markdown",
   "metadata": {},
   "source": [
    "# Introduction to plotting"
   ]
  },
  {
   "cell_type": "code",
   "execution_count": 5,
   "metadata": {},
   "outputs": [
    {
     "data": {
      "application/vnd.plotly.v1+json": {
       "config": {
        "plotlyServerURL": "https://plot.ly"
       },
       "data": [
        {
         "bingroup": "x",
         "hovertemplate": "Area=%{x}<br>count=%{y}<extra></extra>",
         "legendgroup": "",
         "marker": {
          "color": "#636efa",
          "pattern": {
           "shape": ""
          }
         },
         "name": "",
         "orientation": "v",
         "showlegend": false,
         "type": "histogram",
         "x": {
          "bdata": "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",
          "dtype": "f8"
         },
         "xaxis": "x",
         "yaxis": "y"
        }
       ],
       "layout": {
        "barmode": "relative",
        "legend": {
         "tracegroupgap": 0
        },
        "margin": {
         "t": 60
        },
        "template": {
         "data": {
          "bar": [
           {
            "error_x": {
             "color": "#2a3f5f"
            },
            "error_y": {
             "color": "#2a3f5f"
            },
            "marker": {
             "line": {
              "color": "#E5ECF6",
              "width": 0.5
             },
             "pattern": {
              "fillmode": "overlay",
              "size": 10,
              "solidity": 0.2
             }
            },
            "type": "bar"
           }
          ],
          "barpolar": [
           {
            "marker": {
             "line": {
              "color": "#E5ECF6",
              "width": 0.5
             },
             "pattern": {
              "fillmode": "overlay",
              "size": 10,
              "solidity": 0.2
             }
            },
            "type": "barpolar"
           }
          ],
          "carpet": [
           {
            "aaxis": {
             "endlinecolor": "#2a3f5f",
             "gridcolor": "white",
             "linecolor": "white",
             "minorgridcolor": "white",
             "startlinecolor": "#2a3f5f"
            },
            "baxis": {
             "endlinecolor": "#2a3f5f",
             "gridcolor": "white",
             "linecolor": "white",
             "minorgridcolor": "white",
             "startlinecolor": "#2a3f5f"
            },
            "type": "carpet"
           }
          ],
          "choropleth": [
           {
            "colorbar": {
             "outlinewidth": 0,
             "ticks": ""
            },
            "type": "choropleth"
           }
          ],
          "contour": [
           {
            "colorbar": {
             "outlinewidth": 0,
             "ticks": ""
            },
            "colorscale": [
             [
              0,
              "#0d0887"
             ],
             [
              0.1111111111111111,
              "#46039f"
             ],
             [
              0.2222222222222222,
              "#7201a8"
             ],
             [
              0.3333333333333333,
              "#9c179e"
             ],
             [
              0.4444444444444444,
              "#bd3786"
             ],
             [
              0.5555555555555556,
              "#d8576b"
             ],
             [
              0.6666666666666666,
              "#ed7953"
             ],
             [
              0.7777777777777778,
              "#fb9f3a"
             ],
             [
              0.8888888888888888,
              "#fdca26"
             ],
             [
              1,
              "#f0f921"
             ]
            ],
            "type": "contour"
           }
          ],
          "contourcarpet": [
           {
            "colorbar": {
             "outlinewidth": 0,
             "ticks": ""
            },
            "type": "contourcarpet"
           }
          ],
          "heatmap": [
           {
            "colorbar": {
             "outlinewidth": 0,
             "ticks": ""
            },
            "colorscale": [
             [
              0,
              "#0d0887"
             ],
             [
              0.1111111111111111,
              "#46039f"
             ],
             [
              0.2222222222222222,
              "#7201a8"
             ],
             [
              0.3333333333333333,
              "#9c179e"
             ],
             [
              0.4444444444444444,
              "#bd3786"
             ],
             [
              0.5555555555555556,
              "#d8576b"
             ],
             [
              0.6666666666666666,
              "#ed7953"
             ],
             [
              0.7777777777777778,
              "#fb9f3a"
             ],
             [
              0.8888888888888888,
              "#fdca26"
             ],
             [
              1,
              "#f0f921"
             ]
            ],
            "type": "heatmap"
           }
          ],
          "histogram": [
           {
            "marker": {
             "pattern": {
              "fillmode": "overlay",
              "size": 10,
              "solidity": 0.2
             }
            },
            "type": "histogram"
           }
          ],
          "histogram2d": [
           {
            "colorbar": {
             "outlinewidth": 0,
             "ticks": ""
            },
            "colorscale": [
             [
              0,
              "#0d0887"
             ],
             [
              0.1111111111111111,
              "#46039f"
             ],
             [
              0.2222222222222222,
              "#7201a8"
             ],
             [
              0.3333333333333333,
              "#9c179e"
             ],
             [
              0.4444444444444444,
              "#bd3786"
             ],
             [
              0.5555555555555556,
              "#d8576b"
             ],
             [
              0.6666666666666666,
              "#ed7953"
             ],
             [
              0.7777777777777778,
              "#fb9f3a"
             ],
             [
              0.8888888888888888,
              "#fdca26"
             ],
             [
              1,
              "#f0f921"
             ]
            ],
            "type": "histogram2d"
           }
          ],
          "histogram2dcontour": [
           {
            "colorbar": {
             "outlinewidth": 0,
             "ticks": ""
            },
            "colorscale": [
             [
              0,
              "#0d0887"
             ],
             [
              0.1111111111111111,
              "#46039f"
             ],
             [
              0.2222222222222222,
              "#7201a8"
             ],
             [
              0.3333333333333333,
              "#9c179e"
             ],
             [
              0.4444444444444444,
              "#bd3786"
             ],
             [
              0.5555555555555556,
              "#d8576b"
             ],
             [
              0.6666666666666666,
              "#ed7953"
             ],
             [
              0.7777777777777778,
              "#fb9f3a"
             ],
             [
              0.8888888888888888,
              "#fdca26"
             ],
             [
              1,
              "#f0f921"
             ]
            ],
            "type": "histogram2dcontour"
           }
          ],
          "mesh3d": [
           {
            "colorbar": {
             "outlinewidth": 0,
             "ticks": ""
            },
            "type": "mesh3d"
           }
          ],
          "parcoords": [
           {
            "line": {
             "colorbar": {
              "outlinewidth": 0,
              "ticks": ""
             }
            },
            "type": "parcoords"
           }
          ],
          "pie": [
           {
            "automargin": true,
            "type": "pie"
           }
          ],
          "scatter": [
           {
            "fillpattern": {
             "fillmode": "overlay",
             "size": 10,
             "solidity": 0.2
            },
            "type": "scatter"
           }
          ],
          "scatter3d": [
           {
            "line": {
             "colorbar": {
              "outlinewidth": 0,
              "ticks": ""
             }
            },
            "marker": {
             "colorbar": {
              "outlinewidth": 0,
              "ticks": ""
             }
            },
            "type": "scatter3d"
           }
          ],
          "scattercarpet": [
           {
            "marker": {
             "colorbar": {
              "outlinewidth": 0,
              "ticks": ""
             }
            },
            "type": "scattercarpet"
           }
          ],
          "scattergeo": [
           {
            "marker": {
             "colorbar": {
              "outlinewidth": 0,
              "ticks": ""
             }
            },
            "type": "scattergeo"
           }
          ],
          "scattergl": [
           {
            "marker": {
             "colorbar": {
              "outlinewidth": 0,
              "ticks": ""
             }
            },
            "type": "scattergl"
           }
          ],
          "scattermap": [
           {
            "marker": {
             "colorbar": {
              "outlinewidth": 0,
              "ticks": ""
             }
            },
            "type": "scattermap"
           }
          ],
          "scattermapbox": [
           {
            "marker": {
             "colorbar": {
              "outlinewidth": 0,
              "ticks": ""
             }
            },
            "type": "scattermapbox"
           }
          ],
          "scatterpolar": [
           {
            "marker": {
             "colorbar": {
              "outlinewidth": 0,
              "ticks": ""
             }
            },
            "type": "scatterpolar"
           }
          ],
          "scatterpolargl": [
           {
            "marker": {
             "colorbar": {
              "outlinewidth": 0,
              "ticks": ""
             }
            },
            "type": "scatterpolargl"
           }
          ],
          "scatterternary": [
           {
            "marker": {
             "colorbar": {
              "outlinewidth": 0,
              "ticks": ""
             }
            },
            "type": "scatterternary"
           }
          ],
          "surface": [
           {
            "colorbar": {
             "outlinewidth": 0,
             "ticks": ""
            },
            "colorscale": [
             [
              0,
              "#0d0887"
             ],
             [
              0.1111111111111111,
              "#46039f"
             ],
             [
              0.2222222222222222,
              "#7201a8"
             ],
             [
              0.3333333333333333,
              "#9c179e"
             ],
             [
              0.4444444444444444,
              "#bd3786"
             ],
             [
              0.5555555555555556,
              "#d8576b"
             ],
             [
              0.6666666666666666,
              "#ed7953"
             ],
             [
              0.7777777777777778,
              "#fb9f3a"
             ],
             [
              0.8888888888888888,
              "#fdca26"
             ],
             [
              1,
              "#f0f921"
             ]
            ],
            "type": "surface"
           }
          ],
          "table": [
           {
            "cells": {
             "fill": {
              "color": "#EBF0F8"
             },
             "line": {
              "color": "white"
             }
            },
            "header": {
             "fill": {
              "color": "#C8D4E3"
             },
             "line": {
              "color": "white"
             }
            },
            "type": "table"
           }
          ]
         },
         "layout": {
          "annotationdefaults": {
           "arrowcolor": "#2a3f5f",
           "arrowhead": 0,
           "arrowwidth": 1
          },
          "autotypenumbers": "strict",
          "coloraxis": {
           "colorbar": {
            "outlinewidth": 0,
            "ticks": ""
           }
          },
          "colorscale": {
           "diverging": [
            [
             0,
             "#8e0152"
            ],
            [
             0.1,
             "#c51b7d"
            ],
            [
             0.2,
             "#de77ae"
            ],
            [
             0.3,
             "#f1b6da"
            ],
            [
             0.4,
             "#fde0ef"
            ],
            [
             0.5,
             "#f7f7f7"
            ],
            [
             0.6,
             "#e6f5d0"
            ],
            [
             0.7,
             "#b8e186"
            ],
            [
             0.8,
             "#7fbc41"
            ],
            [
             0.9,
             "#4d9221"
            ],
            [
             1,
             "#276419"
            ]
           ],
           "sequential": [
            [
             0,
             "#0d0887"
            ],
            [
             0.1111111111111111,
             "#46039f"
            ],
            [
             0.2222222222222222,
             "#7201a8"
            ],
            [
             0.3333333333333333,
             "#9c179e"
            ],
            [
             0.4444444444444444,
             "#bd3786"
            ],
            [
             0.5555555555555556,
             "#d8576b"
            ],
            [
             0.6666666666666666,
             "#ed7953"
            ],
            [
             0.7777777777777778,
             "#fb9f3a"
            ],
            [
             0.8888888888888888,
             "#fdca26"
            ],
            [
             1,
             "#f0f921"
            ]
           ],
           "sequentialminus": [
            [
             0,
             "#0d0887"
            ],
            [
             0.1111111111111111,
             "#46039f"
            ],
            [
             0.2222222222222222,
             "#7201a8"
            ],
            [
             0.3333333333333333,
             "#9c179e"
            ],
            [
             0.4444444444444444,
             "#bd3786"
            ],
            [
             0.5555555555555556,
             "#d8576b"
            ],
            [
             0.6666666666666666,
             "#ed7953"
            ],
            [
             0.7777777777777778,
             "#fb9f3a"
            ],
            [
             0.8888888888888888,
             "#fdca26"
            ],
            [
             1,
             "#f0f921"
            ]
           ]
          },
          "colorway": [
           "#636efa",
           "#EF553B",
           "#00cc96",
           "#ab63fa",
           "#FFA15A",
           "#19d3f3",
           "#FF6692",
           "#B6E880",
           "#FF97FF",
           "#FECB52"
          ],
          "font": {
           "color": "#2a3f5f"
          },
          "geo": {
           "bgcolor": "white",
           "lakecolor": "white",
           "landcolor": "#E5ECF6",
           "showlakes": true,
           "showland": true,
           "subunitcolor": "white"
          },
          "hoverlabel": {
           "align": "left"
          },
          "hovermode": "closest",
          "mapbox": {
           "style": "light"
          },
          "paper_bgcolor": "white",
          "plot_bgcolor": "#E5ECF6",
          "polar": {
           "angularaxis": {
            "gridcolor": "white",
            "linecolor": "white",
            "ticks": ""
           },
           "bgcolor": "#E5ECF6",
           "radialaxis": {
            "gridcolor": "white",
            "linecolor": "white",
            "ticks": ""
           }
          },
          "scene": {
           "xaxis": {
            "backgroundcolor": "#E5ECF6",
            "gridcolor": "white",
            "gridwidth": 2,
            "linecolor": "white",
            "showbackground": true,
            "ticks": "",
            "zerolinecolor": "white"
           },
           "yaxis": {
            "backgroundcolor": "#E5ECF6",
            "gridcolor": "white",
            "gridwidth": 2,
            "linecolor": "white",
            "showbackground": true,
            "ticks": "",
            "zerolinecolor": "white"
           },
           "zaxis": {
            "backgroundcolor": "#E5ECF6",
            "gridcolor": "white",
            "gridwidth": 2,
            "linecolor": "white",
            "showbackground": true,
            "ticks": "",
            "zerolinecolor": "white"
           }
          },
          "shapedefaults": {
           "line": {
            "color": "#2a3f5f"
           }
          },
          "ternary": {
           "aaxis": {
            "gridcolor": "white",
            "linecolor": "white",
            "ticks": ""
           },
           "baxis": {
            "gridcolor": "white",
            "linecolor": "white",
            "ticks": ""
           },
           "bgcolor": "#E5ECF6",
           "caxis": {
            "gridcolor": "white",
            "linecolor": "white",
            "ticks": ""
           }
          },
          "title": {
           "x": 0.05
          },
          "xaxis": {
           "automargin": true,
           "gridcolor": "white",
           "linecolor": "white",
           "ticks": "",
           "title": {
            "standoff": 15
           },
           "zerolinecolor": "white",
           "zerolinewidth": 2
          },
          "yaxis": {
           "automargin": true,
           "gridcolor": "white",
           "linecolor": "white",
           "ticks": "",
           "title": {
            "standoff": 15
           },
           "zerolinecolor": "white",
           "zerolinewidth": 2
          }
         }
        },
        "xaxis": {
         "anchor": "y",
         "domain": [
          0,
          1
         ],
         "title": {
          "text": "Area"
         }
        },
        "yaxis": {
         "anchor": "x",
         "domain": [
          0,
          1
         ],
         "title": {
          "text": "count"
         }
        }
       }
      }
     },
     "metadata": {},
     "output_type": "display_data"
    }
   ],
   "source": [
    "px.histogram(df, x='Area')"
   ]
  },
  {
   "cell_type": "code",
   "execution_count": 6,
   "metadata": {},
   "outputs": [
    {
     "data": {
      "application/vnd.plotly.v1+json": {
       "config": {
        "plotlyServerURL": "https://plot.ly"
       },
       "data": [
        {
         "bingroup": "x",
         "hovertemplate": "Area=%{x}<br>count=%{y}<extra></extra>",
         "legendgroup": "",
         "marker": {
          "color": "orange",
          "pattern": {
           "shape": ""
          }
         },
         "name": "",
         "orientation": "v",
         "showlegend": false,
         "type": "histogram",
         "x": {
          "bdata": "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",
          "dtype": "f8"
         },
         "xaxis": "x",
         "yaxis": "y"
        }
       ],
       "layout": {
        "barmode": "relative",
        "legend": {
         "tracegroupgap": 0
        },
        "template": {
         "data": {
          "bar": [
           {
            "error_x": {
             "color": "#2a3f5f"
            },
            "error_y": {
             "color": "#2a3f5f"
            },
            "marker": {
             "line": {
              "color": "#E5ECF6",
              "width": 0.5
             },
             "pattern": {
              "fillmode": "overlay",
              "size": 10,
              "solidity": 0.2
             }
            },
            "type": "bar"
           }
          ],
          "barpolar": [
           {
            "marker": {
             "line": {
              "color": "#E5ECF6",
              "width": 0.5
             },
             "pattern": {
              "fillmode": "overlay",
              "size": 10,
              "solidity": 0.2
             }
            },
            "type": "barpolar"
           }
          ],
          "carpet": [
           {
            "aaxis": {
             "endlinecolor": "#2a3f5f",
             "gridcolor": "white",
             "linecolor": "white",
             "minorgridcolor": "white",
             "startlinecolor": "#2a3f5f"
            },
            "baxis": {
             "endlinecolor": "#2a3f5f",
             "gridcolor": "white",
             "linecolor": "white",
             "minorgridcolor": "white",
             "startlinecolor": "#2a3f5f"
            },
            "type": "carpet"
           }
          ],
          "choropleth": [
           {
            "colorbar": {
             "outlinewidth": 0,
             "ticks": ""
            },
            "type": "choropleth"
           }
          ],
          "contour": [
           {
            "colorbar": {
             "outlinewidth": 0,
             "ticks": ""
            },
            "colorscale": [
             [
              0,
              "#0d0887"
             ],
             [
              0.1111111111111111,
              "#46039f"
             ],
             [
              0.2222222222222222,
              "#7201a8"
             ],
             [
              0.3333333333333333,
              "#9c179e"
             ],
             [
              0.4444444444444444,
              "#bd3786"
             ],
             [
              0.5555555555555556,
              "#d8576b"
             ],
             [
              0.6666666666666666,
              "#ed7953"
             ],
             [
              0.7777777777777778,
              "#fb9f3a"
             ],
             [
              0.8888888888888888,
              "#fdca26"
             ],
             [
              1,
              "#f0f921"
             ]
            ],
            "type": "contour"
           }
          ],
          "contourcarpet": [
           {
            "colorbar": {
             "outlinewidth": 0,
             "ticks": ""
            },
            "type": "contourcarpet"
           }
          ],
          "heatmap": [
           {
            "colorbar": {
             "outlinewidth": 0,
             "ticks": ""
            },
            "colorscale": [
             [
              0,
              "#0d0887"
             ],
             [
              0.1111111111111111,
              "#46039f"
             ],
             [
              0.2222222222222222,
              "#7201a8"
             ],
             [
              0.3333333333333333,
              "#9c179e"
             ],
             [
              0.4444444444444444,
              "#bd3786"
             ],
             [
              0.5555555555555556,
              "#d8576b"
             ],
             [
              0.6666666666666666,
              "#ed7953"
             ],
             [
              0.7777777777777778,
              "#fb9f3a"
             ],
             [
              0.8888888888888888,
              "#fdca26"
             ],
             [
              1,
              "#f0f921"
             ]
            ],
            "type": "heatmap"
           }
          ],
          "histogram": [
           {
            "marker": {
             "pattern": {
              "fillmode": "overlay",
              "size": 10,
              "solidity": 0.2
             }
            },
            "type": "histogram"
           }
          ],
          "histogram2d": [
           {
            "colorbar": {
             "outlinewidth": 0,
             "ticks": ""
            },
            "colorscale": [
             [
              0,
              "#0d0887"
             ],
             [
              0.1111111111111111,
              "#46039f"
             ],
             [
              0.2222222222222222,
              "#7201a8"
             ],
             [
              0.3333333333333333,
              "#9c179e"
             ],
             [
              0.4444444444444444,
              "#bd3786"
             ],
             [
              0.5555555555555556,
              "#d8576b"
             ],
             [
              0.6666666666666666,
              "#ed7953"
             ],
             [
              0.7777777777777778,
              "#fb9f3a"
             ],
             [
              0.8888888888888888,
              "#fdca26"
             ],
             [
              1,
              "#f0f921"
             ]
            ],
            "type": "histogram2d"
           }
          ],
          "histogram2dcontour": [
           {
            "colorbar": {
             "outlinewidth": 0,
             "ticks": ""
            },
            "colorscale": [
             [
              0,
              "#0d0887"
             ],
             [
              0.1111111111111111,
              "#46039f"
             ],
             [
              0.2222222222222222,
              "#7201a8"
             ],
             [
              0.3333333333333333,
              "#9c179e"
             ],
             [
              0.4444444444444444,
              "#bd3786"
             ],
             [
              0.5555555555555556,
              "#d8576b"
             ],
             [
              0.6666666666666666,
              "#ed7953"
             ],
             [
              0.7777777777777778,
              "#fb9f3a"
             ],
             [
              0.8888888888888888,
              "#fdca26"
             ],
             [
              1,
              "#f0f921"
             ]
            ],
            "type": "histogram2dcontour"
           }
          ],
          "mesh3d": [
           {
            "colorbar": {
             "outlinewidth": 0,
             "ticks": ""
            },
            "type": "mesh3d"
           }
          ],
          "parcoords": [
           {
            "line": {
             "colorbar": {
              "outlinewidth": 0,
              "ticks": ""
             }
            },
            "type": "parcoords"
           }
          ],
          "pie": [
           {
            "automargin": true,
            "type": "pie"
           }
          ],
          "scatter": [
           {
            "fillpattern": {
             "fillmode": "overlay",
             "size": 10,
             "solidity": 0.2
            },
            "type": "scatter"
           }
          ],
          "scatter3d": [
           {
            "line": {
             "colorbar": {
              "outlinewidth": 0,
              "ticks": ""
             }
            },
            "marker": {
             "colorbar": {
              "outlinewidth": 0,
              "ticks": ""
             }
            },
            "type": "scatter3d"
           }
          ],
          "scattercarpet": [
           {
            "marker": {
             "colorbar": {
              "outlinewidth": 0,
              "ticks": ""
             }
            },
            "type": "scattercarpet"
           }
          ],
          "scattergeo": [
           {
            "marker": {
             "colorbar": {
              "outlinewidth": 0,
              "ticks": ""
             }
            },
            "type": "scattergeo"
           }
          ],
          "scattergl": [
           {
            "marker": {
             "colorbar": {
              "outlinewidth": 0,
              "ticks": ""
             }
            },
            "type": "scattergl"
           }
          ],
          "scattermap": [
           {
            "marker": {
             "colorbar": {
              "outlinewidth": 0,
              "ticks": ""
             }
            },
            "type": "scattermap"
           }
          ],
          "scattermapbox": [
           {
            "marker": {
             "colorbar": {
              "outlinewidth": 0,
              "ticks": ""
             }
            },
            "type": "scattermapbox"
           }
          ],
          "scatterpolar": [
           {
            "marker": {
             "colorbar": {
              "outlinewidth": 0,
              "ticks": ""
             }
            },
            "type": "scatterpolar"
           }
          ],
          "scatterpolargl": [
           {
            "marker": {
             "colorbar": {
              "outlinewidth": 0,
              "ticks": ""
             }
            },
            "type": "scatterpolargl"
           }
          ],
          "scatterternary": [
           {
            "marker": {
             "colorbar": {
              "outlinewidth": 0,
              "ticks": ""
             }
            },
            "type": "scatterternary"
           }
          ],
          "surface": [
           {
            "colorbar": {
             "outlinewidth": 0,
             "ticks": ""
            },
            "colorscale": [
             [
              0,
              "#0d0887"
             ],
             [
              0.1111111111111111,
              "#46039f"
             ],
             [
              0.2222222222222222,
              "#7201a8"
             ],
             [
              0.3333333333333333,
              "#9c179e"
             ],
             [
              0.4444444444444444,
              "#bd3786"
             ],
             [
              0.5555555555555556,
              "#d8576b"
             ],
             [
              0.6666666666666666,
              "#ed7953"
             ],
             [
              0.7777777777777778,
              "#fb9f3a"
             ],
             [
              0.8888888888888888,
              "#fdca26"
             ],
             [
              1,
              "#f0f921"
             ]
            ],
            "type": "surface"
           }
          ],
          "table": [
           {
            "cells": {
             "fill": {
              "color": "#EBF0F8"
             },
             "line": {
              "color": "white"
             }
            },
            "header": {
             "fill": {
              "color": "#C8D4E3"
             },
             "line": {
              "color": "white"
             }
            },
            "type": "table"
           }
          ]
         },
         "layout": {
          "annotationdefaults": {
           "arrowcolor": "#2a3f5f",
           "arrowhead": 0,
           "arrowwidth": 1
          },
          "autotypenumbers": "strict",
          "coloraxis": {
           "colorbar": {
            "outlinewidth": 0,
            "ticks": ""
           }
          },
          "colorscale": {
           "diverging": [
            [
             0,
             "#8e0152"
            ],
            [
             0.1,
             "#c51b7d"
            ],
            [
             0.2,
             "#de77ae"
            ],
            [
             0.3,
             "#f1b6da"
            ],
            [
             0.4,
             "#fde0ef"
            ],
            [
             0.5,
             "#f7f7f7"
            ],
            [
             0.6,
             "#e6f5d0"
            ],
            [
             0.7,
             "#b8e186"
            ],
            [
             0.8,
             "#7fbc41"
            ],
            [
             0.9,
             "#4d9221"
            ],
            [
             1,
             "#276419"
            ]
           ],
           "sequential": [
            [
             0,
             "#0d0887"
            ],
            [
             0.1111111111111111,
             "#46039f"
            ],
            [
             0.2222222222222222,
             "#7201a8"
            ],
            [
             0.3333333333333333,
             "#9c179e"
            ],
            [
             0.4444444444444444,
             "#bd3786"
            ],
            [
             0.5555555555555556,
             "#d8576b"
            ],
            [
             0.6666666666666666,
             "#ed7953"
            ],
            [
             0.7777777777777778,
             "#fb9f3a"
            ],
            [
             0.8888888888888888,
             "#fdca26"
            ],
            [
             1,
             "#f0f921"
            ]
           ],
           "sequentialminus": [
            [
             0,
             "#0d0887"
            ],
            [
             0.1111111111111111,
             "#46039f"
            ],
            [
             0.2222222222222222,
             "#7201a8"
            ],
            [
             0.3333333333333333,
             "#9c179e"
            ],
            [
             0.4444444444444444,
             "#bd3786"
            ],
            [
             0.5555555555555556,
             "#d8576b"
            ],
            [
             0.6666666666666666,
             "#ed7953"
            ],
            [
             0.7777777777777778,
             "#fb9f3a"
            ],
            [
             0.8888888888888888,
             "#fdca26"
            ],
            [
             1,
             "#f0f921"
            ]
           ]
          },
          "colorway": [
           "#636efa",
           "#EF553B",
           "#00cc96",
           "#ab63fa",
           "#FFA15A",
           "#19d3f3",
           "#FF6692",
           "#B6E880",
           "#FF97FF",
           "#FECB52"
          ],
          "font": {
           "color": "#2a3f5f"
          },
          "geo": {
           "bgcolor": "white",
           "lakecolor": "white",
           "landcolor": "#E5ECF6",
           "showlakes": true,
           "showland": true,
           "subunitcolor": "white"
          },
          "hoverlabel": {
           "align": "left"
          },
          "hovermode": "closest",
          "mapbox": {
           "style": "light"
          },
          "paper_bgcolor": "white",
          "plot_bgcolor": "#E5ECF6",
          "polar": {
           "angularaxis": {
            "gridcolor": "white",
            "linecolor": "white",
            "ticks": ""
           },
           "bgcolor": "#E5ECF6",
           "radialaxis": {
            "gridcolor": "white",
            "linecolor": "white",
            "ticks": ""
           }
          },
          "scene": {
           "xaxis": {
            "backgroundcolor": "#E5ECF6",
            "gridcolor": "white",
            "gridwidth": 2,
            "linecolor": "white",
            "showbackground": true,
            "ticks": "",
            "zerolinecolor": "white"
           },
           "yaxis": {
            "backgroundcolor": "#E5ECF6",
            "gridcolor": "white",
            "gridwidth": 2,
            "linecolor": "white",
            "showbackground": true,
            "ticks": "",
            "zerolinecolor": "white"
           },
           "zaxis": {
            "backgroundcolor": "#E5ECF6",
            "gridcolor": "white",
            "gridwidth": 2,
            "linecolor": "white",
            "showbackground": true,
            "ticks": "",
            "zerolinecolor": "white"
           }
          },
          "shapedefaults": {
           "line": {
            "color": "#2a3f5f"
           }
          },
          "ternary": {
           "aaxis": {
            "gridcolor": "white",
            "linecolor": "white",
            "ticks": ""
           },
           "baxis": {
            "gridcolor": "white",
            "linecolor": "white",
            "ticks": ""
           },
           "bgcolor": "#E5ECF6",
           "caxis": {
            "gridcolor": "white",
            "linecolor": "white",
            "ticks": ""
           }
          },
          "title": {
           "x": 0.05
          },
          "xaxis": {
           "automargin": true,
           "gridcolor": "white",
           "linecolor": "white",
           "ticks": "",
           "title": {
            "standoff": 15
           },
           "zerolinecolor": "white",
           "zerolinewidth": 2
          },
          "yaxis": {
           "automargin": true,
           "gridcolor": "white",
           "linecolor": "white",
           "ticks": "",
           "title": {
            "standoff": 15
           },
           "zerolinecolor": "white",
           "zerolinewidth": 2
          }
         }
        },
        "title": {
         "text": "Area of Planaria (um^2)"
        },
        "width": 400,
        "xaxis": {
         "anchor": "y",
         "domain": [
          0,
          1
         ],
         "title": {
          "text": "Area"
         }
        },
        "yaxis": {
         "anchor": "x",
         "domain": [
          0,
          1
         ],
         "range": [
          0,
          50
         ],
         "title": {
          "text": "count"
         }
        }
       }
      }
     },
     "metadata": {},
     "output_type": "display_data"
    }
   ],
   "source": [
    "px.histogram(df, x='Area', width=400, title='Area of Planaria (um^2)', range_y=[0,50], color_discrete_sequence=['orange'])"
   ]
  },
  {
   "cell_type": "code",
   "execution_count": 7,
   "metadata": {},
   "outputs": [
    {
     "data": {
      "application/vnd.plotly.v1+json": {
       "config": {
        "plotlyServerURL": "https://plot.ly"
       },
       "data": [
        {
         "coloraxis": "coloraxis",
         "hovertemplate": "Area of Planaria (um^2)=%{x}<br>Density of dividing cells=%{y}<br>count=%{z}<extra></extra>",
         "name": "",
         "type": "histogram2d",
         "x": {
          "bdata": "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",
          "dtype": "f8"
         },
         "xaxis": "x",
         "xbingroup": "x",
         "y": {
          "bdata": "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",
          "dtype": "f8"
         },
         "yaxis": "y",
         "ybingroup": "y"
        }
       ],
       "layout": {
        "coloraxis": {
         "colorbar": {
          "title": {
           "text": "count"
          }
         },
         "colorscale": [
          [
           0,
           "#440154"
          ],
          [
           0.1111111111111111,
           "#482878"
          ],
          [
           0.2222222222222222,
           "#3e4989"
          ],
          [
           0.3333333333333333,
           "#31688e"
          ],
          [
           0.4444444444444444,
           "#26828e"
          ],
          [
           0.5555555555555556,
           "#1f9e89"
          ],
          [
           0.6666666666666666,
           "#35b779"
          ],
          [
           0.7777777777777778,
           "#6ece58"
          ],
          [
           0.8888888888888888,
           "#b5de2b"
          ],
          [
           1,
           "#fde725"
          ]
         ]
        },
        "height": 400,
        "legend": {
         "tracegroupgap": 0
        },
        "template": {
         "data": {
          "bar": [
           {
            "error_x": {
             "color": "#2a3f5f"
            },
            "error_y": {
             "color": "#2a3f5f"
            },
            "marker": {
             "line": {
              "color": "#E5ECF6",
              "width": 0.5
             },
             "pattern": {
              "fillmode": "overlay",
              "size": 10,
              "solidity": 0.2
             }
            },
            "type": "bar"
           }
          ],
          "barpolar": [
           {
            "marker": {
             "line": {
              "color": "#E5ECF6",
              "width": 0.5
             },
             "pattern": {
              "fillmode": "overlay",
              "size": 10,
              "solidity": 0.2
             }
            },
            "type": "barpolar"
           }
          ],
          "carpet": [
           {
            "aaxis": {
             "endlinecolor": "#2a3f5f",
             "gridcolor": "white",
             "linecolor": "white",
             "minorgridcolor": "white",
             "startlinecolor": "#2a3f5f"
            },
            "baxis": {
             "endlinecolor": "#2a3f5f",
             "gridcolor": "white",
             "linecolor": "white",
             "minorgridcolor": "white",
             "startlinecolor": "#2a3f5f"
            },
            "type": "carpet"
           }
          ],
          "choropleth": [
           {
            "colorbar": {
             "outlinewidth": 0,
             "ticks": ""
            },
            "type": "choropleth"
           }
          ],
          "contour": [
           {
            "colorbar": {
             "outlinewidth": 0,
             "ticks": ""
            },
            "colorscale": [
             [
              0,
              "#0d0887"
             ],
             [
              0.1111111111111111,
              "#46039f"
             ],
             [
              0.2222222222222222,
              "#7201a8"
             ],
             [
              0.3333333333333333,
              "#9c179e"
             ],
             [
              0.4444444444444444,
              "#bd3786"
             ],
             [
              0.5555555555555556,
              "#d8576b"
             ],
             [
              0.6666666666666666,
              "#ed7953"
             ],
             [
              0.7777777777777778,
              "#fb9f3a"
             ],
             [
              0.8888888888888888,
              "#fdca26"
             ],
             [
              1,
              "#f0f921"
             ]
            ],
            "type": "contour"
           }
          ],
          "contourcarpet": [
           {
            "colorbar": {
             "outlinewidth": 0,
             "ticks": ""
            },
            "type": "contourcarpet"
           }
          ],
          "heatmap": [
           {
            "colorbar": {
             "outlinewidth": 0,
             "ticks": ""
            },
            "colorscale": [
             [
              0,
              "#0d0887"
             ],
             [
              0.1111111111111111,
              "#46039f"
             ],
             [
              0.2222222222222222,
              "#7201a8"
             ],
             [
              0.3333333333333333,
              "#9c179e"
             ],
             [
              0.4444444444444444,
              "#bd3786"
             ],
             [
              0.5555555555555556,
              "#d8576b"
             ],
             [
              0.6666666666666666,
              "#ed7953"
             ],
             [
              0.7777777777777778,
              "#fb9f3a"
             ],
             [
              0.8888888888888888,
              "#fdca26"
             ],
             [
              1,
              "#f0f921"
             ]
            ],
            "type": "heatmap"
           }
          ],
          "histogram": [
           {
            "marker": {
             "pattern": {
              "fillmode": "overlay",
              "size": 10,
              "solidity": 0.2
             }
            },
            "type": "histogram"
           }
          ],
          "histogram2d": [
           {
            "colorbar": {
             "outlinewidth": 0,
             "ticks": ""
            },
            "colorscale": [
             [
              0,
              "#0d0887"
             ],
             [
              0.1111111111111111,
              "#46039f"
             ],
             [
              0.2222222222222222,
              "#7201a8"
             ],
             [
              0.3333333333333333,
              "#9c179e"
             ],
             [
              0.4444444444444444,
              "#bd3786"
             ],
             [
              0.5555555555555556,
              "#d8576b"
             ],
             [
              0.6666666666666666,
              "#ed7953"
             ],
             [
              0.7777777777777778,
              "#fb9f3a"
             ],
             [
              0.8888888888888888,
              "#fdca26"
             ],
             [
              1,
              "#f0f921"
             ]
            ],
            "type": "histogram2d"
           }
          ],
          "histogram2dcontour": [
           {
            "colorbar": {
             "outlinewidth": 0,
             "ticks": ""
            },
            "colorscale": [
             [
              0,
              "#0d0887"
             ],
             [
              0.1111111111111111,
              "#46039f"
             ],
             [
              0.2222222222222222,
              "#7201a8"
             ],
             [
              0.3333333333333333,
              "#9c179e"
             ],
             [
              0.4444444444444444,
              "#bd3786"
             ],
             [
              0.5555555555555556,
              "#d8576b"
             ],
             [
              0.6666666666666666,
              "#ed7953"
             ],
             [
              0.7777777777777778,
              "#fb9f3a"
             ],
             [
              0.8888888888888888,
              "#fdca26"
             ],
             [
              1,
              "#f0f921"
             ]
            ],
            "type": "histogram2dcontour"
           }
          ],
          "mesh3d": [
           {
            "colorbar": {
             "outlinewidth": 0,
             "ticks": ""
            },
            "type": "mesh3d"
           }
          ],
          "parcoords": [
           {
            "line": {
             "colorbar": {
              "outlinewidth": 0,
              "ticks": ""
             }
            },
            "type": "parcoords"
           }
          ],
          "pie": [
           {
            "automargin": true,
            "type": "pie"
           }
          ],
          "scatter": [
           {
            "fillpattern": {
             "fillmode": "overlay",
             "size": 10,
             "solidity": 0.2
            },
            "type": "scatter"
           }
          ],
          "scatter3d": [
           {
            "line": {
             "colorbar": {
              "outlinewidth": 0,
              "ticks": ""
             }
            },
            "marker": {
             "colorbar": {
              "outlinewidth": 0,
              "ticks": ""
             }
            },
            "type": "scatter3d"
           }
          ],
          "scattercarpet": [
           {
            "marker": {
             "colorbar": {
              "outlinewidth": 0,
              "ticks": ""
             }
            },
            "type": "scattercarpet"
           }
          ],
          "scattergeo": [
           {
            "marker": {
             "colorbar": {
              "outlinewidth": 0,
              "ticks": ""
             }
            },
            "type": "scattergeo"
           }
          ],
          "scattergl": [
           {
            "marker": {
             "colorbar": {
              "outlinewidth": 0,
              "ticks": ""
             }
            },
            "type": "scattergl"
           }
          ],
          "scattermap": [
           {
            "marker": {
             "colorbar": {
              "outlinewidth": 0,
              "ticks": ""
             }
            },
            "type": "scattermap"
           }
          ],
          "scattermapbox": [
           {
            "marker": {
             "colorbar": {
              "outlinewidth": 0,
              "ticks": ""
             }
            },
            "type": "scattermapbox"
           }
          ],
          "scatterpolar": [
           {
            "marker": {
             "colorbar": {
              "outlinewidth": 0,
              "ticks": ""
             }
            },
            "type": "scatterpolar"
           }
          ],
          "scatterpolargl": [
           {
            "marker": {
             "colorbar": {
              "outlinewidth": 0,
              "ticks": ""
             }
            },
            "type": "scatterpolargl"
           }
          ],
          "scatterternary": [
           {
            "marker": {
             "colorbar": {
              "outlinewidth": 0,
              "ticks": ""
             }
            },
            "type": "scatterternary"
           }
          ],
          "surface": [
           {
            "colorbar": {
             "outlinewidth": 0,
             "ticks": ""
            },
            "colorscale": [
             [
              0,
              "#0d0887"
             ],
             [
              0.1111111111111111,
              "#46039f"
             ],
             [
              0.2222222222222222,
              "#7201a8"
             ],
             [
              0.3333333333333333,
              "#9c179e"
             ],
             [
              0.4444444444444444,
              "#bd3786"
             ],
             [
              0.5555555555555556,
              "#d8576b"
             ],
             [
              0.6666666666666666,
              "#ed7953"
             ],
             [
              0.7777777777777778,
              "#fb9f3a"
             ],
             [
              0.8888888888888888,
              "#fdca26"
             ],
             [
              1,
              "#f0f921"
             ]
            ],
            "type": "surface"
           }
          ],
          "table": [
           {
            "cells": {
             "fill": {
              "color": "#EBF0F8"
             },
             "line": {
              "color": "white"
             }
            },
            "header": {
             "fill": {
              "color": "#C8D4E3"
             },
             "line": {
              "color": "white"
             }
            },
            "type": "table"
           }
          ]
         },
         "layout": {
          "annotationdefaults": {
           "arrowcolor": "#2a3f5f",
           "arrowhead": 0,
           "arrowwidth": 1
          },
          "autotypenumbers": "strict",
          "coloraxis": {
           "colorbar": {
            "outlinewidth": 0,
            "ticks": ""
           }
          },
          "colorscale": {
           "diverging": [
            [
             0,
             "#8e0152"
            ],
            [
             0.1,
             "#c51b7d"
            ],
            [
             0.2,
             "#de77ae"
            ],
            [
             0.3,
             "#f1b6da"
            ],
            [
             0.4,
             "#fde0ef"
            ],
            [
             0.5,
             "#f7f7f7"
            ],
            [
             0.6,
             "#e6f5d0"
            ],
            [
             0.7,
             "#b8e186"
            ],
            [
             0.8,
             "#7fbc41"
            ],
            [
             0.9,
             "#4d9221"
            ],
            [
             1,
             "#276419"
            ]
           ],
           "sequential": [
            [
             0,
             "#0d0887"
            ],
            [
             0.1111111111111111,
             "#46039f"
            ],
            [
             0.2222222222222222,
             "#7201a8"
            ],
            [
             0.3333333333333333,
             "#9c179e"
            ],
            [
             0.4444444444444444,
             "#bd3786"
            ],
            [
             0.5555555555555556,
             "#d8576b"
            ],
            [
             0.6666666666666666,
             "#ed7953"
            ],
            [
             0.7777777777777778,
             "#fb9f3a"
            ],
            [
             0.8888888888888888,
             "#fdca26"
            ],
            [
             1,
             "#f0f921"
            ]
           ],
           "sequentialminus": [
            [
             0,
             "#0d0887"
            ],
            [
             0.1111111111111111,
             "#46039f"
            ],
            [
             0.2222222222222222,
             "#7201a8"
            ],
            [
             0.3333333333333333,
             "#9c179e"
            ],
            [
             0.4444444444444444,
             "#bd3786"
            ],
            [
             0.5555555555555556,
             "#d8576b"
            ],
            [
             0.6666666666666666,
             "#ed7953"
            ],
            [
             0.7777777777777778,
             "#fb9f3a"
            ],
            [
             0.8888888888888888,
             "#fdca26"
            ],
            [
             1,
             "#f0f921"
            ]
           ]
          },
          "colorway": [
           "#636efa",
           "#EF553B",
           "#00cc96",
           "#ab63fa",
           "#FFA15A",
           "#19d3f3",
           "#FF6692",
           "#B6E880",
           "#FF97FF",
           "#FECB52"
          ],
          "font": {
           "color": "#2a3f5f"
          },
          "geo": {
           "bgcolor": "white",
           "lakecolor": "white",
           "landcolor": "#E5ECF6",
           "showlakes": true,
           "showland": true,
           "subunitcolor": "white"
          },
          "hoverlabel": {
           "align": "left"
          },
          "hovermode": "closest",
          "mapbox": {
           "style": "light"
          },
          "paper_bgcolor": "white",
          "plot_bgcolor": "#E5ECF6",
          "polar": {
           "angularaxis": {
            "gridcolor": "white",
            "linecolor": "white",
            "ticks": ""
           },
           "bgcolor": "#E5ECF6",
           "radialaxis": {
            "gridcolor": "white",
            "linecolor": "white",
            "ticks": ""
           }
          },
          "scene": {
           "xaxis": {
            "backgroundcolor": "#E5ECF6",
            "gridcolor": "white",
            "gridwidth": 2,
            "linecolor": "white",
            "showbackground": true,
            "ticks": "",
            "zerolinecolor": "white"
           },
           "yaxis": {
            "backgroundcolor": "#E5ECF6",
            "gridcolor": "white",
            "gridwidth": 2,
            "linecolor": "white",
            "showbackground": true,
            "ticks": "",
            "zerolinecolor": "white"
           },
           "zaxis": {
            "backgroundcolor": "#E5ECF6",
            "gridcolor": "white",
            "gridwidth": 2,
            "linecolor": "white",
            "showbackground": true,
            "ticks": "",
            "zerolinecolor": "white"
           }
          },
          "shapedefaults": {
           "line": {
            "color": "#2a3f5f"
           }
          },
          "ternary": {
           "aaxis": {
            "gridcolor": "white",
            "linecolor": "white",
            "ticks": ""
           },
           "baxis": {
            "gridcolor": "white",
            "linecolor": "white",
            "ticks": ""
           },
           "bgcolor": "#E5ECF6",
           "caxis": {
            "gridcolor": "white",
            "linecolor": "white",
            "ticks": ""
           }
          },
          "title": {
           "x": 0.05
          },
          "xaxis": {
           "automargin": true,
           "gridcolor": "white",
           "linecolor": "white",
           "ticks": "",
           "title": {
            "standoff": 15
           },
           "zerolinecolor": "white",
           "zerolinewidth": 2
          },
          "yaxis": {
           "automargin": true,
           "gridcolor": "white",
           "linecolor": "white",
           "ticks": "",
           "title": {
            "standoff": 15
           },
           "zerolinecolor": "white",
           "zerolinewidth": 2
          }
         }
        },
        "title": {
         "text": "Density of dividing cells vs Area of Planaria"
        },
        "width": 500,
        "xaxis": {
         "anchor": "y",
         "domain": [
          0,
          1
         ],
         "title": {
          "text": "Area of Planaria (um^2)"
         }
        },
        "yaxis": {
         "anchor": "x",
         "domain": [
          0,
          1
         ],
         "title": {
          "text": "Density of dividing cells"
         }
        }
       }
      }
     },
     "metadata": {},
     "output_type": "display_data"
    }
   ],
   "source": [
    "px.density_heatmap(df, x='Area', y='Density1', width=500, height=400, title='Density of dividing cells vs Area of Planaria', color_continuous_scale='Viridis', labels={'Area':'Area of Planaria (um^2)', 'Density1':'Density of dividing cells'})"
   ]
  },
  {
   "cell_type": "markdown",
   "metadata": {},
   "source": [
    "# Multi-dimensionality of plots"
   ]
  },
  {
   "cell_type": "code",
   "execution_count": 8,
   "metadata": {},
   "outputs": [
    {
     "data": {
      "text/html": [
       "<div>\n",
       "<style scoped>\n",
       "    .dataframe tbody tr th:only-of-type {\n",
       "        vertical-align: middle;\n",
       "    }\n",
       "\n",
       "    .dataframe tbody tr th {\n",
       "        vertical-align: top;\n",
       "    }\n",
       "\n",
       "    .dataframe thead th {\n",
       "        text-align: right;\n",
       "    }\n",
       "</style>\n",
       "<table border=\"1\" class=\"dataframe\">\n",
       "  <thead>\n",
       "    <tr style=\"text-align: right;\">\n",
       "      <th></th>\n",
       "      <th>Time (h)</th>\n",
       "      <th>Time</th>\n",
       "      <th>Density1</th>\n",
       "      <th>std</th>\n",
       "    </tr>\n",
       "  </thead>\n",
       "  <tbody>\n",
       "    <tr>\n",
       "      <th>0</th>\n",
       "      <td>0.166667</td>\n",
       "      <td>10min</td>\n",
       "      <td>79.543070</td>\n",
       "      <td>53.318009</td>\n",
       "    </tr>\n",
       "    <tr>\n",
       "      <th>1</th>\n",
       "      <td>2.000000</td>\n",
       "      <td>2h</td>\n",
       "      <td>301.179342</td>\n",
       "      <td>146.196876</td>\n",
       "    </tr>\n",
       "    <tr>\n",
       "      <th>2</th>\n",
       "      <td>4.000000</td>\n",
       "      <td>4h</td>\n",
       "      <td>435.142120</td>\n",
       "      <td>111.442017</td>\n",
       "    </tr>\n",
       "    <tr>\n",
       "      <th>3</th>\n",
       "      <td>6.000000</td>\n",
       "      <td>6h</td>\n",
       "      <td>314.784813</td>\n",
       "      <td>92.399404</td>\n",
       "    </tr>\n",
       "    <tr>\n",
       "      <th>4</th>\n",
       "      <td>24.000000</td>\n",
       "      <td>1d</td>\n",
       "      <td>248.249922</td>\n",
       "      <td>109.688727</td>\n",
       "    </tr>\n",
       "    <tr>\n",
       "      <th>5</th>\n",
       "      <td>48.000000</td>\n",
       "      <td>2d</td>\n",
       "      <td>267.091725</td>\n",
       "      <td>120.992714</td>\n",
       "    </tr>\n",
       "    <tr>\n",
       "      <th>6</th>\n",
       "      <td>72.000000</td>\n",
       "      <td>3d</td>\n",
       "      <td>233.884053</td>\n",
       "      <td>106.567419</td>\n",
       "    </tr>\n",
       "    <tr>\n",
       "      <th>7</th>\n",
       "      <td>96.000000</td>\n",
       "      <td>4d</td>\n",
       "      <td>156.385530</td>\n",
       "      <td>81.264231</td>\n",
       "    </tr>\n",
       "    <tr>\n",
       "      <th>8</th>\n",
       "      <td>120.000000</td>\n",
       "      <td>5d</td>\n",
       "      <td>114.885260</td>\n",
       "      <td>45.484648</td>\n",
       "    </tr>\n",
       "    <tr>\n",
       "      <th>9</th>\n",
       "      <td>144.000000</td>\n",
       "      <td>6d</td>\n",
       "      <td>85.896908</td>\n",
       "      <td>21.300319</td>\n",
       "    </tr>\n",
       "    <tr>\n",
       "      <th>10</th>\n",
       "      <td>168.000000</td>\n",
       "      <td>7d</td>\n",
       "      <td>93.295131</td>\n",
       "      <td>18.894722</td>\n",
       "    </tr>\n",
       "  </tbody>\n",
       "</table>\n",
       "</div>"
      ],
      "text/plain": [
       "      Time (h)   Time    Density1         std\n",
       "0     0.166667  10min   79.543070   53.318009\n",
       "1     2.000000     2h  301.179342  146.196876\n",
       "2     4.000000     4h  435.142120  111.442017\n",
       "3     6.000000     6h  314.784813   92.399404\n",
       "4    24.000000     1d  248.249922  109.688727\n",
       "5    48.000000     2d  267.091725  120.992714\n",
       "6    72.000000     3d  233.884053  106.567419\n",
       "7    96.000000     4d  156.385530   81.264231\n",
       "8   120.000000     5d  114.885260   45.484648\n",
       "9   144.000000     6d   85.896908   21.300319\n",
       "10  168.000000     7d   93.295131   18.894722"
      ]
     },
     "execution_count": 8,
     "metadata": {},
     "output_type": "execute_result"
    }
   ],
   "source": [
    "agged = df.groupby(['Time (h)', 'Time']).agg(Density1=('Density1', 'mean'), std=('Density1', 'std'), ).reset_index()\n",
    "agged"
   ]
  },
  {
   "cell_type": "code",
   "execution_count": 9,
   "metadata": {},
   "outputs": [
    {
     "data": {
      "application/vnd.plotly.v1+json": {
       "config": {
        "plotlyServerURL": "https://plot.ly"
       },
       "data": [
        {
         "hovertemplate": "Time=%{x}<br>Density1=%{y}<extra></extra>",
         "legendgroup": "",
         "marker": {
          "color": "#636efa",
          "pattern": {
           "shape": ""
          }
         },
         "name": "",
         "orientation": "v",
         "showlegend": false,
         "textposition": "auto",
         "type": "bar",
         "x": [
          "10min",
          "2h",
          "4h",
          "6h",
          "1d",
          "2d",
          "3d",
          "4d",
          "5d",
          "6d",
          "7d"
         ],
         "xaxis": "x",
         "y": {
          "bdata": "7XniqMHiU0Ci1VuV3tJyQNb0yR9GMntA+FQ8mI6sc0DgdTFc/wdvQHHkG7V3sXBAJpI/Kko8bUAAJs1DVoxjQFWIsReouFxArlzf72Z5VUDJyU1s41JXQA==",
          "dtype": "f8"
         },
         "yaxis": "y"
        }
       ],
       "layout": {
        "barmode": "relative",
        "legend": {
         "tracegroupgap": 0
        },
        "margin": {
         "t": 60
        },
        "template": {
         "data": {
          "bar": [
           {
            "error_x": {
             "color": "#2a3f5f"
            },
            "error_y": {
             "color": "#2a3f5f"
            },
            "marker": {
             "line": {
              "color": "#E5ECF6",
              "width": 0.5
             },
             "pattern": {
              "fillmode": "overlay",
              "size": 10,
              "solidity": 0.2
             }
            },
            "type": "bar"
           }
          ],
          "barpolar": [
           {
            "marker": {
             "line": {
              "color": "#E5ECF6",
              "width": 0.5
             },
             "pattern": {
              "fillmode": "overlay",
              "size": 10,
              "solidity": 0.2
             }
            },
            "type": "barpolar"
           }
          ],
          "carpet": [
           {
            "aaxis": {
             "endlinecolor": "#2a3f5f",
             "gridcolor": "white",
             "linecolor": "white",
             "minorgridcolor": "white",
             "startlinecolor": "#2a3f5f"
            },
            "baxis": {
             "endlinecolor": "#2a3f5f",
             "gridcolor": "white",
             "linecolor": "white",
             "minorgridcolor": "white",
             "startlinecolor": "#2a3f5f"
            },
            "type": "carpet"
           }
          ],
          "choropleth": [
           {
            "colorbar": {
             "outlinewidth": 0,
             "ticks": ""
            },
            "type": "choropleth"
           }
          ],
          "contour": [
           {
            "colorbar": {
             "outlinewidth": 0,
             "ticks": ""
            },
            "colorscale": [
             [
              0,
              "#0d0887"
             ],
             [
              0.1111111111111111,
              "#46039f"
             ],
             [
              0.2222222222222222,
              "#7201a8"
             ],
             [
              0.3333333333333333,
              "#9c179e"
             ],
             [
              0.4444444444444444,
              "#bd3786"
             ],
             [
              0.5555555555555556,
              "#d8576b"
             ],
             [
              0.6666666666666666,
              "#ed7953"
             ],
             [
              0.7777777777777778,
              "#fb9f3a"
             ],
             [
              0.8888888888888888,
              "#fdca26"
             ],
             [
              1,
              "#f0f921"
             ]
            ],
            "type": "contour"
           }
          ],
          "contourcarpet": [
           {
            "colorbar": {
             "outlinewidth": 0,
             "ticks": ""
            },
            "type": "contourcarpet"
           }
          ],
          "heatmap": [
           {
            "colorbar": {
             "outlinewidth": 0,
             "ticks": ""
            },
            "colorscale": [
             [
              0,
              "#0d0887"
             ],
             [
              0.1111111111111111,
              "#46039f"
             ],
             [
              0.2222222222222222,
              "#7201a8"
             ],
             [
              0.3333333333333333,
              "#9c179e"
             ],
             [
              0.4444444444444444,
              "#bd3786"
             ],
             [
              0.5555555555555556,
              "#d8576b"
             ],
             [
              0.6666666666666666,
              "#ed7953"
             ],
             [
              0.7777777777777778,
              "#fb9f3a"
             ],
             [
              0.8888888888888888,
              "#fdca26"
             ],
             [
              1,
              "#f0f921"
             ]
            ],
            "type": "heatmap"
           }
          ],
          "histogram": [
           {
            "marker": {
             "pattern": {
              "fillmode": "overlay",
              "size": 10,
              "solidity": 0.2
             }
            },
            "type": "histogram"
           }
          ],
          "histogram2d": [
           {
            "colorbar": {
             "outlinewidth": 0,
             "ticks": ""
            },
            "colorscale": [
             [
              0,
              "#0d0887"
             ],
             [
              0.1111111111111111,
              "#46039f"
             ],
             [
              0.2222222222222222,
              "#7201a8"
             ],
             [
              0.3333333333333333,
              "#9c179e"
             ],
             [
              0.4444444444444444,
              "#bd3786"
             ],
             [
              0.5555555555555556,
              "#d8576b"
             ],
             [
              0.6666666666666666,
              "#ed7953"
             ],
             [
              0.7777777777777778,
              "#fb9f3a"
             ],
             [
              0.8888888888888888,
              "#fdca26"
             ],
             [
              1,
              "#f0f921"
             ]
            ],
            "type": "histogram2d"
           }
          ],
          "histogram2dcontour": [
           {
            "colorbar": {
             "outlinewidth": 0,
             "ticks": ""
            },
            "colorscale": [
             [
              0,
              "#0d0887"
             ],
             [
              0.1111111111111111,
              "#46039f"
             ],
             [
              0.2222222222222222,
              "#7201a8"
             ],
             [
              0.3333333333333333,
              "#9c179e"
             ],
             [
              0.4444444444444444,
              "#bd3786"
             ],
             [
              0.5555555555555556,
              "#d8576b"
             ],
             [
              0.6666666666666666,
              "#ed7953"
             ],
             [
              0.7777777777777778,
              "#fb9f3a"
             ],
             [
              0.8888888888888888,
              "#fdca26"
             ],
             [
              1,
              "#f0f921"
             ]
            ],
            "type": "histogram2dcontour"
           }
          ],
          "mesh3d": [
           {
            "colorbar": {
             "outlinewidth": 0,
             "ticks": ""
            },
            "type": "mesh3d"
           }
          ],
          "parcoords": [
           {
            "line": {
             "colorbar": {
              "outlinewidth": 0,
              "ticks": ""
             }
            },
            "type": "parcoords"
           }
          ],
          "pie": [
           {
            "automargin": true,
            "type": "pie"
           }
          ],
          "scatter": [
           {
            "fillpattern": {
             "fillmode": "overlay",
             "size": 10,
             "solidity": 0.2
            },
            "type": "scatter"
           }
          ],
          "scatter3d": [
           {
            "line": {
             "colorbar": {
              "outlinewidth": 0,
              "ticks": ""
             }
            },
            "marker": {
             "colorbar": {
              "outlinewidth": 0,
              "ticks": ""
             }
            },
            "type": "scatter3d"
           }
          ],
          "scattercarpet": [
           {
            "marker": {
             "colorbar": {
              "outlinewidth": 0,
              "ticks": ""
             }
            },
            "type": "scattercarpet"
           }
          ],
          "scattergeo": [
           {
            "marker": {
             "colorbar": {
              "outlinewidth": 0,
              "ticks": ""
             }
            },
            "type": "scattergeo"
           }
          ],
          "scattergl": [
           {
            "marker": {
             "colorbar": {
              "outlinewidth": 0,
              "ticks": ""
             }
            },
            "type": "scattergl"
           }
          ],
          "scattermap": [
           {
            "marker": {
             "colorbar": {
              "outlinewidth": 0,
              "ticks": ""
             }
            },
            "type": "scattermap"
           }
          ],
          "scattermapbox": [
           {
            "marker": {
             "colorbar": {
              "outlinewidth": 0,
              "ticks": ""
             }
            },
            "type": "scattermapbox"
           }
          ],
          "scatterpolar": [
           {
            "marker": {
             "colorbar": {
              "outlinewidth": 0,
              "ticks": ""
             }
            },
            "type": "scatterpolar"
           }
          ],
          "scatterpolargl": [
           {
            "marker": {
             "colorbar": {
              "outlinewidth": 0,
              "ticks": ""
             }
            },
            "type": "scatterpolargl"
           }
          ],
          "scatterternary": [
           {
            "marker": {
             "colorbar": {
              "outlinewidth": 0,
              "ticks": ""
             }
            },
            "type": "scatterternary"
           }
          ],
          "surface": [
           {
            "colorbar": {
             "outlinewidth": 0,
             "ticks": ""
            },
            "colorscale": [
             [
              0,
              "#0d0887"
             ],
             [
              0.1111111111111111,
              "#46039f"
             ],
             [
              0.2222222222222222,
              "#7201a8"
             ],
             [
              0.3333333333333333,
              "#9c179e"
             ],
             [
              0.4444444444444444,
              "#bd3786"
             ],
             [
              0.5555555555555556,
              "#d8576b"
             ],
             [
              0.6666666666666666,
              "#ed7953"
             ],
             [
              0.7777777777777778,
              "#fb9f3a"
             ],
             [
              0.8888888888888888,
              "#fdca26"
             ],
             [
              1,
              "#f0f921"
             ]
            ],
            "type": "surface"
           }
          ],
          "table": [
           {
            "cells": {
             "fill": {
              "color": "#EBF0F8"
             },
             "line": {
              "color": "white"
             }
            },
            "header": {
             "fill": {
              "color": "#C8D4E3"
             },
             "line": {
              "color": "white"
             }
            },
            "type": "table"
           }
          ]
         },
         "layout": {
          "annotationdefaults": {
           "arrowcolor": "#2a3f5f",
           "arrowhead": 0,
           "arrowwidth": 1
          },
          "autotypenumbers": "strict",
          "coloraxis": {
           "colorbar": {
            "outlinewidth": 0,
            "ticks": ""
           }
          },
          "colorscale": {
           "diverging": [
            [
             0,
             "#8e0152"
            ],
            [
             0.1,
             "#c51b7d"
            ],
            [
             0.2,
             "#de77ae"
            ],
            [
             0.3,
             "#f1b6da"
            ],
            [
             0.4,
             "#fde0ef"
            ],
            [
             0.5,
             "#f7f7f7"
            ],
            [
             0.6,
             "#e6f5d0"
            ],
            [
             0.7,
             "#b8e186"
            ],
            [
             0.8,
             "#7fbc41"
            ],
            [
             0.9,
             "#4d9221"
            ],
            [
             1,
             "#276419"
            ]
           ],
           "sequential": [
            [
             0,
             "#0d0887"
            ],
            [
             0.1111111111111111,
             "#46039f"
            ],
            [
             0.2222222222222222,
             "#7201a8"
            ],
            [
             0.3333333333333333,
             "#9c179e"
            ],
            [
             0.4444444444444444,
             "#bd3786"
            ],
            [
             0.5555555555555556,
             "#d8576b"
            ],
            [
             0.6666666666666666,
             "#ed7953"
            ],
            [
             0.7777777777777778,
             "#fb9f3a"
            ],
            [
             0.8888888888888888,
             "#fdca26"
            ],
            [
             1,
             "#f0f921"
            ]
           ],
           "sequentialminus": [
            [
             0,
             "#0d0887"
            ],
            [
             0.1111111111111111,
             "#46039f"
            ],
            [
             0.2222222222222222,
             "#7201a8"
            ],
            [
             0.3333333333333333,
             "#9c179e"
            ],
            [
             0.4444444444444444,
             "#bd3786"
            ],
            [
             0.5555555555555556,
             "#d8576b"
            ],
            [
             0.6666666666666666,
             "#ed7953"
            ],
            [
             0.7777777777777778,
             "#fb9f3a"
            ],
            [
             0.8888888888888888,
             "#fdca26"
            ],
            [
             1,
             "#f0f921"
            ]
           ]
          },
          "colorway": [
           "#636efa",
           "#EF553B",
           "#00cc96",
           "#ab63fa",
           "#FFA15A",
           "#19d3f3",
           "#FF6692",
           "#B6E880",
           "#FF97FF",
           "#FECB52"
          ],
          "font": {
           "color": "#2a3f5f"
          },
          "geo": {
           "bgcolor": "white",
           "lakecolor": "white",
           "landcolor": "#E5ECF6",
           "showlakes": true,
           "showland": true,
           "subunitcolor": "white"
          },
          "hoverlabel": {
           "align": "left"
          },
          "hovermode": "closest",
          "mapbox": {
           "style": "light"
          },
          "paper_bgcolor": "white",
          "plot_bgcolor": "#E5ECF6",
          "polar": {
           "angularaxis": {
            "gridcolor": "white",
            "linecolor": "white",
            "ticks": ""
           },
           "bgcolor": "#E5ECF6",
           "radialaxis": {
            "gridcolor": "white",
            "linecolor": "white",
            "ticks": ""
           }
          },
          "scene": {
           "xaxis": {
            "backgroundcolor": "#E5ECF6",
            "gridcolor": "white",
            "gridwidth": 2,
            "linecolor": "white",
            "showbackground": true,
            "ticks": "",
            "zerolinecolor": "white"
           },
           "yaxis": {
            "backgroundcolor": "#E5ECF6",
            "gridcolor": "white",
            "gridwidth": 2,
            "linecolor": "white",
            "showbackground": true,
            "ticks": "",
            "zerolinecolor": "white"
           },
           "zaxis": {
            "backgroundcolor": "#E5ECF6",
            "gridcolor": "white",
            "gridwidth": 2,
            "linecolor": "white",
            "showbackground": true,
            "ticks": "",
            "zerolinecolor": "white"
           }
          },
          "shapedefaults": {
           "line": {
            "color": "#2a3f5f"
           }
          },
          "ternary": {
           "aaxis": {
            "gridcolor": "white",
            "linecolor": "white",
            "ticks": ""
           },
           "baxis": {
            "gridcolor": "white",
            "linecolor": "white",
            "ticks": ""
           },
           "bgcolor": "#E5ECF6",
           "caxis": {
            "gridcolor": "white",
            "linecolor": "white",
            "ticks": ""
           }
          },
          "title": {
           "x": 0.05
          },
          "xaxis": {
           "automargin": true,
           "gridcolor": "white",
           "linecolor": "white",
           "ticks": "",
           "title": {
            "standoff": 15
           },
           "zerolinecolor": "white",
           "zerolinewidth": 2
          },
          "yaxis": {
           "automargin": true,
           "gridcolor": "white",
           "linecolor": "white",
           "ticks": "",
           "title": {
            "standoff": 15
           },
           "zerolinecolor": "white",
           "zerolinewidth": 2
          }
         }
        },
        "width": 800,
        "xaxis": {
         "anchor": "y",
         "domain": [
          0,
          1
         ],
         "title": {
          "text": "Time"
         }
        },
        "yaxis": {
         "anchor": "x",
         "domain": [
          0,
          1
         ],
         "title": {
          "text": "Density1"
         }
        }
       }
      }
     },
     "metadata": {},
     "output_type": "display_data"
    }
   ],
   "source": [
    "px.bar(agged, x='Time', y='Density1', width=800)"
   ]
  },
  {
   "cell_type": "code",
   "execution_count": 10,
   "metadata": {},
   "outputs": [
    {
     "data": {
      "application/vnd.plotly.v1+json": {
       "config": {
        "plotlyServerURL": "https://plot.ly"
       },
       "data": [
        {
         "hovertemplate": "Time since feeding=%{x}<br>Density of dividing cells=%{y}<extra></extra>",
         "legendgroup": "",
         "line": {
          "color": "#636efa",
          "dash": "solid"
         },
         "marker": {
          "symbol": "circle"
         },
         "mode": "lines+markers",
         "name": "",
         "orientation": "v",
         "showlegend": false,
         "type": "scatter",
         "x": [
          "10min",
          "2h",
          "4h",
          "6h",
          "1d",
          "2d",
          "3d",
          "4d",
          "5d",
          "6d",
          "7d"
         ],
         "xaxis": "x",
         "y": {
          "bdata": "7XniqMHiU0Ci1VuV3tJyQNb0yR9GMntA+FQ8mI6sc0DgdTFc/wdvQHHkG7V3sXBAJpI/Kko8bUAAJs1DVoxjQFWIsReouFxArlzf72Z5VUDJyU1s41JXQA==",
          "dtype": "f8"
         },
         "yaxis": "y"
        }
       ],
       "layout": {
        "height": 400,
        "legend": {
         "tracegroupgap": 0
        },
        "template": {
         "data": {
          "bar": [
           {
            "error_x": {
             "color": "#2a3f5f"
            },
            "error_y": {
             "color": "#2a3f5f"
            },
            "marker": {
             "line": {
              "color": "#E5ECF6",
              "width": 0.5
             },
             "pattern": {
              "fillmode": "overlay",
              "size": 10,
              "solidity": 0.2
             }
            },
            "type": "bar"
           }
          ],
          "barpolar": [
           {
            "marker": {
             "line": {
              "color": "#E5ECF6",
              "width": 0.5
             },
             "pattern": {
              "fillmode": "overlay",
              "size": 10,
              "solidity": 0.2
             }
            },
            "type": "barpolar"
           }
          ],
          "carpet": [
           {
            "aaxis": {
             "endlinecolor": "#2a3f5f",
             "gridcolor": "white",
             "linecolor": "white",
             "minorgridcolor": "white",
             "startlinecolor": "#2a3f5f"
            },
            "baxis": {
             "endlinecolor": "#2a3f5f",
             "gridcolor": "white",
             "linecolor": "white",
             "minorgridcolor": "white",
             "startlinecolor": "#2a3f5f"
            },
            "type": "carpet"
           }
          ],
          "choropleth": [
           {
            "colorbar": {
             "outlinewidth": 0,
             "ticks": ""
            },
            "type": "choropleth"
           }
          ],
          "contour": [
           {
            "colorbar": {
             "outlinewidth": 0,
             "ticks": ""
            },
            "colorscale": [
             [
              0,
              "#0d0887"
             ],
             [
              0.1111111111111111,
              "#46039f"
             ],
             [
              0.2222222222222222,
              "#7201a8"
             ],
             [
              0.3333333333333333,
              "#9c179e"
             ],
             [
              0.4444444444444444,
              "#bd3786"
             ],
             [
              0.5555555555555556,
              "#d8576b"
             ],
             [
              0.6666666666666666,
              "#ed7953"
             ],
             [
              0.7777777777777778,
              "#fb9f3a"
             ],
             [
              0.8888888888888888,
              "#fdca26"
             ],
             [
              1,
              "#f0f921"
             ]
            ],
            "type": "contour"
           }
          ],
          "contourcarpet": [
           {
            "colorbar": {
             "outlinewidth": 0,
             "ticks": ""
            },
            "type": "contourcarpet"
           }
          ],
          "heatmap": [
           {
            "colorbar": {
             "outlinewidth": 0,
             "ticks": ""
            },
            "colorscale": [
             [
              0,
              "#0d0887"
             ],
             [
              0.1111111111111111,
              "#46039f"
             ],
             [
              0.2222222222222222,
              "#7201a8"
             ],
             [
              0.3333333333333333,
              "#9c179e"
             ],
             [
              0.4444444444444444,
              "#bd3786"
             ],
             [
              0.5555555555555556,
              "#d8576b"
             ],
             [
              0.6666666666666666,
              "#ed7953"
             ],
             [
              0.7777777777777778,
              "#fb9f3a"
             ],
             [
              0.8888888888888888,
              "#fdca26"
             ],
             [
              1,
              "#f0f921"
             ]
            ],
            "type": "heatmap"
           }
          ],
          "histogram": [
           {
            "marker": {
             "pattern": {
              "fillmode": "overlay",
              "size": 10,
              "solidity": 0.2
             }
            },
            "type": "histogram"
           }
          ],
          "histogram2d": [
           {
            "colorbar": {
             "outlinewidth": 0,
             "ticks": ""
            },
            "colorscale": [
             [
              0,
              "#0d0887"
             ],
             [
              0.1111111111111111,
              "#46039f"
             ],
             [
              0.2222222222222222,
              "#7201a8"
             ],
             [
              0.3333333333333333,
              "#9c179e"
             ],
             [
              0.4444444444444444,
              "#bd3786"
             ],
             [
              0.5555555555555556,
              "#d8576b"
             ],
             [
              0.6666666666666666,
              "#ed7953"
             ],
             [
              0.7777777777777778,
              "#fb9f3a"
             ],
             [
              0.8888888888888888,
              "#fdca26"
             ],
             [
              1,
              "#f0f921"
             ]
            ],
            "type": "histogram2d"
           }
          ],
          "histogram2dcontour": [
           {
            "colorbar": {
             "outlinewidth": 0,
             "ticks": ""
            },
            "colorscale": [
             [
              0,
              "#0d0887"
             ],
             [
              0.1111111111111111,
              "#46039f"
             ],
             [
              0.2222222222222222,
              "#7201a8"
             ],
             [
              0.3333333333333333,
              "#9c179e"
             ],
             [
              0.4444444444444444,
              "#bd3786"
             ],
             [
              0.5555555555555556,
              "#d8576b"
             ],
             [
              0.6666666666666666,
              "#ed7953"
             ],
             [
              0.7777777777777778,
              "#fb9f3a"
             ],
             [
              0.8888888888888888,
              "#fdca26"
             ],
             [
              1,
              "#f0f921"
             ]
            ],
            "type": "histogram2dcontour"
           }
          ],
          "mesh3d": [
           {
            "colorbar": {
             "outlinewidth": 0,
             "ticks": ""
            },
            "type": "mesh3d"
           }
          ],
          "parcoords": [
           {
            "line": {
             "colorbar": {
              "outlinewidth": 0,
              "ticks": ""
             }
            },
            "type": "parcoords"
           }
          ],
          "pie": [
           {
            "automargin": true,
            "type": "pie"
           }
          ],
          "scatter": [
           {
            "fillpattern": {
             "fillmode": "overlay",
             "size": 10,
             "solidity": 0.2
            },
            "type": "scatter"
           }
          ],
          "scatter3d": [
           {
            "line": {
             "colorbar": {
              "outlinewidth": 0,
              "ticks": ""
             }
            },
            "marker": {
             "colorbar": {
              "outlinewidth": 0,
              "ticks": ""
             }
            },
            "type": "scatter3d"
           }
          ],
          "scattercarpet": [
           {
            "marker": {
             "colorbar": {
              "outlinewidth": 0,
              "ticks": ""
             }
            },
            "type": "scattercarpet"
           }
          ],
          "scattergeo": [
           {
            "marker": {
             "colorbar": {
              "outlinewidth": 0,
              "ticks": ""
             }
            },
            "type": "scattergeo"
           }
          ],
          "scattergl": [
           {
            "marker": {
             "colorbar": {
              "outlinewidth": 0,
              "ticks": ""
             }
            },
            "type": "scattergl"
           }
          ],
          "scattermap": [
           {
            "marker": {
             "colorbar": {
              "outlinewidth": 0,
              "ticks": ""
             }
            },
            "type": "scattermap"
           }
          ],
          "scattermapbox": [
           {
            "marker": {
             "colorbar": {
              "outlinewidth": 0,
              "ticks": ""
             }
            },
            "type": "scattermapbox"
           }
          ],
          "scatterpolar": [
           {
            "marker": {
             "colorbar": {
              "outlinewidth": 0,
              "ticks": ""
             }
            },
            "type": "scatterpolar"
           }
          ],
          "scatterpolargl": [
           {
            "marker": {
             "colorbar": {
              "outlinewidth": 0,
              "ticks": ""
             }
            },
            "type": "scatterpolargl"
           }
          ],
          "scatterternary": [
           {
            "marker": {
             "colorbar": {
              "outlinewidth": 0,
              "ticks": ""
             }
            },
            "type": "scatterternary"
           }
          ],
          "surface": [
           {
            "colorbar": {
             "outlinewidth": 0,
             "ticks": ""
            },
            "colorscale": [
             [
              0,
              "#0d0887"
             ],
             [
              0.1111111111111111,
              "#46039f"
             ],
             [
              0.2222222222222222,
              "#7201a8"
             ],
             [
              0.3333333333333333,
              "#9c179e"
             ],
             [
              0.4444444444444444,
              "#bd3786"
             ],
             [
              0.5555555555555556,
              "#d8576b"
             ],
             [
              0.6666666666666666,
              "#ed7953"
             ],
             [
              0.7777777777777778,
              "#fb9f3a"
             ],
             [
              0.8888888888888888,
              "#fdca26"
             ],
             [
              1,
              "#f0f921"
             ]
            ],
            "type": "surface"
           }
          ],
          "table": [
           {
            "cells": {
             "fill": {
              "color": "#EBF0F8"
             },
             "line": {
              "color": "white"
             }
            },
            "header": {
             "fill": {
              "color": "#C8D4E3"
             },
             "line": {
              "color": "white"
             }
            },
            "type": "table"
           }
          ]
         },
         "layout": {
          "annotationdefaults": {
           "arrowcolor": "#2a3f5f",
           "arrowhead": 0,
           "arrowwidth": 1
          },
          "autotypenumbers": "strict",
          "coloraxis": {
           "colorbar": {
            "outlinewidth": 0,
            "ticks": ""
           }
          },
          "colorscale": {
           "diverging": [
            [
             0,
             "#8e0152"
            ],
            [
             0.1,
             "#c51b7d"
            ],
            [
             0.2,
             "#de77ae"
            ],
            [
             0.3,
             "#f1b6da"
            ],
            [
             0.4,
             "#fde0ef"
            ],
            [
             0.5,
             "#f7f7f7"
            ],
            [
             0.6,
             "#e6f5d0"
            ],
            [
             0.7,
             "#b8e186"
            ],
            [
             0.8,
             "#7fbc41"
            ],
            [
             0.9,
             "#4d9221"
            ],
            [
             1,
             "#276419"
            ]
           ],
           "sequential": [
            [
             0,
             "#0d0887"
            ],
            [
             0.1111111111111111,
             "#46039f"
            ],
            [
             0.2222222222222222,
             "#7201a8"
            ],
            [
             0.3333333333333333,
             "#9c179e"
            ],
            [
             0.4444444444444444,
             "#bd3786"
            ],
            [
             0.5555555555555556,
             "#d8576b"
            ],
            [
             0.6666666666666666,
             "#ed7953"
            ],
            [
             0.7777777777777778,
             "#fb9f3a"
            ],
            [
             0.8888888888888888,
             "#fdca26"
            ],
            [
             1,
             "#f0f921"
            ]
           ],
           "sequentialminus": [
            [
             0,
             "#0d0887"
            ],
            [
             0.1111111111111111,
             "#46039f"
            ],
            [
             0.2222222222222222,
             "#7201a8"
            ],
            [
             0.3333333333333333,
             "#9c179e"
            ],
            [
             0.4444444444444444,
             "#bd3786"
            ],
            [
             0.5555555555555556,
             "#d8576b"
            ],
            [
             0.6666666666666666,
             "#ed7953"
            ],
            [
             0.7777777777777778,
             "#fb9f3a"
            ],
            [
             0.8888888888888888,
             "#fdca26"
            ],
            [
             1,
             "#f0f921"
            ]
           ]
          },
          "colorway": [
           "#636efa",
           "#EF553B",
           "#00cc96",
           "#ab63fa",
           "#FFA15A",
           "#19d3f3",
           "#FF6692",
           "#B6E880",
           "#FF97FF",
           "#FECB52"
          ],
          "font": {
           "color": "#2a3f5f"
          },
          "geo": {
           "bgcolor": "white",
           "lakecolor": "white",
           "landcolor": "#E5ECF6",
           "showlakes": true,
           "showland": true,
           "subunitcolor": "white"
          },
          "hoverlabel": {
           "align": "left"
          },
          "hovermode": "closest",
          "mapbox": {
           "style": "light"
          },
          "paper_bgcolor": "white",
          "plot_bgcolor": "#E5ECF6",
          "polar": {
           "angularaxis": {
            "gridcolor": "white",
            "linecolor": "white",
            "ticks": ""
           },
           "bgcolor": "#E5ECF6",
           "radialaxis": {
            "gridcolor": "white",
            "linecolor": "white",
            "ticks": ""
           }
          },
          "scene": {
           "xaxis": {
            "backgroundcolor": "#E5ECF6",
            "gridcolor": "white",
            "gridwidth": 2,
            "linecolor": "white",
            "showbackground": true,
            "ticks": "",
            "zerolinecolor": "white"
           },
           "yaxis": {
            "backgroundcolor": "#E5ECF6",
            "gridcolor": "white",
            "gridwidth": 2,
            "linecolor": "white",
            "showbackground": true,
            "ticks": "",
            "zerolinecolor": "white"
           },
           "zaxis": {
            "backgroundcolor": "#E5ECF6",
            "gridcolor": "white",
            "gridwidth": 2,
            "linecolor": "white",
            "showbackground": true,
            "ticks": "",
            "zerolinecolor": "white"
           }
          },
          "shapedefaults": {
           "line": {
            "color": "#2a3f5f"
           }
          },
          "ternary": {
           "aaxis": {
            "gridcolor": "white",
            "linecolor": "white",
            "ticks": ""
           },
           "baxis": {
            "gridcolor": "white",
            "linecolor": "white",
            "ticks": ""
           },
           "bgcolor": "#E5ECF6",
           "caxis": {
            "gridcolor": "white",
            "linecolor": "white",
            "ticks": ""
           }
          },
          "title": {
           "x": 0.05
          },
          "xaxis": {
           "automargin": true,
           "gridcolor": "white",
           "linecolor": "white",
           "ticks": "",
           "title": {
            "standoff": 15
           },
           "zerolinecolor": "white",
           "zerolinewidth": 2
          },
          "yaxis": {
           "automargin": true,
           "gridcolor": "white",
           "linecolor": "white",
           "ticks": "",
           "title": {
            "standoff": 15
           },
           "zerolinecolor": "white",
           "zerolinewidth": 2
          }
         }
        },
        "title": {
         "text": "Density of dividing cells vs Time since feeding"
        },
        "width": 800,
        "xaxis": {
         "anchor": "y",
         "domain": [
          0,
          1
         ],
         "title": {
          "text": "Time since feeding"
         }
        },
        "yaxis": {
         "anchor": "x",
         "domain": [
          0,
          1
         ],
         "title": {
          "text": "Density of dividing cells"
         }
        }
       }
      }
     },
     "metadata": {},
     "output_type": "display_data"
    }
   ],
   "source": [
    "px.line(agged, x='Time', y='Density1', markers=True, width=800, height=400, title='Density of dividing cells vs Time since feeding',labels={'Time':'Time since feeding', 'Density1':'Density of dividing cells'})"
   ]
  },
  {
   "cell_type": "code",
   "execution_count": 11,
   "metadata": {},
   "outputs": [
    {
     "data": {
      "application/vnd.plotly.v1+json": {
       "config": {
        "plotlyServerURL": "https://plot.ly"
       },
       "data": [
        {
         "error_y": {
          "array": {
           "bdata": "85W0h7SoSkAzuejNTEZiQPTk/wJK3FtAeg4Y1I8ZV0C4KHkYFGxbQBocdZ6IP15A2J1Ul1CkWkA1yG4n6VBUQJR2+u0IvkZAPZYGtOFMNUC9cduADOUyQA==",
           "dtype": "f8"
          }
         },
         "hovertemplate": "Time since feeding=%{x}<br>Density of dividing cells=%{y}<extra></extra>",
         "legendgroup": "",
         "line": {
          "color": "#636efa",
          "dash": "solid"
         },
         "marker": {
          "symbol": "circle"
         },
         "mode": "lines+markers",
         "name": "",
         "orientation": "v",
         "showlegend": false,
         "type": "scatter",
         "x": [
          "10min",
          "2h",
          "4h",
          "6h",
          "1d",
          "2d",
          "3d",
          "4d",
          "5d",
          "6d",
          "7d"
         ],
         "xaxis": "x",
         "y": {
          "bdata": "7XniqMHiU0Ci1VuV3tJyQNb0yR9GMntA+FQ8mI6sc0DgdTFc/wdvQHHkG7V3sXBAJpI/Kko8bUAAJs1DVoxjQFWIsReouFxArlzf72Z5VUDJyU1s41JXQA==",
          "dtype": "f8"
         },
         "yaxis": "y"
        }
       ],
       "layout": {
        "height": 400,
        "legend": {
         "tracegroupgap": 0
        },
        "template": {
         "data": {
          "bar": [
           {
            "error_x": {
             "color": "#2a3f5f"
            },
            "error_y": {
             "color": "#2a3f5f"
            },
            "marker": {
             "line": {
              "color": "#E5ECF6",
              "width": 0.5
             },
             "pattern": {
              "fillmode": "overlay",
              "size": 10,
              "solidity": 0.2
             }
            },
            "type": "bar"
           }
          ],
          "barpolar": [
           {
            "marker": {
             "line": {
              "color": "#E5ECF6",
              "width": 0.5
             },
             "pattern": {
              "fillmode": "overlay",
              "size": 10,
              "solidity": 0.2
             }
            },
            "type": "barpolar"
           }
          ],
          "carpet": [
           {
            "aaxis": {
             "endlinecolor": "#2a3f5f",
             "gridcolor": "white",
             "linecolor": "white",
             "minorgridcolor": "white",
             "startlinecolor": "#2a3f5f"
            },
            "baxis": {
             "endlinecolor": "#2a3f5f",
             "gridcolor": "white",
             "linecolor": "white",
             "minorgridcolor": "white",
             "startlinecolor": "#2a3f5f"
            },
            "type": "carpet"
           }
          ],
          "choropleth": [
           {
            "colorbar": {
             "outlinewidth": 0,
             "ticks": ""
            },
            "type": "choropleth"
           }
          ],
          "contour": [
           {
            "colorbar": {
             "outlinewidth": 0,
             "ticks": ""
            },
            "colorscale": [
             [
              0,
              "#0d0887"
             ],
             [
              0.1111111111111111,
              "#46039f"
             ],
             [
              0.2222222222222222,
              "#7201a8"
             ],
             [
              0.3333333333333333,
              "#9c179e"
             ],
             [
              0.4444444444444444,
              "#bd3786"
             ],
             [
              0.5555555555555556,
              "#d8576b"
             ],
             [
              0.6666666666666666,
              "#ed7953"
             ],
             [
              0.7777777777777778,
              "#fb9f3a"
             ],
             [
              0.8888888888888888,
              "#fdca26"
             ],
             [
              1,
              "#f0f921"
             ]
            ],
            "type": "contour"
           }
          ],
          "contourcarpet": [
           {
            "colorbar": {
             "outlinewidth": 0,
             "ticks": ""
            },
            "type": "contourcarpet"
           }
          ],
          "heatmap": [
           {
            "colorbar": {
             "outlinewidth": 0,
             "ticks": ""
            },
            "colorscale": [
             [
              0,
              "#0d0887"
             ],
             [
              0.1111111111111111,
              "#46039f"
             ],
             [
              0.2222222222222222,
              "#7201a8"
             ],
             [
              0.3333333333333333,
              "#9c179e"
             ],
             [
              0.4444444444444444,
              "#bd3786"
             ],
             [
              0.5555555555555556,
              "#d8576b"
             ],
             [
              0.6666666666666666,
              "#ed7953"
             ],
             [
              0.7777777777777778,
              "#fb9f3a"
             ],
             [
              0.8888888888888888,
              "#fdca26"
             ],
             [
              1,
              "#f0f921"
             ]
            ],
            "type": "heatmap"
           }
          ],
          "histogram": [
           {
            "marker": {
             "pattern": {
              "fillmode": "overlay",
              "size": 10,
              "solidity": 0.2
             }
            },
            "type": "histogram"
           }
          ],
          "histogram2d": [
           {
            "colorbar": {
             "outlinewidth": 0,
             "ticks": ""
            },
            "colorscale": [
             [
              0,
              "#0d0887"
             ],
             [
              0.1111111111111111,
              "#46039f"
             ],
             [
              0.2222222222222222,
              "#7201a8"
             ],
             [
              0.3333333333333333,
              "#9c179e"
             ],
             [
              0.4444444444444444,
              "#bd3786"
             ],
             [
              0.5555555555555556,
              "#d8576b"
             ],
             [
              0.6666666666666666,
              "#ed7953"
             ],
             [
              0.7777777777777778,
              "#fb9f3a"
             ],
             [
              0.8888888888888888,
              "#fdca26"
             ],
             [
              1,
              "#f0f921"
             ]
            ],
            "type": "histogram2d"
           }
          ],
          "histogram2dcontour": [
           {
            "colorbar": {
             "outlinewidth": 0,
             "ticks": ""
            },
            "colorscale": [
             [
              0,
              "#0d0887"
             ],
             [
              0.1111111111111111,
              "#46039f"
             ],
             [
              0.2222222222222222,
              "#7201a8"
             ],
             [
              0.3333333333333333,
              "#9c179e"
             ],
             [
              0.4444444444444444,
              "#bd3786"
             ],
             [
              0.5555555555555556,
              "#d8576b"
             ],
             [
              0.6666666666666666,
              "#ed7953"
             ],
             [
              0.7777777777777778,
              "#fb9f3a"
             ],
             [
              0.8888888888888888,
              "#fdca26"
             ],
             [
              1,
              "#f0f921"
             ]
            ],
            "type": "histogram2dcontour"
           }
          ],
          "mesh3d": [
           {
            "colorbar": {
             "outlinewidth": 0,
             "ticks": ""
            },
            "type": "mesh3d"
           }
          ],
          "parcoords": [
           {
            "line": {
             "colorbar": {
              "outlinewidth": 0,
              "ticks": ""
             }
            },
            "type": "parcoords"
           }
          ],
          "pie": [
           {
            "automargin": true,
            "type": "pie"
           }
          ],
          "scatter": [
           {
            "fillpattern": {
             "fillmode": "overlay",
             "size": 10,
             "solidity": 0.2
            },
            "type": "scatter"
           }
          ],
          "scatter3d": [
           {
            "line": {
             "colorbar": {
              "outlinewidth": 0,
              "ticks": ""
             }
            },
            "marker": {
             "colorbar": {
              "outlinewidth": 0,
              "ticks": ""
             }
            },
            "type": "scatter3d"
           }
          ],
          "scattercarpet": [
           {
            "marker": {
             "colorbar": {
              "outlinewidth": 0,
              "ticks": ""
             }
            },
            "type": "scattercarpet"
           }
          ],
          "scattergeo": [
           {
            "marker": {
             "colorbar": {
              "outlinewidth": 0,
              "ticks": ""
             }
            },
            "type": "scattergeo"
           }
          ],
          "scattergl": [
           {
            "marker": {
             "colorbar": {
              "outlinewidth": 0,
              "ticks": ""
             }
            },
            "type": "scattergl"
           }
          ],
          "scattermap": [
           {
            "marker": {
             "colorbar": {
              "outlinewidth": 0,
              "ticks": ""
             }
            },
            "type": "scattermap"
           }
          ],
          "scattermapbox": [
           {
            "marker": {
             "colorbar": {
              "outlinewidth": 0,
              "ticks": ""
             }
            },
            "type": "scattermapbox"
           }
          ],
          "scatterpolar": [
           {
            "marker": {
             "colorbar": {
              "outlinewidth": 0,
              "ticks": ""
             }
            },
            "type": "scatterpolar"
           }
          ],
          "scatterpolargl": [
           {
            "marker": {
             "colorbar": {
              "outlinewidth": 0,
              "ticks": ""
             }
            },
            "type": "scatterpolargl"
           }
          ],
          "scatterternary": [
           {
            "marker": {
             "colorbar": {
              "outlinewidth": 0,
              "ticks": ""
             }
            },
            "type": "scatterternary"
           }
          ],
          "surface": [
           {
            "colorbar": {
             "outlinewidth": 0,
             "ticks": ""
            },
            "colorscale": [
             [
              0,
              "#0d0887"
             ],
             [
              0.1111111111111111,
              "#46039f"
             ],
             [
              0.2222222222222222,
              "#7201a8"
             ],
             [
              0.3333333333333333,
              "#9c179e"
             ],
             [
              0.4444444444444444,
              "#bd3786"
             ],
             [
              0.5555555555555556,
              "#d8576b"
             ],
             [
              0.6666666666666666,
              "#ed7953"
             ],
             [
              0.7777777777777778,
              "#fb9f3a"
             ],
             [
              0.8888888888888888,
              "#fdca26"
             ],
             [
              1,
              "#f0f921"
             ]
            ],
            "type": "surface"
           }
          ],
          "table": [
           {
            "cells": {
             "fill": {
              "color": "#EBF0F8"
             },
             "line": {
              "color": "white"
             }
            },
            "header": {
             "fill": {
              "color": "#C8D4E3"
             },
             "line": {
              "color": "white"
             }
            },
            "type": "table"
           }
          ]
         },
         "layout": {
          "annotationdefaults": {
           "arrowcolor": "#2a3f5f",
           "arrowhead": 0,
           "arrowwidth": 1
          },
          "autotypenumbers": "strict",
          "coloraxis": {
           "colorbar": {
            "outlinewidth": 0,
            "ticks": ""
           }
          },
          "colorscale": {
           "diverging": [
            [
             0,
             "#8e0152"
            ],
            [
             0.1,
             "#c51b7d"
            ],
            [
             0.2,
             "#de77ae"
            ],
            [
             0.3,
             "#f1b6da"
            ],
            [
             0.4,
             "#fde0ef"
            ],
            [
             0.5,
             "#f7f7f7"
            ],
            [
             0.6,
             "#e6f5d0"
            ],
            [
             0.7,
             "#b8e186"
            ],
            [
             0.8,
             "#7fbc41"
            ],
            [
             0.9,
             "#4d9221"
            ],
            [
             1,
             "#276419"
            ]
           ],
           "sequential": [
            [
             0,
             "#0d0887"
            ],
            [
             0.1111111111111111,
             "#46039f"
            ],
            [
             0.2222222222222222,
             "#7201a8"
            ],
            [
             0.3333333333333333,
             "#9c179e"
            ],
            [
             0.4444444444444444,
             "#bd3786"
            ],
            [
             0.5555555555555556,
             "#d8576b"
            ],
            [
             0.6666666666666666,
             "#ed7953"
            ],
            [
             0.7777777777777778,
             "#fb9f3a"
            ],
            [
             0.8888888888888888,
             "#fdca26"
            ],
            [
             1,
             "#f0f921"
            ]
           ],
           "sequentialminus": [
            [
             0,
             "#0d0887"
            ],
            [
             0.1111111111111111,
             "#46039f"
            ],
            [
             0.2222222222222222,
             "#7201a8"
            ],
            [
             0.3333333333333333,
             "#9c179e"
            ],
            [
             0.4444444444444444,
             "#bd3786"
            ],
            [
             0.5555555555555556,
             "#d8576b"
            ],
            [
             0.6666666666666666,
             "#ed7953"
            ],
            [
             0.7777777777777778,
             "#fb9f3a"
            ],
            [
             0.8888888888888888,
             "#fdca26"
            ],
            [
             1,
             "#f0f921"
            ]
           ]
          },
          "colorway": [
           "#636efa",
           "#EF553B",
           "#00cc96",
           "#ab63fa",
           "#FFA15A",
           "#19d3f3",
           "#FF6692",
           "#B6E880",
           "#FF97FF",
           "#FECB52"
          ],
          "font": {
           "color": "#2a3f5f"
          },
          "geo": {
           "bgcolor": "white",
           "lakecolor": "white",
           "landcolor": "#E5ECF6",
           "showlakes": true,
           "showland": true,
           "subunitcolor": "white"
          },
          "hoverlabel": {
           "align": "left"
          },
          "hovermode": "closest",
          "mapbox": {
           "style": "light"
          },
          "paper_bgcolor": "white",
          "plot_bgcolor": "#E5ECF6",
          "polar": {
           "angularaxis": {
            "gridcolor": "white",
            "linecolor": "white",
            "ticks": ""
           },
           "bgcolor": "#E5ECF6",
           "radialaxis": {
            "gridcolor": "white",
            "linecolor": "white",
            "ticks": ""
           }
          },
          "scene": {
           "xaxis": {
            "backgroundcolor": "#E5ECF6",
            "gridcolor": "white",
            "gridwidth": 2,
            "linecolor": "white",
            "showbackground": true,
            "ticks": "",
            "zerolinecolor": "white"
           },
           "yaxis": {
            "backgroundcolor": "#E5ECF6",
            "gridcolor": "white",
            "gridwidth": 2,
            "linecolor": "white",
            "showbackground": true,
            "ticks": "",
            "zerolinecolor": "white"
           },
           "zaxis": {
            "backgroundcolor": "#E5ECF6",
            "gridcolor": "white",
            "gridwidth": 2,
            "linecolor": "white",
            "showbackground": true,
            "ticks": "",
            "zerolinecolor": "white"
           }
          },
          "shapedefaults": {
           "line": {
            "color": "#2a3f5f"
           }
          },
          "ternary": {
           "aaxis": {
            "gridcolor": "white",
            "linecolor": "white",
            "ticks": ""
           },
           "baxis": {
            "gridcolor": "white",
            "linecolor": "white",
            "ticks": ""
           },
           "bgcolor": "#E5ECF6",
           "caxis": {
            "gridcolor": "white",
            "linecolor": "white",
            "ticks": ""
           }
          },
          "title": {
           "x": 0.05
          },
          "xaxis": {
           "automargin": true,
           "gridcolor": "white",
           "linecolor": "white",
           "ticks": "",
           "title": {
            "standoff": 15
           },
           "zerolinecolor": "white",
           "zerolinewidth": 2
          },
          "yaxis": {
           "automargin": true,
           "gridcolor": "white",
           "linecolor": "white",
           "ticks": "",
           "title": {
            "standoff": 15
           },
           "zerolinecolor": "white",
           "zerolinewidth": 2
          }
         }
        },
        "title": {
         "text": "Density of dividing cells vs Time since feeding"
        },
        "width": 800,
        "xaxis": {
         "anchor": "y",
         "domain": [
          0,
          1
         ],
         "title": {
          "text": "Time since feeding"
         }
        },
        "yaxis": {
         "anchor": "x",
         "domain": [
          0,
          1
         ],
         "title": {
          "text": "Density of dividing cells"
         }
        }
       }
      }
     },
     "metadata": {},
     "output_type": "display_data"
    }
   ],
   "source": [
    "px.line(agged, x='Time', y='Density1', markers=True, width=800, height=400, error_y='std', title='Density of dividing cells vs Time since feeding',labels={'Time':'Time since feeding', 'Density1':'Density of dividing cells'})"
   ]
  },
  {
   "cell_type": "code",
   "execution_count": 12,
   "metadata": {},
   "outputs": [],
   "source": [
    "agged = df.groupby(['Time (h)', 'Time', 'Food']).agg(Density1=('Density1', 'mean'), std=('Density1', 'std'),).reset_index()"
   ]
  },
  {
   "cell_type": "code",
   "execution_count": 13,
   "metadata": {},
   "outputs": [
    {
     "data": {
      "application/vnd.plotly.v1+json": {
       "config": {
        "plotlyServerURL": "https://plot.ly"
       },
       "data": [
        {
         "error_y": {
          "array": {
           "bdata": "khBO+ZalL0BtBAo9oOhTQI+xaEkWZFlAx0xs4ywAU0AoipfD4Qs4QCUKcjZu90FAxxjn9YZVRkCMns0b4ZAwQKroCKlmIUFAEXd5qkEYN0BVfRNqLwc0QA==",
           "dtype": "f8"
          }
         },
         "hovertemplate": "Food=Artemia<br>Time since feeding=%{x}<br>Density of dividing cells=%{y}<extra></extra>",
         "legendgroup": "Artemia",
         "line": {
          "color": "#636efa",
          "dash": "solid"
         },
         "marker": {
          "symbol": "circle"
         },
         "mode": "lines+markers",
         "name": "Artemia",
         "orientation": "v",
         "showlegend": true,
         "type": "scatter",
         "x": [
          "10min",
          "2h",
          "4h",
          "6h",
          "1d",
          "2d",
          "3d",
          "4d",
          "5d",
          "6d",
          "7d"
         ],
         "xaxis": "x",
         "y": {
          "bdata": "DquRwBP+RUCxgFNptXVpQA/EaAwRHoFAuk24VyateUDSJAxedzV1QOEZfoG69HVAeplyz+wkcEDyLs1j0wFhQNIlVYLa1lxAE2QOxkvvVkBwljWPZWxXQA==",
          "dtype": "f8"
         },
         "yaxis": "y"
        },
        {
         "error_y": {
          "array": {
           "bdata": "XTij/KBUOECwrODuwKJSQAT/FGp9flJA55GPENLCTUCMGv9T00lNQBSL5ZiyZk9Ar1FSexL8SkB2wU5aXmZTQCcXt8UE6kpAr2xAKrYdMkBmM79jtmEyQA==",
           "dtype": "f8"
          }
         },
         "hovertemplate": "Food=Liver<br>Time since feeding=%{x}<br>Density of dividing cells=%{y}<extra></extra>",
         "legendgroup": "Liver",
         "line": {
          "color": "#EF553B",
          "dash": "solid"
         },
         "marker": {
          "symbol": "circle"
         },
         "mode": "lines+markers",
         "name": "Liver",
         "orientation": "v",
         "showlegend": true,
         "type": "scatter",
         "x": [
          "10min",
          "2h",
          "4h",
          "6h",
          "1d",
          "2d",
          "3d",
          "4d",
          "5d",
          "6d",
          "7d"
         ],
         "xaxis": "x",
         "y": {
          "bdata": "qW82qUpcRkC3mQrxiCJrQCfhnddf1npA2TSxqD0jc0DQACiQ34dyQKN8nMRTRHVAMDfOXFandECTq1j8Rq5uQEIH/1CQWWBAuNnypk9RWECkcYfRXO1YQA==",
          "dtype": "f8"
         },
         "yaxis": "y"
        },
        {
         "error_y": {
          "array": {
           "bdata": "JyjgG5gwPkBm2stKjo9EQLIh9l8z/jdAr3hYGdjUMEDZig3krURBQHCG981yRjJAtjPtRh9bM0C+WJphN5c1QCLN39E6uTBALnauEFPpIkByZjQ0JIUxQA==",
           "dtype": "f8"
          }
         },
         "hovertemplate": "Food=Peptone<br>Time since feeding=%{x}<br>Density of dividing cells=%{y}<extra></extra>",
         "legendgroup": "Peptone",
         "line": {
          "color": "#00cc96",
          "dash": "solid"
         },
         "marker": {
          "symbol": "circle"
         },
         "mode": "lines+markers",
         "name": "Peptone",
         "orientation": "v",
         "showlegend": true,
         "type": "scatter",
         "x": [
          "10min",
          "2h",
          "4h",
          "6h",
          "1d",
          "2d",
          "3d",
          "4d",
          "5d",
          "6d",
          "7d"
         ],
         "xaxis": "x",
         "y": {
          "bdata": "LhUOU03DYUCyc+SSfCx+QGyDsUlPQnVAtsB5zOOMbEC9LFhwoDpbQDRb5GRjbVtAx5jCJmvmV0D0LoPW0OlVQIYWAk6JglJAPticYpkrUUBEVSzk555VQA==",
          "dtype": "f8"
         },
         "yaxis": "y"
        }
       ],
       "layout": {
        "height": 400,
        "legend": {
         "title": {
          "text": "Food"
         },
         "tracegroupgap": 0
        },
        "template": {
         "data": {
          "bar": [
           {
            "error_x": {
             "color": "#2a3f5f"
            },
            "error_y": {
             "color": "#2a3f5f"
            },
            "marker": {
             "line": {
              "color": "#E5ECF6",
              "width": 0.5
             },
             "pattern": {
              "fillmode": "overlay",
              "size": 10,
              "solidity": 0.2
             }
            },
            "type": "bar"
           }
          ],
          "barpolar": [
           {
            "marker": {
             "line": {
              "color": "#E5ECF6",
              "width": 0.5
             },
             "pattern": {
              "fillmode": "overlay",
              "size": 10,
              "solidity": 0.2
             }
            },
            "type": "barpolar"
           }
          ],
          "carpet": [
           {
            "aaxis": {
             "endlinecolor": "#2a3f5f",
             "gridcolor": "white",
             "linecolor": "white",
             "minorgridcolor": "white",
             "startlinecolor": "#2a3f5f"
            },
            "baxis": {
             "endlinecolor": "#2a3f5f",
             "gridcolor": "white",
             "linecolor": "white",
             "minorgridcolor": "white",
             "startlinecolor": "#2a3f5f"
            },
            "type": "carpet"
           }
          ],
          "choropleth": [
           {
            "colorbar": {
             "outlinewidth": 0,
             "ticks": ""
            },
            "type": "choropleth"
           }
          ],
          "contour": [
           {
            "colorbar": {
             "outlinewidth": 0,
             "ticks": ""
            },
            "colorscale": [
             [
              0,
              "#0d0887"
             ],
             [
              0.1111111111111111,
              "#46039f"
             ],
             [
              0.2222222222222222,
              "#7201a8"
             ],
             [
              0.3333333333333333,
              "#9c179e"
             ],
             [
              0.4444444444444444,
              "#bd3786"
             ],
             [
              0.5555555555555556,
              "#d8576b"
             ],
             [
              0.6666666666666666,
              "#ed7953"
             ],
             [
              0.7777777777777778,
              "#fb9f3a"
             ],
             [
              0.8888888888888888,
              "#fdca26"
             ],
             [
              1,
              "#f0f921"
             ]
            ],
            "type": "contour"
           }
          ],
          "contourcarpet": [
           {
            "colorbar": {
             "outlinewidth": 0,
             "ticks": ""
            },
            "type": "contourcarpet"
           }
          ],
          "heatmap": [
           {
            "colorbar": {
             "outlinewidth": 0,
             "ticks": ""
            },
            "colorscale": [
             [
              0,
              "#0d0887"
             ],
             [
              0.1111111111111111,
              "#46039f"
             ],
             [
              0.2222222222222222,
              "#7201a8"
             ],
             [
              0.3333333333333333,
              "#9c179e"
             ],
             [
              0.4444444444444444,
              "#bd3786"
             ],
             [
              0.5555555555555556,
              "#d8576b"
             ],
             [
              0.6666666666666666,
              "#ed7953"
             ],
             [
              0.7777777777777778,
              "#fb9f3a"
             ],
             [
              0.8888888888888888,
              "#fdca26"
             ],
             [
              1,
              "#f0f921"
             ]
            ],
            "type": "heatmap"
           }
          ],
          "histogram": [
           {
            "marker": {
             "pattern": {
              "fillmode": "overlay",
              "size": 10,
              "solidity": 0.2
             }
            },
            "type": "histogram"
           }
          ],
          "histogram2d": [
           {
            "colorbar": {
             "outlinewidth": 0,
             "ticks": ""
            },
            "colorscale": [
             [
              0,
              "#0d0887"
             ],
             [
              0.1111111111111111,
              "#46039f"
             ],
             [
              0.2222222222222222,
              "#7201a8"
             ],
             [
              0.3333333333333333,
              "#9c179e"
             ],
             [
              0.4444444444444444,
              "#bd3786"
             ],
             [
              0.5555555555555556,
              "#d8576b"
             ],
             [
              0.6666666666666666,
              "#ed7953"
             ],
             [
              0.7777777777777778,
              "#fb9f3a"
             ],
             [
              0.8888888888888888,
              "#fdca26"
             ],
             [
              1,
              "#f0f921"
             ]
            ],
            "type": "histogram2d"
           }
          ],
          "histogram2dcontour": [
           {
            "colorbar": {
             "outlinewidth": 0,
             "ticks": ""
            },
            "colorscale": [
             [
              0,
              "#0d0887"
             ],
             [
              0.1111111111111111,
              "#46039f"
             ],
             [
              0.2222222222222222,
              "#7201a8"
             ],
             [
              0.3333333333333333,
              "#9c179e"
             ],
             [
              0.4444444444444444,
              "#bd3786"
             ],
             [
              0.5555555555555556,
              "#d8576b"
             ],
             [
              0.6666666666666666,
              "#ed7953"
             ],
             [
              0.7777777777777778,
              "#fb9f3a"
             ],
             [
              0.8888888888888888,
              "#fdca26"
             ],
             [
              1,
              "#f0f921"
             ]
            ],
            "type": "histogram2dcontour"
           }
          ],
          "mesh3d": [
           {
            "colorbar": {
             "outlinewidth": 0,
             "ticks": ""
            },
            "type": "mesh3d"
           }
          ],
          "parcoords": [
           {
            "line": {
             "colorbar": {
              "outlinewidth": 0,
              "ticks": ""
             }
            },
            "type": "parcoords"
           }
          ],
          "pie": [
           {
            "automargin": true,
            "type": "pie"
           }
          ],
          "scatter": [
           {
            "fillpattern": {
             "fillmode": "overlay",
             "size": 10,
             "solidity": 0.2
            },
            "type": "scatter"
           }
          ],
          "scatter3d": [
           {
            "line": {
             "colorbar": {
              "outlinewidth": 0,
              "ticks": ""
             }
            },
            "marker": {
             "colorbar": {
              "outlinewidth": 0,
              "ticks": ""
             }
            },
            "type": "scatter3d"
           }
          ],
          "scattercarpet": [
           {
            "marker": {
             "colorbar": {
              "outlinewidth": 0,
              "ticks": ""
             }
            },
            "type": "scattercarpet"
           }
          ],
          "scattergeo": [
           {
            "marker": {
             "colorbar": {
              "outlinewidth": 0,
              "ticks": ""
             }
            },
            "type": "scattergeo"
           }
          ],
          "scattergl": [
           {
            "marker": {
             "colorbar": {
              "outlinewidth": 0,
              "ticks": ""
             }
            },
            "type": "scattergl"
           }
          ],
          "scattermap": [
           {
            "marker": {
             "colorbar": {
              "outlinewidth": 0,
              "ticks": ""
             }
            },
            "type": "scattermap"
           }
          ],
          "scattermapbox": [
           {
            "marker": {
             "colorbar": {
              "outlinewidth": 0,
              "ticks": ""
             }
            },
            "type": "scattermapbox"
           }
          ],
          "scatterpolar": [
           {
            "marker": {
             "colorbar": {
              "outlinewidth": 0,
              "ticks": ""
             }
            },
            "type": "scatterpolar"
           }
          ],
          "scatterpolargl": [
           {
            "marker": {
             "colorbar": {
              "outlinewidth": 0,
              "ticks": ""
             }
            },
            "type": "scatterpolargl"
           }
          ],
          "scatterternary": [
           {
            "marker": {
             "colorbar": {
              "outlinewidth": 0,
              "ticks": ""
             }
            },
            "type": "scatterternary"
           }
          ],
          "surface": [
           {
            "colorbar": {
             "outlinewidth": 0,
             "ticks": ""
            },
            "colorscale": [
             [
              0,
              "#0d0887"
             ],
             [
              0.1111111111111111,
              "#46039f"
             ],
             [
              0.2222222222222222,
              "#7201a8"
             ],
             [
              0.3333333333333333,
              "#9c179e"
             ],
             [
              0.4444444444444444,
              "#bd3786"
             ],
             [
              0.5555555555555556,
              "#d8576b"
             ],
             [
              0.6666666666666666,
              "#ed7953"
             ],
             [
              0.7777777777777778,
              "#fb9f3a"
             ],
             [
              0.8888888888888888,
              "#fdca26"
             ],
             [
              1,
              "#f0f921"
             ]
            ],
            "type": "surface"
           }
          ],
          "table": [
           {
            "cells": {
             "fill": {
              "color": "#EBF0F8"
             },
             "line": {
              "color": "white"
             }
            },
            "header": {
             "fill": {
              "color": "#C8D4E3"
             },
             "line": {
              "color": "white"
             }
            },
            "type": "table"
           }
          ]
         },
         "layout": {
          "annotationdefaults": {
           "arrowcolor": "#2a3f5f",
           "arrowhead": 0,
           "arrowwidth": 1
          },
          "autotypenumbers": "strict",
          "coloraxis": {
           "colorbar": {
            "outlinewidth": 0,
            "ticks": ""
           }
          },
          "colorscale": {
           "diverging": [
            [
             0,
             "#8e0152"
            ],
            [
             0.1,
             "#c51b7d"
            ],
            [
             0.2,
             "#de77ae"
            ],
            [
             0.3,
             "#f1b6da"
            ],
            [
             0.4,
             "#fde0ef"
            ],
            [
             0.5,
             "#f7f7f7"
            ],
            [
             0.6,
             "#e6f5d0"
            ],
            [
             0.7,
             "#b8e186"
            ],
            [
             0.8,
             "#7fbc41"
            ],
            [
             0.9,
             "#4d9221"
            ],
            [
             1,
             "#276419"
            ]
           ],
           "sequential": [
            [
             0,
             "#0d0887"
            ],
            [
             0.1111111111111111,
             "#46039f"
            ],
            [
             0.2222222222222222,
             "#7201a8"
            ],
            [
             0.3333333333333333,
             "#9c179e"
            ],
            [
             0.4444444444444444,
             "#bd3786"
            ],
            [
             0.5555555555555556,
             "#d8576b"
            ],
            [
             0.6666666666666666,
             "#ed7953"
            ],
            [
             0.7777777777777778,
             "#fb9f3a"
            ],
            [
             0.8888888888888888,
             "#fdca26"
            ],
            [
             1,
             "#f0f921"
            ]
           ],
           "sequentialminus": [
            [
             0,
             "#0d0887"
            ],
            [
             0.1111111111111111,
             "#46039f"
            ],
            [
             0.2222222222222222,
             "#7201a8"
            ],
            [
             0.3333333333333333,
             "#9c179e"
            ],
            [
             0.4444444444444444,
             "#bd3786"
            ],
            [
             0.5555555555555556,
             "#d8576b"
            ],
            [
             0.6666666666666666,
             "#ed7953"
            ],
            [
             0.7777777777777778,
             "#fb9f3a"
            ],
            [
             0.8888888888888888,
             "#fdca26"
            ],
            [
             1,
             "#f0f921"
            ]
           ]
          },
          "colorway": [
           "#636efa",
           "#EF553B",
           "#00cc96",
           "#ab63fa",
           "#FFA15A",
           "#19d3f3",
           "#FF6692",
           "#B6E880",
           "#FF97FF",
           "#FECB52"
          ],
          "font": {
           "color": "#2a3f5f"
          },
          "geo": {
           "bgcolor": "white",
           "lakecolor": "white",
           "landcolor": "#E5ECF6",
           "showlakes": true,
           "showland": true,
           "subunitcolor": "white"
          },
          "hoverlabel": {
           "align": "left"
          },
          "hovermode": "closest",
          "mapbox": {
           "style": "light"
          },
          "paper_bgcolor": "white",
          "plot_bgcolor": "#E5ECF6",
          "polar": {
           "angularaxis": {
            "gridcolor": "white",
            "linecolor": "white",
            "ticks": ""
           },
           "bgcolor": "#E5ECF6",
           "radialaxis": {
            "gridcolor": "white",
            "linecolor": "white",
            "ticks": ""
           }
          },
          "scene": {
           "xaxis": {
            "backgroundcolor": "#E5ECF6",
            "gridcolor": "white",
            "gridwidth": 2,
            "linecolor": "white",
            "showbackground": true,
            "ticks": "",
            "zerolinecolor": "white"
           },
           "yaxis": {
            "backgroundcolor": "#E5ECF6",
            "gridcolor": "white",
            "gridwidth": 2,
            "linecolor": "white",
            "showbackground": true,
            "ticks": "",
            "zerolinecolor": "white"
           },
           "zaxis": {
            "backgroundcolor": "#E5ECF6",
            "gridcolor": "white",
            "gridwidth": 2,
            "linecolor": "white",
            "showbackground": true,
            "ticks": "",
            "zerolinecolor": "white"
           }
          },
          "shapedefaults": {
           "line": {
            "color": "#2a3f5f"
           }
          },
          "ternary": {
           "aaxis": {
            "gridcolor": "white",
            "linecolor": "white",
            "ticks": ""
           },
           "baxis": {
            "gridcolor": "white",
            "linecolor": "white",
            "ticks": ""
           },
           "bgcolor": "#E5ECF6",
           "caxis": {
            "gridcolor": "white",
            "linecolor": "white",
            "ticks": ""
           }
          },
          "title": {
           "x": 0.05
          },
          "xaxis": {
           "automargin": true,
           "gridcolor": "white",
           "linecolor": "white",
           "ticks": "",
           "title": {
            "standoff": 15
           },
           "zerolinecolor": "white",
           "zerolinewidth": 2
          },
          "yaxis": {
           "automargin": true,
           "gridcolor": "white",
           "linecolor": "white",
           "ticks": "",
           "title": {
            "standoff": 15
           },
           "zerolinecolor": "white",
           "zerolinewidth": 2
          }
         }
        },
        "title": {
         "text": "Density of dividing cells vs Time since feeding"
        },
        "width": 800,
        "xaxis": {
         "anchor": "y",
         "domain": [
          0,
          1
         ],
         "title": {
          "text": "Time since feeding"
         }
        },
        "yaxis": {
         "anchor": "x",
         "domain": [
          0,
          1
         ],
         "title": {
          "text": "Density of dividing cells"
         }
        }
       }
      }
     },
     "metadata": {},
     "output_type": "display_data"
    }
   ],
   "source": [
    "px.line(agged, x='Time', y='Density1', markers=True, width=800, height=400, color='Food', error_y='std', title='Density of dividing cells vs Time since feeding',labels={'Time':'Time since feeding', 'Density1':'Density of dividing cells'})\n",
    "# Note this is interactive, try clicking (or double clicking) on one of the Food types in the legend on the right"
   ]
  },
  {
   "cell_type": "code",
   "execution_count": 14,
   "metadata": {},
   "outputs": [
    {
     "data": {
      "application/vnd.plotly.v1+json": {
       "config": {
        "plotlyServerURL": "https://plot.ly"
       },
       "data": [
        {
         "error_y": {
          "array": {
           "bdata": "khBO+ZalL0BtBAo9oOhTQI+xaEkWZFlAx0xs4ywAU0AoipfD4Qs4QCUKcjZu90FAxxjn9YZVRkCMns0b4ZAwQKroCKlmIUFAEXd5qkEYN0BVfRNqLwc0QA==",
           "dtype": "f8"
          }
         },
         "hovertemplate": "Food=Artemia<br>Time since feeding=%{x}<br>Density of dividing cells=%{y}<extra></extra>",
         "legendgroup": "",
         "line": {
          "color": "#636efa",
          "dash": "solid"
         },
         "marker": {
          "symbol": "circle"
         },
         "mode": "lines+markers",
         "name": "",
         "orientation": "v",
         "showlegend": false,
         "type": "scatter",
         "x": [
          "10min",
          "2h",
          "4h",
          "6h",
          "1d",
          "2d",
          "3d",
          "4d",
          "5d",
          "6d",
          "7d"
         ],
         "xaxis": "x",
         "y": {
          "bdata": "DquRwBP+RUCxgFNptXVpQA/EaAwRHoFAuk24VyateUDSJAxedzV1QOEZfoG69HVAeplyz+wkcEDyLs1j0wFhQNIlVYLa1lxAE2QOxkvvVkBwljWPZWxXQA==",
          "dtype": "f8"
         },
         "yaxis": "y"
        },
        {
         "error_y": {
          "array": {
           "bdata": "XTij/KBUOECwrODuwKJSQAT/FGp9flJA55GPENLCTUCMGv9T00lNQBSL5ZiyZk9Ar1FSexL8SkB2wU5aXmZTQCcXt8UE6kpAr2xAKrYdMkBmM79jtmEyQA==",
           "dtype": "f8"
          }
         },
         "hovertemplate": "Food=Liver<br>Time since feeding=%{x}<br>Density of dividing cells=%{y}<extra></extra>",
         "legendgroup": "",
         "line": {
          "color": "#636efa",
          "dash": "solid"
         },
         "marker": {
          "symbol": "circle"
         },
         "mode": "lines+markers",
         "name": "",
         "orientation": "v",
         "showlegend": false,
         "type": "scatter",
         "x": [
          "10min",
          "2h",
          "4h",
          "6h",
          "1d",
          "2d",
          "3d",
          "4d",
          "5d",
          "6d",
          "7d"
         ],
         "xaxis": "x2",
         "y": {
          "bdata": "qW82qUpcRkC3mQrxiCJrQCfhnddf1npA2TSxqD0jc0DQACiQ34dyQKN8nMRTRHVAMDfOXFandECTq1j8Rq5uQEIH/1CQWWBAuNnypk9RWECkcYfRXO1YQA==",
          "dtype": "f8"
         },
         "yaxis": "y2"
        },
        {
         "error_y": {
          "array": {
           "bdata": "JyjgG5gwPkBm2stKjo9EQLIh9l8z/jdAr3hYGdjUMEDZig3krURBQHCG981yRjJAtjPtRh9bM0C+WJphN5c1QCLN39E6uTBALnauEFPpIkByZjQ0JIUxQA==",
           "dtype": "f8"
          }
         },
         "hovertemplate": "Food=Peptone<br>Time since feeding=%{x}<br>Density of dividing cells=%{y}<extra></extra>",
         "legendgroup": "",
         "line": {
          "color": "#636efa",
          "dash": "solid"
         },
         "marker": {
          "symbol": "circle"
         },
         "mode": "lines+markers",
         "name": "",
         "orientation": "v",
         "showlegend": false,
         "type": "scatter",
         "x": [
          "10min",
          "2h",
          "4h",
          "6h",
          "1d",
          "2d",
          "3d",
          "4d",
          "5d",
          "6d",
          "7d"
         ],
         "xaxis": "x3",
         "y": {
          "bdata": "LhUOU03DYUCyc+SSfCx+QGyDsUlPQnVAtsB5zOOMbEC9LFhwoDpbQDRb5GRjbVtAx5jCJmvmV0D0LoPW0OlVQIYWAk6JglJAPticYpkrUUBEVSzk555VQA==",
          "dtype": "f8"
         },
         "yaxis": "y3"
        }
       ],
       "layout": {
        "annotations": [
         {
          "font": {},
          "showarrow": false,
          "text": "Food=Artemia",
          "x": 0.15999999999999998,
          "xanchor": "center",
          "xref": "paper",
          "y": 1,
          "yanchor": "bottom",
          "yref": "paper"
         },
         {
          "font": {},
          "showarrow": false,
          "text": "Food=Liver",
          "x": 0.49999999999999994,
          "xanchor": "center",
          "xref": "paper",
          "y": 1,
          "yanchor": "bottom",
          "yref": "paper"
         },
         {
          "font": {},
          "showarrow": false,
          "text": "Food=Peptone",
          "x": 0.8399999999999999,
          "xanchor": "center",
          "xref": "paper",
          "y": 1,
          "yanchor": "bottom",
          "yref": "paper"
         }
        ],
        "height": 400,
        "legend": {
         "tracegroupgap": 0
        },
        "template": {
         "data": {
          "bar": [
           {
            "error_x": {
             "color": "#2a3f5f"
            },
            "error_y": {
             "color": "#2a3f5f"
            },
            "marker": {
             "line": {
              "color": "#E5ECF6",
              "width": 0.5
             },
             "pattern": {
              "fillmode": "overlay",
              "size": 10,
              "solidity": 0.2
             }
            },
            "type": "bar"
           }
          ],
          "barpolar": [
           {
            "marker": {
             "line": {
              "color": "#E5ECF6",
              "width": 0.5
             },
             "pattern": {
              "fillmode": "overlay",
              "size": 10,
              "solidity": 0.2
             }
            },
            "type": "barpolar"
           }
          ],
          "carpet": [
           {
            "aaxis": {
             "endlinecolor": "#2a3f5f",
             "gridcolor": "white",
             "linecolor": "white",
             "minorgridcolor": "white",
             "startlinecolor": "#2a3f5f"
            },
            "baxis": {
             "endlinecolor": "#2a3f5f",
             "gridcolor": "white",
             "linecolor": "white",
             "minorgridcolor": "white",
             "startlinecolor": "#2a3f5f"
            },
            "type": "carpet"
           }
          ],
          "choropleth": [
           {
            "colorbar": {
             "outlinewidth": 0,
             "ticks": ""
            },
            "type": "choropleth"
           }
          ],
          "contour": [
           {
            "colorbar": {
             "outlinewidth": 0,
             "ticks": ""
            },
            "colorscale": [
             [
              0,
              "#0d0887"
             ],
             [
              0.1111111111111111,
              "#46039f"
             ],
             [
              0.2222222222222222,
              "#7201a8"
             ],
             [
              0.3333333333333333,
              "#9c179e"
             ],
             [
              0.4444444444444444,
              "#bd3786"
             ],
             [
              0.5555555555555556,
              "#d8576b"
             ],
             [
              0.6666666666666666,
              "#ed7953"
             ],
             [
              0.7777777777777778,
              "#fb9f3a"
             ],
             [
              0.8888888888888888,
              "#fdca26"
             ],
             [
              1,
              "#f0f921"
             ]
            ],
            "type": "contour"
           }
          ],
          "contourcarpet": [
           {
            "colorbar": {
             "outlinewidth": 0,
             "ticks": ""
            },
            "type": "contourcarpet"
           }
          ],
          "heatmap": [
           {
            "colorbar": {
             "outlinewidth": 0,
             "ticks": ""
            },
            "colorscale": [
             [
              0,
              "#0d0887"
             ],
             [
              0.1111111111111111,
              "#46039f"
             ],
             [
              0.2222222222222222,
              "#7201a8"
             ],
             [
              0.3333333333333333,
              "#9c179e"
             ],
             [
              0.4444444444444444,
              "#bd3786"
             ],
             [
              0.5555555555555556,
              "#d8576b"
             ],
             [
              0.6666666666666666,
              "#ed7953"
             ],
             [
              0.7777777777777778,
              "#fb9f3a"
             ],
             [
              0.8888888888888888,
              "#fdca26"
             ],
             [
              1,
              "#f0f921"
             ]
            ],
            "type": "heatmap"
           }
          ],
          "histogram": [
           {
            "marker": {
             "pattern": {
              "fillmode": "overlay",
              "size": 10,
              "solidity": 0.2
             }
            },
            "type": "histogram"
           }
          ],
          "histogram2d": [
           {
            "colorbar": {
             "outlinewidth": 0,
             "ticks": ""
            },
            "colorscale": [
             [
              0,
              "#0d0887"
             ],
             [
              0.1111111111111111,
              "#46039f"
             ],
             [
              0.2222222222222222,
              "#7201a8"
             ],
             [
              0.3333333333333333,
              "#9c179e"
             ],
             [
              0.4444444444444444,
              "#bd3786"
             ],
             [
              0.5555555555555556,
              "#d8576b"
             ],
             [
              0.6666666666666666,
              "#ed7953"
             ],
             [
              0.7777777777777778,
              "#fb9f3a"
             ],
             [
              0.8888888888888888,
              "#fdca26"
             ],
             [
              1,
              "#f0f921"
             ]
            ],
            "type": "histogram2d"
           }
          ],
          "histogram2dcontour": [
           {
            "colorbar": {
             "outlinewidth": 0,
             "ticks": ""
            },
            "colorscale": [
             [
              0,
              "#0d0887"
             ],
             [
              0.1111111111111111,
              "#46039f"
             ],
             [
              0.2222222222222222,
              "#7201a8"
             ],
             [
              0.3333333333333333,
              "#9c179e"
             ],
             [
              0.4444444444444444,
              "#bd3786"
             ],
             [
              0.5555555555555556,
              "#d8576b"
             ],
             [
              0.6666666666666666,
              "#ed7953"
             ],
             [
              0.7777777777777778,
              "#fb9f3a"
             ],
             [
              0.8888888888888888,
              "#fdca26"
             ],
             [
              1,
              "#f0f921"
             ]
            ],
            "type": "histogram2dcontour"
           }
          ],
          "mesh3d": [
           {
            "colorbar": {
             "outlinewidth": 0,
             "ticks": ""
            },
            "type": "mesh3d"
           }
          ],
          "parcoords": [
           {
            "line": {
             "colorbar": {
              "outlinewidth": 0,
              "ticks": ""
             }
            },
            "type": "parcoords"
           }
          ],
          "pie": [
           {
            "automargin": true,
            "type": "pie"
           }
          ],
          "scatter": [
           {
            "fillpattern": {
             "fillmode": "overlay",
             "size": 10,
             "solidity": 0.2
            },
            "type": "scatter"
           }
          ],
          "scatter3d": [
           {
            "line": {
             "colorbar": {
              "outlinewidth": 0,
              "ticks": ""
             }
            },
            "marker": {
             "colorbar": {
              "outlinewidth": 0,
              "ticks": ""
             }
            },
            "type": "scatter3d"
           }
          ],
          "scattercarpet": [
           {
            "marker": {
             "colorbar": {
              "outlinewidth": 0,
              "ticks": ""
             }
            },
            "type": "scattercarpet"
           }
          ],
          "scattergeo": [
           {
            "marker": {
             "colorbar": {
              "outlinewidth": 0,
              "ticks": ""
             }
            },
            "type": "scattergeo"
           }
          ],
          "scattergl": [
           {
            "marker": {
             "colorbar": {
              "outlinewidth": 0,
              "ticks": ""
             }
            },
            "type": "scattergl"
           }
          ],
          "scattermap": [
           {
            "marker": {
             "colorbar": {
              "outlinewidth": 0,
              "ticks": ""
             }
            },
            "type": "scattermap"
           }
          ],
          "scattermapbox": [
           {
            "marker": {
             "colorbar": {
              "outlinewidth": 0,
              "ticks": ""
             }
            },
            "type": "scattermapbox"
           }
          ],
          "scatterpolar": [
           {
            "marker": {
             "colorbar": {
              "outlinewidth": 0,
              "ticks": ""
             }
            },
            "type": "scatterpolar"
           }
          ],
          "scatterpolargl": [
           {
            "marker": {
             "colorbar": {
              "outlinewidth": 0,
              "ticks": ""
             }
            },
            "type": "scatterpolargl"
           }
          ],
          "scatterternary": [
           {
            "marker": {
             "colorbar": {
              "outlinewidth": 0,
              "ticks": ""
             }
            },
            "type": "scatterternary"
           }
          ],
          "surface": [
           {
            "colorbar": {
             "outlinewidth": 0,
             "ticks": ""
            },
            "colorscale": [
             [
              0,
              "#0d0887"
             ],
             [
              0.1111111111111111,
              "#46039f"
             ],
             [
              0.2222222222222222,
              "#7201a8"
             ],
             [
              0.3333333333333333,
              "#9c179e"
             ],
             [
              0.4444444444444444,
              "#bd3786"
             ],
             [
              0.5555555555555556,
              "#d8576b"
             ],
             [
              0.6666666666666666,
              "#ed7953"
             ],
             [
              0.7777777777777778,
              "#fb9f3a"
             ],
             [
              0.8888888888888888,
              "#fdca26"
             ],
             [
              1,
              "#f0f921"
             ]
            ],
            "type": "surface"
           }
          ],
          "table": [
           {
            "cells": {
             "fill": {
              "color": "#EBF0F8"
             },
             "line": {
              "color": "white"
             }
            },
            "header": {
             "fill": {
              "color": "#C8D4E3"
             },
             "line": {
              "color": "white"
             }
            },
            "type": "table"
           }
          ]
         },
         "layout": {
          "annotationdefaults": {
           "arrowcolor": "#2a3f5f",
           "arrowhead": 0,
           "arrowwidth": 1
          },
          "autotypenumbers": "strict",
          "coloraxis": {
           "colorbar": {
            "outlinewidth": 0,
            "ticks": ""
           }
          },
          "colorscale": {
           "diverging": [
            [
             0,
             "#8e0152"
            ],
            [
             0.1,
             "#c51b7d"
            ],
            [
             0.2,
             "#de77ae"
            ],
            [
             0.3,
             "#f1b6da"
            ],
            [
             0.4,
             "#fde0ef"
            ],
            [
             0.5,
             "#f7f7f7"
            ],
            [
             0.6,
             "#e6f5d0"
            ],
            [
             0.7,
             "#b8e186"
            ],
            [
             0.8,
             "#7fbc41"
            ],
            [
             0.9,
             "#4d9221"
            ],
            [
             1,
             "#276419"
            ]
           ],
           "sequential": [
            [
             0,
             "#0d0887"
            ],
            [
             0.1111111111111111,
             "#46039f"
            ],
            [
             0.2222222222222222,
             "#7201a8"
            ],
            [
             0.3333333333333333,
             "#9c179e"
            ],
            [
             0.4444444444444444,
             "#bd3786"
            ],
            [
             0.5555555555555556,
             "#d8576b"
            ],
            [
             0.6666666666666666,
             "#ed7953"
            ],
            [
             0.7777777777777778,
             "#fb9f3a"
            ],
            [
             0.8888888888888888,
             "#fdca26"
            ],
            [
             1,
             "#f0f921"
            ]
           ],
           "sequentialminus": [
            [
             0,
             "#0d0887"
            ],
            [
             0.1111111111111111,
             "#46039f"
            ],
            [
             0.2222222222222222,
             "#7201a8"
            ],
            [
             0.3333333333333333,
             "#9c179e"
            ],
            [
             0.4444444444444444,
             "#bd3786"
            ],
            [
             0.5555555555555556,
             "#d8576b"
            ],
            [
             0.6666666666666666,
             "#ed7953"
            ],
            [
             0.7777777777777778,
             "#fb9f3a"
            ],
            [
             0.8888888888888888,
             "#fdca26"
            ],
            [
             1,
             "#f0f921"
            ]
           ]
          },
          "colorway": [
           "#636efa",
           "#EF553B",
           "#00cc96",
           "#ab63fa",
           "#FFA15A",
           "#19d3f3",
           "#FF6692",
           "#B6E880",
           "#FF97FF",
           "#FECB52"
          ],
          "font": {
           "color": "#2a3f5f"
          },
          "geo": {
           "bgcolor": "white",
           "lakecolor": "white",
           "landcolor": "#E5ECF6",
           "showlakes": true,
           "showland": true,
           "subunitcolor": "white"
          },
          "hoverlabel": {
           "align": "left"
          },
          "hovermode": "closest",
          "mapbox": {
           "style": "light"
          },
          "paper_bgcolor": "white",
          "plot_bgcolor": "#E5ECF6",
          "polar": {
           "angularaxis": {
            "gridcolor": "white",
            "linecolor": "white",
            "ticks": ""
           },
           "bgcolor": "#E5ECF6",
           "radialaxis": {
            "gridcolor": "white",
            "linecolor": "white",
            "ticks": ""
           }
          },
          "scene": {
           "xaxis": {
            "backgroundcolor": "#E5ECF6",
            "gridcolor": "white",
            "gridwidth": 2,
            "linecolor": "white",
            "showbackground": true,
            "ticks": "",
            "zerolinecolor": "white"
           },
           "yaxis": {
            "backgroundcolor": "#E5ECF6",
            "gridcolor": "white",
            "gridwidth": 2,
            "linecolor": "white",
            "showbackground": true,
            "ticks": "",
            "zerolinecolor": "white"
           },
           "zaxis": {
            "backgroundcolor": "#E5ECF6",
            "gridcolor": "white",
            "gridwidth": 2,
            "linecolor": "white",
            "showbackground": true,
            "ticks": "",
            "zerolinecolor": "white"
           }
          },
          "shapedefaults": {
           "line": {
            "color": "#2a3f5f"
           }
          },
          "ternary": {
           "aaxis": {
            "gridcolor": "white",
            "linecolor": "white",
            "ticks": ""
           },
           "baxis": {
            "gridcolor": "white",
            "linecolor": "white",
            "ticks": ""
           },
           "bgcolor": "#E5ECF6",
           "caxis": {
            "gridcolor": "white",
            "linecolor": "white",
            "ticks": ""
           }
          },
          "title": {
           "x": 0.05
          },
          "xaxis": {
           "automargin": true,
           "gridcolor": "white",
           "linecolor": "white",
           "ticks": "",
           "title": {
            "standoff": 15
           },
           "zerolinecolor": "white",
           "zerolinewidth": 2
          },
          "yaxis": {
           "automargin": true,
           "gridcolor": "white",
           "linecolor": "white",
           "ticks": "",
           "title": {
            "standoff": 15
           },
           "zerolinecolor": "white",
           "zerolinewidth": 2
          }
         }
        },
        "title": {
         "text": "Density of dividing cells vs Time since feeding"
        },
        "width": 800,
        "xaxis": {
         "anchor": "y",
         "domain": [
          0,
          0.31999999999999995
         ],
         "title": {
          "text": "Time since feeding"
         }
        },
        "xaxis2": {
         "anchor": "y2",
         "domain": [
          0.33999999999999997,
          0.6599999999999999
         ],
         "matches": "x",
         "title": {
          "text": "Time since feeding"
         }
        },
        "xaxis3": {
         "anchor": "y3",
         "domain": [
          0.6799999999999999,
          0.9999999999999999
         ],
         "matches": "x",
         "title": {
          "text": "Time since feeding"
         }
        },
        "yaxis": {
         "anchor": "x",
         "domain": [
          0,
          1
         ],
         "title": {
          "text": "Density of dividing cells"
         }
        },
        "yaxis2": {
         "anchor": "x2",
         "domain": [
          0,
          1
         ],
         "matches": "y",
         "showticklabels": false
        },
        "yaxis3": {
         "anchor": "x3",
         "domain": [
          0,
          1
         ],
         "matches": "y",
         "showticklabels": false
        }
       }
      }
     },
     "metadata": {},
     "output_type": "display_data"
    }
   ],
   "source": [
    "px.line(agged, x='Time', y='Density1', facet_col='Food', markers=True, width=800, height=400, error_y='std', title='Density of dividing cells vs Time since feeding',labels={'Time':'Time since feeding', 'Density1':'Density of dividing cells'})"
   ]
  },
  {
   "cell_type": "code",
   "execution_count": 15,
   "metadata": {},
   "outputs": [
    {
     "data": {
      "application/vnd.plotly.v1+json": {
       "config": {
        "plotlyServerURL": "https://plot.ly"
       },
       "data": [
        {
         "error_y": {
          "array": {
           "bdata": "khBO+ZalL0BtBAo9oOhTQI+xaEkWZFlAx0xs4ywAU0AoipfD4Qs4QCUKcjZu90FAxxjn9YZVRkCMns0b4ZAwQKroCKlmIUFAEXd5qkEYN0BVfRNqLwc0QA==",
           "dtype": "f8"
          }
         },
         "hovertemplate": "Food=Artemia<br>Time since feeding=%{x}<br>Density of dividing cells=%{y}<extra></extra>",
         "legendgroup": "",
         "line": {
          "color": "#636efa",
          "dash": "solid"
         },
         "marker": {
          "symbol": "circle"
         },
         "mode": "lines+markers",
         "name": "",
         "orientation": "v",
         "showlegend": false,
         "type": "scatter",
         "x": [
          "10min",
          "2h",
          "4h",
          "6h",
          "1d",
          "2d",
          "3d",
          "4d",
          "5d",
          "6d",
          "7d"
         ],
         "xaxis": "x3",
         "y": {
          "bdata": "DquRwBP+RUCxgFNptXVpQA/EaAwRHoFAuk24VyateUDSJAxedzV1QOEZfoG69HVAeplyz+wkcEDyLs1j0wFhQNIlVYLa1lxAE2QOxkvvVkBwljWPZWxXQA==",
          "dtype": "f8"
         },
         "yaxis": "y3"
        },
        {
         "error_y": {
          "array": {
           "bdata": "XTij/KBUOECwrODuwKJSQAT/FGp9flJA55GPENLCTUCMGv9T00lNQBSL5ZiyZk9Ar1FSexL8SkB2wU5aXmZTQCcXt8UE6kpAr2xAKrYdMkBmM79jtmEyQA==",
           "dtype": "f8"
          }
         },
         "hovertemplate": "Food=Liver<br>Time since feeding=%{x}<br>Density of dividing cells=%{y}<extra></extra>",
         "legendgroup": "",
         "line": {
          "color": "#636efa",
          "dash": "solid"
         },
         "marker": {
          "symbol": "circle"
         },
         "mode": "lines+markers",
         "name": "",
         "orientation": "v",
         "showlegend": false,
         "type": "scatter",
         "x": [
          "10min",
          "2h",
          "4h",
          "6h",
          "1d",
          "2d",
          "3d",
          "4d",
          "5d",
          "6d",
          "7d"
         ],
         "xaxis": "x2",
         "y": {
          "bdata": "qW82qUpcRkC3mQrxiCJrQCfhnddf1npA2TSxqD0jc0DQACiQ34dyQKN8nMRTRHVAMDfOXFandECTq1j8Rq5uQEIH/1CQWWBAuNnypk9RWECkcYfRXO1YQA==",
          "dtype": "f8"
         },
         "yaxis": "y2"
        },
        {
         "error_y": {
          "array": {
           "bdata": "JyjgG5gwPkBm2stKjo9EQLIh9l8z/jdAr3hYGdjUMEDZig3krURBQHCG981yRjJAtjPtRh9bM0C+WJphN5c1QCLN39E6uTBALnauEFPpIkByZjQ0JIUxQA==",
           "dtype": "f8"
          }
         },
         "hovertemplate": "Food=Peptone<br>Time since feeding=%{x}<br>Density of dividing cells=%{y}<extra></extra>",
         "legendgroup": "",
         "line": {
          "color": "#636efa",
          "dash": "solid"
         },
         "marker": {
          "symbol": "circle"
         },
         "mode": "lines+markers",
         "name": "",
         "orientation": "v",
         "showlegend": false,
         "type": "scatter",
         "x": [
          "10min",
          "2h",
          "4h",
          "6h",
          "1d",
          "2d",
          "3d",
          "4d",
          "5d",
          "6d",
          "7d"
         ],
         "xaxis": "x",
         "y": {
          "bdata": "LhUOU03DYUCyc+SSfCx+QGyDsUlPQnVAtsB5zOOMbEC9LFhwoDpbQDRb5GRjbVtAx5jCJmvmV0D0LoPW0OlVQIYWAk6JglJAPticYpkrUUBEVSzk555VQA==",
          "dtype": "f8"
         },
         "yaxis": "y"
        }
       ],
       "layout": {
        "annotations": [
         {
          "font": {},
          "showarrow": false,
          "text": "Food=Peptone",
          "textangle": 90,
          "x": 0.98,
          "xanchor": "left",
          "xref": "paper",
          "y": 0.15666666666666665,
          "yanchor": "middle",
          "yref": "paper"
         },
         {
          "font": {},
          "showarrow": false,
          "text": "Food=Liver",
          "textangle": 90,
          "x": 0.98,
          "xanchor": "left",
          "xref": "paper",
          "y": 0.4999999999999999,
          "yanchor": "middle",
          "yref": "paper"
         },
         {
          "font": {},
          "showarrow": false,
          "text": "Food=Artemia",
          "textangle": 90,
          "x": 0.98,
          "xanchor": "left",
          "xref": "paper",
          "y": 0.8433333333333332,
          "yanchor": "middle",
          "yref": "paper"
         }
        ],
        "height": 800,
        "legend": {
         "tracegroupgap": 0
        },
        "template": {
         "data": {
          "bar": [
           {
            "error_x": {
             "color": "#2a3f5f"
            },
            "error_y": {
             "color": "#2a3f5f"
            },
            "marker": {
             "line": {
              "color": "#E5ECF6",
              "width": 0.5
             },
             "pattern": {
              "fillmode": "overlay",
              "size": 10,
              "solidity": 0.2
             }
            },
            "type": "bar"
           }
          ],
          "barpolar": [
           {
            "marker": {
             "line": {
              "color": "#E5ECF6",
              "width": 0.5
             },
             "pattern": {
              "fillmode": "overlay",
              "size": 10,
              "solidity": 0.2
             }
            },
            "type": "barpolar"
           }
          ],
          "carpet": [
           {
            "aaxis": {
             "endlinecolor": "#2a3f5f",
             "gridcolor": "white",
             "linecolor": "white",
             "minorgridcolor": "white",
             "startlinecolor": "#2a3f5f"
            },
            "baxis": {
             "endlinecolor": "#2a3f5f",
             "gridcolor": "white",
             "linecolor": "white",
             "minorgridcolor": "white",
             "startlinecolor": "#2a3f5f"
            },
            "type": "carpet"
           }
          ],
          "choropleth": [
           {
            "colorbar": {
             "outlinewidth": 0,
             "ticks": ""
            },
            "type": "choropleth"
           }
          ],
          "contour": [
           {
            "colorbar": {
             "outlinewidth": 0,
             "ticks": ""
            },
            "colorscale": [
             [
              0,
              "#0d0887"
             ],
             [
              0.1111111111111111,
              "#46039f"
             ],
             [
              0.2222222222222222,
              "#7201a8"
             ],
             [
              0.3333333333333333,
              "#9c179e"
             ],
             [
              0.4444444444444444,
              "#bd3786"
             ],
             [
              0.5555555555555556,
              "#d8576b"
             ],
             [
              0.6666666666666666,
              "#ed7953"
             ],
             [
              0.7777777777777778,
              "#fb9f3a"
             ],
             [
              0.8888888888888888,
              "#fdca26"
             ],
             [
              1,
              "#f0f921"
             ]
            ],
            "type": "contour"
           }
          ],
          "contourcarpet": [
           {
            "colorbar": {
             "outlinewidth": 0,
             "ticks": ""
            },
            "type": "contourcarpet"
           }
          ],
          "heatmap": [
           {
            "colorbar": {
             "outlinewidth": 0,
             "ticks": ""
            },
            "colorscale": [
             [
              0,
              "#0d0887"
             ],
             [
              0.1111111111111111,
              "#46039f"
             ],
             [
              0.2222222222222222,
              "#7201a8"
             ],
             [
              0.3333333333333333,
              "#9c179e"
             ],
             [
              0.4444444444444444,
              "#bd3786"
             ],
             [
              0.5555555555555556,
              "#d8576b"
             ],
             [
              0.6666666666666666,
              "#ed7953"
             ],
             [
              0.7777777777777778,
              "#fb9f3a"
             ],
             [
              0.8888888888888888,
              "#fdca26"
             ],
             [
              1,
              "#f0f921"
             ]
            ],
            "type": "heatmap"
           }
          ],
          "histogram": [
           {
            "marker": {
             "pattern": {
              "fillmode": "overlay",
              "size": 10,
              "solidity": 0.2
             }
            },
            "type": "histogram"
           }
          ],
          "histogram2d": [
           {
            "colorbar": {
             "outlinewidth": 0,
             "ticks": ""
            },
            "colorscale": [
             [
              0,
              "#0d0887"
             ],
             [
              0.1111111111111111,
              "#46039f"
             ],
             [
              0.2222222222222222,
              "#7201a8"
             ],
             [
              0.3333333333333333,
              "#9c179e"
             ],
             [
              0.4444444444444444,
              "#bd3786"
             ],
             [
              0.5555555555555556,
              "#d8576b"
             ],
             [
              0.6666666666666666,
              "#ed7953"
             ],
             [
              0.7777777777777778,
              "#fb9f3a"
             ],
             [
              0.8888888888888888,
              "#fdca26"
             ],
             [
              1,
              "#f0f921"
             ]
            ],
            "type": "histogram2d"
           }
          ],
          "histogram2dcontour": [
           {
            "colorbar": {
             "outlinewidth": 0,
             "ticks": ""
            },
            "colorscale": [
             [
              0,
              "#0d0887"
             ],
             [
              0.1111111111111111,
              "#46039f"
             ],
             [
              0.2222222222222222,
              "#7201a8"
             ],
             [
              0.3333333333333333,
              "#9c179e"
             ],
             [
              0.4444444444444444,
              "#bd3786"
             ],
             [
              0.5555555555555556,
              "#d8576b"
             ],
             [
              0.6666666666666666,
              "#ed7953"
             ],
             [
              0.7777777777777778,
              "#fb9f3a"
             ],
             [
              0.8888888888888888,
              "#fdca26"
             ],
             [
              1,
              "#f0f921"
             ]
            ],
            "type": "histogram2dcontour"
           }
          ],
          "mesh3d": [
           {
            "colorbar": {
             "outlinewidth": 0,
             "ticks": ""
            },
            "type": "mesh3d"
           }
          ],
          "parcoords": [
           {
            "line": {
             "colorbar": {
              "outlinewidth": 0,
              "ticks": ""
             }
            },
            "type": "parcoords"
           }
          ],
          "pie": [
           {
            "automargin": true,
            "type": "pie"
           }
          ],
          "scatter": [
           {
            "fillpattern": {
             "fillmode": "overlay",
             "size": 10,
             "solidity": 0.2
            },
            "type": "scatter"
           }
          ],
          "scatter3d": [
           {
            "line": {
             "colorbar": {
              "outlinewidth": 0,
              "ticks": ""
             }
            },
            "marker": {
             "colorbar": {
              "outlinewidth": 0,
              "ticks": ""
             }
            },
            "type": "scatter3d"
           }
          ],
          "scattercarpet": [
           {
            "marker": {
             "colorbar": {
              "outlinewidth": 0,
              "ticks": ""
             }
            },
            "type": "scattercarpet"
           }
          ],
          "scattergeo": [
           {
            "marker": {
             "colorbar": {
              "outlinewidth": 0,
              "ticks": ""
             }
            },
            "type": "scattergeo"
           }
          ],
          "scattergl": [
           {
            "marker": {
             "colorbar": {
              "outlinewidth": 0,
              "ticks": ""
             }
            },
            "type": "scattergl"
           }
          ],
          "scattermap": [
           {
            "marker": {
             "colorbar": {
              "outlinewidth": 0,
              "ticks": ""
             }
            },
            "type": "scattermap"
           }
          ],
          "scattermapbox": [
           {
            "marker": {
             "colorbar": {
              "outlinewidth": 0,
              "ticks": ""
             }
            },
            "type": "scattermapbox"
           }
          ],
          "scatterpolar": [
           {
            "marker": {
             "colorbar": {
              "outlinewidth": 0,
              "ticks": ""
             }
            },
            "type": "scatterpolar"
           }
          ],
          "scatterpolargl": [
           {
            "marker": {
             "colorbar": {
              "outlinewidth": 0,
              "ticks": ""
             }
            },
            "type": "scatterpolargl"
           }
          ],
          "scatterternary": [
           {
            "marker": {
             "colorbar": {
              "outlinewidth": 0,
              "ticks": ""
             }
            },
            "type": "scatterternary"
           }
          ],
          "surface": [
           {
            "colorbar": {
             "outlinewidth": 0,
             "ticks": ""
            },
            "colorscale": [
             [
              0,
              "#0d0887"
             ],
             [
              0.1111111111111111,
              "#46039f"
             ],
             [
              0.2222222222222222,
              "#7201a8"
             ],
             [
              0.3333333333333333,
              "#9c179e"
             ],
             [
              0.4444444444444444,
              "#bd3786"
             ],
             [
              0.5555555555555556,
              "#d8576b"
             ],
             [
              0.6666666666666666,
              "#ed7953"
             ],
             [
              0.7777777777777778,
              "#fb9f3a"
             ],
             [
              0.8888888888888888,
              "#fdca26"
             ],
             [
              1,
              "#f0f921"
             ]
            ],
            "type": "surface"
           }
          ],
          "table": [
           {
            "cells": {
             "fill": {
              "color": "#EBF0F8"
             },
             "line": {
              "color": "white"
             }
            },
            "header": {
             "fill": {
              "color": "#C8D4E3"
             },
             "line": {
              "color": "white"
             }
            },
            "type": "table"
           }
          ]
         },
         "layout": {
          "annotationdefaults": {
           "arrowcolor": "#2a3f5f",
           "arrowhead": 0,
           "arrowwidth": 1
          },
          "autotypenumbers": "strict",
          "coloraxis": {
           "colorbar": {
            "outlinewidth": 0,
            "ticks": ""
           }
          },
          "colorscale": {
           "diverging": [
            [
             0,
             "#8e0152"
            ],
            [
             0.1,
             "#c51b7d"
            ],
            [
             0.2,
             "#de77ae"
            ],
            [
             0.3,
             "#f1b6da"
            ],
            [
             0.4,
             "#fde0ef"
            ],
            [
             0.5,
             "#f7f7f7"
            ],
            [
             0.6,
             "#e6f5d0"
            ],
            [
             0.7,
             "#b8e186"
            ],
            [
             0.8,
             "#7fbc41"
            ],
            [
             0.9,
             "#4d9221"
            ],
            [
             1,
             "#276419"
            ]
           ],
           "sequential": [
            [
             0,
             "#0d0887"
            ],
            [
             0.1111111111111111,
             "#46039f"
            ],
            [
             0.2222222222222222,
             "#7201a8"
            ],
            [
             0.3333333333333333,
             "#9c179e"
            ],
            [
             0.4444444444444444,
             "#bd3786"
            ],
            [
             0.5555555555555556,
             "#d8576b"
            ],
            [
             0.6666666666666666,
             "#ed7953"
            ],
            [
             0.7777777777777778,
             "#fb9f3a"
            ],
            [
             0.8888888888888888,
             "#fdca26"
            ],
            [
             1,
             "#f0f921"
            ]
           ],
           "sequentialminus": [
            [
             0,
             "#0d0887"
            ],
            [
             0.1111111111111111,
             "#46039f"
            ],
            [
             0.2222222222222222,
             "#7201a8"
            ],
            [
             0.3333333333333333,
             "#9c179e"
            ],
            [
             0.4444444444444444,
             "#bd3786"
            ],
            [
             0.5555555555555556,
             "#d8576b"
            ],
            [
             0.6666666666666666,
             "#ed7953"
            ],
            [
             0.7777777777777778,
             "#fb9f3a"
            ],
            [
             0.8888888888888888,
             "#fdca26"
            ],
            [
             1,
             "#f0f921"
            ]
           ]
          },
          "colorway": [
           "#636efa",
           "#EF553B",
           "#00cc96",
           "#ab63fa",
           "#FFA15A",
           "#19d3f3",
           "#FF6692",
           "#B6E880",
           "#FF97FF",
           "#FECB52"
          ],
          "font": {
           "color": "#2a3f5f"
          },
          "geo": {
           "bgcolor": "white",
           "lakecolor": "white",
           "landcolor": "#E5ECF6",
           "showlakes": true,
           "showland": true,
           "subunitcolor": "white"
          },
          "hoverlabel": {
           "align": "left"
          },
          "hovermode": "closest",
          "mapbox": {
           "style": "light"
          },
          "paper_bgcolor": "white",
          "plot_bgcolor": "#E5ECF6",
          "polar": {
           "angularaxis": {
            "gridcolor": "white",
            "linecolor": "white",
            "ticks": ""
           },
           "bgcolor": "#E5ECF6",
           "radialaxis": {
            "gridcolor": "white",
            "linecolor": "white",
            "ticks": ""
           }
          },
          "scene": {
           "xaxis": {
            "backgroundcolor": "#E5ECF6",
            "gridcolor": "white",
            "gridwidth": 2,
            "linecolor": "white",
            "showbackground": true,
            "ticks": "",
            "zerolinecolor": "white"
           },
           "yaxis": {
            "backgroundcolor": "#E5ECF6",
            "gridcolor": "white",
            "gridwidth": 2,
            "linecolor": "white",
            "showbackground": true,
            "ticks": "",
            "zerolinecolor": "white"
           },
           "zaxis": {
            "backgroundcolor": "#E5ECF6",
            "gridcolor": "white",
            "gridwidth": 2,
            "linecolor": "white",
            "showbackground": true,
            "ticks": "",
            "zerolinecolor": "white"
           }
          },
          "shapedefaults": {
           "line": {
            "color": "#2a3f5f"
           }
          },
          "ternary": {
           "aaxis": {
            "gridcolor": "white",
            "linecolor": "white",
            "ticks": ""
           },
           "baxis": {
            "gridcolor": "white",
            "linecolor": "white",
            "ticks": ""
           },
           "bgcolor": "#E5ECF6",
           "caxis": {
            "gridcolor": "white",
            "linecolor": "white",
            "ticks": ""
           }
          },
          "title": {
           "x": 0.05
          },
          "xaxis": {
           "automargin": true,
           "gridcolor": "white",
           "linecolor": "white",
           "ticks": "",
           "title": {
            "standoff": 15
           },
           "zerolinecolor": "white",
           "zerolinewidth": 2
          },
          "yaxis": {
           "automargin": true,
           "gridcolor": "white",
           "linecolor": "white",
           "ticks": "",
           "title": {
            "standoff": 15
           },
           "zerolinecolor": "white",
           "zerolinewidth": 2
          }
         }
        },
        "title": {
         "text": "Density of dividing cells vs Time since feeding"
        },
        "width": 800,
        "xaxis": {
         "anchor": "y",
         "domain": [
          0,
          0.98
         ],
         "title": {
          "text": "Time since feeding"
         }
        },
        "xaxis2": {
         "anchor": "y2",
         "domain": [
          0,
          0.98
         ],
         "matches": "x",
         "showticklabels": false
        },
        "xaxis3": {
         "anchor": "y3",
         "domain": [
          0,
          0.98
         ],
         "matches": "x",
         "showticklabels": false
        },
        "yaxis": {
         "anchor": "x",
         "domain": [
          0,
          0.3133333333333333
         ],
         "title": {
          "text": "Density of dividing cells"
         }
        },
        "yaxis2": {
         "anchor": "x2",
         "domain": [
          0.34333333333333327,
          0.6566666666666665
         ],
         "matches": "y",
         "title": {
          "text": "Density of dividing cells"
         }
        },
        "yaxis3": {
         "anchor": "x3",
         "domain": [
          0.6866666666666665,
          0.9999999999999998
         ],
         "matches": "y",
         "title": {
          "text": "Density of dividing cells"
         }
        }
       }
      }
     },
     "metadata": {},
     "output_type": "display_data"
    }
   ],
   "source": [
    "px.line(agged, x='Time', y='Density1', facet_row='Food', markers=True, width=800, height=800, error_y='std', title='Density of dividing cells vs Time since feeding',labels={'Time':'Time since feeding', 'Density1':'Density of dividing cells'})"
   ]
  },
  {
   "cell_type": "markdown",
   "metadata": {},
   "source": [
    "### ***Exercise:  See if you can make a plot which puts the different foods next to each other, but breaks out the times into separate plots.  This gets to be a bit crowded, use px.box? to see if there is an argument that can help tidy that up."
   ]
  },
  {
   "cell_type": "code",
   "execution_count": null,
   "metadata": {},
   "outputs": [],
   "source": []
  },
  {
   "cell_type": "code",
   "execution_count": 16,
   "metadata": {},
   "outputs": [
    {
     "data": {
      "application/vnd.plotly.v1+json": {
       "config": {
        "plotlyServerURL": "https://plot.ly"
       },
       "data": [
        {
         "hovertemplate": "Food=Artemia<br>Time since feeding=%{x}<br>Density of dividing cells=%{y}<extra></extra>",
         "legendgroup": "Artemia",
         "line": {
          "color": "#636efa",
          "dash": "solid"
         },
         "marker": {
          "symbol": "circle"
         },
         "mode": "lines+markers",
         "name": "Artemia",
         "orientation": "v",
         "showlegend": true,
         "type": "scatter",
         "x": [
          "10min",
          "2h",
          "4h",
          "6h",
          "1d",
          "2d",
          "3d",
          "4d",
          "5d",
          "6d",
          "7d"
         ],
         "xaxis": "x",
         "y": {
          "bdata": "DquRwBP+RUCxgFNptXVpQA/EaAwRHoFAuk24VyateUDSJAxedzV1QOEZfoG69HVAeplyz+wkcEDyLs1j0wFhQNIlVYLa1lxAE2QOxkvvVkBwljWPZWxXQA==",
          "dtype": "f8"
         },
         "yaxis": "y"
        },
        {
         "hovertemplate": "Food=Liver<br>Time since feeding=%{x}<br>Density of dividing cells=%{y}<extra></extra>",
         "legendgroup": "Liver",
         "line": {
          "color": "#636efa",
          "dash": "solid"
         },
         "marker": {
          "symbol": "diamond"
         },
         "mode": "lines+markers",
         "name": "Liver",
         "orientation": "v",
         "showlegend": true,
         "type": "scatter",
         "x": [
          "10min",
          "2h",
          "4h",
          "6h",
          "1d",
          "2d",
          "3d",
          "4d",
          "5d",
          "6d",
          "7d"
         ],
         "xaxis": "x",
         "y": {
          "bdata": "qW82qUpcRkC3mQrxiCJrQCfhnddf1npA2TSxqD0jc0DQACiQ34dyQKN8nMRTRHVAMDfOXFandECTq1j8Rq5uQEIH/1CQWWBAuNnypk9RWECkcYfRXO1YQA==",
          "dtype": "f8"
         },
         "yaxis": "y"
        },
        {
         "hovertemplate": "Food=Peptone<br>Time since feeding=%{x}<br>Density of dividing cells=%{y}<extra></extra>",
         "legendgroup": "Peptone",
         "line": {
          "color": "#636efa",
          "dash": "solid"
         },
         "marker": {
          "symbol": "square"
         },
         "mode": "lines+markers",
         "name": "Peptone",
         "orientation": "v",
         "showlegend": true,
         "type": "scatter",
         "x": [
          "10min",
          "2h",
          "4h",
          "6h",
          "1d",
          "2d",
          "3d",
          "4d",
          "5d",
          "6d",
          "7d"
         ],
         "xaxis": "x",
         "y": {
          "bdata": "LhUOU03DYUCyc+SSfCx+QGyDsUlPQnVAtsB5zOOMbEC9LFhwoDpbQDRb5GRjbVtAx5jCJmvmV0D0LoPW0OlVQIYWAk6JglJAPticYpkrUUBEVSzk555VQA==",
          "dtype": "f8"
         },
         "yaxis": "y"
        }
       ],
       "layout": {
        "height": 600,
        "legend": {
         "title": {
          "text": "Food"
         },
         "tracegroupgap": 0
        },
        "template": {
         "data": {
          "bar": [
           {
            "error_x": {
             "color": "#2a3f5f"
            },
            "error_y": {
             "color": "#2a3f5f"
            },
            "marker": {
             "line": {
              "color": "#E5ECF6",
              "width": 0.5
             },
             "pattern": {
              "fillmode": "overlay",
              "size": 10,
              "solidity": 0.2
             }
            },
            "type": "bar"
           }
          ],
          "barpolar": [
           {
            "marker": {
             "line": {
              "color": "#E5ECF6",
              "width": 0.5
             },
             "pattern": {
              "fillmode": "overlay",
              "size": 10,
              "solidity": 0.2
             }
            },
            "type": "barpolar"
           }
          ],
          "carpet": [
           {
            "aaxis": {
             "endlinecolor": "#2a3f5f",
             "gridcolor": "white",
             "linecolor": "white",
             "minorgridcolor": "white",
             "startlinecolor": "#2a3f5f"
            },
            "baxis": {
             "endlinecolor": "#2a3f5f",
             "gridcolor": "white",
             "linecolor": "white",
             "minorgridcolor": "white",
             "startlinecolor": "#2a3f5f"
            },
            "type": "carpet"
           }
          ],
          "choropleth": [
           {
            "colorbar": {
             "outlinewidth": 0,
             "ticks": ""
            },
            "type": "choropleth"
           }
          ],
          "contour": [
           {
            "colorbar": {
             "outlinewidth": 0,
             "ticks": ""
            },
            "colorscale": [
             [
              0,
              "#0d0887"
             ],
             [
              0.1111111111111111,
              "#46039f"
             ],
             [
              0.2222222222222222,
              "#7201a8"
             ],
             [
              0.3333333333333333,
              "#9c179e"
             ],
             [
              0.4444444444444444,
              "#bd3786"
             ],
             [
              0.5555555555555556,
              "#d8576b"
             ],
             [
              0.6666666666666666,
              "#ed7953"
             ],
             [
              0.7777777777777778,
              "#fb9f3a"
             ],
             [
              0.8888888888888888,
              "#fdca26"
             ],
             [
              1,
              "#f0f921"
             ]
            ],
            "type": "contour"
           }
          ],
          "contourcarpet": [
           {
            "colorbar": {
             "outlinewidth": 0,
             "ticks": ""
            },
            "type": "contourcarpet"
           }
          ],
          "heatmap": [
           {
            "colorbar": {
             "outlinewidth": 0,
             "ticks": ""
            },
            "colorscale": [
             [
              0,
              "#0d0887"
             ],
             [
              0.1111111111111111,
              "#46039f"
             ],
             [
              0.2222222222222222,
              "#7201a8"
             ],
             [
              0.3333333333333333,
              "#9c179e"
             ],
             [
              0.4444444444444444,
              "#bd3786"
             ],
             [
              0.5555555555555556,
              "#d8576b"
             ],
             [
              0.6666666666666666,
              "#ed7953"
             ],
             [
              0.7777777777777778,
              "#fb9f3a"
             ],
             [
              0.8888888888888888,
              "#fdca26"
             ],
             [
              1,
              "#f0f921"
             ]
            ],
            "type": "heatmap"
           }
          ],
          "histogram": [
           {
            "marker": {
             "pattern": {
              "fillmode": "overlay",
              "size": 10,
              "solidity": 0.2
             }
            },
            "type": "histogram"
           }
          ],
          "histogram2d": [
           {
            "colorbar": {
             "outlinewidth": 0,
             "ticks": ""
            },
            "colorscale": [
             [
              0,
              "#0d0887"
             ],
             [
              0.1111111111111111,
              "#46039f"
             ],
             [
              0.2222222222222222,
              "#7201a8"
             ],
             [
              0.3333333333333333,
              "#9c179e"
             ],
             [
              0.4444444444444444,
              "#bd3786"
             ],
             [
              0.5555555555555556,
              "#d8576b"
             ],
             [
              0.6666666666666666,
              "#ed7953"
             ],
             [
              0.7777777777777778,
              "#fb9f3a"
             ],
             [
              0.8888888888888888,
              "#fdca26"
             ],
             [
              1,
              "#f0f921"
             ]
            ],
            "type": "histogram2d"
           }
          ],
          "histogram2dcontour": [
           {
            "colorbar": {
             "outlinewidth": 0,
             "ticks": ""
            },
            "colorscale": [
             [
              0,
              "#0d0887"
             ],
             [
              0.1111111111111111,
              "#46039f"
             ],
             [
              0.2222222222222222,
              "#7201a8"
             ],
             [
              0.3333333333333333,
              "#9c179e"
             ],
             [
              0.4444444444444444,
              "#bd3786"
             ],
             [
              0.5555555555555556,
              "#d8576b"
             ],
             [
              0.6666666666666666,
              "#ed7953"
             ],
             [
              0.7777777777777778,
              "#fb9f3a"
             ],
             [
              0.8888888888888888,
              "#fdca26"
             ],
             [
              1,
              "#f0f921"
             ]
            ],
            "type": "histogram2dcontour"
           }
          ],
          "mesh3d": [
           {
            "colorbar": {
             "outlinewidth": 0,
             "ticks": ""
            },
            "type": "mesh3d"
           }
          ],
          "parcoords": [
           {
            "line": {
             "colorbar": {
              "outlinewidth": 0,
              "ticks": ""
             }
            },
            "type": "parcoords"
           }
          ],
          "pie": [
           {
            "automargin": true,
            "type": "pie"
           }
          ],
          "scatter": [
           {
            "fillpattern": {
             "fillmode": "overlay",
             "size": 10,
             "solidity": 0.2
            },
            "type": "scatter"
           }
          ],
          "scatter3d": [
           {
            "line": {
             "colorbar": {
              "outlinewidth": 0,
              "ticks": ""
             }
            },
            "marker": {
             "colorbar": {
              "outlinewidth": 0,
              "ticks": ""
             }
            },
            "type": "scatter3d"
           }
          ],
          "scattercarpet": [
           {
            "marker": {
             "colorbar": {
              "outlinewidth": 0,
              "ticks": ""
             }
            },
            "type": "scattercarpet"
           }
          ],
          "scattergeo": [
           {
            "marker": {
             "colorbar": {
              "outlinewidth": 0,
              "ticks": ""
             }
            },
            "type": "scattergeo"
           }
          ],
          "scattergl": [
           {
            "marker": {
             "colorbar": {
              "outlinewidth": 0,
              "ticks": ""
             }
            },
            "type": "scattergl"
           }
          ],
          "scattermap": [
           {
            "marker": {
             "colorbar": {
              "outlinewidth": 0,
              "ticks": ""
             }
            },
            "type": "scattermap"
           }
          ],
          "scattermapbox": [
           {
            "marker": {
             "colorbar": {
              "outlinewidth": 0,
              "ticks": ""
             }
            },
            "type": "scattermapbox"
           }
          ],
          "scatterpolar": [
           {
            "marker": {
             "colorbar": {
              "outlinewidth": 0,
              "ticks": ""
             }
            },
            "type": "scatterpolar"
           }
          ],
          "scatterpolargl": [
           {
            "marker": {
             "colorbar": {
              "outlinewidth": 0,
              "ticks": ""
             }
            },
            "type": "scatterpolargl"
           }
          ],
          "scatterternary": [
           {
            "marker": {
             "colorbar": {
              "outlinewidth": 0,
              "ticks": ""
             }
            },
            "type": "scatterternary"
           }
          ],
          "surface": [
           {
            "colorbar": {
             "outlinewidth": 0,
             "ticks": ""
            },
            "colorscale": [
             [
              0,
              "#0d0887"
             ],
             [
              0.1111111111111111,
              "#46039f"
             ],
             [
              0.2222222222222222,
              "#7201a8"
             ],
             [
              0.3333333333333333,
              "#9c179e"
             ],
             [
              0.4444444444444444,
              "#bd3786"
             ],
             [
              0.5555555555555556,
              "#d8576b"
             ],
             [
              0.6666666666666666,
              "#ed7953"
             ],
             [
              0.7777777777777778,
              "#fb9f3a"
             ],
             [
              0.8888888888888888,
              "#fdca26"
             ],
             [
              1,
              "#f0f921"
             ]
            ],
            "type": "surface"
           }
          ],
          "table": [
           {
            "cells": {
             "fill": {
              "color": "#EBF0F8"
             },
             "line": {
              "color": "white"
             }
            },
            "header": {
             "fill": {
              "color": "#C8D4E3"
             },
             "line": {
              "color": "white"
             }
            },
            "type": "table"
           }
          ]
         },
         "layout": {
          "annotationdefaults": {
           "arrowcolor": "#2a3f5f",
           "arrowhead": 0,
           "arrowwidth": 1
          },
          "autotypenumbers": "strict",
          "coloraxis": {
           "colorbar": {
            "outlinewidth": 0,
            "ticks": ""
           }
          },
          "colorscale": {
           "diverging": [
            [
             0,
             "#8e0152"
            ],
            [
             0.1,
             "#c51b7d"
            ],
            [
             0.2,
             "#de77ae"
            ],
            [
             0.3,
             "#f1b6da"
            ],
            [
             0.4,
             "#fde0ef"
            ],
            [
             0.5,
             "#f7f7f7"
            ],
            [
             0.6,
             "#e6f5d0"
            ],
            [
             0.7,
             "#b8e186"
            ],
            [
             0.8,
             "#7fbc41"
            ],
            [
             0.9,
             "#4d9221"
            ],
            [
             1,
             "#276419"
            ]
           ],
           "sequential": [
            [
             0,
             "#0d0887"
            ],
            [
             0.1111111111111111,
             "#46039f"
            ],
            [
             0.2222222222222222,
             "#7201a8"
            ],
            [
             0.3333333333333333,
             "#9c179e"
            ],
            [
             0.4444444444444444,
             "#bd3786"
            ],
            [
             0.5555555555555556,
             "#d8576b"
            ],
            [
             0.6666666666666666,
             "#ed7953"
            ],
            [
             0.7777777777777778,
             "#fb9f3a"
            ],
            [
             0.8888888888888888,
             "#fdca26"
            ],
            [
             1,
             "#f0f921"
            ]
           ],
           "sequentialminus": [
            [
             0,
             "#0d0887"
            ],
            [
             0.1111111111111111,
             "#46039f"
            ],
            [
             0.2222222222222222,
             "#7201a8"
            ],
            [
             0.3333333333333333,
             "#9c179e"
            ],
            [
             0.4444444444444444,
             "#bd3786"
            ],
            [
             0.5555555555555556,
             "#d8576b"
            ],
            [
             0.6666666666666666,
             "#ed7953"
            ],
            [
             0.7777777777777778,
             "#fb9f3a"
            ],
            [
             0.8888888888888888,
             "#fdca26"
            ],
            [
             1,
             "#f0f921"
            ]
           ]
          },
          "colorway": [
           "#636efa",
           "#EF553B",
           "#00cc96",
           "#ab63fa",
           "#FFA15A",
           "#19d3f3",
           "#FF6692",
           "#B6E880",
           "#FF97FF",
           "#FECB52"
          ],
          "font": {
           "color": "#2a3f5f"
          },
          "geo": {
           "bgcolor": "white",
           "lakecolor": "white",
           "landcolor": "#E5ECF6",
           "showlakes": true,
           "showland": true,
           "subunitcolor": "white"
          },
          "hoverlabel": {
           "align": "left"
          },
          "hovermode": "closest",
          "mapbox": {
           "style": "light"
          },
          "paper_bgcolor": "white",
          "plot_bgcolor": "#E5ECF6",
          "polar": {
           "angularaxis": {
            "gridcolor": "white",
            "linecolor": "white",
            "ticks": ""
           },
           "bgcolor": "#E5ECF6",
           "radialaxis": {
            "gridcolor": "white",
            "linecolor": "white",
            "ticks": ""
           }
          },
          "scene": {
           "xaxis": {
            "backgroundcolor": "#E5ECF6",
            "gridcolor": "white",
            "gridwidth": 2,
            "linecolor": "white",
            "showbackground": true,
            "ticks": "",
            "zerolinecolor": "white"
           },
           "yaxis": {
            "backgroundcolor": "#E5ECF6",
            "gridcolor": "white",
            "gridwidth": 2,
            "linecolor": "white",
            "showbackground": true,
            "ticks": "",
            "zerolinecolor": "white"
           },
           "zaxis": {
            "backgroundcolor": "#E5ECF6",
            "gridcolor": "white",
            "gridwidth": 2,
            "linecolor": "white",
            "showbackground": true,
            "ticks": "",
            "zerolinecolor": "white"
           }
          },
          "shapedefaults": {
           "line": {
            "color": "#2a3f5f"
           }
          },
          "ternary": {
           "aaxis": {
            "gridcolor": "white",
            "linecolor": "white",
            "ticks": ""
           },
           "baxis": {
            "gridcolor": "white",
            "linecolor": "white",
            "ticks": ""
           },
           "bgcolor": "#E5ECF6",
           "caxis": {
            "gridcolor": "white",
            "linecolor": "white",
            "ticks": ""
           }
          },
          "title": {
           "x": 0.05
          },
          "xaxis": {
           "automargin": true,
           "gridcolor": "white",
           "linecolor": "white",
           "ticks": "",
           "title": {
            "standoff": 15
           },
           "zerolinecolor": "white",
           "zerolinewidth": 2
          },
          "yaxis": {
           "automargin": true,
           "gridcolor": "white",
           "linecolor": "white",
           "ticks": "",
           "title": {
            "standoff": 15
           },
           "zerolinecolor": "white",
           "zerolinewidth": 2
          }
         }
        },
        "title": {
         "text": "Density of dividing cells vs Time since feeding"
        },
        "width": 800,
        "xaxis": {
         "anchor": "y",
         "domain": [
          0,
          1
         ],
         "title": {
          "text": "Time since feeding"
         }
        },
        "yaxis": {
         "anchor": "x",
         "domain": [
          0,
          1
         ],
         "title": {
          "text": "Density of dividing cells"
         }
        }
       }
      }
     },
     "metadata": {},
     "output_type": "display_data"
    }
   ],
   "source": [
    "px.line(agged, x='Time', y='Density1', symbol='Food', markers=True, width=800, height=600, title='Density of dividing cells vs Time since feeding',labels={'Time':'Time since feeding', 'Density1':'Density of dividing cells'})"
   ]
  },
  {
   "cell_type": "code",
   "execution_count": 17,
   "metadata": {},
   "outputs": [
    {
     "data": {
      "application/vnd.plotly.v1+json": {
       "config": {
        "plotlyServerURL": "https://plot.ly"
       },
       "data": [
        {
         "error_y": {
          "array": {
           "bdata": "khBO+ZalL0BtBAo9oOhTQI+xaEkWZFlAx0xs4ywAU0AoipfD4Qs4QCUKcjZu90FAxxjn9YZVRkCMns0b4ZAwQKroCKlmIUFAEXd5qkEYN0BVfRNqLwc0QA==",
           "dtype": "f8"
          }
         },
         "hovertemplate": "Food=Artemia<br>Time since feeding=%{x}<br>Density of dividing cells=%{y}<extra></extra>",
         "legendgroup": "",
         "line": {
          "color": "#636efa",
          "dash": "solid"
         },
         "marker": {
          "symbol": "circle"
         },
         "mode": "lines+markers",
         "name": "",
         "orientation": "v",
         "showlegend": false,
         "type": "scatter",
         "x": [
          "10min",
          "2h",
          "4h",
          "6h",
          "1d",
          "2d",
          "3d",
          "4d",
          "5d",
          "6d",
          "7d"
         ],
         "xaxis": "x",
         "y": {
          "bdata": "DquRwBP+RUCxgFNptXVpQA/EaAwRHoFAuk24VyateUDSJAxedzV1QOEZfoG69HVAeplyz+wkcEDyLs1j0wFhQNIlVYLa1lxAE2QOxkvvVkBwljWPZWxXQA==",
          "dtype": "f8"
         },
         "yaxis": "y"
        }
       ],
       "frames": [
        {
         "data": [
          {
           "error_y": {
            "array": {
             "bdata": "khBO+ZalL0BtBAo9oOhTQI+xaEkWZFlAx0xs4ywAU0AoipfD4Qs4QCUKcjZu90FAxxjn9YZVRkCMns0b4ZAwQKroCKlmIUFAEXd5qkEYN0BVfRNqLwc0QA==",
             "dtype": "f8"
            }
           },
           "hovertemplate": "Food=Artemia<br>Time since feeding=%{x}<br>Density of dividing cells=%{y}<extra></extra>",
           "legendgroup": "",
           "line": {
            "color": "#636efa",
            "dash": "solid"
           },
           "marker": {
            "symbol": "circle"
           },
           "mode": "lines+markers",
           "name": "",
           "orientation": "v",
           "showlegend": false,
           "type": "scatter",
           "x": [
            "10min",
            "2h",
            "4h",
            "6h",
            "1d",
            "2d",
            "3d",
            "4d",
            "5d",
            "6d",
            "7d"
           ],
           "xaxis": "x",
           "y": {
            "bdata": "DquRwBP+RUCxgFNptXVpQA/EaAwRHoFAuk24VyateUDSJAxedzV1QOEZfoG69HVAeplyz+wkcEDyLs1j0wFhQNIlVYLa1lxAE2QOxkvvVkBwljWPZWxXQA==",
            "dtype": "f8"
           },
           "yaxis": "y"
          }
         ],
         "name": "Artemia"
        },
        {
         "data": [
          {
           "error_y": {
            "array": {
             "bdata": "XTij/KBUOECwrODuwKJSQAT/FGp9flJA55GPENLCTUCMGv9T00lNQBSL5ZiyZk9Ar1FSexL8SkB2wU5aXmZTQCcXt8UE6kpAr2xAKrYdMkBmM79jtmEyQA==",
             "dtype": "f8"
            }
           },
           "hovertemplate": "Food=Liver<br>Time since feeding=%{x}<br>Density of dividing cells=%{y}<extra></extra>",
           "legendgroup": "",
           "line": {
            "color": "#636efa",
            "dash": "solid"
           },
           "marker": {
            "symbol": "circle"
           },
           "mode": "lines+markers",
           "name": "",
           "orientation": "v",
           "showlegend": false,
           "type": "scatter",
           "x": [
            "10min",
            "2h",
            "4h",
            "6h",
            "1d",
            "2d",
            "3d",
            "4d",
            "5d",
            "6d",
            "7d"
           ],
           "xaxis": "x",
           "y": {
            "bdata": "qW82qUpcRkC3mQrxiCJrQCfhnddf1npA2TSxqD0jc0DQACiQ34dyQKN8nMRTRHVAMDfOXFandECTq1j8Rq5uQEIH/1CQWWBAuNnypk9RWECkcYfRXO1YQA==",
            "dtype": "f8"
           },
           "yaxis": "y"
          }
         ],
         "name": "Liver"
        },
        {
         "data": [
          {
           "error_y": {
            "array": {
             "bdata": "JyjgG5gwPkBm2stKjo9EQLIh9l8z/jdAr3hYGdjUMEDZig3krURBQHCG981yRjJAtjPtRh9bM0C+WJphN5c1QCLN39E6uTBALnauEFPpIkByZjQ0JIUxQA==",
             "dtype": "f8"
            }
           },
           "hovertemplate": "Food=Peptone<br>Time since feeding=%{x}<br>Density of dividing cells=%{y}<extra></extra>",
           "legendgroup": "",
           "line": {
            "color": "#636efa",
            "dash": "solid"
           },
           "marker": {
            "symbol": "circle"
           },
           "mode": "lines+markers",
           "name": "",
           "orientation": "v",
           "showlegend": false,
           "type": "scatter",
           "x": [
            "10min",
            "2h",
            "4h",
            "6h",
            "1d",
            "2d",
            "3d",
            "4d",
            "5d",
            "6d",
            "7d"
           ],
           "xaxis": "x",
           "y": {
            "bdata": "LhUOU03DYUCyc+SSfCx+QGyDsUlPQnVAtsB5zOOMbEC9LFhwoDpbQDRb5GRjbVtAx5jCJmvmV0D0LoPW0OlVQIYWAk6JglJAPticYpkrUUBEVSzk555VQA==",
            "dtype": "f8"
           },
           "yaxis": "y"
          }
         ],
         "name": "Peptone"
        }
       ],
       "layout": {
        "height": 600,
        "legend": {
         "tracegroupgap": 0
        },
        "sliders": [
         {
          "active": 0,
          "currentvalue": {
           "prefix": "Food="
          },
          "len": 0.9,
          "pad": {
           "b": 10,
           "t": 60
          },
          "steps": [
           {
            "args": [
             [
              "Artemia"
             ],
             {
              "frame": {
               "duration": 0,
               "redraw": false
              },
              "fromcurrent": true,
              "mode": "immediate",
              "transition": {
               "duration": 0,
               "easing": "linear"
              }
             }
            ],
            "label": "Artemia",
            "method": "animate"
           },
           {
            "args": [
             [
              "Liver"
             ],
             {
              "frame": {
               "duration": 0,
               "redraw": false
              },
              "fromcurrent": true,
              "mode": "immediate",
              "transition": {
               "duration": 0,
               "easing": "linear"
              }
             }
            ],
            "label": "Liver",
            "method": "animate"
           },
           {
            "args": [
             [
              "Peptone"
             ],
             {
              "frame": {
               "duration": 0,
               "redraw": false
              },
              "fromcurrent": true,
              "mode": "immediate",
              "transition": {
               "duration": 0,
               "easing": "linear"
              }
             }
            ],
            "label": "Peptone",
            "method": "animate"
           }
          ],
          "x": 0.1,
          "xanchor": "left",
          "y": 0,
          "yanchor": "top"
         }
        ],
        "template": {
         "data": {
          "bar": [
           {
            "error_x": {
             "color": "#2a3f5f"
            },
            "error_y": {
             "color": "#2a3f5f"
            },
            "marker": {
             "line": {
              "color": "#E5ECF6",
              "width": 0.5
             },
             "pattern": {
              "fillmode": "overlay",
              "size": 10,
              "solidity": 0.2
             }
            },
            "type": "bar"
           }
          ],
          "barpolar": [
           {
            "marker": {
             "line": {
              "color": "#E5ECF6",
              "width": 0.5
             },
             "pattern": {
              "fillmode": "overlay",
              "size": 10,
              "solidity": 0.2
             }
            },
            "type": "barpolar"
           }
          ],
          "carpet": [
           {
            "aaxis": {
             "endlinecolor": "#2a3f5f",
             "gridcolor": "white",
             "linecolor": "white",
             "minorgridcolor": "white",
             "startlinecolor": "#2a3f5f"
            },
            "baxis": {
             "endlinecolor": "#2a3f5f",
             "gridcolor": "white",
             "linecolor": "white",
             "minorgridcolor": "white",
             "startlinecolor": "#2a3f5f"
            },
            "type": "carpet"
           }
          ],
          "choropleth": [
           {
            "colorbar": {
             "outlinewidth": 0,
             "ticks": ""
            },
            "type": "choropleth"
           }
          ],
          "contour": [
           {
            "colorbar": {
             "outlinewidth": 0,
             "ticks": ""
            },
            "colorscale": [
             [
              0,
              "#0d0887"
             ],
             [
              0.1111111111111111,
              "#46039f"
             ],
             [
              0.2222222222222222,
              "#7201a8"
             ],
             [
              0.3333333333333333,
              "#9c179e"
             ],
             [
              0.4444444444444444,
              "#bd3786"
             ],
             [
              0.5555555555555556,
              "#d8576b"
             ],
             [
              0.6666666666666666,
              "#ed7953"
             ],
             [
              0.7777777777777778,
              "#fb9f3a"
             ],
             [
              0.8888888888888888,
              "#fdca26"
             ],
             [
              1,
              "#f0f921"
             ]
            ],
            "type": "contour"
           }
          ],
          "contourcarpet": [
           {
            "colorbar": {
             "outlinewidth": 0,
             "ticks": ""
            },
            "type": "contourcarpet"
           }
          ],
          "heatmap": [
           {
            "colorbar": {
             "outlinewidth": 0,
             "ticks": ""
            },
            "colorscale": [
             [
              0,
              "#0d0887"
             ],
             [
              0.1111111111111111,
              "#46039f"
             ],
             [
              0.2222222222222222,
              "#7201a8"
             ],
             [
              0.3333333333333333,
              "#9c179e"
             ],
             [
              0.4444444444444444,
              "#bd3786"
             ],
             [
              0.5555555555555556,
              "#d8576b"
             ],
             [
              0.6666666666666666,
              "#ed7953"
             ],
             [
              0.7777777777777778,
              "#fb9f3a"
             ],
             [
              0.8888888888888888,
              "#fdca26"
             ],
             [
              1,
              "#f0f921"
             ]
            ],
            "type": "heatmap"
           }
          ],
          "histogram": [
           {
            "marker": {
             "pattern": {
              "fillmode": "overlay",
              "size": 10,
              "solidity": 0.2
             }
            },
            "type": "histogram"
           }
          ],
          "histogram2d": [
           {
            "colorbar": {
             "outlinewidth": 0,
             "ticks": ""
            },
            "colorscale": [
             [
              0,
              "#0d0887"
             ],
             [
              0.1111111111111111,
              "#46039f"
             ],
             [
              0.2222222222222222,
              "#7201a8"
             ],
             [
              0.3333333333333333,
              "#9c179e"
             ],
             [
              0.4444444444444444,
              "#bd3786"
             ],
             [
              0.5555555555555556,
              "#d8576b"
             ],
             [
              0.6666666666666666,
              "#ed7953"
             ],
             [
              0.7777777777777778,
              "#fb9f3a"
             ],
             [
              0.8888888888888888,
              "#fdca26"
             ],
             [
              1,
              "#f0f921"
             ]
            ],
            "type": "histogram2d"
           }
          ],
          "histogram2dcontour": [
           {
            "colorbar": {
             "outlinewidth": 0,
             "ticks": ""
            },
            "colorscale": [
             [
              0,
              "#0d0887"
             ],
             [
              0.1111111111111111,
              "#46039f"
             ],
             [
              0.2222222222222222,
              "#7201a8"
             ],
             [
              0.3333333333333333,
              "#9c179e"
             ],
             [
              0.4444444444444444,
              "#bd3786"
             ],
             [
              0.5555555555555556,
              "#d8576b"
             ],
             [
              0.6666666666666666,
              "#ed7953"
             ],
             [
              0.7777777777777778,
              "#fb9f3a"
             ],
             [
              0.8888888888888888,
              "#fdca26"
             ],
             [
              1,
              "#f0f921"
             ]
            ],
            "type": "histogram2dcontour"
           }
          ],
          "mesh3d": [
           {
            "colorbar": {
             "outlinewidth": 0,
             "ticks": ""
            },
            "type": "mesh3d"
           }
          ],
          "parcoords": [
           {
            "line": {
             "colorbar": {
              "outlinewidth": 0,
              "ticks": ""
             }
            },
            "type": "parcoords"
           }
          ],
          "pie": [
           {
            "automargin": true,
            "type": "pie"
           }
          ],
          "scatter": [
           {
            "fillpattern": {
             "fillmode": "overlay",
             "size": 10,
             "solidity": 0.2
            },
            "type": "scatter"
           }
          ],
          "scatter3d": [
           {
            "line": {
             "colorbar": {
              "outlinewidth": 0,
              "ticks": ""
             }
            },
            "marker": {
             "colorbar": {
              "outlinewidth": 0,
              "ticks": ""
             }
            },
            "type": "scatter3d"
           }
          ],
          "scattercarpet": [
           {
            "marker": {
             "colorbar": {
              "outlinewidth": 0,
              "ticks": ""
             }
            },
            "type": "scattercarpet"
           }
          ],
          "scattergeo": [
           {
            "marker": {
             "colorbar": {
              "outlinewidth": 0,
              "ticks": ""
             }
            },
            "type": "scattergeo"
           }
          ],
          "scattergl": [
           {
            "marker": {
             "colorbar": {
              "outlinewidth": 0,
              "ticks": ""
             }
            },
            "type": "scattergl"
           }
          ],
          "scattermap": [
           {
            "marker": {
             "colorbar": {
              "outlinewidth": 0,
              "ticks": ""
             }
            },
            "type": "scattermap"
           }
          ],
          "scattermapbox": [
           {
            "marker": {
             "colorbar": {
              "outlinewidth": 0,
              "ticks": ""
             }
            },
            "type": "scattermapbox"
           }
          ],
          "scatterpolar": [
           {
            "marker": {
             "colorbar": {
              "outlinewidth": 0,
              "ticks": ""
             }
            },
            "type": "scatterpolar"
           }
          ],
          "scatterpolargl": [
           {
            "marker": {
             "colorbar": {
              "outlinewidth": 0,
              "ticks": ""
             }
            },
            "type": "scatterpolargl"
           }
          ],
          "scatterternary": [
           {
            "marker": {
             "colorbar": {
              "outlinewidth": 0,
              "ticks": ""
             }
            },
            "type": "scatterternary"
           }
          ],
          "surface": [
           {
            "colorbar": {
             "outlinewidth": 0,
             "ticks": ""
            },
            "colorscale": [
             [
              0,
              "#0d0887"
             ],
             [
              0.1111111111111111,
              "#46039f"
             ],
             [
              0.2222222222222222,
              "#7201a8"
             ],
             [
              0.3333333333333333,
              "#9c179e"
             ],
             [
              0.4444444444444444,
              "#bd3786"
             ],
             [
              0.5555555555555556,
              "#d8576b"
             ],
             [
              0.6666666666666666,
              "#ed7953"
             ],
             [
              0.7777777777777778,
              "#fb9f3a"
             ],
             [
              0.8888888888888888,
              "#fdca26"
             ],
             [
              1,
              "#f0f921"
             ]
            ],
            "type": "surface"
           }
          ],
          "table": [
           {
            "cells": {
             "fill": {
              "color": "#EBF0F8"
             },
             "line": {
              "color": "white"
             }
            },
            "header": {
             "fill": {
              "color": "#C8D4E3"
             },
             "line": {
              "color": "white"
             }
            },
            "type": "table"
           }
          ]
         },
         "layout": {
          "annotationdefaults": {
           "arrowcolor": "#2a3f5f",
           "arrowhead": 0,
           "arrowwidth": 1
          },
          "autotypenumbers": "strict",
          "coloraxis": {
           "colorbar": {
            "outlinewidth": 0,
            "ticks": ""
           }
          },
          "colorscale": {
           "diverging": [
            [
             0,
             "#8e0152"
            ],
            [
             0.1,
             "#c51b7d"
            ],
            [
             0.2,
             "#de77ae"
            ],
            [
             0.3,
             "#f1b6da"
            ],
            [
             0.4,
             "#fde0ef"
            ],
            [
             0.5,
             "#f7f7f7"
            ],
            [
             0.6,
             "#e6f5d0"
            ],
            [
             0.7,
             "#b8e186"
            ],
            [
             0.8,
             "#7fbc41"
            ],
            [
             0.9,
             "#4d9221"
            ],
            [
             1,
             "#276419"
            ]
           ],
           "sequential": [
            [
             0,
             "#0d0887"
            ],
            [
             0.1111111111111111,
             "#46039f"
            ],
            [
             0.2222222222222222,
             "#7201a8"
            ],
            [
             0.3333333333333333,
             "#9c179e"
            ],
            [
             0.4444444444444444,
             "#bd3786"
            ],
            [
             0.5555555555555556,
             "#d8576b"
            ],
            [
             0.6666666666666666,
             "#ed7953"
            ],
            [
             0.7777777777777778,
             "#fb9f3a"
            ],
            [
             0.8888888888888888,
             "#fdca26"
            ],
            [
             1,
             "#f0f921"
            ]
           ],
           "sequentialminus": [
            [
             0,
             "#0d0887"
            ],
            [
             0.1111111111111111,
             "#46039f"
            ],
            [
             0.2222222222222222,
             "#7201a8"
            ],
            [
             0.3333333333333333,
             "#9c179e"
            ],
            [
             0.4444444444444444,
             "#bd3786"
            ],
            [
             0.5555555555555556,
             "#d8576b"
            ],
            [
             0.6666666666666666,
             "#ed7953"
            ],
            [
             0.7777777777777778,
             "#fb9f3a"
            ],
            [
             0.8888888888888888,
             "#fdca26"
            ],
            [
             1,
             "#f0f921"
            ]
           ]
          },
          "colorway": [
           "#636efa",
           "#EF553B",
           "#00cc96",
           "#ab63fa",
           "#FFA15A",
           "#19d3f3",
           "#FF6692",
           "#B6E880",
           "#FF97FF",
           "#FECB52"
          ],
          "font": {
           "color": "#2a3f5f"
          },
          "geo": {
           "bgcolor": "white",
           "lakecolor": "white",
           "landcolor": "#E5ECF6",
           "showlakes": true,
           "showland": true,
           "subunitcolor": "white"
          },
          "hoverlabel": {
           "align": "left"
          },
          "hovermode": "closest",
          "mapbox": {
           "style": "light"
          },
          "paper_bgcolor": "white",
          "plot_bgcolor": "#E5ECF6",
          "polar": {
           "angularaxis": {
            "gridcolor": "white",
            "linecolor": "white",
            "ticks": ""
           },
           "bgcolor": "#E5ECF6",
           "radialaxis": {
            "gridcolor": "white",
            "linecolor": "white",
            "ticks": ""
           }
          },
          "scene": {
           "xaxis": {
            "backgroundcolor": "#E5ECF6",
            "gridcolor": "white",
            "gridwidth": 2,
            "linecolor": "white",
            "showbackground": true,
            "ticks": "",
            "zerolinecolor": "white"
           },
           "yaxis": {
            "backgroundcolor": "#E5ECF6",
            "gridcolor": "white",
            "gridwidth": 2,
            "linecolor": "white",
            "showbackground": true,
            "ticks": "",
            "zerolinecolor": "white"
           },
           "zaxis": {
            "backgroundcolor": "#E5ECF6",
            "gridcolor": "white",
            "gridwidth": 2,
            "linecolor": "white",
            "showbackground": true,
            "ticks": "",
            "zerolinecolor": "white"
           }
          },
          "shapedefaults": {
           "line": {
            "color": "#2a3f5f"
           }
          },
          "ternary": {
           "aaxis": {
            "gridcolor": "white",
            "linecolor": "white",
            "ticks": ""
           },
           "baxis": {
            "gridcolor": "white",
            "linecolor": "white",
            "ticks": ""
           },
           "bgcolor": "#E5ECF6",
           "caxis": {
            "gridcolor": "white",
            "linecolor": "white",
            "ticks": ""
           }
          },
          "title": {
           "x": 0.05
          },
          "xaxis": {
           "automargin": true,
           "gridcolor": "white",
           "linecolor": "white",
           "ticks": "",
           "title": {
            "standoff": 15
           },
           "zerolinecolor": "white",
           "zerolinewidth": 2
          },
          "yaxis": {
           "automargin": true,
           "gridcolor": "white",
           "linecolor": "white",
           "ticks": "",
           "title": {
            "standoff": 15
           },
           "zerolinecolor": "white",
           "zerolinewidth": 2
          }
         }
        },
        "title": {
         "text": "Density of dividing cells vs Time since feeding"
        },
        "updatemenus": [
         {
          "buttons": [
           {
            "args": [
             null,
             {
              "frame": {
               "duration": 500,
               "redraw": false
              },
              "fromcurrent": true,
              "mode": "immediate",
              "transition": {
               "duration": 500,
               "easing": "linear"
              }
             }
            ],
            "label": "&#9654;",
            "method": "animate"
           },
           {
            "args": [
             [
              null
             ],
             {
              "frame": {
               "duration": 0,
               "redraw": false
              },
              "fromcurrent": true,
              "mode": "immediate",
              "transition": {
               "duration": 0,
               "easing": "linear"
              }
             }
            ],
            "label": "&#9724;",
            "method": "animate"
           }
          ],
          "direction": "left",
          "pad": {
           "r": 10,
           "t": 70
          },
          "showactive": false,
          "type": "buttons",
          "x": 0.1,
          "xanchor": "right",
          "y": 0,
          "yanchor": "top"
         }
        ],
        "width": 800,
        "xaxis": {
         "anchor": "y",
         "domain": [
          0,
          1
         ],
         "title": {
          "text": "Time since feeding"
         }
        },
        "yaxis": {
         "anchor": "x",
         "domain": [
          0,
          1
         ],
         "title": {
          "text": "Density of dividing cells"
         }
        }
       }
      }
     },
     "metadata": {},
     "output_type": "display_data"
    }
   ],
   "source": [
    "px.line(agged, x='Time', y='Density1', animation_frame='Food', markers=True, width=800, height=600, error_y='std', title='Density of dividing cells vs Time since feeding',labels={'Time':'Time since feeding', 'Density1':'Density of dividing cells'})"
   ]
  },
  {
   "cell_type": "markdown",
   "metadata": {},
   "source": [
    "# Statistical plots"
   ]
  },
  {
   "cell_type": "code",
   "execution_count": 18,
   "metadata": {},
   "outputs": [
    {
     "data": {
      "application/vnd.plotly.v1+json": {
       "config": {
        "plotlyServerURL": "https://plot.ly"
       },
       "data": [
        {
         "alignmentgroup": "True",
         "hovertemplate": "Food=Artemia<br>Time=%{x}<br>Density1=%{y}<extra></extra>",
         "legendgroup": "Artemia",
         "marker": {
          "color": "#636efa"
         },
         "name": "Artemia",
         "notched": false,
         "offsetgroup": "Artemia",
         "orientation": "v",
         "showlegend": true,
         "type": "box",
         "x": [
          "10min",
          "10min",
          "10min",
          "10min",
          "10min",
          "10min",
          "10min",
          "10min",
          "2h",
          "2h",
          "2h",
          "2h",
          "2h",
          "2h",
          "2h",
          "2h",
          "4h",
          "4h",
          "4h",
          "4h",
          "4h",
          "4h",
          "4h",
          "4h",
          "6h",
          "6h",
          "6h",
          "6h",
          "6h",
          "6h",
          "6h",
          "6h",
          "1d",
          "1d",
          "1d",
          "1d",
          "1d",
          "1d",
          "1d",
          "1d",
          "2d",
          "2d",
          "2d",
          "2d",
          "2d",
          "2d",
          "2d",
          "2d",
          "3d",
          "3d",
          "3d",
          "3d",
          "3d",
          "3d",
          "3d",
          "3d",
          "4d",
          "4d",
          "4d",
          "4d",
          "4d",
          "4d",
          "4d",
          "4d",
          "5d",
          "5d",
          "5d",
          "5d",
          "5d",
          "5d",
          "5d",
          "5d",
          "5d",
          "6d",
          "6d",
          "6d",
          "6d",
          "6d",
          "6d",
          "6d",
          "6d",
          "6d",
          "6d",
          "7d",
          "7d",
          "7d",
          "7d",
          "7d",
          "7d",
          "7d",
          "7d",
          "7d",
          "7d",
          "7d"
         ],
         "x0": " ",
         "xaxis": "x",
         "y": {
          "bdata": "XDgQkgWXSUBbarVuIIU+QIzQ10U0O0tADrm+tE3dP0BH8LckpOBJQP+thdVvAlJADdWc1WVrOkAFh1lg9tFAQK9vcZ77UGlAB9LFplX+c0BZ5Z2e0vBeQMl9YejH+F5A0K9S5gv1bkB6s7xh0bFkQHpkvWJXK3NA+ROVDattYUALbIQ0+S56QLmqR3VVOH5Ane9MDRmOfkAuwU5WIWGDQNtQMc4/yX9A5A5AD8pag0DallwgTO6GQNgbazX6zX9AwsBz70F3c0Dkh0ojpnx3QGgptAe1YXtAxovg2kTPgUAy2YncXd16QBSf8TPEkXZA96nPel2reUD3wUNijFp4QA0+KIOegXJAZlsXyD0zdEDogMkyiVB0QDi5hOgV7HVA1YEHYQn8dUBsZLITuYR2QKz6AbQyK3dADXIXYUoOdUAig4GMRSN3QJQePMmsCXZAQ4jQrbyTd0C+iSE52Qt3QInfXuPEEHRAaXY4FcRHcUAbUZCOgXJ2QEV0GUhBDnhAx+08lsOCc0DtHX+zvgZwQMj9WNLbhXNAYYMq2mFUcUCt8eN5Wh9xQHI5uTpb6GxAcNRljOqIZ0CyjMNPUtdqQKf8tQbAdmBAEyRbApVmXUCQEOUL2uZaQMY+t4YI52FAEGs7t9qoYkADqPPyhaJhQANptXYRe2FAvqX36KjDY0Ae+xcQM31YQBH8FGzIGWhA+0T53c94XECOMQPXjUhPQCIikKaVGWBAMnctIZ9lW0Ak7rH0Ie5aQNzdXi3Ss1xA4/viUhWFW0Dqe2h6ZIdeQMkSayuVCFZAX/+e7csGUEDWB2n4XIBUQCQ3eYDdIGBA2TtI9NcQWUDdPeU9c0JbQJ7lgeG/sU5APvCMEWS3VUDPh0b7iJxSQGJzYeZztVFA3+I893maXkDqu/C9HuZYQJTHiWVp9VVA1+f/j3KDVkDMHHm9h6JOQIs3z2SBsVFASshy2B67V0BKzcOuEnpdQJgIZSt51FlAIVENoATtW0A=",
          "dtype": "f8"
         },
         "y0": " ",
         "yaxis": "y"
        },
        {
         "alignmentgroup": "True",
         "hovertemplate": "Food=Liver<br>Time=%{x}<br>Density1=%{y}<extra></extra>",
         "legendgroup": "Liver",
         "marker": {
          "color": "#EF553B"
         },
         "name": "Liver",
         "notched": false,
         "offsetgroup": "Liver",
         "orientation": "v",
         "showlegend": true,
         "type": "box",
         "x": [
          "10min",
          "10min",
          "10min",
          "10min",
          "10min",
          "10min",
          "10min",
          "10min",
          "2h",
          "2h",
          "2h",
          "2h",
          "2h",
          "2h",
          "2h",
          "2h",
          "4h",
          "4h",
          "4h",
          "4h",
          "4h",
          "4h",
          "4h",
          "4h",
          "6h",
          "6h",
          "6h",
          "6h",
          "6h",
          "6h",
          "6h",
          "6h",
          "6h",
          "1d",
          "1d",
          "1d",
          "1d",
          "1d",
          "1d",
          "1d",
          "1d",
          "2d",
          "2d",
          "2d",
          "2d",
          "2d",
          "2d",
          "2d",
          "2d",
          "3d",
          "3d",
          "3d",
          "3d",
          "3d",
          "3d",
          "3d",
          "3d",
          "4d",
          "4d",
          "4d",
          "4d",
          "4d",
          "4d",
          "4d",
          "4d",
          "5d",
          "5d",
          "5d",
          "5d",
          "5d",
          "5d",
          "5d",
          "5d",
          "5d",
          "5d",
          "6d",
          "6d",
          "6d",
          "6d",
          "6d",
          "6d",
          "6d",
          "6d",
          "6d",
          "6d",
          "7d",
          "7d",
          "7d",
          "7d",
          "7d",
          "7d",
          "7d",
          "7d",
          "7d",
          "7d",
          "7d"
         ],
         "x0": " ",
         "xaxis": "x",
         "y": {
          "bdata": "HNVE+kjSPEDTAd48tLtQQOh+d8CvpkZAUtluimClSUDu5pBxGIA6QH2Sv6TG/ztAGX0/FJC5VkDj/46oUAU0QM2euqjM3ltAdQEvM2ycZkCosRjQRjJzQE7etqXEsF1AIngy7hwncUBuREE6BnRqQFOVtrgGpXFADUuohTc/b0DvVMA972B5QH11+uZjknlA4WJFDUYddkDE6F7Mu114QCFT40oijHxA5s3hWj2UgkDEgrF0NBN4QHeBN0nYfHtA0Ph0K7pbb0DBdLVwdJ9nQFLlxdMcKnNAaT3XUtunckAY/bLFP/F0QE7VmGssb3VA3tDvVlGhckAdJzvs9Bx1QLi3EQXpznhA//IkRBQsaUDomQOpOdVpQGxwbIdw3HVAfnoiPub3dEBge8ECk5hzQFoeWhoOa3RA3j6rzHQsc0CM/FXb6Ll0QODVcmcmWGlAC2MLQU7CdEDy2CocnBd1QHMFJRYCXHZAFeuvslGgdECCbWna6jV2QCB0dWxpd3lAAWxAhPjyeEAKTW0EHQdyQLgwHBnVEXFAeCHCZE+AdECJMZ9iay5wQPgLh+/OwnZAMDvVa6QjdUAgArPn1/x3QHSfd766j3lAYwtBDoq4YED+VvzwfbFpQMzjeiUa4mVAokGv5I9mcEBOcPsvIbBuQM7drpcmiHZATqVV41tydUCfHKrOz7NtQPWYUNo+ulRAvCWUGQpmY0DsP3yqlHtWQAAfWUyuslZAH0lJD8PdY0C1vUC9lwdXQNfp9ki581tAB1L3O3PdVkAuNHywcYptQNks8kbB0GhA5g+8EGE9WUCNFrkK1l5XQM/b2OxIHGFAjmuNUlMkW0BGYXL+wVJUQALJhRQNP1NA+lHDbaM8W0A3tSIgFYBUQAOHBhiM6VRAFn/jhOz7WEAewMcFjJBXQEfWbZLX+FNAvCvU/VDFVEDQxjrq4nlUQK4DEAyamVhAwP6QI8JuWUCLaeiXbzdWQHrffBMYp1hAnPgPjr66YUCxYgLImkpbQL65ZMFpw11A",
          "dtype": "f8"
         },
         "y0": " ",
         "yaxis": "y"
        },
        {
         "alignmentgroup": "True",
         "hovertemplate": "Food=Peptone<br>Time=%{x}<br>Density1=%{y}<extra></extra>",
         "legendgroup": "Peptone",
         "marker": {
          "color": "#00cc96"
         },
         "name": "Peptone",
         "notched": false,
         "offsetgroup": "Peptone",
         "orientation": "v",
         "showlegend": true,
         "type": "box",
         "x": [
          "10min",
          "10min",
          "10min",
          "10min",
          "10min",
          "10min",
          "10min",
          "10min",
          "10min",
          "2h",
          "2h",
          "2h",
          "2h",
          "2h",
          "2h",
          "2h",
          "2h",
          "4h",
          "4h",
          "4h",
          "4h",
          "4h",
          "4h",
          "4h",
          "4h",
          "4h",
          "6h",
          "6h",
          "6h",
          "6h",
          "6h",
          "6h",
          "6h",
          "6h",
          "1d",
          "1d",
          "1d",
          "1d",
          "1d",
          "1d",
          "1d",
          "1d",
          "2d",
          "2d",
          "2d",
          "2d",
          "2d",
          "2d",
          "2d",
          "2d",
          "3d",
          "3d",
          "3d",
          "3d",
          "3d",
          "3d",
          "3d",
          "4d",
          "4d",
          "4d",
          "4d",
          "4d",
          "4d",
          "4d",
          "4d",
          "5d",
          "5d",
          "5d",
          "5d",
          "6d",
          "6d",
          "6d",
          "6d",
          "6d",
          "6d",
          "6d",
          "6d",
          "6d",
          "6d",
          "7d",
          "7d",
          "7d",
          "7d",
          "7d",
          "7d",
          "7d",
          "7d",
          "7d",
          "7d",
          "7d"
         ],
         "x0": " ",
         "xaxis": "x",
         "y": {
          "bdata": "P9neuBbKZUCnypzT0Z1hQLO1vkhoG2dAd/8O+/M6YEBEY5I2OpNgQHNW+r8ZtGVACdajNhIjWED/w6dKpUVbQNjeAmTDI2FAsVJBRRXheUC2IRD5WCR9QEvNeSFYYn1A7GmHv+aofUAVRf5PVLR/QBM3XQWnh39AnR4lwEpggUCTOCuiplZ9QC1dwTbidHJANF2ZAbh/dEBAvb57jHJ1QGuad5zih3RALo1feOWzdEAP0egOgqd3QBI6noUzeHVABZQ8jcqndUBmYImsWup2QJqR5jTwCmxAsQy7OSamb0Aeozzzso9pQG6Ysh2d1m5AzJseb036aUARacDF7x1tQEM/rmjOiGxAuuevRqyubEC17SiMNfFSQGkjrs53A1hAMrvdgfCAYUCk2eFUEA5bQFd1uTWnM1NAK5+KwL3qZUD8VBUaiNZcQBj8aP658FRAubsYFBdgW0Cq+7YWnAZbQPAnU5pHu1hA8OHtnMFeWUAqvkY3p+FiQOu0A+gWdVZAEEcNXNQjWkALoHMSJY5cQA3vB3ZbVVZAe4SaIdUXWkBrZHhorz9XQEbtfhVgDllAeW+xR02yX0Dvf/QL/gRPQMu4DKzhXFdAVr9vz7X2WEBuQxiBKUhTQJvWXCSjw05ApnZtDI0wU0A6J5Omg9pTQK+dIJiAv1FAraOqCSKXXkBUKpd8IkxcQFb18jvNdVJAOCvDNGNPUEDoqN2OtGFYQEEh6XCAxk1AXIua2JHMTECCeLh407hOQDGjL++3BFBAPjFfHGRMT0Cjb1ZtjGdRQNkLPxeR4kxAttsNJi7NU0Dc7R+wV9xRQDLU9ulXGFRAUyH9eq6rVEBIQH2yv/9UQImJvJtdQ15A2NLlxfC1UkArxel/FJJaQCfV42OcnFdAlglcqlR7VkCL6K5XXi1RQAtnjheYdFhAgC5U3ScGUkDLBgQAaF5PQObnCt+Q2VNA",
          "dtype": "f8"
         },
         "y0": " ",
         "yaxis": "y"
        }
       ],
       "layout": {
        "boxmode": "group",
        "legend": {
         "title": {
          "text": "Food"
         },
         "tracegroupgap": 0
        },
        "margin": {
         "t": 60
        },
        "template": {
         "data": {
          "bar": [
           {
            "error_x": {
             "color": "#2a3f5f"
            },
            "error_y": {
             "color": "#2a3f5f"
            },
            "marker": {
             "line": {
              "color": "#E5ECF6",
              "width": 0.5
             },
             "pattern": {
              "fillmode": "overlay",
              "size": 10,
              "solidity": 0.2
             }
            },
            "type": "bar"
           }
          ],
          "barpolar": [
           {
            "marker": {
             "line": {
              "color": "#E5ECF6",
              "width": 0.5
             },
             "pattern": {
              "fillmode": "overlay",
              "size": 10,
              "solidity": 0.2
             }
            },
            "type": "barpolar"
           }
          ],
          "carpet": [
           {
            "aaxis": {
             "endlinecolor": "#2a3f5f",
             "gridcolor": "white",
             "linecolor": "white",
             "minorgridcolor": "white",
             "startlinecolor": "#2a3f5f"
            },
            "baxis": {
             "endlinecolor": "#2a3f5f",
             "gridcolor": "white",
             "linecolor": "white",
             "minorgridcolor": "white",
             "startlinecolor": "#2a3f5f"
            },
            "type": "carpet"
           }
          ],
          "choropleth": [
           {
            "colorbar": {
             "outlinewidth": 0,
             "ticks": ""
            },
            "type": "choropleth"
           }
          ],
          "contour": [
           {
            "colorbar": {
             "outlinewidth": 0,
             "ticks": ""
            },
            "colorscale": [
             [
              0,
              "#0d0887"
             ],
             [
              0.1111111111111111,
              "#46039f"
             ],
             [
              0.2222222222222222,
              "#7201a8"
             ],
             [
              0.3333333333333333,
              "#9c179e"
             ],
             [
              0.4444444444444444,
              "#bd3786"
             ],
             [
              0.5555555555555556,
              "#d8576b"
             ],
             [
              0.6666666666666666,
              "#ed7953"
             ],
             [
              0.7777777777777778,
              "#fb9f3a"
             ],
             [
              0.8888888888888888,
              "#fdca26"
             ],
             [
              1,
              "#f0f921"
             ]
            ],
            "type": "contour"
           }
          ],
          "contourcarpet": [
           {
            "colorbar": {
             "outlinewidth": 0,
             "ticks": ""
            },
            "type": "contourcarpet"
           }
          ],
          "heatmap": [
           {
            "colorbar": {
             "outlinewidth": 0,
             "ticks": ""
            },
            "colorscale": [
             [
              0,
              "#0d0887"
             ],
             [
              0.1111111111111111,
              "#46039f"
             ],
             [
              0.2222222222222222,
              "#7201a8"
             ],
             [
              0.3333333333333333,
              "#9c179e"
             ],
             [
              0.4444444444444444,
              "#bd3786"
             ],
             [
              0.5555555555555556,
              "#d8576b"
             ],
             [
              0.6666666666666666,
              "#ed7953"
             ],
             [
              0.7777777777777778,
              "#fb9f3a"
             ],
             [
              0.8888888888888888,
              "#fdca26"
             ],
             [
              1,
              "#f0f921"
             ]
            ],
            "type": "heatmap"
           }
          ],
          "histogram": [
           {
            "marker": {
             "pattern": {
              "fillmode": "overlay",
              "size": 10,
              "solidity": 0.2
             }
            },
            "type": "histogram"
           }
          ],
          "histogram2d": [
           {
            "colorbar": {
             "outlinewidth": 0,
             "ticks": ""
            },
            "colorscale": [
             [
              0,
              "#0d0887"
             ],
             [
              0.1111111111111111,
              "#46039f"
             ],
             [
              0.2222222222222222,
              "#7201a8"
             ],
             [
              0.3333333333333333,
              "#9c179e"
             ],
             [
              0.4444444444444444,
              "#bd3786"
             ],
             [
              0.5555555555555556,
              "#d8576b"
             ],
             [
              0.6666666666666666,
              "#ed7953"
             ],
             [
              0.7777777777777778,
              "#fb9f3a"
             ],
             [
              0.8888888888888888,
              "#fdca26"
             ],
             [
              1,
              "#f0f921"
             ]
            ],
            "type": "histogram2d"
           }
          ],
          "histogram2dcontour": [
           {
            "colorbar": {
             "outlinewidth": 0,
             "ticks": ""
            },
            "colorscale": [
             [
              0,
              "#0d0887"
             ],
             [
              0.1111111111111111,
              "#46039f"
             ],
             [
              0.2222222222222222,
              "#7201a8"
             ],
             [
              0.3333333333333333,
              "#9c179e"
             ],
             [
              0.4444444444444444,
              "#bd3786"
             ],
             [
              0.5555555555555556,
              "#d8576b"
             ],
             [
              0.6666666666666666,
              "#ed7953"
             ],
             [
              0.7777777777777778,
              "#fb9f3a"
             ],
             [
              0.8888888888888888,
              "#fdca26"
             ],
             [
              1,
              "#f0f921"
             ]
            ],
            "type": "histogram2dcontour"
           }
          ],
          "mesh3d": [
           {
            "colorbar": {
             "outlinewidth": 0,
             "ticks": ""
            },
            "type": "mesh3d"
           }
          ],
          "parcoords": [
           {
            "line": {
             "colorbar": {
              "outlinewidth": 0,
              "ticks": ""
             }
            },
            "type": "parcoords"
           }
          ],
          "pie": [
           {
            "automargin": true,
            "type": "pie"
           }
          ],
          "scatter": [
           {
            "fillpattern": {
             "fillmode": "overlay",
             "size": 10,
             "solidity": 0.2
            },
            "type": "scatter"
           }
          ],
          "scatter3d": [
           {
            "line": {
             "colorbar": {
              "outlinewidth": 0,
              "ticks": ""
             }
            },
            "marker": {
             "colorbar": {
              "outlinewidth": 0,
              "ticks": ""
             }
            },
            "type": "scatter3d"
           }
          ],
          "scattercarpet": [
           {
            "marker": {
             "colorbar": {
              "outlinewidth": 0,
              "ticks": ""
             }
            },
            "type": "scattercarpet"
           }
          ],
          "scattergeo": [
           {
            "marker": {
             "colorbar": {
              "outlinewidth": 0,
              "ticks": ""
             }
            },
            "type": "scattergeo"
           }
          ],
          "scattergl": [
           {
            "marker": {
             "colorbar": {
              "outlinewidth": 0,
              "ticks": ""
             }
            },
            "type": "scattergl"
           }
          ],
          "scattermap": [
           {
            "marker": {
             "colorbar": {
              "outlinewidth": 0,
              "ticks": ""
             }
            },
            "type": "scattermap"
           }
          ],
          "scattermapbox": [
           {
            "marker": {
             "colorbar": {
              "outlinewidth": 0,
              "ticks": ""
             }
            },
            "type": "scattermapbox"
           }
          ],
          "scatterpolar": [
           {
            "marker": {
             "colorbar": {
              "outlinewidth": 0,
              "ticks": ""
             }
            },
            "type": "scatterpolar"
           }
          ],
          "scatterpolargl": [
           {
            "marker": {
             "colorbar": {
              "outlinewidth": 0,
              "ticks": ""
             }
            },
            "type": "scatterpolargl"
           }
          ],
          "scatterternary": [
           {
            "marker": {
             "colorbar": {
              "outlinewidth": 0,
              "ticks": ""
             }
            },
            "type": "scatterternary"
           }
          ],
          "surface": [
           {
            "colorbar": {
             "outlinewidth": 0,
             "ticks": ""
            },
            "colorscale": [
             [
              0,
              "#0d0887"
             ],
             [
              0.1111111111111111,
              "#46039f"
             ],
             [
              0.2222222222222222,
              "#7201a8"
             ],
             [
              0.3333333333333333,
              "#9c179e"
             ],
             [
              0.4444444444444444,
              "#bd3786"
             ],
             [
              0.5555555555555556,
              "#d8576b"
             ],
             [
              0.6666666666666666,
              "#ed7953"
             ],
             [
              0.7777777777777778,
              "#fb9f3a"
             ],
             [
              0.8888888888888888,
              "#fdca26"
             ],
             [
              1,
              "#f0f921"
             ]
            ],
            "type": "surface"
           }
          ],
          "table": [
           {
            "cells": {
             "fill": {
              "color": "#EBF0F8"
             },
             "line": {
              "color": "white"
             }
            },
            "header": {
             "fill": {
              "color": "#C8D4E3"
             },
             "line": {
              "color": "white"
             }
            },
            "type": "table"
           }
          ]
         },
         "layout": {
          "annotationdefaults": {
           "arrowcolor": "#2a3f5f",
           "arrowhead": 0,
           "arrowwidth": 1
          },
          "autotypenumbers": "strict",
          "coloraxis": {
           "colorbar": {
            "outlinewidth": 0,
            "ticks": ""
           }
          },
          "colorscale": {
           "diverging": [
            [
             0,
             "#8e0152"
            ],
            [
             0.1,
             "#c51b7d"
            ],
            [
             0.2,
             "#de77ae"
            ],
            [
             0.3,
             "#f1b6da"
            ],
            [
             0.4,
             "#fde0ef"
            ],
            [
             0.5,
             "#f7f7f7"
            ],
            [
             0.6,
             "#e6f5d0"
            ],
            [
             0.7,
             "#b8e186"
            ],
            [
             0.8,
             "#7fbc41"
            ],
            [
             0.9,
             "#4d9221"
            ],
            [
             1,
             "#276419"
            ]
           ],
           "sequential": [
            [
             0,
             "#0d0887"
            ],
            [
             0.1111111111111111,
             "#46039f"
            ],
            [
             0.2222222222222222,
             "#7201a8"
            ],
            [
             0.3333333333333333,
             "#9c179e"
            ],
            [
             0.4444444444444444,
             "#bd3786"
            ],
            [
             0.5555555555555556,
             "#d8576b"
            ],
            [
             0.6666666666666666,
             "#ed7953"
            ],
            [
             0.7777777777777778,
             "#fb9f3a"
            ],
            [
             0.8888888888888888,
             "#fdca26"
            ],
            [
             1,
             "#f0f921"
            ]
           ],
           "sequentialminus": [
            [
             0,
             "#0d0887"
            ],
            [
             0.1111111111111111,
             "#46039f"
            ],
            [
             0.2222222222222222,
             "#7201a8"
            ],
            [
             0.3333333333333333,
             "#9c179e"
            ],
            [
             0.4444444444444444,
             "#bd3786"
            ],
            [
             0.5555555555555556,
             "#d8576b"
            ],
            [
             0.6666666666666666,
             "#ed7953"
            ],
            [
             0.7777777777777778,
             "#fb9f3a"
            ],
            [
             0.8888888888888888,
             "#fdca26"
            ],
            [
             1,
             "#f0f921"
            ]
           ]
          },
          "colorway": [
           "#636efa",
           "#EF553B",
           "#00cc96",
           "#ab63fa",
           "#FFA15A",
           "#19d3f3",
           "#FF6692",
           "#B6E880",
           "#FF97FF",
           "#FECB52"
          ],
          "font": {
           "color": "#2a3f5f"
          },
          "geo": {
           "bgcolor": "white",
           "lakecolor": "white",
           "landcolor": "#E5ECF6",
           "showlakes": true,
           "showland": true,
           "subunitcolor": "white"
          },
          "hoverlabel": {
           "align": "left"
          },
          "hovermode": "closest",
          "mapbox": {
           "style": "light"
          },
          "paper_bgcolor": "white",
          "plot_bgcolor": "#E5ECF6",
          "polar": {
           "angularaxis": {
            "gridcolor": "white",
            "linecolor": "white",
            "ticks": ""
           },
           "bgcolor": "#E5ECF6",
           "radialaxis": {
            "gridcolor": "white",
            "linecolor": "white",
            "ticks": ""
           }
          },
          "scene": {
           "xaxis": {
            "backgroundcolor": "#E5ECF6",
            "gridcolor": "white",
            "gridwidth": 2,
            "linecolor": "white",
            "showbackground": true,
            "ticks": "",
            "zerolinecolor": "white"
           },
           "yaxis": {
            "backgroundcolor": "#E5ECF6",
            "gridcolor": "white",
            "gridwidth": 2,
            "linecolor": "white",
            "showbackground": true,
            "ticks": "",
            "zerolinecolor": "white"
           },
           "zaxis": {
            "backgroundcolor": "#E5ECF6",
            "gridcolor": "white",
            "gridwidth": 2,
            "linecolor": "white",
            "showbackground": true,
            "ticks": "",
            "zerolinecolor": "white"
           }
          },
          "shapedefaults": {
           "line": {
            "color": "#2a3f5f"
           }
          },
          "ternary": {
           "aaxis": {
            "gridcolor": "white",
            "linecolor": "white",
            "ticks": ""
           },
           "baxis": {
            "gridcolor": "white",
            "linecolor": "white",
            "ticks": ""
           },
           "bgcolor": "#E5ECF6",
           "caxis": {
            "gridcolor": "white",
            "linecolor": "white",
            "ticks": ""
           }
          },
          "title": {
           "x": 0.05
          },
          "xaxis": {
           "automargin": true,
           "gridcolor": "white",
           "linecolor": "white",
           "ticks": "",
           "title": {
            "standoff": 15
           },
           "zerolinecolor": "white",
           "zerolinewidth": 2
          },
          "yaxis": {
           "automargin": true,
           "gridcolor": "white",
           "linecolor": "white",
           "ticks": "",
           "title": {
            "standoff": 15
           },
           "zerolinecolor": "white",
           "zerolinewidth": 2
          }
         }
        },
        "xaxis": {
         "anchor": "y",
         "domain": [
          0,
          1
         ],
         "title": {
          "text": "Time"
         }
        },
        "yaxis": {
         "anchor": "x",
         "domain": [
          0,
          1
         ],
         "title": {
          "text": "Density1"
         }
        }
       }
      }
     },
     "metadata": {},
     "output_type": "display_data"
    }
   ],
   "source": [
    "px.box(df, x='Time', y='Density1', color='Food')"
   ]
  },
  {
   "cell_type": "markdown",
   "metadata": {},
   "source": [
    "Adding back some of our previous arguments, we also add two new ones:  hover_data and points"
   ]
  },
  {
   "cell_type": "code",
   "execution_count": 19,
   "metadata": {},
   "outputs": [
    {
     "data": {
      "application/vnd.plotly.v1+json": {
       "config": {
        "plotlyServerURL": "https://plot.ly"
       },
       "data": [
        {
         "alignmentgroup": "True",
         "boxpoints": "all",
         "customdata": [
          [
           "./20240321_140300_322/Plate000_Well2_Object0.tif_projection.tif"
          ],
          [
           "./20240321_140300_322/Plate000_Well2_Object1.tif_projection.tif"
          ],
          [
           "./20240321_140300_322/Plate000_Well2_Object2.tif_projection.tif"
          ],
          [
           "./20240321_140300_322/Plate000_Well2_Object3.tif_projection.tif"
          ],
          [
           "./20240321_140300_322/Plate000_Well2_Object4.tif_projection.tif"
          ],
          [
           "./20240321_140300_322/Plate000_Well2_Object5.tif_projection.tif"
          ],
          [
           "./20240321_140300_322/Plate000_Well2_Object6.tif_projection.tif"
          ],
          [
           "./20240321_140300_322/Plate000_Well2_Object7.tif_projection.tif"
          ],
          [
           "./20240321_140300_322/Plate000_Well3_Object0.tif_projection.tif"
          ],
          [
           "./20240321_140300_322/Plate000_Well3_Object1.tif_projection.tif"
          ],
          [
           "./20240321_140300_322/Plate000_Well3_Object2.tif_projection.tif"
          ],
          [
           "./20240321_140300_322/Plate000_Well3_Object3.tif_projection.tif"
          ],
          [
           "./20240321_140300_322/Plate000_Well3_Object4.tif_projection.tif"
          ],
          [
           "./20240321_140300_322/Plate000_Well3_Object5.tif_projection.tif"
          ],
          [
           "./20240321_140300_322/Plate000_Well3_Object6.tif_projection.tif"
          ],
          [
           "./20240321_140300_322/Plate000_Well3_Object7.tif_projection.tif"
          ],
          [
           "./20240321_140300_322/Plate000_Well4_Object0.tif_projection.tif"
          ],
          [
           "./20240321_140300_322/Plate000_Well4_Object1.tif_projection.tif"
          ],
          [
           "./20240321_140300_322/Plate000_Well4_Object2.tif_projection.tif"
          ],
          [
           "./20240321_140300_322/Plate000_Well4_Object3.tif_projection.tif"
          ],
          [
           "./20240321_140300_322/Plate000_Well4_Object4.tif_projection.tif"
          ],
          [
           "./20240321_140300_322/Plate000_Well4_Object5.tif_projection.tif"
          ],
          [
           "./20240321_140300_322/Plate000_Well4_Object6.tif_projection.tif"
          ],
          [
           "./20240321_140300_322/Plate000_Well4_Object7.tif_projection.tif"
          ],
          [
           "./20240321_140300_322/Plate001_Well1_Object0.tif_projection.tif"
          ],
          [
           "./20240321_140300_322/Plate001_Well1_Object1.tif_projection.tif"
          ],
          [
           "./20240321_140300_322/Plate001_Well1_Object2.tif_projection.tif"
          ],
          [
           "./20240321_140300_322/Plate001_Well1_Object3.tif_projection.tif"
          ],
          [
           "./20240321_140300_322/Plate001_Well1_Object4.tif_projection.tif"
          ],
          [
           "./20240321_140300_322/Plate001_Well1_Object5.tif_projection.tif"
          ],
          [
           "./20240321_140300_322/Plate001_Well1_Object6.tif_projection.tif"
          ],
          [
           "./20240321_140300_322/Plate001_Well1_Object7.tif_projection.tif"
          ],
          [
           "./20240321_140300_322/Plate001_Well2_Object0.tif_projection.tif"
          ],
          [
           "./20240321_140300_322/Plate001_Well2_Object1.tif_projection.tif"
          ],
          [
           "./20240321_140300_322/Plate001_Well2_Object2.tif_projection.tif"
          ],
          [
           "./20240321_140300_322/Plate001_Well2_Object3.tif_projection.tif"
          ],
          [
           "./20240321_140300_322/Plate001_Well2_Object4.tif_projection.tif"
          ],
          [
           "./20240321_140300_322/Plate001_Well2_Object5.tif_projection.tif"
          ],
          [
           "./20240321_140300_322/Plate001_Well2_Object6.tif_projection.tif"
          ],
          [
           "./20240321_140300_322/Plate001_Well2_Object7.tif_projection.tif"
          ],
          [
           "./20240321_140300_322/Plate001_Well3_Object0.tif_projection.tif"
          ],
          [
           "./20240321_140300_322/Plate001_Well3_Object1.tif_projection.tif"
          ],
          [
           "./20240321_140300_322/Plate001_Well3_Object2.tif_projection.tif"
          ],
          [
           "./20240321_140300_322/Plate001_Well3_Object3.tif_projection.tif"
          ],
          [
           "./20240321_140300_322/Plate001_Well3_Object4.tif_projection.tif"
          ],
          [
           "./20240321_140300_322/Plate001_Well3_Object5.tif_projection.tif"
          ],
          [
           "./20240321_140300_322/Plate001_Well3_Object6.tif_projection.tif"
          ],
          [
           "./20240321_140300_322/Plate001_Well3_Object7.tif_projection.tif"
          ],
          [
           "./20240321_140300_322/Plate001_Well4_Object0.tif_projection.tif"
          ],
          [
           "./20240321_140300_322/Plate001_Well4_Object1.tif_projection.tif"
          ],
          [
           "./20240321_140300_322/Plate001_Well4_Object2.tif_projection.tif"
          ],
          [
           "./20240321_140300_322/Plate001_Well4_Object3.tif_projection.tif"
          ],
          [
           "./20240321_140300_322/Plate001_Well4_Object4.tif_projection.tif"
          ],
          [
           "./20240321_140300_322/Plate001_Well4_Object5.tif_projection.tif"
          ],
          [
           "./20240321_140300_322/Plate001_Well4_Object6.tif_projection.tif"
          ],
          [
           "./20240321_140300_322/Plate001_Well4_Object7.tif_projection.tif"
          ],
          [
           "./20240321_140300_322/Plate002_Well1_Object0.tif_projection.tif"
          ],
          [
           "./20240321_140300_322/Plate002_Well1_Object1.tif_projection.tif"
          ],
          [
           "./20240321_140300_322/Plate002_Well1_Object2.tif_projection.tif"
          ],
          [
           "./20240321_140300_322/Plate002_Well1_Object3.tif_projection.tif"
          ],
          [
           "./20240321_140300_322/Plate002_Well1_Object4.tif_projection.tif"
          ],
          [
           "./20240321_140300_322/Plate002_Well1_Object5.tif_projection.tif"
          ],
          [
           "./20240321_140300_322/Plate002_Well1_Object6.tif_projection.tif"
          ],
          [
           "./20240321_140300_322/Plate002_Well1_Object7.tif_projection.tif"
          ],
          [
           "./20240321_140300_322/Plate002_Well2_Object0.tif_projection.tif"
          ],
          [
           "./20240321_140300_322/Plate002_Well2_Object1.tif_projection.tif"
          ],
          [
           "./20240321_140300_322/Plate002_Well2_Object2.tif_projection.tif"
          ],
          [
           "./20240321_140300_322/Plate002_Well2_Object3.tif_projection.tif"
          ],
          [
           "./20240321_140300_322/Plate002_Well2_Object4.tif_projection.tif"
          ],
          [
           "./20240321_140300_322/Plate002_Well2_Object5.tif_projection.tif"
          ],
          [
           "./20240321_140300_322/Plate002_Well2_Object6.tif_projection.tif"
          ],
          [
           "./20240321_140300_322/Plate002_Well2_Object7.tif_projection.tif"
          ],
          [
           "./20240321_140300_322/Plate002_Well2_Object8.tif_projection.tif"
          ],
          [
           "./20240321_140300_322/Plate002_Well3_Object0.tif_projection.tif"
          ],
          [
           "./20240321_140300_322/Plate002_Well3_Object1.tif_projection.tif"
          ],
          [
           "./20240321_140300_322/Plate002_Well3_Object2.tif_projection.tif"
          ],
          [
           "./20240321_140300_322/Plate002_Well3_Object3.tif_projection.tif"
          ],
          [
           "./20240321_140300_322/Plate002_Well3_Object4.tif_projection.tif"
          ],
          [
           "./20240321_140300_322/Plate002_Well3_Object5.tif_projection.tif"
          ],
          [
           "./20240321_140300_322/Plate002_Well3_Object6.tif_projection.tif"
          ],
          [
           "./20240321_140300_322/Plate002_Well3_Object7.tif_projection.tif"
          ],
          [
           "./20240321_140300_322/Plate002_Well3_Object8.tif_projection.tif"
          ],
          [
           "./20240321_140300_322/Plate002_Well3_Object9.tif_projection.tif"
          ],
          [
           "./20240321_140300_322/Plate002_Well4_Object0.tif_projection.tif"
          ],
          [
           "./20240321_140300_322/Plate002_Well4_Object1.tif_projection.tif"
          ],
          [
           "./20240321_140300_322/Plate002_Well4_Object10.tif_projection.tif"
          ],
          [
           "./20240321_140300_322/Plate002_Well4_Object2.tif_projection.tif"
          ],
          [
           "./20240321_140300_322/Plate002_Well4_Object3.tif_projection.tif"
          ],
          [
           "./20240321_140300_322/Plate002_Well4_Object4.tif_projection.tif"
          ],
          [
           "./20240321_140300_322/Plate002_Well4_Object5.tif_projection.tif"
          ],
          [
           "./20240321_140300_322/Plate002_Well4_Object6.tif_projection.tif"
          ],
          [
           "./20240321_140300_322/Plate002_Well4_Object7.tif_projection.tif"
          ],
          [
           "./20240321_140300_322/Plate002_Well4_Object8.tif_projection.tif"
          ],
          [
           "./20240321_140300_322/Plate002_Well4_Object9.tif_projection.tif"
          ]
         ],
         "hovertemplate": "Food=Artemia<br>Time since feeding=%{x}<br>Density of dividing cells=%{y}<br>File=%{customdata[0]}<extra></extra>",
         "legendgroup": "Artemia",
         "marker": {
          "color": "#636efa"
         },
         "name": "Artemia",
         "notched": false,
         "offsetgroup": "Artemia",
         "orientation": "v",
         "showlegend": true,
         "type": "box",
         "x": [
          "10min",
          "10min",
          "10min",
          "10min",
          "10min",
          "10min",
          "10min",
          "10min",
          "2h",
          "2h",
          "2h",
          "2h",
          "2h",
          "2h",
          "2h",
          "2h",
          "4h",
          "4h",
          "4h",
          "4h",
          "4h",
          "4h",
          "4h",
          "4h",
          "6h",
          "6h",
          "6h",
          "6h",
          "6h",
          "6h",
          "6h",
          "6h",
          "1d",
          "1d",
          "1d",
          "1d",
          "1d",
          "1d",
          "1d",
          "1d",
          "2d",
          "2d",
          "2d",
          "2d",
          "2d",
          "2d",
          "2d",
          "2d",
          "3d",
          "3d",
          "3d",
          "3d",
          "3d",
          "3d",
          "3d",
          "3d",
          "4d",
          "4d",
          "4d",
          "4d",
          "4d",
          "4d",
          "4d",
          "4d",
          "5d",
          "5d",
          "5d",
          "5d",
          "5d",
          "5d",
          "5d",
          "5d",
          "5d",
          "6d",
          "6d",
          "6d",
          "6d",
          "6d",
          "6d",
          "6d",
          "6d",
          "6d",
          "6d",
          "7d",
          "7d",
          "7d",
          "7d",
          "7d",
          "7d",
          "7d",
          "7d",
          "7d",
          "7d",
          "7d"
         ],
         "x0": " ",
         "xaxis": "x",
         "y": {
          "bdata": "XDgQkgWXSUBbarVuIIU+QIzQ10U0O0tADrm+tE3dP0BH8LckpOBJQP+thdVvAlJADdWc1WVrOkAFh1lg9tFAQK9vcZ77UGlAB9LFplX+c0BZ5Z2e0vBeQMl9YejH+F5A0K9S5gv1bkB6s7xh0bFkQHpkvWJXK3NA+ROVDattYUALbIQ0+S56QLmqR3VVOH5Ane9MDRmOfkAuwU5WIWGDQNtQMc4/yX9A5A5AD8pag0DallwgTO6GQNgbazX6zX9AwsBz70F3c0Dkh0ojpnx3QGgptAe1YXtAxovg2kTPgUAy2YncXd16QBSf8TPEkXZA96nPel2reUD3wUNijFp4QA0+KIOegXJAZlsXyD0zdEDogMkyiVB0QDi5hOgV7HVA1YEHYQn8dUBsZLITuYR2QKz6AbQyK3dADXIXYUoOdUAig4GMRSN3QJQePMmsCXZAQ4jQrbyTd0C+iSE52Qt3QInfXuPEEHRAaXY4FcRHcUAbUZCOgXJ2QEV0GUhBDnhAx+08lsOCc0DtHX+zvgZwQMj9WNLbhXNAYYMq2mFUcUCt8eN5Wh9xQHI5uTpb6GxAcNRljOqIZ0CyjMNPUtdqQKf8tQbAdmBAEyRbApVmXUCQEOUL2uZaQMY+t4YI52FAEGs7t9qoYkADqPPyhaJhQANptXYRe2FAvqX36KjDY0Ae+xcQM31YQBH8FGzIGWhA+0T53c94XECOMQPXjUhPQCIikKaVGWBAMnctIZ9lW0Ak7rH0Ie5aQNzdXi3Ss1xA4/viUhWFW0Dqe2h6ZIdeQMkSayuVCFZAX/+e7csGUEDWB2n4XIBUQCQ3eYDdIGBA2TtI9NcQWUDdPeU9c0JbQJ7lgeG/sU5APvCMEWS3VUDPh0b7iJxSQGJzYeZztVFA3+I893maXkDqu/C9HuZYQJTHiWVp9VVA1+f/j3KDVkDMHHm9h6JOQIs3z2SBsVFASshy2B67V0BKzcOuEnpdQJgIZSt51FlAIVENoATtW0A=",
          "dtype": "f8"
         },
         "y0": " ",
         "yaxis": "y"
        },
        {
         "alignmentgroup": "True",
         "boxpoints": "all",
         "customdata": [
          [
           "./20240321_140300_322/Plate003_Well1_Object0.tif_projection.tif"
          ],
          [
           "./20240321_140300_322/Plate003_Well1_Object1.tif_projection.tif"
          ],
          [
           "./20240321_140300_322/Plate003_Well1_Object2.tif_projection.tif"
          ],
          [
           "./20240321_140300_322/Plate003_Well1_Object3.tif_projection.tif"
          ],
          [
           "./20240321_140300_322/Plate003_Well1_Object4.tif_projection.tif"
          ],
          [
           "./20240321_140300_322/Plate003_Well1_Object5.tif_projection.tif"
          ],
          [
           "./20240321_140300_322/Plate003_Well1_Object6.tif_projection.tif"
          ],
          [
           "./20240321_140300_322/Plate003_Well1_Object7.tif_projection.tif"
          ],
          [
           "./20240321_140300_322/Plate003_Well2_Object0.tif_projection.tif"
          ],
          [
           "./20240321_140300_322/Plate003_Well2_Object1.tif_projection.tif"
          ],
          [
           "./20240321_140300_322/Plate003_Well2_Object2.tif_projection.tif"
          ],
          [
           "./20240321_140300_322/Plate003_Well2_Object3.tif_projection.tif"
          ],
          [
           "./20240321_140300_322/Plate003_Well2_Object4.tif_projection.tif"
          ],
          [
           "./20240321_140300_322/Plate003_Well2_Object5.tif_projection.tif"
          ],
          [
           "./20240321_140300_322/Plate003_Well2_Object6.tif_projection.tif"
          ],
          [
           "./20240321_140300_322/Plate003_Well2_Object7.tif_projection.tif"
          ],
          [
           "./20240321_140300_322/Plate003_Well3_Object0.tif_projection.tif"
          ],
          [
           "./20240321_140300_322/Plate003_Well3_Object1.tif_projection.tif"
          ],
          [
           "./20240321_140300_322/Plate003_Well3_Object2.tif_projection.tif"
          ],
          [
           "./20240321_140300_322/Plate003_Well3_Object3.tif_projection.tif"
          ],
          [
           "./20240321_140300_322/Plate003_Well3_Object4.tif_projection.tif"
          ],
          [
           "./20240321_140300_322/Plate003_Well3_Object5.tif_projection.tif"
          ],
          [
           "./20240321_140300_322/Plate003_Well3_Object6.tif_projection.tif"
          ],
          [
           "./20240321_140300_322/Plate003_Well3_Object7.tif_projection.tif"
          ],
          [
           "./20240321_140300_322/Plate003_Well4_Object0.tif_projection.tif"
          ],
          [
           "./20240321_140300_322/Plate003_Well4_Object1.tif_projection.tif"
          ],
          [
           "./20240321_140300_322/Plate003_Well4_Object2.tif_projection.tif"
          ],
          [
           "./20240321_140300_322/Plate003_Well4_Object3.tif_projection.tif"
          ],
          [
           "./20240321_140300_322/Plate003_Well4_Object4.tif_projection.tif"
          ],
          [
           "./20240321_140300_322/Plate003_Well4_Object5.tif_projection.tif"
          ],
          [
           "./20240321_140300_322/Plate003_Well4_Object6.tif_projection.tif"
          ],
          [
           "./20240321_140300_322/Plate003_Well4_Object7.tif_projection.tif"
          ],
          [
           "./20240321_140300_322/Plate003_Well4_Object8.tif_projection.tif"
          ],
          [
           "./20240321_140300_322/Plate004_Well1_Object0.tif_projection.tif"
          ],
          [
           "./20240321_140300_322/Plate004_Well1_Object1.tif_projection.tif"
          ],
          [
           "./20240321_140300_322/Plate004_Well1_Object2.tif_projection.tif"
          ],
          [
           "./20240321_140300_322/Plate004_Well1_Object3.tif_projection.tif"
          ],
          [
           "./20240321_140300_322/Plate004_Well1_Object4.tif_projection.tif"
          ],
          [
           "./20240321_140300_322/Plate004_Well1_Object5.tif_projection.tif"
          ],
          [
           "./20240321_140300_322/Plate004_Well1_Object6.tif_projection.tif"
          ],
          [
           "./20240321_140300_322/Plate004_Well1_Object7.tif_projection.tif"
          ],
          [
           "./20240321_140300_322/Plate004_Well2_Object0.tif_projection.tif"
          ],
          [
           "./20240321_140300_322/Plate004_Well2_Object1.tif_projection.tif"
          ],
          [
           "./20240321_140300_322/Plate004_Well2_Object2.tif_projection.tif"
          ],
          [
           "./20240321_140300_322/Plate004_Well2_Object3.tif_projection.tif"
          ],
          [
           "./20240321_140300_322/Plate004_Well2_Object4.tif_projection.tif"
          ],
          [
           "./20240321_140300_322/Plate004_Well2_Object5.tif_projection.tif"
          ],
          [
           "./20240321_140300_322/Plate004_Well2_Object6.tif_projection.tif"
          ],
          [
           "./20240321_140300_322/Plate004_Well2_Object7.tif_projection.tif"
          ],
          [
           "./20240321_140300_322/Plate004_Well3_Object0.tif_projection.tif"
          ],
          [
           "./20240321_140300_322/Plate004_Well3_Object1.tif_projection.tif"
          ],
          [
           "./20240321_140300_322/Plate004_Well3_Object2.tif_projection.tif"
          ],
          [
           "./20240321_140300_322/Plate004_Well3_Object3.tif_projection.tif"
          ],
          [
           "./20240321_140300_322/Plate004_Well3_Object4.tif_projection.tif"
          ],
          [
           "./20240321_140300_322/Plate004_Well3_Object5.tif_projection.tif"
          ],
          [
           "./20240321_140300_322/Plate004_Well3_Object6.tif_projection.tif"
          ],
          [
           "./20240321_140300_322/Plate004_Well3_Object7.tif_projection.tif"
          ],
          [
           "./20240321_140300_322/Plate004_Well4_Object1.tif_projection.tif"
          ],
          [
           "./20240321_140300_322/Plate004_Well4_Object2.tif_projection.tif"
          ],
          [
           "./20240321_140300_322/Plate004_Well4_Object3.tif_projection.tif"
          ],
          [
           "./20240321_140300_322/Plate004_Well4_Object4.tif_projection.tif"
          ],
          [
           "./20240321_140300_322/Plate004_Well4_Object5.tif_projection.tif"
          ],
          [
           "./20240321_140300_322/Plate004_Well4_Object6.tif_projection.tif"
          ],
          [
           "./20240321_140300_322/Plate004_Well4_Object7.tif_projection.tif"
          ],
          [
           "./20240321_140300_322/Plate004_Well4_Object8.tif_projection.tif"
          ],
          [
           "./20240321_140300_322/Plate005_Well1_Object0.tif_projection.tif"
          ],
          [
           "./20240321_140300_322/Plate005_Well1_Object1.tif_projection.tif"
          ],
          [
           "./20240321_140300_322/Plate005_Well1_Object2.tif_projection.tif"
          ],
          [
           "./20240321_140300_322/Plate005_Well1_Object3.tif_projection.tif"
          ],
          [
           "./20240321_140300_322/Plate005_Well1_Object4.tif_projection.tif"
          ],
          [
           "./20240321_140300_322/Plate005_Well1_Object5.tif_projection.tif"
          ],
          [
           "./20240321_140300_322/Plate005_Well1_Object6.tif_projection.tif"
          ],
          [
           "./20240321_140300_322/Plate005_Well1_Object7.tif_projection.tif"
          ],
          [
           "./20240321_140300_322/Plate005_Well1_Object8.tif_projection.tif"
          ],
          [
           "./20240321_140300_322/Plate005_Well1_Object9.tif_projection.tif"
          ],
          [
           "./20240321_140300_322/Plate005_Well2_Object0.tif_projection.tif"
          ],
          [
           "./20240321_140300_322/Plate005_Well2_Object1.tif_projection.tif"
          ],
          [
           "./20240321_140300_322/Plate005_Well2_Object2.tif_projection.tif"
          ],
          [
           "./20240321_140300_322/Plate005_Well2_Object3.tif_projection.tif"
          ],
          [
           "./20240321_140300_322/Plate005_Well2_Object4.tif_projection.tif"
          ],
          [
           "./20240321_140300_322/Plate005_Well2_Object5.tif_projection.tif"
          ],
          [
           "./20240321_140300_322/Plate005_Well2_Object6.tif_projection.tif"
          ],
          [
           "./20240321_140300_322/Plate005_Well2_Object7.tif_projection.tif"
          ],
          [
           "./20240321_140300_322/Plate005_Well2_Object8.tif_projection.tif"
          ],
          [
           "./20240321_140300_322/Plate005_Well2_Object9.tif_projection.tif"
          ],
          [
           "./20240321_140300_322/Plate005_Well3_Object0.tif_projection.tif"
          ],
          [
           "./20240321_140300_322/Plate005_Well3_Object1.tif_projection.tif"
          ],
          [
           "./20240321_140300_322/Plate005_Well3_Object10.tif_projection.tif"
          ],
          [
           "./20240321_140300_322/Plate005_Well3_Object2.tif_projection.tif"
          ],
          [
           "./20240321_140300_322/Plate005_Well3_Object3.tif_projection.tif"
          ],
          [
           "./20240321_140300_322/Plate005_Well3_Object4.tif_projection.tif"
          ],
          [
           "./20240321_140300_322/Plate005_Well3_Object5.tif_projection.tif"
          ],
          [
           "./20240321_140300_322/Plate005_Well3_Object6.tif_projection.tif"
          ],
          [
           "./20240321_140300_322/Plate005_Well3_Object7.tif_projection.tif"
          ],
          [
           "./20240321_140300_322/Plate005_Well3_Object8.tif_projection.tif"
          ],
          [
           "./20240321_140300_322/Plate005_Well3_Object9.tif_projection.tif"
          ]
         ],
         "hovertemplate": "Food=Liver<br>Time since feeding=%{x}<br>Density of dividing cells=%{y}<br>File=%{customdata[0]}<extra></extra>",
         "legendgroup": "Liver",
         "marker": {
          "color": "#EF553B"
         },
         "name": "Liver",
         "notched": false,
         "offsetgroup": "Liver",
         "orientation": "v",
         "showlegend": true,
         "type": "box",
         "x": [
          "10min",
          "10min",
          "10min",
          "10min",
          "10min",
          "10min",
          "10min",
          "10min",
          "2h",
          "2h",
          "2h",
          "2h",
          "2h",
          "2h",
          "2h",
          "2h",
          "4h",
          "4h",
          "4h",
          "4h",
          "4h",
          "4h",
          "4h",
          "4h",
          "6h",
          "6h",
          "6h",
          "6h",
          "6h",
          "6h",
          "6h",
          "6h",
          "6h",
          "1d",
          "1d",
          "1d",
          "1d",
          "1d",
          "1d",
          "1d",
          "1d",
          "2d",
          "2d",
          "2d",
          "2d",
          "2d",
          "2d",
          "2d",
          "2d",
          "3d",
          "3d",
          "3d",
          "3d",
          "3d",
          "3d",
          "3d",
          "3d",
          "4d",
          "4d",
          "4d",
          "4d",
          "4d",
          "4d",
          "4d",
          "4d",
          "5d",
          "5d",
          "5d",
          "5d",
          "5d",
          "5d",
          "5d",
          "5d",
          "5d",
          "5d",
          "6d",
          "6d",
          "6d",
          "6d",
          "6d",
          "6d",
          "6d",
          "6d",
          "6d",
          "6d",
          "7d",
          "7d",
          "7d",
          "7d",
          "7d",
          "7d",
          "7d",
          "7d",
          "7d",
          "7d",
          "7d"
         ],
         "x0": " ",
         "xaxis": "x",
         "y": {
          "bdata": "HNVE+kjSPEDTAd48tLtQQOh+d8CvpkZAUtluimClSUDu5pBxGIA6QH2Sv6TG/ztAGX0/FJC5VkDj/46oUAU0QM2euqjM3ltAdQEvM2ycZkCosRjQRjJzQE7etqXEsF1AIngy7hwncUBuREE6BnRqQFOVtrgGpXFADUuohTc/b0DvVMA972B5QH11+uZjknlA4WJFDUYddkDE6F7Mu114QCFT40oijHxA5s3hWj2UgkDEgrF0NBN4QHeBN0nYfHtA0Ph0K7pbb0DBdLVwdJ9nQFLlxdMcKnNAaT3XUtunckAY/bLFP/F0QE7VmGssb3VA3tDvVlGhckAdJzvs9Bx1QLi3EQXpznhA//IkRBQsaUDomQOpOdVpQGxwbIdw3HVAfnoiPub3dEBge8ECk5hzQFoeWhoOa3RA3j6rzHQsc0CM/FXb6Ll0QODVcmcmWGlAC2MLQU7CdEDy2CocnBd1QHMFJRYCXHZAFeuvslGgdECCbWna6jV2QCB0dWxpd3lAAWxAhPjyeEAKTW0EHQdyQLgwHBnVEXFAeCHCZE+AdECJMZ9iay5wQPgLh+/OwnZAMDvVa6QjdUAgArPn1/x3QHSfd766j3lAYwtBDoq4YED+VvzwfbFpQMzjeiUa4mVAokGv5I9mcEBOcPsvIbBuQM7drpcmiHZATqVV41tydUCfHKrOz7NtQPWYUNo+ulRAvCWUGQpmY0DsP3yqlHtWQAAfWUyuslZAH0lJD8PdY0C1vUC9lwdXQNfp9ki581tAB1L3O3PdVkAuNHywcYptQNks8kbB0GhA5g+8EGE9WUCNFrkK1l5XQM/b2OxIHGFAjmuNUlMkW0BGYXL+wVJUQALJhRQNP1NA+lHDbaM8W0A3tSIgFYBUQAOHBhiM6VRAFn/jhOz7WEAewMcFjJBXQEfWbZLX+FNAvCvU/VDFVEDQxjrq4nlUQK4DEAyamVhAwP6QI8JuWUCLaeiXbzdWQHrffBMYp1hAnPgPjr66YUCxYgLImkpbQL65ZMFpw11A",
          "dtype": "f8"
         },
         "y0": " ",
         "yaxis": "y"
        },
        {
         "alignmentgroup": "True",
         "boxpoints": "all",
         "customdata": [
          [
           "./20240321_140300_322/Plate005_Well4_Object0.tif_projection.tif"
          ],
          [
           "./20240321_140300_322/Plate005_Well4_Object1.tif_projection.tif"
          ],
          [
           "./20240321_140300_322/Plate005_Well4_Object2.tif_projection.tif"
          ],
          [
           "./20240321_140300_322/Plate005_Well4_Object3.tif_projection.tif"
          ],
          [
           "./20240321_140300_322/Plate005_Well4_Object4.tif_projection.tif"
          ],
          [
           "./20240321_140300_322/Plate005_Well4_Object5.tif_projection.tif"
          ],
          [
           "./20240321_140300_322/Plate005_Well4_Object6.tif_projection.tif"
          ],
          [
           "./20240321_140300_322/Plate005_Well4_Object7.tif_projection.tif"
          ],
          [
           "./20240321_140300_322/Plate005_Well4_Object8.tif_projection.tif"
          ],
          [
           "./20240321_140300_322/Plate006_Well1_Object0.tif_projection.tif"
          ],
          [
           "./20240321_140300_322/Plate006_Well1_Object1.tif_projection.tif"
          ],
          [
           "./20240321_140300_322/Plate006_Well1_Object2.tif_projection.tif"
          ],
          [
           "./20240321_140300_322/Plate006_Well1_Object3.tif_projection.tif"
          ],
          [
           "./20240321_140300_322/Plate006_Well1_Object4.tif_projection.tif"
          ],
          [
           "./20240321_140300_322/Plate006_Well1_Object5.tif_projection.tif"
          ],
          [
           "./20240321_140300_322/Plate006_Well1_Object6.tif_projection.tif"
          ],
          [
           "./20240321_140300_322/Plate006_Well1_Object7.tif_projection.tif"
          ],
          [
           "./20240321_140300_322/Plate006_Well2_Object0.tif_projection.tif"
          ],
          [
           "./20240321_140300_322/Plate006_Well2_Object1.tif_projection.tif"
          ],
          [
           "./20240321_140300_322/Plate006_Well2_Object2.tif_projection.tif"
          ],
          [
           "./20240321_140300_322/Plate006_Well2_Object3.tif_projection.tif"
          ],
          [
           "./20240321_140300_322/Plate006_Well2_Object4.tif_projection.tif"
          ],
          [
           "./20240321_140300_322/Plate006_Well2_Object5.tif_projection.tif"
          ],
          [
           "./20240321_140300_322/Plate006_Well2_Object6.tif_projection.tif"
          ],
          [
           "./20240321_140300_322/Plate006_Well2_Object7.tif_projection.tif"
          ],
          [
           "./20240321_140300_322/Plate006_Well2_Object8.tif_projection.tif"
          ],
          [
           "./20240321_140300_322/Plate006_Well3_Object0.tif_projection.tif"
          ],
          [
           "./20240321_140300_322/Plate006_Well3_Object1.tif_projection.tif"
          ],
          [
           "./20240321_140300_322/Plate006_Well3_Object2.tif_projection.tif"
          ],
          [
           "./20240321_140300_322/Plate006_Well3_Object3.tif_projection.tif"
          ],
          [
           "./20240321_140300_322/Plate006_Well3_Object4.tif_projection.tif"
          ],
          [
           "./20240321_140300_322/Plate006_Well3_Object5.tif_projection.tif"
          ],
          [
           "./20240321_140300_322/Plate006_Well3_Object6.tif_projection.tif"
          ],
          [
           "./20240321_140300_322/Plate006_Well3_Object7.tif_projection.tif"
          ],
          [
           "./20240321_140300_322/Plate006_Well4_Object0.tif_projection.tif"
          ],
          [
           "./20240321_140300_322/Plate006_Well4_Object1.tif_projection.tif"
          ],
          [
           "./20240321_140300_322/Plate006_Well4_Object2.tif_projection.tif"
          ],
          [
           "./20240321_140300_322/Plate006_Well4_Object3.tif_projection.tif"
          ],
          [
           "./20240321_140300_322/Plate006_Well4_Object4.tif_projection.tif"
          ],
          [
           "./20240321_140300_322/Plate006_Well4_Object5.tif_projection.tif"
          ],
          [
           "./20240321_140300_322/Plate006_Well4_Object6.tif_projection.tif"
          ],
          [
           "./20240321_140300_322/Plate006_Well4_Object7.tif_projection.tif"
          ],
          [
           "./20240321_140300_322/Plate007_Well1_Object0.tif_projection.tif"
          ],
          [
           "./20240321_140300_322/Plate007_Well1_Object1.tif_projection.tif"
          ],
          [
           "./20240321_140300_322/Plate007_Well1_Object2.tif_projection.tif"
          ],
          [
           "./20240321_140300_322/Plate007_Well1_Object3.tif_projection.tif"
          ],
          [
           "./20240321_140300_322/Plate007_Well1_Object4.tif_projection.tif"
          ],
          [
           "./20240321_140300_322/Plate007_Well1_Object5.tif_projection.tif"
          ],
          [
           "./20240321_140300_322/Plate007_Well1_Object6.tif_projection.tif"
          ],
          [
           "./20240321_140300_322/Plate007_Well1_Object8.tif_projection.tif"
          ],
          [
           "./20240321_140300_322/Plate007_Well2_Object0.tif_projection.tif"
          ],
          [
           "./20240321_140300_322/Plate007_Well2_Object1.tif_projection.tif"
          ],
          [
           "./20240321_140300_322/Plate007_Well2_Object2.tif_projection.tif"
          ],
          [
           "./20240321_140300_322/Plate007_Well2_Object3.tif_projection.tif"
          ],
          [
           "./20240321_140300_322/Plate007_Well2_Object4.tif_projection.tif"
          ],
          [
           "./20240321_140300_322/Plate007_Well2_Object5.tif_projection.tif"
          ],
          [
           "./20240321_140300_322/Plate007_Well2_Object6.tif_projection.tif"
          ],
          [
           "./20240321_140300_322/Plate007_Well3_Object0.tif_projection.tif"
          ],
          [
           "./20240321_140300_322/Plate007_Well3_Object1.tif_projection.tif"
          ],
          [
           "./20240321_140300_322/Plate007_Well3_Object2.tif_projection.tif"
          ],
          [
           "./20240321_140300_322/Plate007_Well3_Object3.tif_projection.tif"
          ],
          [
           "./20240321_140300_322/Plate007_Well3_Object4.tif_projection.tif"
          ],
          [
           "./20240321_140300_322/Plate007_Well3_Object5.tif_projection.tif"
          ],
          [
           "./20240321_140300_322/Plate007_Well3_Object6.tif_projection.tif"
          ],
          [
           "./20240321_140300_322/Plate007_Well3_Object7.tif_projection.tif"
          ],
          [
           "./20240321_140300_322/Plate007_Well4_Object4.tif_projection.tif"
          ],
          [
           "./20240321_140300_322/Plate007_Well4_Object5.tif_projection.tif"
          ],
          [
           "./20240321_140300_322/Plate007_Well4_Object6.tif_projection.tif"
          ],
          [
           "./20240321_140300_322/Plate007_Well4_Object7.tif_projection.tif"
          ],
          [
           "./20240321_140300_322/Plate008_Well1_Object0.tif_projection.tif"
          ],
          [
           "./20240321_140300_322/Plate008_Well1_Object1.tif_projection.tif"
          ],
          [
           "./20240321_140300_322/Plate008_Well1_Object2.tif_projection.tif"
          ],
          [
           "./20240321_140300_322/Plate008_Well1_Object3.tif_projection.tif"
          ],
          [
           "./20240321_140300_322/Plate008_Well1_Object4.tif_projection.tif"
          ],
          [
           "./20240321_140300_322/Plate008_Well1_Object5.tif_projection.tif"
          ],
          [
           "./20240321_140300_322/Plate008_Well1_Object6.tif_projection.tif"
          ],
          [
           "./20240321_140300_322/Plate008_Well1_Object7.tif_projection.tif"
          ],
          [
           "./20240321_140300_322/Plate008_Well1_Object8.tif_projection.tif"
          ],
          [
           "./20240321_140300_322/Plate008_Well1_Object9.tif_projection.tif"
          ],
          [
           "./20240321_140300_322/Plate008_Well2_Object0.tif_projection.tif"
          ],
          [
           "./20240321_140300_322/Plate008_Well2_Object1.tif_projection.tif"
          ],
          [
           "./20240321_140300_322/Plate008_Well2_Object10.tif_projection.tif"
          ],
          [
           "./20240321_140300_322/Plate008_Well2_Object2.tif_projection.tif"
          ],
          [
           "./20240321_140300_322/Plate008_Well2_Object3.tif_projection.tif"
          ],
          [
           "./20240321_140300_322/Plate008_Well2_Object4.tif_projection.tif"
          ],
          [
           "./20240321_140300_322/Plate008_Well2_Object5.tif_projection.tif"
          ],
          [
           "./20240321_140300_322/Plate008_Well2_Object6.tif_projection.tif"
          ],
          [
           "./20240321_140300_322/Plate008_Well2_Object7.tif_projection.tif"
          ],
          [
           "./20240321_140300_322/Plate008_Well2_Object8.tif_projection.tif"
          ],
          [
           "./20240321_140300_322/Plate008_Well2_Object9.tif_projection.tif"
          ]
         ],
         "hovertemplate": "Food=Peptone<br>Time since feeding=%{x}<br>Density of dividing cells=%{y}<br>File=%{customdata[0]}<extra></extra>",
         "legendgroup": "Peptone",
         "marker": {
          "color": "#00cc96"
         },
         "name": "Peptone",
         "notched": false,
         "offsetgroup": "Peptone",
         "orientation": "v",
         "showlegend": true,
         "type": "box",
         "x": [
          "10min",
          "10min",
          "10min",
          "10min",
          "10min",
          "10min",
          "10min",
          "10min",
          "10min",
          "2h",
          "2h",
          "2h",
          "2h",
          "2h",
          "2h",
          "2h",
          "2h",
          "4h",
          "4h",
          "4h",
          "4h",
          "4h",
          "4h",
          "4h",
          "4h",
          "4h",
          "6h",
          "6h",
          "6h",
          "6h",
          "6h",
          "6h",
          "6h",
          "6h",
          "1d",
          "1d",
          "1d",
          "1d",
          "1d",
          "1d",
          "1d",
          "1d",
          "2d",
          "2d",
          "2d",
          "2d",
          "2d",
          "2d",
          "2d",
          "2d",
          "3d",
          "3d",
          "3d",
          "3d",
          "3d",
          "3d",
          "3d",
          "4d",
          "4d",
          "4d",
          "4d",
          "4d",
          "4d",
          "4d",
          "4d",
          "5d",
          "5d",
          "5d",
          "5d",
          "6d",
          "6d",
          "6d",
          "6d",
          "6d",
          "6d",
          "6d",
          "6d",
          "6d",
          "6d",
          "7d",
          "7d",
          "7d",
          "7d",
          "7d",
          "7d",
          "7d",
          "7d",
          "7d",
          "7d",
          "7d"
         ],
         "x0": " ",
         "xaxis": "x",
         "y": {
          "bdata": "P9neuBbKZUCnypzT0Z1hQLO1vkhoG2dAd/8O+/M6YEBEY5I2OpNgQHNW+r8ZtGVACdajNhIjWED/w6dKpUVbQNjeAmTDI2FAsVJBRRXheUC2IRD5WCR9QEvNeSFYYn1A7GmHv+aofUAVRf5PVLR/QBM3XQWnh39AnR4lwEpggUCTOCuiplZ9QC1dwTbidHJANF2ZAbh/dEBAvb57jHJ1QGuad5zih3RALo1feOWzdEAP0egOgqd3QBI6noUzeHVABZQ8jcqndUBmYImsWup2QJqR5jTwCmxAsQy7OSamb0Aeozzzso9pQG6Ysh2d1m5AzJseb036aUARacDF7x1tQEM/rmjOiGxAuuevRqyubEC17SiMNfFSQGkjrs53A1hAMrvdgfCAYUCk2eFUEA5bQFd1uTWnM1NAK5+KwL3qZUD8VBUaiNZcQBj8aP658FRAubsYFBdgW0Cq+7YWnAZbQPAnU5pHu1hA8OHtnMFeWUAqvkY3p+FiQOu0A+gWdVZAEEcNXNQjWkALoHMSJY5cQA3vB3ZbVVZAe4SaIdUXWkBrZHhorz9XQEbtfhVgDllAeW+xR02yX0Dvf/QL/gRPQMu4DKzhXFdAVr9vz7X2WEBuQxiBKUhTQJvWXCSjw05ApnZtDI0wU0A6J5Omg9pTQK+dIJiAv1FAraOqCSKXXkBUKpd8IkxcQFb18jvNdVJAOCvDNGNPUEDoqN2OtGFYQEEh6XCAxk1AXIua2JHMTECCeLh407hOQDGjL++3BFBAPjFfHGRMT0Cjb1ZtjGdRQNkLPxeR4kxAttsNJi7NU0Dc7R+wV9xRQDLU9ulXGFRAUyH9eq6rVEBIQH2yv/9UQImJvJtdQ15A2NLlxfC1UkArxel/FJJaQCfV42OcnFdAlglcqlR7VkCL6K5XXi1RQAtnjheYdFhAgC5U3ScGUkDLBgQAaF5PQObnCt+Q2VNA",
          "dtype": "f8"
         },
         "y0": " ",
         "yaxis": "y"
        }
       ],
       "layout": {
        "boxmode": "group",
        "height": 600,
        "legend": {
         "title": {
          "text": "Food"
         },
         "tracegroupgap": 0
        },
        "template": {
         "data": {
          "bar": [
           {
            "error_x": {
             "color": "#2a3f5f"
            },
            "error_y": {
             "color": "#2a3f5f"
            },
            "marker": {
             "line": {
              "color": "#E5ECF6",
              "width": 0.5
             },
             "pattern": {
              "fillmode": "overlay",
              "size": 10,
              "solidity": 0.2
             }
            },
            "type": "bar"
           }
          ],
          "barpolar": [
           {
            "marker": {
             "line": {
              "color": "#E5ECF6",
              "width": 0.5
             },
             "pattern": {
              "fillmode": "overlay",
              "size": 10,
              "solidity": 0.2
             }
            },
            "type": "barpolar"
           }
          ],
          "carpet": [
           {
            "aaxis": {
             "endlinecolor": "#2a3f5f",
             "gridcolor": "white",
             "linecolor": "white",
             "minorgridcolor": "white",
             "startlinecolor": "#2a3f5f"
            },
            "baxis": {
             "endlinecolor": "#2a3f5f",
             "gridcolor": "white",
             "linecolor": "white",
             "minorgridcolor": "white",
             "startlinecolor": "#2a3f5f"
            },
            "type": "carpet"
           }
          ],
          "choropleth": [
           {
            "colorbar": {
             "outlinewidth": 0,
             "ticks": ""
            },
            "type": "choropleth"
           }
          ],
          "contour": [
           {
            "colorbar": {
             "outlinewidth": 0,
             "ticks": ""
            },
            "colorscale": [
             [
              0,
              "#0d0887"
             ],
             [
              0.1111111111111111,
              "#46039f"
             ],
             [
              0.2222222222222222,
              "#7201a8"
             ],
             [
              0.3333333333333333,
              "#9c179e"
             ],
             [
              0.4444444444444444,
              "#bd3786"
             ],
             [
              0.5555555555555556,
              "#d8576b"
             ],
             [
              0.6666666666666666,
              "#ed7953"
             ],
             [
              0.7777777777777778,
              "#fb9f3a"
             ],
             [
              0.8888888888888888,
              "#fdca26"
             ],
             [
              1,
              "#f0f921"
             ]
            ],
            "type": "contour"
           }
          ],
          "contourcarpet": [
           {
            "colorbar": {
             "outlinewidth": 0,
             "ticks": ""
            },
            "type": "contourcarpet"
           }
          ],
          "heatmap": [
           {
            "colorbar": {
             "outlinewidth": 0,
             "ticks": ""
            },
            "colorscale": [
             [
              0,
              "#0d0887"
             ],
             [
              0.1111111111111111,
              "#46039f"
             ],
             [
              0.2222222222222222,
              "#7201a8"
             ],
             [
              0.3333333333333333,
              "#9c179e"
             ],
             [
              0.4444444444444444,
              "#bd3786"
             ],
             [
              0.5555555555555556,
              "#d8576b"
             ],
             [
              0.6666666666666666,
              "#ed7953"
             ],
             [
              0.7777777777777778,
              "#fb9f3a"
             ],
             [
              0.8888888888888888,
              "#fdca26"
             ],
             [
              1,
              "#f0f921"
             ]
            ],
            "type": "heatmap"
           }
          ],
          "histogram": [
           {
            "marker": {
             "pattern": {
              "fillmode": "overlay",
              "size": 10,
              "solidity": 0.2
             }
            },
            "type": "histogram"
           }
          ],
          "histogram2d": [
           {
            "colorbar": {
             "outlinewidth": 0,
             "ticks": ""
            },
            "colorscale": [
             [
              0,
              "#0d0887"
             ],
             [
              0.1111111111111111,
              "#46039f"
             ],
             [
              0.2222222222222222,
              "#7201a8"
             ],
             [
              0.3333333333333333,
              "#9c179e"
             ],
             [
              0.4444444444444444,
              "#bd3786"
             ],
             [
              0.5555555555555556,
              "#d8576b"
             ],
             [
              0.6666666666666666,
              "#ed7953"
             ],
             [
              0.7777777777777778,
              "#fb9f3a"
             ],
             [
              0.8888888888888888,
              "#fdca26"
             ],
             [
              1,
              "#f0f921"
             ]
            ],
            "type": "histogram2d"
           }
          ],
          "histogram2dcontour": [
           {
            "colorbar": {
             "outlinewidth": 0,
             "ticks": ""
            },
            "colorscale": [
             [
              0,
              "#0d0887"
             ],
             [
              0.1111111111111111,
              "#46039f"
             ],
             [
              0.2222222222222222,
              "#7201a8"
             ],
             [
              0.3333333333333333,
              "#9c179e"
             ],
             [
              0.4444444444444444,
              "#bd3786"
             ],
             [
              0.5555555555555556,
              "#d8576b"
             ],
             [
              0.6666666666666666,
              "#ed7953"
             ],
             [
              0.7777777777777778,
              "#fb9f3a"
             ],
             [
              0.8888888888888888,
              "#fdca26"
             ],
             [
              1,
              "#f0f921"
             ]
            ],
            "type": "histogram2dcontour"
           }
          ],
          "mesh3d": [
           {
            "colorbar": {
             "outlinewidth": 0,
             "ticks": ""
            },
            "type": "mesh3d"
           }
          ],
          "parcoords": [
           {
            "line": {
             "colorbar": {
              "outlinewidth": 0,
              "ticks": ""
             }
            },
            "type": "parcoords"
           }
          ],
          "pie": [
           {
            "automargin": true,
            "type": "pie"
           }
          ],
          "scatter": [
           {
            "fillpattern": {
             "fillmode": "overlay",
             "size": 10,
             "solidity": 0.2
            },
            "type": "scatter"
           }
          ],
          "scatter3d": [
           {
            "line": {
             "colorbar": {
              "outlinewidth": 0,
              "ticks": ""
             }
            },
            "marker": {
             "colorbar": {
              "outlinewidth": 0,
              "ticks": ""
             }
            },
            "type": "scatter3d"
           }
          ],
          "scattercarpet": [
           {
            "marker": {
             "colorbar": {
              "outlinewidth": 0,
              "ticks": ""
             }
            },
            "type": "scattercarpet"
           }
          ],
          "scattergeo": [
           {
            "marker": {
             "colorbar": {
              "outlinewidth": 0,
              "ticks": ""
             }
            },
            "type": "scattergeo"
           }
          ],
          "scattergl": [
           {
            "marker": {
             "colorbar": {
              "outlinewidth": 0,
              "ticks": ""
             }
            },
            "type": "scattergl"
           }
          ],
          "scattermap": [
           {
            "marker": {
             "colorbar": {
              "outlinewidth": 0,
              "ticks": ""
             }
            },
            "type": "scattermap"
           }
          ],
          "scattermapbox": [
           {
            "marker": {
             "colorbar": {
              "outlinewidth": 0,
              "ticks": ""
             }
            },
            "type": "scattermapbox"
           }
          ],
          "scatterpolar": [
           {
            "marker": {
             "colorbar": {
              "outlinewidth": 0,
              "ticks": ""
             }
            },
            "type": "scatterpolar"
           }
          ],
          "scatterpolargl": [
           {
            "marker": {
             "colorbar": {
              "outlinewidth": 0,
              "ticks": ""
             }
            },
            "type": "scatterpolargl"
           }
          ],
          "scatterternary": [
           {
            "marker": {
             "colorbar": {
              "outlinewidth": 0,
              "ticks": ""
             }
            },
            "type": "scatterternary"
           }
          ],
          "surface": [
           {
            "colorbar": {
             "outlinewidth": 0,
             "ticks": ""
            },
            "colorscale": [
             [
              0,
              "#0d0887"
             ],
             [
              0.1111111111111111,
              "#46039f"
             ],
             [
              0.2222222222222222,
              "#7201a8"
             ],
             [
              0.3333333333333333,
              "#9c179e"
             ],
             [
              0.4444444444444444,
              "#bd3786"
             ],
             [
              0.5555555555555556,
              "#d8576b"
             ],
             [
              0.6666666666666666,
              "#ed7953"
             ],
             [
              0.7777777777777778,
              "#fb9f3a"
             ],
             [
              0.8888888888888888,
              "#fdca26"
             ],
             [
              1,
              "#f0f921"
             ]
            ],
            "type": "surface"
           }
          ],
          "table": [
           {
            "cells": {
             "fill": {
              "color": "#EBF0F8"
             },
             "line": {
              "color": "white"
             }
            },
            "header": {
             "fill": {
              "color": "#C8D4E3"
             },
             "line": {
              "color": "white"
             }
            },
            "type": "table"
           }
          ]
         },
         "layout": {
          "annotationdefaults": {
           "arrowcolor": "#2a3f5f",
           "arrowhead": 0,
           "arrowwidth": 1
          },
          "autotypenumbers": "strict",
          "coloraxis": {
           "colorbar": {
            "outlinewidth": 0,
            "ticks": ""
           }
          },
          "colorscale": {
           "diverging": [
            [
             0,
             "#8e0152"
            ],
            [
             0.1,
             "#c51b7d"
            ],
            [
             0.2,
             "#de77ae"
            ],
            [
             0.3,
             "#f1b6da"
            ],
            [
             0.4,
             "#fde0ef"
            ],
            [
             0.5,
             "#f7f7f7"
            ],
            [
             0.6,
             "#e6f5d0"
            ],
            [
             0.7,
             "#b8e186"
            ],
            [
             0.8,
             "#7fbc41"
            ],
            [
             0.9,
             "#4d9221"
            ],
            [
             1,
             "#276419"
            ]
           ],
           "sequential": [
            [
             0,
             "#0d0887"
            ],
            [
             0.1111111111111111,
             "#46039f"
            ],
            [
             0.2222222222222222,
             "#7201a8"
            ],
            [
             0.3333333333333333,
             "#9c179e"
            ],
            [
             0.4444444444444444,
             "#bd3786"
            ],
            [
             0.5555555555555556,
             "#d8576b"
            ],
            [
             0.6666666666666666,
             "#ed7953"
            ],
            [
             0.7777777777777778,
             "#fb9f3a"
            ],
            [
             0.8888888888888888,
             "#fdca26"
            ],
            [
             1,
             "#f0f921"
            ]
           ],
           "sequentialminus": [
            [
             0,
             "#0d0887"
            ],
            [
             0.1111111111111111,
             "#46039f"
            ],
            [
             0.2222222222222222,
             "#7201a8"
            ],
            [
             0.3333333333333333,
             "#9c179e"
            ],
            [
             0.4444444444444444,
             "#bd3786"
            ],
            [
             0.5555555555555556,
             "#d8576b"
            ],
            [
             0.6666666666666666,
             "#ed7953"
            ],
            [
             0.7777777777777778,
             "#fb9f3a"
            ],
            [
             0.8888888888888888,
             "#fdca26"
            ],
            [
             1,
             "#f0f921"
            ]
           ]
          },
          "colorway": [
           "#636efa",
           "#EF553B",
           "#00cc96",
           "#ab63fa",
           "#FFA15A",
           "#19d3f3",
           "#FF6692",
           "#B6E880",
           "#FF97FF",
           "#FECB52"
          ],
          "font": {
           "color": "#2a3f5f"
          },
          "geo": {
           "bgcolor": "white",
           "lakecolor": "white",
           "landcolor": "#E5ECF6",
           "showlakes": true,
           "showland": true,
           "subunitcolor": "white"
          },
          "hoverlabel": {
           "align": "left"
          },
          "hovermode": "closest",
          "mapbox": {
           "style": "light"
          },
          "paper_bgcolor": "white",
          "plot_bgcolor": "#E5ECF6",
          "polar": {
           "angularaxis": {
            "gridcolor": "white",
            "linecolor": "white",
            "ticks": ""
           },
           "bgcolor": "#E5ECF6",
           "radialaxis": {
            "gridcolor": "white",
            "linecolor": "white",
            "ticks": ""
           }
          },
          "scene": {
           "xaxis": {
            "backgroundcolor": "#E5ECF6",
            "gridcolor": "white",
            "gridwidth": 2,
            "linecolor": "white",
            "showbackground": true,
            "ticks": "",
            "zerolinecolor": "white"
           },
           "yaxis": {
            "backgroundcolor": "#E5ECF6",
            "gridcolor": "white",
            "gridwidth": 2,
            "linecolor": "white",
            "showbackground": true,
            "ticks": "",
            "zerolinecolor": "white"
           },
           "zaxis": {
            "backgroundcolor": "#E5ECF6",
            "gridcolor": "white",
            "gridwidth": 2,
            "linecolor": "white",
            "showbackground": true,
            "ticks": "",
            "zerolinecolor": "white"
           }
          },
          "shapedefaults": {
           "line": {
            "color": "#2a3f5f"
           }
          },
          "ternary": {
           "aaxis": {
            "gridcolor": "white",
            "linecolor": "white",
            "ticks": ""
           },
           "baxis": {
            "gridcolor": "white",
            "linecolor": "white",
            "ticks": ""
           },
           "bgcolor": "#E5ECF6",
           "caxis": {
            "gridcolor": "white",
            "linecolor": "white",
            "ticks": ""
           }
          },
          "title": {
           "x": 0.05
          },
          "xaxis": {
           "automargin": true,
           "gridcolor": "white",
           "linecolor": "white",
           "ticks": "",
           "title": {
            "standoff": 15
           },
           "zerolinecolor": "white",
           "zerolinewidth": 2
          },
          "yaxis": {
           "automargin": true,
           "gridcolor": "white",
           "linecolor": "white",
           "ticks": "",
           "title": {
            "standoff": 15
           },
           "zerolinecolor": "white",
           "zerolinewidth": 2
          }
         }
        },
        "title": {
         "text": "Density of dividing cells vs Time since feeding"
        },
        "width": 1200,
        "xaxis": {
         "anchor": "y",
         "domain": [
          0,
          1
         ],
         "title": {
          "text": "Time since feeding"
         }
        },
        "yaxis": {
         "anchor": "x",
         "domain": [
          0,
          1
         ],
         "title": {
          "text": "Density of dividing cells"
         }
        }
       }
      }
     },
     "metadata": {},
     "output_type": "display_data"
    }
   ],
   "source": [
    "px.box(df, x='Time', y='Density1', color='Food', hover_data=['File'], points='all', width=1200, height=600, title='Density of dividing cells vs Time since feeding',labels={'Time':'Time since feeding', 'Density1':'Density of dividing cells'})"
   ]
  },
  {
   "cell_type": "markdown",
   "metadata": {},
   "source": [
    "### ***Exercise:  Your PI hates box plots, they want you to make a violin plot instead."
   ]
  },
  {
   "cell_type": "code",
   "execution_count": null,
   "metadata": {},
   "outputs": [],
   "source": []
  },
  {
   "cell_type": "markdown",
   "metadata": {},
   "source": [
    "# Exporting plots"
   ]
  },
  {
   "cell_type": "code",
   "execution_count": null,
   "metadata": {},
   "outputs": [
    {
     "data": {
      "application/vnd.plotly.v1+json": {
       "config": {
        "plotlyServerURL": "https://plot.ly"
       },
       "data": [
        {
         "alignmentgroup": "True",
         "boxpoints": "all",
         "customdata": [
          [
           "./20240321_140300_322/Plate000_Well2_Object0.tif_projection.tif"
          ],
          [
           "./20240321_140300_322/Plate000_Well2_Object1.tif_projection.tif"
          ],
          [
           "./20240321_140300_322/Plate000_Well2_Object2.tif_projection.tif"
          ],
          [
           "./20240321_140300_322/Plate000_Well2_Object3.tif_projection.tif"
          ],
          [
           "./20240321_140300_322/Plate000_Well2_Object4.tif_projection.tif"
          ],
          [
           "./20240321_140300_322/Plate000_Well2_Object5.tif_projection.tif"
          ],
          [
           "./20240321_140300_322/Plate000_Well2_Object6.tif_projection.tif"
          ],
          [
           "./20240321_140300_322/Plate000_Well2_Object7.tif_projection.tif"
          ],
          [
           "./20240321_140300_322/Plate000_Well3_Object0.tif_projection.tif"
          ],
          [
           "./20240321_140300_322/Plate000_Well3_Object1.tif_projection.tif"
          ],
          [
           "./20240321_140300_322/Plate000_Well3_Object2.tif_projection.tif"
          ],
          [
           "./20240321_140300_322/Plate000_Well3_Object3.tif_projection.tif"
          ],
          [
           "./20240321_140300_322/Plate000_Well3_Object4.tif_projection.tif"
          ],
          [
           "./20240321_140300_322/Plate000_Well3_Object5.tif_projection.tif"
          ],
          [
           "./20240321_140300_322/Plate000_Well3_Object6.tif_projection.tif"
          ],
          [
           "./20240321_140300_322/Plate000_Well3_Object7.tif_projection.tif"
          ],
          [
           "./20240321_140300_322/Plate000_Well4_Object0.tif_projection.tif"
          ],
          [
           "./20240321_140300_322/Plate000_Well4_Object1.tif_projection.tif"
          ],
          [
           "./20240321_140300_322/Plate000_Well4_Object2.tif_projection.tif"
          ],
          [
           "./20240321_140300_322/Plate000_Well4_Object3.tif_projection.tif"
          ],
          [
           "./20240321_140300_322/Plate000_Well4_Object4.tif_projection.tif"
          ],
          [
           "./20240321_140300_322/Plate000_Well4_Object5.tif_projection.tif"
          ],
          [
           "./20240321_140300_322/Plate000_Well4_Object6.tif_projection.tif"
          ],
          [
           "./20240321_140300_322/Plate000_Well4_Object7.tif_projection.tif"
          ],
          [
           "./20240321_140300_322/Plate001_Well1_Object0.tif_projection.tif"
          ],
          [
           "./20240321_140300_322/Plate001_Well1_Object1.tif_projection.tif"
          ],
          [
           "./20240321_140300_322/Plate001_Well1_Object2.tif_projection.tif"
          ],
          [
           "./20240321_140300_322/Plate001_Well1_Object3.tif_projection.tif"
          ],
          [
           "./20240321_140300_322/Plate001_Well1_Object4.tif_projection.tif"
          ],
          [
           "./20240321_140300_322/Plate001_Well1_Object5.tif_projection.tif"
          ],
          [
           "./20240321_140300_322/Plate001_Well1_Object6.tif_projection.tif"
          ],
          [
           "./20240321_140300_322/Plate001_Well1_Object7.tif_projection.tif"
          ],
          [
           "./20240321_140300_322/Plate001_Well2_Object0.tif_projection.tif"
          ],
          [
           "./20240321_140300_322/Plate001_Well2_Object1.tif_projection.tif"
          ],
          [
           "./20240321_140300_322/Plate001_Well2_Object2.tif_projection.tif"
          ],
          [
           "./20240321_140300_322/Plate001_Well2_Object3.tif_projection.tif"
          ],
          [
           "./20240321_140300_322/Plate001_Well2_Object4.tif_projection.tif"
          ],
          [
           "./20240321_140300_322/Plate001_Well2_Object5.tif_projection.tif"
          ],
          [
           "./20240321_140300_322/Plate001_Well2_Object6.tif_projection.tif"
          ],
          [
           "./20240321_140300_322/Plate001_Well2_Object7.tif_projection.tif"
          ],
          [
           "./20240321_140300_322/Plate001_Well3_Object0.tif_projection.tif"
          ],
          [
           "./20240321_140300_322/Plate001_Well3_Object1.tif_projection.tif"
          ],
          [
           "./20240321_140300_322/Plate001_Well3_Object2.tif_projection.tif"
          ],
          [
           "./20240321_140300_322/Plate001_Well3_Object3.tif_projection.tif"
          ],
          [
           "./20240321_140300_322/Plate001_Well3_Object4.tif_projection.tif"
          ],
          [
           "./20240321_140300_322/Plate001_Well3_Object5.tif_projection.tif"
          ],
          [
           "./20240321_140300_322/Plate001_Well3_Object6.tif_projection.tif"
          ],
          [
           "./20240321_140300_322/Plate001_Well3_Object7.tif_projection.tif"
          ],
          [
           "./20240321_140300_322/Plate001_Well4_Object0.tif_projection.tif"
          ],
          [
           "./20240321_140300_322/Plate001_Well4_Object1.tif_projection.tif"
          ],
          [
           "./20240321_140300_322/Plate001_Well4_Object2.tif_projection.tif"
          ],
          [
           "./20240321_140300_322/Plate001_Well4_Object3.tif_projection.tif"
          ],
          [
           "./20240321_140300_322/Plate001_Well4_Object4.tif_projection.tif"
          ],
          [
           "./20240321_140300_322/Plate001_Well4_Object5.tif_projection.tif"
          ],
          [
           "./20240321_140300_322/Plate001_Well4_Object6.tif_projection.tif"
          ],
          [
           "./20240321_140300_322/Plate001_Well4_Object7.tif_projection.tif"
          ],
          [
           "./20240321_140300_322/Plate002_Well1_Object0.tif_projection.tif"
          ],
          [
           "./20240321_140300_322/Plate002_Well1_Object1.tif_projection.tif"
          ],
          [
           "./20240321_140300_322/Plate002_Well1_Object2.tif_projection.tif"
          ],
          [
           "./20240321_140300_322/Plate002_Well1_Object3.tif_projection.tif"
          ],
          [
           "./20240321_140300_322/Plate002_Well1_Object4.tif_projection.tif"
          ],
          [
           "./20240321_140300_322/Plate002_Well1_Object5.tif_projection.tif"
          ],
          [
           "./20240321_140300_322/Plate002_Well1_Object6.tif_projection.tif"
          ],
          [
           "./20240321_140300_322/Plate002_Well1_Object7.tif_projection.tif"
          ],
          [
           "./20240321_140300_322/Plate002_Well2_Object0.tif_projection.tif"
          ],
          [
           "./20240321_140300_322/Plate002_Well2_Object1.tif_projection.tif"
          ],
          [
           "./20240321_140300_322/Plate002_Well2_Object2.tif_projection.tif"
          ],
          [
           "./20240321_140300_322/Plate002_Well2_Object3.tif_projection.tif"
          ],
          [
           "./20240321_140300_322/Plate002_Well2_Object4.tif_projection.tif"
          ],
          [
           "./20240321_140300_322/Plate002_Well2_Object5.tif_projection.tif"
          ],
          [
           "./20240321_140300_322/Plate002_Well2_Object6.tif_projection.tif"
          ],
          [
           "./20240321_140300_322/Plate002_Well2_Object7.tif_projection.tif"
          ],
          [
           "./20240321_140300_322/Plate002_Well2_Object8.tif_projection.tif"
          ],
          [
           "./20240321_140300_322/Plate002_Well3_Object0.tif_projection.tif"
          ],
          [
           "./20240321_140300_322/Plate002_Well3_Object1.tif_projection.tif"
          ],
          [
           "./20240321_140300_322/Plate002_Well3_Object2.tif_projection.tif"
          ],
          [
           "./20240321_140300_322/Plate002_Well3_Object3.tif_projection.tif"
          ],
          [
           "./20240321_140300_322/Plate002_Well3_Object4.tif_projection.tif"
          ],
          [
           "./20240321_140300_322/Plate002_Well3_Object5.tif_projection.tif"
          ],
          [
           "./20240321_140300_322/Plate002_Well3_Object6.tif_projection.tif"
          ],
          [
           "./20240321_140300_322/Plate002_Well3_Object7.tif_projection.tif"
          ],
          [
           "./20240321_140300_322/Plate002_Well3_Object8.tif_projection.tif"
          ],
          [
           "./20240321_140300_322/Plate002_Well3_Object9.tif_projection.tif"
          ],
          [
           "./20240321_140300_322/Plate002_Well4_Object0.tif_projection.tif"
          ],
          [
           "./20240321_140300_322/Plate002_Well4_Object1.tif_projection.tif"
          ],
          [
           "./20240321_140300_322/Plate002_Well4_Object10.tif_projection.tif"
          ],
          [
           "./20240321_140300_322/Plate002_Well4_Object2.tif_projection.tif"
          ],
          [
           "./20240321_140300_322/Plate002_Well4_Object3.tif_projection.tif"
          ],
          [
           "./20240321_140300_322/Plate002_Well4_Object4.tif_projection.tif"
          ],
          [
           "./20240321_140300_322/Plate002_Well4_Object5.tif_projection.tif"
          ],
          [
           "./20240321_140300_322/Plate002_Well4_Object6.tif_projection.tif"
          ],
          [
           "./20240321_140300_322/Plate002_Well4_Object7.tif_projection.tif"
          ],
          [
           "./20240321_140300_322/Plate002_Well4_Object8.tif_projection.tif"
          ],
          [
           "./20240321_140300_322/Plate002_Well4_Object9.tif_projection.tif"
          ]
         ],
         "hovertemplate": "Food=Artemia<br>Time since feeding=%{x}<br>Density of dividing cells=%{y}<br>File=%{customdata[0]}<extra></extra>",
         "legendgroup": "Artemia",
         "marker": {
          "color": "#636efa"
         },
         "name": "Artemia",
         "notched": false,
         "offsetgroup": "Artemia",
         "orientation": "v",
         "showlegend": true,
         "type": "box",
         "x": [
          "10min",
          "10min",
          "10min",
          "10min",
          "10min",
          "10min",
          "10min",
          "10min",
          "2h",
          "2h",
          "2h",
          "2h",
          "2h",
          "2h",
          "2h",
          "2h",
          "4h",
          "4h",
          "4h",
          "4h",
          "4h",
          "4h",
          "4h",
          "4h",
          "6h",
          "6h",
          "6h",
          "6h",
          "6h",
          "6h",
          "6h",
          "6h",
          "1d",
          "1d",
          "1d",
          "1d",
          "1d",
          "1d",
          "1d",
          "1d",
          "2d",
          "2d",
          "2d",
          "2d",
          "2d",
          "2d",
          "2d",
          "2d",
          "3d",
          "3d",
          "3d",
          "3d",
          "3d",
          "3d",
          "3d",
          "3d",
          "4d",
          "4d",
          "4d",
          "4d",
          "4d",
          "4d",
          "4d",
          "4d",
          "5d",
          "5d",
          "5d",
          "5d",
          "5d",
          "5d",
          "5d",
          "5d",
          "5d",
          "6d",
          "6d",
          "6d",
          "6d",
          "6d",
          "6d",
          "6d",
          "6d",
          "6d",
          "6d",
          "7d",
          "7d",
          "7d",
          "7d",
          "7d",
          "7d",
          "7d",
          "7d",
          "7d",
          "7d",
          "7d"
         ],
         "x0": " ",
         "xaxis": "x",
         "y": {
          "bdata": "XDgQkgWXSUBbarVuIIU+QIzQ10U0O0tADrm+tE3dP0BH8LckpOBJQP+thdVvAlJADdWc1WVrOkAFh1lg9tFAQK9vcZ77UGlAB9LFplX+c0BZ5Z2e0vBeQMl9YejH+F5A0K9S5gv1bkB6s7xh0bFkQHpkvWJXK3NA+ROVDattYUALbIQ0+S56QLmqR3VVOH5Ane9MDRmOfkAuwU5WIWGDQNtQMc4/yX9A5A5AD8pag0DallwgTO6GQNgbazX6zX9AwsBz70F3c0Dkh0ojpnx3QGgptAe1YXtAxovg2kTPgUAy2YncXd16QBSf8TPEkXZA96nPel2reUD3wUNijFp4QA0+KIOegXJAZlsXyD0zdEDogMkyiVB0QDi5hOgV7HVA1YEHYQn8dUBsZLITuYR2QKz6AbQyK3dADXIXYUoOdUAig4GMRSN3QJQePMmsCXZAQ4jQrbyTd0C+iSE52Qt3QInfXuPEEHRAaXY4FcRHcUAbUZCOgXJ2QEV0GUhBDnhAx+08lsOCc0DtHX+zvgZwQMj9WNLbhXNAYYMq2mFUcUCt8eN5Wh9xQHI5uTpb6GxAcNRljOqIZ0CyjMNPUtdqQKf8tQbAdmBAEyRbApVmXUCQEOUL2uZaQMY+t4YI52FAEGs7t9qoYkADqPPyhaJhQANptXYRe2FAvqX36KjDY0Ae+xcQM31YQBH8FGzIGWhA+0T53c94XECOMQPXjUhPQCIikKaVGWBAMnctIZ9lW0Ak7rH0Ie5aQNzdXi3Ss1xA4/viUhWFW0Dqe2h6ZIdeQMkSayuVCFZAX/+e7csGUEDWB2n4XIBUQCQ3eYDdIGBA2TtI9NcQWUDdPeU9c0JbQJ7lgeG/sU5APvCMEWS3VUDPh0b7iJxSQGJzYeZztVFA3+I893maXkDqu/C9HuZYQJTHiWVp9VVA1+f/j3KDVkDMHHm9h6JOQIs3z2SBsVFASshy2B67V0BKzcOuEnpdQJgIZSt51FlAIVENoATtW0A=",
          "dtype": "f8"
         },
         "y0": " ",
         "yaxis": "y"
        },
        {
         "alignmentgroup": "True",
         "boxpoints": "all",
         "customdata": [
          [
           "./20240321_140300_322/Plate003_Well1_Object0.tif_projection.tif"
          ],
          [
           "./20240321_140300_322/Plate003_Well1_Object1.tif_projection.tif"
          ],
          [
           "./20240321_140300_322/Plate003_Well1_Object2.tif_projection.tif"
          ],
          [
           "./20240321_140300_322/Plate003_Well1_Object3.tif_projection.tif"
          ],
          [
           "./20240321_140300_322/Plate003_Well1_Object4.tif_projection.tif"
          ],
          [
           "./20240321_140300_322/Plate003_Well1_Object5.tif_projection.tif"
          ],
          [
           "./20240321_140300_322/Plate003_Well1_Object6.tif_projection.tif"
          ],
          [
           "./20240321_140300_322/Plate003_Well1_Object7.tif_projection.tif"
          ],
          [
           "./20240321_140300_322/Plate003_Well2_Object0.tif_projection.tif"
          ],
          [
           "./20240321_140300_322/Plate003_Well2_Object1.tif_projection.tif"
          ],
          [
           "./20240321_140300_322/Plate003_Well2_Object2.tif_projection.tif"
          ],
          [
           "./20240321_140300_322/Plate003_Well2_Object3.tif_projection.tif"
          ],
          [
           "./20240321_140300_322/Plate003_Well2_Object4.tif_projection.tif"
          ],
          [
           "./20240321_140300_322/Plate003_Well2_Object5.tif_projection.tif"
          ],
          [
           "./20240321_140300_322/Plate003_Well2_Object6.tif_projection.tif"
          ],
          [
           "./20240321_140300_322/Plate003_Well2_Object7.tif_projection.tif"
          ],
          [
           "./20240321_140300_322/Plate003_Well3_Object0.tif_projection.tif"
          ],
          [
           "./20240321_140300_322/Plate003_Well3_Object1.tif_projection.tif"
          ],
          [
           "./20240321_140300_322/Plate003_Well3_Object2.tif_projection.tif"
          ],
          [
           "./20240321_140300_322/Plate003_Well3_Object3.tif_projection.tif"
          ],
          [
           "./20240321_140300_322/Plate003_Well3_Object4.tif_projection.tif"
          ],
          [
           "./20240321_140300_322/Plate003_Well3_Object5.tif_projection.tif"
          ],
          [
           "./20240321_140300_322/Plate003_Well3_Object6.tif_projection.tif"
          ],
          [
           "./20240321_140300_322/Plate003_Well3_Object7.tif_projection.tif"
          ],
          [
           "./20240321_140300_322/Plate003_Well4_Object0.tif_projection.tif"
          ],
          [
           "./20240321_140300_322/Plate003_Well4_Object1.tif_projection.tif"
          ],
          [
           "./20240321_140300_322/Plate003_Well4_Object2.tif_projection.tif"
          ],
          [
           "./20240321_140300_322/Plate003_Well4_Object3.tif_projection.tif"
          ],
          [
           "./20240321_140300_322/Plate003_Well4_Object4.tif_projection.tif"
          ],
          [
           "./20240321_140300_322/Plate003_Well4_Object5.tif_projection.tif"
          ],
          [
           "./20240321_140300_322/Plate003_Well4_Object6.tif_projection.tif"
          ],
          [
           "./20240321_140300_322/Plate003_Well4_Object7.tif_projection.tif"
          ],
          [
           "./20240321_140300_322/Plate003_Well4_Object8.tif_projection.tif"
          ],
          [
           "./20240321_140300_322/Plate004_Well1_Object0.tif_projection.tif"
          ],
          [
           "./20240321_140300_322/Plate004_Well1_Object1.tif_projection.tif"
          ],
          [
           "./20240321_140300_322/Plate004_Well1_Object2.tif_projection.tif"
          ],
          [
           "./20240321_140300_322/Plate004_Well1_Object3.tif_projection.tif"
          ],
          [
           "./20240321_140300_322/Plate004_Well1_Object4.tif_projection.tif"
          ],
          [
           "./20240321_140300_322/Plate004_Well1_Object5.tif_projection.tif"
          ],
          [
           "./20240321_140300_322/Plate004_Well1_Object6.tif_projection.tif"
          ],
          [
           "./20240321_140300_322/Plate004_Well1_Object7.tif_projection.tif"
          ],
          [
           "./20240321_140300_322/Plate004_Well2_Object0.tif_projection.tif"
          ],
          [
           "./20240321_140300_322/Plate004_Well2_Object1.tif_projection.tif"
          ],
          [
           "./20240321_140300_322/Plate004_Well2_Object2.tif_projection.tif"
          ],
          [
           "./20240321_140300_322/Plate004_Well2_Object3.tif_projection.tif"
          ],
          [
           "./20240321_140300_322/Plate004_Well2_Object4.tif_projection.tif"
          ],
          [
           "./20240321_140300_322/Plate004_Well2_Object5.tif_projection.tif"
          ],
          [
           "./20240321_140300_322/Plate004_Well2_Object6.tif_projection.tif"
          ],
          [
           "./20240321_140300_322/Plate004_Well2_Object7.tif_projection.tif"
          ],
          [
           "./20240321_140300_322/Plate004_Well3_Object0.tif_projection.tif"
          ],
          [
           "./20240321_140300_322/Plate004_Well3_Object1.tif_projection.tif"
          ],
          [
           "./20240321_140300_322/Plate004_Well3_Object2.tif_projection.tif"
          ],
          [
           "./20240321_140300_322/Plate004_Well3_Object3.tif_projection.tif"
          ],
          [
           "./20240321_140300_322/Plate004_Well3_Object4.tif_projection.tif"
          ],
          [
           "./20240321_140300_322/Plate004_Well3_Object5.tif_projection.tif"
          ],
          [
           "./20240321_140300_322/Plate004_Well3_Object6.tif_projection.tif"
          ],
          [
           "./20240321_140300_322/Plate004_Well3_Object7.tif_projection.tif"
          ],
          [
           "./20240321_140300_322/Plate004_Well4_Object1.tif_projection.tif"
          ],
          [
           "./20240321_140300_322/Plate004_Well4_Object2.tif_projection.tif"
          ],
          [
           "./20240321_140300_322/Plate004_Well4_Object3.tif_projection.tif"
          ],
          [
           "./20240321_140300_322/Plate004_Well4_Object4.tif_projection.tif"
          ],
          [
           "./20240321_140300_322/Plate004_Well4_Object5.tif_projection.tif"
          ],
          [
           "./20240321_140300_322/Plate004_Well4_Object6.tif_projection.tif"
          ],
          [
           "./20240321_140300_322/Plate004_Well4_Object7.tif_projection.tif"
          ],
          [
           "./20240321_140300_322/Plate004_Well4_Object8.tif_projection.tif"
          ],
          [
           "./20240321_140300_322/Plate005_Well1_Object0.tif_projection.tif"
          ],
          [
           "./20240321_140300_322/Plate005_Well1_Object1.tif_projection.tif"
          ],
          [
           "./20240321_140300_322/Plate005_Well1_Object2.tif_projection.tif"
          ],
          [
           "./20240321_140300_322/Plate005_Well1_Object3.tif_projection.tif"
          ],
          [
           "./20240321_140300_322/Plate005_Well1_Object4.tif_projection.tif"
          ],
          [
           "./20240321_140300_322/Plate005_Well1_Object5.tif_projection.tif"
          ],
          [
           "./20240321_140300_322/Plate005_Well1_Object6.tif_projection.tif"
          ],
          [
           "./20240321_140300_322/Plate005_Well1_Object7.tif_projection.tif"
          ],
          [
           "./20240321_140300_322/Plate005_Well1_Object8.tif_projection.tif"
          ],
          [
           "./20240321_140300_322/Plate005_Well1_Object9.tif_projection.tif"
          ],
          [
           "./20240321_140300_322/Plate005_Well2_Object0.tif_projection.tif"
          ],
          [
           "./20240321_140300_322/Plate005_Well2_Object1.tif_projection.tif"
          ],
          [
           "./20240321_140300_322/Plate005_Well2_Object2.tif_projection.tif"
          ],
          [
           "./20240321_140300_322/Plate005_Well2_Object3.tif_projection.tif"
          ],
          [
           "./20240321_140300_322/Plate005_Well2_Object4.tif_projection.tif"
          ],
          [
           "./20240321_140300_322/Plate005_Well2_Object5.tif_projection.tif"
          ],
          [
           "./20240321_140300_322/Plate005_Well2_Object6.tif_projection.tif"
          ],
          [
           "./20240321_140300_322/Plate005_Well2_Object7.tif_projection.tif"
          ],
          [
           "./20240321_140300_322/Plate005_Well2_Object8.tif_projection.tif"
          ],
          [
           "./20240321_140300_322/Plate005_Well2_Object9.tif_projection.tif"
          ],
          [
           "./20240321_140300_322/Plate005_Well3_Object0.tif_projection.tif"
          ],
          [
           "./20240321_140300_322/Plate005_Well3_Object1.tif_projection.tif"
          ],
          [
           "./20240321_140300_322/Plate005_Well3_Object10.tif_projection.tif"
          ],
          [
           "./20240321_140300_322/Plate005_Well3_Object2.tif_projection.tif"
          ],
          [
           "./20240321_140300_322/Plate005_Well3_Object3.tif_projection.tif"
          ],
          [
           "./20240321_140300_322/Plate005_Well3_Object4.tif_projection.tif"
          ],
          [
           "./20240321_140300_322/Plate005_Well3_Object5.tif_projection.tif"
          ],
          [
           "./20240321_140300_322/Plate005_Well3_Object6.tif_projection.tif"
          ],
          [
           "./20240321_140300_322/Plate005_Well3_Object7.tif_projection.tif"
          ],
          [
           "./20240321_140300_322/Plate005_Well3_Object8.tif_projection.tif"
          ],
          [
           "./20240321_140300_322/Plate005_Well3_Object9.tif_projection.tif"
          ]
         ],
         "hovertemplate": "Food=Liver<br>Time since feeding=%{x}<br>Density of dividing cells=%{y}<br>File=%{customdata[0]}<extra></extra>",
         "legendgroup": "Liver",
         "marker": {
          "color": "#EF553B"
         },
         "name": "Liver",
         "notched": false,
         "offsetgroup": "Liver",
         "orientation": "v",
         "showlegend": true,
         "type": "box",
         "x": [
          "10min",
          "10min",
          "10min",
          "10min",
          "10min",
          "10min",
          "10min",
          "10min",
          "2h",
          "2h",
          "2h",
          "2h",
          "2h",
          "2h",
          "2h",
          "2h",
          "4h",
          "4h",
          "4h",
          "4h",
          "4h",
          "4h",
          "4h",
          "4h",
          "6h",
          "6h",
          "6h",
          "6h",
          "6h",
          "6h",
          "6h",
          "6h",
          "6h",
          "1d",
          "1d",
          "1d",
          "1d",
          "1d",
          "1d",
          "1d",
          "1d",
          "2d",
          "2d",
          "2d",
          "2d",
          "2d",
          "2d",
          "2d",
          "2d",
          "3d",
          "3d",
          "3d",
          "3d",
          "3d",
          "3d",
          "3d",
          "3d",
          "4d",
          "4d",
          "4d",
          "4d",
          "4d",
          "4d",
          "4d",
          "4d",
          "5d",
          "5d",
          "5d",
          "5d",
          "5d",
          "5d",
          "5d",
          "5d",
          "5d",
          "5d",
          "6d",
          "6d",
          "6d",
          "6d",
          "6d",
          "6d",
          "6d",
          "6d",
          "6d",
          "6d",
          "7d",
          "7d",
          "7d",
          "7d",
          "7d",
          "7d",
          "7d",
          "7d",
          "7d",
          "7d",
          "7d"
         ],
         "x0": " ",
         "xaxis": "x",
         "y": {
          "bdata": "HNVE+kjSPEDTAd48tLtQQOh+d8CvpkZAUtluimClSUDu5pBxGIA6QH2Sv6TG/ztAGX0/FJC5VkDj/46oUAU0QM2euqjM3ltAdQEvM2ycZkCosRjQRjJzQE7etqXEsF1AIngy7hwncUBuREE6BnRqQFOVtrgGpXFADUuohTc/b0DvVMA972B5QH11+uZjknlA4WJFDUYddkDE6F7Mu114QCFT40oijHxA5s3hWj2UgkDEgrF0NBN4QHeBN0nYfHtA0Ph0K7pbb0DBdLVwdJ9nQFLlxdMcKnNAaT3XUtunckAY/bLFP/F0QE7VmGssb3VA3tDvVlGhckAdJzvs9Bx1QLi3EQXpznhA//IkRBQsaUDomQOpOdVpQGxwbIdw3HVAfnoiPub3dEBge8ECk5hzQFoeWhoOa3RA3j6rzHQsc0CM/FXb6Ll0QODVcmcmWGlAC2MLQU7CdEDy2CocnBd1QHMFJRYCXHZAFeuvslGgdECCbWna6jV2QCB0dWxpd3lAAWxAhPjyeEAKTW0EHQdyQLgwHBnVEXFAeCHCZE+AdECJMZ9iay5wQPgLh+/OwnZAMDvVa6QjdUAgArPn1/x3QHSfd766j3lAYwtBDoq4YED+VvzwfbFpQMzjeiUa4mVAokGv5I9mcEBOcPsvIbBuQM7drpcmiHZATqVV41tydUCfHKrOz7NtQPWYUNo+ulRAvCWUGQpmY0DsP3yqlHtWQAAfWUyuslZAH0lJD8PdY0C1vUC9lwdXQNfp9ki581tAB1L3O3PdVkAuNHywcYptQNks8kbB0GhA5g+8EGE9WUCNFrkK1l5XQM/b2OxIHGFAjmuNUlMkW0BGYXL+wVJUQALJhRQNP1NA+lHDbaM8W0A3tSIgFYBUQAOHBhiM6VRAFn/jhOz7WEAewMcFjJBXQEfWbZLX+FNAvCvU/VDFVEDQxjrq4nlUQK4DEAyamVhAwP6QI8JuWUCLaeiXbzdWQHrffBMYp1hAnPgPjr66YUCxYgLImkpbQL65ZMFpw11A",
          "dtype": "f8"
         },
         "y0": " ",
         "yaxis": "y"
        },
        {
         "alignmentgroup": "True",
         "boxpoints": "all",
         "customdata": [
          [
           "./20240321_140300_322/Plate005_Well4_Object0.tif_projection.tif"
          ],
          [
           "./20240321_140300_322/Plate005_Well4_Object1.tif_projection.tif"
          ],
          [
           "./20240321_140300_322/Plate005_Well4_Object2.tif_projection.tif"
          ],
          [
           "./20240321_140300_322/Plate005_Well4_Object3.tif_projection.tif"
          ],
          [
           "./20240321_140300_322/Plate005_Well4_Object4.tif_projection.tif"
          ],
          [
           "./20240321_140300_322/Plate005_Well4_Object5.tif_projection.tif"
          ],
          [
           "./20240321_140300_322/Plate005_Well4_Object6.tif_projection.tif"
          ],
          [
           "./20240321_140300_322/Plate005_Well4_Object7.tif_projection.tif"
          ],
          [
           "./20240321_140300_322/Plate005_Well4_Object8.tif_projection.tif"
          ],
          [
           "./20240321_140300_322/Plate006_Well1_Object0.tif_projection.tif"
          ],
          [
           "./20240321_140300_322/Plate006_Well1_Object1.tif_projection.tif"
          ],
          [
           "./20240321_140300_322/Plate006_Well1_Object2.tif_projection.tif"
          ],
          [
           "./20240321_140300_322/Plate006_Well1_Object3.tif_projection.tif"
          ],
          [
           "./20240321_140300_322/Plate006_Well1_Object4.tif_projection.tif"
          ],
          [
           "./20240321_140300_322/Plate006_Well1_Object5.tif_projection.tif"
          ],
          [
           "./20240321_140300_322/Plate006_Well1_Object6.tif_projection.tif"
          ],
          [
           "./20240321_140300_322/Plate006_Well1_Object7.tif_projection.tif"
          ],
          [
           "./20240321_140300_322/Plate006_Well2_Object0.tif_projection.tif"
          ],
          [
           "./20240321_140300_322/Plate006_Well2_Object1.tif_projection.tif"
          ],
          [
           "./20240321_140300_322/Plate006_Well2_Object2.tif_projection.tif"
          ],
          [
           "./20240321_140300_322/Plate006_Well2_Object3.tif_projection.tif"
          ],
          [
           "./20240321_140300_322/Plate006_Well2_Object4.tif_projection.tif"
          ],
          [
           "./20240321_140300_322/Plate006_Well2_Object5.tif_projection.tif"
          ],
          [
           "./20240321_140300_322/Plate006_Well2_Object6.tif_projection.tif"
          ],
          [
           "./20240321_140300_322/Plate006_Well2_Object7.tif_projection.tif"
          ],
          [
           "./20240321_140300_322/Plate006_Well2_Object8.tif_projection.tif"
          ],
          [
           "./20240321_140300_322/Plate006_Well3_Object0.tif_projection.tif"
          ],
          [
           "./20240321_140300_322/Plate006_Well3_Object1.tif_projection.tif"
          ],
          [
           "./20240321_140300_322/Plate006_Well3_Object2.tif_projection.tif"
          ],
          [
           "./20240321_140300_322/Plate006_Well3_Object3.tif_projection.tif"
          ],
          [
           "./20240321_140300_322/Plate006_Well3_Object4.tif_projection.tif"
          ],
          [
           "./20240321_140300_322/Plate006_Well3_Object5.tif_projection.tif"
          ],
          [
           "./20240321_140300_322/Plate006_Well3_Object6.tif_projection.tif"
          ],
          [
           "./20240321_140300_322/Plate006_Well3_Object7.tif_projection.tif"
          ],
          [
           "./20240321_140300_322/Plate006_Well4_Object0.tif_projection.tif"
          ],
          [
           "./20240321_140300_322/Plate006_Well4_Object1.tif_projection.tif"
          ],
          [
           "./20240321_140300_322/Plate006_Well4_Object2.tif_projection.tif"
          ],
          [
           "./20240321_140300_322/Plate006_Well4_Object3.tif_projection.tif"
          ],
          [
           "./20240321_140300_322/Plate006_Well4_Object4.tif_projection.tif"
          ],
          [
           "./20240321_140300_322/Plate006_Well4_Object5.tif_projection.tif"
          ],
          [
           "./20240321_140300_322/Plate006_Well4_Object6.tif_projection.tif"
          ],
          [
           "./20240321_140300_322/Plate006_Well4_Object7.tif_projection.tif"
          ],
          [
           "./20240321_140300_322/Plate007_Well1_Object0.tif_projection.tif"
          ],
          [
           "./20240321_140300_322/Plate007_Well1_Object1.tif_projection.tif"
          ],
          [
           "./20240321_140300_322/Plate007_Well1_Object2.tif_projection.tif"
          ],
          [
           "./20240321_140300_322/Plate007_Well1_Object3.tif_projection.tif"
          ],
          [
           "./20240321_140300_322/Plate007_Well1_Object4.tif_projection.tif"
          ],
          [
           "./20240321_140300_322/Plate007_Well1_Object5.tif_projection.tif"
          ],
          [
           "./20240321_140300_322/Plate007_Well1_Object6.tif_projection.tif"
          ],
          [
           "./20240321_140300_322/Plate007_Well1_Object8.tif_projection.tif"
          ],
          [
           "./20240321_140300_322/Plate007_Well2_Object0.tif_projection.tif"
          ],
          [
           "./20240321_140300_322/Plate007_Well2_Object1.tif_projection.tif"
          ],
          [
           "./20240321_140300_322/Plate007_Well2_Object2.tif_projection.tif"
          ],
          [
           "./20240321_140300_322/Plate007_Well2_Object3.tif_projection.tif"
          ],
          [
           "./20240321_140300_322/Plate007_Well2_Object4.tif_projection.tif"
          ],
          [
           "./20240321_140300_322/Plate007_Well2_Object5.tif_projection.tif"
          ],
          [
           "./20240321_140300_322/Plate007_Well2_Object6.tif_projection.tif"
          ],
          [
           "./20240321_140300_322/Plate007_Well3_Object0.tif_projection.tif"
          ],
          [
           "./20240321_140300_322/Plate007_Well3_Object1.tif_projection.tif"
          ],
          [
           "./20240321_140300_322/Plate007_Well3_Object2.tif_projection.tif"
          ],
          [
           "./20240321_140300_322/Plate007_Well3_Object3.tif_projection.tif"
          ],
          [
           "./20240321_140300_322/Plate007_Well3_Object4.tif_projection.tif"
          ],
          [
           "./20240321_140300_322/Plate007_Well3_Object5.tif_projection.tif"
          ],
          [
           "./20240321_140300_322/Plate007_Well3_Object6.tif_projection.tif"
          ],
          [
           "./20240321_140300_322/Plate007_Well3_Object7.tif_projection.tif"
          ],
          [
           "./20240321_140300_322/Plate007_Well4_Object4.tif_projection.tif"
          ],
          [
           "./20240321_140300_322/Plate007_Well4_Object5.tif_projection.tif"
          ],
          [
           "./20240321_140300_322/Plate007_Well4_Object6.tif_projection.tif"
          ],
          [
           "./20240321_140300_322/Plate007_Well4_Object7.tif_projection.tif"
          ],
          [
           "./20240321_140300_322/Plate008_Well1_Object0.tif_projection.tif"
          ],
          [
           "./20240321_140300_322/Plate008_Well1_Object1.tif_projection.tif"
          ],
          [
           "./20240321_140300_322/Plate008_Well1_Object2.tif_projection.tif"
          ],
          [
           "./20240321_140300_322/Plate008_Well1_Object3.tif_projection.tif"
          ],
          [
           "./20240321_140300_322/Plate008_Well1_Object4.tif_projection.tif"
          ],
          [
           "./20240321_140300_322/Plate008_Well1_Object5.tif_projection.tif"
          ],
          [
           "./20240321_140300_322/Plate008_Well1_Object6.tif_projection.tif"
          ],
          [
           "./20240321_140300_322/Plate008_Well1_Object7.tif_projection.tif"
          ],
          [
           "./20240321_140300_322/Plate008_Well1_Object8.tif_projection.tif"
          ],
          [
           "./20240321_140300_322/Plate008_Well1_Object9.tif_projection.tif"
          ],
          [
           "./20240321_140300_322/Plate008_Well2_Object0.tif_projection.tif"
          ],
          [
           "./20240321_140300_322/Plate008_Well2_Object1.tif_projection.tif"
          ],
          [
           "./20240321_140300_322/Plate008_Well2_Object10.tif_projection.tif"
          ],
          [
           "./20240321_140300_322/Plate008_Well2_Object2.tif_projection.tif"
          ],
          [
           "./20240321_140300_322/Plate008_Well2_Object3.tif_projection.tif"
          ],
          [
           "./20240321_140300_322/Plate008_Well2_Object4.tif_projection.tif"
          ],
          [
           "./20240321_140300_322/Plate008_Well2_Object5.tif_projection.tif"
          ],
          [
           "./20240321_140300_322/Plate008_Well2_Object6.tif_projection.tif"
          ],
          [
           "./20240321_140300_322/Plate008_Well2_Object7.tif_projection.tif"
          ],
          [
           "./20240321_140300_322/Plate008_Well2_Object8.tif_projection.tif"
          ],
          [
           "./20240321_140300_322/Plate008_Well2_Object9.tif_projection.tif"
          ]
         ],
         "hovertemplate": "Food=Peptone<br>Time since feeding=%{x}<br>Density of dividing cells=%{y}<br>File=%{customdata[0]}<extra></extra>",
         "legendgroup": "Peptone",
         "marker": {
          "color": "#00cc96"
         },
         "name": "Peptone",
         "notched": false,
         "offsetgroup": "Peptone",
         "orientation": "v",
         "showlegend": true,
         "type": "box",
         "x": [
          "10min",
          "10min",
          "10min",
          "10min",
          "10min",
          "10min",
          "10min",
          "10min",
          "10min",
          "2h",
          "2h",
          "2h",
          "2h",
          "2h",
          "2h",
          "2h",
          "2h",
          "4h",
          "4h",
          "4h",
          "4h",
          "4h",
          "4h",
          "4h",
          "4h",
          "4h",
          "6h",
          "6h",
          "6h",
          "6h",
          "6h",
          "6h",
          "6h",
          "6h",
          "1d",
          "1d",
          "1d",
          "1d",
          "1d",
          "1d",
          "1d",
          "1d",
          "2d",
          "2d",
          "2d",
          "2d",
          "2d",
          "2d",
          "2d",
          "2d",
          "3d",
          "3d",
          "3d",
          "3d",
          "3d",
          "3d",
          "3d",
          "4d",
          "4d",
          "4d",
          "4d",
          "4d",
          "4d",
          "4d",
          "4d",
          "5d",
          "5d",
          "5d",
          "5d",
          "6d",
          "6d",
          "6d",
          "6d",
          "6d",
          "6d",
          "6d",
          "6d",
          "6d",
          "6d",
          "7d",
          "7d",
          "7d",
          "7d",
          "7d",
          "7d",
          "7d",
          "7d",
          "7d",
          "7d",
          "7d"
         ],
         "x0": " ",
         "xaxis": "x",
         "y": {
          "bdata": "P9neuBbKZUCnypzT0Z1hQLO1vkhoG2dAd/8O+/M6YEBEY5I2OpNgQHNW+r8ZtGVACdajNhIjWED/w6dKpUVbQNjeAmTDI2FAsVJBRRXheUC2IRD5WCR9QEvNeSFYYn1A7GmHv+aofUAVRf5PVLR/QBM3XQWnh39AnR4lwEpggUCTOCuiplZ9QC1dwTbidHJANF2ZAbh/dEBAvb57jHJ1QGuad5zih3RALo1feOWzdEAP0egOgqd3QBI6noUzeHVABZQ8jcqndUBmYImsWup2QJqR5jTwCmxAsQy7OSamb0Aeozzzso9pQG6Ysh2d1m5AzJseb036aUARacDF7x1tQEM/rmjOiGxAuuevRqyubEC17SiMNfFSQGkjrs53A1hAMrvdgfCAYUCk2eFUEA5bQFd1uTWnM1NAK5+KwL3qZUD8VBUaiNZcQBj8aP658FRAubsYFBdgW0Cq+7YWnAZbQPAnU5pHu1hA8OHtnMFeWUAqvkY3p+FiQOu0A+gWdVZAEEcNXNQjWkALoHMSJY5cQA3vB3ZbVVZAe4SaIdUXWkBrZHhorz9XQEbtfhVgDllAeW+xR02yX0Dvf/QL/gRPQMu4DKzhXFdAVr9vz7X2WEBuQxiBKUhTQJvWXCSjw05ApnZtDI0wU0A6J5Omg9pTQK+dIJiAv1FAraOqCSKXXkBUKpd8IkxcQFb18jvNdVJAOCvDNGNPUEDoqN2OtGFYQEEh6XCAxk1AXIua2JHMTECCeLh407hOQDGjL++3BFBAPjFfHGRMT0Cjb1ZtjGdRQNkLPxeR4kxAttsNJi7NU0Dc7R+wV9xRQDLU9ulXGFRAUyH9eq6rVEBIQH2yv/9UQImJvJtdQ15A2NLlxfC1UkArxel/FJJaQCfV42OcnFdAlglcqlR7VkCL6K5XXi1RQAtnjheYdFhAgC5U3ScGUkDLBgQAaF5PQObnCt+Q2VNA",
          "dtype": "f8"
         },
         "y0": " ",
         "yaxis": "y"
        }
       ],
       "layout": {
        "boxmode": "group",
        "height": 600,
        "legend": {
         "title": {
          "text": "Food"
         },
         "tracegroupgap": 0
        },
        "template": {
         "data": {
          "bar": [
           {
            "error_x": {
             "color": "#2a3f5f"
            },
            "error_y": {
             "color": "#2a3f5f"
            },
            "marker": {
             "line": {
              "color": "#E5ECF6",
              "width": 0.5
             },
             "pattern": {
              "fillmode": "overlay",
              "size": 10,
              "solidity": 0.2
             }
            },
            "type": "bar"
           }
          ],
          "barpolar": [
           {
            "marker": {
             "line": {
              "color": "#E5ECF6",
              "width": 0.5
             },
             "pattern": {
              "fillmode": "overlay",
              "size": 10,
              "solidity": 0.2
             }
            },
            "type": "barpolar"
           }
          ],
          "carpet": [
           {
            "aaxis": {
             "endlinecolor": "#2a3f5f",
             "gridcolor": "white",
             "linecolor": "white",
             "minorgridcolor": "white",
             "startlinecolor": "#2a3f5f"
            },
            "baxis": {
             "endlinecolor": "#2a3f5f",
             "gridcolor": "white",
             "linecolor": "white",
             "minorgridcolor": "white",
             "startlinecolor": "#2a3f5f"
            },
            "type": "carpet"
           }
          ],
          "choropleth": [
           {
            "colorbar": {
             "outlinewidth": 0,
             "ticks": ""
            },
            "type": "choropleth"
           }
          ],
          "contour": [
           {
            "colorbar": {
             "outlinewidth": 0,
             "ticks": ""
            },
            "colorscale": [
             [
              0,
              "#0d0887"
             ],
             [
              0.1111111111111111,
              "#46039f"
             ],
             [
              0.2222222222222222,
              "#7201a8"
             ],
             [
              0.3333333333333333,
              "#9c179e"
             ],
             [
              0.4444444444444444,
              "#bd3786"
             ],
             [
              0.5555555555555556,
              "#d8576b"
             ],
             [
              0.6666666666666666,
              "#ed7953"
             ],
             [
              0.7777777777777778,
              "#fb9f3a"
             ],
             [
              0.8888888888888888,
              "#fdca26"
             ],
             [
              1,
              "#f0f921"
             ]
            ],
            "type": "contour"
           }
          ],
          "contourcarpet": [
           {
            "colorbar": {
             "outlinewidth": 0,
             "ticks": ""
            },
            "type": "contourcarpet"
           }
          ],
          "heatmap": [
           {
            "colorbar": {
             "outlinewidth": 0,
             "ticks": ""
            },
            "colorscale": [
             [
              0,
              "#0d0887"
             ],
             [
              0.1111111111111111,
              "#46039f"
             ],
             [
              0.2222222222222222,
              "#7201a8"
             ],
             [
              0.3333333333333333,
              "#9c179e"
             ],
             [
              0.4444444444444444,
              "#bd3786"
             ],
             [
              0.5555555555555556,
              "#d8576b"
             ],
             [
              0.6666666666666666,
              "#ed7953"
             ],
             [
              0.7777777777777778,
              "#fb9f3a"
             ],
             [
              0.8888888888888888,
              "#fdca26"
             ],
             [
              1,
              "#f0f921"
             ]
            ],
            "type": "heatmap"
           }
          ],
          "histogram": [
           {
            "marker": {
             "pattern": {
              "fillmode": "overlay",
              "size": 10,
              "solidity": 0.2
             }
            },
            "type": "histogram"
           }
          ],
          "histogram2d": [
           {
            "colorbar": {
             "outlinewidth": 0,
             "ticks": ""
            },
            "colorscale": [
             [
              0,
              "#0d0887"
             ],
             [
              0.1111111111111111,
              "#46039f"
             ],
             [
              0.2222222222222222,
              "#7201a8"
             ],
             [
              0.3333333333333333,
              "#9c179e"
             ],
             [
              0.4444444444444444,
              "#bd3786"
             ],
             [
              0.5555555555555556,
              "#d8576b"
             ],
             [
              0.6666666666666666,
              "#ed7953"
             ],
             [
              0.7777777777777778,
              "#fb9f3a"
             ],
             [
              0.8888888888888888,
              "#fdca26"
             ],
             [
              1,
              "#f0f921"
             ]
            ],
            "type": "histogram2d"
           }
          ],
          "histogram2dcontour": [
           {
            "colorbar": {
             "outlinewidth": 0,
             "ticks": ""
            },
            "colorscale": [
             [
              0,
              "#0d0887"
             ],
             [
              0.1111111111111111,
              "#46039f"
             ],
             [
              0.2222222222222222,
              "#7201a8"
             ],
             [
              0.3333333333333333,
              "#9c179e"
             ],
             [
              0.4444444444444444,
              "#bd3786"
             ],
             [
              0.5555555555555556,
              "#d8576b"
             ],
             [
              0.6666666666666666,
              "#ed7953"
             ],
             [
              0.7777777777777778,
              "#fb9f3a"
             ],
             [
              0.8888888888888888,
              "#fdca26"
             ],
             [
              1,
              "#f0f921"
             ]
            ],
            "type": "histogram2dcontour"
           }
          ],
          "mesh3d": [
           {
            "colorbar": {
             "outlinewidth": 0,
             "ticks": ""
            },
            "type": "mesh3d"
           }
          ],
          "parcoords": [
           {
            "line": {
             "colorbar": {
              "outlinewidth": 0,
              "ticks": ""
             }
            },
            "type": "parcoords"
           }
          ],
          "pie": [
           {
            "automargin": true,
            "type": "pie"
           }
          ],
          "scatter": [
           {
            "fillpattern": {
             "fillmode": "overlay",
             "size": 10,
             "solidity": 0.2
            },
            "type": "scatter"
           }
          ],
          "scatter3d": [
           {
            "line": {
             "colorbar": {
              "outlinewidth": 0,
              "ticks": ""
             }
            },
            "marker": {
             "colorbar": {
              "outlinewidth": 0,
              "ticks": ""
             }
            },
            "type": "scatter3d"
           }
          ],
          "scattercarpet": [
           {
            "marker": {
             "colorbar": {
              "outlinewidth": 0,
              "ticks": ""
             }
            },
            "type": "scattercarpet"
           }
          ],
          "scattergeo": [
           {
            "marker": {
             "colorbar": {
              "outlinewidth": 0,
              "ticks": ""
             }
            },
            "type": "scattergeo"
           }
          ],
          "scattergl": [
           {
            "marker": {
             "colorbar": {
              "outlinewidth": 0,
              "ticks": ""
             }
            },
            "type": "scattergl"
           }
          ],
          "scattermap": [
           {
            "marker": {
             "colorbar": {
              "outlinewidth": 0,
              "ticks": ""
             }
            },
            "type": "scattermap"
           }
          ],
          "scattermapbox": [
           {
            "marker": {
             "colorbar": {
              "outlinewidth": 0,
              "ticks": ""
             }
            },
            "type": "scattermapbox"
           }
          ],
          "scatterpolar": [
           {
            "marker": {
             "colorbar": {
              "outlinewidth": 0,
              "ticks": ""
             }
            },
            "type": "scatterpolar"
           }
          ],
          "scatterpolargl": [
           {
            "marker": {
             "colorbar": {
              "outlinewidth": 0,
              "ticks": ""
             }
            },
            "type": "scatterpolargl"
           }
          ],
          "scatterternary": [
           {
            "marker": {
             "colorbar": {
              "outlinewidth": 0,
              "ticks": ""
             }
            },
            "type": "scatterternary"
           }
          ],
          "surface": [
           {
            "colorbar": {
             "outlinewidth": 0,
             "ticks": ""
            },
            "colorscale": [
             [
              0,
              "#0d0887"
             ],
             [
              0.1111111111111111,
              "#46039f"
             ],
             [
              0.2222222222222222,
              "#7201a8"
             ],
             [
              0.3333333333333333,
              "#9c179e"
             ],
             [
              0.4444444444444444,
              "#bd3786"
             ],
             [
              0.5555555555555556,
              "#d8576b"
             ],
             [
              0.6666666666666666,
              "#ed7953"
             ],
             [
              0.7777777777777778,
              "#fb9f3a"
             ],
             [
              0.8888888888888888,
              "#fdca26"
             ],
             [
              1,
              "#f0f921"
             ]
            ],
            "type": "surface"
           }
          ],
          "table": [
           {
            "cells": {
             "fill": {
              "color": "#EBF0F8"
             },
             "line": {
              "color": "white"
             }
            },
            "header": {
             "fill": {
              "color": "#C8D4E3"
             },
             "line": {
              "color": "white"
             }
            },
            "type": "table"
           }
          ]
         },
         "layout": {
          "annotationdefaults": {
           "arrowcolor": "#2a3f5f",
           "arrowhead": 0,
           "arrowwidth": 1
          },
          "autotypenumbers": "strict",
          "coloraxis": {
           "colorbar": {
            "outlinewidth": 0,
            "ticks": ""
           }
          },
          "colorscale": {
           "diverging": [
            [
             0,
             "#8e0152"
            ],
            [
             0.1,
             "#c51b7d"
            ],
            [
             0.2,
             "#de77ae"
            ],
            [
             0.3,
             "#f1b6da"
            ],
            [
             0.4,
             "#fde0ef"
            ],
            [
             0.5,
             "#f7f7f7"
            ],
            [
             0.6,
             "#e6f5d0"
            ],
            [
             0.7,
             "#b8e186"
            ],
            [
             0.8,
             "#7fbc41"
            ],
            [
             0.9,
             "#4d9221"
            ],
            [
             1,
             "#276419"
            ]
           ],
           "sequential": [
            [
             0,
             "#0d0887"
            ],
            [
             0.1111111111111111,
             "#46039f"
            ],
            [
             0.2222222222222222,
             "#7201a8"
            ],
            [
             0.3333333333333333,
             "#9c179e"
            ],
            [
             0.4444444444444444,
             "#bd3786"
            ],
            [
             0.5555555555555556,
             "#d8576b"
            ],
            [
             0.6666666666666666,
             "#ed7953"
            ],
            [
             0.7777777777777778,
             "#fb9f3a"
            ],
            [
             0.8888888888888888,
             "#fdca26"
            ],
            [
             1,
             "#f0f921"
            ]
           ],
           "sequentialminus": [
            [
             0,
             "#0d0887"
            ],
            [
             0.1111111111111111,
             "#46039f"
            ],
            [
             0.2222222222222222,
             "#7201a8"
            ],
            [
             0.3333333333333333,
             "#9c179e"
            ],
            [
             0.4444444444444444,
             "#bd3786"
            ],
            [
             0.5555555555555556,
             "#d8576b"
            ],
            [
             0.6666666666666666,
             "#ed7953"
            ],
            [
             0.7777777777777778,
             "#fb9f3a"
            ],
            [
             0.8888888888888888,
             "#fdca26"
            ],
            [
             1,
             "#f0f921"
            ]
           ]
          },
          "colorway": [
           "#636efa",
           "#EF553B",
           "#00cc96",
           "#ab63fa",
           "#FFA15A",
           "#19d3f3",
           "#FF6692",
           "#B6E880",
           "#FF97FF",
           "#FECB52"
          ],
          "font": {
           "color": "#2a3f5f"
          },
          "geo": {
           "bgcolor": "white",
           "lakecolor": "white",
           "landcolor": "#E5ECF6",
           "showlakes": true,
           "showland": true,
           "subunitcolor": "white"
          },
          "hoverlabel": {
           "align": "left"
          },
          "hovermode": "closest",
          "mapbox": {
           "style": "light"
          },
          "paper_bgcolor": "white",
          "plot_bgcolor": "#E5ECF6",
          "polar": {
           "angularaxis": {
            "gridcolor": "white",
            "linecolor": "white",
            "ticks": ""
           },
           "bgcolor": "#E5ECF6",
           "radialaxis": {
            "gridcolor": "white",
            "linecolor": "white",
            "ticks": ""
           }
          },
          "scene": {
           "xaxis": {
            "backgroundcolor": "#E5ECF6",
            "gridcolor": "white",
            "gridwidth": 2,
            "linecolor": "white",
            "showbackground": true,
            "ticks": "",
            "zerolinecolor": "white"
           },
           "yaxis": {
            "backgroundcolor": "#E5ECF6",
            "gridcolor": "white",
            "gridwidth": 2,
            "linecolor": "white",
            "showbackground": true,
            "ticks": "",
            "zerolinecolor": "white"
           },
           "zaxis": {
            "backgroundcolor": "#E5ECF6",
            "gridcolor": "white",
            "gridwidth": 2,
            "linecolor": "white",
            "showbackground": true,
            "ticks": "",
            "zerolinecolor": "white"
           }
          },
          "shapedefaults": {
           "line": {
            "color": "#2a3f5f"
           }
          },
          "ternary": {
           "aaxis": {
            "gridcolor": "white",
            "linecolor": "white",
            "ticks": ""
           },
           "baxis": {
            "gridcolor": "white",
            "linecolor": "white",
            "ticks": ""
           },
           "bgcolor": "#E5ECF6",
           "caxis": {
            "gridcolor": "white",
            "linecolor": "white",
            "ticks": ""
           }
          },
          "title": {
           "x": 0.05
          },
          "xaxis": {
           "automargin": true,
           "gridcolor": "white",
           "linecolor": "white",
           "ticks": "",
           "title": {
            "standoff": 15
           },
           "zerolinecolor": "white",
           "zerolinewidth": 2
          },
          "yaxis": {
           "automargin": true,
           "gridcolor": "white",
           "linecolor": "white",
           "ticks": "",
           "title": {
            "standoff": 15
           },
           "zerolinecolor": "white",
           "zerolinewidth": 2
          }
         }
        },
        "title": {
         "text": "Density of dividing cells vs Time since feeding"
        },
        "width": 1200,
        "xaxis": {
         "anchor": "y",
         "domain": [
          0,
          1
         ],
         "title": {
          "text": "Time since feeding"
         }
        },
        "yaxis": {
         "anchor": "x",
         "domain": [
          0,
          1
         ],
         "title": {
          "text": "Density of dividing cells"
         }
        }
       }
      }
     },
     "metadata": {},
     "output_type": "display_data"
    }
   ],
   "source": [
    "f = px.box(df, x='Time', y='Density1', color='Food', hover_data=['File'], points='all', width=1200, height=600, title='Density of dividing cells vs Time since feeding',labels={'Time':'Time since feeding', 'Density1':'Density of dividing cells'})\n",
    "f.write_html('Data/PlanariaBoxPlot.html')\n",
    "f.write_image('Data/PlanariaBoxPlot.png', scale=2)\n",
    "f.write_image('Data/PlanariaBoxPlot.pdf', scale=2)\n",
    "f"
   ]
  },
  {
   "cell_type": "code",
   "execution_count": 96,
   "metadata": {},
   "outputs": [
    {
     "name": "stdout",
     "output_type": "stream",
     "text": [
      "Collecting kaleido\n",
      "  Downloading kaleido-1.0.0-py3-none-any.whl.metadata (5.6 kB)\n",
      "Collecting choreographer>=1.0.5 (from kaleido)\n",
      "  Downloading choreographer-1.0.9-py3-none-any.whl.metadata (5.6 kB)\n",
      "Collecting logistro>=1.0.8 (from kaleido)\n",
      "  Downloading logistro-1.1.0-py3-none-any.whl.metadata (2.6 kB)\n",
      "Collecting orjson>=3.10.15 (from kaleido)\n",
      "  Downloading orjson-3.10.18-cp312-cp312-win_amd64.whl.metadata (43 kB)\n",
      "Requirement already satisfied: packaging in c:\\users\\catseanjohn\\miniforge3\\envs\\napari\\lib\\site-packages (from kaleido) (24.1)\n",
      "Collecting simplejson>=3.19.3 (from choreographer>=1.0.5->kaleido)\n",
      "  Downloading simplejson-3.20.1-cp312-cp312-win_amd64.whl.metadata (3.4 kB)\n",
      "Downloading kaleido-1.0.0-py3-none-any.whl (51 kB)\n",
      "Downloading choreographer-1.0.9-py3-none-any.whl (51 kB)\n",
      "Downloading logistro-1.1.0-py3-none-any.whl (7.9 kB)\n",
      "Downloading orjson-3.10.18-cp312-cp312-win_amd64.whl (134 kB)\n",
      "Downloading simplejson-3.20.1-cp312-cp312-win_amd64.whl (75 kB)\n",
      "Installing collected packages: simplejson, orjson, logistro, choreographer, kaleido\n",
      "Successfully installed choreographer-1.0.9 kaleido-1.0.0 logistro-1.1.0 orjson-3.10.18 simplejson-3.20.1\n"
     ]
    }
   ],
   "source": [
    "!pip install -U kaleido"
   ]
  },
  {
   "cell_type": "code",
   "execution_count": null,
   "metadata": {},
   "outputs": [],
   "source": []
  },
  {
   "cell_type": "markdown",
   "metadata": {},
   "source": [
    "## Statistical Tests"
   ]
  },
  {
   "cell_type": "markdown",
   "metadata": {},
   "source": [
    "As there appears to be a large difference between Peptone and Liver at 2h and not one at 7d, we can perform a Mann Whitney test which makes no assumptions about the underlying data distributions."
   ]
  },
  {
   "cell_type": "code",
   "execution_count": null,
   "metadata": {},
   "outputs": [
    {
     "data": {
      "text/plain": [
       "MannwhitneyuResult(statistic=64.0, pvalue=0.0001554001554001554)"
      ]
     },
     "execution_count": 66,
     "metadata": {},
     "output_type": "execute_result"
    }
   ],
   "source": [
    "density_2h_Peptone = df[(df['Food']=='Peptone') & (df['Time (h)']==2)]['Density1']\n",
    "density_2h_Liver = df[(df['Food']=='Liver') & (df['Time (h)']==2)]['Density1']\n",
    "\n",
    "stats.mannwhitneyu(density_2h_Peptone, density_2h_Liver)"
   ]
  },
  {
   "cell_type": "code",
   "execution_count": null,
   "metadata": {},
   "outputs": [
    {
     "data": {
      "text/plain": [
       "MannwhitneyuResult(statistic=35.0, pvalue=0.10066768749863966)"
      ]
     },
     "execution_count": 67,
     "metadata": {},
     "output_type": "execute_result"
    }
   ],
   "source": [
    "density_7d_Peptone = df[(df['Food']=='Peptone') & (df['Time']=='7d')]['Density1']\n",
    "density_7d_Liver = df[(df['Food']=='Liver') & (df['Time']=='7d')]['Density1']\n",
    "\n",
    "stats.mannwhitneyu(density_7d_Peptone, density_7d_Liver)"
   ]
  },
  {
   "cell_type": "markdown",
   "metadata": {},
   "source": [
    "Since we know how to do loops, we can get the p-values for all Times/Foods."
   ]
  },
  {
   "cell_type": "code",
   "execution_count": null,
   "metadata": {},
   "outputs": [
    {
     "data": {
      "text/plain": [
       "array([[['10min', 'Artemina', '0.6453768453768453'],\n",
       "        ['10min', 'Peptone', '8.227067050596462e-05']],\n",
       "\n",
       "       [['2h', 'Artemina', '0.8784770784770783'],\n",
       "        ['2h', 'Peptone', '0.0001554001554001554']],\n",
       "\n",
       "       [['4h', 'Artemina', '0.006993006993006993'],\n",
       "        ['4h', 'Peptone', '0.00032908268202385847']],\n",
       "\n",
       "       [['6h', 'Artemina', '0.0037021801727684074'],\n",
       "        ['6h', 'Peptone', '0.007897984368572603']],\n",
       "\n",
       "       [['1d', 'Artemina', '0.08298368298368297'],\n",
       "        ['1d', 'Peptone', '0.0001554001554001554']],\n",
       "\n",
       "       [['2d', 'Artemina', '0.7209013209013208'],\n",
       "        ['2d', 'Peptone', '0.0001554001554001554']],\n",
       "\n",
       "       [['3d', 'Artemina', '0.020668220668220667'],\n",
       "        ['3d', 'Peptone', '0.0003108003108003108']],\n",
       "\n",
       "       [['4d', 'Artemina', '0.0029526029526029526'],\n",
       "        ['4d', 'Peptone', '0.0001554001554001554']],\n",
       "\n",
       "       [['5d', 'Artemina', '0.967435545139537'],\n",
       "        ['5d', 'Peptone', '0.03596403596403597']],\n",
       "\n",
       "       [['6d', 'Artemina', '0.6775849579524755'],\n",
       "        ['6d', 'Peptone', '0.0007685389131627665']],\n",
       "\n",
       "       [['7d', 'Artemina', '0.7426659029196823'],\n",
       "        ['7d', 'Peptone', '0.10066768749863966']]], dtype='<U32')"
      ]
     },
     "execution_count": 68,
     "metadata": {},
     "output_type": "execute_result"
    }
   ],
   "source": [
    "times = ['10min', '2h', '4h', '6h', '1d', '2d', '3d', '4d', '5d', '6d', '7d']\n",
    "foods = df[~(df['Food'].isin(['unfed', 'Liver']))]['Food'].unique()\n",
    "\n",
    "p_values = []\n",
    "\n",
    "for time in times:\n",
    "    for food in foods:\n",
    "        density_test = df[(df['Food']==food) & (df['Time']==time)]['Density1']\n",
    "        density_liver = df[(df['Food']=='Liver') & (df['Time']==time)]['Density1']\n",
    "        p_values.append([time, food, stats.mannwhitneyu(density_test, density_liver).pvalue])\n",
    "\n",
    "p_values = np.array(p_values).reshape(11,2,3)        \n",
    "p_values"
   ]
  },
  {
   "cell_type": "markdown",
   "metadata": {},
   "source": [
    "p_values is now an 11X2X3 array:  Time X Food X Value (where the 3 values are the time, food, and pvalue).  Each row of this is effectively a DataFrame, so we can just concatenate them all together using a list comprehension and pd.concat."
   ]
  },
  {
   "cell_type": "code",
   "execution_count": null,
   "metadata": {},
   "outputs": [],
   "source": [
    "pvalue_df = pd.concat([pd.DataFrame(p, columns=['Time', 'Food', 'p-value']) for p in p_values])\n",
    "pvalue_df['p-value'] = pvalue_df['p-value'].astype(float).fillna(1)\n",
    "pvalue_df['Significant'] = pvalue_df['p-value']<0.05"
   ]
  },
  {
   "cell_type": "code",
   "execution_count": null,
   "metadata": {},
   "outputs": [
    {
     "data": {
      "text/html": [
       "<div>\n",
       "<style scoped>\n",
       "    .dataframe tbody tr th:only-of-type {\n",
       "        vertical-align: middle;\n",
       "    }\n",
       "\n",
       "    .dataframe tbody tr th {\n",
       "        vertical-align: top;\n",
       "    }\n",
       "\n",
       "    .dataframe thead th {\n",
       "        text-align: right;\n",
       "    }\n",
       "</style>\n",
       "<table border=\"1\" class=\"dataframe\">\n",
       "  <thead>\n",
       "    <tr style=\"text-align: right;\">\n",
       "      <th></th>\n",
       "      <th>Time</th>\n",
       "      <th>Food</th>\n",
       "      <th>p-value</th>\n",
       "      <th>Significant</th>\n",
       "    </tr>\n",
       "  </thead>\n",
       "  <tbody>\n",
       "    <tr>\n",
       "      <th>0</th>\n",
       "      <td>10min</td>\n",
       "      <td>Artemina</td>\n",
       "      <td>0.645377</td>\n",
       "      <td>False</td>\n",
       "    </tr>\n",
       "    <tr>\n",
       "      <th>1</th>\n",
       "      <td>10min</td>\n",
       "      <td>Peptone</td>\n",
       "      <td>0.000082</td>\n",
       "      <td>True</td>\n",
       "    </tr>\n",
       "    <tr>\n",
       "      <th>0</th>\n",
       "      <td>2h</td>\n",
       "      <td>Artemina</td>\n",
       "      <td>0.878477</td>\n",
       "      <td>False</td>\n",
       "    </tr>\n",
       "    <tr>\n",
       "      <th>1</th>\n",
       "      <td>2h</td>\n",
       "      <td>Peptone</td>\n",
       "      <td>0.000155</td>\n",
       "      <td>True</td>\n",
       "    </tr>\n",
       "    <tr>\n",
       "      <th>0</th>\n",
       "      <td>4h</td>\n",
       "      <td>Artemina</td>\n",
       "      <td>0.006993</td>\n",
       "      <td>True</td>\n",
       "    </tr>\n",
       "    <tr>\n",
       "      <th>1</th>\n",
       "      <td>4h</td>\n",
       "      <td>Peptone</td>\n",
       "      <td>0.000329</td>\n",
       "      <td>True</td>\n",
       "    </tr>\n",
       "    <tr>\n",
       "      <th>0</th>\n",
       "      <td>6h</td>\n",
       "      <td>Artemina</td>\n",
       "      <td>0.003702</td>\n",
       "      <td>True</td>\n",
       "    </tr>\n",
       "    <tr>\n",
       "      <th>1</th>\n",
       "      <td>6h</td>\n",
       "      <td>Peptone</td>\n",
       "      <td>0.007898</td>\n",
       "      <td>True</td>\n",
       "    </tr>\n",
       "    <tr>\n",
       "      <th>0</th>\n",
       "      <td>1d</td>\n",
       "      <td>Artemina</td>\n",
       "      <td>0.082984</td>\n",
       "      <td>False</td>\n",
       "    </tr>\n",
       "    <tr>\n",
       "      <th>1</th>\n",
       "      <td>1d</td>\n",
       "      <td>Peptone</td>\n",
       "      <td>0.000155</td>\n",
       "      <td>True</td>\n",
       "    </tr>\n",
       "    <tr>\n",
       "      <th>0</th>\n",
       "      <td>2d</td>\n",
       "      <td>Artemina</td>\n",
       "      <td>0.720901</td>\n",
       "      <td>False</td>\n",
       "    </tr>\n",
       "    <tr>\n",
       "      <th>1</th>\n",
       "      <td>2d</td>\n",
       "      <td>Peptone</td>\n",
       "      <td>0.000155</td>\n",
       "      <td>True</td>\n",
       "    </tr>\n",
       "    <tr>\n",
       "      <th>0</th>\n",
       "      <td>3d</td>\n",
       "      <td>Artemina</td>\n",
       "      <td>0.020668</td>\n",
       "      <td>True</td>\n",
       "    </tr>\n",
       "    <tr>\n",
       "      <th>1</th>\n",
       "      <td>3d</td>\n",
       "      <td>Peptone</td>\n",
       "      <td>0.000311</td>\n",
       "      <td>True</td>\n",
       "    </tr>\n",
       "    <tr>\n",
       "      <th>0</th>\n",
       "      <td>4d</td>\n",
       "      <td>Artemina</td>\n",
       "      <td>0.002953</td>\n",
       "      <td>True</td>\n",
       "    </tr>\n",
       "    <tr>\n",
       "      <th>1</th>\n",
       "      <td>4d</td>\n",
       "      <td>Peptone</td>\n",
       "      <td>0.000155</td>\n",
       "      <td>True</td>\n",
       "    </tr>\n",
       "    <tr>\n",
       "      <th>0</th>\n",
       "      <td>5d</td>\n",
       "      <td>Artemina</td>\n",
       "      <td>0.967436</td>\n",
       "      <td>False</td>\n",
       "    </tr>\n",
       "    <tr>\n",
       "      <th>1</th>\n",
       "      <td>5d</td>\n",
       "      <td>Peptone</td>\n",
       "      <td>0.035964</td>\n",
       "      <td>True</td>\n",
       "    </tr>\n",
       "    <tr>\n",
       "      <th>0</th>\n",
       "      <td>6d</td>\n",
       "      <td>Artemina</td>\n",
       "      <td>0.677585</td>\n",
       "      <td>False</td>\n",
       "    </tr>\n",
       "    <tr>\n",
       "      <th>1</th>\n",
       "      <td>6d</td>\n",
       "      <td>Peptone</td>\n",
       "      <td>0.000769</td>\n",
       "      <td>True</td>\n",
       "    </tr>\n",
       "    <tr>\n",
       "      <th>0</th>\n",
       "      <td>7d</td>\n",
       "      <td>Artemina</td>\n",
       "      <td>0.742666</td>\n",
       "      <td>False</td>\n",
       "    </tr>\n",
       "    <tr>\n",
       "      <th>1</th>\n",
       "      <td>7d</td>\n",
       "      <td>Peptone</td>\n",
       "      <td>0.100668</td>\n",
       "      <td>False</td>\n",
       "    </tr>\n",
       "  </tbody>\n",
       "</table>\n",
       "</div>"
      ],
      "text/plain": [
       "    Time      Food   p-value  Significant\n",
       "0  10min  Artemina  0.645377        False\n",
       "1  10min   Peptone  0.000082         True\n",
       "0     2h  Artemina  0.878477        False\n",
       "1     2h   Peptone  0.000155         True\n",
       "0     4h  Artemina  0.006993         True\n",
       "1     4h   Peptone  0.000329         True\n",
       "0     6h  Artemina  0.003702         True\n",
       "1     6h   Peptone  0.007898         True\n",
       "0     1d  Artemina  0.082984        False\n",
       "1     1d   Peptone  0.000155         True\n",
       "0     2d  Artemina  0.720901        False\n",
       "1     2d   Peptone  0.000155         True\n",
       "0     3d  Artemina  0.020668         True\n",
       "1     3d   Peptone  0.000311         True\n",
       "0     4d  Artemina  0.002953         True\n",
       "1     4d   Peptone  0.000155         True\n",
       "0     5d  Artemina  0.967436        False\n",
       "1     5d   Peptone  0.035964         True\n",
       "0     6d  Artemina  0.677585        False\n",
       "1     6d   Peptone  0.000769         True\n",
       "0     7d  Artemina  0.742666        False\n",
       "1     7d   Peptone  0.100668        False"
      ]
     },
     "execution_count": 70,
     "metadata": {},
     "output_type": "execute_result"
    }
   ],
   "source": [
    "pvalue_df"
   ]
  },
  {
   "cell_type": "markdown",
   "metadata": {},
   "source": [
    "Or we can plot it using a scatter"
   ]
  },
  {
   "cell_type": "code",
   "execution_count": null,
   "metadata": {},
   "outputs": [
    {
     "data": {
      "application/vnd.plotly.v1+json": {
       "config": {
        "plotlyServerURL": "https://plot.ly"
       },
       "data": [
        {
         "hovertemplate": "Food=Artemina<br>Time=%{x}<br>Significant=%{y}<extra></extra>",
         "legendgroup": "",
         "marker": {
          "color": "#636efa",
          "symbol": "circle"
         },
         "mode": "markers",
         "name": "",
         "orientation": "v",
         "showlegend": false,
         "type": "scatter",
         "x": [
          "10min",
          "2h",
          "4h",
          "6h",
          "1d",
          "2d",
          "3d",
          "4d",
          "5d",
          "6d",
          "7d"
         ],
         "xaxis": "x",
         "y": [
          false,
          false,
          true,
          true,
          false,
          false,
          true,
          true,
          false,
          false,
          false
         ],
         "yaxis": "y"
        },
        {
         "hovertemplate": "Food=Peptone<br>Time=%{x}<br>Significant=%{y}<extra></extra>",
         "legendgroup": "",
         "marker": {
          "color": "#636efa",
          "symbol": "circle"
         },
         "mode": "markers",
         "name": "",
         "orientation": "v",
         "showlegend": false,
         "type": "scatter",
         "x": [
          "10min",
          "2h",
          "4h",
          "6h",
          "1d",
          "2d",
          "3d",
          "4d",
          "5d",
          "6d",
          "7d"
         ],
         "xaxis": "x2",
         "y": [
          true,
          true,
          true,
          true,
          true,
          true,
          true,
          true,
          true,
          true,
          false
         ],
         "yaxis": "y2"
        }
       ],
       "layout": {
        "annotations": [
         {
          "font": {},
          "showarrow": false,
          "text": "Food=Artemina",
          "x": 0.245,
          "xanchor": "center",
          "xref": "paper",
          "y": 1,
          "yanchor": "bottom",
          "yref": "paper"
         },
         {
          "font": {},
          "showarrow": false,
          "text": "Food=Peptone",
          "x": 0.755,
          "xanchor": "center",
          "xref": "paper",
          "y": 1,
          "yanchor": "bottom",
          "yref": "paper"
         }
        ],
        "legend": {
         "tracegroupgap": 0
        },
        "template": {
         "data": {
          "bar": [
           {
            "error_x": {
             "color": "#2a3f5f"
            },
            "error_y": {
             "color": "#2a3f5f"
            },
            "marker": {
             "line": {
              "color": "#E5ECF6",
              "width": 0.5
             },
             "pattern": {
              "fillmode": "overlay",
              "size": 10,
              "solidity": 0.2
             }
            },
            "type": "bar"
           }
          ],
          "barpolar": [
           {
            "marker": {
             "line": {
              "color": "#E5ECF6",
              "width": 0.5
             },
             "pattern": {
              "fillmode": "overlay",
              "size": 10,
              "solidity": 0.2
             }
            },
            "type": "barpolar"
           }
          ],
          "carpet": [
           {
            "aaxis": {
             "endlinecolor": "#2a3f5f",
             "gridcolor": "white",
             "linecolor": "white",
             "minorgridcolor": "white",
             "startlinecolor": "#2a3f5f"
            },
            "baxis": {
             "endlinecolor": "#2a3f5f",
             "gridcolor": "white",
             "linecolor": "white",
             "minorgridcolor": "white",
             "startlinecolor": "#2a3f5f"
            },
            "type": "carpet"
           }
          ],
          "choropleth": [
           {
            "colorbar": {
             "outlinewidth": 0,
             "ticks": ""
            },
            "type": "choropleth"
           }
          ],
          "contour": [
           {
            "colorbar": {
             "outlinewidth": 0,
             "ticks": ""
            },
            "colorscale": [
             [
              0,
              "#0d0887"
             ],
             [
              0.1111111111111111,
              "#46039f"
             ],
             [
              0.2222222222222222,
              "#7201a8"
             ],
             [
              0.3333333333333333,
              "#9c179e"
             ],
             [
              0.4444444444444444,
              "#bd3786"
             ],
             [
              0.5555555555555556,
              "#d8576b"
             ],
             [
              0.6666666666666666,
              "#ed7953"
             ],
             [
              0.7777777777777778,
              "#fb9f3a"
             ],
             [
              0.8888888888888888,
              "#fdca26"
             ],
             [
              1,
              "#f0f921"
             ]
            ],
            "type": "contour"
           }
          ],
          "contourcarpet": [
           {
            "colorbar": {
             "outlinewidth": 0,
             "ticks": ""
            },
            "type": "contourcarpet"
           }
          ],
          "heatmap": [
           {
            "colorbar": {
             "outlinewidth": 0,
             "ticks": ""
            },
            "colorscale": [
             [
              0,
              "#0d0887"
             ],
             [
              0.1111111111111111,
              "#46039f"
             ],
             [
              0.2222222222222222,
              "#7201a8"
             ],
             [
              0.3333333333333333,
              "#9c179e"
             ],
             [
              0.4444444444444444,
              "#bd3786"
             ],
             [
              0.5555555555555556,
              "#d8576b"
             ],
             [
              0.6666666666666666,
              "#ed7953"
             ],
             [
              0.7777777777777778,
              "#fb9f3a"
             ],
             [
              0.8888888888888888,
              "#fdca26"
             ],
             [
              1,
              "#f0f921"
             ]
            ],
            "type": "heatmap"
           }
          ],
          "heatmapgl": [
           {
            "colorbar": {
             "outlinewidth": 0,
             "ticks": ""
            },
            "colorscale": [
             [
              0,
              "#0d0887"
             ],
             [
              0.1111111111111111,
              "#46039f"
             ],
             [
              0.2222222222222222,
              "#7201a8"
             ],
             [
              0.3333333333333333,
              "#9c179e"
             ],
             [
              0.4444444444444444,
              "#bd3786"
             ],
             [
              0.5555555555555556,
              "#d8576b"
             ],
             [
              0.6666666666666666,
              "#ed7953"
             ],
             [
              0.7777777777777778,
              "#fb9f3a"
             ],
             [
              0.8888888888888888,
              "#fdca26"
             ],
             [
              1,
              "#f0f921"
             ]
            ],
            "type": "heatmapgl"
           }
          ],
          "histogram": [
           {
            "marker": {
             "pattern": {
              "fillmode": "overlay",
              "size": 10,
              "solidity": 0.2
             }
            },
            "type": "histogram"
           }
          ],
          "histogram2d": [
           {
            "colorbar": {
             "outlinewidth": 0,
             "ticks": ""
            },
            "colorscale": [
             [
              0,
              "#0d0887"
             ],
             [
              0.1111111111111111,
              "#46039f"
             ],
             [
              0.2222222222222222,
              "#7201a8"
             ],
             [
              0.3333333333333333,
              "#9c179e"
             ],
             [
              0.4444444444444444,
              "#bd3786"
             ],
             [
              0.5555555555555556,
              "#d8576b"
             ],
             [
              0.6666666666666666,
              "#ed7953"
             ],
             [
              0.7777777777777778,
              "#fb9f3a"
             ],
             [
              0.8888888888888888,
              "#fdca26"
             ],
             [
              1,
              "#f0f921"
             ]
            ],
            "type": "histogram2d"
           }
          ],
          "histogram2dcontour": [
           {
            "colorbar": {
             "outlinewidth": 0,
             "ticks": ""
            },
            "colorscale": [
             [
              0,
              "#0d0887"
             ],
             [
              0.1111111111111111,
              "#46039f"
             ],
             [
              0.2222222222222222,
              "#7201a8"
             ],
             [
              0.3333333333333333,
              "#9c179e"
             ],
             [
              0.4444444444444444,
              "#bd3786"
             ],
             [
              0.5555555555555556,
              "#d8576b"
             ],
             [
              0.6666666666666666,
              "#ed7953"
             ],
             [
              0.7777777777777778,
              "#fb9f3a"
             ],
             [
              0.8888888888888888,
              "#fdca26"
             ],
             [
              1,
              "#f0f921"
             ]
            ],
            "type": "histogram2dcontour"
           }
          ],
          "mesh3d": [
           {
            "colorbar": {
             "outlinewidth": 0,
             "ticks": ""
            },
            "type": "mesh3d"
           }
          ],
          "parcoords": [
           {
            "line": {
             "colorbar": {
              "outlinewidth": 0,
              "ticks": ""
             }
            },
            "type": "parcoords"
           }
          ],
          "pie": [
           {
            "automargin": true,
            "type": "pie"
           }
          ],
          "scatter": [
           {
            "fillpattern": {
             "fillmode": "overlay",
             "size": 10,
             "solidity": 0.2
            },
            "type": "scatter"
           }
          ],
          "scatter3d": [
           {
            "line": {
             "colorbar": {
              "outlinewidth": 0,
              "ticks": ""
             }
            },
            "marker": {
             "colorbar": {
              "outlinewidth": 0,
              "ticks": ""
             }
            },
            "type": "scatter3d"
           }
          ],
          "scattercarpet": [
           {
            "marker": {
             "colorbar": {
              "outlinewidth": 0,
              "ticks": ""
             }
            },
            "type": "scattercarpet"
           }
          ],
          "scattergeo": [
           {
            "marker": {
             "colorbar": {
              "outlinewidth": 0,
              "ticks": ""
             }
            },
            "type": "scattergeo"
           }
          ],
          "scattergl": [
           {
            "marker": {
             "colorbar": {
              "outlinewidth": 0,
              "ticks": ""
             }
            },
            "type": "scattergl"
           }
          ],
          "scattermapbox": [
           {
            "marker": {
             "colorbar": {
              "outlinewidth": 0,
              "ticks": ""
             }
            },
            "type": "scattermapbox"
           }
          ],
          "scatterpolar": [
           {
            "marker": {
             "colorbar": {
              "outlinewidth": 0,
              "ticks": ""
             }
            },
            "type": "scatterpolar"
           }
          ],
          "scatterpolargl": [
           {
            "marker": {
             "colorbar": {
              "outlinewidth": 0,
              "ticks": ""
             }
            },
            "type": "scatterpolargl"
           }
          ],
          "scatterternary": [
           {
            "marker": {
             "colorbar": {
              "outlinewidth": 0,
              "ticks": ""
             }
            },
            "type": "scatterternary"
           }
          ],
          "surface": [
           {
            "colorbar": {
             "outlinewidth": 0,
             "ticks": ""
            },
            "colorscale": [
             [
              0,
              "#0d0887"
             ],
             [
              0.1111111111111111,
              "#46039f"
             ],
             [
              0.2222222222222222,
              "#7201a8"
             ],
             [
              0.3333333333333333,
              "#9c179e"
             ],
             [
              0.4444444444444444,
              "#bd3786"
             ],
             [
              0.5555555555555556,
              "#d8576b"
             ],
             [
              0.6666666666666666,
              "#ed7953"
             ],
             [
              0.7777777777777778,
              "#fb9f3a"
             ],
             [
              0.8888888888888888,
              "#fdca26"
             ],
             [
              1,
              "#f0f921"
             ]
            ],
            "type": "surface"
           }
          ],
          "table": [
           {
            "cells": {
             "fill": {
              "color": "#EBF0F8"
             },
             "line": {
              "color": "white"
             }
            },
            "header": {
             "fill": {
              "color": "#C8D4E3"
             },
             "line": {
              "color": "white"
             }
            },
            "type": "table"
           }
          ]
         },
         "layout": {
          "annotationdefaults": {
           "arrowcolor": "#2a3f5f",
           "arrowhead": 0,
           "arrowwidth": 1
          },
          "autotypenumbers": "strict",
          "coloraxis": {
           "colorbar": {
            "outlinewidth": 0,
            "ticks": ""
           }
          },
          "colorscale": {
           "diverging": [
            [
             0,
             "#8e0152"
            ],
            [
             0.1,
             "#c51b7d"
            ],
            [
             0.2,
             "#de77ae"
            ],
            [
             0.3,
             "#f1b6da"
            ],
            [
             0.4,
             "#fde0ef"
            ],
            [
             0.5,
             "#f7f7f7"
            ],
            [
             0.6,
             "#e6f5d0"
            ],
            [
             0.7,
             "#b8e186"
            ],
            [
             0.8,
             "#7fbc41"
            ],
            [
             0.9,
             "#4d9221"
            ],
            [
             1,
             "#276419"
            ]
           ],
           "sequential": [
            [
             0,
             "#0d0887"
            ],
            [
             0.1111111111111111,
             "#46039f"
            ],
            [
             0.2222222222222222,
             "#7201a8"
            ],
            [
             0.3333333333333333,
             "#9c179e"
            ],
            [
             0.4444444444444444,
             "#bd3786"
            ],
            [
             0.5555555555555556,
             "#d8576b"
            ],
            [
             0.6666666666666666,
             "#ed7953"
            ],
            [
             0.7777777777777778,
             "#fb9f3a"
            ],
            [
             0.8888888888888888,
             "#fdca26"
            ],
            [
             1,
             "#f0f921"
            ]
           ],
           "sequentialminus": [
            [
             0,
             "#0d0887"
            ],
            [
             0.1111111111111111,
             "#46039f"
            ],
            [
             0.2222222222222222,
             "#7201a8"
            ],
            [
             0.3333333333333333,
             "#9c179e"
            ],
            [
             0.4444444444444444,
             "#bd3786"
            ],
            [
             0.5555555555555556,
             "#d8576b"
            ],
            [
             0.6666666666666666,
             "#ed7953"
            ],
            [
             0.7777777777777778,
             "#fb9f3a"
            ],
            [
             0.8888888888888888,
             "#fdca26"
            ],
            [
             1,
             "#f0f921"
            ]
           ]
          },
          "colorway": [
           "#636efa",
           "#EF553B",
           "#00cc96",
           "#ab63fa",
           "#FFA15A",
           "#19d3f3",
           "#FF6692",
           "#B6E880",
           "#FF97FF",
           "#FECB52"
          ],
          "font": {
           "color": "#2a3f5f"
          },
          "geo": {
           "bgcolor": "white",
           "lakecolor": "white",
           "landcolor": "#E5ECF6",
           "showlakes": true,
           "showland": true,
           "subunitcolor": "white"
          },
          "hoverlabel": {
           "align": "left"
          },
          "hovermode": "closest",
          "mapbox": {
           "style": "light"
          },
          "paper_bgcolor": "white",
          "plot_bgcolor": "#E5ECF6",
          "polar": {
           "angularaxis": {
            "gridcolor": "white",
            "linecolor": "white",
            "ticks": ""
           },
           "bgcolor": "#E5ECF6",
           "radialaxis": {
            "gridcolor": "white",
            "linecolor": "white",
            "ticks": ""
           }
          },
          "scene": {
           "xaxis": {
            "backgroundcolor": "#E5ECF6",
            "gridcolor": "white",
            "gridwidth": 2,
            "linecolor": "white",
            "showbackground": true,
            "ticks": "",
            "zerolinecolor": "white"
           },
           "yaxis": {
            "backgroundcolor": "#E5ECF6",
            "gridcolor": "white",
            "gridwidth": 2,
            "linecolor": "white",
            "showbackground": true,
            "ticks": "",
            "zerolinecolor": "white"
           },
           "zaxis": {
            "backgroundcolor": "#E5ECF6",
            "gridcolor": "white",
            "gridwidth": 2,
            "linecolor": "white",
            "showbackground": true,
            "ticks": "",
            "zerolinecolor": "white"
           }
          },
          "shapedefaults": {
           "line": {
            "color": "#2a3f5f"
           }
          },
          "ternary": {
           "aaxis": {
            "gridcolor": "white",
            "linecolor": "white",
            "ticks": ""
           },
           "baxis": {
            "gridcolor": "white",
            "linecolor": "white",
            "ticks": ""
           },
           "bgcolor": "#E5ECF6",
           "caxis": {
            "gridcolor": "white",
            "linecolor": "white",
            "ticks": ""
           }
          },
          "title": {
           "x": 0.05
          },
          "xaxis": {
           "automargin": true,
           "gridcolor": "white",
           "linecolor": "white",
           "ticks": "",
           "title": {
            "standoff": 15
           },
           "zerolinecolor": "white",
           "zerolinewidth": 2
          },
          "yaxis": {
           "automargin": true,
           "gridcolor": "white",
           "linecolor": "white",
           "ticks": "",
           "title": {
            "standoff": 15
           },
           "zerolinecolor": "white",
           "zerolinewidth": 2
          }
         }
        },
        "title": {
         "text": "Significance vs Liver"
        },
        "width": 600,
        "xaxis": {
         "anchor": "y",
         "domain": [
          0,
          0.49
         ],
         "title": {
          "text": "Time"
         }
        },
        "xaxis2": {
         "anchor": "y2",
         "domain": [
          0.51,
          1
         ],
         "matches": "x",
         "title": {
          "text": "Time"
         }
        },
        "yaxis": {
         "anchor": "x",
         "domain": [
          0,
          1
         ],
         "title": {
          "text": "Significant"
         }
        },
        "yaxis2": {
         "anchor": "x2",
         "domain": [
          0,
          1
         ],
         "matches": "y",
         "showticklabels": false
        }
       }
      }
     },
     "metadata": {},
     "output_type": "display_data"
    }
   ],
   "source": [
    "px.scatter(pvalue_df, x='Time', y='Significant', facet_col='Food', width=600, title='Significance vs Liver')"
   ]
  },
  {
   "cell_type": "markdown",
   "metadata": {},
   "source": [
    "# Melt and Pivot"
   ]
  },
  {
   "cell_type": "markdown",
   "metadata": {},
   "source": [
    "## Melt"
   ]
  },
  {
   "cell_type": "markdown",
   "metadata": {},
   "source": [
    "In our dataset the intensity has been measured at 2 different thresholds (Density1 and Density2).  If we want to see if these are yielding different results we can plot them side by side.  However plotly wants to plot y values only from one column of a table.  So we need to 'melt' our dataframe so that both Density1 and Density2 are in the same column, but we have an extra column that tells whether the value is a Density1 value or a Density2 value."
   ]
  },
  {
   "cell_type": "code",
   "execution_count": null,
   "metadata": {},
   "outputs": [],
   "source": [
    "melted_df = df.melt(id_vars=['Food', 'Time (h)', 'Time', 'File'], value_vars=['Density1', 'Density2'], var_name='Density', value_name='Value')"
   ]
  },
  {
   "cell_type": "code",
   "execution_count": null,
   "metadata": {},
   "outputs": [
    {
     "name": "stdout",
     "output_type": "stream",
     "text": [
      "(560, 6)\n",
      "(280, 18)\n"
     ]
    }
   ],
   "source": [
    "print(melted_df.shape)\n",
    "print(df.shape)\n"
   ]
  },
  {
   "cell_type": "markdown",
   "metadata": {},
   "source": [
    "Our dataframe is twice as large, as now we have 2 entries for every file:  Density1 and Density2.  But now we can easily look at the results."
   ]
  },
  {
   "cell_type": "code",
   "execution_count": null,
   "metadata": {},
   "outputs": [
    {
     "data": {
      "text/html": [
       "<div>\n",
       "<style scoped>\n",
       "    .dataframe tbody tr th:only-of-type {\n",
       "        vertical-align: middle;\n",
       "    }\n",
       "\n",
       "    .dataframe tbody tr th {\n",
       "        vertical-align: top;\n",
       "    }\n",
       "\n",
       "    .dataframe thead th {\n",
       "        text-align: right;\n",
       "    }\n",
       "</style>\n",
       "<table border=\"1\" class=\"dataframe\">\n",
       "  <thead>\n",
       "    <tr style=\"text-align: right;\">\n",
       "      <th></th>\n",
       "      <th>Food</th>\n",
       "      <th>Time (h)</th>\n",
       "      <th>Time</th>\n",
       "      <th>File</th>\n",
       "      <th>Density</th>\n",
       "      <th>Value</th>\n",
       "    </tr>\n",
       "  </thead>\n",
       "  <tbody>\n",
       "    <tr>\n",
       "      <th>0</th>\n",
       "      <td>Artemina</td>\n",
       "      <td>0.166667</td>\n",
       "      <td>10min</td>\n",
       "      <td>./20240321_140300_322/Plate000_Well2_Object0.t...</td>\n",
       "      <td>Density1</td>\n",
       "      <td>51.179857</td>\n",
       "    </tr>\n",
       "    <tr>\n",
       "      <th>1</th>\n",
       "      <td>Artemina</td>\n",
       "      <td>0.166667</td>\n",
       "      <td>10min</td>\n",
       "      <td>./20240321_140300_322/Plate000_Well2_Object1.t...</td>\n",
       "      <td>Density1</td>\n",
       "      <td>30.520026</td>\n",
       "    </tr>\n",
       "    <tr>\n",
       "      <th>2</th>\n",
       "      <td>Artemina</td>\n",
       "      <td>0.166667</td>\n",
       "      <td>10min</td>\n",
       "      <td>./20240321_140300_322/Plate000_Well2_Object2.t...</td>\n",
       "      <td>Density1</td>\n",
       "      <td>54.462533</td>\n",
       "    </tr>\n",
       "    <tr>\n",
       "      <th>3</th>\n",
       "      <td>Artemina</td>\n",
       "      <td>0.166667</td>\n",
       "      <td>10min</td>\n",
       "      <td>./20240321_140300_322/Plate000_Well2_Object3.t...</td>\n",
       "      <td>Density1</td>\n",
       "      <td>31.864467</td>\n",
       "    </tr>\n",
       "    <tr>\n",
       "      <th>4</th>\n",
       "      <td>Artemina</td>\n",
       "      <td>0.166667</td>\n",
       "      <td>10min</td>\n",
       "      <td>./20240321_140300_322/Plate000_Well2_Object4.t...</td>\n",
       "      <td>Density1</td>\n",
       "      <td>51.755009</td>\n",
       "    </tr>\n",
       "    <tr>\n",
       "      <th>...</th>\n",
       "      <td>...</td>\n",
       "      <td>...</td>\n",
       "      <td>...</td>\n",
       "      <td>...</td>\n",
       "      <td>...</td>\n",
       "      <td>...</td>\n",
       "    </tr>\n",
       "    <tr>\n",
       "      <th>555</th>\n",
       "      <td>Peptone</td>\n",
       "      <td>168.000000</td>\n",
       "      <td>7d</td>\n",
       "      <td>./20240321_140300_322/Plate008_Well2_Object5.t...</td>\n",
       "      <td>Density2</td>\n",
       "      <td>71.880062</td>\n",
       "    </tr>\n",
       "    <tr>\n",
       "      <th>556</th>\n",
       "      <td>Peptone</td>\n",
       "      <td>168.000000</td>\n",
       "      <td>7d</td>\n",
       "      <td>./20240321_140300_322/Plate008_Well2_Object6.t...</td>\n",
       "      <td>Density2</td>\n",
       "      <td>100.991933</td>\n",
       "    </tr>\n",
       "    <tr>\n",
       "      <th>557</th>\n",
       "      <td>Peptone</td>\n",
       "      <td>168.000000</td>\n",
       "      <td>7d</td>\n",
       "      <td>./20240321_140300_322/Plate008_Well2_Object7.t...</td>\n",
       "      <td>Density2</td>\n",
       "      <td>76.008379</td>\n",
       "    </tr>\n",
       "    <tr>\n",
       "      <th>558</th>\n",
       "      <td>Peptone</td>\n",
       "      <td>168.000000</td>\n",
       "      <td>7d</td>\n",
       "      <td>./20240321_140300_322/Plate008_Well2_Object8.t...</td>\n",
       "      <td>Density2</td>\n",
       "      <td>67.179145</td>\n",
       "    </tr>\n",
       "    <tr>\n",
       "      <th>559</th>\n",
       "      <td>Peptone</td>\n",
       "      <td>168.000000</td>\n",
       "      <td>7d</td>\n",
       "      <td>./20240321_140300_322/Plate008_Well2_Object9.t...</td>\n",
       "      <td>Density2</td>\n",
       "      <td>84.327710</td>\n",
       "    </tr>\n",
       "  </tbody>\n",
       "</table>\n",
       "<p>560 rows × 6 columns</p>\n",
       "</div>"
      ],
      "text/plain": [
       "         Food    Time (h)   Time  \\\n",
       "0    Artemina    0.166667  10min   \n",
       "1    Artemina    0.166667  10min   \n",
       "2    Artemina    0.166667  10min   \n",
       "3    Artemina    0.166667  10min   \n",
       "4    Artemina    0.166667  10min   \n",
       "..        ...         ...    ...   \n",
       "555   Peptone  168.000000     7d   \n",
       "556   Peptone  168.000000     7d   \n",
       "557   Peptone  168.000000     7d   \n",
       "558   Peptone  168.000000     7d   \n",
       "559   Peptone  168.000000     7d   \n",
       "\n",
       "                                                  File   Density       Value  \n",
       "0    ./20240321_140300_322/Plate000_Well2_Object0.t...  Density1   51.179857  \n",
       "1    ./20240321_140300_322/Plate000_Well2_Object1.t...  Density1   30.520026  \n",
       "2    ./20240321_140300_322/Plate000_Well2_Object2.t...  Density1   54.462533  \n",
       "3    ./20240321_140300_322/Plate000_Well2_Object3.t...  Density1   31.864467  \n",
       "4    ./20240321_140300_322/Plate000_Well2_Object4.t...  Density1   51.755009  \n",
       "..                                                 ...       ...         ...  \n",
       "555  ./20240321_140300_322/Plate008_Well2_Object5.t...  Density2   71.880062  \n",
       "556  ./20240321_140300_322/Plate008_Well2_Object6.t...  Density2  100.991933  \n",
       "557  ./20240321_140300_322/Plate008_Well2_Object7.t...  Density2   76.008379  \n",
       "558  ./20240321_140300_322/Plate008_Well2_Object8.t...  Density2   67.179145  \n",
       "559  ./20240321_140300_322/Plate008_Well2_Object9.t...  Density2   84.327710  \n",
       "\n",
       "[560 rows x 6 columns]"
      ]
     },
     "execution_count": 74,
     "metadata": {},
     "output_type": "execute_result"
    }
   ],
   "source": [
    "melted_df"
   ]
  },
  {
   "cell_type": "markdown",
   "metadata": {},
   "source": [
    "Now we can plot them side by side:  Density1 and Density2"
   ]
  },
  {
   "cell_type": "code",
   "execution_count": null,
   "metadata": {},
   "outputs": [
    {
     "data": {
      "application/vnd.plotly.v1+json": {
       "config": {
        "plotlyServerURL": "https://plot.ly"
       },
       "data": [
        {
         "alignmentgroup": "True",
         "boxpoints": "all",
         "hovertemplate": "Density=Density1<br>Time=%{x}<br>Value=%{y}<extra></extra>",
         "legendgroup": "Density1",
         "marker": {
          "color": "#636efa"
         },
         "name": "Density1",
         "notched": false,
         "offsetgroup": "Density1",
         "orientation": "v",
         "showlegend": true,
         "type": "box",
         "x": [
          "10min",
          "10min",
          "10min",
          "10min",
          "10min",
          "10min",
          "10min",
          "10min",
          "2h",
          "2h",
          "2h",
          "2h",
          "2h",
          "2h",
          "2h",
          "2h",
          "4h",
          "4h",
          "4h",
          "4h",
          "4h",
          "4h",
          "4h",
          "4h",
          "6h",
          "6h",
          "6h",
          "6h",
          "6h",
          "6h",
          "6h",
          "6h",
          "1d",
          "1d",
          "1d",
          "1d",
          "1d",
          "1d",
          "1d",
          "1d",
          "2d",
          "2d",
          "2d",
          "2d",
          "2d",
          "2d",
          "2d",
          "2d",
          "3d",
          "3d",
          "3d",
          "3d",
          "3d",
          "3d",
          "3d",
          "3d",
          "4d",
          "4d",
          "4d",
          "4d",
          "4d",
          "4d",
          "4d",
          "4d",
          "5d",
          "5d",
          "5d",
          "5d",
          "5d",
          "5d",
          "5d",
          "5d",
          "5d",
          "6d",
          "6d",
          "6d",
          "6d",
          "6d",
          "6d",
          "6d",
          "6d",
          "6d",
          "6d",
          "7d",
          "7d",
          "7d",
          "7d",
          "7d",
          "7d",
          "7d",
          "7d",
          "7d",
          "7d",
          "7d",
          "10min",
          "10min",
          "10min",
          "10min",
          "10min",
          "10min",
          "10min",
          "10min",
          "2h",
          "2h",
          "2h",
          "2h",
          "2h",
          "2h",
          "2h",
          "2h",
          "4h",
          "4h",
          "4h",
          "4h",
          "4h",
          "4h",
          "4h",
          "4h",
          "6h",
          "6h",
          "6h",
          "6h",
          "6h",
          "6h",
          "6h",
          "6h",
          "6h",
          "1d",
          "1d",
          "1d",
          "1d",
          "1d",
          "1d",
          "1d",
          "1d",
          "2d",
          "2d",
          "2d",
          "2d",
          "2d",
          "2d",
          "2d",
          "2d",
          "3d",
          "3d",
          "3d",
          "3d",
          "3d",
          "3d",
          "3d",
          "3d",
          "4d",
          "4d",
          "4d",
          "4d",
          "4d",
          "4d",
          "4d",
          "4d",
          "5d",
          "5d",
          "5d",
          "5d",
          "5d",
          "5d",
          "5d",
          "5d",
          "5d",
          "5d",
          "6d",
          "6d",
          "6d",
          "6d",
          "6d",
          "6d",
          "6d",
          "6d",
          "6d",
          "6d",
          "7d",
          "7d",
          "7d",
          "7d",
          "7d",
          "7d",
          "7d",
          "7d",
          "7d",
          "7d",
          "7d",
          "10min",
          "10min",
          "10min",
          "10min",
          "10min",
          "10min",
          "10min",
          "10min",
          "10min",
          "2h",
          "2h",
          "2h",
          "2h",
          "2h",
          "2h",
          "2h",
          "2h",
          "4h",
          "4h",
          "4h",
          "4h",
          "4h",
          "4h",
          "4h",
          "4h",
          "4h",
          "6h",
          "6h",
          "6h",
          "6h",
          "6h",
          "6h",
          "6h",
          "6h",
          "1d",
          "1d",
          "1d",
          "1d",
          "1d",
          "1d",
          "1d",
          "1d",
          "2d",
          "2d",
          "2d",
          "2d",
          "2d",
          "2d",
          "2d",
          "2d",
          "3d",
          "3d",
          "3d",
          "3d",
          "3d",
          "3d",
          "3d",
          "4d",
          "4d",
          "4d",
          "4d",
          "4d",
          "4d",
          "4d",
          "4d",
          "5d",
          "5d",
          "5d",
          "5d",
          "6d",
          "6d",
          "6d",
          "6d",
          "6d",
          "6d",
          "6d",
          "6d",
          "6d",
          "6d",
          "7d",
          "7d",
          "7d",
          "7d",
          "7d",
          "7d",
          "7d",
          "7d",
          "7d",
          "7d",
          "7d"
         ],
         "x0": " ",
         "xaxis": "x",
         "y": [
          51.1798575,
          30.52002613,
          54.46253274,
          31.86446695,
          51.75500926,
          72.03807581,
          26.41952262,
          33.64033131,
          202.5307152,
          319.895911,
          123.7628552,
          123.8872014,
          247.6577026,
          165.5568093,
          306.7088344,
          139.4271305,
          418.9358411,
          483.5208638,
          488.8811162,
          620.1412779,
          508.5780775,
          619.3486619,
          733.7871711,
          508.8735861,
          311.4535975,
          375.790561,
          438.1066968,
          569.9086206,
          429.8354154,
          361.1104011,
          410.7103222,
          389.6592734,
          296.1011993,
          323.2025834,
          325.0334957,
          350.7553487,
          351.7522898,
          360.2951848,
          370.6998787,
          336.893159,
          370.2044797,
          352.6046841,
          377.2335642,
          368.740533,
          321.0480684,
          276.4853718,
          359.1566301,
          384.8909379,
          312.1727507,
          256.4215579,
          312.3661674,
          277.2738897,
          273.9595889,
          231.2611364,
          188.2786314,
          214.7287978,
          131.7109407,
          117.6028448,
          107.6070585,
          143.2197908,
          149.2766987,
          141.0788512,
          139.8458818,
          158.1143689,
          97.95624163,
          192.8057156,
          113.8876872,
          62.56682861,
          128.7995179,
          109.5878375,
          107.7208225,
          114.8097032,
          110.0794265,
          122.1155077,
          88.13410459,
          64.10619679,
          82.00567446,
          129.0270388,
          100.2631808,
          109.0382838,
          61.38866824,
          86.8654827,
          74.44586069,
          70.83519897,
          122.4136942,
          99.59562634,
          87.8345579,
          90.05386734,
          61.26976746,
          70.77352257,
          94.92375766,
          117.9073903,
          103.3198956,
          111.7034073,
          28.82142605,
          66.93287584,
          45.30223852,
          51.29200869,
          26.50037298,
          27.99912481,
          90.89941889,
          20.020762,
          111.4812414,
          180.888208,
          307.1422883,
          118.7620024,
          274.4445631,
          211.6257602,
          282.314141,
          249.9755276,
          406.0584085,
          409.1493902,
          353.8296025,
          389.8583492,
          456.7583722,
          594.5299585,
          385.2003066,
          439.8028042,
          250.8664758,
          188.9829639,
          306.6320379,
          298.4910458,
          335.0780694,
          342.9483448,
          298.0823583,
          337.8097956,
          396.9318896,
          201.3774739,
          206.6632886,
          349.7774729,
          335.4937116,
          313.5358913,
          326.6909431,
          306.7785155,
          331.6193498,
          202.754688,
          332.144105,
          337.4756128,
          357.7505094,
          330.0199458,
          355.3698372,
          407.4632382,
          399.185673,
          288.4445843,
          273.1145259,
          328.0193832,
          258.9012171,
          364.1755214,
          338.2276419,
          383.8027112,
          408.9830918,
          133.7668525,
          205.5466237,
          175.0656917,
          262.4101302,
          245.5040512,
          360.509422,
          343.1474336,
          237.6191171,
          82.91008623,
          155.1887329,
          89.93094885,
          90.79188832,
          158.930061,
          92.11863643,
          111.8081839,
          91.46015834,
          236.3263781,
          198.5235934,
          100.9590494,
          93.48181408,
          136.883902,
          108.5675856,
          81.29309045,
          76.98517335,
          108.9474749,
          82.0012894,
          83.64917565,
          99.93631098,
          94.2585463,
          79.88815747,
          83.08306833,
          81.90447479,
          98.40002729,
          101.7305993,
          88.86618612,
          98.61084449,
          141.8357611,
          109.1656971,
          119.0533298,
          174.3152737,
          140.9318636,
          184.85648,
          129.8422828,
          132.6008561,
          173.6281433,
          96.54798666,
          109.0882136,
          137.1176014,
          414.067693,
          466.2717219,
          470.1465163,
          474.556335,
          507.2705841,
          504.4782766,
          556.0364993,
          469.415682,
          295.305228,
          327.9824234,
          343.1592977,
          328.492825,
          331.243523,
          378.4692525,
          343.5125786,
          346.4869511,
          366.6471372,
          224.3418221,
          253.1921662,
          204.4905945,
          246.7066792,
          207.8219524,
          232.9355191,
          228.2751964,
          229.4585298,
          75.76889328,
          96.05418746,
          140.0293588,
          108.2197468,
          76.80708068,
          175.3356631,
          115.352057,
          83.76135216,
          109.5014086,
          108.1032769,
          98.92624529,
          101.4805672,
          151.0516621,
          89.82952309,
          104.5598364,
          114.2210127,
          89.33370734,
          104.3723835,
          92.99508106,
          100.2246145,
          126.7859668,
          62.03900289,
          93.45127393,
          99.85484682,
          77.12753322,
          61.5284162,
          76.75860892,
          79.41428532,
          70.99222377,
          122.3614525,
          113.1896049,
          73.8406515,
          65.24043006,
          97.52664539,
          59.55079471,
          57.59820087,
          61.4439536,
          64.07372646,
          62.59680514,
          69.61794599,
          57.77005282,
          79.20594169,
          71.44285205,
          80.38036584,
          82.68252444,
          83.99607527,
          121.0525884,
          74.84282062,
          106.2825012,
          94.4470453,
          89.92704257,
          68.70888321,
          97.82178296,
          72.09618314,
          62.73754883,
          79.39946724
         ],
         "y0": " ",
         "yaxis": "y"
        },
        {
         "alignmentgroup": "True",
         "boxpoints": "all",
         "hovertemplate": "Density=Density2<br>Time=%{x}<br>Value=%{y}<extra></extra>",
         "legendgroup": "Density2",
         "marker": {
          "color": "#EF553B"
         },
         "name": "Density2",
         "notched": false,
         "offsetgroup": "Density2",
         "orientation": "v",
         "showlegend": true,
         "type": "box",
         "x": [
          "10min",
          "10min",
          "10min",
          "10min",
          "10min",
          "10min",
          "10min",
          "10min",
          "2h",
          "2h",
          "2h",
          "2h",
          "2h",
          "2h",
          "2h",
          "2h",
          "4h",
          "4h",
          "4h",
          "4h",
          "4h",
          "4h",
          "4h",
          "4h",
          "6h",
          "6h",
          "6h",
          "6h",
          "6h",
          "6h",
          "6h",
          "6h",
          "1d",
          "1d",
          "1d",
          "1d",
          "1d",
          "1d",
          "1d",
          "1d",
          "2d",
          "2d",
          "2d",
          "2d",
          "2d",
          "2d",
          "2d",
          "2d",
          "3d",
          "3d",
          "3d",
          "3d",
          "3d",
          "3d",
          "3d",
          "3d",
          "4d",
          "4d",
          "4d",
          "4d",
          "4d",
          "4d",
          "4d",
          "4d",
          "5d",
          "5d",
          "5d",
          "5d",
          "5d",
          "5d",
          "5d",
          "5d",
          "5d",
          "6d",
          "6d",
          "6d",
          "6d",
          "6d",
          "6d",
          "6d",
          "6d",
          "6d",
          "6d",
          "7d",
          "7d",
          "7d",
          "7d",
          "7d",
          "7d",
          "7d",
          "7d",
          "7d",
          "7d",
          "7d",
          "10min",
          "10min",
          "10min",
          "10min",
          "10min",
          "10min",
          "10min",
          "10min",
          "2h",
          "2h",
          "2h",
          "2h",
          "2h",
          "2h",
          "2h",
          "2h",
          "4h",
          "4h",
          "4h",
          "4h",
          "4h",
          "4h",
          "4h",
          "4h",
          "6h",
          "6h",
          "6h",
          "6h",
          "6h",
          "6h",
          "6h",
          "6h",
          "6h",
          "1d",
          "1d",
          "1d",
          "1d",
          "1d",
          "1d",
          "1d",
          "1d",
          "2d",
          "2d",
          "2d",
          "2d",
          "2d",
          "2d",
          "2d",
          "2d",
          "3d",
          "3d",
          "3d",
          "3d",
          "3d",
          "3d",
          "3d",
          "3d",
          "4d",
          "4d",
          "4d",
          "4d",
          "4d",
          "4d",
          "4d",
          "4d",
          "5d",
          "5d",
          "5d",
          "5d",
          "5d",
          "5d",
          "5d",
          "5d",
          "5d",
          "5d",
          "6d",
          "6d",
          "6d",
          "6d",
          "6d",
          "6d",
          "6d",
          "6d",
          "6d",
          "6d",
          "7d",
          "7d",
          "7d",
          "7d",
          "7d",
          "7d",
          "7d",
          "7d",
          "7d",
          "7d",
          "7d",
          "10min",
          "10min",
          "10min",
          "10min",
          "10min",
          "10min",
          "10min",
          "10min",
          "10min",
          "2h",
          "2h",
          "2h",
          "2h",
          "2h",
          "2h",
          "2h",
          "2h",
          "4h",
          "4h",
          "4h",
          "4h",
          "4h",
          "4h",
          "4h",
          "4h",
          "4h",
          "6h",
          "6h",
          "6h",
          "6h",
          "6h",
          "6h",
          "6h",
          "6h",
          "1d",
          "1d",
          "1d",
          "1d",
          "1d",
          "1d",
          "1d",
          "1d",
          "2d",
          "2d",
          "2d",
          "2d",
          "2d",
          "2d",
          "2d",
          "2d",
          "3d",
          "3d",
          "3d",
          "3d",
          "3d",
          "3d",
          "3d",
          "4d",
          "4d",
          "4d",
          "4d",
          "4d",
          "4d",
          "4d",
          "4d",
          "5d",
          "5d",
          "5d",
          "5d",
          "6d",
          "6d",
          "6d",
          "6d",
          "6d",
          "6d",
          "6d",
          "6d",
          "6d",
          "6d",
          "7d",
          "7d",
          "7d",
          "7d",
          "7d",
          "7d",
          "7d",
          "7d",
          "7d",
          "7d",
          "7d"
         ],
         "x0": " ",
         "xaxis": "x",
         "y": [
          54.17283162,
          32.84782473,
          57.62895906,
          33.29657782,
          53.46121836,
          76.38208039,
          27.81002381,
          36.41479162,
          209.951688,
          330.4209011,
          127.8981296,
          127.9270014,
          258.1300855,
          169.3005562,
          313.1134272,
          141.7969968,
          454.0647388,
          522.7586592,
          519.2425543,
          661.6211533,
          539.643615,
          662.9209296,
          793.4369669,
          542.6780687,
          339.7946815,
          406.1548535,
          470.2503946,
          608.4362447,
          460.4795752,
          391.0715261,
          445.2035719,
          425.2234134,
          313.2711814,
          344.7702606,
          345.0718254,
          369.7885847,
          369.0818051,
          381.8386082,
          398.4721823,
          360.7674773,
          391.6409524,
          378.1446991,
          406.0688637,
          400.4504068,
          341.841337,
          291.0047153,
          382.6242509,
          418.2481526,
          324.5397384,
          265.0871097,
          323.091186,
          288.3157703,
          284.0131518,
          241.6333136,
          192.9431921,
          222.1460274,
          137.419774,
          122.8207185,
          114.7468633,
          147.1222374,
          152.6366244,
          148.2584365,
          145.2767898,
          163.776867,
          101.7562682,
          197.2177458,
          119.231391,
          65.67960615,
          133.0928352,
          113.7866052,
          110.6453698,
          118.6905946,
          115.6913189,
          125.2040322,
          91.86860055,
          65.20202921,
          86.30291505,
          134.5965513,
          105.5751374,
          112.8866938,
          64.77229562,
          90.57064547,
          79.55489035,
          74.34505117,
          126.7524074,
          102.9635944,
          91.80298673,
          94.67201438,
          64.03381712,
          75.8651429,
          98.08788291,
          126.0887194,
          108.0521046,
          118.0347745,
          32.05373551,
          73.5164374,
          49.89811779,
          54.97766201,
          30.47542893,
          30.33238521,
          96.41727499,
          22.76870973,
          118.7243729,
          192.2367078,
          325.6245923,
          122.5563156,
          286.6965526,
          219.3943007,
          294.2042614,
          273.253672,
          444.4931278,
          440.8267905,
          391.868079,
          425.1077478,
          495.8912005,
          637.6497137,
          418.8059618,
          476.2070632,
          282.3961421,
          211.4632904,
          333.8019654,
          334.8569139,
          368.8328626,
          380.41329,
          323.9751055,
          372.4395435,
          426.2859323,
          223.1066542,
          231.3508982,
          364.0806409,
          362.5282115,
          346.9850931,
          357.9570702,
          329.7869041,
          362.1632373,
          237.9391124,
          368.0026289,
          378.7519843,
          390.1452406,
          368.5681636,
          387.2119359,
          444.4713672,
          434.6185845,
          297.897088,
          281.5069828,
          344.2332691,
          267.0052091,
          380.7473264,
          351.210117,
          404.747697,
          424.0698779,
          140.1725891,
          216.4799548,
          183.4401325,
          278.0641097,
          257.2377007,
          395.3974306,
          354.819115,
          248.8139387,
          85.08477702,
          163.0796854,
          94.64642932,
          92.30508646,
          163.9881367,
          95.73113197,
          117.3175726,
          94.58318814,
          246.8039023,
          209.184512,
          105.1161867,
          100.8888431,
          143.3651474,
          112.9541547,
          84.89883237,
          81.81561559,
          114.2696216,
          88.2450424,
          89.17969966,
          104.659669,
          101.7910867,
          84.84246181,
          86.2541778,
          84.71262821,
          103.2271984,
          109.5822899,
          94.15584005,
          105.63717,
          147.7129336,
          114.9569807,
          125.5767999,
          180.3960391,
          145.3590425,
          193.0520875,
          139.6736828,
          139.7044733,
          176.7425494,
          102.0967215,
          110.6466166,
          140.6135176,
          430.8461234,
          489.3618551,
          485.3606485,
          491.7322251,
          527.1961062,
          527.0563253,
          575.9186149,
          488.583489,
          308.7143405,
          347.1567805,
          360.9151642,
          344.2234673,
          343.122601,
          391.3423563,
          353.8755278,
          357.1746083,
          383.2731411,
          235.8197758,
          265.8729091,
          210.4274182,
          257.8108938,
          212.9133588,
          246.8589669,
          239.6133684,
          238.3943279,
          79.02458791,
          100.0151849,
          149.9464522,
          116.1033045,
          83.13733458,
          182.6076491,
          121.3967063,
          85.48839035,
          117.4318727,
          118.6785974,
          106.7069612,
          107.7949136,
          160.721636,
          97.76794606,
          112.9391961,
          120.1000354,
          92.16969805,
          110.4171162,
          95.74177122,
          102.6606294,
          131.6623501,
          65.55064456,
          97.93417637,
          103.9533667,
          80.01080549,
          65.18356964,
          80.04239968,
          85.74793998,
          75.21795138,
          127.2737736,
          119.0370384,
          77.77881958,
          66.1928451,
          99.79470691,
          61.14947377,
          61.14270554,
          63.92153238,
          68.54398644,
          65.13451346,
          73.14929107,
          59.833269,
          83.76455703,
          75.27870988,
          82.31724213,
          86.27741681,
          88.05385669,
          128.4338438,
          78.61188353,
          111.5589375,
          100.8866166,
          97.34820628,
          71.88006244,
          100.9919333,
          76.00837912,
          67.17914521,
          84.32771003
         ],
         "y0": " ",
         "yaxis": "y"
        }
       ],
       "layout": {
        "boxmode": "group",
        "legend": {
         "title": {
          "text": "Density"
         },
         "tracegroupgap": 0
        },
        "margin": {
         "t": 60
        },
        "template": {
         "data": {
          "bar": [
           {
            "error_x": {
             "color": "#2a3f5f"
            },
            "error_y": {
             "color": "#2a3f5f"
            },
            "marker": {
             "line": {
              "color": "#E5ECF6",
              "width": 0.5
             },
             "pattern": {
              "fillmode": "overlay",
              "size": 10,
              "solidity": 0.2
             }
            },
            "type": "bar"
           }
          ],
          "barpolar": [
           {
            "marker": {
             "line": {
              "color": "#E5ECF6",
              "width": 0.5
             },
             "pattern": {
              "fillmode": "overlay",
              "size": 10,
              "solidity": 0.2
             }
            },
            "type": "barpolar"
           }
          ],
          "carpet": [
           {
            "aaxis": {
             "endlinecolor": "#2a3f5f",
             "gridcolor": "white",
             "linecolor": "white",
             "minorgridcolor": "white",
             "startlinecolor": "#2a3f5f"
            },
            "baxis": {
             "endlinecolor": "#2a3f5f",
             "gridcolor": "white",
             "linecolor": "white",
             "minorgridcolor": "white",
             "startlinecolor": "#2a3f5f"
            },
            "type": "carpet"
           }
          ],
          "choropleth": [
           {
            "colorbar": {
             "outlinewidth": 0,
             "ticks": ""
            },
            "type": "choropleth"
           }
          ],
          "contour": [
           {
            "colorbar": {
             "outlinewidth": 0,
             "ticks": ""
            },
            "colorscale": [
             [
              0,
              "#0d0887"
             ],
             [
              0.1111111111111111,
              "#46039f"
             ],
             [
              0.2222222222222222,
              "#7201a8"
             ],
             [
              0.3333333333333333,
              "#9c179e"
             ],
             [
              0.4444444444444444,
              "#bd3786"
             ],
             [
              0.5555555555555556,
              "#d8576b"
             ],
             [
              0.6666666666666666,
              "#ed7953"
             ],
             [
              0.7777777777777778,
              "#fb9f3a"
             ],
             [
              0.8888888888888888,
              "#fdca26"
             ],
             [
              1,
              "#f0f921"
             ]
            ],
            "type": "contour"
           }
          ],
          "contourcarpet": [
           {
            "colorbar": {
             "outlinewidth": 0,
             "ticks": ""
            },
            "type": "contourcarpet"
           }
          ],
          "heatmap": [
           {
            "colorbar": {
             "outlinewidth": 0,
             "ticks": ""
            },
            "colorscale": [
             [
              0,
              "#0d0887"
             ],
             [
              0.1111111111111111,
              "#46039f"
             ],
             [
              0.2222222222222222,
              "#7201a8"
             ],
             [
              0.3333333333333333,
              "#9c179e"
             ],
             [
              0.4444444444444444,
              "#bd3786"
             ],
             [
              0.5555555555555556,
              "#d8576b"
             ],
             [
              0.6666666666666666,
              "#ed7953"
             ],
             [
              0.7777777777777778,
              "#fb9f3a"
             ],
             [
              0.8888888888888888,
              "#fdca26"
             ],
             [
              1,
              "#f0f921"
             ]
            ],
            "type": "heatmap"
           }
          ],
          "heatmapgl": [
           {
            "colorbar": {
             "outlinewidth": 0,
             "ticks": ""
            },
            "colorscale": [
             [
              0,
              "#0d0887"
             ],
             [
              0.1111111111111111,
              "#46039f"
             ],
             [
              0.2222222222222222,
              "#7201a8"
             ],
             [
              0.3333333333333333,
              "#9c179e"
             ],
             [
              0.4444444444444444,
              "#bd3786"
             ],
             [
              0.5555555555555556,
              "#d8576b"
             ],
             [
              0.6666666666666666,
              "#ed7953"
             ],
             [
              0.7777777777777778,
              "#fb9f3a"
             ],
             [
              0.8888888888888888,
              "#fdca26"
             ],
             [
              1,
              "#f0f921"
             ]
            ],
            "type": "heatmapgl"
           }
          ],
          "histogram": [
           {
            "marker": {
             "pattern": {
              "fillmode": "overlay",
              "size": 10,
              "solidity": 0.2
             }
            },
            "type": "histogram"
           }
          ],
          "histogram2d": [
           {
            "colorbar": {
             "outlinewidth": 0,
             "ticks": ""
            },
            "colorscale": [
             [
              0,
              "#0d0887"
             ],
             [
              0.1111111111111111,
              "#46039f"
             ],
             [
              0.2222222222222222,
              "#7201a8"
             ],
             [
              0.3333333333333333,
              "#9c179e"
             ],
             [
              0.4444444444444444,
              "#bd3786"
             ],
             [
              0.5555555555555556,
              "#d8576b"
             ],
             [
              0.6666666666666666,
              "#ed7953"
             ],
             [
              0.7777777777777778,
              "#fb9f3a"
             ],
             [
              0.8888888888888888,
              "#fdca26"
             ],
             [
              1,
              "#f0f921"
             ]
            ],
            "type": "histogram2d"
           }
          ],
          "histogram2dcontour": [
           {
            "colorbar": {
             "outlinewidth": 0,
             "ticks": ""
            },
            "colorscale": [
             [
              0,
              "#0d0887"
             ],
             [
              0.1111111111111111,
              "#46039f"
             ],
             [
              0.2222222222222222,
              "#7201a8"
             ],
             [
              0.3333333333333333,
              "#9c179e"
             ],
             [
              0.4444444444444444,
              "#bd3786"
             ],
             [
              0.5555555555555556,
              "#d8576b"
             ],
             [
              0.6666666666666666,
              "#ed7953"
             ],
             [
              0.7777777777777778,
              "#fb9f3a"
             ],
             [
              0.8888888888888888,
              "#fdca26"
             ],
             [
              1,
              "#f0f921"
             ]
            ],
            "type": "histogram2dcontour"
           }
          ],
          "mesh3d": [
           {
            "colorbar": {
             "outlinewidth": 0,
             "ticks": ""
            },
            "type": "mesh3d"
           }
          ],
          "parcoords": [
           {
            "line": {
             "colorbar": {
              "outlinewidth": 0,
              "ticks": ""
             }
            },
            "type": "parcoords"
           }
          ],
          "pie": [
           {
            "automargin": true,
            "type": "pie"
           }
          ],
          "scatter": [
           {
            "fillpattern": {
             "fillmode": "overlay",
             "size": 10,
             "solidity": 0.2
            },
            "type": "scatter"
           }
          ],
          "scatter3d": [
           {
            "line": {
             "colorbar": {
              "outlinewidth": 0,
              "ticks": ""
             }
            },
            "marker": {
             "colorbar": {
              "outlinewidth": 0,
              "ticks": ""
             }
            },
            "type": "scatter3d"
           }
          ],
          "scattercarpet": [
           {
            "marker": {
             "colorbar": {
              "outlinewidth": 0,
              "ticks": ""
             }
            },
            "type": "scattercarpet"
           }
          ],
          "scattergeo": [
           {
            "marker": {
             "colorbar": {
              "outlinewidth": 0,
              "ticks": ""
             }
            },
            "type": "scattergeo"
           }
          ],
          "scattergl": [
           {
            "marker": {
             "colorbar": {
              "outlinewidth": 0,
              "ticks": ""
             }
            },
            "type": "scattergl"
           }
          ],
          "scattermapbox": [
           {
            "marker": {
             "colorbar": {
              "outlinewidth": 0,
              "ticks": ""
             }
            },
            "type": "scattermapbox"
           }
          ],
          "scatterpolar": [
           {
            "marker": {
             "colorbar": {
              "outlinewidth": 0,
              "ticks": ""
             }
            },
            "type": "scatterpolar"
           }
          ],
          "scatterpolargl": [
           {
            "marker": {
             "colorbar": {
              "outlinewidth": 0,
              "ticks": ""
             }
            },
            "type": "scatterpolargl"
           }
          ],
          "scatterternary": [
           {
            "marker": {
             "colorbar": {
              "outlinewidth": 0,
              "ticks": ""
             }
            },
            "type": "scatterternary"
           }
          ],
          "surface": [
           {
            "colorbar": {
             "outlinewidth": 0,
             "ticks": ""
            },
            "colorscale": [
             [
              0,
              "#0d0887"
             ],
             [
              0.1111111111111111,
              "#46039f"
             ],
             [
              0.2222222222222222,
              "#7201a8"
             ],
             [
              0.3333333333333333,
              "#9c179e"
             ],
             [
              0.4444444444444444,
              "#bd3786"
             ],
             [
              0.5555555555555556,
              "#d8576b"
             ],
             [
              0.6666666666666666,
              "#ed7953"
             ],
             [
              0.7777777777777778,
              "#fb9f3a"
             ],
             [
              0.8888888888888888,
              "#fdca26"
             ],
             [
              1,
              "#f0f921"
             ]
            ],
            "type": "surface"
           }
          ],
          "table": [
           {
            "cells": {
             "fill": {
              "color": "#EBF0F8"
             },
             "line": {
              "color": "white"
             }
            },
            "header": {
             "fill": {
              "color": "#C8D4E3"
             },
             "line": {
              "color": "white"
             }
            },
            "type": "table"
           }
          ]
         },
         "layout": {
          "annotationdefaults": {
           "arrowcolor": "#2a3f5f",
           "arrowhead": 0,
           "arrowwidth": 1
          },
          "autotypenumbers": "strict",
          "coloraxis": {
           "colorbar": {
            "outlinewidth": 0,
            "ticks": ""
           }
          },
          "colorscale": {
           "diverging": [
            [
             0,
             "#8e0152"
            ],
            [
             0.1,
             "#c51b7d"
            ],
            [
             0.2,
             "#de77ae"
            ],
            [
             0.3,
             "#f1b6da"
            ],
            [
             0.4,
             "#fde0ef"
            ],
            [
             0.5,
             "#f7f7f7"
            ],
            [
             0.6,
             "#e6f5d0"
            ],
            [
             0.7,
             "#b8e186"
            ],
            [
             0.8,
             "#7fbc41"
            ],
            [
             0.9,
             "#4d9221"
            ],
            [
             1,
             "#276419"
            ]
           ],
           "sequential": [
            [
             0,
             "#0d0887"
            ],
            [
             0.1111111111111111,
             "#46039f"
            ],
            [
             0.2222222222222222,
             "#7201a8"
            ],
            [
             0.3333333333333333,
             "#9c179e"
            ],
            [
             0.4444444444444444,
             "#bd3786"
            ],
            [
             0.5555555555555556,
             "#d8576b"
            ],
            [
             0.6666666666666666,
             "#ed7953"
            ],
            [
             0.7777777777777778,
             "#fb9f3a"
            ],
            [
             0.8888888888888888,
             "#fdca26"
            ],
            [
             1,
             "#f0f921"
            ]
           ],
           "sequentialminus": [
            [
             0,
             "#0d0887"
            ],
            [
             0.1111111111111111,
             "#46039f"
            ],
            [
             0.2222222222222222,
             "#7201a8"
            ],
            [
             0.3333333333333333,
             "#9c179e"
            ],
            [
             0.4444444444444444,
             "#bd3786"
            ],
            [
             0.5555555555555556,
             "#d8576b"
            ],
            [
             0.6666666666666666,
             "#ed7953"
            ],
            [
             0.7777777777777778,
             "#fb9f3a"
            ],
            [
             0.8888888888888888,
             "#fdca26"
            ],
            [
             1,
             "#f0f921"
            ]
           ]
          },
          "colorway": [
           "#636efa",
           "#EF553B",
           "#00cc96",
           "#ab63fa",
           "#FFA15A",
           "#19d3f3",
           "#FF6692",
           "#B6E880",
           "#FF97FF",
           "#FECB52"
          ],
          "font": {
           "color": "#2a3f5f"
          },
          "geo": {
           "bgcolor": "white",
           "lakecolor": "white",
           "landcolor": "#E5ECF6",
           "showlakes": true,
           "showland": true,
           "subunitcolor": "white"
          },
          "hoverlabel": {
           "align": "left"
          },
          "hovermode": "closest",
          "mapbox": {
           "style": "light"
          },
          "paper_bgcolor": "white",
          "plot_bgcolor": "#E5ECF6",
          "polar": {
           "angularaxis": {
            "gridcolor": "white",
            "linecolor": "white",
            "ticks": ""
           },
           "bgcolor": "#E5ECF6",
           "radialaxis": {
            "gridcolor": "white",
            "linecolor": "white",
            "ticks": ""
           }
          },
          "scene": {
           "xaxis": {
            "backgroundcolor": "#E5ECF6",
            "gridcolor": "white",
            "gridwidth": 2,
            "linecolor": "white",
            "showbackground": true,
            "ticks": "",
            "zerolinecolor": "white"
           },
           "yaxis": {
            "backgroundcolor": "#E5ECF6",
            "gridcolor": "white",
            "gridwidth": 2,
            "linecolor": "white",
            "showbackground": true,
            "ticks": "",
            "zerolinecolor": "white"
           },
           "zaxis": {
            "backgroundcolor": "#E5ECF6",
            "gridcolor": "white",
            "gridwidth": 2,
            "linecolor": "white",
            "showbackground": true,
            "ticks": "",
            "zerolinecolor": "white"
           }
          },
          "shapedefaults": {
           "line": {
            "color": "#2a3f5f"
           }
          },
          "ternary": {
           "aaxis": {
            "gridcolor": "white",
            "linecolor": "white",
            "ticks": ""
           },
           "baxis": {
            "gridcolor": "white",
            "linecolor": "white",
            "ticks": ""
           },
           "bgcolor": "#E5ECF6",
           "caxis": {
            "gridcolor": "white",
            "linecolor": "white",
            "ticks": ""
           }
          },
          "title": {
           "x": 0.05
          },
          "xaxis": {
           "automargin": true,
           "gridcolor": "white",
           "linecolor": "white",
           "ticks": "",
           "title": {
            "standoff": 15
           },
           "zerolinecolor": "white",
           "zerolinewidth": 2
          },
          "yaxis": {
           "automargin": true,
           "gridcolor": "white",
           "linecolor": "white",
           "ticks": "",
           "title": {
            "standoff": 15
           },
           "zerolinecolor": "white",
           "zerolinewidth": 2
          }
         }
        },
        "xaxis": {
         "anchor": "y",
         "domain": [
          0,
          1
         ],
         "title": {
          "text": "Time"
         }
        },
        "yaxis": {
         "anchor": "x",
         "domain": [
          0,
          1
         ],
         "title": {
          "text": "Value"
         }
        }
       }
      }
     },
     "metadata": {},
     "output_type": "display_data"
    }
   ],
   "source": [
    "px.box(melted_df, x='Time', y='Value', points='all', color='Density')"
   ]
  },
  {
   "cell_type": "markdown",
   "metadata": {},
   "source": [
    "We are more interested in seeing it if impacts our conclusion about the Food/Time relationship.  So we choose a multi-dimensional argument (facet_col, color, animation_frame, etc.) to let us look at the two values side by side.\n",
    "\n",
    "animation_frame is nice for this task as we want to be able to flip between the two thresholds to see if it changes our conclusions in any way."
   ]
  },
  {
   "cell_type": "code",
   "execution_count": null,
   "metadata": {},
   "outputs": [
    {
     "data": {
      "application/vnd.plotly.v1+json": {
       "config": {
        "plotlyServerURL": "https://plot.ly"
       },
       "data": [
        {
         "alignmentgroup": "True",
         "boxpoints": "all",
         "hovertemplate": "Food=Liver<br>Density=Density1<br>Time=%{x}<br>Value=%{y}<extra></extra>",
         "legendgroup": "Liver",
         "marker": {
          "color": "magenta"
         },
         "name": "Liver",
         "notched": false,
         "offsetgroup": "Liver",
         "orientation": "v",
         "showlegend": true,
         "type": "box",
         "x": [
          "10min",
          "10min",
          "10min",
          "10min",
          "10min",
          "10min",
          "10min",
          "10min",
          "2h",
          "2h",
          "2h",
          "2h",
          "2h",
          "2h",
          "2h",
          "2h",
          "4h",
          "4h",
          "4h",
          "4h",
          "4h",
          "4h",
          "4h",
          "4h",
          "6h",
          "6h",
          "6h",
          "6h",
          "6h",
          "6h",
          "6h",
          "6h",
          "6h",
          "1d",
          "1d",
          "1d",
          "1d",
          "1d",
          "1d",
          "1d",
          "1d",
          "2d",
          "2d",
          "2d",
          "2d",
          "2d",
          "2d",
          "2d",
          "2d",
          "3d",
          "3d",
          "3d",
          "3d",
          "3d",
          "3d",
          "3d",
          "3d",
          "4d",
          "4d",
          "4d",
          "4d",
          "4d",
          "4d",
          "4d",
          "4d",
          "5d",
          "5d",
          "5d",
          "5d",
          "5d",
          "5d",
          "5d",
          "5d",
          "5d",
          "5d",
          "6d",
          "6d",
          "6d",
          "6d",
          "6d",
          "6d",
          "6d",
          "6d",
          "6d",
          "6d",
          "7d",
          "7d",
          "7d",
          "7d",
          "7d",
          "7d",
          "7d",
          "7d",
          "7d",
          "7d",
          "7d"
         ],
         "x0": " ",
         "xaxis": "x",
         "y": [
          28.82142605,
          66.93287584,
          45.30223852,
          51.29200869,
          26.50037298,
          27.99912481,
          90.89941889,
          20.020762,
          111.4812414,
          180.888208,
          307.1422883,
          118.7620024,
          274.4445631,
          211.6257602,
          282.314141,
          249.9755276,
          406.0584085,
          409.1493902,
          353.8296025,
          389.8583492,
          456.7583722,
          594.5299585,
          385.2003066,
          439.8028042,
          250.8664758,
          188.9829639,
          306.6320379,
          298.4910458,
          335.0780694,
          342.9483448,
          298.0823583,
          337.8097956,
          396.9318896,
          201.3774739,
          206.6632886,
          349.7774729,
          335.4937116,
          313.5358913,
          326.6909431,
          306.7785155,
          331.6193498,
          202.754688,
          332.144105,
          337.4756128,
          357.7505094,
          330.0199458,
          355.3698372,
          407.4632382,
          399.185673,
          288.4445843,
          273.1145259,
          328.0193832,
          258.9012171,
          364.1755214,
          338.2276419,
          383.8027112,
          408.9830918,
          133.7668525,
          205.5466237,
          175.0656917,
          262.4101302,
          245.5040512,
          360.509422,
          343.1474336,
          237.6191171,
          82.91008623,
          155.1887329,
          89.93094885,
          90.79188832,
          158.930061,
          92.11863643,
          111.8081839,
          91.46015834,
          236.3263781,
          198.5235934,
          100.9590494,
          93.48181408,
          136.883902,
          108.5675856,
          81.29309045,
          76.98517335,
          108.9474749,
          82.0012894,
          83.64917565,
          99.93631098,
          94.2585463,
          79.88815747,
          83.08306833,
          81.90447479,
          98.40002729,
          101.7305993,
          88.86618612,
          98.61084449,
          141.8357611,
          109.1656971,
          119.0533298
         ],
         "y0": " ",
         "yaxis": "y"
        },
        {
         "alignmentgroup": "True",
         "boxpoints": "all",
         "hovertemplate": "Food=Artemina<br>Density=Density1<br>Time=%{x}<br>Value=%{y}<extra></extra>",
         "legendgroup": "Artemina",
         "marker": {
          "color": "blue"
         },
         "name": "Artemina",
         "notched": false,
         "offsetgroup": "Artemina",
         "orientation": "v",
         "showlegend": true,
         "type": "box",
         "x": [
          "10min",
          "10min",
          "10min",
          "10min",
          "10min",
          "10min",
          "10min",
          "10min",
          "2h",
          "2h",
          "2h",
          "2h",
          "2h",
          "2h",
          "2h",
          "2h",
          "4h",
          "4h",
          "4h",
          "4h",
          "4h",
          "4h",
          "4h",
          "4h",
          "6h",
          "6h",
          "6h",
          "6h",
          "6h",
          "6h",
          "6h",
          "6h",
          "1d",
          "1d",
          "1d",
          "1d",
          "1d",
          "1d",
          "1d",
          "1d",
          "2d",
          "2d",
          "2d",
          "2d",
          "2d",
          "2d",
          "2d",
          "2d",
          "3d",
          "3d",
          "3d",
          "3d",
          "3d",
          "3d",
          "3d",
          "3d",
          "4d",
          "4d",
          "4d",
          "4d",
          "4d",
          "4d",
          "4d",
          "4d",
          "5d",
          "5d",
          "5d",
          "5d",
          "5d",
          "5d",
          "5d",
          "5d",
          "5d",
          "6d",
          "6d",
          "6d",
          "6d",
          "6d",
          "6d",
          "6d",
          "6d",
          "6d",
          "6d",
          "7d",
          "7d",
          "7d",
          "7d",
          "7d",
          "7d",
          "7d",
          "7d",
          "7d",
          "7d",
          "7d"
         ],
         "x0": " ",
         "xaxis": "x",
         "y": [
          51.1798575,
          30.52002613,
          54.46253274,
          31.86446695,
          51.75500926,
          72.03807581,
          26.41952262,
          33.64033131,
          202.5307152,
          319.895911,
          123.7628552,
          123.8872014,
          247.6577026,
          165.5568093,
          306.7088344,
          139.4271305,
          418.9358411,
          483.5208638,
          488.8811162,
          620.1412779,
          508.5780775,
          619.3486619,
          733.7871711,
          508.8735861,
          311.4535975,
          375.790561,
          438.1066968,
          569.9086206,
          429.8354154,
          361.1104011,
          410.7103222,
          389.6592734,
          296.1011993,
          323.2025834,
          325.0334957,
          350.7553487,
          351.7522898,
          360.2951848,
          370.6998787,
          336.893159,
          370.2044797,
          352.6046841,
          377.2335642,
          368.740533,
          321.0480684,
          276.4853718,
          359.1566301,
          384.8909379,
          312.1727507,
          256.4215579,
          312.3661674,
          277.2738897,
          273.9595889,
          231.2611364,
          188.2786314,
          214.7287978,
          131.7109407,
          117.6028448,
          107.6070585,
          143.2197908,
          149.2766987,
          141.0788512,
          139.8458818,
          158.1143689,
          97.95624163,
          192.8057156,
          113.8876872,
          62.56682861,
          128.7995179,
          109.5878375,
          107.7208225,
          114.8097032,
          110.0794265,
          122.1155077,
          88.13410459,
          64.10619679,
          82.00567446,
          129.0270388,
          100.2631808,
          109.0382838,
          61.38866824,
          86.8654827,
          74.44586069,
          70.83519897,
          122.4136942,
          99.59562634,
          87.8345579,
          90.05386734,
          61.26976746,
          70.77352257,
          94.92375766,
          117.9073903,
          103.3198956,
          111.7034073
         ],
         "y0": " ",
         "yaxis": "y"
        },
        {
         "alignmentgroup": "True",
         "boxpoints": "all",
         "hovertemplate": "Food=Peptone<br>Density=Density1<br>Time=%{x}<br>Value=%{y}<extra></extra>",
         "legendgroup": "Peptone",
         "marker": {
          "color": "orange"
         },
         "name": "Peptone",
         "notched": false,
         "offsetgroup": "Peptone",
         "orientation": "v",
         "showlegend": true,
         "type": "box",
         "x": [
          "10min",
          "10min",
          "10min",
          "10min",
          "10min",
          "10min",
          "10min",
          "10min",
          "10min",
          "2h",
          "2h",
          "2h",
          "2h",
          "2h",
          "2h",
          "2h",
          "2h",
          "4h",
          "4h",
          "4h",
          "4h",
          "4h",
          "4h",
          "4h",
          "4h",
          "4h",
          "6h",
          "6h",
          "6h",
          "6h",
          "6h",
          "6h",
          "6h",
          "6h",
          "1d",
          "1d",
          "1d",
          "1d",
          "1d",
          "1d",
          "1d",
          "1d",
          "2d",
          "2d",
          "2d",
          "2d",
          "2d",
          "2d",
          "2d",
          "2d",
          "3d",
          "3d",
          "3d",
          "3d",
          "3d",
          "3d",
          "3d",
          "4d",
          "4d",
          "4d",
          "4d",
          "4d",
          "4d",
          "4d",
          "4d",
          "5d",
          "5d",
          "5d",
          "5d",
          "6d",
          "6d",
          "6d",
          "6d",
          "6d",
          "6d",
          "6d",
          "6d",
          "6d",
          "6d",
          "7d",
          "7d",
          "7d",
          "7d",
          "7d",
          "7d",
          "7d",
          "7d",
          "7d",
          "7d",
          "7d"
         ],
         "x0": " ",
         "xaxis": "x",
         "y": [
          174.3152737,
          140.9318636,
          184.85648,
          129.8422828,
          132.6008561,
          173.6281433,
          96.54798666,
          109.0882136,
          137.1176014,
          414.067693,
          466.2717219,
          470.1465163,
          474.556335,
          507.2705841,
          504.4782766,
          556.0364993,
          469.415682,
          295.305228,
          327.9824234,
          343.1592977,
          328.492825,
          331.243523,
          378.4692525,
          343.5125786,
          346.4869511,
          366.6471372,
          224.3418221,
          253.1921662,
          204.4905945,
          246.7066792,
          207.8219524,
          232.9355191,
          228.2751964,
          229.4585298,
          75.76889328,
          96.05418746,
          140.0293588,
          108.2197468,
          76.80708068,
          175.3356631,
          115.352057,
          83.76135216,
          109.5014086,
          108.1032769,
          98.92624529,
          101.4805672,
          151.0516621,
          89.82952309,
          104.5598364,
          114.2210127,
          89.33370734,
          104.3723835,
          92.99508106,
          100.2246145,
          126.7859668,
          62.03900289,
          93.45127393,
          99.85484682,
          77.12753322,
          61.5284162,
          76.75860892,
          79.41428532,
          70.99222377,
          122.3614525,
          113.1896049,
          73.8406515,
          65.24043006,
          97.52664539,
          59.55079471,
          57.59820087,
          61.4439536,
          64.07372646,
          62.59680514,
          69.61794599,
          57.77005282,
          79.20594169,
          71.44285205,
          80.38036584,
          82.68252444,
          83.99607527,
          121.0525884,
          74.84282062,
          106.2825012,
          94.4470453,
          89.92704257,
          68.70888321,
          97.82178296,
          72.09618314,
          62.73754883,
          79.39946724
         ],
         "y0": " ",
         "yaxis": "y"
        }
       ],
       "frames": [
        {
         "data": [
          {
           "alignmentgroup": "True",
           "boxpoints": "all",
           "hovertemplate": "Food=Liver<br>Density=Density1<br>Time=%{x}<br>Value=%{y}<extra></extra>",
           "legendgroup": "Liver",
           "marker": {
            "color": "magenta"
           },
           "name": "Liver",
           "notched": false,
           "offsetgroup": "Liver",
           "orientation": "v",
           "showlegend": true,
           "type": "box",
           "x": [
            "10min",
            "10min",
            "10min",
            "10min",
            "10min",
            "10min",
            "10min",
            "10min",
            "2h",
            "2h",
            "2h",
            "2h",
            "2h",
            "2h",
            "2h",
            "2h",
            "4h",
            "4h",
            "4h",
            "4h",
            "4h",
            "4h",
            "4h",
            "4h",
            "6h",
            "6h",
            "6h",
            "6h",
            "6h",
            "6h",
            "6h",
            "6h",
            "6h",
            "1d",
            "1d",
            "1d",
            "1d",
            "1d",
            "1d",
            "1d",
            "1d",
            "2d",
            "2d",
            "2d",
            "2d",
            "2d",
            "2d",
            "2d",
            "2d",
            "3d",
            "3d",
            "3d",
            "3d",
            "3d",
            "3d",
            "3d",
            "3d",
            "4d",
            "4d",
            "4d",
            "4d",
            "4d",
            "4d",
            "4d",
            "4d",
            "5d",
            "5d",
            "5d",
            "5d",
            "5d",
            "5d",
            "5d",
            "5d",
            "5d",
            "5d",
            "6d",
            "6d",
            "6d",
            "6d",
            "6d",
            "6d",
            "6d",
            "6d",
            "6d",
            "6d",
            "7d",
            "7d",
            "7d",
            "7d",
            "7d",
            "7d",
            "7d",
            "7d",
            "7d",
            "7d",
            "7d"
           ],
           "x0": " ",
           "xaxis": "x",
           "y": [
            28.82142605,
            66.93287584,
            45.30223852,
            51.29200869,
            26.50037298,
            27.99912481,
            90.89941889,
            20.020762,
            111.4812414,
            180.888208,
            307.1422883,
            118.7620024,
            274.4445631,
            211.6257602,
            282.314141,
            249.9755276,
            406.0584085,
            409.1493902,
            353.8296025,
            389.8583492,
            456.7583722,
            594.5299585,
            385.2003066,
            439.8028042,
            250.8664758,
            188.9829639,
            306.6320379,
            298.4910458,
            335.0780694,
            342.9483448,
            298.0823583,
            337.8097956,
            396.9318896,
            201.3774739,
            206.6632886,
            349.7774729,
            335.4937116,
            313.5358913,
            326.6909431,
            306.7785155,
            331.6193498,
            202.754688,
            332.144105,
            337.4756128,
            357.7505094,
            330.0199458,
            355.3698372,
            407.4632382,
            399.185673,
            288.4445843,
            273.1145259,
            328.0193832,
            258.9012171,
            364.1755214,
            338.2276419,
            383.8027112,
            408.9830918,
            133.7668525,
            205.5466237,
            175.0656917,
            262.4101302,
            245.5040512,
            360.509422,
            343.1474336,
            237.6191171,
            82.91008623,
            155.1887329,
            89.93094885,
            90.79188832,
            158.930061,
            92.11863643,
            111.8081839,
            91.46015834,
            236.3263781,
            198.5235934,
            100.9590494,
            93.48181408,
            136.883902,
            108.5675856,
            81.29309045,
            76.98517335,
            108.9474749,
            82.0012894,
            83.64917565,
            99.93631098,
            94.2585463,
            79.88815747,
            83.08306833,
            81.90447479,
            98.40002729,
            101.7305993,
            88.86618612,
            98.61084449,
            141.8357611,
            109.1656971,
            119.0533298
           ],
           "y0": " ",
           "yaxis": "y"
          },
          {
           "alignmentgroup": "True",
           "boxpoints": "all",
           "hovertemplate": "Food=Artemina<br>Density=Density1<br>Time=%{x}<br>Value=%{y}<extra></extra>",
           "legendgroup": "Artemina",
           "marker": {
            "color": "blue"
           },
           "name": "Artemina",
           "notched": false,
           "offsetgroup": "Artemina",
           "orientation": "v",
           "showlegend": true,
           "type": "box",
           "x": [
            "10min",
            "10min",
            "10min",
            "10min",
            "10min",
            "10min",
            "10min",
            "10min",
            "2h",
            "2h",
            "2h",
            "2h",
            "2h",
            "2h",
            "2h",
            "2h",
            "4h",
            "4h",
            "4h",
            "4h",
            "4h",
            "4h",
            "4h",
            "4h",
            "6h",
            "6h",
            "6h",
            "6h",
            "6h",
            "6h",
            "6h",
            "6h",
            "1d",
            "1d",
            "1d",
            "1d",
            "1d",
            "1d",
            "1d",
            "1d",
            "2d",
            "2d",
            "2d",
            "2d",
            "2d",
            "2d",
            "2d",
            "2d",
            "3d",
            "3d",
            "3d",
            "3d",
            "3d",
            "3d",
            "3d",
            "3d",
            "4d",
            "4d",
            "4d",
            "4d",
            "4d",
            "4d",
            "4d",
            "4d",
            "5d",
            "5d",
            "5d",
            "5d",
            "5d",
            "5d",
            "5d",
            "5d",
            "5d",
            "6d",
            "6d",
            "6d",
            "6d",
            "6d",
            "6d",
            "6d",
            "6d",
            "6d",
            "6d",
            "7d",
            "7d",
            "7d",
            "7d",
            "7d",
            "7d",
            "7d",
            "7d",
            "7d",
            "7d",
            "7d"
           ],
           "x0": " ",
           "xaxis": "x",
           "y": [
            51.1798575,
            30.52002613,
            54.46253274,
            31.86446695,
            51.75500926,
            72.03807581,
            26.41952262,
            33.64033131,
            202.5307152,
            319.895911,
            123.7628552,
            123.8872014,
            247.6577026,
            165.5568093,
            306.7088344,
            139.4271305,
            418.9358411,
            483.5208638,
            488.8811162,
            620.1412779,
            508.5780775,
            619.3486619,
            733.7871711,
            508.8735861,
            311.4535975,
            375.790561,
            438.1066968,
            569.9086206,
            429.8354154,
            361.1104011,
            410.7103222,
            389.6592734,
            296.1011993,
            323.2025834,
            325.0334957,
            350.7553487,
            351.7522898,
            360.2951848,
            370.6998787,
            336.893159,
            370.2044797,
            352.6046841,
            377.2335642,
            368.740533,
            321.0480684,
            276.4853718,
            359.1566301,
            384.8909379,
            312.1727507,
            256.4215579,
            312.3661674,
            277.2738897,
            273.9595889,
            231.2611364,
            188.2786314,
            214.7287978,
            131.7109407,
            117.6028448,
            107.6070585,
            143.2197908,
            149.2766987,
            141.0788512,
            139.8458818,
            158.1143689,
            97.95624163,
            192.8057156,
            113.8876872,
            62.56682861,
            128.7995179,
            109.5878375,
            107.7208225,
            114.8097032,
            110.0794265,
            122.1155077,
            88.13410459,
            64.10619679,
            82.00567446,
            129.0270388,
            100.2631808,
            109.0382838,
            61.38866824,
            86.8654827,
            74.44586069,
            70.83519897,
            122.4136942,
            99.59562634,
            87.8345579,
            90.05386734,
            61.26976746,
            70.77352257,
            94.92375766,
            117.9073903,
            103.3198956,
            111.7034073
           ],
           "y0": " ",
           "yaxis": "y"
          },
          {
           "alignmentgroup": "True",
           "boxpoints": "all",
           "hovertemplate": "Food=Peptone<br>Density=Density1<br>Time=%{x}<br>Value=%{y}<extra></extra>",
           "legendgroup": "Peptone",
           "marker": {
            "color": "orange"
           },
           "name": "Peptone",
           "notched": false,
           "offsetgroup": "Peptone",
           "orientation": "v",
           "showlegend": true,
           "type": "box",
           "x": [
            "10min",
            "10min",
            "10min",
            "10min",
            "10min",
            "10min",
            "10min",
            "10min",
            "10min",
            "2h",
            "2h",
            "2h",
            "2h",
            "2h",
            "2h",
            "2h",
            "2h",
            "4h",
            "4h",
            "4h",
            "4h",
            "4h",
            "4h",
            "4h",
            "4h",
            "4h",
            "6h",
            "6h",
            "6h",
            "6h",
            "6h",
            "6h",
            "6h",
            "6h",
            "1d",
            "1d",
            "1d",
            "1d",
            "1d",
            "1d",
            "1d",
            "1d",
            "2d",
            "2d",
            "2d",
            "2d",
            "2d",
            "2d",
            "2d",
            "2d",
            "3d",
            "3d",
            "3d",
            "3d",
            "3d",
            "3d",
            "3d",
            "4d",
            "4d",
            "4d",
            "4d",
            "4d",
            "4d",
            "4d",
            "4d",
            "5d",
            "5d",
            "5d",
            "5d",
            "6d",
            "6d",
            "6d",
            "6d",
            "6d",
            "6d",
            "6d",
            "6d",
            "6d",
            "6d",
            "7d",
            "7d",
            "7d",
            "7d",
            "7d",
            "7d",
            "7d",
            "7d",
            "7d",
            "7d",
            "7d"
           ],
           "x0": " ",
           "xaxis": "x",
           "y": [
            174.3152737,
            140.9318636,
            184.85648,
            129.8422828,
            132.6008561,
            173.6281433,
            96.54798666,
            109.0882136,
            137.1176014,
            414.067693,
            466.2717219,
            470.1465163,
            474.556335,
            507.2705841,
            504.4782766,
            556.0364993,
            469.415682,
            295.305228,
            327.9824234,
            343.1592977,
            328.492825,
            331.243523,
            378.4692525,
            343.5125786,
            346.4869511,
            366.6471372,
            224.3418221,
            253.1921662,
            204.4905945,
            246.7066792,
            207.8219524,
            232.9355191,
            228.2751964,
            229.4585298,
            75.76889328,
            96.05418746,
            140.0293588,
            108.2197468,
            76.80708068,
            175.3356631,
            115.352057,
            83.76135216,
            109.5014086,
            108.1032769,
            98.92624529,
            101.4805672,
            151.0516621,
            89.82952309,
            104.5598364,
            114.2210127,
            89.33370734,
            104.3723835,
            92.99508106,
            100.2246145,
            126.7859668,
            62.03900289,
            93.45127393,
            99.85484682,
            77.12753322,
            61.5284162,
            76.75860892,
            79.41428532,
            70.99222377,
            122.3614525,
            113.1896049,
            73.8406515,
            65.24043006,
            97.52664539,
            59.55079471,
            57.59820087,
            61.4439536,
            64.07372646,
            62.59680514,
            69.61794599,
            57.77005282,
            79.20594169,
            71.44285205,
            80.38036584,
            82.68252444,
            83.99607527,
            121.0525884,
            74.84282062,
            106.2825012,
            94.4470453,
            89.92704257,
            68.70888321,
            97.82178296,
            72.09618314,
            62.73754883,
            79.39946724
           ],
           "y0": " ",
           "yaxis": "y"
          }
         ],
         "name": "Density1"
        },
        {
         "data": [
          {
           "alignmentgroup": "True",
           "boxpoints": "all",
           "hovertemplate": "Food=Liver<br>Density=Density2<br>Time=%{x}<br>Value=%{y}<extra></extra>",
           "legendgroup": "Liver",
           "marker": {
            "color": "magenta"
           },
           "name": "Liver",
           "notched": false,
           "offsetgroup": "Liver",
           "orientation": "v",
           "showlegend": true,
           "type": "box",
           "x": [
            "10min",
            "10min",
            "10min",
            "10min",
            "10min",
            "10min",
            "10min",
            "10min",
            "2h",
            "2h",
            "2h",
            "2h",
            "2h",
            "2h",
            "2h",
            "2h",
            "4h",
            "4h",
            "4h",
            "4h",
            "4h",
            "4h",
            "4h",
            "4h",
            "6h",
            "6h",
            "6h",
            "6h",
            "6h",
            "6h",
            "6h",
            "6h",
            "6h",
            "1d",
            "1d",
            "1d",
            "1d",
            "1d",
            "1d",
            "1d",
            "1d",
            "2d",
            "2d",
            "2d",
            "2d",
            "2d",
            "2d",
            "2d",
            "2d",
            "3d",
            "3d",
            "3d",
            "3d",
            "3d",
            "3d",
            "3d",
            "3d",
            "4d",
            "4d",
            "4d",
            "4d",
            "4d",
            "4d",
            "4d",
            "4d",
            "5d",
            "5d",
            "5d",
            "5d",
            "5d",
            "5d",
            "5d",
            "5d",
            "5d",
            "5d",
            "6d",
            "6d",
            "6d",
            "6d",
            "6d",
            "6d",
            "6d",
            "6d",
            "6d",
            "6d",
            "7d",
            "7d",
            "7d",
            "7d",
            "7d",
            "7d",
            "7d",
            "7d",
            "7d",
            "7d",
            "7d"
           ],
           "x0": " ",
           "xaxis": "x",
           "y": [
            32.05373551,
            73.5164374,
            49.89811779,
            54.97766201,
            30.47542893,
            30.33238521,
            96.41727499,
            22.76870973,
            118.7243729,
            192.2367078,
            325.6245923,
            122.5563156,
            286.6965526,
            219.3943007,
            294.2042614,
            273.253672,
            444.4931278,
            440.8267905,
            391.868079,
            425.1077478,
            495.8912005,
            637.6497137,
            418.8059618,
            476.2070632,
            282.3961421,
            211.4632904,
            333.8019654,
            334.8569139,
            368.8328626,
            380.41329,
            323.9751055,
            372.4395435,
            426.2859323,
            223.1066542,
            231.3508982,
            364.0806409,
            362.5282115,
            346.9850931,
            357.9570702,
            329.7869041,
            362.1632373,
            237.9391124,
            368.0026289,
            378.7519843,
            390.1452406,
            368.5681636,
            387.2119359,
            444.4713672,
            434.6185845,
            297.897088,
            281.5069828,
            344.2332691,
            267.0052091,
            380.7473264,
            351.210117,
            404.747697,
            424.0698779,
            140.1725891,
            216.4799548,
            183.4401325,
            278.0641097,
            257.2377007,
            395.3974306,
            354.819115,
            248.8139387,
            85.08477702,
            163.0796854,
            94.64642932,
            92.30508646,
            163.9881367,
            95.73113197,
            117.3175726,
            94.58318814,
            246.8039023,
            209.184512,
            105.1161867,
            100.8888431,
            143.3651474,
            112.9541547,
            84.89883237,
            81.81561559,
            114.2696216,
            88.2450424,
            89.17969966,
            104.659669,
            101.7910867,
            84.84246181,
            86.2541778,
            84.71262821,
            103.2271984,
            109.5822899,
            94.15584005,
            105.63717,
            147.7129336,
            114.9569807,
            125.5767999
           ],
           "y0": " ",
           "yaxis": "y"
          },
          {
           "alignmentgroup": "True",
           "boxpoints": "all",
           "hovertemplate": "Food=Artemina<br>Density=Density2<br>Time=%{x}<br>Value=%{y}<extra></extra>",
           "legendgroup": "Artemina",
           "marker": {
            "color": "blue"
           },
           "name": "Artemina",
           "notched": false,
           "offsetgroup": "Artemina",
           "orientation": "v",
           "showlegend": true,
           "type": "box",
           "x": [
            "10min",
            "10min",
            "10min",
            "10min",
            "10min",
            "10min",
            "10min",
            "10min",
            "2h",
            "2h",
            "2h",
            "2h",
            "2h",
            "2h",
            "2h",
            "2h",
            "4h",
            "4h",
            "4h",
            "4h",
            "4h",
            "4h",
            "4h",
            "4h",
            "6h",
            "6h",
            "6h",
            "6h",
            "6h",
            "6h",
            "6h",
            "6h",
            "1d",
            "1d",
            "1d",
            "1d",
            "1d",
            "1d",
            "1d",
            "1d",
            "2d",
            "2d",
            "2d",
            "2d",
            "2d",
            "2d",
            "2d",
            "2d",
            "3d",
            "3d",
            "3d",
            "3d",
            "3d",
            "3d",
            "3d",
            "3d",
            "4d",
            "4d",
            "4d",
            "4d",
            "4d",
            "4d",
            "4d",
            "4d",
            "5d",
            "5d",
            "5d",
            "5d",
            "5d",
            "5d",
            "5d",
            "5d",
            "5d",
            "6d",
            "6d",
            "6d",
            "6d",
            "6d",
            "6d",
            "6d",
            "6d",
            "6d",
            "6d",
            "7d",
            "7d",
            "7d",
            "7d",
            "7d",
            "7d",
            "7d",
            "7d",
            "7d",
            "7d",
            "7d"
           ],
           "x0": " ",
           "xaxis": "x",
           "y": [
            54.17283162,
            32.84782473,
            57.62895906,
            33.29657782,
            53.46121836,
            76.38208039,
            27.81002381,
            36.41479162,
            209.951688,
            330.4209011,
            127.8981296,
            127.9270014,
            258.1300855,
            169.3005562,
            313.1134272,
            141.7969968,
            454.0647388,
            522.7586592,
            519.2425543,
            661.6211533,
            539.643615,
            662.9209296,
            793.4369669,
            542.6780687,
            339.7946815,
            406.1548535,
            470.2503946,
            608.4362447,
            460.4795752,
            391.0715261,
            445.2035719,
            425.2234134,
            313.2711814,
            344.7702606,
            345.0718254,
            369.7885847,
            369.0818051,
            381.8386082,
            398.4721823,
            360.7674773,
            391.6409524,
            378.1446991,
            406.0688637,
            400.4504068,
            341.841337,
            291.0047153,
            382.6242509,
            418.2481526,
            324.5397384,
            265.0871097,
            323.091186,
            288.3157703,
            284.0131518,
            241.6333136,
            192.9431921,
            222.1460274,
            137.419774,
            122.8207185,
            114.7468633,
            147.1222374,
            152.6366244,
            148.2584365,
            145.2767898,
            163.776867,
            101.7562682,
            197.2177458,
            119.231391,
            65.67960615,
            133.0928352,
            113.7866052,
            110.6453698,
            118.6905946,
            115.6913189,
            125.2040322,
            91.86860055,
            65.20202921,
            86.30291505,
            134.5965513,
            105.5751374,
            112.8866938,
            64.77229562,
            90.57064547,
            79.55489035,
            74.34505117,
            126.7524074,
            102.9635944,
            91.80298673,
            94.67201438,
            64.03381712,
            75.8651429,
            98.08788291,
            126.0887194,
            108.0521046,
            118.0347745
           ],
           "y0": " ",
           "yaxis": "y"
          },
          {
           "alignmentgroup": "True",
           "boxpoints": "all",
           "hovertemplate": "Food=Peptone<br>Density=Density2<br>Time=%{x}<br>Value=%{y}<extra></extra>",
           "legendgroup": "Peptone",
           "marker": {
            "color": "orange"
           },
           "name": "Peptone",
           "notched": false,
           "offsetgroup": "Peptone",
           "orientation": "v",
           "showlegend": true,
           "type": "box",
           "x": [
            "10min",
            "10min",
            "10min",
            "10min",
            "10min",
            "10min",
            "10min",
            "10min",
            "10min",
            "2h",
            "2h",
            "2h",
            "2h",
            "2h",
            "2h",
            "2h",
            "2h",
            "4h",
            "4h",
            "4h",
            "4h",
            "4h",
            "4h",
            "4h",
            "4h",
            "4h",
            "6h",
            "6h",
            "6h",
            "6h",
            "6h",
            "6h",
            "6h",
            "6h",
            "1d",
            "1d",
            "1d",
            "1d",
            "1d",
            "1d",
            "1d",
            "1d",
            "2d",
            "2d",
            "2d",
            "2d",
            "2d",
            "2d",
            "2d",
            "2d",
            "3d",
            "3d",
            "3d",
            "3d",
            "3d",
            "3d",
            "3d",
            "4d",
            "4d",
            "4d",
            "4d",
            "4d",
            "4d",
            "4d",
            "4d",
            "5d",
            "5d",
            "5d",
            "5d",
            "6d",
            "6d",
            "6d",
            "6d",
            "6d",
            "6d",
            "6d",
            "6d",
            "6d",
            "6d",
            "7d",
            "7d",
            "7d",
            "7d",
            "7d",
            "7d",
            "7d",
            "7d",
            "7d",
            "7d",
            "7d"
           ],
           "x0": " ",
           "xaxis": "x",
           "y": [
            180.3960391,
            145.3590425,
            193.0520875,
            139.6736828,
            139.7044733,
            176.7425494,
            102.0967215,
            110.6466166,
            140.6135176,
            430.8461234,
            489.3618551,
            485.3606485,
            491.7322251,
            527.1961062,
            527.0563253,
            575.9186149,
            488.583489,
            308.7143405,
            347.1567805,
            360.9151642,
            344.2234673,
            343.122601,
            391.3423563,
            353.8755278,
            357.1746083,
            383.2731411,
            235.8197758,
            265.8729091,
            210.4274182,
            257.8108938,
            212.9133588,
            246.8589669,
            239.6133684,
            238.3943279,
            79.02458791,
            100.0151849,
            149.9464522,
            116.1033045,
            83.13733458,
            182.6076491,
            121.3967063,
            85.48839035,
            117.4318727,
            118.6785974,
            106.7069612,
            107.7949136,
            160.721636,
            97.76794606,
            112.9391961,
            120.1000354,
            92.16969805,
            110.4171162,
            95.74177122,
            102.6606294,
            131.6623501,
            65.55064456,
            97.93417637,
            103.9533667,
            80.01080549,
            65.18356964,
            80.04239968,
            85.74793998,
            75.21795138,
            127.2737736,
            119.0370384,
            77.77881958,
            66.1928451,
            99.79470691,
            61.14947377,
            61.14270554,
            63.92153238,
            68.54398644,
            65.13451346,
            73.14929107,
            59.833269,
            83.76455703,
            75.27870988,
            82.31724213,
            86.27741681,
            88.05385669,
            128.4338438,
            78.61188353,
            111.5589375,
            100.8866166,
            97.34820628,
            71.88006244,
            100.9919333,
            76.00837912,
            67.17914521,
            84.32771003
           ],
           "y0": " ",
           "yaxis": "y"
          }
         ],
         "name": "Density2"
        }
       ],
       "layout": {
        "boxmode": "group",
        "height": 600,
        "legend": {
         "title": {
          "text": "Food"
         },
         "tracegroupgap": 0
        },
        "sliders": [
         {
          "active": 0,
          "currentvalue": {
           "prefix": "Density="
          },
          "len": 0.9,
          "pad": {
           "b": 10,
           "t": 60
          },
          "steps": [
           {
            "args": [
             [
              "Density1"
             ],
             {
              "frame": {
               "duration": 0,
               "redraw": true
              },
              "fromcurrent": true,
              "mode": "immediate",
              "transition": {
               "duration": 0,
               "easing": "linear"
              }
             }
            ],
            "label": "Density1",
            "method": "animate"
           },
           {
            "args": [
             [
              "Density2"
             ],
             {
              "frame": {
               "duration": 0,
               "redraw": true
              },
              "fromcurrent": true,
              "mode": "immediate",
              "transition": {
               "duration": 0,
               "easing": "linear"
              }
             }
            ],
            "label": "Density2",
            "method": "animate"
           }
          ],
          "x": 0.1,
          "xanchor": "left",
          "y": 0,
          "yanchor": "top"
         }
        ],
        "template": {
         "data": {
          "bar": [
           {
            "error_x": {
             "color": "#2a3f5f"
            },
            "error_y": {
             "color": "#2a3f5f"
            },
            "marker": {
             "line": {
              "color": "#E5ECF6",
              "width": 0.5
             },
             "pattern": {
              "fillmode": "overlay",
              "size": 10,
              "solidity": 0.2
             }
            },
            "type": "bar"
           }
          ],
          "barpolar": [
           {
            "marker": {
             "line": {
              "color": "#E5ECF6",
              "width": 0.5
             },
             "pattern": {
              "fillmode": "overlay",
              "size": 10,
              "solidity": 0.2
             }
            },
            "type": "barpolar"
           }
          ],
          "carpet": [
           {
            "aaxis": {
             "endlinecolor": "#2a3f5f",
             "gridcolor": "white",
             "linecolor": "white",
             "minorgridcolor": "white",
             "startlinecolor": "#2a3f5f"
            },
            "baxis": {
             "endlinecolor": "#2a3f5f",
             "gridcolor": "white",
             "linecolor": "white",
             "minorgridcolor": "white",
             "startlinecolor": "#2a3f5f"
            },
            "type": "carpet"
           }
          ],
          "choropleth": [
           {
            "colorbar": {
             "outlinewidth": 0,
             "ticks": ""
            },
            "type": "choropleth"
           }
          ],
          "contour": [
           {
            "colorbar": {
             "outlinewidth": 0,
             "ticks": ""
            },
            "colorscale": [
             [
              0,
              "#0d0887"
             ],
             [
              0.1111111111111111,
              "#46039f"
             ],
             [
              0.2222222222222222,
              "#7201a8"
             ],
             [
              0.3333333333333333,
              "#9c179e"
             ],
             [
              0.4444444444444444,
              "#bd3786"
             ],
             [
              0.5555555555555556,
              "#d8576b"
             ],
             [
              0.6666666666666666,
              "#ed7953"
             ],
             [
              0.7777777777777778,
              "#fb9f3a"
             ],
             [
              0.8888888888888888,
              "#fdca26"
             ],
             [
              1,
              "#f0f921"
             ]
            ],
            "type": "contour"
           }
          ],
          "contourcarpet": [
           {
            "colorbar": {
             "outlinewidth": 0,
             "ticks": ""
            },
            "type": "contourcarpet"
           }
          ],
          "heatmap": [
           {
            "colorbar": {
             "outlinewidth": 0,
             "ticks": ""
            },
            "colorscale": [
             [
              0,
              "#0d0887"
             ],
             [
              0.1111111111111111,
              "#46039f"
             ],
             [
              0.2222222222222222,
              "#7201a8"
             ],
             [
              0.3333333333333333,
              "#9c179e"
             ],
             [
              0.4444444444444444,
              "#bd3786"
             ],
             [
              0.5555555555555556,
              "#d8576b"
             ],
             [
              0.6666666666666666,
              "#ed7953"
             ],
             [
              0.7777777777777778,
              "#fb9f3a"
             ],
             [
              0.8888888888888888,
              "#fdca26"
             ],
             [
              1,
              "#f0f921"
             ]
            ],
            "type": "heatmap"
           }
          ],
          "heatmapgl": [
           {
            "colorbar": {
             "outlinewidth": 0,
             "ticks": ""
            },
            "colorscale": [
             [
              0,
              "#0d0887"
             ],
             [
              0.1111111111111111,
              "#46039f"
             ],
             [
              0.2222222222222222,
              "#7201a8"
             ],
             [
              0.3333333333333333,
              "#9c179e"
             ],
             [
              0.4444444444444444,
              "#bd3786"
             ],
             [
              0.5555555555555556,
              "#d8576b"
             ],
             [
              0.6666666666666666,
              "#ed7953"
             ],
             [
              0.7777777777777778,
              "#fb9f3a"
             ],
             [
              0.8888888888888888,
              "#fdca26"
             ],
             [
              1,
              "#f0f921"
             ]
            ],
            "type": "heatmapgl"
           }
          ],
          "histogram": [
           {
            "marker": {
             "pattern": {
              "fillmode": "overlay",
              "size": 10,
              "solidity": 0.2
             }
            },
            "type": "histogram"
           }
          ],
          "histogram2d": [
           {
            "colorbar": {
             "outlinewidth": 0,
             "ticks": ""
            },
            "colorscale": [
             [
              0,
              "#0d0887"
             ],
             [
              0.1111111111111111,
              "#46039f"
             ],
             [
              0.2222222222222222,
              "#7201a8"
             ],
             [
              0.3333333333333333,
              "#9c179e"
             ],
             [
              0.4444444444444444,
              "#bd3786"
             ],
             [
              0.5555555555555556,
              "#d8576b"
             ],
             [
              0.6666666666666666,
              "#ed7953"
             ],
             [
              0.7777777777777778,
              "#fb9f3a"
             ],
             [
              0.8888888888888888,
              "#fdca26"
             ],
             [
              1,
              "#f0f921"
             ]
            ],
            "type": "histogram2d"
           }
          ],
          "histogram2dcontour": [
           {
            "colorbar": {
             "outlinewidth": 0,
             "ticks": ""
            },
            "colorscale": [
             [
              0,
              "#0d0887"
             ],
             [
              0.1111111111111111,
              "#46039f"
             ],
             [
              0.2222222222222222,
              "#7201a8"
             ],
             [
              0.3333333333333333,
              "#9c179e"
             ],
             [
              0.4444444444444444,
              "#bd3786"
             ],
             [
              0.5555555555555556,
              "#d8576b"
             ],
             [
              0.6666666666666666,
              "#ed7953"
             ],
             [
              0.7777777777777778,
              "#fb9f3a"
             ],
             [
              0.8888888888888888,
              "#fdca26"
             ],
             [
              1,
              "#f0f921"
             ]
            ],
            "type": "histogram2dcontour"
           }
          ],
          "mesh3d": [
           {
            "colorbar": {
             "outlinewidth": 0,
             "ticks": ""
            },
            "type": "mesh3d"
           }
          ],
          "parcoords": [
           {
            "line": {
             "colorbar": {
              "outlinewidth": 0,
              "ticks": ""
             }
            },
            "type": "parcoords"
           }
          ],
          "pie": [
           {
            "automargin": true,
            "type": "pie"
           }
          ],
          "scatter": [
           {
            "fillpattern": {
             "fillmode": "overlay",
             "size": 10,
             "solidity": 0.2
            },
            "type": "scatter"
           }
          ],
          "scatter3d": [
           {
            "line": {
             "colorbar": {
              "outlinewidth": 0,
              "ticks": ""
             }
            },
            "marker": {
             "colorbar": {
              "outlinewidth": 0,
              "ticks": ""
             }
            },
            "type": "scatter3d"
           }
          ],
          "scattercarpet": [
           {
            "marker": {
             "colorbar": {
              "outlinewidth": 0,
              "ticks": ""
             }
            },
            "type": "scattercarpet"
           }
          ],
          "scattergeo": [
           {
            "marker": {
             "colorbar": {
              "outlinewidth": 0,
              "ticks": ""
             }
            },
            "type": "scattergeo"
           }
          ],
          "scattergl": [
           {
            "marker": {
             "colorbar": {
              "outlinewidth": 0,
              "ticks": ""
             }
            },
            "type": "scattergl"
           }
          ],
          "scattermapbox": [
           {
            "marker": {
             "colorbar": {
              "outlinewidth": 0,
              "ticks": ""
             }
            },
            "type": "scattermapbox"
           }
          ],
          "scatterpolar": [
           {
            "marker": {
             "colorbar": {
              "outlinewidth": 0,
              "ticks": ""
             }
            },
            "type": "scatterpolar"
           }
          ],
          "scatterpolargl": [
           {
            "marker": {
             "colorbar": {
              "outlinewidth": 0,
              "ticks": ""
             }
            },
            "type": "scatterpolargl"
           }
          ],
          "scatterternary": [
           {
            "marker": {
             "colorbar": {
              "outlinewidth": 0,
              "ticks": ""
             }
            },
            "type": "scatterternary"
           }
          ],
          "surface": [
           {
            "colorbar": {
             "outlinewidth": 0,
             "ticks": ""
            },
            "colorscale": [
             [
              0,
              "#0d0887"
             ],
             [
              0.1111111111111111,
              "#46039f"
             ],
             [
              0.2222222222222222,
              "#7201a8"
             ],
             [
              0.3333333333333333,
              "#9c179e"
             ],
             [
              0.4444444444444444,
              "#bd3786"
             ],
             [
              0.5555555555555556,
              "#d8576b"
             ],
             [
              0.6666666666666666,
              "#ed7953"
             ],
             [
              0.7777777777777778,
              "#fb9f3a"
             ],
             [
              0.8888888888888888,
              "#fdca26"
             ],
             [
              1,
              "#f0f921"
             ]
            ],
            "type": "surface"
           }
          ],
          "table": [
           {
            "cells": {
             "fill": {
              "color": "#EBF0F8"
             },
             "line": {
              "color": "white"
             }
            },
            "header": {
             "fill": {
              "color": "#C8D4E3"
             },
             "line": {
              "color": "white"
             }
            },
            "type": "table"
           }
          ]
         },
         "layout": {
          "annotationdefaults": {
           "arrowcolor": "#2a3f5f",
           "arrowhead": 0,
           "arrowwidth": 1
          },
          "autotypenumbers": "strict",
          "coloraxis": {
           "colorbar": {
            "outlinewidth": 0,
            "ticks": ""
           }
          },
          "colorscale": {
           "diverging": [
            [
             0,
             "#8e0152"
            ],
            [
             0.1,
             "#c51b7d"
            ],
            [
             0.2,
             "#de77ae"
            ],
            [
             0.3,
             "#f1b6da"
            ],
            [
             0.4,
             "#fde0ef"
            ],
            [
             0.5,
             "#f7f7f7"
            ],
            [
             0.6,
             "#e6f5d0"
            ],
            [
             0.7,
             "#b8e186"
            ],
            [
             0.8,
             "#7fbc41"
            ],
            [
             0.9,
             "#4d9221"
            ],
            [
             1,
             "#276419"
            ]
           ],
           "sequential": [
            [
             0,
             "#0d0887"
            ],
            [
             0.1111111111111111,
             "#46039f"
            ],
            [
             0.2222222222222222,
             "#7201a8"
            ],
            [
             0.3333333333333333,
             "#9c179e"
            ],
            [
             0.4444444444444444,
             "#bd3786"
            ],
            [
             0.5555555555555556,
             "#d8576b"
            ],
            [
             0.6666666666666666,
             "#ed7953"
            ],
            [
             0.7777777777777778,
             "#fb9f3a"
            ],
            [
             0.8888888888888888,
             "#fdca26"
            ],
            [
             1,
             "#f0f921"
            ]
           ],
           "sequentialminus": [
            [
             0,
             "#0d0887"
            ],
            [
             0.1111111111111111,
             "#46039f"
            ],
            [
             0.2222222222222222,
             "#7201a8"
            ],
            [
             0.3333333333333333,
             "#9c179e"
            ],
            [
             0.4444444444444444,
             "#bd3786"
            ],
            [
             0.5555555555555556,
             "#d8576b"
            ],
            [
             0.6666666666666666,
             "#ed7953"
            ],
            [
             0.7777777777777778,
             "#fb9f3a"
            ],
            [
             0.8888888888888888,
             "#fdca26"
            ],
            [
             1,
             "#f0f921"
            ]
           ]
          },
          "colorway": [
           "#636efa",
           "#EF553B",
           "#00cc96",
           "#ab63fa",
           "#FFA15A",
           "#19d3f3",
           "#FF6692",
           "#B6E880",
           "#FF97FF",
           "#FECB52"
          ],
          "font": {
           "color": "#2a3f5f"
          },
          "geo": {
           "bgcolor": "white",
           "lakecolor": "white",
           "landcolor": "#E5ECF6",
           "showlakes": true,
           "showland": true,
           "subunitcolor": "white"
          },
          "hoverlabel": {
           "align": "left"
          },
          "hovermode": "closest",
          "mapbox": {
           "style": "light"
          },
          "paper_bgcolor": "white",
          "plot_bgcolor": "#E5ECF6",
          "polar": {
           "angularaxis": {
            "gridcolor": "white",
            "linecolor": "white",
            "ticks": ""
           },
           "bgcolor": "#E5ECF6",
           "radialaxis": {
            "gridcolor": "white",
            "linecolor": "white",
            "ticks": ""
           }
          },
          "scene": {
           "xaxis": {
            "backgroundcolor": "#E5ECF6",
            "gridcolor": "white",
            "gridwidth": 2,
            "linecolor": "white",
            "showbackground": true,
            "ticks": "",
            "zerolinecolor": "white"
           },
           "yaxis": {
            "backgroundcolor": "#E5ECF6",
            "gridcolor": "white",
            "gridwidth": 2,
            "linecolor": "white",
            "showbackground": true,
            "ticks": "",
            "zerolinecolor": "white"
           },
           "zaxis": {
            "backgroundcolor": "#E5ECF6",
            "gridcolor": "white",
            "gridwidth": 2,
            "linecolor": "white",
            "showbackground": true,
            "ticks": "",
            "zerolinecolor": "white"
           }
          },
          "shapedefaults": {
           "line": {
            "color": "#2a3f5f"
           }
          },
          "ternary": {
           "aaxis": {
            "gridcolor": "white",
            "linecolor": "white",
            "ticks": ""
           },
           "baxis": {
            "gridcolor": "white",
            "linecolor": "white",
            "ticks": ""
           },
           "bgcolor": "#E5ECF6",
           "caxis": {
            "gridcolor": "white",
            "linecolor": "white",
            "ticks": ""
           }
          },
          "title": {
           "x": 0.05
          },
          "xaxis": {
           "automargin": true,
           "gridcolor": "white",
           "linecolor": "white",
           "ticks": "",
           "title": {
            "standoff": 15
           },
           "zerolinecolor": "white",
           "zerolinewidth": 2
          },
          "yaxis": {
           "automargin": true,
           "gridcolor": "white",
           "linecolor": "white",
           "ticks": "",
           "title": {
            "standoff": 15
           },
           "zerolinecolor": "white",
           "zerolinewidth": 2
          }
         }
        },
        "title": {
         "text": "Dividing Cell Density Over Time By Food"
        },
        "updatemenus": [
         {
          "buttons": [
           {
            "args": [
             null,
             {
              "frame": {
               "duration": 500,
               "redraw": true
              },
              "fromcurrent": true,
              "mode": "immediate",
              "transition": {
               "duration": 500,
               "easing": "linear"
              }
             }
            ],
            "label": "&#9654;",
            "method": "animate"
           },
           {
            "args": [
             [
              null
             ],
             {
              "frame": {
               "duration": 0,
               "redraw": true
              },
              "fromcurrent": true,
              "mode": "immediate",
              "transition": {
               "duration": 0,
               "easing": "linear"
              }
             }
            ],
            "label": "&#9724;",
            "method": "animate"
           }
          ],
          "direction": "left",
          "pad": {
           "r": 10,
           "t": 70
          },
          "showactive": false,
          "type": "buttons",
          "x": 0.1,
          "xanchor": "right",
          "y": 0,
          "yanchor": "top"
         }
        ],
        "width": 1200,
        "xaxis": {
         "anchor": "y",
         "domain": [
          0,
          1
         ],
         "range": [
          -0.5,
          11.5
         ],
         "title": {
          "text": "Time"
         }
        },
        "yaxis": {
         "anchor": "x",
         "domain": [
          0,
          1
         ],
         "range": [
          0,
          750
         ],
         "title": {
          "text": "Value"
         }
        }
       }
      }
     },
     "metadata": {},
     "output_type": "display_data"
    }
   ],
   "source": [
    "px.box(melted_df, x='Time', y='Value', points='all', color='Food', range_x=[-0.5,11.5], range_y=[0, 750], width=1200, height=600, title='Dividing Cell Density Over Time By Food', \n",
    "       color_discrete_map={'unfed':'black', 'Liver':'magenta', 'Peptone':'orange', 'Artemina':'blue'}, category_orders={'Food':['unfed', 'Liver', 'Artemina', 'Peptone']}, animation_frame='Density')"
   ]
  },
  {
   "cell_type": "markdown",
   "metadata": {},
   "source": [
    "## Pivot"
   ]
  },
  {
   "cell_type": "markdown",
   "metadata": {},
   "source": [
    "Now let's say our measurements come from an ImageJ results table, where measurements for each channel are in a separate row, but we would like to combine them into a single row per measurement.  This is basically what we have with our melted_df, so let's do a backwards melt() operation."
   ]
  },
  {
   "cell_type": "code",
   "execution_count": null,
   "metadata": {},
   "outputs": [
    {
     "data": {
      "text/html": [
       "<div>\n",
       "<style scoped>\n",
       "    .dataframe tbody tr th:only-of-type {\n",
       "        vertical-align: middle;\n",
       "    }\n",
       "\n",
       "    .dataframe tbody tr th {\n",
       "        vertical-align: top;\n",
       "    }\n",
       "\n",
       "    .dataframe thead th {\n",
       "        text-align: right;\n",
       "    }\n",
       "</style>\n",
       "<table border=\"1\" class=\"dataframe\">\n",
       "  <thead>\n",
       "    <tr style=\"text-align: right;\">\n",
       "      <th></th>\n",
       "      <th>Food</th>\n",
       "      <th>Time (h)</th>\n",
       "      <th>Time</th>\n",
       "      <th>File</th>\n",
       "      <th>Density</th>\n",
       "      <th>Value</th>\n",
       "    </tr>\n",
       "  </thead>\n",
       "  <tbody>\n",
       "    <tr>\n",
       "      <th>0</th>\n",
       "      <td>Artemina</td>\n",
       "      <td>0.166667</td>\n",
       "      <td>10min</td>\n",
       "      <td>./20240321_140300_322/Plate000_Well2_Object0.t...</td>\n",
       "      <td>Density1</td>\n",
       "      <td>51.179857</td>\n",
       "    </tr>\n",
       "    <tr>\n",
       "      <th>1</th>\n",
       "      <td>Artemina</td>\n",
       "      <td>0.166667</td>\n",
       "      <td>10min</td>\n",
       "      <td>./20240321_140300_322/Plate000_Well2_Object1.t...</td>\n",
       "      <td>Density1</td>\n",
       "      <td>30.520026</td>\n",
       "    </tr>\n",
       "    <tr>\n",
       "      <th>2</th>\n",
       "      <td>Artemina</td>\n",
       "      <td>0.166667</td>\n",
       "      <td>10min</td>\n",
       "      <td>./20240321_140300_322/Plate000_Well2_Object2.t...</td>\n",
       "      <td>Density1</td>\n",
       "      <td>54.462533</td>\n",
       "    </tr>\n",
       "    <tr>\n",
       "      <th>3</th>\n",
       "      <td>Artemina</td>\n",
       "      <td>0.166667</td>\n",
       "      <td>10min</td>\n",
       "      <td>./20240321_140300_322/Plate000_Well2_Object3.t...</td>\n",
       "      <td>Density1</td>\n",
       "      <td>31.864467</td>\n",
       "    </tr>\n",
       "    <tr>\n",
       "      <th>4</th>\n",
       "      <td>Artemina</td>\n",
       "      <td>0.166667</td>\n",
       "      <td>10min</td>\n",
       "      <td>./20240321_140300_322/Plate000_Well2_Object4.t...</td>\n",
       "      <td>Density1</td>\n",
       "      <td>51.755009</td>\n",
       "    </tr>\n",
       "    <tr>\n",
       "      <th>...</th>\n",
       "      <td>...</td>\n",
       "      <td>...</td>\n",
       "      <td>...</td>\n",
       "      <td>...</td>\n",
       "      <td>...</td>\n",
       "      <td>...</td>\n",
       "    </tr>\n",
       "    <tr>\n",
       "      <th>555</th>\n",
       "      <td>Peptone</td>\n",
       "      <td>168.000000</td>\n",
       "      <td>7d</td>\n",
       "      <td>./20240321_140300_322/Plate008_Well2_Object5.t...</td>\n",
       "      <td>Density2</td>\n",
       "      <td>71.880062</td>\n",
       "    </tr>\n",
       "    <tr>\n",
       "      <th>556</th>\n",
       "      <td>Peptone</td>\n",
       "      <td>168.000000</td>\n",
       "      <td>7d</td>\n",
       "      <td>./20240321_140300_322/Plate008_Well2_Object6.t...</td>\n",
       "      <td>Density2</td>\n",
       "      <td>100.991933</td>\n",
       "    </tr>\n",
       "    <tr>\n",
       "      <th>557</th>\n",
       "      <td>Peptone</td>\n",
       "      <td>168.000000</td>\n",
       "      <td>7d</td>\n",
       "      <td>./20240321_140300_322/Plate008_Well2_Object7.t...</td>\n",
       "      <td>Density2</td>\n",
       "      <td>76.008379</td>\n",
       "    </tr>\n",
       "    <tr>\n",
       "      <th>558</th>\n",
       "      <td>Peptone</td>\n",
       "      <td>168.000000</td>\n",
       "      <td>7d</td>\n",
       "      <td>./20240321_140300_322/Plate008_Well2_Object8.t...</td>\n",
       "      <td>Density2</td>\n",
       "      <td>67.179145</td>\n",
       "    </tr>\n",
       "    <tr>\n",
       "      <th>559</th>\n",
       "      <td>Peptone</td>\n",
       "      <td>168.000000</td>\n",
       "      <td>7d</td>\n",
       "      <td>./20240321_140300_322/Plate008_Well2_Object9.t...</td>\n",
       "      <td>Density2</td>\n",
       "      <td>84.327710</td>\n",
       "    </tr>\n",
       "  </tbody>\n",
       "</table>\n",
       "<p>560 rows × 6 columns</p>\n",
       "</div>"
      ],
      "text/plain": [
       "         Food    Time (h)   Time  \\\n",
       "0    Artemina    0.166667  10min   \n",
       "1    Artemina    0.166667  10min   \n",
       "2    Artemina    0.166667  10min   \n",
       "3    Artemina    0.166667  10min   \n",
       "4    Artemina    0.166667  10min   \n",
       "..        ...         ...    ...   \n",
       "555   Peptone  168.000000     7d   \n",
       "556   Peptone  168.000000     7d   \n",
       "557   Peptone  168.000000     7d   \n",
       "558   Peptone  168.000000     7d   \n",
       "559   Peptone  168.000000     7d   \n",
       "\n",
       "                                                  File   Density       Value  \n",
       "0    ./20240321_140300_322/Plate000_Well2_Object0.t...  Density1   51.179857  \n",
       "1    ./20240321_140300_322/Plate000_Well2_Object1.t...  Density1   30.520026  \n",
       "2    ./20240321_140300_322/Plate000_Well2_Object2.t...  Density1   54.462533  \n",
       "3    ./20240321_140300_322/Plate000_Well2_Object3.t...  Density1   31.864467  \n",
       "4    ./20240321_140300_322/Plate000_Well2_Object4.t...  Density1   51.755009  \n",
       "..                                                 ...       ...         ...  \n",
       "555  ./20240321_140300_322/Plate008_Well2_Object5.t...  Density2   71.880062  \n",
       "556  ./20240321_140300_322/Plate008_Well2_Object6.t...  Density2  100.991933  \n",
       "557  ./20240321_140300_322/Plate008_Well2_Object7.t...  Density2   76.008379  \n",
       "558  ./20240321_140300_322/Plate008_Well2_Object8.t...  Density2   67.179145  \n",
       "559  ./20240321_140300_322/Plate008_Well2_Object9.t...  Density2   84.327710  \n",
       "\n",
       "[560 rows x 6 columns]"
      ]
     },
     "execution_count": 77,
     "metadata": {},
     "output_type": "execute_result"
    }
   ],
   "source": [
    "melted_df"
   ]
  },
  {
   "cell_type": "code",
   "execution_count": null,
   "metadata": {},
   "outputs": [
    {
     "data": {
      "text/html": [
       "<div>\n",
       "<style scoped>\n",
       "    .dataframe tbody tr th:only-of-type {\n",
       "        vertical-align: middle;\n",
       "    }\n",
       "\n",
       "    .dataframe tbody tr th {\n",
       "        vertical-align: top;\n",
       "    }\n",
       "\n",
       "    .dataframe thead th {\n",
       "        text-align: right;\n",
       "    }\n",
       "</style>\n",
       "<table border=\"1\" class=\"dataframe\">\n",
       "  <thead>\n",
       "    <tr style=\"text-align: right;\">\n",
       "      <th></th>\n",
       "      <th>Food</th>\n",
       "      <th>Time (h)</th>\n",
       "      <th>Time</th>\n",
       "      <th>File</th>\n",
       "      <th>Density1</th>\n",
       "      <th>Density2</th>\n",
       "    </tr>\n",
       "  </thead>\n",
       "  <tbody>\n",
       "    <tr>\n",
       "      <th>0</th>\n",
       "      <td>Artemina</td>\n",
       "      <td>0.166667</td>\n",
       "      <td>10min</td>\n",
       "      <td>./20240321_140300_322/Plate000_Well2_Object0.t...</td>\n",
       "      <td>51.179857</td>\n",
       "      <td>54.172832</td>\n",
       "    </tr>\n",
       "    <tr>\n",
       "      <th>1</th>\n",
       "      <td>Artemina</td>\n",
       "      <td>0.166667</td>\n",
       "      <td>10min</td>\n",
       "      <td>./20240321_140300_322/Plate000_Well2_Object1.t...</td>\n",
       "      <td>30.520026</td>\n",
       "      <td>32.847825</td>\n",
       "    </tr>\n",
       "    <tr>\n",
       "      <th>2</th>\n",
       "      <td>Artemina</td>\n",
       "      <td>0.166667</td>\n",
       "      <td>10min</td>\n",
       "      <td>./20240321_140300_322/Plate000_Well2_Object2.t...</td>\n",
       "      <td>54.462533</td>\n",
       "      <td>57.628959</td>\n",
       "    </tr>\n",
       "    <tr>\n",
       "      <th>3</th>\n",
       "      <td>Artemina</td>\n",
       "      <td>0.166667</td>\n",
       "      <td>10min</td>\n",
       "      <td>./20240321_140300_322/Plate000_Well2_Object3.t...</td>\n",
       "      <td>31.864467</td>\n",
       "      <td>33.296578</td>\n",
       "    </tr>\n",
       "    <tr>\n",
       "      <th>4</th>\n",
       "      <td>Artemina</td>\n",
       "      <td>0.166667</td>\n",
       "      <td>10min</td>\n",
       "      <td>./20240321_140300_322/Plate000_Well2_Object4.t...</td>\n",
       "      <td>51.755009</td>\n",
       "      <td>53.461218</td>\n",
       "    </tr>\n",
       "    <tr>\n",
       "      <th>...</th>\n",
       "      <td>...</td>\n",
       "      <td>...</td>\n",
       "      <td>...</td>\n",
       "      <td>...</td>\n",
       "      <td>...</td>\n",
       "      <td>...</td>\n",
       "    </tr>\n",
       "    <tr>\n",
       "      <th>275</th>\n",
       "      <td>Peptone</td>\n",
       "      <td>168.000000</td>\n",
       "      <td>7d</td>\n",
       "      <td>./20240321_140300_322/Plate008_Well2_Object5.t...</td>\n",
       "      <td>68.708883</td>\n",
       "      <td>71.880062</td>\n",
       "    </tr>\n",
       "    <tr>\n",
       "      <th>276</th>\n",
       "      <td>Peptone</td>\n",
       "      <td>168.000000</td>\n",
       "      <td>7d</td>\n",
       "      <td>./20240321_140300_322/Plate008_Well2_Object6.t...</td>\n",
       "      <td>97.821783</td>\n",
       "      <td>100.991933</td>\n",
       "    </tr>\n",
       "    <tr>\n",
       "      <th>277</th>\n",
       "      <td>Peptone</td>\n",
       "      <td>168.000000</td>\n",
       "      <td>7d</td>\n",
       "      <td>./20240321_140300_322/Plate008_Well2_Object7.t...</td>\n",
       "      <td>72.096183</td>\n",
       "      <td>76.008379</td>\n",
       "    </tr>\n",
       "    <tr>\n",
       "      <th>278</th>\n",
       "      <td>Peptone</td>\n",
       "      <td>168.000000</td>\n",
       "      <td>7d</td>\n",
       "      <td>./20240321_140300_322/Plate008_Well2_Object8.t...</td>\n",
       "      <td>62.737549</td>\n",
       "      <td>67.179145</td>\n",
       "    </tr>\n",
       "    <tr>\n",
       "      <th>279</th>\n",
       "      <td>Peptone</td>\n",
       "      <td>168.000000</td>\n",
       "      <td>7d</td>\n",
       "      <td>./20240321_140300_322/Plate008_Well2_Object9.t...</td>\n",
       "      <td>79.399467</td>\n",
       "      <td>84.327710</td>\n",
       "    </tr>\n",
       "  </tbody>\n",
       "</table>\n",
       "<p>280 rows × 6 columns</p>\n",
       "</div>"
      ],
      "text/plain": [
       "         Food    Time (h)   Time  \\\n",
       "0    Artemina    0.166667  10min   \n",
       "1    Artemina    0.166667  10min   \n",
       "2    Artemina    0.166667  10min   \n",
       "3    Artemina    0.166667  10min   \n",
       "4    Artemina    0.166667  10min   \n",
       "..        ...         ...    ...   \n",
       "275   Peptone  168.000000     7d   \n",
       "276   Peptone  168.000000     7d   \n",
       "277   Peptone  168.000000     7d   \n",
       "278   Peptone  168.000000     7d   \n",
       "279   Peptone  168.000000     7d   \n",
       "\n",
       "                                                  File   Density1    Density2  \n",
       "0    ./20240321_140300_322/Plate000_Well2_Object0.t...  51.179857   54.172832  \n",
       "1    ./20240321_140300_322/Plate000_Well2_Object1.t...  30.520026   32.847825  \n",
       "2    ./20240321_140300_322/Plate000_Well2_Object2.t...  54.462533   57.628959  \n",
       "3    ./20240321_140300_322/Plate000_Well2_Object3.t...  31.864467   33.296578  \n",
       "4    ./20240321_140300_322/Plate000_Well2_Object4.t...  51.755009   53.461218  \n",
       "..                                                 ...        ...         ...  \n",
       "275  ./20240321_140300_322/Plate008_Well2_Object5.t...  68.708883   71.880062  \n",
       "276  ./20240321_140300_322/Plate008_Well2_Object6.t...  97.821783  100.991933  \n",
       "277  ./20240321_140300_322/Plate008_Well2_Object7.t...  72.096183   76.008379  \n",
       "278  ./20240321_140300_322/Plate008_Well2_Object8.t...  62.737549   67.179145  \n",
       "279  ./20240321_140300_322/Plate008_Well2_Object9.t...  79.399467   84.327710  \n",
       "\n",
       "[280 rows x 6 columns]"
      ]
     },
     "execution_count": 78,
     "metadata": {},
     "output_type": "execute_result"
    }
   ],
   "source": [
    "normal_df = melted_df.pivot(index=['Food', 'Time (h)', 'Time', 'File'], columns='Density', values='Value').reset_index()\n",
    "normal_df.columns = ['Food', 'Time (h)', 'Time', 'File', 'Density1', 'Density2']\n",
    "normal_df"
   ]
  },
  {
   "cell_type": "code",
   "execution_count": null,
   "metadata": {},
   "outputs": [],
   "source": []
  }
 ],
 "metadata": {
  "kernelspec": {
   "display_name": "napari",
   "language": "python",
   "name": "python3"
  },
  "language_info": {
   "codemirror_mode": {
    "name": "ipython",
    "version": 3
   },
   "file_extension": ".py",
   "mimetype": "text/x-python",
   "name": "python",
   "nbconvert_exporter": "python",
   "pygments_lexer": "ipython3",
   "version": "3.12.7"
  }
 },
 "nbformat": 4,
 "nbformat_minor": 2
}
