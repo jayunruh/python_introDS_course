{
 "cells": [
  {
   "cell_type": "markdown",
   "id": "19419cf8-6f91-4b59-a880-76db08ffbe35",
   "metadata": {},
   "source": [
    "Python comes with a lot of functions, but most of them\n",
    "are not available when you start a program.\n",
    "For example, pretty much any programming language will have a function\n",
    "to calculate the sine of a number.\n",
    "My normal development environment for python has over seventy thousand functions\n",
    "defined in it!\n",
    "\n",
    "It would be madness if every function ever defined was always accessible.\n",
    "Plus, you'd have collisions. A program that reads `bed` files from disk might have a\n",
    "function called `open`, and a program that creates a database connection might also\n",
    "have a function called `open`. \n",
    "\n",
    "To deal with this, Python uses a module system. \n",
    "A module is a file containing Python code with function\n",
    "definitions (and possibly other stuff) that you can load up using the\n",
    "`import` statement."
   ]
  },
  {
   "cell_type": "code",
   "execution_count": 1,
   "id": "d412ebfe-8ceb-4743-8776-fc16054685a5",
   "metadata": {},
   "outputs": [],
   "source": [
    "import math"
   ]
  },
  {
   "cell_type": "markdown",
   "id": "fcd76e7d-3c65-4ebc-bd50-8ac5fc32a747",
   "metadata": {},
   "source": [
    "You'll notice that the import statement didn't create any output.\n",
    "What it did is it read in the file containing Python's math functions.\n",
    "I can name a function from that module to use it."
   ]
  },
  {
   "cell_type": "code",
   "execution_count": 2,
   "id": "aaf8152a-1950-41df-a74b-927bd051a25e",
   "metadata": {},
   "outputs": [
    {
     "name": "stdout",
     "output_type": "stream",
     "text": [
      "-0.5440211108893698\n"
     ]
    }
   ],
   "source": [
    "print(math.sin(10))"
   ]
  },
  {
   "cell_type": "markdown",
   "id": "672f99b2-9e45-4e51-bd19-8e7a9796f070",
   "metadata": {},
   "source": [
    "You can create your own modules, too, but you can't easily do it with\n",
    "Jupyter notebooks, so I won't cover that here.\n"
   ]
  },
  {
   "cell_type": "code",
   "execution_count": 3,
   "id": "bd06abaf-a5bb-4383-9d1f-513f5ff4cf47",
   "metadata": {},
   "outputs": [
    {
     "name": "stdout",
     "output_type": "stream",
     "text": [
      "the die rolled a  3\n"
     ]
    }
   ],
   "source": [
    "# There's another syntax you can use to import specific names from modules\n",
    "from random import randint\n",
    "print(\"the die rolled a \", randint(1,6))"
   ]
  },
  {
   "cell_type": "markdown",
   "id": "305ae91e-e6b9-4fe7-a7a9-030080506887",
   "metadata": {},
   "source": [
    "The `from x import y` syntax means that you can just refer to `y` and not\n",
    "have to write `x.y` to get the same effect.\n",
    "In general, I prefer the first form because it makes it clear in your code\n",
    "where your functions are coming from.\n",
    "If I were deep in your code and I saw a call to `gaussian_filter1d`, I wouldn't know\n",
    "if that were a function you defined in the same file or something from a module.\n",
    "but if I saw `signal.gaussian_filter1d`, I'd know immediately that it was from a module."
   ]
  },
  {
   "cell_type": "code",
   "execution_count": 4,
   "id": "64f1fffc-a5f6-4298-8427-51194c4110c6",
   "metadata": {},
   "outputs": [],
   "source": [
    "# Oh, one last thing: you can rename imports, like this:\n",
    "import numpy as np\n",
    "def makeAr():\n",
    "    x = np.zeros((5,5))\n",
    "    print(x)"
   ]
  },
  {
   "cell_type": "markdown",
   "id": "e52270f4-e6d2-45bf-a40c-3bd2a1e9bd68",
   "metadata": {},
   "source": [
    "This is very handy when you're using a module with a long name\n",
    "a lot in your code, so you can say\n",
    "`import scipy.image_processing.filter_utilities.convolutional_filters as filters`\n",
    "and then just have\n",
    "`x = filters.gaussian_filter1d(image)`\n",
    "instead of the whole entire name of the package."
   ]
  },
  {
   "cell_type": "code",
   "execution_count": 5,
   "id": "a69c6697-3576-4552-b5b1-40562bfe5862",
   "metadata": {},
   "outputs": [
    {
     "name": "stdout",
     "output_type": "stream",
     "text": [
      "[[0. 0. 0. 0. 0.]\n",
      " [0. 0. 0. 0. 0.]\n",
      " [0. 0. 0. 0. 0.]\n",
      " [0. 0. 0. 0. 0.]\n",
      " [0. 0. 0. 0. 0.]]\n"
     ]
    }
   ],
   "source": [
    "makeAr()"
   ]
  }
 ],
 "metadata": {
  "kernelspec": {
   "display_name": "Python 3 (ipykernel)",
   "language": "python",
   "name": "python3"
  },
  "language_info": {
   "codemirror_mode": {
    "name": "ipython",
    "version": 3
   },
   "file_extension": ".py",
   "mimetype": "text/x-python",
   "name": "python",
   "nbconvert_exporter": "python",
   "pygments_lexer": "ipython3",
   "version": "3.12.10"
  }
 },
 "nbformat": 4,
 "nbformat_minor": 5
}
