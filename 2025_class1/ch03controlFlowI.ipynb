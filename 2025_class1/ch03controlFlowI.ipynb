{
 "cells": [
  {
   "cell_type": "code",
   "execution_count": 1,
   "id": "197cbe88-6bda-4560-9593-fc4784e4d096",
   "metadata": {},
   "outputs": [],
   "source": [
    "from random import randint\n",
    "# I'm using randint again, you've used it already. "
   ]
  },
  {
   "cell_type": "markdown",
   "id": "a517f86c-a94d-4b2d-87c1-ae2eede847df",
   "metadata": {},
   "source": [
    "## if\n",
    "Here we introduce a simple statement, the `if` statement.\n",
    "What do you think this code does:"
   ]
  },
  {
   "cell_type": "code",
   "execution_count": 2,
   "id": "be854a1c-3b66-4204-b10d-0038fe294502",
   "metadata": {},
   "outputs": [],
   "source": [
    "def compareWith5(usersNumber):\n",
    "    if(usersNumber > 5):\n",
    "        print(\"Your number is greater than five!\")\n",
    "    else:\n",
    "        print(\"your number is smaller than five!\")"
   ]
  },
  {
   "cell_type": "markdown",
   "id": "ee833e8b-e10d-4a79-9799-ede8e78f4b9d",
   "metadata": {},
   "source": [
    "      \n",
    "So the if statement is pretty simple. In general:\n",
    "\n",
    "```\n",
    "if(condition):\n",
    "    stuff to do if condition is true\n",
    "elif(condition2):\n",
    "    stuff to do when condition2 is true (but condition is false)\n",
    "elif(condition3):\n",
    "    stuff to do when condition3 is true but neither condition1 nor condition2\n",
    "    are true\n",
    "<more elifs as you see fit>...\n",
    "else:\n",
    "    stuff to do if none of the previous things happened\n",
    "stuff to do regardless.\n",
    "```"
   ]
  },
  {
   "cell_type": "code",
   "execution_count": 3,
   "id": "d1e3399a-3e79-4d14-836c-de96388025ae",
   "metadata": {},
   "outputs": [],
   "source": [
    "#the else (and elif) is optional. So this is also valid:\n",
    "\n",
    "def multiLineIf():\n",
    "    randNum = randint(1,100)\n",
    "    if(50 < randNum):\n",
    "        randNum = 1\n",
    "        print(\"I adjusted the number; it was too high.\")\n",
    "    print(randNum)"
   ]
  },
  {
   "cell_type": "markdown",
   "id": "e2fe90e7-46c2-4d01-ba8b-2f0a10e088aa",
   "metadata": {},
   "source": [
    "## Indents\n",
    "\n",
    "Python uses the number of spaces at the beginning of a line to figure out\n",
    "what statements go with what if.\n",
    "\n",
    "The if statement views any indented code below it as a block that it should run\n",
    "```\n",
    "if(condition):\n",
    "    these lines\n",
    "    are indented\n",
    "    so the if\n",
    "    statement will\n",
    "    view them as\n",
    "    though they\n",
    "    are just one\n",
    "    big statement.\n",
    "these lines\n",
    "are not indented\n",
    "so they will happen\n",
    "whether the if is called\n",
    "or not.\n",
    "```\n"
   ]
  },
  {
   "cell_type": "markdown",
   "id": "8377647e-e3b6-4f21-a4ed-e7ac6951da25",
   "metadata": {},
   "source": [
    "## Comparison operators\n",
    "Here are the comparison operators:\n",
    "*  `<`   less than\n",
    "*  `>`   greater than\n",
    "*  `<=`  less than or equals\n",
    "*  `>=`  greater than or equals\n",
    "*  `==`  equals\n",
    "*  `!=`  not equals.\n",
    "\n",
    "Nota bene:\n",
    "In Python, `=` is assignment. It is NOT an equality check.\n",
    "To check if two values are the same, use `==`\n",
    "Fortunately, `if(x=3):`\n",
    "is a syntax error in Python, so it's harder to make this mistake. "
   ]
  },
  {
   "cell_type": "code",
   "execution_count": 4,
   "id": "f6e0db51-4856-45f5-acd5-3a7474ebdcf0",
   "metadata": {},
   "outputs": [],
   "source": [
    "# A contrived example: sorting three numbers.\n",
    "# I'll use if statements to sort three numbers.\n",
    "def sort3():\n",
    "    a = randint(1,1000)\n",
    "    b = randint(1,1000)\n",
    "    c = randint(1,1000)\n",
    "    # now, find the largest number.\n",
    "    if ((a > b) and (a > c)):\n",
    "        largest = a\n",
    "        if(b > c):\n",
    "            second = b\n",
    "            third = c\n",
    "        else:\n",
    "            second = c\n",
    "            third = b\n",
    "    elif(b > c):  # At this point, I know a is not the largest.\n",
    "        largest = b\n",
    "        if(c > a):\n",
    "            second = c\n",
    "            third = a\n",
    "        else:\n",
    "            second = a\n",
    "            third = c\n",
    "    else:  # neither a nor b were the largest therefore c must be. \n",
    "        largest = c\n",
    "        if(b < a):\n",
    "            second = a\n",
    "            third = b\n",
    "        else:\n",
    "            second = b\n",
    "            third = a\n",
    "            \n",
    "    print(largest, second, third)"
   ]
  },
  {
   "cell_type": "code",
   "execution_count": 5,
   "id": "cb12d8ec-e537-48f8-b408-3800a8195e5c",
   "metadata": {},
   "outputs": [],
   "source": [
    "# We can test to see if n is divisible by k by checking if (0 == n % k)\n",
    "# We'll use this a lot.\n",
    "\n",
    "# Example program:\n",
    "# Get two numbers, one from 100 to 1000, another from 1 to 5.\n",
    "# see if the first is divisible by the second.\n",
    "def isDivisible():\n",
    "    a = randint(100,1000)\n",
    "    b = randint(1,5)\n",
    "    if(0 == a % b):\n",
    "        print(\"a is divisible by b.\")\n",
    "\n",
    "\n",
    "# Finally, the literals for truth and falsehood are True and False, respectively.\n",
    "def trueFalse():\n",
    "    a = 10\n",
    "    b = a == 10  # Since a is defined to be 10, a == 10 should return True.\n",
    "    if(b):\n",
    "        print(\"a was ten.\")\n",
    "    T0=True\n",
    "    F0=False\n",
    "    if(T0 and False):\n",
    "        print(\"true and false is true.\")\n",
    "    if(True or F0):\n",
    "        print(\"True or False is true.\")\n",
    "    if(T0 and not F0):\n",
    "        print(\"true and not false is true.\")\n",
    "    if(True != False):\n",
    "        print(\"True is not the same as False.\")\n",
    "\n",
    "# Here's another contrived example:\n",
    "def strEqual(str1, str2):\n",
    "    if (str1 == str2):\n",
    "        print(\"The strings are exactly equal\")\n",
    "    elif (str1[0] == str2[0]):\n",
    "        print(\"The strings are unequal but have the same first character\")\n",
    "    else:\n",
    "        print(\"The strings have different first letters.\")"
   ]
  },
  {
   "cell_type": "markdown",
   "id": "c62aea97-46aa-4eb3-a080-f828caf6e096",
   "metadata": {},
   "source": [
    "## Exercises\n",
    "\n",
    "1. Rewrite the temperature converter, this time taking two arguments.\n",
    "Finish the program so that it converts from C to F if scale starts with C,\n",
    "and from F to C if the scale starts with F. Print the result. "
   ]
  },
  {
   "cell_type": "code",
   "execution_count": 6,
   "id": "fd623421-0d07-497c-94cc-f03fd756ba37",
   "metadata": {},
   "outputs": [],
   "source": [
    "def tempConv(initialTemp,scale):\n",
    "    pass"
   ]
  },
  {
   "cell_type": "markdown",
   "id": "269280f3-c44e-409c-a642-ea9003c9ffad",
   "metadata": {},
   "source": [
    "2. Write a program that takes a number from the user and checks if it's even.\n",
    "If it's even, return True. Otherwise, return False.\n",
    "(remember, even numbers are divisible by two.)"
   ]
  },
  {
   "cell_type": "code",
   "execution_count": 7,
   "id": "15a2e988-cc1d-473c-93ba-c3c91b6db680",
   "metadata": {},
   "outputs": [],
   "source": [
    "def isEven(n):\n",
    "    pass"
   ]
  },
  {
   "cell_type": "markdown",
   "id": "89ed2cc5-c37b-4539-a559-04295f0b1db0",
   "metadata": {},
   "source": [
    "3. Modify isEven to not include an \"if\" at all. It should be very short!"
   ]
  },
  {
   "cell_type": "code",
   "execution_count": null,
   "id": "65a50983-6948-4ad6-8866-2131c9aef7fb",
   "metadata": {},
   "outputs": [],
   "source": []
  },
  {
   "cell_type": "markdown",
   "id": "dc65802f-c86b-4299-91fe-6e7eb58dacdd",
   "metadata": {},
   "source": [
    "4. Modify your function from exercise 2.\n",
    "Have it check if the number they entered is\n",
    "divisible by both three AND two. "
   ]
  },
  {
   "cell_type": "code",
   "execution_count": 8,
   "id": "b5bb24db-04ba-44ed-9718-50ecde9d8928",
   "metadata": {},
   "outputs": [],
   "source": [
    "def is3and2(n):\n",
    "    pass"
   ]
  },
  {
   "cell_type": "markdown",
   "id": "44f3f45b-da4b-4513-bf11-838a16ea2b4e",
   "metadata": {},
   "source": [
    " 5. Write a program that takes a string and checks to see if the first character\n",
    "is `A`, `G`, `T`, or `C`. It should return `True` or `False`."
   ]
  },
  {
   "cell_type": "code",
   "execution_count": 9,
   "id": "7dc621e7-0fbf-4781-b1ca-dbc654ee61df",
   "metadata": {},
   "outputs": [],
   "source": [
    "def isValidFirstBase(baseStr):\n",
    "    pass"
   ]
  }
 ],
 "metadata": {
  "kernelspec": {
   "display_name": "Python 3 (ipykernel)",
   "language": "python",
   "name": "python3"
  },
  "language_info": {
   "codemirror_mode": {
    "name": "ipython",
    "version": 3
   },
   "file_extension": ".py",
   "mimetype": "text/x-python",
   "name": "python",
   "nbconvert_exporter": "python",
   "pygments_lexer": "ipython3",
   "version": "3.12.10"
  }
 },
 "nbformat": 4,
 "nbformat_minor": 5
}
