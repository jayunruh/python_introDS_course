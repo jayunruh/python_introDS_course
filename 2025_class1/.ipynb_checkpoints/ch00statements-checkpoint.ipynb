{
 "cells": [
  {
   "cell_type": "code",
   "execution_count": 1,
   "id": "bf1ab6f6-b05f-4b3f-b30c-8738cb50e43e",
   "metadata": {},
   "outputs": [
    {
     "name": "stdout",
     "output_type": "stream",
     "text": [
      "hello world\n"
     ]
    }
   ],
   "source": [
    "# Lines of code that start with a pound sign (#) are comments and are \n",
    "# ignored by the Python interpreter.\n",
    "\n",
    "# We'll start with the classic first program in any programming language:\n",
    "# making the computer write \"hello world\" to the screen. In Python, this is easy.\n",
    "print(\"hello world\")\n",
    "\n",
    "# In Jupyter, pressing control-enter (or command-enter on a mac) will cause the\n",
    "# selected cell to be executed by the Python interpreter."
   ]
  },
  {
   "cell_type": "code",
   "execution_count": 2,
   "id": "0bbafaee-13e4-4cf3-a8a9-1e34ed0879d6",
   "metadata": {},
   "outputs": [],
   "source": [
    "# Let's break that statement down a bit. \n",
    "# First, there is the word `print`, then an open parentheses\n",
    "# and then the characters `hello world` are enclosed in \"double quotes\".\n",
    "# Any stream of characters enclosed in quotes, either 'single quotes'\n",
    "# or \"double quotes\", is called a string (or str). Python will treat it\n",
    "# as a string of characters and won't try to figure out what they mean.\n",
    "# The print( ... ) syntax is a command to the Python interpreter that\n",
    "# the user would like whatever is inside the parentheses displayed on\n",
    "# the screen.\n"
   ]
  },
  {
   "cell_type": "code",
   "execution_count": 3,
   "id": "26aeec19-95a5-4e0c-a812-f8a6301a2382",
   "metadata": {},
   "outputs": [
    {
     "name": "stdout",
     "output_type": "stream",
     "text": [
      "4\n",
      "387420489\n",
      "3 + 4\n"
     ]
    }
   ],
   "source": [
    "# We can use print to serve as a calculator. \n",
    "print(2 + 2)\n",
    "print(9 ** 9)  # The ** operator means power, so this is 9 raised to the 9th power.\n",
    "\n",
    "# But remember that double quotes mean that Python shouldn't evaluate the string, so\n",
    "print(\"3 + 4\")\n",
    "# just displays the string without doing any math."
   ]
  },
  {
   "cell_type": "code",
   "execution_count": null,
   "id": "3be119ef-6f3e-48e0-8739-048b9cce8b46",
   "metadata": {},
   "outputs": [],
   "source": []
  },
  {
   "cell_type": "code",
   "execution_count": null,
   "id": "6dd9aa79-3c3a-42f5-8ecb-5b544c7da3c9",
   "metadata": {},
   "outputs": [],
   "source": []
  },
  {
   "cell_type": "code",
   "execution_count": null,
   "id": "d75dac20-464a-4770-8456-15da374990ba",
   "metadata": {},
   "outputs": [],
   "source": [
    "\n"
   ]
  }
 ],
 "metadata": {
  "kernelspec": {
   "display_name": "Python 3 (ipykernel)",
   "language": "python",
   "name": "python3"
  },
  "language_info": {
   "codemirror_mode": {
    "name": "ipython",
    "version": 3
   },
   "file_extension": ".py",
   "mimetype": "text/x-python",
   "name": "python",
   "nbconvert_exporter": "python",
   "pygments_lexer": "ipython3",
   "version": "3.11.7"
  }
 },
 "nbformat": 4,
 "nbformat_minor": 5
}
