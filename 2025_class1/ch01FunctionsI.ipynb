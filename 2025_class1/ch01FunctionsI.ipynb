{
 "cells": [
  {
   "cell_type": "markdown",
   "id": "713dce04-d25f-4627-bf27-e9f427f2b79e",
   "metadata": {},
   "source": [
    "## Functions\n",
    "We will often need to perform a simple task many times. To help this,\n",
    "Python lets us define functions. Functions are named bits of code\n",
    "that we can call later on.\n",
    "To do this, you use the `def` keyword, and then give the name of your\n",
    "function, and then an open and close paren, and then a colon:"
   ]
  },
  {
   "cell_type": "code",
   "execution_count": 8,
   "id": "61833918-74ce-42f4-9c90-3894355c3d63",
   "metadata": {},
   "outputs": [],
   "source": [
    "def sampleFunction():\n",
    "    print(\"Running from inside function.\")"
   ]
  },
  {
   "cell_type": "markdown",
   "id": "348fb876-4b48-4118-a438-1e0b1d99b544",
   "metadata": {},
   "source": [
    "Note how the `print` statement is indented. This is not optional!\n",
    "The code that the function represents must be indented.\n",
    "When the code stops being indented, the function definition is over.\n",
    "\n",
    "If you run that cell by pressing control-enter (command-enter on mac),\n",
    "you'll notice that nothing happens.\n",
    "That's not exactly true. Python reads the function definiton and\n",
    "remembers it for later. It doesn't run the function yet, we need to\n",
    "call it by writing the function name followed by parentheses:"
   ]
  },
  {
   "cell_type": "code",
   "execution_count": 10,
   "id": "d6d6ef60-e223-407c-95c3-a904f7d78cda",
   "metadata": {},
   "outputs": [
    {
     "name": "stdout",
     "output_type": "stream",
     "text": [
      "Running from inside function.\n"
     ]
    }
   ],
   "source": [
    "sampleFunction()"
   ]
  },
  {
   "cell_type": "markdown",
   "id": "15d26082-9efa-4a51-ab0c-eb873a54baa3",
   "metadata": {},
   "source": [
    "## Variables\n",
    "\n",
    "Now that we have a way to name bits of code, is there a way to name other\n",
    "objects? There sure is!"
   ]
  },
  {
   "cell_type": "code",
   "execution_count": 3,
   "id": "db32e452-c651-4389-83b9-e74d68895294",
   "metadata": {},
   "outputs": [],
   "source": [
    "def variableSample():\n",
    "    x = 2 + 2\n",
    "    print(x)"
   ]
  },
  {
   "cell_type": "code",
   "execution_count": 4,
   "id": "5d020658-0b72-4625-83ce-107acbb2125d",
   "metadata": {},
   "outputs": [
    {
     "name": "stdout",
     "output_type": "stream",
     "text": [
      "4\n"
     ]
    }
   ],
   "source": [
    "variableSample()"
   ]
  },
  {
   "cell_type": "markdown",
   "id": "8c79dbda-8b03-4d41-a6e8-601bd103fc8d",
   "metadata": {},
   "source": [
    "Variables are pretty simple. You type a name, then an equals sign, and\n",
    "then an expression. \n",
    "\n",
    "In Python, a \"name\" starts with a letter (or underscore), followed by letters, underscores, or numbers.\n",
    "An \"expression\" is anything that evaluates to an object.\n",
    "\n",
    "Here are some examples:"
   ]
  },
  {
   "cell_type": "code",
   "execution_count": 11,
   "id": "0dcc246d-df47-4e60-9fa8-0ce5e2d747ae",
   "metadata": {},
   "outputs": [],
   "source": [
    "def expressionsAssignments():\n",
    "    numericVal = 10\n",
    "    nextNumber = numericVal + 1\n",
    "    print(nextNumber)\n",
    "\n",
    "    numberIsLarge = nextNumber > 5\n",
    "    print(\"Is the number large? \", numberIsLarge)\n",
    "    \n",
    "    greeting = \"Who are you?!?! How did you get in my house?!\"\n",
    "    paulIsHappy = True\n",
    "    ruthIsHappy = False\n",
    "    both_are_happy = paulIsHappy and ruthIsHappy\n",
    "    print(\"Are both people happy? \", both_are_happy)\n",
    "    "
   ]
  },
  {
   "cell_type": "code",
   "execution_count": 13,
   "id": "94a4152e-88ac-4ebc-959d-0d661bac5610",
   "metadata": {},
   "outputs": [
    {
     "name": "stdout",
     "output_type": "stream",
     "text": [
      "11\n",
      "Is the number large?  True\n",
      "Are both people happy?  False\n"
     ]
    }
   ],
   "source": [
    "expressionsAssignments()"
   ]
  },
  {
   "cell_type": "code",
   "execution_count": 20,
   "id": "9bced780-e3f9-4d89-b07f-04d3e3c63358",
   "metadata": {},
   "outputs": [],
   "source": [
    "# There are quite a few built-in ways to construct expressions.\n",
    "def operators():\n",
    "    print(2 + 2)  # Addition\n",
    "    print(10 / 3)  # division\n",
    "    print(\"Hello, \" + \"world\")  # Concatenation\n",
    "    print(\"19^6 =\", 19 ** 6)  # Exponentiation\n",
    "    print(10 > 11)  # Comparison\n",
    "    print(90 == 90.0)  # Equality check\n",
    "    # A couple unusual arithmetic operators: Modulus and integer division.\n",
    "    print(13 % 10)  # 13 (mod 10) is 3, because 13 divided by 10 is 1 with a remainder of 3.\n",
    "    print(139 // 16)  # is 8, because 135/16 is 8.6375.\n",
    "    # Integer division truncates toward zero. So 9 // 10 is zero.\n",
    "    # Python obeys the usual order of operations.\n",
    "    print(4 + 2 * 11)\n",
    "    # And you can make expressions as complex as you like\n",
    "    complexVal = ((4 + 2 * 3) // 2) == (1 / 0.2)\n",
    "    print(complexVal)"
   ]
  },
  {
   "cell_type": "code",
   "execution_count": 15,
   "id": "a8a89fd9-451e-4f47-bc96-dc50891bcb5e",
   "metadata": {},
   "outputs": [
    {
     "name": "stdout",
     "output_type": "stream",
     "text": [
      "4\n",
      "3.3333333333333335\n",
      "Hello, world\n",
      "19^6 = 47045881\n",
      "False\n",
      "True\n",
      "3\n",
      "8\n",
      "26\n",
      "True\n"
     ]
    }
   ],
   "source": [
    "operators()"
   ]
  },
  {
   "cell_type": "code",
   "execution_count": 16,
   "id": "9a90198b-8a6a-4c09-b393-baf3287b792b",
   "metadata": {},
   "outputs": [],
   "source": [
    "# It's probably worth pointing out that arithmetic on integers in python is exact,\n",
    "# but only approximate for numbers with decimals (known as floating-point numbers)\n",
    "def weirdArithmetic():\n",
    "    print(((((1 - 0.2) - 0.2) - 0.2) - 0.2) - 0.2)"
   ]
  },
  {
   "cell_type": "code",
   "execution_count": 17,
   "id": "c4f48f74-5528-4ffa-a84e-9ad9a0973845",
   "metadata": {},
   "outputs": [
    {
     "name": "stdout",
     "output_type": "stream",
     "text": [
      "5.551115123125783e-17\n"
     ]
    }
   ],
   "source": [
    "weirdArithmetic()"
   ]
  },
  {
   "cell_type": "markdown",
   "id": "ee8106f3-035a-474e-8857-d91ba8e2fea5",
   "metadata": {},
   "source": [
    "## Reassignment\n",
    "Here's a puzzle:"
   ]
  },
  {
   "cell_type": "code",
   "execution_count": 11,
   "id": "3f24017a-d78a-4568-93df-b5f706c9cef6",
   "metadata": {},
   "outputs": [],
   "source": [
    "def reassignment():\n",
    "    x = 5\n",
    "    y = x\n",
    "    x = 3\n",
    "    print(y)"
   ]
  },
  {
   "cell_type": "code",
   "execution_count": 12,
   "id": "8a691e29-4330-4d2b-8d0c-2d91a1e6b740",
   "metadata": {},
   "outputs": [
    {
     "name": "stdout",
     "output_type": "stream",
     "text": [
      "5\n"
     ]
    }
   ],
   "source": [
    "reassignment()"
   ]
  },
  {
   "cell_type": "markdown",
   "id": "82ecd5f1-04d7-425a-aba0-7700aea002a1",
   "metadata": {},
   "source": [
    "This prints `5`, not `3`. When python gets to the line `y = x`, it searches\n",
    "for `x` in the environment and finds that it points to an object in memory.\n",
    "It binds the name `y` to that object. \n",
    "On the next line, `x = 3`, python creates a new object (representing the number 3)\n",
    "and binds the name `x` to it. The previous binding for `x` is lost, but nothing\n",
    "happens to `y` and nothing happened to the object it was bound to.\n",
    "We can take this to the extreme:"
   ]
  },
  {
   "cell_type": "code",
   "execution_count": 29,
   "id": "6e4dff7f-7087-44c3-86a7-034f8d6db52f",
   "metadata": {},
   "outputs": [],
   "source": [
    "def increment():\n",
    "    x = 1\n",
    "    print(x)\n",
    "    print(locals())\n",
    "    x = x + 1\n",
    "    print(x)"
   ]
  },
  {
   "cell_type": "code",
   "execution_count": 30,
   "id": "bf559c2a-4f1e-4143-9557-e79c75457b38",
   "metadata": {},
   "outputs": [
    {
     "name": "stdout",
     "output_type": "stream",
     "text": [
      "1\n",
      "{'x': 1}\n",
      "2\n"
     ]
    }
   ],
   "source": [
    "increment()"
   ]
  },
  {
   "cell_type": "markdown",
   "id": "fe779d68-917d-4dfd-87cb-685d2bd4dcb2",
   "metadata": {},
   "source": [
    "What happened? The first line is simple. Python creates an object\n",
    "representing the number 1 in memory and binds `x` to it.\n",
    "On the second line, Python starts by evaluating the expression on the right\n",
    "and this creates a new object, this one representing the number 2.\n",
    "Python then binds that new object to the name `x`. "
   ]
  },
  {
   "cell_type": "code",
   "execution_count": 15,
   "id": "9feca50b-a13d-4704-90e4-fc7f8a2e77be",
   "metadata": {},
   "outputs": [],
   "source": [
    "# This is actually pretty common in programming, and so there is some shorthand:\n",
    "def assignmentOperators():\n",
    "    x = 5\n",
    "    x += 1  # Rewrites to x = x + 1\n",
    "    x -= 3  # Rewrites to x = x - 3\n",
    "    x *= 4  # Rewrites to x = x * 4\n",
    "    x /= 2  # Rewrites to x = x / 2\n",
    "    # There are some others (%=, //=, **=, &=, |=, ^=, >>=, and <<=)\n",
    "    # but they are very rare. "
   ]
  },
  {
   "cell_type": "markdown",
   "id": "fe3f58db-a096-46cb-ab90-46c6685b8acb",
   "metadata": {},
   "source": [
    "## Global variables\n",
    "I should point out that you can use variables outside of functions, too! \n",
    "I'm going to wrap all of my examples in functions so that my environment stays clean.\n",
    "Here's an easy pitfall in Jupyter. Let's say I define a variable:"
   ]
  },
  {
   "cell_type": "code",
   "execution_count": 16,
   "id": "4afce5c8-381c-4bdd-adcd-6f4962df0f5f",
   "metadata": {},
   "outputs": [],
   "source": [
    "# I should point out that you can use variables outside of functions, too! \n",
    "# I'm going to wrap all of my examples in functions so that my environment stays clean.\n",
    "# Here's an easy pitfall in Jupyter. Let's say I define a variable:\n",
    "index = 100\n",
    "# When I run this cell, the name index gets bound to an object representing\n",
    "# the number 100. "
   ]
  },
  {
   "cell_type": "code",
   "execution_count": 17,
   "id": "548630eb-b0b7-44f8-8da2-a4aa4c03e3ca",
   "metadata": {},
   "outputs": [
    {
     "name": "stdout",
     "output_type": "stream",
     "text": [
      "100\n"
     ]
    }
   ],
   "source": [
    "print(index)"
   ]
  },
  {
   "cell_type": "code",
   "execution_count": 18,
   "id": "4030dd89-7070-4dd8-86bd-f131e635e082",
   "metadata": {},
   "outputs": [],
   "source": [
    "# But \"index\" is a fairly common name.\n",
    "# I may use the name index again later in my notebook,\n",
    "index = \"column_10\""
   ]
  },
  {
   "cell_type": "code",
   "execution_count": 19,
   "id": "5429866d-7cad-42f2-bb57-c693fe0f4788",
   "metadata": {},
   "outputs": [],
   "source": [
    "# Once you've run that cell, go back and run the previous cell, the one\n",
    "# containing print(index). \n",
    "# It's overwritten the previous definition. This is an easy way to create a bug!"
   ]
  },
  {
   "cell_type": "markdown",
   "id": "e1a60e58-11be-4cb8-9bde-ce4591827ed8",
   "metadata": {},
   "source": [
    "## Arguments"
   ]
  },
  {
   "cell_type": "markdown",
   "id": "0c88f062-71a8-484a-b3fb-bedb4f2fcf73",
   "metadata": {},
   "source": [
    "Functions in python are akin to mathematical functions.\n",
    "For example, the (mathematical) function called the logistic function is\n",
    "$logistic(x) = \\frac{1}{1 + e^{-x}}$\n",
    "To write this in Python, we'd do this:"
   ]
  },
  {
   "cell_type": "code",
   "execution_count": 31,
   "id": "dfc12074-ff4e-43ea-8909-e64a4dd7f13a",
   "metadata": {},
   "outputs": [],
   "source": [
    "def showLogistic(x):\n",
    "    print( 1 / (1 + 2.71828 ** (-x)))"
   ]
  },
  {
   "cell_type": "markdown",
   "id": "9caa4f97-ef12-443d-becc-da47403f1cd6",
   "metadata": {},
   "source": [
    "The shape is exactly the same as the functions we've written so far, but\n",
    "there is one difference: There's a parameter name inside the\n",
    "parentheses in the function definition.\n",
    "The parameter name tells Python that the user will need to provide some input\n",
    "in order for the function to work.\n",
    "When you call the function, python will bind the name `x` to whatever object\n",
    "you pass in, but that binding will only exist inside the function. "
   ]
  },
  {
   "cell_type": "code",
   "execution_count": 32,
   "id": "1c9c66cc-eca7-47da-ad6b-915667ae319b",
   "metadata": {},
   "outputs": [
    {
     "name": "stdout",
     "output_type": "stream",
     "text": [
      "0.9999546018259404\n"
     ]
    }
   ],
   "source": [
    "showLogistic(10)"
   ]
  },
  {
   "cell_type": "markdown",
   "id": "901c5b3c-a5ca-4c6b-a4a1-ff7783794cc6",
   "metadata": {},
   "source": [
    "## Return\n",
    "\n",
    "There's an oddity about how this function is written.\n",
    "It calls print, which displays the result on the screen.\n",
    "But what if you wanted to use that number in your code? \n",
    "Like, how would you say\n",
    "`val = 1 + logistic(10)`\n",
    "? If you said \n",
    "`val = 1 + showLogistic(10)`\n",
    "you would get an error, because showLogistic doesn't return a number,\n",
    "it writes characters to the screen.\n",
    "\n",
    "We do this with the return statement, like this:"
   ]
  },
  {
   "cell_type": "code",
   "execution_count": 33,
   "id": "4ce6d468-ef6c-4d28-a41b-c0025208f68f",
   "metadata": {},
   "outputs": [],
   "source": [
    "def logistic(x):\n",
    "    denominator = 1 + 2.71828 ** (-x)\n",
    "    return 1 / denominator"
   ]
  },
  {
   "cell_type": "markdown",
   "id": "0b52b0d9-37c7-4c0d-870f-9e919597def0",
   "metadata": {},
   "source": [
    "The return statement gives the value of the function.\n",
    "Whenever a function call appears in an expression, \n",
    "python will run the function and substitute in the value it returns.\n",
    "For example, if you wrote\n",
    "`print(1 + logistic(10))`\n",
    "then python would see that you're calling something named `logistic`, and \n",
    "would jump to the definition of the function. It would run the\n",
    "code in the function, with `x` being bound to the number 10.\n",
    "Once the function has done its thing, it would return a value (like 0.999)\n",
    "Python would substitute this value into the original expression, effectively\n",
    "creating\n",
    "`print(1 + 0.999)`\n",
    "And execution would continue from there. "
   ]
  },
  {
   "cell_type": "code",
   "execution_count": 38,
   "id": "f9f21acf-2534-4a10-b4e5-d8065a978b94",
   "metadata": {},
   "outputs": [
    {
     "name": "stdout",
     "output_type": "stream",
     "text": [
      "1.9999546018259404\n",
      "0.006692873283488897\n"
     ]
    }
   ],
   "source": [
    "print(1 + logistic(10))\n",
    "print(logistic(-5))\n"
   ]
  },
  {
   "cell_type": "markdown",
   "id": "46d26734-ba58-46a4-8979-5c5224f90da7",
   "metadata": {},
   "source": [
    "This is key, so let me reiterate:\n",
    "\n",
    "If a function returns a number, you can use it in any place where your code expects a number. If your function returns a date, you can use\n",
    "it anywhere you'd expect a date. Etc., etc.                             \n",
    "\n",
    "\n",
    "To rephrase, `sin` is a function. It is a name that is associated with some \n",
    "code in some python file that takes a number and calculates its sine.\n",
    "When you say `x = sin(0)`, python first evaluates the right-hand side of \n",
    "that statement and goes off and runs the code that is called `sin`,\n",
    "giving that code an argument of 0. When `sin(0)` returns, it is \n",
    "*replaced by its return value*. So the statement becomes `x = 0`.\n",
    "Python does not think of `x` in terms of the sine of a number. As far\n",
    "as Python is concerned, `x` is just the number zero. "
   ]
  },
  {
   "cell_type": "code",
   "execution_count": null,
   "id": "60214619-1703-40b1-92bd-97b123b763e3",
   "metadata": {},
   "outputs": [],
   "source": []
  },
  {
   "cell_type": "markdown",
   "id": "09c1763f-a793-425c-b6f2-3852076eeae8",
   "metadata": {},
   "source": [
    "## String indexing\n",
    "One last thing for variables.\n",
    "Python has a syntax to access an individual character in a string. \n",
    "It uses square brackets, and the count starts with 0 instead of 1."
   ]
  },
  {
   "cell_type": "code",
   "execution_count": 24,
   "id": "64c07b29-8d9d-4ed6-8410-3b91aac8563a",
   "metadata": {},
   "outputs": [],
   "source": [
    "def checkString():\n",
    "    initialString = \"aoeu\"\n",
    "    print(\"the string starts with \", initialString[0])\n",
    "    #We could get the third character like this:\n",
    "    print(\"The third character is \", initialString[2])"
   ]
  },
  {
   "cell_type": "markdown",
   "id": "c0d0da7d-d268-4900-93c0-60c53a68bf24",
   "metadata": {},
   "source": [
    "## Exercises"
   ]
  },
  {
   "cell_type": "markdown",
   "id": "f462b0ff-9676-4809-ad74-b54287453b26",
   "metadata": {},
   "source": [
    "1. Write a function that converts a temperature in Celsius to Fahrenheit.\n",
    "It should take the celsius temperature as an argument and return the Fahrenheit temperature."
   ]
  },
  {
   "cell_type": "code",
   "execution_count": null,
   "id": "10b1913e-7343-4521-9688-7112920e77df",
   "metadata": {},
   "outputs": [],
   "source": []
  },
  {
   "cell_type": "markdown",
   "id": "f59ab41d-987e-4d50-a289-02dd8c5b7fa0",
   "metadata": {},
   "source": [
    "2. Write a function that takes two arguments, a and b, and returns a*b-a-b."
   ]
  },
  {
   "cell_type": "code",
   "execution_count": null,
   "id": "871f159c-ed8e-4b8d-9f8d-9e55444c2b91",
   "metadata": {},
   "outputs": [],
   "source": []
  },
  {
   "cell_type": "markdown",
   "id": "44a920d0-0276-4e26-97d2-c84dd8143721",
   "metadata": {},
   "source": [
    "3. Track the value of each of the following variables during this program.\n",
    "Just fill out the table with the values as they change.\n",
    "(don't run the code, do it by hand.)"
   ]
  },
  {
   "cell_type": "code",
   "execution_count": 25,
   "id": "fc7625ff-8220-4cc6-aca3-8ecebd04c6b9",
   "metadata": {},
   "outputs": [],
   "source": [
    "def exercise3():\n",
    "                    # a | b | c #\n",
    "    a = 1           # 1 | ? | ? #\n",
    "    b = 1           # 1 | 1 | ? #\n",
    "    c = 1           # 1 | 1 | 1 #\n",
    "    a = b + c       # 2 | 1 | 1 #\n",
    "    b = a + c       # 2 |   |   #\n",
    "    c = b + a       #   |   |   #\n",
    "    b = c           #   |   | 5 #\n",
    "    a = a + b       #   |   |   #\n",
    "    c = c * c       # 7 | 5 |   #"
   ]
  }
 ],
 "metadata": {
  "kernelspec": {
   "display_name": "Python 3 (ipykernel)",
   "language": "python",
   "name": "python3"
  },
  "language_info": {
   "codemirror_mode": {
    "name": "ipython",
    "version": 3
   },
   "file_extension": ".py",
   "mimetype": "text/x-python",
   "name": "python",
   "nbconvert_exporter": "python",
   "pygments_lexer": "ipython3",
   "version": "3.12.10"
  }
 },
 "nbformat": 4,
 "nbformat_minor": 5
}
