{
 "cells": [
  {
   "cell_type": "markdown",
   "id": "7f5921cc-7065-4567-9ac8-aa3597b7469e",
   "metadata": {},
   "source": [
    "## hello world\n",
    "Lines of code that start with a pound sign (`#`) are comments and are \n",
    "ignored by the Python interpreter.\n",
    "\n",
    "We'll start with the classic first program in any programming language:\n",
    "making the computer write `hello world` to the screen. In Python, this is easy."
   ]
  },
  {
   "cell_type": "code",
   "execution_count": 3,
   "id": "0a7fb34e-a822-4986-8818-b16013452742",
   "metadata": {},
   "outputs": [
    {
     "name": "stdout",
     "output_type": "stream",
     "text": [
      "hello world\n"
     ]
    }
   ],
   "source": [
    "# Call the print function.\n",
    "print(\"hello world\")"
   ]
  },
  {
   "cell_type": "markdown",
   "id": "c991723f-890b-4a74-a2d5-3d874b42c0cd",
   "metadata": {},
   "source": [
    "In Jupyter, pressing control-enter (or command-enter on a mac) will cause the\n",
    "selected cell to be executed by the Python interpreter."
   ]
  },
  {
   "cell_type": "markdown",
   "id": "71feb4c9-15c3-43f0-9381-692f3985715a",
   "metadata": {},
   "source": [
    "Let's break that statement down a bit. \n",
    "First, there is the word `print`, then an open parentheses\n",
    "and then the characters `hello world` are enclosed in \"double quotes\".\n",
    "Any stream of characters enclosed in quotes, either 'single quotes'\n",
    "or \"double quotes\", is called a string (or str). Python will treat it\n",
    "as a string of characters and won't try to figure out what they mean.\n",
    "The `print( ... )` syntax is a command to the Python interpreter that\n",
    "the user would like whatever is inside the parentheses displayed on\n",
    "the screen.\n"
   ]
  },
  {
   "cell_type": "code",
   "execution_count": 2,
   "id": "26aeec19-95a5-4e0c-a812-f8a6301a2382",
   "metadata": {},
   "outputs": [
    {
     "name": "stdout",
     "output_type": "stream",
     "text": [
      "4\n",
      "387420489\n",
      "3 + 4\n"
     ]
    }
   ],
   "source": [
    "# We can use print to serve as a calculator. \n",
    "print(2 + 2)\n",
    "print(9 ** 9)  # The ** operator means power, so this is 9 raised to the 9th power.\n",
    "\n",
    "# But remember that double quotes mean that Python shouldn't evaluate the string, so\n",
    "print(\"3 + 4\")\n",
    "# just displays the string without doing any math."
   ]
  }
 ],
 "metadata": {
  "kernelspec": {
   "display_name": "Python 3 (ipykernel)",
   "language": "python",
   "name": "python3"
  },
  "language_info": {
   "codemirror_mode": {
    "name": "ipython",
    "version": 3
   },
   "file_extension": ".py",
   "mimetype": "text/x-python",
   "name": "python",
   "nbconvert_exporter": "python",
   "pygments_lexer": "ipython3",
   "version": "3.12.10"
  }
 },
 "nbformat": 4,
 "nbformat_minor": 5
}
