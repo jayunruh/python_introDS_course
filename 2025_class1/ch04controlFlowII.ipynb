{
 "cells": [
  {
   "cell_type": "markdown",
   "id": "68c48f96-3aa5-47cc-a8be-a077c9fa2dd1",
   "metadata": {},
   "source": [
    "This chapter introduces the last necessity of structured programming:\n",
    "The ability to repeat a segment of code.\n",
    "## for loops\n",
    "First, the easy one: `for`.\n",
    "for does something a set number of times. Here's the syntax:"
   ]
  },
  {
   "cell_type": "code",
   "execution_count": 1,
   "id": "9d1613b6-090b-4b1e-b02c-1f245043049c",
   "metadata": {},
   "outputs": [],
   "source": [
    "def iteration():\n",
    "    for var in range(0, 10):\n",
    "        print(\"I'm in the loop!\")\n",
    "    print(\"I'm out of the loop!\")\n",
    "\n",
    "    # var is the name of a variable. At the beginning of\n",
    "    # each pass, it will be increased by one.\n",
    "    # We can use var inside the loop, thus:\n",
    "\n",
    "    for var in range(0, 10):\n",
    "        print(\"var is \", var)\n",
    "    print(\"the loop is done.\")"
   ]
  },
  {
   "cell_type": "code",
   "execution_count": 2,
   "id": "7b427040-26cb-4e45-a38a-bf5d1ba44506",
   "metadata": {},
   "outputs": [
    {
     "name": "stdout",
     "output_type": "stream",
     "text": [
      "I'm in the loop!\n",
      "I'm in the loop!\n",
      "I'm in the loop!\n",
      "I'm in the loop!\n",
      "I'm in the loop!\n",
      "I'm in the loop!\n",
      "I'm in the loop!\n",
      "I'm in the loop!\n",
      "I'm in the loop!\n",
      "I'm in the loop!\n",
      "I'm out of the loop!\n",
      "var is  0\n",
      "var is  1\n",
      "var is  2\n",
      "var is  3\n",
      "var is  4\n",
      "var is  5\n",
      "var is  6\n",
      "var is  7\n",
      "var is  8\n",
      "var is  9\n",
      "the loop is done.\n"
     ]
    }
   ],
   "source": [
    "iteration()"
   ]
  },
  {
   "cell_type": "markdown",
   "id": "7bcfa9eb-b0a7-4e6b-9b20-1c9b933434b7",
   "metadata": {},
   "source": [
    "If you run that, you'll see that var takes on the values from zero to nine.\n",
    "(the reason it's not 0 to 10 is that you'd pass through the loop eleven times\n",
    "if you did that - more on this later.)"
   ]
  },
  {
   "cell_type": "markdown",
   "id": "4731f6bc-cb8a-4615-9db3-56276e2adfef",
   "metadata": {},
   "source": [
    "Example: the factorial function.\n",
    "`factorial(5)` is defined to be `5*4*3*2*1`. We'll use a variable to accumulate\n",
    "the product."
   ]
  },
  {
   "cell_type": "code",
   "execution_count": 10,
   "id": "cb5db561-6bff-4486-aa9d-81c011c97027",
   "metadata": {},
   "outputs": [],
   "source": [
    "def factorial(numberToFact):\n",
    "    accum = 1\n",
    "    for i in range(1,numberToFact + 1): # numberToFact + 1 so it actually gets\n",
    "                                        # the last one.\n",
    "        accum = accum * i\n",
    "    print (numberToFact, \" factorial is \",accum)\n",
    "    return accum\n",
    "    "
   ]
  },
  {
   "cell_type": "code",
   "execution_count": 11,
   "id": "c09530a1-39fb-4cb6-a756-ea2f4d2b2b4a",
   "metadata": {},
   "outputs": [
    {
     "name": "stdout",
     "output_type": "stream",
     "text": [
      "5  factorial is  120\n",
      "120\n"
     ]
    }
   ],
   "source": [
    "print(factorial(5))"
   ]
  },
  {
   "cell_type": "code",
   "execution_count": 7,
   "id": "1367f80c-fcf0-4471-96cd-6587e2be5180",
   "metadata": {},
   "outputs": [
    {
     "name": "stdout",
     "output_type": "stream",
     "text": [
      "3  factorial is  6\n",
      "6  factorial is  720\n"
     ]
    },
    {
     "data": {
      "text/plain": [
       "720"
      ]
     },
     "execution_count": 7,
     "metadata": {},
     "output_type": "execute_result"
    }
   ],
   "source": [
    "factorial(factorial(3))"
   ]
  },
  {
   "cell_type": "markdown",
   "id": "9597d819-6a18-400b-a9c4-55f5f91456c3",
   "metadata": {},
   "source": [
    "## The `while` loop.\n",
    "\n",
    "This is a more general version of the `for` loop.\n",
    "\n",
    "```\n",
    "while(condition):\n",
    "   stuff to do.\n",
    "stuff to do after condition is false.\n",
    "```"
   ]
  },
  {
   "cell_type": "code",
   "execution_count": 3,
   "id": "c9ce9b29-0180-4e18-b24d-d7e8fc5988ff",
   "metadata": {},
   "outputs": [],
   "source": [
    "def whileDemo():\n",
    "    a = 1\n",
    "    b = 20\n",
    "    while(a <= b):\n",
    "        a = a + 1\n",
    "    print(\" a is \", a, \" and b is \",b)"
   ]
  },
  {
   "cell_type": "markdown",
   "id": "c697102f-30b8-4129-ab3e-c7f9fc07e161",
   "metadata": {},
   "source": [
    "The danger with `while` loops is that condition may never become false.\n",
    "Consider the following:\n",
    "```\n",
    "a = 1\n",
    "b = 2\n",
    "while (a < b):\n",
    "    b = b + 1\n",
    "print(\"Done.\")\n",
    "```\n",
    "\n",
    "This loop will never terminate, because a will never be greater than b. \n",
    "\n",
    "If you know how many times you want something in a loop to happen, use a `for`.\n",
    "Only use `while` loops if the end condition is bizarre."
   ]
  },
  {
   "cell_type": "markdown",
   "id": "0fe47a95-3047-4090-a515-1adad87c92aa",
   "metadata": {},
   "source": [
    "## Exercises"
   ]
  },
  {
   "cell_type": "markdown",
   "id": "97eb9740-b32a-4675-9e12-9791fea1028a",
   "metadata": {},
   "source": [
    "1. write a function to list every number from 1 to 1000 (including 1000) that\n",
    "is divisible by both three AND five."
   ]
  },
  {
   "cell_type": "code",
   "execution_count": 4,
   "id": "c173fb3d-cd7e-4c6b-838d-421305207701",
   "metadata": {},
   "outputs": [],
   "source": [
    "def threeFive():\n",
    "    pass"
   ]
  },
  {
   "cell_type": "markdown",
   "id": "a3f268db-99c5-4519-87e5-694003049c86",
   "metadata": {},
   "source": [
    "2. Write a function that checks to see if each letter in a string is a valid\n",
    "DNA base. It should return 0 if there were no invalid letters, or the number\n",
    "of invalid letters otherwise. You can use `len(stringName)` to calculate the\n",
    "length of a string."
   ]
  },
  {
   "cell_type": "code",
   "execution_count": 5,
   "id": "2a43ed25-09d3-4464-938a-fa8223bea3f7",
   "metadata": {},
   "outputs": [],
   "source": [
    "def numInvalidBases(dna):\n",
    "    pass"
   ]
  },
  {
   "cell_type": "markdown",
   "id": "219bdf8a-181d-47ef-bf4a-737fb31eea04",
   "metadata": {},
   "source": [
    "3. The Collatz conjecture is an interesting mathematical puzzle.\n",
    "It says:\n",
    "* Pick a number n.\n",
    "* If n is even, divide it by two.\n",
    "* If it's odd, multiply it by three and add one.\n",
    "\n",
    "If you repeat this process (dividing or multiplying and adding) enough\n",
    "times, you'll eventually get to one.\n",
    "As an example, if we start with the number 7,\n",
    "* 7 is odd, multiply by three and add one. => 22\n",
    "* 22 is even, divide by two. => 11\n",
    "* 11 is odd, multiply by three and add one. => 34\n",
    "* 34 is even, divide by 2. => 17.\n",
    "\n",
    "and so on. 17 -> 52 -> 26 -> 13 -> 40 -> 20 -> 10 -> 5\n",
    "        -> 16 -> 8 -> 4 -> 2 -> 1\n",
    "        \n",
    "It is believed that every (positive) number converges to 1 eventually.\n",
    "Write a function to generate this sequence for a given number.\n",
    "Have it print each number in the path. Check the program by running 7.\n",
    "You should get the exact same sequence as seen above.\n",
    "Then, try the number 13. How many steps does that take?"
   ]
  },
  {
   "cell_type": "code",
   "execution_count": 6,
   "id": "cf9da965-cd76-4b76-a25d-a5950a1ce750",
   "metadata": {},
   "outputs": [],
   "source": [
    "def collatz(initialNumber):\n",
    "    pass"
   ]
  }
 ],
 "metadata": {
  "kernelspec": {
   "display_name": "Python 3 (ipykernel)",
   "language": "python",
   "name": "python3"
  },
  "language_info": {
   "codemirror_mode": {
    "name": "ipython",
    "version": 3
   },
   "file_extension": ".py",
   "mimetype": "text/x-python",
   "name": "python",
   "nbconvert_exporter": "python",
   "pygments_lexer": "ipython3",
   "version": "3.12.10"
  }
 },
 "nbformat": 4,
 "nbformat_minor": 5
}
