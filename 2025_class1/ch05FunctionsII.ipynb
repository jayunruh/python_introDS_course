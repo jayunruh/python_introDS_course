{
 "cells": [
  {
   "cell_type": "code",
   "execution_count": 5,
   "id": "d7b01d62-ad2b-4281-91cb-7343d502fbb1",
   "metadata": {},
   "outputs": [],
   "source": [
    "from random import randint"
   ]
  },
  {
   "cell_type": "markdown",
   "id": "adc47fd4-d31b-4031-8175-640426d820e3",
   "metadata": {},
   "source": [
    "## Functions review\n",
    "Functions are a way to encapsulate parts of a program.\n",
    "Here, you'll put together everything we've learned so far."
   ]
  },
  {
   "cell_type": "code",
   "execution_count": 1,
   "id": "8966fd6e-3a77-4744-84a4-9be75b6c3b09",
   "metadata": {},
   "outputs": [],
   "source": [
    "# First, define a function that calculates the next number in the Collatz chain.\n",
    "def nextCollatzNumber(initialNum):\n",
    "    \"\"\"Calculates the next Collatz number after initialNum.\n",
    "\n",
    "    The Collatz numbers are given by\n",
    "\n",
    "    next = prev // 2      if prev is even\n",
    "           prev * 3 + 1   if prev is odd\n",
    "    \"\"\"\n",
    "    if (initialNum % 2 == 0):\n",
    "        return initialNum // 2\n",
    "    else:\n",
    "        return (initialNum * 3) + 1\n",
    "\n",
    "# We can now generate the collatz path for 9.\n",
    "def collatz9():\n",
    "    n = 9\n",
    "    pathLength = 0\n",
    "    print(pathLength , n)\n",
    "    while (n != 1):\n",
    "        n = nextCollatzNumber(n)\n",
    "        pathLength = pathLength + 1\n",
    "        print(pathLength, n)\n",
    "    \n",
    "# We could also make that loop a function itself.\n",
    "# This function will calculate the length of the collatz path of n.\n",
    "def collatzPath(n):\n",
    "    \"\"\"How many steps does it take for the Collatz path for n to reach 1?\n",
    "\n",
    "    :param n: The initial number, which must be positive.\n",
    "    :return: An integer giving the number of steps it takes for the Collatz\n",
    "        sequence to reach 1.\n",
    "    \"\"\"\n",
    "    if(n < 1): #A little safety feature: If it's called with n<1,\n",
    "               #safely return without hanging forever. \n",
    "        return -1\n",
    "    pathLength = 0\n",
    "    while (n != 1):\n",
    "        n = nextCollatzNumber(n)\n",
    "        pathLength = pathLength + 1\n",
    "    return pathLength"
   ]
  },
  {
   "cell_type": "code",
   "execution_count": null,
   "id": "110a5cf7-02e0-4392-8063-00a2654fe308",
   "metadata": {},
   "outputs": [],
   "source": [
    "print(\"The path length of 10 is \",collatzPath(10))\n",
    "\n",
    "# Say I want to find the largest number randint(1,10000)\n",
    "# returns when I run it n times.\n",
    "def largestRand(n):\n",
    "    \"\"\"Samples n random numbers from 1 to 10,000 and returns the largest.\"\"\"\n",
    "    largest = 0\n",
    "    for i in range(n):\n",
    "        a = randint(1,10000)\n",
    "        if(a > largest):\n",
    "            largest = a\n",
    "    return largest"
   ]
  },
  {
   "cell_type": "code",
   "execution_count": 5,
   "id": "f1a05a87-6c4a-40d4-aa6a-56eb6c439c47",
   "metadata": {},
   "outputs": [
    {
     "name": "stdout",
     "output_type": "stream",
     "text": [
      "after 100 passes, the largest number returned was  9955\n"
     ]
    }
   ],
   "source": [
    "print(\"after 100 passes, the largest number returned was \",largestRand(100))"
   ]
  },
  {
   "cell_type": "markdown",
   "id": "d447754b-5e72-40cc-a7c4-4d5c221ec6b1",
   "metadata": {},
   "source": [
    "## Decomposition\n",
    "\n",
    "Fundamentally, functions provide a way to encapsulate one logical chunk of\n",
    "a program. Consider a function to perform Monte Carlo integration.\n",
    "(see http://en.wikipedia.org/wiki/Monte_Carlo_integration, we're sampling\n",
    "a function a bunch of times, and the area under that function is its\n",
    "average value times the width of the interval.)\n",
    "There are essentially three components to such a program:\n",
    "1. The main controller that operates the other bits and displays output\n",
    "2. The integrator that samples the function and determines the area under it.\n",
    "3. The function being sampled.\n",
    "\n",
    "On the one hand, we can implement it as one big function.\n",
    "This program takes as arguments the number of samples, the function being\n",
    "integrated, and the bounds of the integration."
   ]
  },
  {
   "cell_type": "code",
   "execution_count": 3,
   "id": "ef786ab9-ea26-40ca-99e4-eb622f783fc2",
   "metadata": {},
   "outputs": [],
   "source": [
    "def monteCarloSingle(numSamples, fname, start, stop):\n",
    "    \"\"\"Integrates the function given by fname from start to stop.\n",
    "\n",
    "    Uses random sampling to calculate\n",
    "\n",
    "    ⌠stop\n",
    "    |       f(x) dx\n",
    "    ⌡start\n",
    "\n",
    "    :param numSamples: How many random samples should be used?\n",
    "    :param fname: The function you want to integrate. Options are:\n",
    "         's', meaning sin(x)\n",
    "         'c', meaning cos(x)\n",
    "         'e', meaning e^x\n",
    "    :param start: The start point of the integral\n",
    "    :param stop: The end point of the integral\n",
    "    :return: Nothing, but does print its result.\n",
    "    \"\"\"\n",
    "    area=0\n",
    "    for i in range(numSamples):\n",
    "        #Get a random number between the start and stop range:\n",
    "        randomNum = randint(0, 1000000) #get a random number\n",
    "        #and convert that integer to a number in our sample domain\n",
    "        x = randomNum / 1000000 * (start - stop) + start\n",
    "        if(fname == 's'): #calculate the sine of the number with a taylor series\n",
    "            funVal = x - 1/6*x**3 + 1/120*x**5 - 1/5040*x**7 + 1/362880*x**9\n",
    "        if(fname == 'c'): #calculate the cosine.\n",
    "            funVal = 1-1/2*x**2 + 1/24*x**4 - 1/720*x**6+1/40320*x**8\n",
    "        if(fname == 'e'): #calculate e^x.\n",
    "            funVal = 1+x+1/2*x**2 + 1/6*x**3 + 1/24*x**4 + 1/120*x**5+1/720*x**6+1/5040*x**7\n",
    "        area = area + funVal / numSamples * (stop - start)\n",
    "    print(\"the area between \", start, \" and \", stop, \" is \", area)"
   ]
  },
  {
   "cell_type": "code",
   "execution_count": 6,
   "id": "60aea0cd-8367-4202-8ce7-a381d626a646",
   "metadata": {},
   "outputs": [
    {
     "name": "stdout",
     "output_type": "stream",
     "text": [
      "the area between  0  and  1  is  -0.4593181760896061\n"
     ]
    }
   ],
   "source": [
    "#Okay, now I can run it:\n",
    "monteCarloSingle(10000, 's', 0, 1)"
   ]
  },
  {
   "cell_type": "markdown",
   "id": "3cb0d85f-d9c8-4cc1-928e-c751185a3268",
   "metadata": {},
   "source": [
    "Uh-oh. It's negative. There must be a bug somewhere in the code.\n",
    "But the integrator is one huge block of code;\n",
    "I have to analyze the whole thing at once. The problem may be in the Taylor\n",
    "series, it may be in the accumulation of the area, it could be anywhere."
   ]
  },
  {
   "cell_type": "code",
   "execution_count": 7,
   "id": "7ba18ed5-9c6d-47dc-b937-fba2dffce9dc",
   "metadata": {},
   "outputs": [],
   "source": [
    "#Now, we can decompose the program using functions:\n",
    "#First, the main controller:\n",
    "def monteCarloDecomposed(numSamples, fname, start, stop):\n",
    "    \"\"\"See monteCarloSingle\"\"\"\n",
    "    area = mcIntegrate(numSamples, fname, start, stop)\n",
    "    print(\"the area between \",start,\" and \", stop, \" is \",area)\n",
    "\n",
    "#Now, the integrator:\n",
    "def mcIntegrate(numSamples, fname, start, stop):\n",
    "    \"\"\"Actually runs the integration. Same as monteCarloSingle, but returns the area.\"\"\"\n",
    "    area = 0\n",
    "    for i in range(numSamples):\n",
    "        #First, get a random number in the desired range.\n",
    "        x = randomInRange(start, stop)\n",
    "        #then evaluate the function at that location\n",
    "        funVal = evaluateFunction(fname, x)\n",
    "        area = area + funVal / numSamples * (stop - start)\n",
    "    return area\n",
    "\n",
    "#Okay, so now I need to write randomInRange and evaluateFunction.\n",
    "def randomInRange(start, stop):\n",
    "    \"\"\"Returns a random number between start and stop.\"\"\"\n",
    "    randomNum = randint(0, 1000000)\n",
    "    retVal = randomNum / 1000000 * (start - stop) + start\n",
    "    return retVal\n",
    "\n",
    "def evaluateFunction(fname, x):\n",
    "    \"\"\"Uses a Taylor expansion to approximate f(x)\n",
    "\n",
    "    :param fname: A one-character code naming the function. Options are:\n",
    "         's', meaning sin(x)\n",
    "         'c', meaning cos(x)\n",
    "         'e', meaning e^x\n",
    "    :param x: The x coordinate you want to evaluate the function at.\n",
    "    :return: The value of f(x).\n",
    "    \"\"\"\n",
    "    if(fname == 's'): \n",
    "        funVal = x - 1/6*x**3 + 1/120*x**5 - 1/5040*x**7 + 1/362880*x**9\n",
    "    if(fname == 'c'): \n",
    "        funVal = 1-1/2*x**2 + 1/24*x**4 - 1/720*x**6+1/40320*x**8\n",
    "    if(fname == 'e'): \n",
    "        funVal = 1+x+1/2*x**2 + 1/6*x**3 + 1/24*x**4 + 1/120*x**5+1/720*x**6+1/5040*x**7\n",
    "    return funVal"
   ]
  },
  {
   "cell_type": "code",
   "execution_count": 8,
   "id": "266dc63f-fed6-4dba-8423-c22143f52eee",
   "metadata": {},
   "outputs": [
    {
     "name": "stdout",
     "output_type": "stream",
     "text": [
      "the area between  0  and  1  is  -0.46305714243895474\n"
     ]
    }
   ],
   "source": [
    "monteCarloDecomposed(10000, 's', 0,1)"
   ]
  },
  {
   "cell_type": "markdown",
   "id": "667a85ec-f24e-402e-935c-c8f4908c7a58",
   "metadata": {},
   "source": [
    "Okay, so the bug is still there. But I can play with the components to see\n",
    "which one has a bug. I think it's the Taylor expansion. $sin(0.5) = 0.479$, so let's test\n",
    "my implementation of `evaluateFunction`:"
   ]
  },
  {
   "cell_type": "code",
   "execution_count": 9,
   "id": "4d7cafbf-9cc1-4e3d-ab42-55d15ab0f6c2",
   "metadata": {},
   "outputs": [
    {
     "data": {
      "text/plain": [
       "0.4794255386164159"
      ]
     },
     "execution_count": 9,
     "metadata": {},
     "output_type": "execute_result"
    }
   ],
   "source": [
    "evaluateFunction('s', 0.5)"
   ]
  },
  {
   "cell_type": "markdown",
   "id": "79ba1a3d-fb3a-4625-8f90-59c7fd7a41ee",
   "metadata": {},
   "source": [
    "Okay, so the bug doesn't seem to be in `evaluateFunction`.\n",
    "Perhaps it's in `randomInRange`?"
   ]
  },
  {
   "cell_type": "code",
   "execution_count": 11,
   "id": "2c9150bf-2a20-4a82-8af0-43dc9ceb3c3a",
   "metadata": {},
   "outputs": [
    {
     "data": {
      "text/plain": [
       "-0.119604"
      ]
     },
     "execution_count": 11,
     "metadata": {},
     "output_type": "execute_result"
    }
   ],
   "source": [
    "randomInRange(0,1)"
   ]
  },
  {
   "cell_type": "markdown",
   "id": "9a9e0e0b-8fde-4b5e-8610-9d477354bd27",
   "metadata": {},
   "source": [
    "A-ha! I have now narrowed down the bug to one line of code. "
   ]
  },
  {
   "cell_type": "markdown",
   "id": "e7db9f03-b204-4e93-9188-06481124d3c0",
   "metadata": {},
   "source": [
    "## Exercises"
   ]
  },
  {
   "cell_type": "markdown",
   "id": "4b3ee4cd-1f63-41d3-a005-f12d62020fcf",
   "metadata": {},
   "source": [
    "1. Of the numbers 1 to 95 (including 95), which has the largest Collatz path?"
   ]
  },
  {
   "cell_type": "markdown",
   "id": "c8300b7d-fff1-4050-9386-efc9139cdad0",
   "metadata": {},
   "source": [
    "2. Fix the decomposed Monte-carlo integrator. "
   ]
  },
  {
   "cell_type": "markdown",
   "id": "cce19904-9d1c-4053-b8cb-b61f6ffb20ea",
   "metadata": {},
   "source": [
    "3. A ball is dropped from an initial height H0.\n",
    "Every time it bounces, it loses some energy. It bounces to 75% of its drop\n",
    "height on each bounce. How many bounces will it take for the bounce to be\n",
    "less than 1 mm if the ball is dropped from 2m?"
   ]
  },
  {
   "cell_type": "markdown",
   "id": "6bd88598-c2a0-449a-99d7-b328235fda74",
   "metadata": {},
   "source": [
    "4. Consider a bed file containing regions of interest in a genome.\n",
    "An analysis requires that regions within N bases of the edge of a\n",
    "chromosome be removed. You've been tasked with writing a function\n",
    "that does this. It should take the name of the input bed file as\n",
    "a string, the name of the output as a string, a name of a file containing\n",
    "chromosome size information as a string, and a number N giving the padding\n",
    "boundary.\n",
    "Write documentation for such a function.\n",
    "(You don't actually have to write the function, just the documentation.)"
   ]
  },
  {
   "cell_type": "markdown",
   "id": "8896551b-5ed0-4269-8996-3064c0fe1a7b",
   "metadata": {},
   "source": [
    "5. Given two strings of DNA, write a function that does the following:\n",
    "    1. Make sure that both strings are valid DNA.\n",
    "    2. Make sure they have the same length.\n",
    "    3. Calculate the number of letters that are different between them.\n",
    "   \n",
    "    The function should return the number of differences, or -1 if there was a problem with a or b.\n",
    "    (Incidentally, this metric is called the Hamming weight, and is used in\n",
    "    both bioinformatics and spell-checkers.)\n",
    "    Include documentation."
   ]
  },
  {
   "cell_type": "markdown",
   "id": "210dfbb8-29ea-49bd-92c2-e532c8e4019b",
   "metadata": {},
   "source": [
    "6. Write a function that determines if a sequence of DNA contains a start codon (`ATG`). It should return True or False. Include documentation."
   ]
  },
  {
   "cell_type": "markdown",
   "id": "26ca8b4e-23e3-44ab-bd9f-8bfdedfe6340",
   "metadata": {},
   "source": [
    "7. (This question is quite a bit tougher than the previous ones, and is optional.)\n",
    "\n",
    "Write a function that takes a string of DNA and searches it for potential ORFs.\n",
    "For this problem, an ORF is a string of DNA that starts with a start codon (`ATG`)\n",
    "and ends with a stop codon (`TAG`, `TGA`, or `TAA`) in the same frame, and that does not\n",
    "contain an in-frame stop codon other than at the end.\n",
    "It should print out all possible ORFs based on their start and stop coordinates.\n",
    "Include documentation with all of your functions.\n",
    "\n",
    "For example, the sequence \n",
    "```\n",
    "CCGCCGATGCCGCCGCCGTGACCTGAGTGATGCCGCTGACGTAA\n",
    "01234567890123456789012345678901234567890123\n",
    "```\n",
    "has three possible frames. I've marked the start (S) and stop (X) codons\n",
    "in these frames:\n",
    "```\n",
    "         S               X           X           X           \n",
    "CCG CCG ATG CCG CCG CCG TGA CCT GAG TGA TGC CGC TGA CGT AA\n",
    "                                X       S               X\n",
    "CC GCC GAT GCC GCC GCC GTG ACC TGA GTG ATG CCG CTG ACG TAA\n",
    "                                                                                                                      \n",
    "C CGC CGA TGC CGC CGC CGT GAC CTG AGT GAT GCC GCT GAC GTA A\n",
    "```\n",
    "\n",
    "The first two sequences contain possible ORFs. \n",
    "Your program should print the start and stop codon positions\n",
    "for these ORFs. For example,\n",
    "`locateORFs(\"CCGCCGATGCCGCCGCCGTGACCTGAGTGATGCCGCTGACGTAA\")`\n",
    "might print \n",
    "```\n",
    "6 18\n",
    "29 41\n",
    "```\n",
    "Where those numbers are the indexes of the start and stop codons.\n",
    "\n",
    "This is a TOUGH problem! I recommend you break it up into chunks,\n",
    "like maybe one function to break a string into codons, one to\n",
    "check to see if a string is a start (or stop) codon, and so on."
   ]
  }
 ],
 "metadata": {
  "kernelspec": {
   "display_name": "Python 3 (ipykernel)",
   "language": "python",
   "name": "python3"
  },
  "language_info": {
   "codemirror_mode": {
    "name": "ipython",
    "version": 3
   },
   "file_extension": ".py",
   "mimetype": "text/x-python",
   "name": "python",
   "nbconvert_exporter": "python",
   "pygments_lexer": "ipython3",
   "version": "3.12.10"
  }
 },
 "nbformat": 4,
 "nbformat_minor": 5
}
